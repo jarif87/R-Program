{
  "nbformat": 4,
  "nbformat_minor": 0,
  "metadata": {
    "colab": {
      "provenance": []
    },
    "kernelspec": {
      "name": "ir",
      "display_name": "R"
    },
    "language_info": {
      "name": "R"
    }
  },
  "cells": [
    {
      "cell_type": "code",
      "execution_count": 1,
      "metadata": {
        "colab": {
          "base_uri": "https://localhost:8080/"
        },
        "id": "o92OZugZHYUU",
        "outputId": "c58c33af-bad7-40a2-c00b-f766f5230451"
      },
      "outputs": [
        {
          "output_type": "stream",
          "name": "stderr",
          "text": [
            "Installing package into ‘/usr/local/lib/R/site-library’\n",
            "(as ‘lib’ is unspecified)\n",
            "\n",
            "also installing the dependencies ‘triebeard’, ‘lazyeval’, ‘urltools’\n",
            "\n",
            "\n",
            "Installing package into ‘/usr/local/lib/R/site-library’\n",
            "(as ‘lib’ is unspecified)\n",
            "\n",
            "Installing package into ‘/usr/local/lib/R/site-library’\n",
            "(as ‘lib’ is unspecified)\n",
            "\n",
            "Installing package into ‘/usr/local/lib/R/site-library’\n",
            "(as ‘lib’ is unspecified)\n",
            "\n",
            "also installing the dependencies ‘SnowballC’, ‘janeaustenr’, ‘tokenizers’\n",
            "\n",
            "\n",
            "Installing package into ‘/usr/local/lib/R/site-library’\n",
            "(as ‘lib’ is unspecified)\n",
            "\n",
            "Installing package into ‘/usr/local/lib/R/site-library’\n",
            "(as ‘lib’ is unspecified)\n",
            "\n",
            "also installing the dependencies ‘R.oo’, ‘R.methodsS3’, ‘writexl’, ‘R.utils’\n",
            "\n",
            "\n",
            "\n",
            "Attaching package: ‘dplyr’\n",
            "\n",
            "\n",
            "The following objects are masked from ‘package:stats’:\n",
            "\n",
            "    filter, lag\n",
            "\n",
            "\n",
            "The following objects are masked from ‘package:base’:\n",
            "\n",
            "    intersect, setdiff, setequal, union\n",
            "\n",
            "\n",
            "── \u001b[1mAttaching core tidyverse packages\u001b[22m ──────────────────────── tidyverse 2.0.0 ──\n",
            "\u001b[32m✔\u001b[39m \u001b[34mforcats  \u001b[39m 1.0.0     \u001b[32m✔\u001b[39m \u001b[34mreadr    \u001b[39m 2.1.5\n",
            "\u001b[32m✔\u001b[39m \u001b[34mggplot2  \u001b[39m 3.5.2     \u001b[32m✔\u001b[39m \u001b[34mstringr  \u001b[39m 1.5.1\n",
            "\u001b[32m✔\u001b[39m \u001b[34mlubridate\u001b[39m 1.9.4     \u001b[32m✔\u001b[39m \u001b[34mtibble   \u001b[39m 3.2.1\n",
            "\u001b[32m✔\u001b[39m \u001b[34mpurrr    \u001b[39m 1.0.4     \u001b[32m✔\u001b[39m \u001b[34mtidyr    \u001b[39m 1.3.1\n",
            "── \u001b[1mConflicts\u001b[22m ────────────────────────────────────────── tidyverse_conflicts() ──\n",
            "\u001b[31m✖\u001b[39m \u001b[34mtidyr\u001b[39m::\u001b[32mextract()\u001b[39m   masks \u001b[34mmagrittr\u001b[39m::extract()\n",
            "\u001b[31m✖\u001b[39m \u001b[34mdplyr\u001b[39m::\u001b[32mfilter()\u001b[39m    masks \u001b[34mstats\u001b[39m::filter()\n",
            "\u001b[31m✖\u001b[39m \u001b[34mdplyr\u001b[39m::\u001b[32mlag()\u001b[39m       masks \u001b[34mstats\u001b[39m::lag()\n",
            "\u001b[31m✖\u001b[39m \u001b[34mpurrr\u001b[39m::\u001b[32mset_names()\u001b[39m masks \u001b[34mmagrittr\u001b[39m::set_names()\n",
            "\u001b[36mℹ\u001b[39m Use the conflicted package (\u001b[3m\u001b[34m<http://conflicted.r-lib.org/>\u001b[39m\u001b[23m) to force all conflicts to become errors\n"
          ]
        }
      ],
      "source": [
        "install.packages(\"gutenbergr\")\n",
        "install.packages(\"tidyverse\")\n",
        "install.packages(\"dplyr\")\n",
        "install.packages(\"tidytext\")\n",
        "install.packages(\"magrittr\")\n",
        "install.packages(\"rio\")\n",
        "\n",
        "library(magrittr)\n",
        "library(dplyr)\n",
        "library(tidytext)\n",
        "library(rio)\n",
        "library(gutenbergr)\n",
        "library(tidyverse)"
      ]
    },
    {
      "cell_type": "code",
      "source": [
        "df<-import(\"/content/Iliad.txt\")%>%as_tibble()"
      ],
      "metadata": {
        "id": "Envkb11DHcQ0"
      },
      "execution_count": 2,
      "outputs": []
    },
    {
      "cell_type": "code",
      "source": [
        "head(df,5)"
      ],
      "metadata": {
        "colab": {
          "base_uri": "https://localhost:8080/",
          "height": 255
        },
        "id": "PkdsreJWHcT4",
        "outputId": "9edcda23-1806-4ca8-ad9e-b8b729932830"
      },
      "execution_count": 4,
      "outputs": [
        {
          "output_type": "display_data",
          "data": {
            "text/html": [
              "<table class=\"dataframe\">\n",
              "<caption>A tibble: 5 × 2</caption>\n",
              "<thead>\n",
              "\t<tr><th scope=col>gutenberg_id</th><th scope=col>text</th></tr>\n",
              "\t<tr><th scope=col>&lt;int&gt;</th><th scope=col>&lt;chr&gt;</th></tr>\n",
              "</thead>\n",
              "<tbody>\n",
              "\t<tr><td>6150</td><td>THE ILIAD OF HOMER                </td></tr>\n",
              "\t<tr><td>6150</td><td>                                  </td></tr>\n",
              "\t<tr><td>6150</td><td>RENDERED INTO ENGLISH BLANK VERSE.</td></tr>\n",
              "\t<tr><td>6150</td><td>BY                                </td></tr>\n",
              "\t<tr><td>6150</td><td>                                  </td></tr>\n",
              "</tbody>\n",
              "</table>\n"
            ],
            "text/markdown": "\nA tibble: 5 × 2\n\n| gutenberg_id &lt;int&gt; | text &lt;chr&gt; |\n|---|---|\n| 6150 | THE ILIAD OF HOMER                 |\n| 6150 | <!----> |\n| 6150 | RENDERED INTO ENGLISH BLANK VERSE. |\n| 6150 | BY                                 |\n| 6150 | <!----> |\n\n",
            "text/latex": "A tibble: 5 × 2\n\\begin{tabular}{ll}\n gutenberg\\_id & text\\\\\n <int> & <chr>\\\\\n\\hline\n\t 6150 & THE ILIAD OF HOMER                \\\\\n\t 6150 &                                   \\\\\n\t 6150 & RENDERED INTO ENGLISH BLANK VERSE.\\\\\n\t 6150 & BY                                \\\\\n\t 6150 &                                   \\\\\n\\end{tabular}\n",
            "text/plain": [
              "  gutenberg_id text                              \n",
              "1 6150         THE ILIAD OF HOMER                \n",
              "2 6150                                           \n",
              "3 6150         RENDERED INTO ENGLISH BLANK VERSE.\n",
              "4 6150         BY                                \n",
              "5 6150                                           "
            ]
          },
          "metadata": {}
        }
      ]
    },
    {
      "cell_type": "code",
      "source": [
        "df%<>%select(text)%>%unnest_tokens(word,text)"
      ],
      "metadata": {
        "id": "iTErlhJeHcW-"
      },
      "execution_count": 5,
      "outputs": []
    },
    {
      "cell_type": "code",
      "source": [
        "# See the tokens/words by frequency\n",
        "df %>% count(word, sort = TRUE)"
      ],
      "metadata": {
        "colab": {
          "base_uri": "https://localhost:8080/",
          "height": 1000
        },
        "id": "aT76Zk5JHcaJ",
        "outputId": "1329abe0-6726-4711-f5e1-97f2debd07e0"
      },
      "execution_count": 6,
      "outputs": [
        {
          "output_type": "display_data",
          "data": {
            "text/html": [
              "<table class=\"dataframe\">\n",
              "<caption>A tibble: 9344 × 2</caption>\n",
              "<thead>\n",
              "\t<tr><th scope=col>word</th><th scope=col>n</th></tr>\n",
              "\t<tr><th scope=col>&lt;chr&gt;</th><th scope=col>&lt;int&gt;</th></tr>\n",
              "</thead>\n",
              "<tbody>\n",
              "\t<tr><td>the   </td><td>9901</td></tr>\n",
              "\t<tr><td>and   </td><td>5541</td></tr>\n",
              "\t<tr><td>of    </td><td>3947</td></tr>\n",
              "\t<tr><td>to    </td><td>3558</td></tr>\n",
              "\t<tr><td>his   </td><td>2840</td></tr>\n",
              "\t<tr><td>in    </td><td>2409</td></tr>\n",
              "\t<tr><td>he    </td><td>2017</td></tr>\n",
              "\t<tr><td>with  </td><td>1947</td></tr>\n",
              "\t<tr><td>from  </td><td>1256</td></tr>\n",
              "\t<tr><td>a     </td><td>1247</td></tr>\n",
              "\t<tr><td>by    </td><td>1107</td></tr>\n",
              "\t<tr><td>on    </td><td>1097</td></tr>\n",
              "\t<tr><td>but   </td><td>1093</td></tr>\n",
              "\t<tr><td>i     </td><td>1031</td></tr>\n",
              "\t<tr><td>for   </td><td> 932</td></tr>\n",
              "\t<tr><td>their </td><td> 905</td></tr>\n",
              "\t<tr><td>all   </td><td> 882</td></tr>\n",
              "\t<tr><td>as    </td><td> 877</td></tr>\n",
              "\t<tr><td>son   </td><td> 867</td></tr>\n",
              "\t<tr><td>my    </td><td> 822</td></tr>\n",
              "\t<tr><td>him   </td><td> 811</td></tr>\n",
              "\t<tr><td>they  </td><td> 772</td></tr>\n",
              "\t<tr><td>thou  </td><td> 756</td></tr>\n",
              "\t<tr><td>that  </td><td> 752</td></tr>\n",
              "\t<tr><td>then  </td><td> 731</td></tr>\n",
              "\t<tr><td>thus  </td><td> 731</td></tr>\n",
              "\t<tr><td>thy   </td><td> 688</td></tr>\n",
              "\t<tr><td>not   </td><td> 661</td></tr>\n",
              "\t<tr><td>who   </td><td> 590</td></tr>\n",
              "\t<tr><td>greeks</td><td> 529</td></tr>\n",
              "\t<tr><td>⋮</td><td>⋮</td></tr>\n",
              "\t<tr><td>wretches  </td><td>1</td></tr>\n",
              "\t<tr><td>wriggling </td><td>1</td></tr>\n",
              "\t<tr><td>wrings    </td><td>1</td></tr>\n",
              "\t<tr><td>wrinkled  </td><td>1</td></tr>\n",
              "\t<tr><td>wrinkles  </td><td>1</td></tr>\n",
              "\t<tr><td>x         </td><td>1</td></tr>\n",
              "\t<tr><td>xi        </td><td>1</td></tr>\n",
              "\t<tr><td>xii       </td><td>1</td></tr>\n",
              "\t<tr><td>xix       </td><td>1</td></tr>\n",
              "\t<tr><td>xv        </td><td>1</td></tr>\n",
              "\t<tr><td>xvi       </td><td>1</td></tr>\n",
              "\t<tr><td>xvii      </td><td>1</td></tr>\n",
              "\t<tr><td>xviii     </td><td>1</td></tr>\n",
              "\t<tr><td>xx        </td><td>1</td></tr>\n",
              "\t<tr><td>xxi       </td><td>1</td></tr>\n",
              "\t<tr><td>xxiii     </td><td>1</td></tr>\n",
              "\t<tr><td>xxiv      </td><td>1</td></tr>\n",
              "\t<tr><td>yearning  </td><td>1</td></tr>\n",
              "\t<tr><td>yell'd    </td><td>1</td></tr>\n",
              "\t<tr><td>yells     </td><td>1</td></tr>\n",
              "\t<tr><td>yes       </td><td>1</td></tr>\n",
              "\t<tr><td>yestermorn</td><td>1</td></tr>\n",
              "\t<tr><td>yokeband  </td><td>1</td></tr>\n",
              "\t<tr><td>yokefellow</td><td>1</td></tr>\n",
              "\t<tr><td>youth's   </td><td>1</td></tr>\n",
              "\t<tr><td>zacynthus </td><td>1</td></tr>\n",
              "\t<tr><td>zealous   </td><td>1</td></tr>\n",
              "\t<tr><td>zeleia    </td><td>1</td></tr>\n",
              "\t<tr><td>zeus      </td><td>1</td></tr>\n",
              "\t<tr><td>zone      </td><td>1</td></tr>\n",
              "</tbody>\n",
              "</table>\n"
            ],
            "text/markdown": "\nA tibble: 9344 × 2\n\n| word &lt;chr&gt; | n &lt;int&gt; |\n|---|---|\n| the    | 9901 |\n| and    | 5541 |\n| of     | 3947 |\n| to     | 3558 |\n| his    | 2840 |\n| in     | 2409 |\n| he     | 2017 |\n| with   | 1947 |\n| from   | 1256 |\n| a      | 1247 |\n| by     | 1107 |\n| on     | 1097 |\n| but    | 1093 |\n| i      | 1031 |\n| for    |  932 |\n| their  |  905 |\n| all    |  882 |\n| as     |  877 |\n| son    |  867 |\n| my     |  822 |\n| him    |  811 |\n| they   |  772 |\n| thou   |  756 |\n| that   |  752 |\n| then   |  731 |\n| thus   |  731 |\n| thy    |  688 |\n| not    |  661 |\n| who    |  590 |\n| greeks |  529 |\n| ⋮ | ⋮ |\n| wretches   | 1 |\n| wriggling  | 1 |\n| wrings     | 1 |\n| wrinkled   | 1 |\n| wrinkles   | 1 |\n| x          | 1 |\n| xi         | 1 |\n| xii        | 1 |\n| xix        | 1 |\n| xv         | 1 |\n| xvi        | 1 |\n| xvii       | 1 |\n| xviii      | 1 |\n| xx         | 1 |\n| xxi        | 1 |\n| xxiii      | 1 |\n| xxiv       | 1 |\n| yearning   | 1 |\n| yell'd     | 1 |\n| yells      | 1 |\n| yes        | 1 |\n| yestermorn | 1 |\n| yokeband   | 1 |\n| yokefellow | 1 |\n| youth's    | 1 |\n| zacynthus  | 1 |\n| zealous    | 1 |\n| zeleia     | 1 |\n| zeus       | 1 |\n| zone       | 1 |\n\n",
            "text/latex": "A tibble: 9344 × 2\n\\begin{tabular}{ll}\n word & n\\\\\n <chr> & <int>\\\\\n\\hline\n\t the    & 9901\\\\\n\t and    & 5541\\\\\n\t of     & 3947\\\\\n\t to     & 3558\\\\\n\t his    & 2840\\\\\n\t in     & 2409\\\\\n\t he     & 2017\\\\\n\t with   & 1947\\\\\n\t from   & 1256\\\\\n\t a      & 1247\\\\\n\t by     & 1107\\\\\n\t on     & 1097\\\\\n\t but    & 1093\\\\\n\t i      & 1031\\\\\n\t for    &  932\\\\\n\t their  &  905\\\\\n\t all    &  882\\\\\n\t as     &  877\\\\\n\t son    &  867\\\\\n\t my     &  822\\\\\n\t him    &  811\\\\\n\t they   &  772\\\\\n\t thou   &  756\\\\\n\t that   &  752\\\\\n\t then   &  731\\\\\n\t thus   &  731\\\\\n\t thy    &  688\\\\\n\t not    &  661\\\\\n\t who    &  590\\\\\n\t greeks &  529\\\\\n\t ⋮ & ⋮\\\\\n\t wretches   & 1\\\\\n\t wriggling  & 1\\\\\n\t wrings     & 1\\\\\n\t wrinkled   & 1\\\\\n\t wrinkles   & 1\\\\\n\t x          & 1\\\\\n\t xi         & 1\\\\\n\t xii        & 1\\\\\n\t xix        & 1\\\\\n\t xv         & 1\\\\\n\t xvi        & 1\\\\\n\t xvii       & 1\\\\\n\t xviii      & 1\\\\\n\t xx         & 1\\\\\n\t xxi        & 1\\\\\n\t xxiii      & 1\\\\\n\t xxiv       & 1\\\\\n\t yearning   & 1\\\\\n\t yell'd     & 1\\\\\n\t yells      & 1\\\\\n\t yes        & 1\\\\\n\t yestermorn & 1\\\\\n\t yokeband   & 1\\\\\n\t yokefellow & 1\\\\\n\t youth's    & 1\\\\\n\t zacynthus  & 1\\\\\n\t zealous    & 1\\\\\n\t zeleia     & 1\\\\\n\t zeus       & 1\\\\\n\t zone       & 1\\\\\n\\end{tabular}\n",
            "text/plain": [
              "     word       n   \n",
              "1    the        9901\n",
              "2    and        5541\n",
              "3    of         3947\n",
              "4    to         3558\n",
              "5    his        2840\n",
              "6    in         2409\n",
              "7    he         2017\n",
              "8    with       1947\n",
              "9    from       1256\n",
              "10   a          1247\n",
              "11   by         1107\n",
              "12   on         1097\n",
              "13   but        1093\n",
              "14   i          1031\n",
              "15   for         932\n",
              "16   their       905\n",
              "17   all         882\n",
              "18   as          877\n",
              "19   son         867\n",
              "20   my          822\n",
              "21   him         811\n",
              "22   they        772\n",
              "23   thou        756\n",
              "24   that        752\n",
              "25   then        731\n",
              "26   thus        731\n",
              "27   thy         688\n",
              "28   not         661\n",
              "29   who         590\n",
              "30   greeks      529\n",
              "⋮    ⋮          ⋮   \n",
              "9315 wretches   1   \n",
              "9316 wriggling  1   \n",
              "9317 wrings     1   \n",
              "9318 wrinkled   1   \n",
              "9319 wrinkles   1   \n",
              "9320 x          1   \n",
              "9321 xi         1   \n",
              "9322 xii        1   \n",
              "9323 xix        1   \n",
              "9324 xv         1   \n",
              "9325 xvi        1   \n",
              "9326 xvii       1   \n",
              "9327 xviii      1   \n",
              "9328 xx         1   \n",
              "9329 xxi        1   \n",
              "9330 xxiii      1   \n",
              "9331 xxiv       1   \n",
              "9332 yearning   1   \n",
              "9333 yell'd     1   \n",
              "9334 yells      1   \n",
              "9335 yes        1   \n",
              "9336 yestermorn 1   \n",
              "9337 yokeband   1   \n",
              "9338 yokefellow 1   \n",
              "9339 youth's    1   \n",
              "9340 zacynthus  1   \n",
              "9341 zealous    1   \n",
              "9342 zeleia     1   \n",
              "9343 zeus       1   \n",
              "9344 zone       1   "
            ]
          },
          "metadata": {}
        }
      ]
    },
    {
      "cell_type": "code",
      "source": [
        "# Remove \"stop words\" like \"the,\" \"to,\" \"a,\" and so on.\n",
        "df %<>% anti_join(stop_words)"
      ],
      "metadata": {
        "colab": {
          "base_uri": "https://localhost:8080/"
        },
        "id": "t8BI6wNnHcdW",
        "outputId": "6b756471-31d6-4b08-a58a-80baa1001acd"
      },
      "execution_count": 7,
      "outputs": [
        {
          "output_type": "stream",
          "name": "stderr",
          "text": [
            "\u001b[1m\u001b[22mJoining with `by = join_by(word)`\n"
          ]
        }
      ]
    },
    {
      "cell_type": "code",
      "source": [
        "# See the revised tokens/words by frequency\n",
        "df %>% count(word, sort = TRUE)"
      ],
      "metadata": {
        "colab": {
          "base_uri": "https://localhost:8080/",
          "height": 1000
        },
        "id": "REAS1Fb2Hcgw",
        "outputId": "2b66cc7e-3aa3-492b-9391-da60f09955c4"
      },
      "execution_count": 8,
      "outputs": [
        {
          "output_type": "display_data",
          "data": {
            "text/html": [
              "<table class=\"dataframe\">\n",
              "<caption>A tibble: 8884 × 2</caption>\n",
              "<thead>\n",
              "\t<tr><th scope=col>word</th><th scope=col>n</th></tr>\n",
              "\t<tr><th scope=col>&lt;chr&gt;</th><th scope=col>&lt;int&gt;</th></tr>\n",
              "</thead>\n",
              "<tbody>\n",
              "\t<tr><td>son      </td><td>867</td></tr>\n",
              "\t<tr><td>thou     </td><td>756</td></tr>\n",
              "\t<tr><td>thy      </td><td>688</td></tr>\n",
              "\t<tr><td>greeks   </td><td>529</td></tr>\n",
              "\t<tr><td>achilles </td><td>445</td></tr>\n",
              "\t<tr><td>hector   </td><td>429</td></tr>\n",
              "\t<tr><td>ships    </td><td>422</td></tr>\n",
              "\t<tr><td>thee     </td><td>421</td></tr>\n",
              "\t<tr><td>jove     </td><td>392</td></tr>\n",
              "\t<tr><td>hand     </td><td>387</td></tr>\n",
              "\t<tr><td>spear    </td><td>351</td></tr>\n",
              "\t<tr><td>trojans  </td><td>343</td></tr>\n",
              "\t<tr><td>o'er     </td><td>298</td></tr>\n",
              "\t<tr><td>gods     </td><td>272</td></tr>\n",
              "\t<tr><td>fight    </td><td>268</td></tr>\n",
              "\t<tr><td>troy     </td><td>250</td></tr>\n",
              "\t<tr><td>arms     </td><td>248</td></tr>\n",
              "\t<tr><td>death    </td><td>236</td></tr>\n",
              "\t<tr><td>ye       </td><td>236</td></tr>\n",
              "\t<tr><td>words    </td><td>234</td></tr>\n",
              "\t<tr><td>stood    </td><td>225</td></tr>\n",
              "\t<tr><td>war      </td><td>213</td></tr>\n",
              "\t<tr><td>hath     </td><td>205</td></tr>\n",
              "\t<tr><td>heav'n   </td><td>202</td></tr>\n",
              "\t<tr><td>battle   </td><td>200</td></tr>\n",
              "\t<tr><td>car      </td><td>188</td></tr>\n",
              "\t<tr><td>patroclus</td><td>185</td></tr>\n",
              "\t<tr><td>spoke    </td><td>172</td></tr>\n",
              "\t<tr><td>horses   </td><td>170</td></tr>\n",
              "\t<tr><td>ajax     </td><td>168</td></tr>\n",
              "\t<tr><td>⋮</td><td>⋮</td></tr>\n",
              "\t<tr><td>wrestlers </td><td>1</td></tr>\n",
              "\t<tr><td>wrests    </td><td>1</td></tr>\n",
              "\t<tr><td>wretches  </td><td>1</td></tr>\n",
              "\t<tr><td>wriggling </td><td>1</td></tr>\n",
              "\t<tr><td>wrings    </td><td>1</td></tr>\n",
              "\t<tr><td>wrinkled  </td><td>1</td></tr>\n",
              "\t<tr><td>wrinkles  </td><td>1</td></tr>\n",
              "\t<tr><td>xi        </td><td>1</td></tr>\n",
              "\t<tr><td>xii       </td><td>1</td></tr>\n",
              "\t<tr><td>xix       </td><td>1</td></tr>\n",
              "\t<tr><td>xv        </td><td>1</td></tr>\n",
              "\t<tr><td>xvi       </td><td>1</td></tr>\n",
              "\t<tr><td>xvii      </td><td>1</td></tr>\n",
              "\t<tr><td>xviii     </td><td>1</td></tr>\n",
              "\t<tr><td>xx        </td><td>1</td></tr>\n",
              "\t<tr><td>xxi       </td><td>1</td></tr>\n",
              "\t<tr><td>xxiii     </td><td>1</td></tr>\n",
              "\t<tr><td>xxiv      </td><td>1</td></tr>\n",
              "\t<tr><td>yearning  </td><td>1</td></tr>\n",
              "\t<tr><td>yell'd    </td><td>1</td></tr>\n",
              "\t<tr><td>yells     </td><td>1</td></tr>\n",
              "\t<tr><td>yestermorn</td><td>1</td></tr>\n",
              "\t<tr><td>yokeband  </td><td>1</td></tr>\n",
              "\t<tr><td>yokefellow</td><td>1</td></tr>\n",
              "\t<tr><td>youth's   </td><td>1</td></tr>\n",
              "\t<tr><td>zacynthus </td><td>1</td></tr>\n",
              "\t<tr><td>zealous   </td><td>1</td></tr>\n",
              "\t<tr><td>zeleia    </td><td>1</td></tr>\n",
              "\t<tr><td>zeus      </td><td>1</td></tr>\n",
              "\t<tr><td>zone      </td><td>1</td></tr>\n",
              "</tbody>\n",
              "</table>\n"
            ],
            "text/markdown": "\nA tibble: 8884 × 2\n\n| word &lt;chr&gt; | n &lt;int&gt; |\n|---|---|\n| son       | 867 |\n| thou      | 756 |\n| thy       | 688 |\n| greeks    | 529 |\n| achilles  | 445 |\n| hector    | 429 |\n| ships     | 422 |\n| thee      | 421 |\n| jove      | 392 |\n| hand      | 387 |\n| spear     | 351 |\n| trojans   | 343 |\n| o'er      | 298 |\n| gods      | 272 |\n| fight     | 268 |\n| troy      | 250 |\n| arms      | 248 |\n| death     | 236 |\n| ye        | 236 |\n| words     | 234 |\n| stood     | 225 |\n| war       | 213 |\n| hath      | 205 |\n| heav'n    | 202 |\n| battle    | 200 |\n| car       | 188 |\n| patroclus | 185 |\n| spoke     | 172 |\n| horses    | 170 |\n| ajax      | 168 |\n| ⋮ | ⋮ |\n| wrestlers  | 1 |\n| wrests     | 1 |\n| wretches   | 1 |\n| wriggling  | 1 |\n| wrings     | 1 |\n| wrinkled   | 1 |\n| wrinkles   | 1 |\n| xi         | 1 |\n| xii        | 1 |\n| xix        | 1 |\n| xv         | 1 |\n| xvi        | 1 |\n| xvii       | 1 |\n| xviii      | 1 |\n| xx         | 1 |\n| xxi        | 1 |\n| xxiii      | 1 |\n| xxiv       | 1 |\n| yearning   | 1 |\n| yell'd     | 1 |\n| yells      | 1 |\n| yestermorn | 1 |\n| yokeband   | 1 |\n| yokefellow | 1 |\n| youth's    | 1 |\n| zacynthus  | 1 |\n| zealous    | 1 |\n| zeleia     | 1 |\n| zeus       | 1 |\n| zone       | 1 |\n\n",
            "text/latex": "A tibble: 8884 × 2\n\\begin{tabular}{ll}\n word & n\\\\\n <chr> & <int>\\\\\n\\hline\n\t son       & 867\\\\\n\t thou      & 756\\\\\n\t thy       & 688\\\\\n\t greeks    & 529\\\\\n\t achilles  & 445\\\\\n\t hector    & 429\\\\\n\t ships     & 422\\\\\n\t thee      & 421\\\\\n\t jove      & 392\\\\\n\t hand      & 387\\\\\n\t spear     & 351\\\\\n\t trojans   & 343\\\\\n\t o'er      & 298\\\\\n\t gods      & 272\\\\\n\t fight     & 268\\\\\n\t troy      & 250\\\\\n\t arms      & 248\\\\\n\t death     & 236\\\\\n\t ye        & 236\\\\\n\t words     & 234\\\\\n\t stood     & 225\\\\\n\t war       & 213\\\\\n\t hath      & 205\\\\\n\t heav'n    & 202\\\\\n\t battle    & 200\\\\\n\t car       & 188\\\\\n\t patroclus & 185\\\\\n\t spoke     & 172\\\\\n\t horses    & 170\\\\\n\t ajax      & 168\\\\\n\t ⋮ & ⋮\\\\\n\t wrestlers  & 1\\\\\n\t wrests     & 1\\\\\n\t wretches   & 1\\\\\n\t wriggling  & 1\\\\\n\t wrings     & 1\\\\\n\t wrinkled   & 1\\\\\n\t wrinkles   & 1\\\\\n\t xi         & 1\\\\\n\t xii        & 1\\\\\n\t xix        & 1\\\\\n\t xv         & 1\\\\\n\t xvi        & 1\\\\\n\t xvii       & 1\\\\\n\t xviii      & 1\\\\\n\t xx         & 1\\\\\n\t xxi        & 1\\\\\n\t xxiii      & 1\\\\\n\t xxiv       & 1\\\\\n\t yearning   & 1\\\\\n\t yell'd     & 1\\\\\n\t yells      & 1\\\\\n\t yestermorn & 1\\\\\n\t yokeband   & 1\\\\\n\t yokefellow & 1\\\\\n\t youth's    & 1\\\\\n\t zacynthus  & 1\\\\\n\t zealous    & 1\\\\\n\t zeleia     & 1\\\\\n\t zeus       & 1\\\\\n\t zone       & 1\\\\\n\\end{tabular}\n",
            "text/plain": [
              "     word       n  \n",
              "1    son        867\n",
              "2    thou       756\n",
              "3    thy        688\n",
              "4    greeks     529\n",
              "5    achilles   445\n",
              "6    hector     429\n",
              "7    ships      422\n",
              "8    thee       421\n",
              "9    jove       392\n",
              "10   hand       387\n",
              "11   spear      351\n",
              "12   trojans    343\n",
              "13   o'er       298\n",
              "14   gods       272\n",
              "15   fight      268\n",
              "16   troy       250\n",
              "17   arms       248\n",
              "18   death      236\n",
              "19   ye         236\n",
              "20   words      234\n",
              "21   stood      225\n",
              "22   war        213\n",
              "23   hath       205\n",
              "24   heav'n     202\n",
              "25   battle     200\n",
              "26   car        188\n",
              "27   patroclus  185\n",
              "28   spoke      172\n",
              "29   horses     170\n",
              "30   ajax       168\n",
              "⋮    ⋮          ⋮  \n",
              "8855 wrestlers  1  \n",
              "8856 wrests     1  \n",
              "8857 wretches   1  \n",
              "8858 wriggling  1  \n",
              "8859 wrings     1  \n",
              "8860 wrinkled   1  \n",
              "8861 wrinkles   1  \n",
              "8862 xi         1  \n",
              "8863 xii        1  \n",
              "8864 xix        1  \n",
              "8865 xv         1  \n",
              "8866 xvi        1  \n",
              "8867 xvii       1  \n",
              "8868 xviii      1  \n",
              "8869 xx         1  \n",
              "8870 xxi        1  \n",
              "8871 xxiii      1  \n",
              "8872 xxiv       1  \n",
              "8873 yearning   1  \n",
              "8874 yell'd     1  \n",
              "8875 yells      1  \n",
              "8876 yestermorn 1  \n",
              "8877 yokeband   1  \n",
              "8878 yokefellow 1  \n",
              "8879 youth's    1  \n",
              "8880 zacynthus  1  \n",
              "8881 zealous    1  \n",
              "8882 zeleia     1  \n",
              "8883 zeus       1  \n",
              "8884 zone       1  "
            ]
          },
          "metadata": {}
        }
      ]
    },
    {
      "cell_type": "code",
      "source": [
        "df%>%inner_join(get_sentiments(\"bing\"))"
      ],
      "metadata": {
        "colab": {
          "base_uri": "https://localhost:8080/",
          "height": 1000
        },
        "id": "tkvVRaz8Hcpl",
        "outputId": "e3fcf896-4300-4b78-dfdb-e80685b98af6"
      },
      "execution_count": 9,
      "outputs": [
        {
          "output_type": "stream",
          "name": "stderr",
          "text": [
            "\u001b[1m\u001b[22mJoining with `by = join_by(word)`\n"
          ]
        },
        {
          "output_type": "display_data",
          "data": {
            "text/html": [
              "<table class=\"dataframe\">\n",
              "<caption>A tibble: 10592 × 2</caption>\n",
              "<thead>\n",
              "\t<tr><th scope=col>word</th><th scope=col>sentiment</th></tr>\n",
              "\t<tr><th scope=col>&lt;chr&gt;</th><th scope=col>&lt;chr&gt;</th></tr>\n",
              "</thead>\n",
              "<tbody>\n",
              "\t<tr><td>modern      </td><td>positive</td></tr>\n",
              "\t<tr><td>success     </td><td>positive</td></tr>\n",
              "\t<tr><td>sufficiently</td><td>positive</td></tr>\n",
              "\t<tr><td>encourage   </td><td>positive</td></tr>\n",
              "\t<tr><td>urgent      </td><td>negative</td></tr>\n",
              "\t<tr><td>regret      </td><td>negative</td></tr>\n",
              "\t<tr><td>sincere     </td><td>positive</td></tr>\n",
              "\t<tr><td>diffidence  </td><td>negative</td></tr>\n",
              "\t<tr><td>success     </td><td>positive</td></tr>\n",
              "\t<tr><td>ordeal      </td><td>negative</td></tr>\n",
              "\t<tr><td>criticism   </td><td>negative</td></tr>\n",
              "\t<tr><td>forbid      </td><td>negative</td></tr>\n",
              "\t<tr><td>fear        </td><td>negative</td></tr>\n",
              "\t<tr><td>decline     </td><td>negative</td></tr>\n",
              "\t<tr><td>enjoy       </td><td>positive</td></tr>\n",
              "\t<tr><td>prefer      </td><td>positive</td></tr>\n",
              "\t<tr><td>harmonious  </td><td>positive</td></tr>\n",
              "\t<tr><td>polished    </td><td>positive</td></tr>\n",
              "\t<tr><td>happy       </td><td>positive</td></tr>\n",
              "\t<tr><td>admirable   </td><td>positive</td></tr>\n",
              "\t<tr><td>lost        </td><td>negative</td></tr>\n",
              "\t<tr><td>succeeded   </td><td>positive</td></tr>\n",
              "\t<tr><td>faint       </td><td>negative</td></tr>\n",
              "\t<tr><td>delighted   </td><td>positive</td></tr>\n",
              "\t<tr><td>partisans   </td><td>negative</td></tr>\n",
              "\t<tr><td>pestilent   </td><td>negative</td></tr>\n",
              "\t<tr><td>heresy      </td><td>negative</td></tr>\n",
              "\t<tr><td>repugnant   </td><td>negative</td></tr>\n",
              "\t<tr><td>genius      </td><td>positive</td></tr>\n",
              "\t<tr><td>violation   </td><td>negative</td></tr>\n",
              "\t<tr><td>⋮</td><td>⋮</td></tr>\n",
              "\t<tr><td>anger      </td><td>negative</td></tr>\n",
              "\t<tr><td>champion   </td><td>positive</td></tr>\n",
              "\t<tr><td>paradise   </td><td>positive</td></tr>\n",
              "\t<tr><td>lost       </td><td>negative</td></tr>\n",
              "\t<tr><td>fiend      </td><td>negative</td></tr>\n",
              "\t<tr><td>afford     </td><td>positive</td></tr>\n",
              "\t<tr><td>accurate   </td><td>positive</td></tr>\n",
              "\t<tr><td>faster     </td><td>positive</td></tr>\n",
              "\t<tr><td>outstrip   </td><td>positive</td></tr>\n",
              "\t<tr><td>slower     </td><td>negative</td></tr>\n",
              "\t<tr><td>oversight  </td><td>negative</td></tr>\n",
              "\t<tr><td>killed     </td><td>negative</td></tr>\n",
              "\t<tr><td>death      </td><td>negative</td></tr>\n",
              "\t<tr><td>liberty    </td><td>positive</td></tr>\n",
              "\t<tr><td>permissible</td><td>positive</td></tr>\n",
              "\t<tr><td>fallen     </td><td>negative</td></tr>\n",
              "\t<tr><td>error      </td><td>negative</td></tr>\n",
              "\t<tr><td>death      </td><td>negative</td></tr>\n",
              "\t<tr><td>coarse     </td><td>negative</td></tr>\n",
              "\t<tr><td>assure     </td><td>positive</td></tr>\n",
              "\t<tr><td>shock      </td><td>negative</td></tr>\n",
              "\t<tr><td>fastidious </td><td>negative</td></tr>\n",
              "\t<tr><td>critic     </td><td>negative</td></tr>\n",
              "\t<tr><td>threat     </td><td>negative</td></tr>\n",
              "\t<tr><td>dignified  </td><td>positive</td></tr>\n",
              "\t<tr><td>refined    </td><td>positive</td></tr>\n",
              "\t<tr><td>difficulty </td><td>negative</td></tr>\n",
              "\t<tr><td>modern     </td><td>positive</td></tr>\n",
              "\t<tr><td>advantage  </td><td>positive</td></tr>\n",
              "\t<tr><td>gained     </td><td>positive</td></tr>\n",
              "</tbody>\n",
              "</table>\n"
            ],
            "text/markdown": "\nA tibble: 10592 × 2\n\n| word &lt;chr&gt; | sentiment &lt;chr&gt; |\n|---|---|\n| modern       | positive |\n| success      | positive |\n| sufficiently | positive |\n| encourage    | positive |\n| urgent       | negative |\n| regret       | negative |\n| sincere      | positive |\n| diffidence   | negative |\n| success      | positive |\n| ordeal       | negative |\n| criticism    | negative |\n| forbid       | negative |\n| fear         | negative |\n| decline      | negative |\n| enjoy        | positive |\n| prefer       | positive |\n| harmonious   | positive |\n| polished     | positive |\n| happy        | positive |\n| admirable    | positive |\n| lost         | negative |\n| succeeded    | positive |\n| faint        | negative |\n| delighted    | positive |\n| partisans    | negative |\n| pestilent    | negative |\n| heresy       | negative |\n| repugnant    | negative |\n| genius       | positive |\n| violation    | negative |\n| ⋮ | ⋮ |\n| anger       | negative |\n| champion    | positive |\n| paradise    | positive |\n| lost        | negative |\n| fiend       | negative |\n| afford      | positive |\n| accurate    | positive |\n| faster      | positive |\n| outstrip    | positive |\n| slower      | negative |\n| oversight   | negative |\n| killed      | negative |\n| death       | negative |\n| liberty     | positive |\n| permissible | positive |\n| fallen      | negative |\n| error       | negative |\n| death       | negative |\n| coarse      | negative |\n| assure      | positive |\n| shock       | negative |\n| fastidious  | negative |\n| critic      | negative |\n| threat      | negative |\n| dignified   | positive |\n| refined     | positive |\n| difficulty  | negative |\n| modern      | positive |\n| advantage   | positive |\n| gained      | positive |\n\n",
            "text/latex": "A tibble: 10592 × 2\n\\begin{tabular}{ll}\n word & sentiment\\\\\n <chr> & <chr>\\\\\n\\hline\n\t modern       & positive\\\\\n\t success      & positive\\\\\n\t sufficiently & positive\\\\\n\t encourage    & positive\\\\\n\t urgent       & negative\\\\\n\t regret       & negative\\\\\n\t sincere      & positive\\\\\n\t diffidence   & negative\\\\\n\t success      & positive\\\\\n\t ordeal       & negative\\\\\n\t criticism    & negative\\\\\n\t forbid       & negative\\\\\n\t fear         & negative\\\\\n\t decline      & negative\\\\\n\t enjoy        & positive\\\\\n\t prefer       & positive\\\\\n\t harmonious   & positive\\\\\n\t polished     & positive\\\\\n\t happy        & positive\\\\\n\t admirable    & positive\\\\\n\t lost         & negative\\\\\n\t succeeded    & positive\\\\\n\t faint        & negative\\\\\n\t delighted    & positive\\\\\n\t partisans    & negative\\\\\n\t pestilent    & negative\\\\\n\t heresy       & negative\\\\\n\t repugnant    & negative\\\\\n\t genius       & positive\\\\\n\t violation    & negative\\\\\n\t ⋮ & ⋮\\\\\n\t anger       & negative\\\\\n\t champion    & positive\\\\\n\t paradise    & positive\\\\\n\t lost        & negative\\\\\n\t fiend       & negative\\\\\n\t afford      & positive\\\\\n\t accurate    & positive\\\\\n\t faster      & positive\\\\\n\t outstrip    & positive\\\\\n\t slower      & negative\\\\\n\t oversight   & negative\\\\\n\t killed      & negative\\\\\n\t death       & negative\\\\\n\t liberty     & positive\\\\\n\t permissible & positive\\\\\n\t fallen      & negative\\\\\n\t error       & negative\\\\\n\t death       & negative\\\\\n\t coarse      & negative\\\\\n\t assure      & positive\\\\\n\t shock       & negative\\\\\n\t fastidious  & negative\\\\\n\t critic      & negative\\\\\n\t threat      & negative\\\\\n\t dignified   & positive\\\\\n\t refined     & positive\\\\\n\t difficulty  & negative\\\\\n\t modern      & positive\\\\\n\t advantage   & positive\\\\\n\t gained      & positive\\\\\n\\end{tabular}\n",
            "text/plain": [
              "      word         sentiment\n",
              "1     modern       positive \n",
              "2     success      positive \n",
              "3     sufficiently positive \n",
              "4     encourage    positive \n",
              "5     urgent       negative \n",
              "6     regret       negative \n",
              "7     sincere      positive \n",
              "8     diffidence   negative \n",
              "9     success      positive \n",
              "10    ordeal       negative \n",
              "11    criticism    negative \n",
              "12    forbid       negative \n",
              "13    fear         negative \n",
              "14    decline      negative \n",
              "15    enjoy        positive \n",
              "16    prefer       positive \n",
              "17    harmonious   positive \n",
              "18    polished     positive \n",
              "19    happy        positive \n",
              "20    admirable    positive \n",
              "21    lost         negative \n",
              "22    succeeded    positive \n",
              "23    faint        negative \n",
              "24    delighted    positive \n",
              "25    partisans    negative \n",
              "26    pestilent    negative \n",
              "27    heresy       negative \n",
              "28    repugnant    negative \n",
              "29    genius       positive \n",
              "30    violation    negative \n",
              "⋮     ⋮            ⋮        \n",
              "10563 anger        negative \n",
              "10564 champion     positive \n",
              "10565 paradise     positive \n",
              "10566 lost         negative \n",
              "10567 fiend        negative \n",
              "10568 afford       positive \n",
              "10569 accurate     positive \n",
              "10570 faster       positive \n",
              "10571 outstrip     positive \n",
              "10572 slower       negative \n",
              "10573 oversight    negative \n",
              "10574 killed       negative \n",
              "10575 death        negative \n",
              "10576 liberty      positive \n",
              "10577 permissible  positive \n",
              "10578 fallen       negative \n",
              "10579 error        negative \n",
              "10580 death        negative \n",
              "10581 coarse       negative \n",
              "10582 assure       positive \n",
              "10583 shock        negative \n",
              "10584 fastidious   negative \n",
              "10585 critic       negative \n",
              "10586 threat       negative \n",
              "10587 dignified    positive \n",
              "10588 refined      positive \n",
              "10589 difficulty   negative \n",
              "10590 modern       positive \n",
              "10591 advantage    positive \n",
              "10592 gained       positive "
            ]
          },
          "metadata": {}
        }
      ]
    },
    {
      "cell_type": "code",
      "source": [
        "df%>%inner_join(get_sentiments(\"bing\"))%>%count(word,sort=TRUE)"
      ],
      "metadata": {
        "colab": {
          "base_uri": "https://localhost:8080/",
          "height": 1000
        },
        "id": "wSgrNCfpHcsn",
        "outputId": "279d3fef-cdd3-461b-fa57-3c2e43439886"
      },
      "execution_count": 10,
      "outputs": [
        {
          "output_type": "stream",
          "name": "stderr",
          "text": [
            "\u001b[1m\u001b[22mJoining with `by = join_by(word)`\n"
          ]
        },
        {
          "output_type": "display_data",
          "data": {
            "text/html": [
              "<table class=\"dataframe\">\n",
              "<caption>A tibble: 1269 × 2</caption>\n",
              "<thead>\n",
              "\t<tr><th scope=col>word</th><th scope=col>n</th></tr>\n",
              "\t<tr><th scope=col>&lt;chr&gt;</th><th scope=col>&lt;int&gt;</th></tr>\n",
              "</thead>\n",
              "<tbody>\n",
              "\t<tr><td>death  </td><td>236</td></tr>\n",
              "\t<tr><td>brave  </td><td>165</td></tr>\n",
              "\t<tr><td>fell   </td><td>164</td></tr>\n",
              "\t<tr><td>mighty </td><td>163</td></tr>\n",
              "\t<tr><td>valiant</td><td>160</td></tr>\n",
              "\t<tr><td>bore   </td><td>152</td></tr>\n",
              "\t<tr><td>fair   </td><td>152</td></tr>\n",
              "\t<tr><td>godlike</td><td>144</td></tr>\n",
              "\t<tr><td>noble  </td><td>141</td></tr>\n",
              "\t<tr><td>struck </td><td>126</td></tr>\n",
              "\t<tr><td>swift  </td><td>124</td></tr>\n",
              "\t<tr><td>led    </td><td>120</td></tr>\n",
              "\t<tr><td>loud   </td><td>115</td></tr>\n",
              "\t<tr><td>haste  </td><td>108</td></tr>\n",
              "\t<tr><td>dead   </td><td>106</td></tr>\n",
              "\t<tr><td>fear   </td><td>106</td></tr>\n",
              "\t<tr><td>grief  </td><td>100</td></tr>\n",
              "\t<tr><td>wrath  </td><td> 96</td></tr>\n",
              "\t<tr><td>warlike</td><td> 92</td></tr>\n",
              "\t<tr><td>fall   </td><td> 91</td></tr>\n",
              "\t<tr><td>courage</td><td> 88</td></tr>\n",
              "\t<tr><td>dark   </td><td> 88</td></tr>\n",
              "\t<tr><td>wrought</td><td> 88</td></tr>\n",
              "\t<tr><td>dust   </td><td> 77</td></tr>\n",
              "\t<tr><td>golden </td><td> 75</td></tr>\n",
              "\t<tr><td>brazen </td><td> 74</td></tr>\n",
              "\t<tr><td>cloud  </td><td> 74</td></tr>\n",
              "\t<tr><td>fierce </td><td> 72</td></tr>\n",
              "\t<tr><td>vain   </td><td> 70</td></tr>\n",
              "\t<tr><td>anger  </td><td> 68</td></tr>\n",
              "\t<tr><td>⋮</td><td>⋮</td></tr>\n",
              "\t<tr><td>unkindly      </td><td>1</td></tr>\n",
              "\t<tr><td>unnerve       </td><td>1</td></tr>\n",
              "\t<tr><td>unsuccessfully</td><td>1</td></tr>\n",
              "\t<tr><td>unsuspecting  </td><td>1</td></tr>\n",
              "\t<tr><td>unwelcome     </td><td>1</td></tr>\n",
              "\t<tr><td>unwisely      </td><td>1</td></tr>\n",
              "\t<tr><td>uphold        </td><td>1</td></tr>\n",
              "\t<tr><td>uplifting     </td><td>1</td></tr>\n",
              "\t<tr><td>venomous      </td><td>1</td></tr>\n",
              "\t<tr><td>vilify        </td><td>1</td></tr>\n",
              "\t<tr><td>violate       </td><td>1</td></tr>\n",
              "\t<tr><td>violation     </td><td>1</td></tr>\n",
              "\t<tr><td>violent       </td><td>1</td></tr>\n",
              "\t<tr><td>vouchsafe     </td><td>1</td></tr>\n",
              "\t<tr><td>warp          </td><td>1</td></tr>\n",
              "\t<tr><td>wasteful      </td><td>1</td></tr>\n",
              "\t<tr><td>weaker        </td><td>1</td></tr>\n",
              "\t<tr><td>weakness      </td><td>1</td></tr>\n",
              "\t<tr><td>weariness     </td><td>1</td></tr>\n",
              "\t<tr><td>weed          </td><td>1</td></tr>\n",
              "\t<tr><td>whining       </td><td>1</td></tr>\n",
              "\t<tr><td>whips         </td><td>1</td></tr>\n",
              "\t<tr><td>wholesome     </td><td>1</td></tr>\n",
              "\t<tr><td>wicked        </td><td>1</td></tr>\n",
              "\t<tr><td>wins          </td><td>1</td></tr>\n",
              "\t<tr><td>wonderful     </td><td>1</td></tr>\n",
              "\t<tr><td>wonders       </td><td>1</td></tr>\n",
              "\t<tr><td>wrinkled      </td><td>1</td></tr>\n",
              "\t<tr><td>wrinkles      </td><td>1</td></tr>\n",
              "\t<tr><td>zealous       </td><td>1</td></tr>\n",
              "</tbody>\n",
              "</table>\n"
            ],
            "text/markdown": "\nA tibble: 1269 × 2\n\n| word &lt;chr&gt; | n &lt;int&gt; |\n|---|---|\n| death   | 236 |\n| brave   | 165 |\n| fell    | 164 |\n| mighty  | 163 |\n| valiant | 160 |\n| bore    | 152 |\n| fair    | 152 |\n| godlike | 144 |\n| noble   | 141 |\n| struck  | 126 |\n| swift   | 124 |\n| led     | 120 |\n| loud    | 115 |\n| haste   | 108 |\n| dead    | 106 |\n| fear    | 106 |\n| grief   | 100 |\n| wrath   |  96 |\n| warlike |  92 |\n| fall    |  91 |\n| courage |  88 |\n| dark    |  88 |\n| wrought |  88 |\n| dust    |  77 |\n| golden  |  75 |\n| brazen  |  74 |\n| cloud   |  74 |\n| fierce  |  72 |\n| vain    |  70 |\n| anger   |  68 |\n| ⋮ | ⋮ |\n| unkindly       | 1 |\n| unnerve        | 1 |\n| unsuccessfully | 1 |\n| unsuspecting   | 1 |\n| unwelcome      | 1 |\n| unwisely       | 1 |\n| uphold         | 1 |\n| uplifting      | 1 |\n| venomous       | 1 |\n| vilify         | 1 |\n| violate        | 1 |\n| violation      | 1 |\n| violent        | 1 |\n| vouchsafe      | 1 |\n| warp           | 1 |\n| wasteful       | 1 |\n| weaker         | 1 |\n| weakness       | 1 |\n| weariness      | 1 |\n| weed           | 1 |\n| whining        | 1 |\n| whips          | 1 |\n| wholesome      | 1 |\n| wicked         | 1 |\n| wins           | 1 |\n| wonderful      | 1 |\n| wonders        | 1 |\n| wrinkled       | 1 |\n| wrinkles       | 1 |\n| zealous        | 1 |\n\n",
            "text/latex": "A tibble: 1269 × 2\n\\begin{tabular}{ll}\n word & n\\\\\n <chr> & <int>\\\\\n\\hline\n\t death   & 236\\\\\n\t brave   & 165\\\\\n\t fell    & 164\\\\\n\t mighty  & 163\\\\\n\t valiant & 160\\\\\n\t bore    & 152\\\\\n\t fair    & 152\\\\\n\t godlike & 144\\\\\n\t noble   & 141\\\\\n\t struck  & 126\\\\\n\t swift   & 124\\\\\n\t led     & 120\\\\\n\t loud    & 115\\\\\n\t haste   & 108\\\\\n\t dead    & 106\\\\\n\t fear    & 106\\\\\n\t grief   & 100\\\\\n\t wrath   &  96\\\\\n\t warlike &  92\\\\\n\t fall    &  91\\\\\n\t courage &  88\\\\\n\t dark    &  88\\\\\n\t wrought &  88\\\\\n\t dust    &  77\\\\\n\t golden  &  75\\\\\n\t brazen  &  74\\\\\n\t cloud   &  74\\\\\n\t fierce  &  72\\\\\n\t vain    &  70\\\\\n\t anger   &  68\\\\\n\t ⋮ & ⋮\\\\\n\t unkindly       & 1\\\\\n\t unnerve        & 1\\\\\n\t unsuccessfully & 1\\\\\n\t unsuspecting   & 1\\\\\n\t unwelcome      & 1\\\\\n\t unwisely       & 1\\\\\n\t uphold         & 1\\\\\n\t uplifting      & 1\\\\\n\t venomous       & 1\\\\\n\t vilify         & 1\\\\\n\t violate        & 1\\\\\n\t violation      & 1\\\\\n\t violent        & 1\\\\\n\t vouchsafe      & 1\\\\\n\t warp           & 1\\\\\n\t wasteful       & 1\\\\\n\t weaker         & 1\\\\\n\t weakness       & 1\\\\\n\t weariness      & 1\\\\\n\t weed           & 1\\\\\n\t whining        & 1\\\\\n\t whips          & 1\\\\\n\t wholesome      & 1\\\\\n\t wicked         & 1\\\\\n\t wins           & 1\\\\\n\t wonderful      & 1\\\\\n\t wonders        & 1\\\\\n\t wrinkled       & 1\\\\\n\t wrinkles       & 1\\\\\n\t zealous        & 1\\\\\n\\end{tabular}\n",
            "text/plain": [
              "     word           n  \n",
              "1    death          236\n",
              "2    brave          165\n",
              "3    fell           164\n",
              "4    mighty         163\n",
              "5    valiant        160\n",
              "6    bore           152\n",
              "7    fair           152\n",
              "8    godlike        144\n",
              "9    noble          141\n",
              "10   struck         126\n",
              "11   swift          124\n",
              "12   led            120\n",
              "13   loud           115\n",
              "14   haste          108\n",
              "15   dead           106\n",
              "16   fear           106\n",
              "17   grief          100\n",
              "18   wrath           96\n",
              "19   warlike         92\n",
              "20   fall            91\n",
              "21   courage         88\n",
              "22   dark            88\n",
              "23   wrought         88\n",
              "24   dust            77\n",
              "25   golden          75\n",
              "26   brazen          74\n",
              "27   cloud           74\n",
              "28   fierce          72\n",
              "29   vain            70\n",
              "30   anger           68\n",
              "⋮    ⋮              ⋮  \n",
              "1240 unkindly       1  \n",
              "1241 unnerve        1  \n",
              "1242 unsuccessfully 1  \n",
              "1243 unsuspecting   1  \n",
              "1244 unwelcome      1  \n",
              "1245 unwisely       1  \n",
              "1246 uphold         1  \n",
              "1247 uplifting      1  \n",
              "1248 venomous       1  \n",
              "1249 vilify         1  \n",
              "1250 violate        1  \n",
              "1251 violation      1  \n",
              "1252 violent        1  \n",
              "1253 vouchsafe      1  \n",
              "1254 warp           1  \n",
              "1255 wasteful       1  \n",
              "1256 weaker         1  \n",
              "1257 weakness       1  \n",
              "1258 weariness      1  \n",
              "1259 weed           1  \n",
              "1260 whining        1  \n",
              "1261 whips          1  \n",
              "1262 wholesome      1  \n",
              "1263 wicked         1  \n",
              "1264 wins           1  \n",
              "1265 wonderful      1  \n",
              "1266 wonders        1  \n",
              "1267 wrinkled       1  \n",
              "1268 wrinkles       1  \n",
              "1269 zealous        1  "
            ]
          },
          "metadata": {}
        }
      ]
    },
    {
      "cell_type": "code",
      "source": [
        "# df%>%inner_join(get_sentiments(\"bing\"))%>%count(word,sort=TRUE)%>%arrange(desc(n))"
      ],
      "metadata": {
        "id": "bm_6e2tHHcwC"
      },
      "execution_count": 13,
      "outputs": []
    },
    {
      "cell_type": "code",
      "source": [
        "library(tidytext)\n",
        "library(dplyr)\n",
        "\n",
        "# Step 1: Join df with bing sentiment words\n",
        "df_sentiment <- df %>%\n",
        "  inner_join(get_sentiments(\"bing\"), by = \"word\")\n",
        "\n",
        "# Step 2: Calculate proportion of each sentiment\n",
        "sentiment_props <- df_sentiment %>%\n",
        "  count(sentiment) %>%\n",
        "  mutate(prop = n / sum(n))\n",
        "\n",
        "# Optional: Join proportions back if needed\n",
        "df_sentiment_with_prop <- df_sentiment %>%\n",
        "  left_join(sentiment_props, by = \"sentiment\")\n"
      ],
      "metadata": {
        "id": "OYTxePz0KOW8"
      },
      "execution_count": 15,
      "outputs": []
    },
    {
      "cell_type": "code",
      "source": [
        "df_sentiment_with_prop"
      ],
      "metadata": {
        "colab": {
          "base_uri": "https://localhost:8080/",
          "height": 1000
        },
        "id": "16hsLVDoKOTi",
        "outputId": "a7a090c7-8c2a-4c7a-b415-82f4777482cd"
      },
      "execution_count": 16,
      "outputs": [
        {
          "output_type": "display_data",
          "data": {
            "text/html": [
              "<table class=\"dataframe\">\n",
              "<caption>A tibble: 10592 × 4</caption>\n",
              "<thead>\n",
              "\t<tr><th scope=col>word</th><th scope=col>sentiment</th><th scope=col>n</th><th scope=col>prop</th></tr>\n",
              "\t<tr><th scope=col>&lt;chr&gt;</th><th scope=col>&lt;chr&gt;</th><th scope=col>&lt;int&gt;</th><th scope=col>&lt;dbl&gt;</th></tr>\n",
              "</thead>\n",
              "<tbody>\n",
              "\t<tr><td>modern      </td><td>positive</td><td>4206</td><td>0.3970921</td></tr>\n",
              "\t<tr><td>success     </td><td>positive</td><td>4206</td><td>0.3970921</td></tr>\n",
              "\t<tr><td>sufficiently</td><td>positive</td><td>4206</td><td>0.3970921</td></tr>\n",
              "\t<tr><td>encourage   </td><td>positive</td><td>4206</td><td>0.3970921</td></tr>\n",
              "\t<tr><td>urgent      </td><td>negative</td><td>6386</td><td>0.6029079</td></tr>\n",
              "\t<tr><td>regret      </td><td>negative</td><td>6386</td><td>0.6029079</td></tr>\n",
              "\t<tr><td>sincere     </td><td>positive</td><td>4206</td><td>0.3970921</td></tr>\n",
              "\t<tr><td>diffidence  </td><td>negative</td><td>6386</td><td>0.6029079</td></tr>\n",
              "\t<tr><td>success     </td><td>positive</td><td>4206</td><td>0.3970921</td></tr>\n",
              "\t<tr><td>ordeal      </td><td>negative</td><td>6386</td><td>0.6029079</td></tr>\n",
              "\t<tr><td>criticism   </td><td>negative</td><td>6386</td><td>0.6029079</td></tr>\n",
              "\t<tr><td>forbid      </td><td>negative</td><td>6386</td><td>0.6029079</td></tr>\n",
              "\t<tr><td>fear        </td><td>negative</td><td>6386</td><td>0.6029079</td></tr>\n",
              "\t<tr><td>decline     </td><td>negative</td><td>6386</td><td>0.6029079</td></tr>\n",
              "\t<tr><td>enjoy       </td><td>positive</td><td>4206</td><td>0.3970921</td></tr>\n",
              "\t<tr><td>prefer      </td><td>positive</td><td>4206</td><td>0.3970921</td></tr>\n",
              "\t<tr><td>harmonious  </td><td>positive</td><td>4206</td><td>0.3970921</td></tr>\n",
              "\t<tr><td>polished    </td><td>positive</td><td>4206</td><td>0.3970921</td></tr>\n",
              "\t<tr><td>happy       </td><td>positive</td><td>4206</td><td>0.3970921</td></tr>\n",
              "\t<tr><td>admirable   </td><td>positive</td><td>4206</td><td>0.3970921</td></tr>\n",
              "\t<tr><td>lost        </td><td>negative</td><td>6386</td><td>0.6029079</td></tr>\n",
              "\t<tr><td>succeeded   </td><td>positive</td><td>4206</td><td>0.3970921</td></tr>\n",
              "\t<tr><td>faint       </td><td>negative</td><td>6386</td><td>0.6029079</td></tr>\n",
              "\t<tr><td>delighted   </td><td>positive</td><td>4206</td><td>0.3970921</td></tr>\n",
              "\t<tr><td>partisans   </td><td>negative</td><td>6386</td><td>0.6029079</td></tr>\n",
              "\t<tr><td>pestilent   </td><td>negative</td><td>6386</td><td>0.6029079</td></tr>\n",
              "\t<tr><td>heresy      </td><td>negative</td><td>6386</td><td>0.6029079</td></tr>\n",
              "\t<tr><td>repugnant   </td><td>negative</td><td>6386</td><td>0.6029079</td></tr>\n",
              "\t<tr><td>genius      </td><td>positive</td><td>4206</td><td>0.3970921</td></tr>\n",
              "\t<tr><td>violation   </td><td>negative</td><td>6386</td><td>0.6029079</td></tr>\n",
              "\t<tr><td>⋮</td><td>⋮</td><td>⋮</td><td>⋮</td></tr>\n",
              "\t<tr><td>anger      </td><td>negative</td><td>6386</td><td>0.6029079</td></tr>\n",
              "\t<tr><td>champion   </td><td>positive</td><td>4206</td><td>0.3970921</td></tr>\n",
              "\t<tr><td>paradise   </td><td>positive</td><td>4206</td><td>0.3970921</td></tr>\n",
              "\t<tr><td>lost       </td><td>negative</td><td>6386</td><td>0.6029079</td></tr>\n",
              "\t<tr><td>fiend      </td><td>negative</td><td>6386</td><td>0.6029079</td></tr>\n",
              "\t<tr><td>afford     </td><td>positive</td><td>4206</td><td>0.3970921</td></tr>\n",
              "\t<tr><td>accurate   </td><td>positive</td><td>4206</td><td>0.3970921</td></tr>\n",
              "\t<tr><td>faster     </td><td>positive</td><td>4206</td><td>0.3970921</td></tr>\n",
              "\t<tr><td>outstrip   </td><td>positive</td><td>4206</td><td>0.3970921</td></tr>\n",
              "\t<tr><td>slower     </td><td>negative</td><td>6386</td><td>0.6029079</td></tr>\n",
              "\t<tr><td>oversight  </td><td>negative</td><td>6386</td><td>0.6029079</td></tr>\n",
              "\t<tr><td>killed     </td><td>negative</td><td>6386</td><td>0.6029079</td></tr>\n",
              "\t<tr><td>death      </td><td>negative</td><td>6386</td><td>0.6029079</td></tr>\n",
              "\t<tr><td>liberty    </td><td>positive</td><td>4206</td><td>0.3970921</td></tr>\n",
              "\t<tr><td>permissible</td><td>positive</td><td>4206</td><td>0.3970921</td></tr>\n",
              "\t<tr><td>fallen     </td><td>negative</td><td>6386</td><td>0.6029079</td></tr>\n",
              "\t<tr><td>error      </td><td>negative</td><td>6386</td><td>0.6029079</td></tr>\n",
              "\t<tr><td>death      </td><td>negative</td><td>6386</td><td>0.6029079</td></tr>\n",
              "\t<tr><td>coarse     </td><td>negative</td><td>6386</td><td>0.6029079</td></tr>\n",
              "\t<tr><td>assure     </td><td>positive</td><td>4206</td><td>0.3970921</td></tr>\n",
              "\t<tr><td>shock      </td><td>negative</td><td>6386</td><td>0.6029079</td></tr>\n",
              "\t<tr><td>fastidious </td><td>negative</td><td>6386</td><td>0.6029079</td></tr>\n",
              "\t<tr><td>critic     </td><td>negative</td><td>6386</td><td>0.6029079</td></tr>\n",
              "\t<tr><td>threat     </td><td>negative</td><td>6386</td><td>0.6029079</td></tr>\n",
              "\t<tr><td>dignified  </td><td>positive</td><td>4206</td><td>0.3970921</td></tr>\n",
              "\t<tr><td>refined    </td><td>positive</td><td>4206</td><td>0.3970921</td></tr>\n",
              "\t<tr><td>difficulty </td><td>negative</td><td>6386</td><td>0.6029079</td></tr>\n",
              "\t<tr><td>modern     </td><td>positive</td><td>4206</td><td>0.3970921</td></tr>\n",
              "\t<tr><td>advantage  </td><td>positive</td><td>4206</td><td>0.3970921</td></tr>\n",
              "\t<tr><td>gained     </td><td>positive</td><td>4206</td><td>0.3970921</td></tr>\n",
              "</tbody>\n",
              "</table>\n"
            ],
            "text/markdown": "\nA tibble: 10592 × 4\n\n| word &lt;chr&gt; | sentiment &lt;chr&gt; | n &lt;int&gt; | prop &lt;dbl&gt; |\n|---|---|---|---|\n| modern       | positive | 4206 | 0.3970921 |\n| success      | positive | 4206 | 0.3970921 |\n| sufficiently | positive | 4206 | 0.3970921 |\n| encourage    | positive | 4206 | 0.3970921 |\n| urgent       | negative | 6386 | 0.6029079 |\n| regret       | negative | 6386 | 0.6029079 |\n| sincere      | positive | 4206 | 0.3970921 |\n| diffidence   | negative | 6386 | 0.6029079 |\n| success      | positive | 4206 | 0.3970921 |\n| ordeal       | negative | 6386 | 0.6029079 |\n| criticism    | negative | 6386 | 0.6029079 |\n| forbid       | negative | 6386 | 0.6029079 |\n| fear         | negative | 6386 | 0.6029079 |\n| decline      | negative | 6386 | 0.6029079 |\n| enjoy        | positive | 4206 | 0.3970921 |\n| prefer       | positive | 4206 | 0.3970921 |\n| harmonious   | positive | 4206 | 0.3970921 |\n| polished     | positive | 4206 | 0.3970921 |\n| happy        | positive | 4206 | 0.3970921 |\n| admirable    | positive | 4206 | 0.3970921 |\n| lost         | negative | 6386 | 0.6029079 |\n| succeeded    | positive | 4206 | 0.3970921 |\n| faint        | negative | 6386 | 0.6029079 |\n| delighted    | positive | 4206 | 0.3970921 |\n| partisans    | negative | 6386 | 0.6029079 |\n| pestilent    | negative | 6386 | 0.6029079 |\n| heresy       | negative | 6386 | 0.6029079 |\n| repugnant    | negative | 6386 | 0.6029079 |\n| genius       | positive | 4206 | 0.3970921 |\n| violation    | negative | 6386 | 0.6029079 |\n| ⋮ | ⋮ | ⋮ | ⋮ |\n| anger       | negative | 6386 | 0.6029079 |\n| champion    | positive | 4206 | 0.3970921 |\n| paradise    | positive | 4206 | 0.3970921 |\n| lost        | negative | 6386 | 0.6029079 |\n| fiend       | negative | 6386 | 0.6029079 |\n| afford      | positive | 4206 | 0.3970921 |\n| accurate    | positive | 4206 | 0.3970921 |\n| faster      | positive | 4206 | 0.3970921 |\n| outstrip    | positive | 4206 | 0.3970921 |\n| slower      | negative | 6386 | 0.6029079 |\n| oversight   | negative | 6386 | 0.6029079 |\n| killed      | negative | 6386 | 0.6029079 |\n| death       | negative | 6386 | 0.6029079 |\n| liberty     | positive | 4206 | 0.3970921 |\n| permissible | positive | 4206 | 0.3970921 |\n| fallen      | negative | 6386 | 0.6029079 |\n| error       | negative | 6386 | 0.6029079 |\n| death       | negative | 6386 | 0.6029079 |\n| coarse      | negative | 6386 | 0.6029079 |\n| assure      | positive | 4206 | 0.3970921 |\n| shock       | negative | 6386 | 0.6029079 |\n| fastidious  | negative | 6386 | 0.6029079 |\n| critic      | negative | 6386 | 0.6029079 |\n| threat      | negative | 6386 | 0.6029079 |\n| dignified   | positive | 4206 | 0.3970921 |\n| refined     | positive | 4206 | 0.3970921 |\n| difficulty  | negative | 6386 | 0.6029079 |\n| modern      | positive | 4206 | 0.3970921 |\n| advantage   | positive | 4206 | 0.3970921 |\n| gained      | positive | 4206 | 0.3970921 |\n\n",
            "text/latex": "A tibble: 10592 × 4\n\\begin{tabular}{llll}\n word & sentiment & n & prop\\\\\n <chr> & <chr> & <int> & <dbl>\\\\\n\\hline\n\t modern       & positive & 4206 & 0.3970921\\\\\n\t success      & positive & 4206 & 0.3970921\\\\\n\t sufficiently & positive & 4206 & 0.3970921\\\\\n\t encourage    & positive & 4206 & 0.3970921\\\\\n\t urgent       & negative & 6386 & 0.6029079\\\\\n\t regret       & negative & 6386 & 0.6029079\\\\\n\t sincere      & positive & 4206 & 0.3970921\\\\\n\t diffidence   & negative & 6386 & 0.6029079\\\\\n\t success      & positive & 4206 & 0.3970921\\\\\n\t ordeal       & negative & 6386 & 0.6029079\\\\\n\t criticism    & negative & 6386 & 0.6029079\\\\\n\t forbid       & negative & 6386 & 0.6029079\\\\\n\t fear         & negative & 6386 & 0.6029079\\\\\n\t decline      & negative & 6386 & 0.6029079\\\\\n\t enjoy        & positive & 4206 & 0.3970921\\\\\n\t prefer       & positive & 4206 & 0.3970921\\\\\n\t harmonious   & positive & 4206 & 0.3970921\\\\\n\t polished     & positive & 4206 & 0.3970921\\\\\n\t happy        & positive & 4206 & 0.3970921\\\\\n\t admirable    & positive & 4206 & 0.3970921\\\\\n\t lost         & negative & 6386 & 0.6029079\\\\\n\t succeeded    & positive & 4206 & 0.3970921\\\\\n\t faint        & negative & 6386 & 0.6029079\\\\\n\t delighted    & positive & 4206 & 0.3970921\\\\\n\t partisans    & negative & 6386 & 0.6029079\\\\\n\t pestilent    & negative & 6386 & 0.6029079\\\\\n\t heresy       & negative & 6386 & 0.6029079\\\\\n\t repugnant    & negative & 6386 & 0.6029079\\\\\n\t genius       & positive & 4206 & 0.3970921\\\\\n\t violation    & negative & 6386 & 0.6029079\\\\\n\t ⋮ & ⋮ & ⋮ & ⋮\\\\\n\t anger       & negative & 6386 & 0.6029079\\\\\n\t champion    & positive & 4206 & 0.3970921\\\\\n\t paradise    & positive & 4206 & 0.3970921\\\\\n\t lost        & negative & 6386 & 0.6029079\\\\\n\t fiend       & negative & 6386 & 0.6029079\\\\\n\t afford      & positive & 4206 & 0.3970921\\\\\n\t accurate    & positive & 4206 & 0.3970921\\\\\n\t faster      & positive & 4206 & 0.3970921\\\\\n\t outstrip    & positive & 4206 & 0.3970921\\\\\n\t slower      & negative & 6386 & 0.6029079\\\\\n\t oversight   & negative & 6386 & 0.6029079\\\\\n\t killed      & negative & 6386 & 0.6029079\\\\\n\t death       & negative & 6386 & 0.6029079\\\\\n\t liberty     & positive & 4206 & 0.3970921\\\\\n\t permissible & positive & 4206 & 0.3970921\\\\\n\t fallen      & negative & 6386 & 0.6029079\\\\\n\t error       & negative & 6386 & 0.6029079\\\\\n\t death       & negative & 6386 & 0.6029079\\\\\n\t coarse      & negative & 6386 & 0.6029079\\\\\n\t assure      & positive & 4206 & 0.3970921\\\\\n\t shock       & negative & 6386 & 0.6029079\\\\\n\t fastidious  & negative & 6386 & 0.6029079\\\\\n\t critic      & negative & 6386 & 0.6029079\\\\\n\t threat      & negative & 6386 & 0.6029079\\\\\n\t dignified   & positive & 4206 & 0.3970921\\\\\n\t refined     & positive & 4206 & 0.3970921\\\\\n\t difficulty  & negative & 6386 & 0.6029079\\\\\n\t modern      & positive & 4206 & 0.3970921\\\\\n\t advantage   & positive & 4206 & 0.3970921\\\\\n\t gained      & positive & 4206 & 0.3970921\\\\\n\\end{tabular}\n",
            "text/plain": [
              "      word         sentiment n    prop     \n",
              "1     modern       positive  4206 0.3970921\n",
              "2     success      positive  4206 0.3970921\n",
              "3     sufficiently positive  4206 0.3970921\n",
              "4     encourage    positive  4206 0.3970921\n",
              "5     urgent       negative  6386 0.6029079\n",
              "6     regret       negative  6386 0.6029079\n",
              "7     sincere      positive  4206 0.3970921\n",
              "8     diffidence   negative  6386 0.6029079\n",
              "9     success      positive  4206 0.3970921\n",
              "10    ordeal       negative  6386 0.6029079\n",
              "11    criticism    negative  6386 0.6029079\n",
              "12    forbid       negative  6386 0.6029079\n",
              "13    fear         negative  6386 0.6029079\n",
              "14    decline      negative  6386 0.6029079\n",
              "15    enjoy        positive  4206 0.3970921\n",
              "16    prefer       positive  4206 0.3970921\n",
              "17    harmonious   positive  4206 0.3970921\n",
              "18    polished     positive  4206 0.3970921\n",
              "19    happy        positive  4206 0.3970921\n",
              "20    admirable    positive  4206 0.3970921\n",
              "21    lost         negative  6386 0.6029079\n",
              "22    succeeded    positive  4206 0.3970921\n",
              "23    faint        negative  6386 0.6029079\n",
              "24    delighted    positive  4206 0.3970921\n",
              "25    partisans    negative  6386 0.6029079\n",
              "26    pestilent    negative  6386 0.6029079\n",
              "27    heresy       negative  6386 0.6029079\n",
              "28    repugnant    negative  6386 0.6029079\n",
              "29    genius       positive  4206 0.3970921\n",
              "30    violation    negative  6386 0.6029079\n",
              "⋮     ⋮            ⋮         ⋮    ⋮        \n",
              "10563 anger        negative  6386 0.6029079\n",
              "10564 champion     positive  4206 0.3970921\n",
              "10565 paradise     positive  4206 0.3970921\n",
              "10566 lost         negative  6386 0.6029079\n",
              "10567 fiend        negative  6386 0.6029079\n",
              "10568 afford       positive  4206 0.3970921\n",
              "10569 accurate     positive  4206 0.3970921\n",
              "10570 faster       positive  4206 0.3970921\n",
              "10571 outstrip     positive  4206 0.3970921\n",
              "10572 slower       negative  6386 0.6029079\n",
              "10573 oversight    negative  6386 0.6029079\n",
              "10574 killed       negative  6386 0.6029079\n",
              "10575 death        negative  6386 0.6029079\n",
              "10576 liberty      positive  4206 0.3970921\n",
              "10577 permissible  positive  4206 0.3970921\n",
              "10578 fallen       negative  6386 0.6029079\n",
              "10579 error        negative  6386 0.6029079\n",
              "10580 death        negative  6386 0.6029079\n",
              "10581 coarse       negative  6386 0.6029079\n",
              "10582 assure       positive  4206 0.3970921\n",
              "10583 shock        negative  6386 0.6029079\n",
              "10584 fastidious   negative  6386 0.6029079\n",
              "10585 critic       negative  6386 0.6029079\n",
              "10586 threat       negative  6386 0.6029079\n",
              "10587 dignified    positive  4206 0.3970921\n",
              "10588 refined      positive  4206 0.3970921\n",
              "10589 difficulty   negative  6386 0.6029079\n",
              "10590 modern       positive  4206 0.3970921\n",
              "10591 advantage    positive  4206 0.3970921\n",
              "10592 gained       positive  4206 0.3970921"
            ]
          },
          "metadata": {}
        }
      ]
    },
    {
      "cell_type": "code",
      "source": [
        "df<-import(\"/content/Iliad.txt\")%>% as_tibble()"
      ],
      "metadata": {
        "id": "0-tQBnoWKOG4"
      },
      "execution_count": 17,
      "outputs": []
    },
    {
      "cell_type": "code",
      "source": [
        "df"
      ],
      "metadata": {
        "colab": {
          "base_uri": "https://localhost:8080/",
          "height": 1000
        },
        "id": "r_Z9knUPNSOQ",
        "outputId": "48c0e083-a987-47b6-9d5e-e1843c4727ea"
      },
      "execution_count": 18,
      "outputs": [
        {
          "output_type": "display_data",
          "data": {
            "text/html": [
              "<table class=\"dataframe\">\n",
              "<caption>A tibble: 20128 × 2</caption>\n",
              "<thead>\n",
              "\t<tr><th scope=col>gutenberg_id</th><th scope=col>text</th></tr>\n",
              "\t<tr><th scope=col>&lt;int&gt;</th><th scope=col>&lt;chr&gt;</th></tr>\n",
              "</thead>\n",
              "<tbody>\n",
              "\t<tr><td>6150</td><td>THE ILIAD OF HOMER                                                     </td></tr>\n",
              "\t<tr><td>6150</td><td>                                                                       </td></tr>\n",
              "\t<tr><td>6150</td><td>RENDERED INTO ENGLISH BLANK VERSE.                                     </td></tr>\n",
              "\t<tr><td>6150</td><td>BY                                                                     </td></tr>\n",
              "\t<tr><td>6150</td><td>                                                                       </td></tr>\n",
              "\t<tr><td>6150</td><td>EDWARD EARL OF DERBY.                                                  </td></tr>\n",
              "\t<tr><td>6150</td><td>                                                                       </td></tr>\n",
              "\t<tr><td>6150</td><td>                                                                       </td></tr>\n",
              "\t<tr><td>6150</td><td>                                                                       </td></tr>\n",
              "\t<tr><td>6150</td><td>                                                                       </td></tr>\n",
              "\t<tr><td>6150</td><td>PREFACE.                                                               </td></tr>\n",
              "\t<tr><td>6150</td><td>                                                                       </td></tr>\n",
              "\t<tr><td>6150</td><td>                                                                       </td></tr>\n",
              "\t<tr><td>6150</td><td>In the spring of 1862 I was induced, at the request of some personal   </td></tr>\n",
              "\t<tr><td>6150</td><td>friends, to print, for private circulation only, a small volume of     </td></tr>\n",
              "\t<tr><td>6150</td><td>\"\"Translations of Poems Ancient and Modern,\"\" in which was included the</td></tr>\n",
              "\t<tr><td>6150</td><td>first Book of the Iliad. The opinions expressed by some competent      </td></tr>\n",
              "\t<tr><td>6150</td><td>judges of the degree of success which had attended this \"\"attempt to   </td></tr>\n",
              "\t<tr><td>6150</td><td>infuse into an almost literal English version something of the spirit, </td></tr>\n",
              "\t<tr><td>6150</td><td>as well as the simplicity, of the great original,\"\" [Footnote:         </td></tr>\n",
              "\t<tr><td>6150</td><td>Introduction to unpublished volume.] were sufficiently favourable to   </td></tr>\n",
              "\t<tr><td>6150</td><td>encourage me to continue the work which I had begun. It has afforded   </td></tr>\n",
              "\t<tr><td>6150</td><td>me, in the intervals of more urgent business, an unfailing, and        </td></tr>\n",
              "\t<tr><td>6150</td><td>constantly increasing source of interest; and it is not without a      </td></tr>\n",
              "\t<tr><td>6150</td><td>feeling of regret at the completion of my task, and a sincere          </td></tr>\n",
              "\t<tr><td>6150</td><td>diffidence as to its success, that I venture to submit the result of my</td></tr>\n",
              "\t<tr><td>6150</td><td>labour to the ordeal of public criticism.                              </td></tr>\n",
              "\t<tr><td>6150</td><td>                                                                       </td></tr>\n",
              "\t<tr><td>6150</td><td>Various causes, irrespective of any demerits of the work itself, forbid</td></tr>\n",
              "\t<tr><td>6150</td><td>me to anticipate for this translation any extensive popularity. First, </td></tr>\n",
              "\t<tr><td>⋮</td><td>⋮</td></tr>\n",
              "\t<tr><td>6150</td><td>[6]                                                                      </td></tr>\n",
              "\t<tr><td>6150</td><td>                                                                         </td></tr>\n",
              "\t<tr><td>6150</td><td>L. 151. Chthizos, yesterday. But either the word must have a             </td></tr>\n",
              "\t<tr><td>6150</td><td>more extended signification than is usually given to it, or Homer must   </td></tr>\n",
              "\t<tr><td>6150</td><td>here have fallen into an error; for two complete nights and one day,     </td></tr>\n",
              "\t<tr><td>6150</td><td>that on which Patroclus met his death, had intervened since the visit    </td></tr>\n",
              "\t<tr><td>6150</td><td>of Ajax and Ulysses to the tent of Achilles. See also l. 215.            </td></tr>\n",
              "\t<tr><td>6150</td><td>                                                                         </td></tr>\n",
              "\t<tr><td>6150</td><td>                                                                         </td></tr>\n",
              "\t<tr><td>6150</td><td>[7]                                                                      </td></tr>\n",
              "\t<tr><td>6150</td><td>                                                                         </td></tr>\n",
              "\t<tr><td>6150</td><td>L. 547. The terms made use of in this line, and in 481, may              </td></tr>\n",
              "\t<tr><td>6150</td><td>appear somewhat coarse, as addressed by one Goddess to another: but I    </td></tr>\n",
              "\t<tr><td>6150</td><td>assure the English reader that in this passage especially I have         </td></tr>\n",
              "\t<tr><td>6150</td><td>greatly softened down the expression of the original; a literal          </td></tr>\n",
              "\t<tr><td>6150</td><td>translation of which, however forcible, would shock even the least       </td></tr>\n",
              "\t<tr><td>6150</td><td>fastidious critic. It must, indeed, be admitted that the mode in which   </td></tr>\n",
              "\t<tr><td>6150</td><td>\"\"the white-armed Goddess\"\" proceeds to execute her threat is hardly more</td></tr>\n",
              "\t<tr><td>6150</td><td>dignified than the language, in which it is conveyed, is refined.        </td></tr>\n",
              "\t<tr><td>6150</td><td>                                                                         </td></tr>\n",
              "\t<tr><td>6150</td><td>                                                                         </td></tr>\n",
              "\t<tr><td>6150</td><td>[8]                                                                      </td></tr>\n",
              "\t<tr><td>6150</td><td>                                                                         </td></tr>\n",
              "\t<tr><td>6150</td><td>Line 737.--They being two, while I was only one. Such I                  </td></tr>\n",
              "\t<tr><td>6150</td><td>believe to be the true interpretation of this passage, which, however,   </td></tr>\n",
              "\t<tr><td>6150</td><td>is one of admitted difficulty. According to our modern notions, it is    </td></tr>\n",
              "\t<tr><td>6150</td><td>not very evident what advantage two men in a car would have over one in  </td></tr>\n",
              "\t<tr><td>6150</td><td>another; nor what would be gained by the division of labour which        </td></tr>\n",
              "\t<tr><td>6150</td><td>assigned the reins to one and the whip to the other; but such, from      </td></tr>\n",
              "\t<tr><td>6150</td><td>line 740-741, appears to have been the view taken by Homer.              </td></tr>\n",
              "</tbody>\n",
              "</table>\n"
            ],
            "text/markdown": "\nA tibble: 20128 × 2\n\n| gutenberg_id &lt;int&gt; | text &lt;chr&gt; |\n|---|---|\n| 6150 | THE ILIAD OF HOMER                                                      |\n| 6150 | <!----> |\n| 6150 | RENDERED INTO ENGLISH BLANK VERSE.                                      |\n| 6150 | BY                                                                      |\n| 6150 | <!----> |\n| 6150 | EDWARD EARL OF DERBY.                                                   |\n| 6150 | <!----> |\n| 6150 | <!----> |\n| 6150 | <!----> |\n| 6150 | <!----> |\n| 6150 | PREFACE.                                                                |\n| 6150 | <!----> |\n| 6150 | <!----> |\n| 6150 | In the spring of 1862 I was induced, at the request of some personal    |\n| 6150 | friends, to print, for private circulation only, a small volume of      |\n| 6150 | \"\"Translations of Poems Ancient and Modern,\"\" in which was included the |\n| 6150 | first Book of the Iliad. The opinions expressed by some competent       |\n| 6150 | judges of the degree of success which had attended this \"\"attempt to    |\n| 6150 | infuse into an almost literal English version something of the spirit,  |\n| 6150 | as well as the simplicity, of the great original,\"\" [Footnote:          |\n| 6150 | Introduction to unpublished volume.] were sufficiently favourable to    |\n| 6150 | encourage me to continue the work which I had begun. It has afforded    |\n| 6150 | me, in the intervals of more urgent business, an unfailing, and         |\n| 6150 | constantly increasing source of interest; and it is not without a       |\n| 6150 | feeling of regret at the completion of my task, and a sincere           |\n| 6150 | diffidence as to its success, that I venture to submit the result of my |\n| 6150 | labour to the ordeal of public criticism.                               |\n| 6150 | <!----> |\n| 6150 | Various causes, irrespective of any demerits of the work itself, forbid |\n| 6150 | me to anticipate for this translation any extensive popularity. First,  |\n| ⋮ | ⋮ |\n| 6150 | [6]                                                                       |\n| 6150 | <!----> |\n| 6150 | L. 151. Chthizos, yesterday. But either the word must have a              |\n| 6150 | more extended signification than is usually given to it, or Homer must    |\n| 6150 | here have fallen into an error; for two complete nights and one day,      |\n| 6150 | that on which Patroclus met his death, had intervened since the visit     |\n| 6150 | of Ajax and Ulysses to the tent of Achilles. See also l. 215.             |\n| 6150 | <!----> |\n| 6150 | <!----> |\n| 6150 | [7]                                                                       |\n| 6150 | <!----> |\n| 6150 | L. 547. The terms made use of in this line, and in 481, may               |\n| 6150 | appear somewhat coarse, as addressed by one Goddess to another: but I     |\n| 6150 | assure the English reader that in this passage especially I have          |\n| 6150 | greatly softened down the expression of the original; a literal           |\n| 6150 | translation of which, however forcible, would shock even the least        |\n| 6150 | fastidious critic. It must, indeed, be admitted that the mode in which    |\n| 6150 | \"\"the white-armed Goddess\"\" proceeds to execute her threat is hardly more |\n| 6150 | dignified than the language, in which it is conveyed, is refined.         |\n| 6150 | <!----> |\n| 6150 | <!----> |\n| 6150 | [8]                                                                       |\n| 6150 | <!----> |\n| 6150 | Line 737.--They being two, while I was only one. Such I                   |\n| 6150 | believe to be the true interpretation of this passage, which, however,    |\n| 6150 | is one of admitted difficulty. According to our modern notions, it is     |\n| 6150 | not very evident what advantage two men in a car would have over one in   |\n| 6150 | another; nor what would be gained by the division of labour which         |\n| 6150 | assigned the reins to one and the whip to the other; but such, from       |\n| 6150 | line 740-741, appears to have been the view taken by Homer.               |\n\n",
            "text/latex": "A tibble: 20128 × 2\n\\begin{tabular}{ll}\n gutenberg\\_id & text\\\\\n <int> & <chr>\\\\\n\\hline\n\t 6150 & THE ILIAD OF HOMER                                                     \\\\\n\t 6150 &                                                                        \\\\\n\t 6150 & RENDERED INTO ENGLISH BLANK VERSE.                                     \\\\\n\t 6150 & BY                                                                     \\\\\n\t 6150 &                                                                        \\\\\n\t 6150 & EDWARD EARL OF DERBY.                                                  \\\\\n\t 6150 &                                                                        \\\\\n\t 6150 &                                                                        \\\\\n\t 6150 &                                                                        \\\\\n\t 6150 &                                                                        \\\\\n\t 6150 & PREFACE.                                                               \\\\\n\t 6150 &                                                                        \\\\\n\t 6150 &                                                                        \\\\\n\t 6150 & In the spring of 1862 I was induced, at the request of some personal   \\\\\n\t 6150 & friends, to print, for private circulation only, a small volume of     \\\\\n\t 6150 & \"\"Translations of Poems Ancient and Modern,\"\" in which was included the\\\\\n\t 6150 & first Book of the Iliad. The opinions expressed by some competent      \\\\\n\t 6150 & judges of the degree of success which had attended this \"\"attempt to   \\\\\n\t 6150 & infuse into an almost literal English version something of the spirit, \\\\\n\t 6150 & as well as the simplicity, of the great original,\"\" {[}Footnote:         \\\\\n\t 6150 & Introduction to unpublished volume.{]} were sufficiently favourable to   \\\\\n\t 6150 & encourage me to continue the work which I had begun. It has afforded   \\\\\n\t 6150 & me, in the intervals of more urgent business, an unfailing, and        \\\\\n\t 6150 & constantly increasing source of interest; and it is not without a      \\\\\n\t 6150 & feeling of regret at the completion of my task, and a sincere          \\\\\n\t 6150 & diffidence as to its success, that I venture to submit the result of my\\\\\n\t 6150 & labour to the ordeal of public criticism.                              \\\\\n\t 6150 &                                                                        \\\\\n\t 6150 & Various causes, irrespective of any demerits of the work itself, forbid\\\\\n\t 6150 & me to anticipate for this translation any extensive popularity. First, \\\\\n\t ⋮ & ⋮\\\\\n\t 6150 & {[}6{]}                                                                      \\\\\n\t 6150 &                                                                          \\\\\n\t 6150 & L. 151. Chthizos, yesterday. But either the word must have a             \\\\\n\t 6150 & more extended signification than is usually given to it, or Homer must   \\\\\n\t 6150 & here have fallen into an error; for two complete nights and one day,     \\\\\n\t 6150 & that on which Patroclus met his death, had intervened since the visit    \\\\\n\t 6150 & of Ajax and Ulysses to the tent of Achilles. See also l. 215.            \\\\\n\t 6150 &                                                                          \\\\\n\t 6150 &                                                                          \\\\\n\t 6150 & {[}7{]}                                                                      \\\\\n\t 6150 &                                                                          \\\\\n\t 6150 & L. 547. The terms made use of in this line, and in 481, may              \\\\\n\t 6150 & appear somewhat coarse, as addressed by one Goddess to another: but I    \\\\\n\t 6150 & assure the English reader that in this passage especially I have         \\\\\n\t 6150 & greatly softened down the expression of the original; a literal          \\\\\n\t 6150 & translation of which, however forcible, would shock even the least       \\\\\n\t 6150 & fastidious critic. It must, indeed, be admitted that the mode in which   \\\\\n\t 6150 & \"\"the white-armed Goddess\"\" proceeds to execute her threat is hardly more\\\\\n\t 6150 & dignified than the language, in which it is conveyed, is refined.        \\\\\n\t 6150 &                                                                          \\\\\n\t 6150 &                                                                          \\\\\n\t 6150 & {[}8{]}                                                                      \\\\\n\t 6150 &                                                                          \\\\\n\t 6150 & Line 737.--They being two, while I was only one. Such I                  \\\\\n\t 6150 & believe to be the true interpretation of this passage, which, however,   \\\\\n\t 6150 & is one of admitted difficulty. According to our modern notions, it is    \\\\\n\t 6150 & not very evident what advantage two men in a car would have over one in  \\\\\n\t 6150 & another; nor what would be gained by the division of labour which        \\\\\n\t 6150 & assigned the reins to one and the whip to the other; but such, from      \\\\\n\t 6150 & line 740-741, appears to have been the view taken by Homer.              \\\\\n\\end{tabular}\n",
            "text/plain": [
              "      gutenberg_id\n",
              "1     6150        \n",
              "2     6150        \n",
              "3     6150        \n",
              "4     6150        \n",
              "5     6150        \n",
              "6     6150        \n",
              "7     6150        \n",
              "8     6150        \n",
              "9     6150        \n",
              "10    6150        \n",
              "11    6150        \n",
              "12    6150        \n",
              "13    6150        \n",
              "14    6150        \n",
              "15    6150        \n",
              "16    6150        \n",
              "17    6150        \n",
              "18    6150        \n",
              "19    6150        \n",
              "20    6150        \n",
              "21    6150        \n",
              "22    6150        \n",
              "23    6150        \n",
              "24    6150        \n",
              "25    6150        \n",
              "26    6150        \n",
              "27    6150        \n",
              "28    6150        \n",
              "29    6150        \n",
              "30    6150        \n",
              "⋮     ⋮           \n",
              "20099 6150        \n",
              "20100 6150        \n",
              "20101 6150        \n",
              "20102 6150        \n",
              "20103 6150        \n",
              "20104 6150        \n",
              "20105 6150        \n",
              "20106 6150        \n",
              "20107 6150        \n",
              "20108 6150        \n",
              "20109 6150        \n",
              "20110 6150        \n",
              "20111 6150        \n",
              "20112 6150        \n",
              "20113 6150        \n",
              "20114 6150        \n",
              "20115 6150        \n",
              "20116 6150        \n",
              "20117 6150        \n",
              "20118 6150        \n",
              "20119 6150        \n",
              "20120 6150        \n",
              "20121 6150        \n",
              "20122 6150        \n",
              "20123 6150        \n",
              "20124 6150        \n",
              "20125 6150        \n",
              "20126 6150        \n",
              "20127 6150        \n",
              "20128 6150        \n",
              "      text                                                                     \n",
              "1     THE ILIAD OF HOMER                                                       \n",
              "2                                                                              \n",
              "3     RENDERED INTO ENGLISH BLANK VERSE.                                       \n",
              "4     BY                                                                       \n",
              "5                                                                              \n",
              "6     EDWARD EARL OF DERBY.                                                    \n",
              "7                                                                              \n",
              "8                                                                              \n",
              "9                                                                              \n",
              "10                                                                             \n",
              "11    PREFACE.                                                                 \n",
              "12                                                                             \n",
              "13                                                                             \n",
              "14    In the spring of 1862 I was induced, at the request of some personal     \n",
              "15    friends, to print, for private circulation only, a small volume of       \n",
              "16    \"\"Translations of Poems Ancient and Modern,\"\" in which was included the  \n",
              "17    first Book of the Iliad. The opinions expressed by some competent        \n",
              "18    judges of the degree of success which had attended this \"\"attempt to     \n",
              "19    infuse into an almost literal English version something of the spirit,   \n",
              "20    as well as the simplicity, of the great original,\"\" [Footnote:           \n",
              "21    Introduction to unpublished volume.] were sufficiently favourable to     \n",
              "22    encourage me to continue the work which I had begun. It has afforded     \n",
              "23    me, in the intervals of more urgent business, an unfailing, and          \n",
              "24    constantly increasing source of interest; and it is not without a        \n",
              "25    feeling of regret at the completion of my task, and a sincere            \n",
              "26    diffidence as to its success, that I venture to submit the result of my  \n",
              "27    labour to the ordeal of public criticism.                                \n",
              "28                                                                             \n",
              "29    Various causes, irrespective of any demerits of the work itself, forbid  \n",
              "30    me to anticipate for this translation any extensive popularity. First,   \n",
              "⋮     ⋮                                                                        \n",
              "20099 [6]                                                                      \n",
              "20100                                                                          \n",
              "20101 L. 151. Chthizos, yesterday. But either the word must have a             \n",
              "20102 more extended signification than is usually given to it, or Homer must   \n",
              "20103 here have fallen into an error; for two complete nights and one day,     \n",
              "20104 that on which Patroclus met his death, had intervened since the visit    \n",
              "20105 of Ajax and Ulysses to the tent of Achilles. See also l. 215.            \n",
              "20106                                                                          \n",
              "20107                                                                          \n",
              "20108 [7]                                                                      \n",
              "20109                                                                          \n",
              "20110 L. 547. The terms made use of in this line, and in 481, may              \n",
              "20111 appear somewhat coarse, as addressed by one Goddess to another: but I    \n",
              "20112 assure the English reader that in this passage especially I have         \n",
              "20113 greatly softened down the expression of the original; a literal          \n",
              "20114 translation of which, however forcible, would shock even the least       \n",
              "20115 fastidious critic. It must, indeed, be admitted that the mode in which   \n",
              "20116 \"\"the white-armed Goddess\"\" proceeds to execute her threat is hardly more\n",
              "20117 dignified than the language, in which it is conveyed, is refined.        \n",
              "20118                                                                          \n",
              "20119                                                                          \n",
              "20120 [8]                                                                      \n",
              "20121                                                                          \n",
              "20122 Line 737.--They being two, while I was only one. Such I                  \n",
              "20123 believe to be the true interpretation of this passage, which, however,   \n",
              "20124 is one of admitted difficulty. According to our modern notions, it is    \n",
              "20125 not very evident what advantage two men in a car would have over one in  \n",
              "20126 another; nor what would be gained by the division of labour which        \n",
              "20127 assigned the reins to one and the whip to the other; but such, from      \n",
              "20128 line 740-741, appears to have been the view taken by Homer.              "
            ]
          },
          "metadata": {}
        }
      ]
    },
    {
      "cell_type": "code",
      "source": [
        "df%<>%mutate(line=row_number())%>%select(-gutenberg_id)%>%print()"
      ],
      "metadata": {
        "colab": {
          "base_uri": "https://localhost:8080/"
        },
        "id": "8exxnuvaNSK0",
        "outputId": "285c5b90-b323-4c5b-99de-203d23ee2d13"
      },
      "execution_count": 19,
      "outputs": [
        {
          "output_type": "stream",
          "name": "stdout",
          "text": [
            "\u001b[90m# A tibble: 20,128 × 2\u001b[39m\n",
            "   text                                  line\n",
            "   \u001b[3m\u001b[90m<chr>\u001b[39m\u001b[23m                                \u001b[3m\u001b[90m<int>\u001b[39m\u001b[23m\n",
            "\u001b[90m 1\u001b[39m \u001b[90m\"\u001b[39mTHE ILIAD OF HOMER\u001b[90m\"\u001b[39m                     1\n",
            "\u001b[90m 2\u001b[39m \u001b[90m\"\u001b[39m\u001b[90m\"\u001b[39m                                       2\n",
            "\u001b[90m 3\u001b[39m \u001b[90m\"\u001b[39mRENDERED INTO ENGLISH BLANK VERSE.\u001b[90m\"\u001b[39m     3\n",
            "\u001b[90m 4\u001b[39m \u001b[90m\"\u001b[39mBY\u001b[90m\"\u001b[39m                                     4\n",
            "\u001b[90m 5\u001b[39m \u001b[90m\"\u001b[39m\u001b[90m\"\u001b[39m                                       5\n",
            "\u001b[90m 6\u001b[39m \u001b[90m\"\u001b[39mEDWARD EARL OF DERBY.\u001b[90m\"\u001b[39m                  6\n",
            "\u001b[90m 7\u001b[39m \u001b[90m\"\u001b[39m\u001b[90m\"\u001b[39m                                       7\n",
            "\u001b[90m 8\u001b[39m \u001b[90m\"\u001b[39m\u001b[90m\"\u001b[39m                                       8\n",
            "\u001b[90m 9\u001b[39m \u001b[90m\"\u001b[39m\u001b[90m\"\u001b[39m                                       9\n",
            "\u001b[90m10\u001b[39m \u001b[90m\"\u001b[39m\u001b[90m\"\u001b[39m                                      10\n",
            "\u001b[90m# ℹ 20,118 more rows\u001b[39m\n"
          ]
        }
      ]
    },
    {
      "cell_type": "code",
      "source": [
        "words<-df%>%unnest_tokens(word,text)%>%print()"
      ],
      "metadata": {
        "colab": {
          "base_uri": "https://localhost:8080/"
        },
        "id": "q5kLa1y5NSHe",
        "outputId": "cf9607e6-20f1-4fd2-bc45-827522d6720b"
      },
      "execution_count": 20,
      "outputs": [
        {
          "output_type": "stream",
          "name": "stdout",
          "text": [
            "\u001b[90m# A tibble: 146,319 × 2\u001b[39m\n",
            "    line word    \n",
            "   \u001b[3m\u001b[90m<int>\u001b[39m\u001b[23m \u001b[3m\u001b[90m<chr>\u001b[39m\u001b[23m   \n",
            "\u001b[90m 1\u001b[39m     1 the     \n",
            "\u001b[90m 2\u001b[39m     1 iliad   \n",
            "\u001b[90m 3\u001b[39m     1 of      \n",
            "\u001b[90m 4\u001b[39m     1 homer   \n",
            "\u001b[90m 5\u001b[39m     3 rendered\n",
            "\u001b[90m 6\u001b[39m     3 into    \n",
            "\u001b[90m 7\u001b[39m     3 english \n",
            "\u001b[90m 8\u001b[39m     3 blank   \n",
            "\u001b[90m 9\u001b[39m     3 verse   \n",
            "\u001b[90m10\u001b[39m     4 by      \n",
            "\u001b[90m# ℹ 146,309 more rows\u001b[39m\n"
          ]
        }
      ]
    },
    {
      "cell_type": "code",
      "source": [
        "install.packages(\"textdata\")\n",
        "library(textdata)"
      ],
      "metadata": {
        "colab": {
          "base_uri": "https://localhost:8080/"
        },
        "id": "9qZCp9NPPJOj",
        "outputId": "1d61190c-a1fe-4e2f-cddf-b3e904ce0a0f"
      },
      "execution_count": 27,
      "outputs": [
        {
          "output_type": "stream",
          "name": "stderr",
          "text": [
            "Installing package into ‘/usr/local/lib/R/site-library’\n",
            "(as ‘lib’ is unspecified)\n",
            "\n"
          ]
        }
      ]
    },
    {
      "cell_type": "code",
      "source": [
        "# Download the AFINN lexicon manually\n",
        "afinn_url <- \"https://raw.githubusercontent.com/fnielsen/afinn/master/afinn/data/AFINN-111.txt\"\n",
        "afinn_data <- read.delim(afinn_url, header = FALSE, sep = \"\\t\", col.names = c(\"word\", \"value\"))\n",
        "\n",
        "# Now you can use it like get_sentiments(\"afinn\")\n",
        "library(dplyr)\n",
        "\n",
        "score_freq <- words %>%\n",
        "  inner_join(afinn_data, by = \"word\") %>%\n",
        "  group_by(value) %>%\n",
        "  summarize(n = n()) %>%\n",
        "  print()\n"
      ],
      "metadata": {
        "colab": {
          "base_uri": "https://localhost:8080/"
        },
        "id": "FXusfYKUNSEZ",
        "outputId": "f95c5bb3-a95b-4c6b-8588-028afa4b3fc3"
      },
      "execution_count": 26,
      "outputs": [
        {
          "output_type": "stream",
          "name": "stdout",
          "text": [
            "\u001b[90m# A tibble: 9 × 2\u001b[39m\n",
            "  value     n\n",
            "  \u001b[3m\u001b[90m<int>\u001b[39m\u001b[23m \u001b[3m\u001b[90m<int>\u001b[39m\u001b[23m\n",
            "\u001b[90m1\u001b[39m    -\u001b[31m5\u001b[39m    12\n",
            "\u001b[90m2\u001b[39m    -\u001b[31m4\u001b[39m     9\n",
            "\u001b[90m3\u001b[39m    -\u001b[31m3\u001b[39m   710\n",
            "\u001b[90m4\u001b[39m    -\u001b[31m2\u001b[39m  \u001b[4m2\u001b[24m426\n",
            "\u001b[90m5\u001b[39m    -\u001b[31m1\u001b[39m  \u001b[4m1\u001b[24m645\n",
            "\u001b[90m6\u001b[39m     1  \u001b[4m1\u001b[24m076\n",
            "\u001b[90m7\u001b[39m     2  \u001b[4m2\u001b[24m353\n",
            "\u001b[90m8\u001b[39m     3   686\n",
            "\u001b[90m9\u001b[39m     4   100\n"
          ]
        }
      ]
    },
    {
      "cell_type": "code",
      "source": [
        "# Graph score frequencies\n",
        "score_freq %>%\n",
        "  ggplot(aes(value, n)) +\n",
        "  geom_bar(stat = \"identity\") +\n",
        "  scale_x_continuous(breaks = seq(-5, 4, by = 1)) +\n",
        "  ggtitle(\"The Iliad: Sentiment Scores by Words\") +\n",
        "  xlab(\"Sentiment Score\") +\n",
        "  ylab(\"Frequency of Words\")"
      ],
      "metadata": {
        "colab": {
          "base_uri": "https://localhost:8080/",
          "height": 437
        },
        "id": "a35MkXYVNSBP",
        "outputId": "5a33f8f4-baab-4e7d-84e0-50d43a724cdb"
      },
      "execution_count": 28,
      "outputs": [
        {
          "output_type": "display_data",
          "data": {
            "text/plain": [
              "plot without title"
            ],
            "image/png": "[encoded data removed]"
          },
          "metadata": {
            "image/png": {
              "width": 420,
              "height": 420
            }
          }
        }
      ]
    },
    {
      "cell_type": "code",
      "source": [
        "# Load required libraries\n",
        "library(dplyr)\n",
        "\n",
        "# Read AFINN lexicon directly from GitHub (no prompt)\n",
        "afinn_data <- read.delim(\"https://raw.githubusercontent.com/fnielsen/afinn/master/afinn/data/AFINN-111.txt\",\n",
        "                         header = FALSE, sep = \"\\t\", col.names = c(\"word\", \"value\"))\n",
        "\n",
        "# Assume `words` is your dataframe with at least `word` and `line` columns\n",
        "# Divide text into sections and calculate sentiment score per section\n",
        "score_arc <- words %>%\n",
        "  inner_join(afinn_data, by = \"word\") %>%\n",
        "  group_by(section = line %/% 100) %>%\n",
        "  summarize(score = mean(value)) %>%\n",
        "  print()\n"
      ],
      "metadata": {
        "colab": {
          "base_uri": "https://localhost:8080/"
        },
        "id": "iVZnDvAENR96",
        "outputId": "0471320e-997a-4c9c-972d-126f9374b554"
      },
      "execution_count": 30,
      "outputs": [
        {
          "output_type": "stream",
          "name": "stdout",
          "text": [
            "\u001b[90m# A tibble: 202 × 2\u001b[39m\n",
            "   section   score\n",
            "     \u001b[3m\u001b[90m<dbl>\u001b[39m\u001b[23m   \u001b[3m\u001b[90m<dbl>\u001b[39m\u001b[23m\n",
            "\u001b[90m 1\u001b[39m       0  0.689 \n",
            "\u001b[90m 2\u001b[39m       1 -\u001b[31m0\u001b[39m\u001b[31m.\u001b[39m\u001b[31m188\u001b[39m \n",
            "\u001b[90m 3\u001b[39m       2 -\u001b[31m0\u001b[39m\u001b[31m.\u001b[39m\u001b[31m0\u001b[39m\u001b[31m78\u001b[4m4\u001b[24m\u001b[39m\n",
            "\u001b[90m 4\u001b[39m       3  0.288 \n",
            "\u001b[90m 5\u001b[39m       4 -\u001b[31m0\u001b[39m\u001b[31m.\u001b[39m\u001b[31m0\u001b[39m\u001b[31m65\u001b[4m2\u001b[24m\u001b[39m\n",
            "\u001b[90m 6\u001b[39m       5  0.052\u001b[4m6\u001b[24m\n",
            "\u001b[90m 7\u001b[39m       6 -\u001b[31m0\u001b[39m\u001b[31m.\u001b[39m\u001b[31m0\u001b[39m\u001b[31m83\u001b[4m3\u001b[24m\u001b[39m\n",
            "\u001b[90m 8\u001b[39m       7  0.085\u001b[4m1\u001b[24m\n",
            "\u001b[90m 9\u001b[39m       8 -\u001b[31m0\u001b[39m\u001b[31m.\u001b[39m\u001b[31m0\u001b[39m\u001b[31m46\u001b[4m5\u001b[24m\u001b[39m\n",
            "\u001b[90m10\u001b[39m       9 -\u001b[31m0\u001b[39m\u001b[31m.\u001b[39m\u001b[31m135\u001b[39m \n",
            "\u001b[90m# ℹ 192 more rows\u001b[39m\n"
          ]
        }
      ]
    },
    {
      "cell_type": "code",
      "source": [
        "# Plot scores by section to view narrative arc\n",
        "score_arc %>%\n",
        "  ggplot(aes(section, score)) +\n",
        "  geom_hline(yintercept = 0, col = \"red\") +\n",
        "  geom_line(col = \"gray\") +\n",
        "  geom_smooth(method = loess, col = \"gray40\") +\n",
        "  ggtitle(\"The Iliad: Mean Sentiment Score by Section\") +\n",
        "  ylab(\"Mean Sentiment Score\") +\n",
        "  xlab(\"Section of 100 Lines\")\n"
      ],
      "metadata": {
        "colab": {
          "base_uri": "https://localhost:8080/",
          "height": 454
        },
        "id": "yL8d8mBJNR6j",
        "outputId": "dc2035a5-c8d4-45ba-eb42-ef635f27253a"
      },
      "execution_count": 31,
      "outputs": [
        {
          "output_type": "stream",
          "name": "stderr",
          "text": [
            "\u001b[1m\u001b[22m`geom_smooth()` using formula = 'y ~ x'\n"
          ]
        },
        {
          "output_type": "display_data",
          "data": {
            "text/plain": [
              "plot without title"
            ],
            "image/png": "[encoded data removed]"
          },
          "metadata": {
            "image/png": {
              "width": 420,
              "height": 420
            }
          }
        }
      ]
    },
    {
      "cell_type": "code",
      "source": [
        "install.packages(\"ggraph\")\n",
        "install.packages(\"igraph\")\n",
        "library(ggraph)\n",
        "library(igraph)"
      ],
      "metadata": {
        "colab": {
          "base_uri": "https://localhost:8080/"
        },
        "id": "ra8-hqbBQJuN",
        "outputId": "7d3b8df9-f88c-4c2f-fa9a-21961d7d65f9"
      },
      "execution_count": 32,
      "outputs": [
        {
          "output_type": "stream",
          "name": "stderr",
          "text": [
            "Installing package into ‘/usr/local/lib/R/site-library’\n",
            "(as ‘lib’ is unspecified)\n",
            "\n",
            "also installing the dependencies ‘tweenr’, ‘polyclip’, ‘RcppEigen’, ‘gridExtra’, ‘RcppArmadillo’, ‘ggforce’, ‘igraph’, ‘ggrepel’, ‘viridis’, ‘tidygraph’, ‘graphlayouts’\n",
            "\n",
            "\n",
            "Installing package into ‘/usr/local/lib/R/site-library’\n",
            "(as ‘lib’ is unspecified)\n",
            "\n",
            "\n",
            "Attaching package: ‘igraph’\n",
            "\n",
            "\n",
            "The following objects are masked from ‘package:lubridate’:\n",
            "\n",
            "    %--%, union\n",
            "\n",
            "\n",
            "The following objects are masked from ‘package:purrr’:\n",
            "\n",
            "    compose, simplify\n",
            "\n",
            "\n",
            "The following object is masked from ‘package:tidyr’:\n",
            "\n",
            "    crossing\n",
            "\n",
            "\n",
            "The following object is masked from ‘package:tibble’:\n",
            "\n",
            "    as_data_frame\n",
            "\n",
            "\n",
            "The following objects are masked from ‘package:dplyr’:\n",
            "\n",
            "    as_data_frame, groups, union\n",
            "\n",
            "\n",
            "The following objects are masked from ‘package:stats’:\n",
            "\n",
            "    decompose, spectrum\n",
            "\n",
            "\n",
            "The following object is masked from ‘package:base’:\n",
            "\n",
            "    union\n",
            "\n",
            "\n"
          ]
        }
      ]
    },
    {
      "cell_type": "code",
      "source": [
        "df<-import(\"/content/Iliad.txt\")%>% as_tibble()"
      ],
      "metadata": {
        "id": "TznrJqAiQJqn"
      },
      "execution_count": 33,
      "outputs": []
    },
    {
      "cell_type": "code",
      "source": [
        "df"
      ],
      "metadata": {
        "colab": {
          "base_uri": "https://localhost:8080/",
          "height": 1000
        },
        "id": "HtnXlXQTQJnk",
        "outputId": "ce1259e1-533c-4e3a-adab-5740a2242e8e"
      },
      "execution_count": 34,
      "outputs": [
        {
          "output_type": "display_data",
          "data": {
            "text/html": [
              "<table class=\"dataframe\">\n",
              "<caption>A tibble: 20128 × 2</caption>\n",
              "<thead>\n",
              "\t<tr><th scope=col>gutenberg_id</th><th scope=col>text</th></tr>\n",
              "\t<tr><th scope=col>&lt;int&gt;</th><th scope=col>&lt;chr&gt;</th></tr>\n",
              "</thead>\n",
              "<tbody>\n",
              "\t<tr><td>6150</td><td>THE ILIAD OF HOMER                                                     </td></tr>\n",
              "\t<tr><td>6150</td><td>                                                                       </td></tr>\n",
              "\t<tr><td>6150</td><td>RENDERED INTO ENGLISH BLANK VERSE.                                     </td></tr>\n",
              "\t<tr><td>6150</td><td>BY                                                                     </td></tr>\n",
              "\t<tr><td>6150</td><td>                                                                       </td></tr>\n",
              "\t<tr><td>6150</td><td>EDWARD EARL OF DERBY.                                                  </td></tr>\n",
              "\t<tr><td>6150</td><td>                                                                       </td></tr>\n",
              "\t<tr><td>6150</td><td>                                                                       </td></tr>\n",
              "\t<tr><td>6150</td><td>                                                                       </td></tr>\n",
              "\t<tr><td>6150</td><td>                                                                       </td></tr>\n",
              "\t<tr><td>6150</td><td>PREFACE.                                                               </td></tr>\n",
              "\t<tr><td>6150</td><td>                                                                       </td></tr>\n",
              "\t<tr><td>6150</td><td>                                                                       </td></tr>\n",
              "\t<tr><td>6150</td><td>In the spring of 1862 I was induced, at the request of some personal   </td></tr>\n",
              "\t<tr><td>6150</td><td>friends, to print, for private circulation only, a small volume of     </td></tr>\n",
              "\t<tr><td>6150</td><td>\"\"Translations of Poems Ancient and Modern,\"\" in which was included the</td></tr>\n",
              "\t<tr><td>6150</td><td>first Book of the Iliad. The opinions expressed by some competent      </td></tr>\n",
              "\t<tr><td>6150</td><td>judges of the degree of success which had attended this \"\"attempt to   </td></tr>\n",
              "\t<tr><td>6150</td><td>infuse into an almost literal English version something of the spirit, </td></tr>\n",
              "\t<tr><td>6150</td><td>as well as the simplicity, of the great original,\"\" [Footnote:         </td></tr>\n",
              "\t<tr><td>6150</td><td>Introduction to unpublished volume.] were sufficiently favourable to   </td></tr>\n",
              "\t<tr><td>6150</td><td>encourage me to continue the work which I had begun. It has afforded   </td></tr>\n",
              "\t<tr><td>6150</td><td>me, in the intervals of more urgent business, an unfailing, and        </td></tr>\n",
              "\t<tr><td>6150</td><td>constantly increasing source of interest; and it is not without a      </td></tr>\n",
              "\t<tr><td>6150</td><td>feeling of regret at the completion of my task, and a sincere          </td></tr>\n",
              "\t<tr><td>6150</td><td>diffidence as to its success, that I venture to submit the result of my</td></tr>\n",
              "\t<tr><td>6150</td><td>labour to the ordeal of public criticism.                              </td></tr>\n",
              "\t<tr><td>6150</td><td>                                                                       </td></tr>\n",
              "\t<tr><td>6150</td><td>Various causes, irrespective of any demerits of the work itself, forbid</td></tr>\n",
              "\t<tr><td>6150</td><td>me to anticipate for this translation any extensive popularity. First, </td></tr>\n",
              "\t<tr><td>⋮</td><td>⋮</td></tr>\n",
              "\t<tr><td>6150</td><td>[6]                                                                      </td></tr>\n",
              "\t<tr><td>6150</td><td>                                                                         </td></tr>\n",
              "\t<tr><td>6150</td><td>L. 151. Chthizos, yesterday. But either the word must have a             </td></tr>\n",
              "\t<tr><td>6150</td><td>more extended signification than is usually given to it, or Homer must   </td></tr>\n",
              "\t<tr><td>6150</td><td>here have fallen into an error; for two complete nights and one day,     </td></tr>\n",
              "\t<tr><td>6150</td><td>that on which Patroclus met his death, had intervened since the visit    </td></tr>\n",
              "\t<tr><td>6150</td><td>of Ajax and Ulysses to the tent of Achilles. See also l. 215.            </td></tr>\n",
              "\t<tr><td>6150</td><td>                                                                         </td></tr>\n",
              "\t<tr><td>6150</td><td>                                                                         </td></tr>\n",
              "\t<tr><td>6150</td><td>[7]                                                                      </td></tr>\n",
              "\t<tr><td>6150</td><td>                                                                         </td></tr>\n",
              "\t<tr><td>6150</td><td>L. 547. The terms made use of in this line, and in 481, may              </td></tr>\n",
              "\t<tr><td>6150</td><td>appear somewhat coarse, as addressed by one Goddess to another: but I    </td></tr>\n",
              "\t<tr><td>6150</td><td>assure the English reader that in this passage especially I have         </td></tr>\n",
              "\t<tr><td>6150</td><td>greatly softened down the expression of the original; a literal          </td></tr>\n",
              "\t<tr><td>6150</td><td>translation of which, however forcible, would shock even the least       </td></tr>\n",
              "\t<tr><td>6150</td><td>fastidious critic. It must, indeed, be admitted that the mode in which   </td></tr>\n",
              "\t<tr><td>6150</td><td>\"\"the white-armed Goddess\"\" proceeds to execute her threat is hardly more</td></tr>\n",
              "\t<tr><td>6150</td><td>dignified than the language, in which it is conveyed, is refined.        </td></tr>\n",
              "\t<tr><td>6150</td><td>                                                                         </td></tr>\n",
              "\t<tr><td>6150</td><td>                                                                         </td></tr>\n",
              "\t<tr><td>6150</td><td>[8]                                                                      </td></tr>\n",
              "\t<tr><td>6150</td><td>                                                                         </td></tr>\n",
              "\t<tr><td>6150</td><td>Line 737.--They being two, while I was only one. Such I                  </td></tr>\n",
              "\t<tr><td>6150</td><td>believe to be the true interpretation of this passage, which, however,   </td></tr>\n",
              "\t<tr><td>6150</td><td>is one of admitted difficulty. According to our modern notions, it is    </td></tr>\n",
              "\t<tr><td>6150</td><td>not very evident what advantage two men in a car would have over one in  </td></tr>\n",
              "\t<tr><td>6150</td><td>another; nor what would be gained by the division of labour which        </td></tr>\n",
              "\t<tr><td>6150</td><td>assigned the reins to one and the whip to the other; but such, from      </td></tr>\n",
              "\t<tr><td>6150</td><td>line 740-741, appears to have been the view taken by Homer.              </td></tr>\n",
              "</tbody>\n",
              "</table>\n"
            ],
            "text/markdown": "\nA tibble: 20128 × 2\n\n| gutenberg_id &lt;int&gt; | text &lt;chr&gt; |\n|---|---|\n| 6150 | THE ILIAD OF HOMER                                                      |\n| 6150 | <!----> |\n| 6150 | RENDERED INTO ENGLISH BLANK VERSE.                                      |\n| 6150 | BY                                                                      |\n| 6150 | <!----> |\n| 6150 | EDWARD EARL OF DERBY.                                                   |\n| 6150 | <!----> |\n| 6150 | <!----> |\n| 6150 | <!----> |\n| 6150 | <!----> |\n| 6150 | PREFACE.                                                                |\n| 6150 | <!----> |\n| 6150 | <!----> |\n| 6150 | In the spring of 1862 I was induced, at the request of some personal    |\n| 6150 | friends, to print, for private circulation only, a small volume of      |\n| 6150 | \"\"Translations of Poems Ancient and Modern,\"\" in which was included the |\n| 6150 | first Book of the Iliad. The opinions expressed by some competent       |\n| 6150 | judges of the degree of success which had attended this \"\"attempt to    |\n| 6150 | infuse into an almost literal English version something of the spirit,  |\n| 6150 | as well as the simplicity, of the great original,\"\" [Footnote:          |\n| 6150 | Introduction to unpublished volume.] were sufficiently favourable to    |\n| 6150 | encourage me to continue the work which I had begun. It has afforded    |\n| 6150 | me, in the intervals of more urgent business, an unfailing, and         |\n| 6150 | constantly increasing source of interest; and it is not without a       |\n| 6150 | feeling of regret at the completion of my task, and a sincere           |\n| 6150 | diffidence as to its success, that I venture to submit the result of my |\n| 6150 | labour to the ordeal of public criticism.                               |\n| 6150 | <!----> |\n| 6150 | Various causes, irrespective of any demerits of the work itself, forbid |\n| 6150 | me to anticipate for this translation any extensive popularity. First,  |\n| ⋮ | ⋮ |\n| 6150 | [6]                                                                       |\n| 6150 | <!----> |\n| 6150 | L. 151. Chthizos, yesterday. But either the word must have a              |\n| 6150 | more extended signification than is usually given to it, or Homer must    |\n| 6150 | here have fallen into an error; for two complete nights and one day,      |\n| 6150 | that on which Patroclus met his death, had intervened since the visit     |\n| 6150 | of Ajax and Ulysses to the tent of Achilles. See also l. 215.             |\n| 6150 | <!----> |\n| 6150 | <!----> |\n| 6150 | [7]                                                                       |\n| 6150 | <!----> |\n| 6150 | L. 547. The terms made use of in this line, and in 481, may               |\n| 6150 | appear somewhat coarse, as addressed by one Goddess to another: but I     |\n| 6150 | assure the English reader that in this passage especially I have          |\n| 6150 | greatly softened down the expression of the original; a literal           |\n| 6150 | translation of which, however forcible, would shock even the least        |\n| 6150 | fastidious critic. It must, indeed, be admitted that the mode in which    |\n| 6150 | \"\"the white-armed Goddess\"\" proceeds to execute her threat is hardly more |\n| 6150 | dignified than the language, in which it is conveyed, is refined.         |\n| 6150 | <!----> |\n| 6150 | <!----> |\n| 6150 | [8]                                                                       |\n| 6150 | <!----> |\n| 6150 | Line 737.--They being two, while I was only one. Such I                   |\n| 6150 | believe to be the true interpretation of this passage, which, however,    |\n| 6150 | is one of admitted difficulty. According to our modern notions, it is     |\n| 6150 | not very evident what advantage two men in a car would have over one in   |\n| 6150 | another; nor what would be gained by the division of labour which         |\n| 6150 | assigned the reins to one and the whip to the other; but such, from       |\n| 6150 | line 740-741, appears to have been the view taken by Homer.               |\n\n",
            "text/latex": "A tibble: 20128 × 2\n\\begin{tabular}{ll}\n gutenberg\\_id & text\\\\\n <int> & <chr>\\\\\n\\hline\n\t 6150 & THE ILIAD OF HOMER                                                     \\\\\n\t 6150 &                                                                        \\\\\n\t 6150 & RENDERED INTO ENGLISH BLANK VERSE.                                     \\\\\n\t 6150 & BY                                                                     \\\\\n\t 6150 &                                                                        \\\\\n\t 6150 & EDWARD EARL OF DERBY.                                                  \\\\\n\t 6150 &                                                                        \\\\\n\t 6150 &                                                                        \\\\\n\t 6150 &                                                                        \\\\\n\t 6150 &                                                                        \\\\\n\t 6150 & PREFACE.                                                               \\\\\n\t 6150 &                                                                        \\\\\n\t 6150 &                                                                        \\\\\n\t 6150 & In the spring of 1862 I was induced, at the request of some personal   \\\\\n\t 6150 & friends, to print, for private circulation only, a small volume of     \\\\\n\t 6150 & \"\"Translations of Poems Ancient and Modern,\"\" in which was included the\\\\\n\t 6150 & first Book of the Iliad. The opinions expressed by some competent      \\\\\n\t 6150 & judges of the degree of success which had attended this \"\"attempt to   \\\\\n\t 6150 & infuse into an almost literal English version something of the spirit, \\\\\n\t 6150 & as well as the simplicity, of the great original,\"\" {[}Footnote:         \\\\\n\t 6150 & Introduction to unpublished volume.{]} were sufficiently favourable to   \\\\\n\t 6150 & encourage me to continue the work which I had begun. It has afforded   \\\\\n\t 6150 & me, in the intervals of more urgent business, an unfailing, and        \\\\\n\t 6150 & constantly increasing source of interest; and it is not without a      \\\\\n\t 6150 & feeling of regret at the completion of my task, and a sincere          \\\\\n\t 6150 & diffidence as to its success, that I venture to submit the result of my\\\\\n\t 6150 & labour to the ordeal of public criticism.                              \\\\\n\t 6150 &                                                                        \\\\\n\t 6150 & Various causes, irrespective of any demerits of the work itself, forbid\\\\\n\t 6150 & me to anticipate for this translation any extensive popularity. First, \\\\\n\t ⋮ & ⋮\\\\\n\t 6150 & {[}6{]}                                                                      \\\\\n\t 6150 &                                                                          \\\\\n\t 6150 & L. 151. Chthizos, yesterday. But either the word must have a             \\\\\n\t 6150 & more extended signification than is usually given to it, or Homer must   \\\\\n\t 6150 & here have fallen into an error; for two complete nights and one day,     \\\\\n\t 6150 & that on which Patroclus met his death, had intervened since the visit    \\\\\n\t 6150 & of Ajax and Ulysses to the tent of Achilles. See also l. 215.            \\\\\n\t 6150 &                                                                          \\\\\n\t 6150 &                                                                          \\\\\n\t 6150 & {[}7{]}                                                                      \\\\\n\t 6150 &                                                                          \\\\\n\t 6150 & L. 547. The terms made use of in this line, and in 481, may              \\\\\n\t 6150 & appear somewhat coarse, as addressed by one Goddess to another: but I    \\\\\n\t 6150 & assure the English reader that in this passage especially I have         \\\\\n\t 6150 & greatly softened down the expression of the original; a literal          \\\\\n\t 6150 & translation of which, however forcible, would shock even the least       \\\\\n\t 6150 & fastidious critic. It must, indeed, be admitted that the mode in which   \\\\\n\t 6150 & \"\"the white-armed Goddess\"\" proceeds to execute her threat is hardly more\\\\\n\t 6150 & dignified than the language, in which it is conveyed, is refined.        \\\\\n\t 6150 &                                                                          \\\\\n\t 6150 &                                                                          \\\\\n\t 6150 & {[}8{]}                                                                      \\\\\n\t 6150 &                                                                          \\\\\n\t 6150 & Line 737.--They being two, while I was only one. Such I                  \\\\\n\t 6150 & believe to be the true interpretation of this passage, which, however,   \\\\\n\t 6150 & is one of admitted difficulty. According to our modern notions, it is    \\\\\n\t 6150 & not very evident what advantage two men in a car would have over one in  \\\\\n\t 6150 & another; nor what would be gained by the division of labour which        \\\\\n\t 6150 & assigned the reins to one and the whip to the other; but such, from      \\\\\n\t 6150 & line 740-741, appears to have been the view taken by Homer.              \\\\\n\\end{tabular}\n",
            "text/plain": [
              "      gutenberg_id\n",
              "1     6150        \n",
              "2     6150        \n",
              "3     6150        \n",
              "4     6150        \n",
              "5     6150        \n",
              "6     6150        \n",
              "7     6150        \n",
              "8     6150        \n",
              "9     6150        \n",
              "10    6150        \n",
              "11    6150        \n",
              "12    6150        \n",
              "13    6150        \n",
              "14    6150        \n",
              "15    6150        \n",
              "16    6150        \n",
              "17    6150        \n",
              "18    6150        \n",
              "19    6150        \n",
              "20    6150        \n",
              "21    6150        \n",
              "22    6150        \n",
              "23    6150        \n",
              "24    6150        \n",
              "25    6150        \n",
              "26    6150        \n",
              "27    6150        \n",
              "28    6150        \n",
              "29    6150        \n",
              "30    6150        \n",
              "⋮     ⋮           \n",
              "20099 6150        \n",
              "20100 6150        \n",
              "20101 6150        \n",
              "20102 6150        \n",
              "20103 6150        \n",
              "20104 6150        \n",
              "20105 6150        \n",
              "20106 6150        \n",
              "20107 6150        \n",
              "20108 6150        \n",
              "20109 6150        \n",
              "20110 6150        \n",
              "20111 6150        \n",
              "20112 6150        \n",
              "20113 6150        \n",
              "20114 6150        \n",
              "20115 6150        \n",
              "20116 6150        \n",
              "20117 6150        \n",
              "20118 6150        \n",
              "20119 6150        \n",
              "20120 6150        \n",
              "20121 6150        \n",
              "20122 6150        \n",
              "20123 6150        \n",
              "20124 6150        \n",
              "20125 6150        \n",
              "20126 6150        \n",
              "20127 6150        \n",
              "20128 6150        \n",
              "      text                                                                     \n",
              "1     THE ILIAD OF HOMER                                                       \n",
              "2                                                                              \n",
              "3     RENDERED INTO ENGLISH BLANK VERSE.                                       \n",
              "4     BY                                                                       \n",
              "5                                                                              \n",
              "6     EDWARD EARL OF DERBY.                                                    \n",
              "7                                                                              \n",
              "8                                                                              \n",
              "9                                                                              \n",
              "10                                                                             \n",
              "11    PREFACE.                                                                 \n",
              "12                                                                             \n",
              "13                                                                             \n",
              "14    In the spring of 1862 I was induced, at the request of some personal     \n",
              "15    friends, to print, for private circulation only, a small volume of       \n",
              "16    \"\"Translations of Poems Ancient and Modern,\"\" in which was included the  \n",
              "17    first Book of the Iliad. The opinions expressed by some competent        \n",
              "18    judges of the degree of success which had attended this \"\"attempt to     \n",
              "19    infuse into an almost literal English version something of the spirit,   \n",
              "20    as well as the simplicity, of the great original,\"\" [Footnote:           \n",
              "21    Introduction to unpublished volume.] were sufficiently favourable to     \n",
              "22    encourage me to continue the work which I had begun. It has afforded     \n",
              "23    me, in the intervals of more urgent business, an unfailing, and          \n",
              "24    constantly increasing source of interest; and it is not without a        \n",
              "25    feeling of regret at the completion of my task, and a sincere            \n",
              "26    diffidence as to its success, that I venture to submit the result of my  \n",
              "27    labour to the ordeal of public criticism.                                \n",
              "28                                                                             \n",
              "29    Various causes, irrespective of any demerits of the work itself, forbid  \n",
              "30    me to anticipate for this translation any extensive popularity. First,   \n",
              "⋮     ⋮                                                                        \n",
              "20099 [6]                                                                      \n",
              "20100                                                                          \n",
              "20101 L. 151. Chthizos, yesterday. But either the word must have a             \n",
              "20102 more extended signification than is usually given to it, or Homer must   \n",
              "20103 here have fallen into an error; for two complete nights and one day,     \n",
              "20104 that on which Patroclus met his death, had intervened since the visit    \n",
              "20105 of Ajax and Ulysses to the tent of Achilles. See also l. 215.            \n",
              "20106                                                                          \n",
              "20107                                                                          \n",
              "20108 [7]                                                                      \n",
              "20109                                                                          \n",
              "20110 L. 547. The terms made use of in this line, and in 481, may              \n",
              "20111 appear somewhat coarse, as addressed by one Goddess to another: but I    \n",
              "20112 assure the English reader that in this passage especially I have         \n",
              "20113 greatly softened down the expression of the original; a literal          \n",
              "20114 translation of which, however forcible, would shock even the least       \n",
              "20115 fastidious critic. It must, indeed, be admitted that the mode in which   \n",
              "20116 \"\"the white-armed Goddess\"\" proceeds to execute her threat is hardly more\n",
              "20117 dignified than the language, in which it is conveyed, is refined.        \n",
              "20118                                                                          \n",
              "20119                                                                          \n",
              "20120 [8]                                                                      \n",
              "20121                                                                          \n",
              "20122 Line 737.--They being two, while I was only one. Such I                  \n",
              "20123 believe to be the true interpretation of this passage, which, however,   \n",
              "20124 is one of admitted difficulty. According to our modern notions, it is    \n",
              "20125 not very evident what advantage two men in a car would have over one in  \n",
              "20126 another; nor what would be gained by the division of labour which        \n",
              "20127 assigned the reins to one and the whip to the other; but such, from      \n",
              "20128 line 740-741, appears to have been the view taken by Homer.              "
            ]
          },
          "metadata": {}
        }
      ]
    },
    {
      "cell_type": "code",
      "source": [
        "df%<>%unnest_tokens(wordpairs,text,token=\"ngrams\",n=2)"
      ],
      "metadata": {
        "id": "6ajIZY2gQJkv"
      },
      "execution_count": 35,
      "outputs": []
    },
    {
      "cell_type": "code",
      "source": [
        "df%>%count(wordpairs,sort=TRUE)"
      ],
      "metadata": {
        "colab": {
          "base_uri": "https://localhost:8080/",
          "height": 1000
        },
        "id": "qrJCQVdjQJfH",
        "outputId": "bf6a3033-cdb2-4530-dd9c-f3bd8f497cf6"
      },
      "execution_count": 36,
      "outputs": [
        {
          "output_type": "display_data",
          "data": {
            "text/html": [
              "<table class=\"dataframe\">\n",
              "<caption>A tibble: 61325 × 2</caption>\n",
              "<thead>\n",
              "\t<tr><th scope=col>wordpairs</th><th scope=col>n</th></tr>\n",
              "\t<tr><th scope=col>&lt;chr&gt;</th><th scope=col>&lt;int&gt;</th></tr>\n",
              "</thead>\n",
              "<tbody>\n",
              "\t<tr><td>NA         </td><td>1549</td></tr>\n",
              "\t<tr><td>to the     </td><td> 525</td></tr>\n",
              "\t<tr><td>in the     </td><td> 450</td></tr>\n",
              "\t<tr><td>of the     </td><td> 447</td></tr>\n",
              "\t<tr><td>from the   </td><td> 443</td></tr>\n",
              "\t<tr><td>the greeks </td><td> 330</td></tr>\n",
              "\t<tr><td>on the     </td><td> 307</td></tr>\n",
              "\t<tr><td>son of     </td><td> 279</td></tr>\n",
              "\t<tr><td>all the    </td><td> 223</td></tr>\n",
              "\t<tr><td>and the    </td><td> 218</td></tr>\n",
              "\t<tr><td>by the     </td><td> 212</td></tr>\n",
              "\t<tr><td>the ships  </td><td> 212</td></tr>\n",
              "\t<tr><td>the trojans</td><td> 211</td></tr>\n",
              "\t<tr><td>he said    </td><td> 199</td></tr>\n",
              "\t<tr><td>through the</td><td> 189</td></tr>\n",
              "\t<tr><td>to whom    </td><td> 170</td></tr>\n",
              "\t<tr><td>and with   </td><td> 168</td></tr>\n",
              "\t<tr><td>in his     </td><td> 159</td></tr>\n",
              "\t<tr><td>said and   </td><td> 153</td></tr>\n",
              "\t<tr><td>of troy    </td><td> 152</td></tr>\n",
              "\t<tr><td>of all     </td><td> 145</td></tr>\n",
              "\t<tr><td>and in     </td><td> 142</td></tr>\n",
              "\t<tr><td>and to     </td><td> 139</td></tr>\n",
              "\t<tr><td>of greece  </td><td> 136</td></tr>\n",
              "\t<tr><td>the gods   </td><td> 135</td></tr>\n",
              "\t<tr><td>with the   </td><td> 132</td></tr>\n",
              "\t<tr><td>to his     </td><td> 131</td></tr>\n",
              "\t<tr><td>for the    </td><td> 130</td></tr>\n",
              "\t<tr><td>the son    </td><td> 128</td></tr>\n",
              "\t<tr><td>upon the   </td><td> 122</td></tr>\n",
              "\t<tr><td>⋮</td><td>⋮</td></tr>\n",
              "\t<tr><td>youths contend    </td><td>1</td></tr>\n",
              "\t<tr><td>youths he         </td><td>1</td></tr>\n",
              "\t<tr><td>youths in         </td><td>1</td></tr>\n",
              "\t<tr><td>youths no         </td><td>1</td></tr>\n",
              "\t<tr><td>youths nor        </td><td>1</td></tr>\n",
              "\t<tr><td>youths pursued    </td><td>1</td></tr>\n",
              "\t<tr><td>youths th         </td><td>1</td></tr>\n",
              "\t<tr><td>youths the        </td><td>1</td></tr>\n",
              "\t<tr><td>youths whirl'd    </td><td>1</td></tr>\n",
              "\t<tr><td>youths whose      </td><td>1</td></tr>\n",
              "\t<tr><td>zacynthus and     </td><td>1</td></tr>\n",
              "\t<tr><td>zeal and          </td><td>1</td></tr>\n",
              "\t<tr><td>zeal he           </td><td>1</td></tr>\n",
              "\t<tr><td>zeal of           </td><td>1</td></tr>\n",
              "\t<tr><td>zeal prepar'd     </td><td>1</td></tr>\n",
              "\t<tr><td>zeal preparing    </td><td>1</td></tr>\n",
              "\t<tr><td>zeal redoubled    </td><td>1</td></tr>\n",
              "\t<tr><td>zeal the          </td><td>1</td></tr>\n",
              "\t<tr><td>zeal they         </td><td>1</td></tr>\n",
              "\t<tr><td>zeal unflagging   </td><td>1</td></tr>\n",
              "\t<tr><td>zealous heretofore</td><td>1</td></tr>\n",
              "\t<tr><td>zeleia dwelt      </td><td>1</td></tr>\n",
              "\t<tr><td>zephyr and        </td><td>1</td></tr>\n",
              "\t<tr><td>zephyr bore       </td><td>1</td></tr>\n",
              "\t<tr><td>zephyr from       </td><td>1</td></tr>\n",
              "\t<tr><td>zephyr's breath   </td><td>1</td></tr>\n",
              "\t<tr><td>zephyr's breeze   </td><td>1</td></tr>\n",
              "\t<tr><td>zephyrus and      </td><td>1</td></tr>\n",
              "\t<tr><td>zeus or           </td><td>1</td></tr>\n",
              "\t<tr><td>zone from         </td><td>1</td></tr>\n",
              "</tbody>\n",
              "</table>\n"
            ],
            "text/markdown": "\nA tibble: 61325 × 2\n\n| wordpairs &lt;chr&gt; | n &lt;int&gt; |\n|---|---|\n| NA          | 1549 |\n| to the      |  525 |\n| in the      |  450 |\n| of the      |  447 |\n| from the    |  443 |\n| the greeks  |  330 |\n| on the      |  307 |\n| son of      |  279 |\n| all the     |  223 |\n| and the     |  218 |\n| by the      |  212 |\n| the ships   |  212 |\n| the trojans |  211 |\n| he said     |  199 |\n| through the |  189 |\n| to whom     |  170 |\n| and with    |  168 |\n| in his      |  159 |\n| said and    |  153 |\n| of troy     |  152 |\n| of all      |  145 |\n| and in      |  142 |\n| and to      |  139 |\n| of greece   |  136 |\n| the gods    |  135 |\n| with the    |  132 |\n| to his      |  131 |\n| for the     |  130 |\n| the son     |  128 |\n| upon the    |  122 |\n| ⋮ | ⋮ |\n| youths contend     | 1 |\n| youths he          | 1 |\n| youths in          | 1 |\n| youths no          | 1 |\n| youths nor         | 1 |\n| youths pursued     | 1 |\n| youths th          | 1 |\n| youths the         | 1 |\n| youths whirl'd     | 1 |\n| youths whose       | 1 |\n| zacynthus and      | 1 |\n| zeal and           | 1 |\n| zeal he            | 1 |\n| zeal of            | 1 |\n| zeal prepar'd      | 1 |\n| zeal preparing     | 1 |\n| zeal redoubled     | 1 |\n| zeal the           | 1 |\n| zeal they          | 1 |\n| zeal unflagging    | 1 |\n| zealous heretofore | 1 |\n| zeleia dwelt       | 1 |\n| zephyr and         | 1 |\n| zephyr bore        | 1 |\n| zephyr from        | 1 |\n| zephyr's breath    | 1 |\n| zephyr's breeze    | 1 |\n| zephyrus and       | 1 |\n| zeus or            | 1 |\n| zone from          | 1 |\n\n",
            "text/latex": "A tibble: 61325 × 2\n\\begin{tabular}{ll}\n wordpairs & n\\\\\n <chr> & <int>\\\\\n\\hline\n\t NA          & 1549\\\\\n\t to the      &  525\\\\\n\t in the      &  450\\\\\n\t of the      &  447\\\\\n\t from the    &  443\\\\\n\t the greeks  &  330\\\\\n\t on the      &  307\\\\\n\t son of      &  279\\\\\n\t all the     &  223\\\\\n\t and the     &  218\\\\\n\t by the      &  212\\\\\n\t the ships   &  212\\\\\n\t the trojans &  211\\\\\n\t he said     &  199\\\\\n\t through the &  189\\\\\n\t to whom     &  170\\\\\n\t and with    &  168\\\\\n\t in his      &  159\\\\\n\t said and    &  153\\\\\n\t of troy     &  152\\\\\n\t of all      &  145\\\\\n\t and in      &  142\\\\\n\t and to      &  139\\\\\n\t of greece   &  136\\\\\n\t the gods    &  135\\\\\n\t with the    &  132\\\\\n\t to his      &  131\\\\\n\t for the     &  130\\\\\n\t the son     &  128\\\\\n\t upon the    &  122\\\\\n\t ⋮ & ⋮\\\\\n\t youths contend     & 1\\\\\n\t youths he          & 1\\\\\n\t youths in          & 1\\\\\n\t youths no          & 1\\\\\n\t youths nor         & 1\\\\\n\t youths pursued     & 1\\\\\n\t youths th          & 1\\\\\n\t youths the         & 1\\\\\n\t youths whirl'd     & 1\\\\\n\t youths whose       & 1\\\\\n\t zacynthus and      & 1\\\\\n\t zeal and           & 1\\\\\n\t zeal he            & 1\\\\\n\t zeal of            & 1\\\\\n\t zeal prepar'd      & 1\\\\\n\t zeal preparing     & 1\\\\\n\t zeal redoubled     & 1\\\\\n\t zeal the           & 1\\\\\n\t zeal they          & 1\\\\\n\t zeal unflagging    & 1\\\\\n\t zealous heretofore & 1\\\\\n\t zeleia dwelt       & 1\\\\\n\t zephyr and         & 1\\\\\n\t zephyr bore        & 1\\\\\n\t zephyr from        & 1\\\\\n\t zephyr's breath    & 1\\\\\n\t zephyr's breeze    & 1\\\\\n\t zephyrus and       & 1\\\\\n\t zeus or            & 1\\\\\n\t zone from          & 1\\\\\n\\end{tabular}\n",
            "text/plain": [
              "      wordpairs          n   \n",
              "1     NA                 1549\n",
              "2     to the              525\n",
              "3     in the              450\n",
              "4     of the              447\n",
              "5     from the            443\n",
              "6     the greeks          330\n",
              "7     on the              307\n",
              "8     son of              279\n",
              "9     all the             223\n",
              "10    and the             218\n",
              "11    by the              212\n",
              "12    the ships           212\n",
              "13    the trojans         211\n",
              "14    he said             199\n",
              "15    through the         189\n",
              "16    to whom             170\n",
              "17    and with            168\n",
              "18    in his              159\n",
              "19    said and            153\n",
              "20    of troy             152\n",
              "21    of all              145\n",
              "22    and in              142\n",
              "23    and to              139\n",
              "24    of greece           136\n",
              "25    the gods            135\n",
              "26    with the            132\n",
              "27    to his              131\n",
              "28    for the             130\n",
              "29    the son             128\n",
              "30    upon the            122\n",
              "⋮     ⋮                  ⋮   \n",
              "61296 youths contend     1   \n",
              "61297 youths he          1   \n",
              "61298 youths in          1   \n",
              "61299 youths no          1   \n",
              "61300 youths nor         1   \n",
              "61301 youths pursued     1   \n",
              "61302 youths th          1   \n",
              "61303 youths the         1   \n",
              "61304 youths whirl'd     1   \n",
              "61305 youths whose       1   \n",
              "61306 zacynthus and      1   \n",
              "61307 zeal and           1   \n",
              "61308 zeal he            1   \n",
              "61309 zeal of            1   \n",
              "61310 zeal prepar'd      1   \n",
              "61311 zeal preparing     1   \n",
              "61312 zeal redoubled     1   \n",
              "61313 zeal the           1   \n",
              "61314 zeal they          1   \n",
              "61315 zeal unflagging    1   \n",
              "61316 zealous heretofore 1   \n",
              "61317 zeleia dwelt       1   \n",
              "61318 zephyr and         1   \n",
              "61319 zephyr bore        1   \n",
              "61320 zephyr from        1   \n",
              "61321 zephyr's breath    1   \n",
              "61322 zephyr's breeze    1   \n",
              "61323 zephyrus and       1   \n",
              "61324 zeus or            1   \n",
              "61325 zone from          1   "
            ]
          },
          "metadata": {}
        }
      ]
    },
    {
      "cell_type": "code",
      "source": [
        "df%<>%separate(wordpairs,c(\"word1\",\"word2\"),sep=\" \")%>%select(-gutenberg_id)%>%print()"
      ],
      "metadata": {
        "colab": {
          "base_uri": "https://localhost:8080/"
        },
        "id": "PTns58trQJbj",
        "outputId": "1957d969-d5cc-4f8c-e08c-8771011a1742"
      },
      "execution_count": 38,
      "outputs": [
        {
          "output_type": "stream",
          "name": "stdout",
          "text": [
            "\u001b[90m# A tibble: 129,242 × 2\u001b[39m\n",
            "   word1    word2  \n",
            "   \u001b[3m\u001b[90m<chr>\u001b[39m\u001b[23m    \u001b[3m\u001b[90m<chr>\u001b[39m\u001b[23m  \n",
            "\u001b[90m 1\u001b[39m the      iliad  \n",
            "\u001b[90m 2\u001b[39m iliad    of     \n",
            "\u001b[90m 3\u001b[39m of       homer  \n",
            "\u001b[90m 4\u001b[39m \u001b[31mNA\u001b[39m       \u001b[31mNA\u001b[39m     \n",
            "\u001b[90m 5\u001b[39m rendered into   \n",
            "\u001b[90m 6\u001b[39m into     english\n",
            "\u001b[90m 7\u001b[39m english  blank  \n",
            "\u001b[90m 8\u001b[39m blank    verse  \n",
            "\u001b[90m 9\u001b[39m \u001b[31mNA\u001b[39m       \u001b[31mNA\u001b[39m     \n",
            "\u001b[90m10\u001b[39m \u001b[31mNA\u001b[39m       \u001b[31mNA\u001b[39m     \n",
            "\u001b[90m# ℹ 129,232 more rows\u001b[39m\n"
          ]
        }
      ]
    },
    {
      "cell_type": "code",
      "source": [
        "# Remove word pairs that have stop words. Because there are\n",
        "# now two words, it doesn't work to use the `anti_join`\n",
        "# function used previously. Instead, the cases are filtered\n",
        "# out if either word contains a stop word. This reduces the\n",
        "# total number of observations from 146,318 to 28,019, an\n",
        "# 81% reduction.\n",
        "df %<>%\n",
        "  filter(!word1 %in% stop_words$word) %>%\n",
        "  filter(!word2 %in% stop_words$word) %>%\n",
        "  print()"
      ],
      "metadata": {
        "colab": {
          "base_uri": "https://localhost:8080/"
        },
        "id": "l47pX6PCQJYk",
        "outputId": "d7e60dd9-7d8e-43ae-b787-f7b34e76d1f0"
      },
      "execution_count": 39,
      "outputs": [
        {
          "output_type": "stream",
          "name": "stdout",
          "text": [
            "\u001b[90m# A tibble: 25,938 × 2\u001b[39m\n",
            "   word1   word2\n",
            "   \u001b[3m\u001b[90m<chr>\u001b[39m\u001b[23m   \u001b[3m\u001b[90m<chr>\u001b[39m\u001b[23m\n",
            "\u001b[90m 1\u001b[39m \u001b[31mNA\u001b[39m      \u001b[31mNA\u001b[39m   \n",
            "\u001b[90m 2\u001b[39m english blank\n",
            "\u001b[90m 3\u001b[39m blank   verse\n",
            "\u001b[90m 4\u001b[39m \u001b[31mNA\u001b[39m      \u001b[31mNA\u001b[39m   \n",
            "\u001b[90m 5\u001b[39m \u001b[31mNA\u001b[39m      \u001b[31mNA\u001b[39m   \n",
            "\u001b[90m 6\u001b[39m edward  earl \n",
            "\u001b[90m 7\u001b[39m \u001b[31mNA\u001b[39m      \u001b[31mNA\u001b[39m   \n",
            "\u001b[90m 8\u001b[39m \u001b[31mNA\u001b[39m      \u001b[31mNA\u001b[39m   \n",
            "\u001b[90m 9\u001b[39m \u001b[31mNA\u001b[39m      \u001b[31mNA\u001b[39m   \n",
            "\u001b[90m10\u001b[39m \u001b[31mNA\u001b[39m      \u001b[31mNA\u001b[39m   \n",
            "\u001b[90m# ℹ 25,928 more rows\u001b[39m\n"
          ]
        }
      ]
    },
    {
      "cell_type": "code",
      "source": [
        "# Save sorted counts\n",
        "df %<>%\n",
        "  count(\n",
        "    word1,\n",
        "    word2,\n",
        "    sort = TRUE\n",
        "  ) %>%\n",
        "  print()\n"
      ],
      "metadata": {
        "colab": {
          "base_uri": "https://localhost:8080/"
        },
        "id": "rsJXYB03WD9f",
        "outputId": "f3954e36-d81b-48cf-c918-de55e91974bd"
      },
      "execution_count": 40,
      "outputs": [
        {
          "output_type": "stream",
          "name": "stdout",
          "text": [
            "\u001b[90m# A tibble: 16,804 × 3\u001b[39m\n",
            "   word1    word2     n\n",
            "   \u001b[3m\u001b[90m<chr>\u001b[39m\u001b[23m    \u001b[3m\u001b[90m<chr>\u001b[39m\u001b[23m \u001b[3m\u001b[90m<int>\u001b[39m\u001b[23m\n",
            "\u001b[90m 1\u001b[39m \u001b[31mNA\u001b[39m       \u001b[31mNA\u001b[39m     \u001b[4m1\u001b[24m549\n",
            "\u001b[90m 2\u001b[39m peleus   son      51\n",
            "\u001b[90m 3\u001b[39m saturn's son      43\n",
            "\u001b[90m 4\u001b[39m atreus   son      42\n",
            "\u001b[90m 5\u001b[39m noble    son      41\n",
            "\u001b[90m 6\u001b[39m thou     art      39\n",
            "\u001b[90m 7\u001b[39m achilles swift    38\n",
            "\u001b[90m 8\u001b[39m battle   field    38\n",
            "\u001b[90m 9\u001b[39m glancing helm     37\n",
            "\u001b[90m10\u001b[39m immortal gods     36\n",
            "\u001b[90m# ℹ 16,794 more rows\u001b[39m\n"
          ]
        }
      ]
    },
    {
      "cell_type": "code",
      "source": [
        "# Pair frequencies\n",
        "df %>%\n",
        "  group_by(n) %>%\n",
        "  summarize(f = n()) %>%  # Count number of words\n",
        "  mutate(p = n / sum(n))  # Get proportions of total"
      ],
      "metadata": {
        "colab": {
          "base_uri": "https://localhost:8080/",
          "height": 1000
        },
        "id": "FOmY7GfqWD55",
        "outputId": "c69c8790-f47b-41c7-ef57-c04a99686048"
      },
      "execution_count": 41,
      "outputs": [
        {
          "output_type": "display_data",
          "data": {
            "text/html": [
              "<table class=\"dataframe\">\n",
              "<caption>A tibble: 41 × 3</caption>\n",
              "<thead>\n",
              "\t<tr><th scope=col>n</th><th scope=col>f</th><th scope=col>p</th></tr>\n",
              "\t<tr><th scope=col>&lt;int&gt;</th><th scope=col>&lt;int&gt;</th><th scope=col>&lt;dbl&gt;</th></tr>\n",
              "</thead>\n",
              "<tbody>\n",
              "\t<tr><td>   1</td><td>13837</td><td>0.0004154549</td></tr>\n",
              "\t<tr><td>   2</td><td> 1713</td><td>0.0008309098</td></tr>\n",
              "\t<tr><td>   3</td><td>  538</td><td>0.0012463648</td></tr>\n",
              "\t<tr><td>   4</td><td>  225</td><td>0.0016618197</td></tr>\n",
              "\t<tr><td>   5</td><td>  132</td><td>0.0020772746</td></tr>\n",
              "\t<tr><td>   6</td><td>   99</td><td>0.0024927295</td></tr>\n",
              "\t<tr><td>   7</td><td>   60</td><td>0.0029081845</td></tr>\n",
              "\t<tr><td>   8</td><td>   32</td><td>0.0033236394</td></tr>\n",
              "\t<tr><td>   9</td><td>   28</td><td>0.0037390943</td></tr>\n",
              "\t<tr><td>  10</td><td>   24</td><td>0.0041545492</td></tr>\n",
              "\t<tr><td>  11</td><td>   16</td><td>0.0045700042</td></tr>\n",
              "\t<tr><td>  12</td><td>   18</td><td>0.0049854591</td></tr>\n",
              "\t<tr><td>  13</td><td>   12</td><td>0.0054009140</td></tr>\n",
              "\t<tr><td>  14</td><td>    4</td><td>0.0058163689</td></tr>\n",
              "\t<tr><td>  15</td><td>    2</td><td>0.0062318238</td></tr>\n",
              "\t<tr><td>  16</td><td>    8</td><td>0.0066472788</td></tr>\n",
              "\t<tr><td>  17</td><td>    5</td><td>0.0070627337</td></tr>\n",
              "\t<tr><td>  18</td><td>    4</td><td>0.0074781886</td></tr>\n",
              "\t<tr><td>  19</td><td>    3</td><td>0.0078936435</td></tr>\n",
              "\t<tr><td>  20</td><td>    6</td><td>0.0083090985</td></tr>\n",
              "\t<tr><td>  21</td><td>    3</td><td>0.0087245534</td></tr>\n",
              "\t<tr><td>  22</td><td>    4</td><td>0.0091400083</td></tr>\n",
              "\t<tr><td>  23</td><td>    2</td><td>0.0095554632</td></tr>\n",
              "\t<tr><td>  24</td><td>    2</td><td>0.0099709182</td></tr>\n",
              "\t<tr><td>  25</td><td>    5</td><td>0.0103863731</td></tr>\n",
              "\t<tr><td>  26</td><td>    2</td><td>0.0108018280</td></tr>\n",
              "\t<tr><td>  27</td><td>    1</td><td>0.0112172829</td></tr>\n",
              "\t<tr><td>  28</td><td>    1</td><td>0.0116327378</td></tr>\n",
              "\t<tr><td>  29</td><td>    3</td><td>0.0120481928</td></tr>\n",
              "\t<tr><td>  31</td><td>    1</td><td>0.0128791026</td></tr>\n",
              "\t<tr><td>  32</td><td>    1</td><td>0.0132945575</td></tr>\n",
              "\t<tr><td>  33</td><td>    2</td><td>0.0137100125</td></tr>\n",
              "\t<tr><td>  36</td><td>    2</td><td>0.0149563772</td></tr>\n",
              "\t<tr><td>  37</td><td>    1</td><td>0.0153718322</td></tr>\n",
              "\t<tr><td>  38</td><td>    2</td><td>0.0157872871</td></tr>\n",
              "\t<tr><td>  39</td><td>    1</td><td>0.0162027420</td></tr>\n",
              "\t<tr><td>  41</td><td>    1</td><td>0.0170336518</td></tr>\n",
              "\t<tr><td>  42</td><td>    1</td><td>0.0174491068</td></tr>\n",
              "\t<tr><td>  43</td><td>    1</td><td>0.0178645617</td></tr>\n",
              "\t<tr><td>  51</td><td>    1</td><td>0.0211882011</td></tr>\n",
              "\t<tr><td>1549</td><td>    1</td><td>0.6435396759</td></tr>\n",
              "</tbody>\n",
              "</table>\n"
            ],
            "text/markdown": "\nA tibble: 41 × 3\n\n| n &lt;int&gt; | f &lt;int&gt; | p &lt;dbl&gt; |\n|---|---|---|\n|    1 | 13837 | 0.0004154549 |\n|    2 |  1713 | 0.0008309098 |\n|    3 |   538 | 0.0012463648 |\n|    4 |   225 | 0.0016618197 |\n|    5 |   132 | 0.0020772746 |\n|    6 |    99 | 0.0024927295 |\n|    7 |    60 | 0.0029081845 |\n|    8 |    32 | 0.0033236394 |\n|    9 |    28 | 0.0037390943 |\n|   10 |    24 | 0.0041545492 |\n|   11 |    16 | 0.0045700042 |\n|   12 |    18 | 0.0049854591 |\n|   13 |    12 | 0.0054009140 |\n|   14 |     4 | 0.0058163689 |\n|   15 |     2 | 0.0062318238 |\n|   16 |     8 | 0.0066472788 |\n|   17 |     5 | 0.0070627337 |\n|   18 |     4 | 0.0074781886 |\n|   19 |     3 | 0.0078936435 |\n|   20 |     6 | 0.0083090985 |\n|   21 |     3 | 0.0087245534 |\n|   22 |     4 | 0.0091400083 |\n|   23 |     2 | 0.0095554632 |\n|   24 |     2 | 0.0099709182 |\n|   25 |     5 | 0.0103863731 |\n|   26 |     2 | 0.0108018280 |\n|   27 |     1 | 0.0112172829 |\n|   28 |     1 | 0.0116327378 |\n|   29 |     3 | 0.0120481928 |\n|   31 |     1 | 0.0128791026 |\n|   32 |     1 | 0.0132945575 |\n|   33 |     2 | 0.0137100125 |\n|   36 |     2 | 0.0149563772 |\n|   37 |     1 | 0.0153718322 |\n|   38 |     2 | 0.0157872871 |\n|   39 |     1 | 0.0162027420 |\n|   41 |     1 | 0.0170336518 |\n|   42 |     1 | 0.0174491068 |\n|   43 |     1 | 0.0178645617 |\n|   51 |     1 | 0.0211882011 |\n| 1549 |     1 | 0.6435396759 |\n\n",
            "text/latex": "A tibble: 41 × 3\n\\begin{tabular}{lll}\n n & f & p\\\\\n <int> & <int> & <dbl>\\\\\n\\hline\n\t    1 & 13837 & 0.0004154549\\\\\n\t    2 &  1713 & 0.0008309098\\\\\n\t    3 &   538 & 0.0012463648\\\\\n\t    4 &   225 & 0.0016618197\\\\\n\t    5 &   132 & 0.0020772746\\\\\n\t    6 &    99 & 0.0024927295\\\\\n\t    7 &    60 & 0.0029081845\\\\\n\t    8 &    32 & 0.0033236394\\\\\n\t    9 &    28 & 0.0037390943\\\\\n\t   10 &    24 & 0.0041545492\\\\\n\t   11 &    16 & 0.0045700042\\\\\n\t   12 &    18 & 0.0049854591\\\\\n\t   13 &    12 & 0.0054009140\\\\\n\t   14 &     4 & 0.0058163689\\\\\n\t   15 &     2 & 0.0062318238\\\\\n\t   16 &     8 & 0.0066472788\\\\\n\t   17 &     5 & 0.0070627337\\\\\n\t   18 &     4 & 0.0074781886\\\\\n\t   19 &     3 & 0.0078936435\\\\\n\t   20 &     6 & 0.0083090985\\\\\n\t   21 &     3 & 0.0087245534\\\\\n\t   22 &     4 & 0.0091400083\\\\\n\t   23 &     2 & 0.0095554632\\\\\n\t   24 &     2 & 0.0099709182\\\\\n\t   25 &     5 & 0.0103863731\\\\\n\t   26 &     2 & 0.0108018280\\\\\n\t   27 &     1 & 0.0112172829\\\\\n\t   28 &     1 & 0.0116327378\\\\\n\t   29 &     3 & 0.0120481928\\\\\n\t   31 &     1 & 0.0128791026\\\\\n\t   32 &     1 & 0.0132945575\\\\\n\t   33 &     2 & 0.0137100125\\\\\n\t   36 &     2 & 0.0149563772\\\\\n\t   37 &     1 & 0.0153718322\\\\\n\t   38 &     2 & 0.0157872871\\\\\n\t   39 &     1 & 0.0162027420\\\\\n\t   41 &     1 & 0.0170336518\\\\\n\t   42 &     1 & 0.0174491068\\\\\n\t   43 &     1 & 0.0178645617\\\\\n\t   51 &     1 & 0.0211882011\\\\\n\t 1549 &     1 & 0.6435396759\\\\\n\\end{tabular}\n",
            "text/plain": [
              "   n    f     p           \n",
              "1     1 13837 0.0004154549\n",
              "2     2  1713 0.0008309098\n",
              "3     3   538 0.0012463648\n",
              "4     4   225 0.0016618197\n",
              "5     5   132 0.0020772746\n",
              "6     6    99 0.0024927295\n",
              "7     7    60 0.0029081845\n",
              "8     8    32 0.0033236394\n",
              "9     9    28 0.0037390943\n",
              "10   10    24 0.0041545492\n",
              "11   11    16 0.0045700042\n",
              "12   12    18 0.0049854591\n",
              "13   13    12 0.0054009140\n",
              "14   14     4 0.0058163689\n",
              "15   15     2 0.0062318238\n",
              "16   16     8 0.0066472788\n",
              "17   17     5 0.0070627337\n",
              "18   18     4 0.0074781886\n",
              "19   19     3 0.0078936435\n",
              "20   20     6 0.0083090985\n",
              "21   21     3 0.0087245534\n",
              "22   22     4 0.0091400083\n",
              "23   23     2 0.0095554632\n",
              "24   24     2 0.0099709182\n",
              "25   25     5 0.0103863731\n",
              "26   26     2 0.0108018280\n",
              "27   27     1 0.0112172829\n",
              "28   28     1 0.0116327378\n",
              "29   29     3 0.0120481928\n",
              "30   31     1 0.0128791026\n",
              "31   32     1 0.0132945575\n",
              "32   33     2 0.0137100125\n",
              "33   36     2 0.0149563772\n",
              "34   37     1 0.0153718322\n",
              "35   38     2 0.0157872871\n",
              "36   39     1 0.0162027420\n",
              "37   41     1 0.0170336518\n",
              "38   42     1 0.0174491068\n",
              "39   43     1 0.0178645617\n",
              "40   51     1 0.0211882011\n",
              "41 1549     1 0.6435396759"
            ]
          },
          "metadata": {}
        }
      ]
    },
    {
      "cell_type": "code",
      "source": [
        "# See graph data\n",
        "df %>%\n",
        "  filter(n > 12) %>%           # Use observations w/n > 12\n",
        "  graph_from_data_frame()      # Print the data in Console"
      ],
      "metadata": {
        "colab": {
          "base_uri": "https://localhost:8080/",
          "height": 260
        },
        "id": "6Js47-qYWD3L",
        "outputId": "bfa8f5c3-c94b-4294-be3d-3b6f6932e906"
      },
      "execution_count": 42,
      "outputs": [
        {
          "output_type": "stream",
          "name": "stderr",
          "text": [
            "Warning message:\n",
            "“\u001b[1m\u001b[22mIn `d`, `NA` elements were replaced with string \"NA\".”\n"
          ]
        },
        {
          "output_type": "display_data",
          "data": {
            "text/plain": [
              "IGRAPH 59f3ab8 DN-- 112 82 -- \n",
              "+ attr: name (v/c), n (e/n)\n",
              "+ edges from 59f3ab8 (vertex names):\n",
              " [1] NA       ->NA        peleus   ->son       saturn's ->son      \n",
              " [4] atreus   ->son       noble    ->son       thou     ->art      \n",
              " [7] achilles ->swift     battle   ->field     glancing ->helm     \n",
              "[10] immortal ->gods      valiant  ->diomed    godlike  ->son      \n",
              "[13] thou     ->hast      agamemnon->king      grecian  ->ships    \n",
              "[16] aegis    ->bearing   bearing  ->jove      fair     ->hair'd   \n",
              "[19] blue     ->ey'd      warlike  ->menelaus  brass    ->clad     \n",
              "[22] white    ->arm'd     hast     ->thou      monarch  ->agamemnon\n",
              "+ ... omitted several edges"
            ]
          },
          "metadata": {}
        }
      ]
    },
    {
      "cell_type": "code",
      "source": [
        "# Visualize graph data (takes a moment)\n",
        "df %>%\n",
        "  filter(n > 12) %>%           # Use observations w/n > 12\n",
        "  graph_from_data_frame() %>%  # Draw graph from `df`\n",
        "  ggraph(layout = \"fr\") +      # Select \"fr\" layout\n",
        "  geom_edge_link() +           # Graph the links\n",
        "  geom_node_point() +          # Graph the nodes\n",
        "  geom_node_text(              # Add labels to nodes\n",
        "    aes(label = name),         # Label each node by name\n",
        "    nudge_x = .5,              # Move label slightly right\n",
        "    nudge_y = .5               # Move label slightly up\n",
        "  )"
      ],
      "metadata": {
        "colab": {
          "base_uri": "https://localhost:8080/",
          "height": 472
        },
        "id": "34luy0RFWD0E",
        "outputId": "15268078-6628-4fe1-f0d0-8f5734f19c47"
      },
      "execution_count": 43,
      "outputs": [
        {
          "output_type": "stream",
          "name": "stderr",
          "text": [
            "Warning message:\n",
            "“\u001b[1m\u001b[22mIn `d`, `NA` elements were replaced with string \"NA\".”\n"
          ]
        },
        {
          "output_type": "display_data",
          "data": {
            "text/plain": [
              "plot without title"
            ],
            "image/png": "[encoded data removed]"
          },
          "metadata": {
            "image/png": {
              "width": 420,
              "height": 420
            }
          }
        }
      ]
    },
    {
      "cell_type": "code",
      "source": [],
      "metadata": {
        "id": "y80mdmN-Wpw5"
      },
      "execution_count": null,
      "outputs": []
    }
  ]
}