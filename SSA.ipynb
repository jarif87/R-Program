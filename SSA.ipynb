{
  "nbformat": 4,
  "nbformat_minor": 0,
  "metadata": {
    "colab": {
      "provenance": []
    },
    "kernelspec": {
      "name": "ir",
      "display_name": "R"
    },
    "language_info": {
      "name": "R"
    }
  },
  "cells": [
    {
      "cell_type": "code",
      "execution_count": 1,
      "metadata": {
        "colab": {
          "base_uri": "https://localhost:8080/"
        },
        "id": "bhaDvkQ0eb13",
        "outputId": "c9628f2c-96e5-4df0-d666-7ee19b8f49dd"
      },
      "outputs": [
        {
          "output_type": "stream",
          "name": "stderr",
          "text": [
            "Installing package into ‘/usr/local/lib/R/site-library’\n",
            "(as ‘lib’ is unspecified)\n",
            "\n",
            "Installing package into ‘/usr/local/lib/R/site-library’\n",
            "(as ‘lib’ is unspecified)\n",
            "\n",
            "Installing package into ‘/usr/local/lib/R/site-library’\n",
            "(as ‘lib’ is unspecified)\n",
            "\n",
            "── \u001b[1mAttaching core tidyverse packages\u001b[22m ──────────────────────── tidyverse 2.0.0 ──\n",
            "\u001b[32m✔\u001b[39m \u001b[34mdplyr    \u001b[39m 1.1.4     \u001b[32m✔\u001b[39m \u001b[34mreadr    \u001b[39m 2.1.5\n",
            "\u001b[32m✔\u001b[39m \u001b[34mforcats  \u001b[39m 1.0.0     \u001b[32m✔\u001b[39m \u001b[34mstringr  \u001b[39m 1.5.1\n",
            "\u001b[32m✔\u001b[39m \u001b[34mggplot2  \u001b[39m 3.5.2     \u001b[32m✔\u001b[39m \u001b[34mtibble   \u001b[39m 3.2.1\n",
            "\u001b[32m✔\u001b[39m \u001b[34mlubridate\u001b[39m 1.9.4     \u001b[32m✔\u001b[39m \u001b[34mtidyr    \u001b[39m 1.3.1\n",
            "\u001b[32m✔\u001b[39m \u001b[34mpurrr    \u001b[39m 1.0.4     \n",
            "── \u001b[1mConflicts\u001b[22m ────────────────────────────────────────── tidyverse_conflicts() ──\n",
            "\u001b[31m✖\u001b[39m \u001b[34mdplyr\u001b[39m::\u001b[32mfilter()\u001b[39m masks \u001b[34mstats\u001b[39m::filter()\n",
            "\u001b[31m✖\u001b[39m \u001b[34mdplyr\u001b[39m::\u001b[32mlag()\u001b[39m    masks \u001b[34mstats\u001b[39m::lag()\n",
            "\u001b[36mℹ\u001b[39m Use the conflicted package (\u001b[3m\u001b[34m<http://conflicted.r-lib.org/>\u001b[39m\u001b[23m) to force all conflicts to become errors\n"
          ]
        }
      ],
      "source": [
        "install.packages(\"tidyverse\")\n",
        "install.packages(\"lubridate\")\n",
        "install.packages(\"stringr\")\n",
        "\n",
        "library(tidyverse)\n",
        "library(lubridate)\n",
        "library(stringr)"
      ]
    },
    {
      "cell_type": "code",
      "source": [
        "df<-read_csv(\"http://594442.youcanlearnit.net/ssadisability.csv\")\n"
      ],
      "metadata": {
        "colab": {
          "base_uri": "https://localhost:8080/"
        },
        "id": "Y9BMPUybeceQ",
        "outputId": "4cc2bec5-6b59-4101-f342-8bc81fd37ef3"
      },
      "execution_count": 2,
      "outputs": [
        {
          "output_type": "stream",
          "name": "stderr",
          "text": [
            "\u001b[1mRows: \u001b[22m\u001b[34m10\u001b[39m \u001b[1mColumns: \u001b[22m\u001b[34m25\u001b[39m\n",
            "\u001b[36m──\u001b[39m \u001b[1mColumn specification\u001b[22m \u001b[36m────────────────────────────────────────────────────────\u001b[39m\n",
            "\u001b[1mDelimiter:\u001b[22m \",\"\n",
            "\u001b[31mchr\u001b[39m  (1): Fiscal_Year\n",
            "\u001b[32mnum\u001b[39m (24): Oct_Total, Oct_Internet, Nov_Total, Nov_Internet, Dec_Total, Dec_I...\n",
            "\n",
            "\u001b[36mℹ\u001b[39m Use `spec()` to retrieve the full column specification for this data.\n",
            "\u001b[36mℹ\u001b[39m Specify the column types or set `show_col_types = FALSE` to quiet this message.\n"
          ]
        }
      ]
    },
    {
      "cell_type": "code",
      "source": [
        "glimpse(df)"
      ],
      "metadata": {
        "colab": {
          "base_uri": "https://localhost:8080/"
        },
        "id": "omm9pKE1echf",
        "outputId": "491556c7-ded2-4a35-d91f-c41e88bd9aed"
      },
      "execution_count": 3,
      "outputs": [
        {
          "output_type": "stream",
          "name": "stdout",
          "text": [
            "Rows: 10\n",
            "Columns: 25\n",
            "$ Fiscal_Year     \u001b[3m\u001b[90m<chr>\u001b[39m\u001b[23m \"FY08\"\u001b[90m, \u001b[39m\"FY09\"\u001b[90m, \u001b[39m\"FY10\"\u001b[90m, \u001b[39m\"FY11\"\u001b[90m, \u001b[39m\"FY12\"\u001b[90m, \u001b[39m\"FY13\"\u001b[90m, \u001b[39m\"FY14\"…\n",
            "$ Oct_Total       \u001b[3m\u001b[90m<dbl>\u001b[39m\u001b[23m 176407\u001b[90m, \u001b[39m244781\u001b[90m, \u001b[39m286598\u001b[90m, \u001b[39m299033\u001b[90m, \u001b[39m227456\u001b[90m, \u001b[39m224624\u001b[90m, \u001b[39m206471…\n",
            "$ Oct_Internet    \u001b[3m\u001b[90m<dbl>\u001b[39m\u001b[23m 15082\u001b[90m, \u001b[39m32578\u001b[90m, \u001b[39m65533\u001b[90m, \u001b[39m92856\u001b[90m, \u001b[39m86811\u001b[90m, \u001b[39m92542\u001b[90m, \u001b[39m98400\u001b[90m, \u001b[39m13374…\n",
            "$ Nov_Total       \u001b[3m\u001b[90m<dbl>\u001b[39m\u001b[23m 204287\u001b[90m, \u001b[39m181161\u001b[90m, \u001b[39m213297\u001b[90m, \u001b[39m209553\u001b[90m, \u001b[39m200140\u001b[90m, \u001b[39m249910\u001b[90m, \u001b[39m237621…\n",
            "$ Nov_Internet    \u001b[3m\u001b[90m<dbl>\u001b[39m\u001b[23m 17301\u001b[90m, \u001b[39m25620\u001b[90m, \u001b[39m50098\u001b[90m, \u001b[39m63424\u001b[90m, \u001b[39m71175\u001b[90m, \u001b[39m107053\u001b[90m, \u001b[39m117934\u001b[90m, \u001b[39m967…\n",
            "$ Dec_Total       \u001b[3m\u001b[90m<dbl>\u001b[39m\u001b[23m 151687\u001b[90m, \u001b[39m176107\u001b[90m, \u001b[39m198733\u001b[90m, \u001b[39m215239\u001b[90m, \u001b[39m254766\u001b[90m, \u001b[39m188183\u001b[90m, \u001b[39m175607…\n",
            "$ Dec_Internet    \u001b[3m\u001b[90m<dbl>\u001b[39m\u001b[23m 14321\u001b[90m, \u001b[39m27174\u001b[90m, \u001b[39m44512\u001b[90m, \u001b[39m62877\u001b[90m, \u001b[39m91424\u001b[90m, \u001b[39m79719\u001b[90m, \u001b[39m83377\u001b[90m, \u001b[39m89619…\n",
            "$ Jan_Total       \u001b[3m\u001b[90m<dbl>\u001b[39m\u001b[23m 162966\u001b[90m, \u001b[39m249062\u001b[90m, \u001b[39m265665\u001b[90m, \u001b[39m264286\u001b[90m, \u001b[39m221146\u001b[90m, \u001b[39m199588\u001b[90m, \u001b[39m240969…\n",
            "$ Jan_Internet    \u001b[3m\u001b[90m<dbl>\u001b[39m\u001b[23m 18391\u001b[90m, \u001b[39m57908\u001b[90m, \u001b[39m68843\u001b[90m, \u001b[39m84944\u001b[90m, \u001b[39m85848\u001b[90m, \u001b[39m93703\u001b[90m, \u001b[39m125320\u001b[90m, \u001b[39m1294…\n",
            "$ Feb_Total       \u001b[3m\u001b[90m<dbl>\u001b[39m\u001b[23m 228623\u001b[90m, \u001b[39m221368\u001b[90m, \u001b[39m225319\u001b[90m, \u001b[39m223625\u001b[90m, \u001b[39m228519\u001b[90m, \u001b[39m219604\u001b[90m, \u001b[39m205737…\n",
            "$ Feb_Internet    \u001b[3m\u001b[90m<dbl>\u001b[39m\u001b[23m 26034\u001b[90m, \u001b[39m50408\u001b[90m, \u001b[39m58465\u001b[90m, \u001b[39m71314\u001b[90m, \u001b[39m83576\u001b[90m, \u001b[39m101878\u001b[90m, \u001b[39m108384\u001b[90m, \u001b[39m101…\n",
            "$ Mar_Total       \u001b[3m\u001b[90m<dbl>\u001b[39m\u001b[23m 190716\u001b[90m, \u001b[39m235360\u001b[90m, \u001b[39m243266\u001b[90m, \u001b[39m246630\u001b[90m, \u001b[39m299267\u001b[90m, \u001b[39m285923\u001b[90m, \u001b[39m219696…\n",
            "$ Mar_Internet    \u001b[3m\u001b[90m<dbl>\u001b[39m\u001b[23m 21064\u001b[90m, \u001b[39m53592\u001b[90m, \u001b[39m62198\u001b[90m, \u001b[39m77916\u001b[90m, \u001b[39m112104\u001b[90m, \u001b[39m129415\u001b[90m, \u001b[39m114993\u001b[90m, \u001b[39m10…\n",
            "$ Apr_Total       \u001b[3m\u001b[90m<dbl>\u001b[39m\u001b[23m 194403\u001b[90m, \u001b[39m234304\u001b[90m, \u001b[39m298065\u001b[90m, \u001b[39m300359\u001b[90m, \u001b[39m233685\u001b[90m, \u001b[39m224804\u001b[90m, \u001b[39m218172…\n",
            "$ Apr_Internet    \u001b[3m\u001b[90m<dbl>\u001b[39m\u001b[23m 22372\u001b[90m, \u001b[39m53675\u001b[90m, \u001b[39m76573\u001b[90m, \u001b[39m94722\u001b[90m, \u001b[39m88330\u001b[90m, \u001b[39m101619\u001b[90m, \u001b[39m112417\u001b[90m, \u001b[39m101…\n",
            "$ May_Total       \u001b[3m\u001b[90m<dbl>\u001b[39m\u001b[23m 226549\u001b[90m, \u001b[39m281343\u001b[90m, \u001b[39m239409\u001b[90m, \u001b[39m241673\u001b[90m, \u001b[39m239503\u001b[90m, \u001b[39m269955\u001b[90m, \u001b[39m258726…\n",
            "$ May_Internet    \u001b[3m\u001b[90m<dbl>\u001b[39m\u001b[23m 26337\u001b[90m, \u001b[39m65822\u001b[90m, \u001b[39m65780\u001b[90m, \u001b[39m77603\u001b[90m, \u001b[39m93826\u001b[90m, \u001b[39m123440\u001b[90m, \u001b[39m134714\u001b[90m, \u001b[39m122…\n",
            "$ June_Total      \u001b[3m\u001b[90m<dbl>\u001b[39m\u001b[23m 193094\u001b[90m, \u001b[39m237329\u001b[90m, \u001b[39m231964\u001b[90m, \u001b[39m233351\u001b[90m, \u001b[39m284136\u001b[90m, \u001b[39m223238\u001b[90m, \u001b[39m213389…\n",
            "$ June_Internet   \u001b[3m\u001b[90m<dbl>\u001b[39m\u001b[23m 22551\u001b[90m, \u001b[39m54285\u001b[90m, \u001b[39m67163\u001b[90m, \u001b[39m79925\u001b[90m, \u001b[39m113613\u001b[90m, \u001b[39m104146\u001b[90m, \u001b[39m110227\u001b[90m, \u001b[39m99…\n",
            "$ July_Total      \u001b[3m\u001b[90m<dbl>\u001b[39m\u001b[23m 181552\u001b[90m, \u001b[39m285172\u001b[90m, \u001b[39m300442\u001b[90m, \u001b[39m292949\u001b[90m, \u001b[39m221745\u001b[90m, \u001b[39m204072\u001b[90m, \u001b[39m198484…\n",
            "$ July_Internet   \u001b[3m\u001b[90m<dbl>\u001b[39m\u001b[23m 22728\u001b[90m, \u001b[39m66565\u001b[90m, \u001b[39m92957\u001b[90m, \u001b[39m105276\u001b[90m, \u001b[39m91323\u001b[90m, \u001b[39m98326\u001b[90m, \u001b[39m106013\u001b[90m, \u001b[39m124…\n",
            "$ August_Total    \u001b[3m\u001b[90m<dbl>\u001b[39m\u001b[23m 245429\u001b[90m, \u001b[39m240611\u001b[90m, \u001b[39m248284\u001b[90m, \u001b[39m237555\u001b[90m, \u001b[39m298458\u001b[90m, \u001b[39m281828\u001b[90m, \u001b[39m265979…\n",
            "$ August_Internet \u001b[3m\u001b[90m<dbl>\u001b[39m\u001b[23m 30580\u001b[90m, \u001b[39m54915\u001b[90m, \u001b[39m75535\u001b[90m, \u001b[39m86514\u001b[90m, \u001b[39m119795\u001b[90m, \u001b[39m135423\u001b[90m, \u001b[39m139000\u001b[90m, \u001b[39m10…\n",
            "$ Sept_Internet   \u001b[3m\u001b[90m<dbl>\u001b[39m\u001b[23m 24141\u001b[90m, \u001b[39m52687\u001b[90m, \u001b[39m73403\u001b[90m, \u001b[39m103564\u001b[90m, \u001b[39m93375\u001b[90m, \u001b[39m104270\u001b[90m, \u001b[39m107284\u001b[90m, \u001b[39m98…\n",
            "$ Sept_Total      \u001b[3m\u001b[90m<dbl>\u001b[39m\u001b[23m 186750\u001b[90m, \u001b[39m228692\u001b[90m, \u001b[39m238965\u001b[90m, \u001b[39m280913\u001b[90m, \u001b[39m230648\u001b[90m, \u001b[39m214004\u001b[90m, \u001b[39m203384…\n"
          ]
        }
      ]
    },
    {
      "cell_type": "code",
      "source": [
        "# Make the dataset long\n",
        "ssa_long <- pivot_longer(df, !Fiscal_Year, names_to='month', values_to='applications')"
      ],
      "metadata": {
        "id": "RCn-KTzOeckn"
      },
      "execution_count": 5,
      "outputs": []
    },
    {
      "cell_type": "code",
      "source": [
        "print(ssa_long, n=20)"
      ],
      "metadata": {
        "colab": {
          "base_uri": "https://localhost:8080/"
        },
        "id": "-oARGvVBecnw",
        "outputId": "2d9793c5-53f9-439b-c309-295c306b726b"
      },
      "execution_count": 6,
      "outputs": [
        {
          "output_type": "stream",
          "name": "stdout",
          "text": [
            "\u001b[90m# A tibble: 240 × 3\u001b[39m\n",
            "   Fiscal_Year month         applications\n",
            "   \u001b[3m\u001b[90m<chr>\u001b[39m\u001b[23m       \u001b[3m\u001b[90m<chr>\u001b[39m\u001b[23m                \u001b[3m\u001b[90m<dbl>\u001b[39m\u001b[23m\n",
            "\u001b[90m 1\u001b[39m FY08        Oct_Total           \u001b[4m1\u001b[24m\u001b[4m7\u001b[24m\u001b[4m6\u001b[24m407\n",
            "\u001b[90m 2\u001b[39m FY08        Oct_Internet         \u001b[4m1\u001b[24m\u001b[4m5\u001b[24m082\n",
            "\u001b[90m 3\u001b[39m FY08        Nov_Total           \u001b[4m2\u001b[24m\u001b[4m0\u001b[24m\u001b[4m4\u001b[24m287\n",
            "\u001b[90m 4\u001b[39m FY08        Nov_Internet         \u001b[4m1\u001b[24m\u001b[4m7\u001b[24m301\n",
            "\u001b[90m 5\u001b[39m FY08        Dec_Total           \u001b[4m1\u001b[24m\u001b[4m5\u001b[24m\u001b[4m1\u001b[24m687\n",
            "\u001b[90m 6\u001b[39m FY08        Dec_Internet         \u001b[4m1\u001b[24m\u001b[4m4\u001b[24m321\n",
            "\u001b[90m 7\u001b[39m FY08        Jan_Total           \u001b[4m1\u001b[24m\u001b[4m6\u001b[24m\u001b[4m2\u001b[24m966\n",
            "\u001b[90m 8\u001b[39m FY08        Jan_Internet         \u001b[4m1\u001b[24m\u001b[4m8\u001b[24m391\n",
            "\u001b[90m 9\u001b[39m FY08        Feb_Total           \u001b[4m2\u001b[24m\u001b[4m2\u001b[24m\u001b[4m8\u001b[24m623\n",
            "\u001b[90m10\u001b[39m FY08        Feb_Internet         \u001b[4m2\u001b[24m\u001b[4m6\u001b[24m034\n",
            "\u001b[90m11\u001b[39m FY08        Mar_Total           \u001b[4m1\u001b[24m\u001b[4m9\u001b[24m\u001b[4m0\u001b[24m716\n",
            "\u001b[90m12\u001b[39m FY08        Mar_Internet         \u001b[4m2\u001b[24m\u001b[4m1\u001b[24m064\n",
            "\u001b[90m13\u001b[39m FY08        Apr_Total           \u001b[4m1\u001b[24m\u001b[4m9\u001b[24m\u001b[4m4\u001b[24m403\n",
            "\u001b[90m14\u001b[39m FY08        Apr_Internet         \u001b[4m2\u001b[24m\u001b[4m2\u001b[24m372\n",
            "\u001b[90m15\u001b[39m FY08        May_Total           \u001b[4m2\u001b[24m\u001b[4m2\u001b[24m\u001b[4m6\u001b[24m549\n",
            "\u001b[90m16\u001b[39m FY08        May_Internet         \u001b[4m2\u001b[24m\u001b[4m6\u001b[24m337\n",
            "\u001b[90m17\u001b[39m FY08        June_Total          \u001b[4m1\u001b[24m\u001b[4m9\u001b[24m\u001b[4m3\u001b[24m094\n",
            "\u001b[90m18\u001b[39m FY08        June_Internet        \u001b[4m2\u001b[24m\u001b[4m2\u001b[24m551\n",
            "\u001b[90m19\u001b[39m FY08        July_Total          \u001b[4m1\u001b[24m\u001b[4m8\u001b[24m\u001b[4m1\u001b[24m552\n",
            "\u001b[90m20\u001b[39m FY08        July_Internet        \u001b[4m2\u001b[24m\u001b[4m2\u001b[24m728\n",
            "\u001b[90m# ℹ 220 more rows\u001b[39m\n"
          ]
        }
      ]
    },
    {
      "cell_type": "code",
      "source": [
        "df<-read_csv(\"http://594442.youcanlearnit.net/ssadisability.csv\")"
      ],
      "metadata": {
        "colab": {
          "base_uri": "https://localhost:8080/"
        },
        "id": "2YdemDIIecqu",
        "outputId": "726a33f9-eab8-494d-dcac-1c0138cd304f"
      },
      "execution_count": 7,
      "outputs": [
        {
          "output_type": "stream",
          "name": "stderr",
          "text": [
            "\u001b[1mRows: \u001b[22m\u001b[34m10\u001b[39m \u001b[1mColumns: \u001b[22m\u001b[34m25\u001b[39m\n",
            "\u001b[36m──\u001b[39m \u001b[1mColumn specification\u001b[22m \u001b[36m────────────────────────────────────────────────────────\u001b[39m\n",
            "\u001b[1mDelimiter:\u001b[22m \",\"\n",
            "\u001b[31mchr\u001b[39m  (1): Fiscal_Year\n",
            "\u001b[32mnum\u001b[39m (24): Oct_Total, Oct_Internet, Nov_Total, Nov_Internet, Dec_Total, Dec_I...\n",
            "\n",
            "\u001b[36mℹ\u001b[39m Use `spec()` to retrieve the full column specification for this data.\n",
            "\u001b[36mℹ\u001b[39m Specify the column types or set `show_col_types = FALSE` to quiet this message.\n"
          ]
        }
      ]
    },
    {
      "cell_type": "code",
      "source": [
        "head(df,5)"
      ],
      "metadata": {
        "colab": {
          "base_uri": "https://localhost:8080/",
          "height": 275
        },
        "id": "hmDih76uecuC",
        "outputId": "d154bdf6-dbda-408f-83e1-90b3935b2cf2"
      },
      "execution_count": 8,
      "outputs": [
        {
          "output_type": "display_data",
          "data": {
            "text/html": [
              "<table class=\"dataframe\">\n",
              "<caption>A tibble: 5 × 25</caption>\n",
              "<thead>\n",
              "\t<tr><th scope=col>Fiscal_Year</th><th scope=col>Oct_Total</th><th scope=col>Oct_Internet</th><th scope=col>Nov_Total</th><th scope=col>Nov_Internet</th><th scope=col>Dec_Total</th><th scope=col>Dec_Internet</th><th scope=col>Jan_Total</th><th scope=col>Jan_Internet</th><th scope=col>Feb_Total</th><th scope=col>⋯</th><th scope=col>May_Total</th><th scope=col>May_Internet</th><th scope=col>June_Total</th><th scope=col>June_Internet</th><th scope=col>July_Total</th><th scope=col>July_Internet</th><th scope=col>August_Total</th><th scope=col>August_Internet</th><th scope=col>Sept_Internet</th><th scope=col>Sept_Total</th></tr>\n",
              "\t<tr><th scope=col>&lt;chr&gt;</th><th scope=col>&lt;dbl&gt;</th><th scope=col>&lt;dbl&gt;</th><th scope=col>&lt;dbl&gt;</th><th scope=col>&lt;dbl&gt;</th><th scope=col>&lt;dbl&gt;</th><th scope=col>&lt;dbl&gt;</th><th scope=col>&lt;dbl&gt;</th><th scope=col>&lt;dbl&gt;</th><th scope=col>&lt;dbl&gt;</th><th scope=col>⋯</th><th scope=col>&lt;dbl&gt;</th><th scope=col>&lt;dbl&gt;</th><th scope=col>&lt;dbl&gt;</th><th scope=col>&lt;dbl&gt;</th><th scope=col>&lt;dbl&gt;</th><th scope=col>&lt;dbl&gt;</th><th scope=col>&lt;dbl&gt;</th><th scope=col>&lt;dbl&gt;</th><th scope=col>&lt;dbl&gt;</th><th scope=col>&lt;dbl&gt;</th></tr>\n",
              "</thead>\n",
              "<tbody>\n",
              "\t<tr><td>FY08</td><td>176407</td><td>15082</td><td>204287</td><td>17301</td><td>151687</td><td>14321</td><td>162966</td><td>18391</td><td>228623</td><td>⋯</td><td>226549</td><td>26337</td><td>193094</td><td> 22551</td><td>181552</td><td> 22728</td><td>245429</td><td> 30580</td><td> 24141</td><td>186750</td></tr>\n",
              "\t<tr><td>FY09</td><td>244781</td><td>32578</td><td>181161</td><td>25620</td><td>176107</td><td>27174</td><td>249062</td><td>57908</td><td>221368</td><td>⋯</td><td>281343</td><td>65822</td><td>237329</td><td> 54285</td><td>285172</td><td> 66565</td><td>240611</td><td> 54915</td><td> 52687</td><td>228692</td></tr>\n",
              "\t<tr><td>FY10</td><td>286598</td><td>65533</td><td>213297</td><td>50098</td><td>198733</td><td>44512</td><td>265665</td><td>68843</td><td>225319</td><td>⋯</td><td>239409</td><td>65780</td><td>231964</td><td> 67163</td><td>300442</td><td> 92957</td><td>248284</td><td> 75535</td><td> 73403</td><td>238965</td></tr>\n",
              "\t<tr><td>FY11</td><td>299033</td><td>92856</td><td>209553</td><td>63424</td><td>215239</td><td>62877</td><td>264286</td><td>84944</td><td>223625</td><td>⋯</td><td>241673</td><td>77603</td><td>233351</td><td> 79925</td><td>292949</td><td>105276</td><td>237555</td><td> 86514</td><td>103564</td><td>280913</td></tr>\n",
              "\t<tr><td>FY12</td><td>227456</td><td>86811</td><td>200140</td><td>71175</td><td>254766</td><td>91424</td><td>221146</td><td>85848</td><td>228519</td><td>⋯</td><td>239503</td><td>93826</td><td>284136</td><td>113613</td><td>221745</td><td> 91323</td><td>298458</td><td>119795</td><td> 93375</td><td>230648</td></tr>\n",
              "</tbody>\n",
              "</table>\n"
            ],
            "text/markdown": "\nA tibble: 5 × 25\n\n| Fiscal_Year &lt;chr&gt; | Oct_Total &lt;dbl&gt; | Oct_Internet &lt;dbl&gt; | Nov_Total &lt;dbl&gt; | Nov_Internet &lt;dbl&gt; | Dec_Total &lt;dbl&gt; | Dec_Internet &lt;dbl&gt; | Jan_Total &lt;dbl&gt; | Jan_Internet &lt;dbl&gt; | Feb_Total &lt;dbl&gt; | ⋯ ⋯ | May_Total &lt;dbl&gt; | May_Internet &lt;dbl&gt; | June_Total &lt;dbl&gt; | June_Internet &lt;dbl&gt; | July_Total &lt;dbl&gt; | July_Internet &lt;dbl&gt; | August_Total &lt;dbl&gt; | August_Internet &lt;dbl&gt; | Sept_Internet &lt;dbl&gt; | Sept_Total &lt;dbl&gt; |\n|---|---|---|---|---|---|---|---|---|---|---|---|---|---|---|---|---|---|---|---|---|\n| FY08 | 176407 | 15082 | 204287 | 17301 | 151687 | 14321 | 162966 | 18391 | 228623 | ⋯ | 226549 | 26337 | 193094 |  22551 | 181552 |  22728 | 245429 |  30580 |  24141 | 186750 |\n| FY09 | 244781 | 32578 | 181161 | 25620 | 176107 | 27174 | 249062 | 57908 | 221368 | ⋯ | 281343 | 65822 | 237329 |  54285 | 285172 |  66565 | 240611 |  54915 |  52687 | 228692 |\n| FY10 | 286598 | 65533 | 213297 | 50098 | 198733 | 44512 | 265665 | 68843 | 225319 | ⋯ | 239409 | 65780 | 231964 |  67163 | 300442 |  92957 | 248284 |  75535 |  73403 | 238965 |\n| FY11 | 299033 | 92856 | 209553 | 63424 | 215239 | 62877 | 264286 | 84944 | 223625 | ⋯ | 241673 | 77603 | 233351 |  79925 | 292949 | 105276 | 237555 |  86514 | 103564 | 280913 |\n| FY12 | 227456 | 86811 | 200140 | 71175 | 254766 | 91424 | 221146 | 85848 | 228519 | ⋯ | 239503 | 93826 | 284136 | 113613 | 221745 |  91323 | 298458 | 119795 |  93375 | 230648 |\n\n",
            "text/latex": "A tibble: 5 × 25\n\\begin{tabular}{lllllllllllllllllllll}\n Fiscal\\_Year & Oct\\_Total & Oct\\_Internet & Nov\\_Total & Nov\\_Internet & Dec\\_Total & Dec\\_Internet & Jan\\_Total & Jan\\_Internet & Feb\\_Total & ⋯ & May\\_Total & May\\_Internet & June\\_Total & June\\_Internet & July\\_Total & July\\_Internet & August\\_Total & August\\_Internet & Sept\\_Internet & Sept\\_Total\\\\\n <chr> & <dbl> & <dbl> & <dbl> & <dbl> & <dbl> & <dbl> & <dbl> & <dbl> & <dbl> & ⋯ & <dbl> & <dbl> & <dbl> & <dbl> & <dbl> & <dbl> & <dbl> & <dbl> & <dbl> & <dbl>\\\\\n\\hline\n\t FY08 & 176407 & 15082 & 204287 & 17301 & 151687 & 14321 & 162966 & 18391 & 228623 & ⋯ & 226549 & 26337 & 193094 &  22551 & 181552 &  22728 & 245429 &  30580 &  24141 & 186750\\\\\n\t FY09 & 244781 & 32578 & 181161 & 25620 & 176107 & 27174 & 249062 & 57908 & 221368 & ⋯ & 281343 & 65822 & 237329 &  54285 & 285172 &  66565 & 240611 &  54915 &  52687 & 228692\\\\\n\t FY10 & 286598 & 65533 & 213297 & 50098 & 198733 & 44512 & 265665 & 68843 & 225319 & ⋯ & 239409 & 65780 & 231964 &  67163 & 300442 &  92957 & 248284 &  75535 &  73403 & 238965\\\\\n\t FY11 & 299033 & 92856 & 209553 & 63424 & 215239 & 62877 & 264286 & 84944 & 223625 & ⋯ & 241673 & 77603 & 233351 &  79925 & 292949 & 105276 & 237555 &  86514 & 103564 & 280913\\\\\n\t FY12 & 227456 & 86811 & 200140 & 71175 & 254766 & 91424 & 221146 & 85848 & 228519 & ⋯ & 239503 & 93826 & 284136 & 113613 & 221745 &  91323 & 298458 & 119795 &  93375 & 230648\\\\\n\\end{tabular}\n",
            "text/plain": [
              "  Fiscal_Year Oct_Total Oct_Internet Nov_Total Nov_Internet Dec_Total\n",
              "1 FY08        176407    15082        204287    17301        151687   \n",
              "2 FY09        244781    32578        181161    25620        176107   \n",
              "3 FY10        286598    65533        213297    50098        198733   \n",
              "4 FY11        299033    92856        209553    63424        215239   \n",
              "5 FY12        227456    86811        200140    71175        254766   \n",
              "  Dec_Internet Jan_Total Jan_Internet Feb_Total ⋯ May_Total May_Internet\n",
              "1 14321        162966    18391        228623    ⋯ 226549    26337       \n",
              "2 27174        249062    57908        221368    ⋯ 281343    65822       \n",
              "3 44512        265665    68843        225319    ⋯ 239409    65780       \n",
              "4 62877        264286    84944        223625    ⋯ 241673    77603       \n",
              "5 91424        221146    85848        228519    ⋯ 239503    93826       \n",
              "  June_Total June_Internet July_Total July_Internet August_Total\n",
              "1 193094      22551        181552      22728        245429      \n",
              "2 237329      54285        285172      66565        240611      \n",
              "3 231964      67163        300442      92957        248284      \n",
              "4 233351      79925        292949     105276        237555      \n",
              "5 284136     113613        221745      91323        298458      \n",
              "  August_Internet Sept_Internet Sept_Total\n",
              "1  30580           24141        186750    \n",
              "2  54915           52687        228692    \n",
              "3  75535           73403        238965    \n",
              "4  86514          103564        280913    \n",
              "5 119795           93375        230648    "
            ]
          },
          "metadata": {}
        }
      ]
    },
    {
      "cell_type": "code",
      "source": [
        "# Make the dataset long\n",
        "ssa_long <- pivot_longer(df, !Fiscal_Year, names_to='month', values_to='applications')"
      ],
      "metadata": {
        "id": "SlqQAkDMecxL"
      },
      "execution_count": 9,
      "outputs": []
    },
    {
      "cell_type": "code",
      "source": [
        "# And what do we get?\n",
        "print(ssa_long, n=20)\n"
      ],
      "metadata": {
        "colab": {
          "base_uri": "https://localhost:8080/"
        },
        "id": "znO-FaV3ec0T",
        "outputId": "1a7d702b-eee4-49e9-bda5-849b2632daa2"
      },
      "execution_count": 10,
      "outputs": [
        {
          "output_type": "stream",
          "name": "stdout",
          "text": [
            "\u001b[90m# A tibble: 240 × 3\u001b[39m\n",
            "   Fiscal_Year month         applications\n",
            "   \u001b[3m\u001b[90m<chr>\u001b[39m\u001b[23m       \u001b[3m\u001b[90m<chr>\u001b[39m\u001b[23m                \u001b[3m\u001b[90m<dbl>\u001b[39m\u001b[23m\n",
            "\u001b[90m 1\u001b[39m FY08        Oct_Total           \u001b[4m1\u001b[24m\u001b[4m7\u001b[24m\u001b[4m6\u001b[24m407\n",
            "\u001b[90m 2\u001b[39m FY08        Oct_Internet         \u001b[4m1\u001b[24m\u001b[4m5\u001b[24m082\n",
            "\u001b[90m 3\u001b[39m FY08        Nov_Total           \u001b[4m2\u001b[24m\u001b[4m0\u001b[24m\u001b[4m4\u001b[24m287\n",
            "\u001b[90m 4\u001b[39m FY08        Nov_Internet         \u001b[4m1\u001b[24m\u001b[4m7\u001b[24m301\n",
            "\u001b[90m 5\u001b[39m FY08        Dec_Total           \u001b[4m1\u001b[24m\u001b[4m5\u001b[24m\u001b[4m1\u001b[24m687\n",
            "\u001b[90m 6\u001b[39m FY08        Dec_Internet         \u001b[4m1\u001b[24m\u001b[4m4\u001b[24m321\n",
            "\u001b[90m 7\u001b[39m FY08        Jan_Total           \u001b[4m1\u001b[24m\u001b[4m6\u001b[24m\u001b[4m2\u001b[24m966\n",
            "\u001b[90m 8\u001b[39m FY08        Jan_Internet         \u001b[4m1\u001b[24m\u001b[4m8\u001b[24m391\n",
            "\u001b[90m 9\u001b[39m FY08        Feb_Total           \u001b[4m2\u001b[24m\u001b[4m2\u001b[24m\u001b[4m8\u001b[24m623\n",
            "\u001b[90m10\u001b[39m FY08        Feb_Internet         \u001b[4m2\u001b[24m\u001b[4m6\u001b[24m034\n",
            "\u001b[90m11\u001b[39m FY08        Mar_Total           \u001b[4m1\u001b[24m\u001b[4m9\u001b[24m\u001b[4m0\u001b[24m716\n",
            "\u001b[90m12\u001b[39m FY08        Mar_Internet         \u001b[4m2\u001b[24m\u001b[4m1\u001b[24m064\n",
            "\u001b[90m13\u001b[39m FY08        Apr_Total           \u001b[4m1\u001b[24m\u001b[4m9\u001b[24m\u001b[4m4\u001b[24m403\n",
            "\u001b[90m14\u001b[39m FY08        Apr_Internet         \u001b[4m2\u001b[24m\u001b[4m2\u001b[24m372\n",
            "\u001b[90m15\u001b[39m FY08        May_Total           \u001b[4m2\u001b[24m\u001b[4m2\u001b[24m\u001b[4m6\u001b[24m549\n",
            "\u001b[90m16\u001b[39m FY08        May_Internet         \u001b[4m2\u001b[24m\u001b[4m6\u001b[24m337\n",
            "\u001b[90m17\u001b[39m FY08        June_Total          \u001b[4m1\u001b[24m\u001b[4m9\u001b[24m\u001b[4m3\u001b[24m094\n",
            "\u001b[90m18\u001b[39m FY08        June_Internet        \u001b[4m2\u001b[24m\u001b[4m2\u001b[24m551\n",
            "\u001b[90m19\u001b[39m FY08        July_Total          \u001b[4m1\u001b[24m\u001b[4m8\u001b[24m\u001b[4m1\u001b[24m552\n",
            "\u001b[90m20\u001b[39m FY08        July_Internet        \u001b[4m2\u001b[24m\u001b[4m2\u001b[24m728\n",
            "\u001b[90m# ℹ 220 more rows\u001b[39m\n"
          ]
        }
      ]
    },
    {
      "cell_type": "code",
      "source": [
        "# Split the month and application type\n",
        "ssa_long <- ssa_long %>%separate(month, c(\"month\", \"application_method\"), sep=\"_\")"
      ],
      "metadata": {
        "id": "OcDwwHHQec3l"
      },
      "execution_count": 11,
      "outputs": []
    },
    {
      "cell_type": "code",
      "source": [
        "print(ssa_long,n=20)"
      ],
      "metadata": {
        "colab": {
          "base_uri": "https://localhost:8080/"
        },
        "id": "-PNAZNhBec6o",
        "outputId": "a727406f-64cf-42f8-ea34-4f6d98b95a54"
      },
      "execution_count": 12,
      "outputs": [
        {
          "output_type": "stream",
          "name": "stdout",
          "text": [
            "\u001b[90m# A tibble: 240 × 4\u001b[39m\n",
            "   Fiscal_Year month application_method applications\n",
            "   \u001b[3m\u001b[90m<chr>\u001b[39m\u001b[23m       \u001b[3m\u001b[90m<chr>\u001b[39m\u001b[23m \u001b[3m\u001b[90m<chr>\u001b[39m\u001b[23m                     \u001b[3m\u001b[90m<dbl>\u001b[39m\u001b[23m\n",
            "\u001b[90m 1\u001b[39m FY08        Oct   Total                    \u001b[4m1\u001b[24m\u001b[4m7\u001b[24m\u001b[4m6\u001b[24m407\n",
            "\u001b[90m 2\u001b[39m FY08        Oct   Internet                  \u001b[4m1\u001b[24m\u001b[4m5\u001b[24m082\n",
            "\u001b[90m 3\u001b[39m FY08        Nov   Total                    \u001b[4m2\u001b[24m\u001b[4m0\u001b[24m\u001b[4m4\u001b[24m287\n",
            "\u001b[90m 4\u001b[39m FY08        Nov   Internet                  \u001b[4m1\u001b[24m\u001b[4m7\u001b[24m301\n",
            "\u001b[90m 5\u001b[39m FY08        Dec   Total                    \u001b[4m1\u001b[24m\u001b[4m5\u001b[24m\u001b[4m1\u001b[24m687\n",
            "\u001b[90m 6\u001b[39m FY08        Dec   Internet                  \u001b[4m1\u001b[24m\u001b[4m4\u001b[24m321\n",
            "\u001b[90m 7\u001b[39m FY08        Jan   Total                    \u001b[4m1\u001b[24m\u001b[4m6\u001b[24m\u001b[4m2\u001b[24m966\n",
            "\u001b[90m 8\u001b[39m FY08        Jan   Internet                  \u001b[4m1\u001b[24m\u001b[4m8\u001b[24m391\n",
            "\u001b[90m 9\u001b[39m FY08        Feb   Total                    \u001b[4m2\u001b[24m\u001b[4m2\u001b[24m\u001b[4m8\u001b[24m623\n",
            "\u001b[90m10\u001b[39m FY08        Feb   Internet                  \u001b[4m2\u001b[24m\u001b[4m6\u001b[24m034\n",
            "\u001b[90m11\u001b[39m FY08        Mar   Total                    \u001b[4m1\u001b[24m\u001b[4m9\u001b[24m\u001b[4m0\u001b[24m716\n",
            "\u001b[90m12\u001b[39m FY08        Mar   Internet                  \u001b[4m2\u001b[24m\u001b[4m1\u001b[24m064\n",
            "\u001b[90m13\u001b[39m FY08        Apr   Total                    \u001b[4m1\u001b[24m\u001b[4m9\u001b[24m\u001b[4m4\u001b[24m403\n",
            "\u001b[90m14\u001b[39m FY08        Apr   Internet                  \u001b[4m2\u001b[24m\u001b[4m2\u001b[24m372\n",
            "\u001b[90m15\u001b[39m FY08        May   Total                    \u001b[4m2\u001b[24m\u001b[4m2\u001b[24m\u001b[4m6\u001b[24m549\n",
            "\u001b[90m16\u001b[39m FY08        May   Internet                  \u001b[4m2\u001b[24m\u001b[4m6\u001b[24m337\n",
            "\u001b[90m17\u001b[39m FY08        June  Total                    \u001b[4m1\u001b[24m\u001b[4m9\u001b[24m\u001b[4m3\u001b[24m094\n",
            "\u001b[90m18\u001b[39m FY08        June  Internet                  \u001b[4m2\u001b[24m\u001b[4m2\u001b[24m551\n",
            "\u001b[90m19\u001b[39m FY08        July  Total                    \u001b[4m1\u001b[24m\u001b[4m8\u001b[24m\u001b[4m1\u001b[24m552\n",
            "\u001b[90m20\u001b[39m FY08        July  Internet                  \u001b[4m2\u001b[24m\u001b[4m2\u001b[24m728\n",
            "\u001b[90m# ℹ 220 more rows\u001b[39m\n"
          ]
        }
      ]
    },
    {
      "cell_type": "code",
      "source": [
        "# What does that look like?\n",
        "print(ssa_long, n=20)"
      ],
      "metadata": {
        "colab": {
          "base_uri": "https://localhost:8080/"
        },
        "id": "iWTch0Buec96",
        "outputId": "d12ee68f-427d-4543-d0a2-86c380e5574d"
      },
      "execution_count": 13,
      "outputs": [
        {
          "output_type": "stream",
          "name": "stdout",
          "text": [
            "\u001b[90m# A tibble: 240 × 4\u001b[39m\n",
            "   Fiscal_Year month application_method applications\n",
            "   \u001b[3m\u001b[90m<chr>\u001b[39m\u001b[23m       \u001b[3m\u001b[90m<chr>\u001b[39m\u001b[23m \u001b[3m\u001b[90m<chr>\u001b[39m\u001b[23m                     \u001b[3m\u001b[90m<dbl>\u001b[39m\u001b[23m\n",
            "\u001b[90m 1\u001b[39m FY08        Oct   Total                    \u001b[4m1\u001b[24m\u001b[4m7\u001b[24m\u001b[4m6\u001b[24m407\n",
            "\u001b[90m 2\u001b[39m FY08        Oct   Internet                  \u001b[4m1\u001b[24m\u001b[4m5\u001b[24m082\n",
            "\u001b[90m 3\u001b[39m FY08        Nov   Total                    \u001b[4m2\u001b[24m\u001b[4m0\u001b[24m\u001b[4m4\u001b[24m287\n",
            "\u001b[90m 4\u001b[39m FY08        Nov   Internet                  \u001b[4m1\u001b[24m\u001b[4m7\u001b[24m301\n",
            "\u001b[90m 5\u001b[39m FY08        Dec   Total                    \u001b[4m1\u001b[24m\u001b[4m5\u001b[24m\u001b[4m1\u001b[24m687\n",
            "\u001b[90m 6\u001b[39m FY08        Dec   Internet                  \u001b[4m1\u001b[24m\u001b[4m4\u001b[24m321\n",
            "\u001b[90m 7\u001b[39m FY08        Jan   Total                    \u001b[4m1\u001b[24m\u001b[4m6\u001b[24m\u001b[4m2\u001b[24m966\n",
            "\u001b[90m 8\u001b[39m FY08        Jan   Internet                  \u001b[4m1\u001b[24m\u001b[4m8\u001b[24m391\n",
            "\u001b[90m 9\u001b[39m FY08        Feb   Total                    \u001b[4m2\u001b[24m\u001b[4m2\u001b[24m\u001b[4m8\u001b[24m623\n",
            "\u001b[90m10\u001b[39m FY08        Feb   Internet                  \u001b[4m2\u001b[24m\u001b[4m6\u001b[24m034\n",
            "\u001b[90m11\u001b[39m FY08        Mar   Total                    \u001b[4m1\u001b[24m\u001b[4m9\u001b[24m\u001b[4m0\u001b[24m716\n",
            "\u001b[90m12\u001b[39m FY08        Mar   Internet                  \u001b[4m2\u001b[24m\u001b[4m1\u001b[24m064\n",
            "\u001b[90m13\u001b[39m FY08        Apr   Total                    \u001b[4m1\u001b[24m\u001b[4m9\u001b[24m\u001b[4m4\u001b[24m403\n",
            "\u001b[90m14\u001b[39m FY08        Apr   Internet                  \u001b[4m2\u001b[24m\u001b[4m2\u001b[24m372\n",
            "\u001b[90m15\u001b[39m FY08        May   Total                    \u001b[4m2\u001b[24m\u001b[4m2\u001b[24m\u001b[4m6\u001b[24m549\n",
            "\u001b[90m16\u001b[39m FY08        May   Internet                  \u001b[4m2\u001b[24m\u001b[4m6\u001b[24m337\n",
            "\u001b[90m17\u001b[39m FY08        June  Total                    \u001b[4m1\u001b[24m\u001b[4m9\u001b[24m\u001b[4m3\u001b[24m094\n",
            "\u001b[90m18\u001b[39m FY08        June  Internet                  \u001b[4m2\u001b[24m\u001b[4m2\u001b[24m551\n",
            "\u001b[90m19\u001b[39m FY08        July  Total                    \u001b[4m1\u001b[24m\u001b[4m8\u001b[24m\u001b[4m1\u001b[24m552\n",
            "\u001b[90m20\u001b[39m FY08        July  Internet                  \u001b[4m2\u001b[24m\u001b[4m2\u001b[24m728\n",
            "\u001b[90m# ℹ 220 more rows\u001b[39m\n"
          ]
        }
      ]
    },
    {
      "cell_type": "code",
      "source": [
        "# What values do we have for months?\n",
        "unique(ssa_long$month)"
      ],
      "metadata": {
        "colab": {
          "base_uri": "https://localhost:8080/",
          "height": 34
        },
        "id": "b0c9KhDEedBg",
        "outputId": "cd9379f1-496d-42db-98d7-6bca7bb60626"
      },
      "execution_count": 14,
      "outputs": [
        {
          "output_type": "display_data",
          "data": {
            "text/html": [
              "<style>\n",
              ".list-inline {list-style: none; margin:0; padding: 0}\n",
              ".list-inline>li {display: inline-block}\n",
              ".list-inline>li:not(:last-child)::after {content: \"\\00b7\"; padding: 0 .5ex}\n",
              "</style>\n",
              "<ol class=list-inline><li>'Oct'</li><li>'Nov'</li><li>'Dec'</li><li>'Jan'</li><li>'Feb'</li><li>'Mar'</li><li>'Apr'</li><li>'May'</li><li>'June'</li><li>'July'</li><li>'August'</li><li>'Sept'</li></ol>\n"
            ],
            "text/markdown": "1. 'Oct'\n2. 'Nov'\n3. 'Dec'\n4. 'Jan'\n5. 'Feb'\n6. 'Mar'\n7. 'Apr'\n8. 'May'\n9. 'June'\n10. 'July'\n11. 'August'\n12. 'Sept'\n\n\n",
            "text/latex": "\\begin{enumerate*}\n\\item 'Oct'\n\\item 'Nov'\n\\item 'Dec'\n\\item 'Jan'\n\\item 'Feb'\n\\item 'Mar'\n\\item 'Apr'\n\\item 'May'\n\\item 'June'\n\\item 'July'\n\\item 'August'\n\\item 'Sept'\n\\end{enumerate*}\n",
            "text/plain": [
              " [1] \"Oct\"    \"Nov\"    \"Dec\"    \"Jan\"    \"Feb\"    \"Mar\"    \"Apr\"    \"May\"   \n",
              " [9] \"June\"   \"July\"   \"August\" \"Sept\"  "
            ]
          },
          "metadata": {}
        }
      ]
    },
    {
      "cell_type": "code",
      "source": [
        "# Convert month to standard abbreviations\n",
        "ssa_long <- ssa_long %>%mutate(month=substr(month,1,3))"
      ],
      "metadata": {
        "id": "2Fg3yF7WiSg7"
      },
      "execution_count": 15,
      "outputs": []
    },
    {
      "cell_type": "code",
      "source": [
        "# What values do we now have for months and years?\n",
        "unique(ssa_long$month)\n",
        "unique(ssa_long$Fiscal_Year)\n"
      ],
      "metadata": {
        "colab": {
          "base_uri": "https://localhost:8080/",
          "height": 52
        },
        "id": "zkyly3QliSdb",
        "outputId": "569fb5d6-b464-477b-f67e-36fd4d42a49b"
      },
      "execution_count": 16,
      "outputs": [
        {
          "output_type": "display_data",
          "data": {
            "text/html": [
              "<style>\n",
              ".list-inline {list-style: none; margin:0; padding: 0}\n",
              ".list-inline>li {display: inline-block}\n",
              ".list-inline>li:not(:last-child)::after {content: \"\\00b7\"; padding: 0 .5ex}\n",
              "</style>\n",
              "<ol class=list-inline><li>'Oct'</li><li>'Nov'</li><li>'Dec'</li><li>'Jan'</li><li>'Feb'</li><li>'Mar'</li><li>'Apr'</li><li>'May'</li><li>'Jun'</li><li>'Jul'</li><li>'Aug'</li><li>'Sep'</li></ol>\n"
            ],
            "text/markdown": "1. 'Oct'\n2. 'Nov'\n3. 'Dec'\n4. 'Jan'\n5. 'Feb'\n6. 'Mar'\n7. 'Apr'\n8. 'May'\n9. 'Jun'\n10. 'Jul'\n11. 'Aug'\n12. 'Sep'\n\n\n",
            "text/latex": "\\begin{enumerate*}\n\\item 'Oct'\n\\item 'Nov'\n\\item 'Dec'\n\\item 'Jan'\n\\item 'Feb'\n\\item 'Mar'\n\\item 'Apr'\n\\item 'May'\n\\item 'Jun'\n\\item 'Jul'\n\\item 'Aug'\n\\item 'Sep'\n\\end{enumerate*}\n",
            "text/plain": [
              " [1] \"Oct\" \"Nov\" \"Dec\" \"Jan\" \"Feb\" \"Mar\" \"Apr\" \"May\" \"Jun\" \"Jul\" \"Aug\" \"Sep\""
            ]
          },
          "metadata": {}
        },
        {
          "output_type": "display_data",
          "data": {
            "text/html": [
              "<style>\n",
              ".list-inline {list-style: none; margin:0; padding: 0}\n",
              ".list-inline>li {display: inline-block}\n",
              ".list-inline>li:not(:last-child)::after {content: \"\\00b7\"; padding: 0 .5ex}\n",
              "</style>\n",
              "<ol class=list-inline><li>'FY08'</li><li>'FY09'</li><li>'FY10'</li><li>'FY11'</li><li>'FY12'</li><li>'FY13'</li><li>'FY14'</li><li>'FY15'</li><li>'FY16'</li><li>'FY17'</li></ol>\n"
            ],
            "text/markdown": "1. 'FY08'\n2. 'FY09'\n3. 'FY10'\n4. 'FY11'\n5. 'FY12'\n6. 'FY13'\n7. 'FY14'\n8. 'FY15'\n9. 'FY16'\n10. 'FY17'\n\n\n",
            "text/latex": "\\begin{enumerate*}\n\\item 'FY08'\n\\item 'FY09'\n\\item 'FY10'\n\\item 'FY11'\n\\item 'FY12'\n\\item 'FY13'\n\\item 'FY14'\n\\item 'FY15'\n\\item 'FY16'\n\\item 'FY17'\n\\end{enumerate*}\n",
            "text/plain": [
              " [1] \"FY08\" \"FY09\" \"FY10\" \"FY11\" \"FY12\" \"FY13\" \"FY14\" \"FY15\" \"FY16\" \"FY17\""
            ]
          },
          "metadata": {}
        }
      ]
    },
    {
      "cell_type": "code",
      "source": [
        "# Convert Fiscal_Year from alphanumeric strings to actual years\n",
        "ssa_long <- ssa_long %>%mutate(Fiscal_Year=str_replace(Fiscal_Year, \"FY\", \"20\"))"
      ],
      "metadata": {
        "id": "Bf8EO695iSaE"
      },
      "execution_count": 17,
      "outputs": []
    },
    {
      "cell_type": "code",
      "source": [
        "# What values do we now have for years?\n",
        "unique(ssa_long$Fiscal_Year)\n"
      ],
      "metadata": {
        "colab": {
          "base_uri": "https://localhost:8080/",
          "height": 34
        },
        "id": "Ol2eF5HCiSWe",
        "outputId": "3807998b-2f0a-4846-ce6d-f26a9233713b"
      },
      "execution_count": 18,
      "outputs": [
        {
          "output_type": "display_data",
          "data": {
            "text/html": [
              "<style>\n",
              ".list-inline {list-style: none; margin:0; padding: 0}\n",
              ".list-inline>li {display: inline-block}\n",
              ".list-inline>li:not(:last-child)::after {content: \"\\00b7\"; padding: 0 .5ex}\n",
              "</style>\n",
              "<ol class=list-inline><li>'2008'</li><li>'2009'</li><li>'2010'</li><li>'2011'</li><li>'2012'</li><li>'2013'</li><li>'2014'</li><li>'2015'</li><li>'2016'</li><li>'2017'</li></ol>\n"
            ],
            "text/markdown": "1. '2008'\n2. '2009'\n3. '2010'\n4. '2011'\n5. '2012'\n6. '2013'\n7. '2014'\n8. '2015'\n9. '2016'\n10. '2017'\n\n\n",
            "text/latex": "\\begin{enumerate*}\n\\item '2008'\n\\item '2009'\n\\item '2010'\n\\item '2011'\n\\item '2012'\n\\item '2013'\n\\item '2014'\n\\item '2015'\n\\item '2016'\n\\item '2017'\n\\end{enumerate*}\n",
            "text/plain": [
              " [1] \"2008\" \"2009\" \"2010\" \"2011\" \"2012\" \"2013\" \"2014\" \"2015\" \"2016\" \"2017\""
            ]
          },
          "metadata": {}
        }
      ]
    },
    {
      "cell_type": "code",
      "source": [
        "# Build a date string using the first day of the month\n",
        "paste('01', ssa_long$month, ssa_long$Fiscal_Year)"
      ],
      "metadata": {
        "colab": {
          "base_uri": "https://localhost:8080/",
          "height": 277
        },
        "id": "amy-8SQZikJ5",
        "outputId": "3f141ed2-826c-44d9-caff-45332170d2d3"
      },
      "execution_count": 19,
      "outputs": [
        {
          "output_type": "display_data",
          "data": {
            "text/html": [
              "<style>\n",
              ".list-inline {list-style: none; margin:0; padding: 0}\n",
              ".list-inline>li {display: inline-block}\n",
              ".list-inline>li:not(:last-child)::after {content: \"\\00b7\"; padding: 0 .5ex}\n",
              "</style>\n",
              "<ol class=list-inline><li>'01 Oct 2008'</li><li>'01 Oct 2008'</li><li>'01 Nov 2008'</li><li>'01 Nov 2008'</li><li>'01 Dec 2008'</li><li>'01 Dec 2008'</li><li>'01 Jan 2008'</li><li>'01 Jan 2008'</li><li>'01 Feb 2008'</li><li>'01 Feb 2008'</li><li>'01 Mar 2008'</li><li>'01 Mar 2008'</li><li>'01 Apr 2008'</li><li>'01 Apr 2008'</li><li>'01 May 2008'</li><li>'01 May 2008'</li><li>'01 Jun 2008'</li><li>'01 Jun 2008'</li><li>'01 Jul 2008'</li><li>'01 Jul 2008'</li><li>'01 Aug 2008'</li><li>'01 Aug 2008'</li><li>'01 Sep 2008'</li><li>'01 Sep 2008'</li><li>'01 Oct 2009'</li><li>'01 Oct 2009'</li><li>'01 Nov 2009'</li><li>'01 Nov 2009'</li><li>'01 Dec 2009'</li><li>'01 Dec 2009'</li><li>'01 Jan 2009'</li><li>'01 Jan 2009'</li><li>'01 Feb 2009'</li><li>'01 Feb 2009'</li><li>'01 Mar 2009'</li><li>'01 Mar 2009'</li><li>'01 Apr 2009'</li><li>'01 Apr 2009'</li><li>'01 May 2009'</li><li>'01 May 2009'</li><li>'01 Jun 2009'</li><li>'01 Jun 2009'</li><li>'01 Jul 2009'</li><li>'01 Jul 2009'</li><li>'01 Aug 2009'</li><li>'01 Aug 2009'</li><li>'01 Sep 2009'</li><li>'01 Sep 2009'</li><li>'01 Oct 2010'</li><li>'01 Oct 2010'</li><li>'01 Nov 2010'</li><li>'01 Nov 2010'</li><li>'01 Dec 2010'</li><li>'01 Dec 2010'</li><li>'01 Jan 2010'</li><li>'01 Jan 2010'</li><li>'01 Feb 2010'</li><li>'01 Feb 2010'</li><li>'01 Mar 2010'</li><li>'01 Mar 2010'</li><li>'01 Apr 2010'</li><li>'01 Apr 2010'</li><li>'01 May 2010'</li><li>'01 May 2010'</li><li>'01 Jun 2010'</li><li>'01 Jun 2010'</li><li>'01 Jul 2010'</li><li>'01 Jul 2010'</li><li>'01 Aug 2010'</li><li>'01 Aug 2010'</li><li>'01 Sep 2010'</li><li>'01 Sep 2010'</li><li>'01 Oct 2011'</li><li>'01 Oct 2011'</li><li>'01 Nov 2011'</li><li>'01 Nov 2011'</li><li>'01 Dec 2011'</li><li>'01 Dec 2011'</li><li>'01 Jan 2011'</li><li>'01 Jan 2011'</li><li>'01 Feb 2011'</li><li>'01 Feb 2011'</li><li>'01 Mar 2011'</li><li>'01 Mar 2011'</li><li>'01 Apr 2011'</li><li>'01 Apr 2011'</li><li>'01 May 2011'</li><li>'01 May 2011'</li><li>'01 Jun 2011'</li><li>'01 Jun 2011'</li><li>'01 Jul 2011'</li><li>'01 Jul 2011'</li><li>'01 Aug 2011'</li><li>'01 Aug 2011'</li><li>'01 Sep 2011'</li><li>'01 Sep 2011'</li><li>'01 Oct 2012'</li><li>'01 Oct 2012'</li><li>'01 Nov 2012'</li><li>'01 Nov 2012'</li><li>'01 Dec 2012'</li><li>'01 Dec 2012'</li><li>'01 Jan 2012'</li><li>'01 Jan 2012'</li><li>'01 Feb 2012'</li><li>'01 Feb 2012'</li><li>'01 Mar 2012'</li><li>'01 Mar 2012'</li><li>'01 Apr 2012'</li><li>'01 Apr 2012'</li><li>'01 May 2012'</li><li>'01 May 2012'</li><li>'01 Jun 2012'</li><li>'01 Jun 2012'</li><li>'01 Jul 2012'</li><li>'01 Jul 2012'</li><li>'01 Aug 2012'</li><li>'01 Aug 2012'</li><li>'01 Sep 2012'</li><li>'01 Sep 2012'</li><li>'01 Oct 2013'</li><li>'01 Oct 2013'</li><li>'01 Nov 2013'</li><li>'01 Nov 2013'</li><li>'01 Dec 2013'</li><li>'01 Dec 2013'</li><li>'01 Jan 2013'</li><li>'01 Jan 2013'</li><li>'01 Feb 2013'</li><li>'01 Feb 2013'</li><li>'01 Mar 2013'</li><li>'01 Mar 2013'</li><li>'01 Apr 2013'</li><li>'01 Apr 2013'</li><li>'01 May 2013'</li><li>'01 May 2013'</li><li>'01 Jun 2013'</li><li>'01 Jun 2013'</li><li>'01 Jul 2013'</li><li>'01 Jul 2013'</li><li>'01 Aug 2013'</li><li>'01 Aug 2013'</li><li>'01 Sep 2013'</li><li>'01 Sep 2013'</li><li>'01 Oct 2014'</li><li>'01 Oct 2014'</li><li>'01 Nov 2014'</li><li>'01 Nov 2014'</li><li>'01 Dec 2014'</li><li>'01 Dec 2014'</li><li>'01 Jan 2014'</li><li>'01 Jan 2014'</li><li>'01 Feb 2014'</li><li>'01 Feb 2014'</li><li>'01 Mar 2014'</li><li>'01 Mar 2014'</li><li>'01 Apr 2014'</li><li>'01 Apr 2014'</li><li>'01 May 2014'</li><li>'01 May 2014'</li><li>'01 Jun 2014'</li><li>'01 Jun 2014'</li><li>'01 Jul 2014'</li><li>'01 Jul 2014'</li><li>'01 Aug 2014'</li><li>'01 Aug 2014'</li><li>'01 Sep 2014'</li><li>'01 Sep 2014'</li><li>'01 Oct 2015'</li><li>'01 Oct 2015'</li><li>'01 Nov 2015'</li><li>'01 Nov 2015'</li><li>'01 Dec 2015'</li><li>'01 Dec 2015'</li><li>'01 Jan 2015'</li><li>'01 Jan 2015'</li><li>'01 Feb 2015'</li><li>'01 Feb 2015'</li><li>'01 Mar 2015'</li><li>'01 Mar 2015'</li><li>'01 Apr 2015'</li><li>'01 Apr 2015'</li><li>'01 May 2015'</li><li>'01 May 2015'</li><li>'01 Jun 2015'</li><li>'01 Jun 2015'</li><li>'01 Jul 2015'</li><li>'01 Jul 2015'</li><li>'01 Aug 2015'</li><li>'01 Aug 2015'</li><li>'01 Sep 2015'</li><li>'01 Sep 2015'</li><li>'01 Oct 2016'</li><li>'01 Oct 2016'</li><li>'01 Nov 2016'</li><li>'01 Nov 2016'</li><li>'01 Dec 2016'</li><li>'01 Dec 2016'</li><li>'01 Jan 2016'</li><li>'01 Jan 2016'</li><li>'01 Feb 2016'</li><li>'01 Feb 2016'</li><li>'01 Mar 2016'</li><li>'01 Mar 2016'</li><li>'01 Apr 2016'</li><li>'01 Apr 2016'</li><li>'01 May 2016'</li><li>'01 May 2016'</li><li>'01 Jun 2016'</li><li>'01 Jun 2016'</li><li>'01 Jul 2016'</li><li>'01 Jul 2016'</li><li>'01 Aug 2016'</li><li>'01 Aug 2016'</li><li>'01 Sep 2016'</li><li>'01 Sep 2016'</li><li>'01 Oct 2017'</li><li>'01 Oct 2017'</li><li>'01 Nov 2017'</li><li>'01 Nov 2017'</li><li>'01 Dec 2017'</li><li>'01 Dec 2017'</li><li>'01 Jan 2017'</li><li>'01 Jan 2017'</li><li>'01 Feb 2017'</li><li>'01 Feb 2017'</li><li>'01 Mar 2017'</li><li>'01 Mar 2017'</li><li>'01 Apr 2017'</li><li>'01 Apr 2017'</li><li>'01 May 2017'</li><li>'01 May 2017'</li><li>'01 Jun 2017'</li><li>'01 Jun 2017'</li><li>'01 Jul 2017'</li><li>'01 Jul 2017'</li><li>'01 Aug 2017'</li><li>'01 Aug 2017'</li><li>'01 Sep 2017'</li><li>'01 Sep 2017'</li></ol>\n"
            ],
            "text/markdown": "1. '01 Oct 2008'\n2. '01 Oct 2008'\n3. '01 Nov 2008'\n4. '01 Nov 2008'\n5. '01 Dec 2008'\n6. '01 Dec 2008'\n7. '01 Jan 2008'\n8. '01 Jan 2008'\n9. '01 Feb 2008'\n10. '01 Feb 2008'\n11. '01 Mar 2008'\n12. '01 Mar 2008'\n13. '01 Apr 2008'\n14. '01 Apr 2008'\n15. '01 May 2008'\n16. '01 May 2008'\n17. '01 Jun 2008'\n18. '01 Jun 2008'\n19. '01 Jul 2008'\n20. '01 Jul 2008'\n21. '01 Aug 2008'\n22. '01 Aug 2008'\n23. '01 Sep 2008'\n24. '01 Sep 2008'\n25. '01 Oct 2009'\n26. '01 Oct 2009'\n27. '01 Nov 2009'\n28. '01 Nov 2009'\n29. '01 Dec 2009'\n30. '01 Dec 2009'\n31. '01 Jan 2009'\n32. '01 Jan 2009'\n33. '01 Feb 2009'\n34. '01 Feb 2009'\n35. '01 Mar 2009'\n36. '01 Mar 2009'\n37. '01 Apr 2009'\n38. '01 Apr 2009'\n39. '01 May 2009'\n40. '01 May 2009'\n41. '01 Jun 2009'\n42. '01 Jun 2009'\n43. '01 Jul 2009'\n44. '01 Jul 2009'\n45. '01 Aug 2009'\n46. '01 Aug 2009'\n47. '01 Sep 2009'\n48. '01 Sep 2009'\n49. '01 Oct 2010'\n50. '01 Oct 2010'\n51. '01 Nov 2010'\n52. '01 Nov 2010'\n53. '01 Dec 2010'\n54. '01 Dec 2010'\n55. '01 Jan 2010'\n56. '01 Jan 2010'\n57. '01 Feb 2010'\n58. '01 Feb 2010'\n59. '01 Mar 2010'\n60. '01 Mar 2010'\n61. '01 Apr 2010'\n62. '01 Apr 2010'\n63. '01 May 2010'\n64. '01 May 2010'\n65. '01 Jun 2010'\n66. '01 Jun 2010'\n67. '01 Jul 2010'\n68. '01 Jul 2010'\n69. '01 Aug 2010'\n70. '01 Aug 2010'\n71. '01 Sep 2010'\n72. '01 Sep 2010'\n73. '01 Oct 2011'\n74. '01 Oct 2011'\n75. '01 Nov 2011'\n76. '01 Nov 2011'\n77. '01 Dec 2011'\n78. '01 Dec 2011'\n79. '01 Jan 2011'\n80. '01 Jan 2011'\n81. '01 Feb 2011'\n82. '01 Feb 2011'\n83. '01 Mar 2011'\n84. '01 Mar 2011'\n85. '01 Apr 2011'\n86. '01 Apr 2011'\n87. '01 May 2011'\n88. '01 May 2011'\n89. '01 Jun 2011'\n90. '01 Jun 2011'\n91. '01 Jul 2011'\n92. '01 Jul 2011'\n93. '01 Aug 2011'\n94. '01 Aug 2011'\n95. '01 Sep 2011'\n96. '01 Sep 2011'\n97. '01 Oct 2012'\n98. '01 Oct 2012'\n99. '01 Nov 2012'\n100. '01 Nov 2012'\n101. '01 Dec 2012'\n102. '01 Dec 2012'\n103. '01 Jan 2012'\n104. '01 Jan 2012'\n105. '01 Feb 2012'\n106. '01 Feb 2012'\n107. '01 Mar 2012'\n108. '01 Mar 2012'\n109. '01 Apr 2012'\n110. '01 Apr 2012'\n111. '01 May 2012'\n112. '01 May 2012'\n113. '01 Jun 2012'\n114. '01 Jun 2012'\n115. '01 Jul 2012'\n116. '01 Jul 2012'\n117. '01 Aug 2012'\n118. '01 Aug 2012'\n119. '01 Sep 2012'\n120. '01 Sep 2012'\n121. '01 Oct 2013'\n122. '01 Oct 2013'\n123. '01 Nov 2013'\n124. '01 Nov 2013'\n125. '01 Dec 2013'\n126. '01 Dec 2013'\n127. '01 Jan 2013'\n128. '01 Jan 2013'\n129. '01 Feb 2013'\n130. '01 Feb 2013'\n131. '01 Mar 2013'\n132. '01 Mar 2013'\n133. '01 Apr 2013'\n134. '01 Apr 2013'\n135. '01 May 2013'\n136. '01 May 2013'\n137. '01 Jun 2013'\n138. '01 Jun 2013'\n139. '01 Jul 2013'\n140. '01 Jul 2013'\n141. '01 Aug 2013'\n142. '01 Aug 2013'\n143. '01 Sep 2013'\n144. '01 Sep 2013'\n145. '01 Oct 2014'\n146. '01 Oct 2014'\n147. '01 Nov 2014'\n148. '01 Nov 2014'\n149. '01 Dec 2014'\n150. '01 Dec 2014'\n151. '01 Jan 2014'\n152. '01 Jan 2014'\n153. '01 Feb 2014'\n154. '01 Feb 2014'\n155. '01 Mar 2014'\n156. '01 Mar 2014'\n157. '01 Apr 2014'\n158. '01 Apr 2014'\n159. '01 May 2014'\n160. '01 May 2014'\n161. '01 Jun 2014'\n162. '01 Jun 2014'\n163. '01 Jul 2014'\n164. '01 Jul 2014'\n165. '01 Aug 2014'\n166. '01 Aug 2014'\n167. '01 Sep 2014'\n168. '01 Sep 2014'\n169. '01 Oct 2015'\n170. '01 Oct 2015'\n171. '01 Nov 2015'\n172. '01 Nov 2015'\n173. '01 Dec 2015'\n174. '01 Dec 2015'\n175. '01 Jan 2015'\n176. '01 Jan 2015'\n177. '01 Feb 2015'\n178. '01 Feb 2015'\n179. '01 Mar 2015'\n180. '01 Mar 2015'\n181. '01 Apr 2015'\n182. '01 Apr 2015'\n183. '01 May 2015'\n184. '01 May 2015'\n185. '01 Jun 2015'\n186. '01 Jun 2015'\n187. '01 Jul 2015'\n188. '01 Jul 2015'\n189. '01 Aug 2015'\n190. '01 Aug 2015'\n191. '01 Sep 2015'\n192. '01 Sep 2015'\n193. '01 Oct 2016'\n194. '01 Oct 2016'\n195. '01 Nov 2016'\n196. '01 Nov 2016'\n197. '01 Dec 2016'\n198. '01 Dec 2016'\n199. '01 Jan 2016'\n200. '01 Jan 2016'\n201. '01 Feb 2016'\n202. '01 Feb 2016'\n203. '01 Mar 2016'\n204. '01 Mar 2016'\n205. '01 Apr 2016'\n206. '01 Apr 2016'\n207. '01 May 2016'\n208. '01 May 2016'\n209. '01 Jun 2016'\n210. '01 Jun 2016'\n211. '01 Jul 2016'\n212. '01 Jul 2016'\n213. '01 Aug 2016'\n214. '01 Aug 2016'\n215. '01 Sep 2016'\n216. '01 Sep 2016'\n217. '01 Oct 2017'\n218. '01 Oct 2017'\n219. '01 Nov 2017'\n220. '01 Nov 2017'\n221. '01 Dec 2017'\n222. '01 Dec 2017'\n223. '01 Jan 2017'\n224. '01 Jan 2017'\n225. '01 Feb 2017'\n226. '01 Feb 2017'\n227. '01 Mar 2017'\n228. '01 Mar 2017'\n229. '01 Apr 2017'\n230. '01 Apr 2017'\n231. '01 May 2017'\n232. '01 May 2017'\n233. '01 Jun 2017'\n234. '01 Jun 2017'\n235. '01 Jul 2017'\n236. '01 Jul 2017'\n237. '01 Aug 2017'\n238. '01 Aug 2017'\n239. '01 Sep 2017'\n240. '01 Sep 2017'\n\n\n",
            "text/latex": "\\begin{enumerate*}\n\\item '01 Oct 2008'\n\\item '01 Oct 2008'\n\\item '01 Nov 2008'\n\\item '01 Nov 2008'\n\\item '01 Dec 2008'\n\\item '01 Dec 2008'\n\\item '01 Jan 2008'\n\\item '01 Jan 2008'\n\\item '01 Feb 2008'\n\\item '01 Feb 2008'\n\\item '01 Mar 2008'\n\\item '01 Mar 2008'\n\\item '01 Apr 2008'\n\\item '01 Apr 2008'\n\\item '01 May 2008'\n\\item '01 May 2008'\n\\item '01 Jun 2008'\n\\item '01 Jun 2008'\n\\item '01 Jul 2008'\n\\item '01 Jul 2008'\n\\item '01 Aug 2008'\n\\item '01 Aug 2008'\n\\item '01 Sep 2008'\n\\item '01 Sep 2008'\n\\item '01 Oct 2009'\n\\item '01 Oct 2009'\n\\item '01 Nov 2009'\n\\item '01 Nov 2009'\n\\item '01 Dec 2009'\n\\item '01 Dec 2009'\n\\item '01 Jan 2009'\n\\item '01 Jan 2009'\n\\item '01 Feb 2009'\n\\item '01 Feb 2009'\n\\item '01 Mar 2009'\n\\item '01 Mar 2009'\n\\item '01 Apr 2009'\n\\item '01 Apr 2009'\n\\item '01 May 2009'\n\\item '01 May 2009'\n\\item '01 Jun 2009'\n\\item '01 Jun 2009'\n\\item '01 Jul 2009'\n\\item '01 Jul 2009'\n\\item '01 Aug 2009'\n\\item '01 Aug 2009'\n\\item '01 Sep 2009'\n\\item '01 Sep 2009'\n\\item '01 Oct 2010'\n\\item '01 Oct 2010'\n\\item '01 Nov 2010'\n\\item '01 Nov 2010'\n\\item '01 Dec 2010'\n\\item '01 Dec 2010'\n\\item '01 Jan 2010'\n\\item '01 Jan 2010'\n\\item '01 Feb 2010'\n\\item '01 Feb 2010'\n\\item '01 Mar 2010'\n\\item '01 Mar 2010'\n\\item '01 Apr 2010'\n\\item '01 Apr 2010'\n\\item '01 May 2010'\n\\item '01 May 2010'\n\\item '01 Jun 2010'\n\\item '01 Jun 2010'\n\\item '01 Jul 2010'\n\\item '01 Jul 2010'\n\\item '01 Aug 2010'\n\\item '01 Aug 2010'\n\\item '01 Sep 2010'\n\\item '01 Sep 2010'\n\\item '01 Oct 2011'\n\\item '01 Oct 2011'\n\\item '01 Nov 2011'\n\\item '01 Nov 2011'\n\\item '01 Dec 2011'\n\\item '01 Dec 2011'\n\\item '01 Jan 2011'\n\\item '01 Jan 2011'\n\\item '01 Feb 2011'\n\\item '01 Feb 2011'\n\\item '01 Mar 2011'\n\\item '01 Mar 2011'\n\\item '01 Apr 2011'\n\\item '01 Apr 2011'\n\\item '01 May 2011'\n\\item '01 May 2011'\n\\item '01 Jun 2011'\n\\item '01 Jun 2011'\n\\item '01 Jul 2011'\n\\item '01 Jul 2011'\n\\item '01 Aug 2011'\n\\item '01 Aug 2011'\n\\item '01 Sep 2011'\n\\item '01 Sep 2011'\n\\item '01 Oct 2012'\n\\item '01 Oct 2012'\n\\item '01 Nov 2012'\n\\item '01 Nov 2012'\n\\item '01 Dec 2012'\n\\item '01 Dec 2012'\n\\item '01 Jan 2012'\n\\item '01 Jan 2012'\n\\item '01 Feb 2012'\n\\item '01 Feb 2012'\n\\item '01 Mar 2012'\n\\item '01 Mar 2012'\n\\item '01 Apr 2012'\n\\item '01 Apr 2012'\n\\item '01 May 2012'\n\\item '01 May 2012'\n\\item '01 Jun 2012'\n\\item '01 Jun 2012'\n\\item '01 Jul 2012'\n\\item '01 Jul 2012'\n\\item '01 Aug 2012'\n\\item '01 Aug 2012'\n\\item '01 Sep 2012'\n\\item '01 Sep 2012'\n\\item '01 Oct 2013'\n\\item '01 Oct 2013'\n\\item '01 Nov 2013'\n\\item '01 Nov 2013'\n\\item '01 Dec 2013'\n\\item '01 Dec 2013'\n\\item '01 Jan 2013'\n\\item '01 Jan 2013'\n\\item '01 Feb 2013'\n\\item '01 Feb 2013'\n\\item '01 Mar 2013'\n\\item '01 Mar 2013'\n\\item '01 Apr 2013'\n\\item '01 Apr 2013'\n\\item '01 May 2013'\n\\item '01 May 2013'\n\\item '01 Jun 2013'\n\\item '01 Jun 2013'\n\\item '01 Jul 2013'\n\\item '01 Jul 2013'\n\\item '01 Aug 2013'\n\\item '01 Aug 2013'\n\\item '01 Sep 2013'\n\\item '01 Sep 2013'\n\\item '01 Oct 2014'\n\\item '01 Oct 2014'\n\\item '01 Nov 2014'\n\\item '01 Nov 2014'\n\\item '01 Dec 2014'\n\\item '01 Dec 2014'\n\\item '01 Jan 2014'\n\\item '01 Jan 2014'\n\\item '01 Feb 2014'\n\\item '01 Feb 2014'\n\\item '01 Mar 2014'\n\\item '01 Mar 2014'\n\\item '01 Apr 2014'\n\\item '01 Apr 2014'\n\\item '01 May 2014'\n\\item '01 May 2014'\n\\item '01 Jun 2014'\n\\item '01 Jun 2014'\n\\item '01 Jul 2014'\n\\item '01 Jul 2014'\n\\item '01 Aug 2014'\n\\item '01 Aug 2014'\n\\item '01 Sep 2014'\n\\item '01 Sep 2014'\n\\item '01 Oct 2015'\n\\item '01 Oct 2015'\n\\item '01 Nov 2015'\n\\item '01 Nov 2015'\n\\item '01 Dec 2015'\n\\item '01 Dec 2015'\n\\item '01 Jan 2015'\n\\item '01 Jan 2015'\n\\item '01 Feb 2015'\n\\item '01 Feb 2015'\n\\item '01 Mar 2015'\n\\item '01 Mar 2015'\n\\item '01 Apr 2015'\n\\item '01 Apr 2015'\n\\item '01 May 2015'\n\\item '01 May 2015'\n\\item '01 Jun 2015'\n\\item '01 Jun 2015'\n\\item '01 Jul 2015'\n\\item '01 Jul 2015'\n\\item '01 Aug 2015'\n\\item '01 Aug 2015'\n\\item '01 Sep 2015'\n\\item '01 Sep 2015'\n\\item '01 Oct 2016'\n\\item '01 Oct 2016'\n\\item '01 Nov 2016'\n\\item '01 Nov 2016'\n\\item '01 Dec 2016'\n\\item '01 Dec 2016'\n\\item '01 Jan 2016'\n\\item '01 Jan 2016'\n\\item '01 Feb 2016'\n\\item '01 Feb 2016'\n\\item '01 Mar 2016'\n\\item '01 Mar 2016'\n\\item '01 Apr 2016'\n\\item '01 Apr 2016'\n\\item '01 May 2016'\n\\item '01 May 2016'\n\\item '01 Jun 2016'\n\\item '01 Jun 2016'\n\\item '01 Jul 2016'\n\\item '01 Jul 2016'\n\\item '01 Aug 2016'\n\\item '01 Aug 2016'\n\\item '01 Sep 2016'\n\\item '01 Sep 2016'\n\\item '01 Oct 2017'\n\\item '01 Oct 2017'\n\\item '01 Nov 2017'\n\\item '01 Nov 2017'\n\\item '01 Dec 2017'\n\\item '01 Dec 2017'\n\\item '01 Jan 2017'\n\\item '01 Jan 2017'\n\\item '01 Feb 2017'\n\\item '01 Feb 2017'\n\\item '01 Mar 2017'\n\\item '01 Mar 2017'\n\\item '01 Apr 2017'\n\\item '01 Apr 2017'\n\\item '01 May 2017'\n\\item '01 May 2017'\n\\item '01 Jun 2017'\n\\item '01 Jun 2017'\n\\item '01 Jul 2017'\n\\item '01 Jul 2017'\n\\item '01 Aug 2017'\n\\item '01 Aug 2017'\n\\item '01 Sep 2017'\n\\item '01 Sep 2017'\n\\end{enumerate*}\n",
            "text/plain": [
              "  [1] \"01 Oct 2008\" \"01 Oct 2008\" \"01 Nov 2008\" \"01 Nov 2008\" \"01 Dec 2008\"\n",
              "  [6] \"01 Dec 2008\" \"01 Jan 2008\" \"01 Jan 2008\" \"01 Feb 2008\" \"01 Feb 2008\"\n",
              " [11] \"01 Mar 2008\" \"01 Mar 2008\" \"01 Apr 2008\" \"01 Apr 2008\" \"01 May 2008\"\n",
              " [16] \"01 May 2008\" \"01 Jun 2008\" \"01 Jun 2008\" \"01 Jul 2008\" \"01 Jul 2008\"\n",
              " [21] \"01 Aug 2008\" \"01 Aug 2008\" \"01 Sep 2008\" \"01 Sep 2008\" \"01 Oct 2009\"\n",
              " [26] \"01 Oct 2009\" \"01 Nov 2009\" \"01 Nov 2009\" \"01 Dec 2009\" \"01 Dec 2009\"\n",
              " [31] \"01 Jan 2009\" \"01 Jan 2009\" \"01 Feb 2009\" \"01 Feb 2009\" \"01 Mar 2009\"\n",
              " [36] \"01 Mar 2009\" \"01 Apr 2009\" \"01 Apr 2009\" \"01 May 2009\" \"01 May 2009\"\n",
              " [41] \"01 Jun 2009\" \"01 Jun 2009\" \"01 Jul 2009\" \"01 Jul 2009\" \"01 Aug 2009\"\n",
              " [46] \"01 Aug 2009\" \"01 Sep 2009\" \"01 Sep 2009\" \"01 Oct 2010\" \"01 Oct 2010\"\n",
              " [51] \"01 Nov 2010\" \"01 Nov 2010\" \"01 Dec 2010\" \"01 Dec 2010\" \"01 Jan 2010\"\n",
              " [56] \"01 Jan 2010\" \"01 Feb 2010\" \"01 Feb 2010\" \"01 Mar 2010\" \"01 Mar 2010\"\n",
              " [61] \"01 Apr 2010\" \"01 Apr 2010\" \"01 May 2010\" \"01 May 2010\" \"01 Jun 2010\"\n",
              " [66] \"01 Jun 2010\" \"01 Jul 2010\" \"01 Jul 2010\" \"01 Aug 2010\" \"01 Aug 2010\"\n",
              " [71] \"01 Sep 2010\" \"01 Sep 2010\" \"01 Oct 2011\" \"01 Oct 2011\" \"01 Nov 2011\"\n",
              " [76] \"01 Nov 2011\" \"01 Dec 2011\" \"01 Dec 2011\" \"01 Jan 2011\" \"01 Jan 2011\"\n",
              " [81] \"01 Feb 2011\" \"01 Feb 2011\" \"01 Mar 2011\" \"01 Mar 2011\" \"01 Apr 2011\"\n",
              " [86] \"01 Apr 2011\" \"01 May 2011\" \"01 May 2011\" \"01 Jun 2011\" \"01 Jun 2011\"\n",
              " [91] \"01 Jul 2011\" \"01 Jul 2011\" \"01 Aug 2011\" \"01 Aug 2011\" \"01 Sep 2011\"\n",
              " [96] \"01 Sep 2011\" \"01 Oct 2012\" \"01 Oct 2012\" \"01 Nov 2012\" \"01 Nov 2012\"\n",
              "[101] \"01 Dec 2012\" \"01 Dec 2012\" \"01 Jan 2012\" \"01 Jan 2012\" \"01 Feb 2012\"\n",
              "[106] \"01 Feb 2012\" \"01 Mar 2012\" \"01 Mar 2012\" \"01 Apr 2012\" \"01 Apr 2012\"\n",
              "[111] \"01 May 2012\" \"01 May 2012\" \"01 Jun 2012\" \"01 Jun 2012\" \"01 Jul 2012\"\n",
              "[116] \"01 Jul 2012\" \"01 Aug 2012\" \"01 Aug 2012\" \"01 Sep 2012\" \"01 Sep 2012\"\n",
              "[121] \"01 Oct 2013\" \"01 Oct 2013\" \"01 Nov 2013\" \"01 Nov 2013\" \"01 Dec 2013\"\n",
              "[126] \"01 Dec 2013\" \"01 Jan 2013\" \"01 Jan 2013\" \"01 Feb 2013\" \"01 Feb 2013\"\n",
              "[131] \"01 Mar 2013\" \"01 Mar 2013\" \"01 Apr 2013\" \"01 Apr 2013\" \"01 May 2013\"\n",
              "[136] \"01 May 2013\" \"01 Jun 2013\" \"01 Jun 2013\" \"01 Jul 2013\" \"01 Jul 2013\"\n",
              "[141] \"01 Aug 2013\" \"01 Aug 2013\" \"01 Sep 2013\" \"01 Sep 2013\" \"01 Oct 2014\"\n",
              "[146] \"01 Oct 2014\" \"01 Nov 2014\" \"01 Nov 2014\" \"01 Dec 2014\" \"01 Dec 2014\"\n",
              "[151] \"01 Jan 2014\" \"01 Jan 2014\" \"01 Feb 2014\" \"01 Feb 2014\" \"01 Mar 2014\"\n",
              "[156] \"01 Mar 2014\" \"01 Apr 2014\" \"01 Apr 2014\" \"01 May 2014\" \"01 May 2014\"\n",
              "[161] \"01 Jun 2014\" \"01 Jun 2014\" \"01 Jul 2014\" \"01 Jul 2014\" \"01 Aug 2014\"\n",
              "[166] \"01 Aug 2014\" \"01 Sep 2014\" \"01 Sep 2014\" \"01 Oct 2015\" \"01 Oct 2015\"\n",
              "[171] \"01 Nov 2015\" \"01 Nov 2015\" \"01 Dec 2015\" \"01 Dec 2015\" \"01 Jan 2015\"\n",
              "[176] \"01 Jan 2015\" \"01 Feb 2015\" \"01 Feb 2015\" \"01 Mar 2015\" \"01 Mar 2015\"\n",
              "[181] \"01 Apr 2015\" \"01 Apr 2015\" \"01 May 2015\" \"01 May 2015\" \"01 Jun 2015\"\n",
              "[186] \"01 Jun 2015\" \"01 Jul 2015\" \"01 Jul 2015\" \"01 Aug 2015\" \"01 Aug 2015\"\n",
              "[191] \"01 Sep 2015\" \"01 Sep 2015\" \"01 Oct 2016\" \"01 Oct 2016\" \"01 Nov 2016\"\n",
              "[196] \"01 Nov 2016\" \"01 Dec 2016\" \"01 Dec 2016\" \"01 Jan 2016\" \"01 Jan 2016\"\n",
              "[201] \"01 Feb 2016\" \"01 Feb 2016\" \"01 Mar 2016\" \"01 Mar 2016\" \"01 Apr 2016\"\n",
              "[206] \"01 Apr 2016\" \"01 May 2016\" \"01 May 2016\" \"01 Jun 2016\" \"01 Jun 2016\"\n",
              "[211] \"01 Jul 2016\" \"01 Jul 2016\" \"01 Aug 2016\" \"01 Aug 2016\" \"01 Sep 2016\"\n",
              "[216] \"01 Sep 2016\" \"01 Oct 2017\" \"01 Oct 2017\" \"01 Nov 2017\" \"01 Nov 2017\"\n",
              "[221] \"01 Dec 2017\" \"01 Dec 2017\" \"01 Jan 2017\" \"01 Jan 2017\" \"01 Feb 2017\"\n",
              "[226] \"01 Feb 2017\" \"01 Mar 2017\" \"01 Mar 2017\" \"01 Apr 2017\" \"01 Apr 2017\"\n",
              "[231] \"01 May 2017\" \"01 May 2017\" \"01 Jun 2017\" \"01 Jun 2017\" \"01 Jul 2017\"\n",
              "[236] \"01 Jul 2017\" \"01 Aug 2017\" \"01 Aug 2017\" \"01 Sep 2017\" \"01 Sep 2017\""
            ]
          },
          "metadata": {}
        }
      ]
    },
    {
      "cell_type": "code",
      "source": [
        "ssa_long <- ssa_long %>%mutate(date=dmy(paste(\"01\", ssa_long$month, df$Fiscal_Year)))"
      ],
      "metadata": {
        "id": "aZiBkLzgikGe"
      },
      "execution_count": 22,
      "outputs": []
    },
    {
      "cell_type": "code",
      "source": [
        "unique(ssa_long$date)"
      ],
      "metadata": {
        "colab": {
          "base_uri": "https://localhost:8080/",
          "height": 139
        },
        "id": "yoQjQVXiikB4",
        "outputId": "4682e978-36df-463c-8698-9a36d9da4311"
      },
      "execution_count": 23,
      "outputs": [
        {
          "output_type": "display_data",
          "data": {
            "text/html": [
              "<style>\n",
              ".list-inline {list-style: none; margin:0; padding: 0}\n",
              ".list-inline>li {display: inline-block}\n",
              ".list-inline>li:not(:last-child)::after {content: \"\\00b7\"; padding: 0 .5ex}\n",
              "</style>\n",
              "<ol class=list-inline><li><time datetime=\"2008-10-01\">2008-10-01</time></li><li><time datetime=\"2009-10-01\">2009-10-01</time></li><li><time datetime=\"2010-11-01\">2010-11-01</time></li><li><time datetime=\"2011-11-01\">2011-11-01</time></li><li><time datetime=\"2012-12-01\">2012-12-01</time></li><li><time datetime=\"2013-12-01\">2013-12-01</time></li><li><time datetime=\"2014-01-01\">2014-01-01</time></li><li><time datetime=\"2015-01-01\">2015-01-01</time></li><li><time datetime=\"2016-02-01\">2016-02-01</time></li><li><time datetime=\"2017-02-01\">2017-02-01</time></li><li><time datetime=\"2008-03-01\">2008-03-01</time></li><li><time datetime=\"2009-03-01\">2009-03-01</time></li><li><time datetime=\"2010-04-01\">2010-04-01</time></li><li><time datetime=\"2011-04-01\">2011-04-01</time></li><li><time datetime=\"2012-05-01\">2012-05-01</time></li><li><time datetime=\"2013-05-01\">2013-05-01</time></li><li><time datetime=\"2014-06-01\">2014-06-01</time></li><li><time datetime=\"2015-06-01\">2015-06-01</time></li><li><time datetime=\"2016-07-01\">2016-07-01</time></li><li><time datetime=\"2017-07-01\">2017-07-01</time></li><li><time datetime=\"2008-08-01\">2008-08-01</time></li><li><time datetime=\"2009-08-01\">2009-08-01</time></li><li><time datetime=\"2010-09-01\">2010-09-01</time></li><li><time datetime=\"2011-09-01\">2011-09-01</time></li><li><time datetime=\"2012-10-01\">2012-10-01</time></li><li><time datetime=\"2013-10-01\">2013-10-01</time></li><li><time datetime=\"2014-11-01\">2014-11-01</time></li><li><time datetime=\"2015-11-01\">2015-11-01</time></li><li><time datetime=\"2016-12-01\">2016-12-01</time></li><li><time datetime=\"2017-12-01\">2017-12-01</time></li><li><time datetime=\"2008-01-01\">2008-01-01</time></li><li><time datetime=\"2009-01-01\">2009-01-01</time></li><li><time datetime=\"2010-02-01\">2010-02-01</time></li><li><time datetime=\"2011-02-01\">2011-02-01</time></li><li><time datetime=\"2012-03-01\">2012-03-01</time></li><li><time datetime=\"2013-03-01\">2013-03-01</time></li><li><time datetime=\"2014-04-01\">2014-04-01</time></li><li><time datetime=\"2015-04-01\">2015-04-01</time></li><li><time datetime=\"2016-05-01\">2016-05-01</time></li><li><time datetime=\"2017-05-01\">2017-05-01</time></li><li><time datetime=\"2008-06-01\">2008-06-01</time></li><li><time datetime=\"2009-06-01\">2009-06-01</time></li><li><time datetime=\"2010-07-01\">2010-07-01</time></li><li><time datetime=\"2011-07-01\">2011-07-01</time></li><li><time datetime=\"2012-08-01\">2012-08-01</time></li><li><time datetime=\"2013-08-01\">2013-08-01</time></li><li><time datetime=\"2014-09-01\">2014-09-01</time></li><li><time datetime=\"2015-09-01\">2015-09-01</time></li><li><time datetime=\"2016-10-01\">2016-10-01</time></li><li><time datetime=\"2017-10-01\">2017-10-01</time></li><li><time datetime=\"2008-11-01\">2008-11-01</time></li><li><time datetime=\"2009-11-01\">2009-11-01</time></li><li><time datetime=\"2010-12-01\">2010-12-01</time></li><li><time datetime=\"2011-12-01\">2011-12-01</time></li><li><time datetime=\"2012-01-01\">2012-01-01</time></li><li><time datetime=\"2013-01-01\">2013-01-01</time></li><li><time datetime=\"2014-02-01\">2014-02-01</time></li><li><time datetime=\"2015-02-01\">2015-02-01</time></li><li><time datetime=\"2016-03-01\">2016-03-01</time></li><li><time datetime=\"2017-03-01\">2017-03-01</time></li><li><time datetime=\"2008-04-01\">2008-04-01</time></li><li><time datetime=\"2009-04-01\">2009-04-01</time></li><li><time datetime=\"2010-05-01\">2010-05-01</time></li><li><time datetime=\"2011-05-01\">2011-05-01</time></li><li><time datetime=\"2012-06-01\">2012-06-01</time></li><li><time datetime=\"2013-06-01\">2013-06-01</time></li><li><time datetime=\"2014-07-01\">2014-07-01</time></li><li><time datetime=\"2015-07-01\">2015-07-01</time></li><li><time datetime=\"2016-08-01\">2016-08-01</time></li><li><time datetime=\"2017-08-01\">2017-08-01</time></li><li><time datetime=\"2008-09-01\">2008-09-01</time></li><li><time datetime=\"2009-09-01\">2009-09-01</time></li><li><time datetime=\"2010-10-01\">2010-10-01</time></li><li><time datetime=\"2011-10-01\">2011-10-01</time></li><li><time datetime=\"2012-11-01\">2012-11-01</time></li><li><time datetime=\"2013-11-01\">2013-11-01</time></li><li><time datetime=\"2014-12-01\">2014-12-01</time></li><li><time datetime=\"2015-12-01\">2015-12-01</time></li><li><time datetime=\"2016-01-01\">2016-01-01</time></li><li><time datetime=\"2017-01-01\">2017-01-01</time></li><li><time datetime=\"2008-02-01\">2008-02-01</time></li><li><time datetime=\"2009-02-01\">2009-02-01</time></li><li><time datetime=\"2010-03-01\">2010-03-01</time></li><li><time datetime=\"2011-03-01\">2011-03-01</time></li><li><time datetime=\"2012-04-01\">2012-04-01</time></li><li><time datetime=\"2013-04-01\">2013-04-01</time></li><li><time datetime=\"2014-05-01\">2014-05-01</time></li><li><time datetime=\"2015-05-01\">2015-05-01</time></li><li><time datetime=\"2016-06-01\">2016-06-01</time></li><li><time datetime=\"2017-06-01\">2017-06-01</time></li><li><time datetime=\"2008-07-01\">2008-07-01</time></li><li><time datetime=\"2009-07-01\">2009-07-01</time></li><li><time datetime=\"2010-08-01\">2010-08-01</time></li><li><time datetime=\"2011-08-01\">2011-08-01</time></li><li><time datetime=\"2012-09-01\">2012-09-01</time></li><li><time datetime=\"2013-09-01\">2013-09-01</time></li><li><time datetime=\"2014-10-01\">2014-10-01</time></li><li><time datetime=\"2015-10-01\">2015-10-01</time></li><li><time datetime=\"2016-11-01\">2016-11-01</time></li><li><time datetime=\"2017-11-01\">2017-11-01</time></li><li><time datetime=\"2008-12-01\">2008-12-01</time></li><li><time datetime=\"2009-12-01\">2009-12-01</time></li><li><time datetime=\"2010-01-01\">2010-01-01</time></li><li><time datetime=\"2011-01-01\">2011-01-01</time></li><li><time datetime=\"2012-02-01\">2012-02-01</time></li><li><time datetime=\"2013-02-01\">2013-02-01</time></li><li><time datetime=\"2014-03-01\">2014-03-01</time></li><li><time datetime=\"2015-03-01\">2015-03-01</time></li><li><time datetime=\"2016-04-01\">2016-04-01</time></li><li><time datetime=\"2017-04-01\">2017-04-01</time></li><li><time datetime=\"2008-05-01\">2008-05-01</time></li><li><time datetime=\"2009-05-01\">2009-05-01</time></li><li><time datetime=\"2010-06-01\">2010-06-01</time></li><li><time datetime=\"2011-06-01\">2011-06-01</time></li><li><time datetime=\"2012-07-01\">2012-07-01</time></li><li><time datetime=\"2013-07-01\">2013-07-01</time></li><li><time datetime=\"2014-08-01\">2014-08-01</time></li><li><time datetime=\"2015-08-01\">2015-08-01</time></li><li><time datetime=\"2016-09-01\">2016-09-01</time></li><li><time datetime=\"2017-09-01\">2017-09-01</time></li></ol>\n"
            ],
            "text/markdown": "1. 2008-10-01\n2. 2009-10-01\n3. 2010-11-01\n4. 2011-11-01\n5. 2012-12-01\n6. 2013-12-01\n7. 2014-01-01\n8. 2015-01-01\n9. 2016-02-01\n10. 2017-02-01\n11. 2008-03-01\n12. 2009-03-01\n13. 2010-04-01\n14. 2011-04-01\n15. 2012-05-01\n16. 2013-05-01\n17. 2014-06-01\n18. 2015-06-01\n19. 2016-07-01\n20. 2017-07-01\n21. 2008-08-01\n22. 2009-08-01\n23. 2010-09-01\n24. 2011-09-01\n25. 2012-10-01\n26. 2013-10-01\n27. 2014-11-01\n28. 2015-11-01\n29. 2016-12-01\n30. 2017-12-01\n31. 2008-01-01\n32. 2009-01-01\n33. 2010-02-01\n34. 2011-02-01\n35. 2012-03-01\n36. 2013-03-01\n37. 2014-04-01\n38. 2015-04-01\n39. 2016-05-01\n40. 2017-05-01\n41. 2008-06-01\n42. 2009-06-01\n43. 2010-07-01\n44. 2011-07-01\n45. 2012-08-01\n46. 2013-08-01\n47. 2014-09-01\n48. 2015-09-01\n49. 2016-10-01\n50. 2017-10-01\n51. 2008-11-01\n52. 2009-11-01\n53. 2010-12-01\n54. 2011-12-01\n55. 2012-01-01\n56. 2013-01-01\n57. 2014-02-01\n58. 2015-02-01\n59. 2016-03-01\n60. 2017-03-01\n61. 2008-04-01\n62. 2009-04-01\n63. 2010-05-01\n64. 2011-05-01\n65. 2012-06-01\n66. 2013-06-01\n67. 2014-07-01\n68. 2015-07-01\n69. 2016-08-01\n70. 2017-08-01\n71. 2008-09-01\n72. 2009-09-01\n73. 2010-10-01\n74. 2011-10-01\n75. 2012-11-01\n76. 2013-11-01\n77. 2014-12-01\n78. 2015-12-01\n79. 2016-01-01\n80. 2017-01-01\n81. 2008-02-01\n82. 2009-02-01\n83. 2010-03-01\n84. 2011-03-01\n85. 2012-04-01\n86. 2013-04-01\n87. 2014-05-01\n88. 2015-05-01\n89. 2016-06-01\n90. 2017-06-01\n91. 2008-07-01\n92. 2009-07-01\n93. 2010-08-01\n94. 2011-08-01\n95. 2012-09-01\n96. 2013-09-01\n97. 2014-10-01\n98. 2015-10-01\n99. 2016-11-01\n100. 2017-11-01\n101. 2008-12-01\n102. 2009-12-01\n103. 2010-01-01\n104. 2011-01-01\n105. 2012-02-01\n106. 2013-02-01\n107. 2014-03-01\n108. 2015-03-01\n109. 2016-04-01\n110. 2017-04-01\n111. 2008-05-01\n112. 2009-05-01\n113. 2010-06-01\n114. 2011-06-01\n115. 2012-07-01\n116. 2013-07-01\n117. 2014-08-01\n118. 2015-08-01\n119. 2016-09-01\n120. 2017-09-01\n\n\n",
            "text/latex": "\\begin{enumerate*}\n\\item 2008-10-01\n\\item 2009-10-01\n\\item 2010-11-01\n\\item 2011-11-01\n\\item 2012-12-01\n\\item 2013-12-01\n\\item 2014-01-01\n\\item 2015-01-01\n\\item 2016-02-01\n\\item 2017-02-01\n\\item 2008-03-01\n\\item 2009-03-01\n\\item 2010-04-01\n\\item 2011-04-01\n\\item 2012-05-01\n\\item 2013-05-01\n\\item 2014-06-01\n\\item 2015-06-01\n\\item 2016-07-01\n\\item 2017-07-01\n\\item 2008-08-01\n\\item 2009-08-01\n\\item 2010-09-01\n\\item 2011-09-01\n\\item 2012-10-01\n\\item 2013-10-01\n\\item 2014-11-01\n\\item 2015-11-01\n\\item 2016-12-01\n\\item 2017-12-01\n\\item 2008-01-01\n\\item 2009-01-01\n\\item 2010-02-01\n\\item 2011-02-01\n\\item 2012-03-01\n\\item 2013-03-01\n\\item 2014-04-01\n\\item 2015-04-01\n\\item 2016-05-01\n\\item 2017-05-01\n\\item 2008-06-01\n\\item 2009-06-01\n\\item 2010-07-01\n\\item 2011-07-01\n\\item 2012-08-01\n\\item 2013-08-01\n\\item 2014-09-01\n\\item 2015-09-01\n\\item 2016-10-01\n\\item 2017-10-01\n\\item 2008-11-01\n\\item 2009-11-01\n\\item 2010-12-01\n\\item 2011-12-01\n\\item 2012-01-01\n\\item 2013-01-01\n\\item 2014-02-01\n\\item 2015-02-01\n\\item 2016-03-01\n\\item 2017-03-01\n\\item 2008-04-01\n\\item 2009-04-01\n\\item 2010-05-01\n\\item 2011-05-01\n\\item 2012-06-01\n\\item 2013-06-01\n\\item 2014-07-01\n\\item 2015-07-01\n\\item 2016-08-01\n\\item 2017-08-01\n\\item 2008-09-01\n\\item 2009-09-01\n\\item 2010-10-01\n\\item 2011-10-01\n\\item 2012-11-01\n\\item 2013-11-01\n\\item 2014-12-01\n\\item 2015-12-01\n\\item 2016-01-01\n\\item 2017-01-01\n\\item 2008-02-01\n\\item 2009-02-01\n\\item 2010-03-01\n\\item 2011-03-01\n\\item 2012-04-01\n\\item 2013-04-01\n\\item 2014-05-01\n\\item 2015-05-01\n\\item 2016-06-01\n\\item 2017-06-01\n\\item 2008-07-01\n\\item 2009-07-01\n\\item 2010-08-01\n\\item 2011-08-01\n\\item 2012-09-01\n\\item 2013-09-01\n\\item 2014-10-01\n\\item 2015-10-01\n\\item 2016-11-01\n\\item 2017-11-01\n\\item 2008-12-01\n\\item 2009-12-01\n\\item 2010-01-01\n\\item 2011-01-01\n\\item 2012-02-01\n\\item 2013-02-01\n\\item 2014-03-01\n\\item 2015-03-01\n\\item 2016-04-01\n\\item 2017-04-01\n\\item 2008-05-01\n\\item 2009-05-01\n\\item 2010-06-01\n\\item 2011-06-01\n\\item 2012-07-01\n\\item 2013-07-01\n\\item 2014-08-01\n\\item 2015-08-01\n\\item 2016-09-01\n\\item 2017-09-01\n\\end{enumerate*}\n",
            "text/plain": [
              "  [1] \"2008-10-01\" \"2009-10-01\" \"2010-11-01\" \"2011-11-01\" \"2012-12-01\"\n",
              "  [6] \"2013-12-01\" \"2014-01-01\" \"2015-01-01\" \"2016-02-01\" \"2017-02-01\"\n",
              " [11] \"2008-03-01\" \"2009-03-01\" \"2010-04-01\" \"2011-04-01\" \"2012-05-01\"\n",
              " [16] \"2013-05-01\" \"2014-06-01\" \"2015-06-01\" \"2016-07-01\" \"2017-07-01\"\n",
              " [21] \"2008-08-01\" \"2009-08-01\" \"2010-09-01\" \"2011-09-01\" \"2012-10-01\"\n",
              " [26] \"2013-10-01\" \"2014-11-01\" \"2015-11-01\" \"2016-12-01\" \"2017-12-01\"\n",
              " [31] \"2008-01-01\" \"2009-01-01\" \"2010-02-01\" \"2011-02-01\" \"2012-03-01\"\n",
              " [36] \"2013-03-01\" \"2014-04-01\" \"2015-04-01\" \"2016-05-01\" \"2017-05-01\"\n",
              " [41] \"2008-06-01\" \"2009-06-01\" \"2010-07-01\" \"2011-07-01\" \"2012-08-01\"\n",
              " [46] \"2013-08-01\" \"2014-09-01\" \"2015-09-01\" \"2016-10-01\" \"2017-10-01\"\n",
              " [51] \"2008-11-01\" \"2009-11-01\" \"2010-12-01\" \"2011-12-01\" \"2012-01-01\"\n",
              " [56] \"2013-01-01\" \"2014-02-01\" \"2015-02-01\" \"2016-03-01\" \"2017-03-01\"\n",
              " [61] \"2008-04-01\" \"2009-04-01\" \"2010-05-01\" \"2011-05-01\" \"2012-06-01\"\n",
              " [66] \"2013-06-01\" \"2014-07-01\" \"2015-07-01\" \"2016-08-01\" \"2017-08-01\"\n",
              " [71] \"2008-09-01\" \"2009-09-01\" \"2010-10-01\" \"2011-10-01\" \"2012-11-01\"\n",
              " [76] \"2013-11-01\" \"2014-12-01\" \"2015-12-01\" \"2016-01-01\" \"2017-01-01\"\n",
              " [81] \"2008-02-01\" \"2009-02-01\" \"2010-03-01\" \"2011-03-01\" \"2012-04-01\"\n",
              " [86] \"2013-04-01\" \"2014-05-01\" \"2015-05-01\" \"2016-06-01\" \"2017-06-01\"\n",
              " [91] \"2008-07-01\" \"2009-07-01\" \"2010-08-01\" \"2011-08-01\" \"2012-09-01\"\n",
              " [96] \"2013-09-01\" \"2014-10-01\" \"2015-10-01\" \"2016-11-01\" \"2017-11-01\"\n",
              "[101] \"2008-12-01\" \"2009-12-01\" \"2010-01-01\" \"2011-01-01\" \"2012-02-01\"\n",
              "[106] \"2013-02-01\" \"2014-03-01\" \"2015-03-01\" \"2016-04-01\" \"2017-04-01\"\n",
              "[111] \"2008-05-01\" \"2009-05-01\" \"2010-06-01\" \"2011-06-01\" \"2012-07-01\"\n",
              "[116] \"2013-07-01\" \"2014-08-01\" \"2015-08-01\" \"2016-09-01\" \"2017-09-01\""
            ]
          },
          "metadata": {}
        }
      ]
    },
    {
      "cell_type": "code",
      "source": [],
      "metadata": {
        "id": "MOKvJ4MbiSS5"
      },
      "execution_count": null,
      "outputs": []
    }
  ]
}