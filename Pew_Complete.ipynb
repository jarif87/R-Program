{
  "nbformat": 4,
  "nbformat_minor": 0,
  "metadata": {
    "colab": {
      "provenance": []
    },
    "kernelspec": {
      "name": "ir",
      "display_name": "R"
    },
    "language_info": {
      "name": "R"
    }
  },
  "cells": [
    {
      "cell_type": "code",
      "execution_count": 1,
      "metadata": {
        "colab": {
          "base_uri": "https://localhost:8080/"
        },
        "id": "qZJZ_rrIZB7i",
        "outputId": "c511fc9f-8e5c-4b67-ca8a-8bbf84c9ed01"
      },
      "outputs": [
        {
          "output_type": "stream",
          "name": "stderr",
          "text": [
            "Installing package into ‘/usr/local/lib/R/site-library’\n",
            "(as ‘lib’ is unspecified)\n",
            "\n",
            "── \u001b[1mAttaching core tidyverse packages\u001b[22m ──────────────────────── tidyverse 2.0.0 ──\n",
            "\u001b[32m✔\u001b[39m \u001b[34mdplyr    \u001b[39m 1.1.4     \u001b[32m✔\u001b[39m \u001b[34mreadr    \u001b[39m 2.1.5\n",
            "\u001b[32m✔\u001b[39m \u001b[34mforcats  \u001b[39m 1.0.0     \u001b[32m✔\u001b[39m \u001b[34mstringr  \u001b[39m 1.5.1\n",
            "\u001b[32m✔\u001b[39m \u001b[34mggplot2  \u001b[39m 3.5.2     \u001b[32m✔\u001b[39m \u001b[34mtibble   \u001b[39m 3.2.1\n",
            "\u001b[32m✔\u001b[39m \u001b[34mlubridate\u001b[39m 1.9.4     \u001b[32m✔\u001b[39m \u001b[34mtidyr    \u001b[39m 1.3.1\n",
            "\u001b[32m✔\u001b[39m \u001b[34mpurrr    \u001b[39m 1.0.4     \n",
            "── \u001b[1mConflicts\u001b[22m ────────────────────────────────────────── tidyverse_conflicts() ──\n",
            "\u001b[31m✖\u001b[39m \u001b[34mdplyr\u001b[39m::\u001b[32mfilter()\u001b[39m masks \u001b[34mstats\u001b[39m::filter()\n",
            "\u001b[31m✖\u001b[39m \u001b[34mdplyr\u001b[39m::\u001b[32mlag()\u001b[39m    masks \u001b[34mstats\u001b[39m::lag()\n",
            "\u001b[36mℹ\u001b[39m Use the conflicted package (\u001b[3m\u001b[34m<http://conflicted.r-lib.org/>\u001b[39m\u001b[23m) to force all conflicts to become errors\n"
          ]
        }
      ],
      "source": [
        "install.packages(\"tidyverse\")\n",
        "library(tidyverse)"
      ]
    },
    {
      "cell_type": "code",
      "source": [
        "df <- read_csv(\"http://594442.youcanlearnit.net/pew.csv\")"
      ],
      "metadata": {
        "colab": {
          "base_uri": "https://localhost:8080/"
        },
        "id": "BEg_B7ZTZCqC",
        "outputId": "0c0c68ab-95af-45f9-dac8-6bab092baa3b"
      },
      "execution_count": 2,
      "outputs": [
        {
          "output_type": "stream",
          "name": "stderr",
          "text": [
            "\u001b[1mRows: \u001b[22m\u001b[34m18\u001b[39m \u001b[1mColumns: \u001b[22m\u001b[34m11\u001b[39m\n",
            "\u001b[36m──\u001b[39m \u001b[1mColumn specification\u001b[22m \u001b[36m────────────────────────────────────────────────────────\u001b[39m\n",
            "\u001b[1mDelimiter:\u001b[22m \",\"\n",
            "\u001b[31mchr\u001b[39m  (1): religion\n",
            "\u001b[32mdbl\u001b[39m (10): <$10k, $10-20k, $20-30k, $30-40k, $40-50k, $50-75k, $75-100k, $100...\n",
            "\n",
            "\u001b[36mℹ\u001b[39m Use `spec()` to retrieve the full column specification for this data.\n",
            "\u001b[36mℹ\u001b[39m Specify the column types or set `show_col_types = FALSE` to quiet this message.\n"
          ]
        }
      ]
    },
    {
      "cell_type": "code",
      "source": [
        "head(df,5)"
      ],
      "metadata": {
        "colab": {
          "base_uri": "https://localhost:8080/",
          "height": 255
        },
        "id": "bo4zGXzbZCtM",
        "outputId": "e684ed01-8dd3-4cdf-e8ef-94308b6a6096"
      },
      "execution_count": 3,
      "outputs": [
        {
          "output_type": "display_data",
          "data": {
            "text/html": [
              "<table class=\"dataframe\">\n",
              "<caption>A tibble: 5 × 11</caption>\n",
              "<thead>\n",
              "\t<tr><th scope=col>religion</th><th scope=col>&lt;$10k</th><th scope=col>$10-20k</th><th scope=col>$20-30k</th><th scope=col>$30-40k</th><th scope=col>$40-50k</th><th scope=col>$50-75k</th><th scope=col>$75-100k</th><th scope=col>$100-150k</th><th scope=col>&gt;$150k</th><th scope=col>Don't know/refused</th></tr>\n",
              "\t<tr><th scope=col>&lt;chr&gt;</th><th scope=col>&lt;dbl&gt;</th><th scope=col>&lt;dbl&gt;</th><th scope=col>&lt;dbl&gt;</th><th scope=col>&lt;dbl&gt;</th><th scope=col>&lt;dbl&gt;</th><th scope=col>&lt;dbl&gt;</th><th scope=col>&lt;dbl&gt;</th><th scope=col>&lt;dbl&gt;</th><th scope=col>&lt;dbl&gt;</th><th scope=col>&lt;dbl&gt;</th></tr>\n",
              "</thead>\n",
              "<tbody>\n",
              "\t<tr><td>Agnostic          </td><td> 27</td><td> 34</td><td> 60</td><td> 81</td><td> 76</td><td> 137</td><td>122</td><td>109</td><td> 84</td><td>  96</td></tr>\n",
              "\t<tr><td>Atheist           </td><td> 12</td><td> 27</td><td> 37</td><td> 52</td><td> 35</td><td>  70</td><td> 73</td><td> 59</td><td> 74</td><td>  76</td></tr>\n",
              "\t<tr><td>Buddhist          </td><td> 27</td><td> 21</td><td> 30</td><td> 34</td><td> 33</td><td>  58</td><td> 62</td><td> 39</td><td> 53</td><td>  54</td></tr>\n",
              "\t<tr><td>Catholic          </td><td>418</td><td>617</td><td>732</td><td>670</td><td>638</td><td>1116</td><td>949</td><td>792</td><td>633</td><td>1489</td></tr>\n",
              "\t<tr><td>Don't know/refused</td><td> 15</td><td> 14</td><td> 15</td><td> 11</td><td> 10</td><td>  35</td><td> 21</td><td> 17</td><td> 18</td><td> 116</td></tr>\n",
              "</tbody>\n",
              "</table>\n"
            ],
            "text/markdown": "\nA tibble: 5 × 11\n\n| religion &lt;chr&gt; | &lt;$10k &lt;dbl&gt; | $10-20k &lt;dbl&gt; | $20-30k &lt;dbl&gt; | $30-40k &lt;dbl&gt; | $40-50k &lt;dbl&gt; | $50-75k &lt;dbl&gt; | $75-100k &lt;dbl&gt; | $100-150k &lt;dbl&gt; | &gt;$150k &lt;dbl&gt; | Don't know/refused &lt;dbl&gt; |\n|---|---|---|---|---|---|---|---|---|---|---|\n| Agnostic           |  27 |  34 |  60 |  81 |  76 |  137 | 122 | 109 |  84 |   96 |\n| Atheist            |  12 |  27 |  37 |  52 |  35 |   70 |  73 |  59 |  74 |   76 |\n| Buddhist           |  27 |  21 |  30 |  34 |  33 |   58 |  62 |  39 |  53 |   54 |\n| Catholic           | 418 | 617 | 732 | 670 | 638 | 1116 | 949 | 792 | 633 | 1489 |\n| Don't know/refused |  15 |  14 |  15 |  11 |  10 |   35 |  21 |  17 |  18 |  116 |\n\n",
            "text/latex": "A tibble: 5 × 11\n\\begin{tabular}{lllllllllll}\n religion & <\\$10k & \\$10-20k & \\$20-30k & \\$30-40k & \\$40-50k & \\$50-75k & \\$75-100k & \\$100-150k & >\\$150k & Don't know/refused\\\\\n <chr> & <dbl> & <dbl> & <dbl> & <dbl> & <dbl> & <dbl> & <dbl> & <dbl> & <dbl> & <dbl>\\\\\n\\hline\n\t Agnostic           &  27 &  34 &  60 &  81 &  76 &  137 & 122 & 109 &  84 &   96\\\\\n\t Atheist            &  12 &  27 &  37 &  52 &  35 &   70 &  73 &  59 &  74 &   76\\\\\n\t Buddhist           &  27 &  21 &  30 &  34 &  33 &   58 &  62 &  39 &  53 &   54\\\\\n\t Catholic           & 418 & 617 & 732 & 670 & 638 & 1116 & 949 & 792 & 633 & 1489\\\\\n\t Don't know/refused &  15 &  14 &  15 &  11 &  10 &   35 &  21 &  17 &  18 &  116\\\\\n\\end{tabular}\n",
            "text/plain": [
              "  religion           <$10k $10-20k $20-30k $30-40k $40-50k $50-75k $75-100k\n",
              "1 Agnostic            27    34      60      81      76      137    122     \n",
              "2 Atheist             12    27      37      52      35       70     73     \n",
              "3 Buddhist            27    21      30      34      33       58     62     \n",
              "4 Catholic           418   617     732     670     638     1116    949     \n",
              "5 Don't know/refused  15    14      15      11      10       35     21     \n",
              "  $100-150k >$150k Don't know/refused\n",
              "1 109        84      96              \n",
              "2  59        74      76              \n",
              "3  39        53      54              \n",
              "4 792       633    1489              \n",
              "5  17        18     116              "
            ]
          },
          "metadata": {}
        }
      ]
    },
    {
      "cell_type": "code",
      "source": [
        "pew.long<-pivot_longer(df,!religion,names_to=\"income\",values_to=\"freq\")"
      ],
      "metadata": {
        "id": "WfUHuEFaZCwO"
      },
      "execution_count": 4,
      "outputs": []
    },
    {
      "cell_type": "code",
      "source": [
        "pew.long"
      ],
      "metadata": {
        "colab": {
          "base_uri": "https://localhost:8080/",
          "height": 1000
        },
        "id": "bdLsThmbZCzT",
        "outputId": "d9176d79-dd68-4cb8-9d21-35927381117d"
      },
      "execution_count": 5,
      "outputs": [
        {
          "output_type": "display_data",
          "data": {
            "text/html": [
              "<table class=\"dataframe\">\n",
              "<caption>A tibble: 180 × 3</caption>\n",
              "<thead>\n",
              "\t<tr><th scope=col>religion</th><th scope=col>income</th><th scope=col>freq</th></tr>\n",
              "\t<tr><th scope=col>&lt;chr&gt;</th><th scope=col>&lt;chr&gt;</th><th scope=col>&lt;dbl&gt;</th></tr>\n",
              "</thead>\n",
              "<tbody>\n",
              "\t<tr><td>Agnostic</td><td><span style=white-space:pre-wrap>&lt;$10k             </span></td><td> 27</td></tr>\n",
              "\t<tr><td>Agnostic</td><td>$10-20k           </td><td> 34</td></tr>\n",
              "\t<tr><td>Agnostic</td><td>$20-30k           </td><td> 60</td></tr>\n",
              "\t<tr><td>Agnostic</td><td>$30-40k           </td><td> 81</td></tr>\n",
              "\t<tr><td>Agnostic</td><td>$40-50k           </td><td> 76</td></tr>\n",
              "\t<tr><td>Agnostic</td><td>$50-75k           </td><td>137</td></tr>\n",
              "\t<tr><td>Agnostic</td><td>$75-100k          </td><td>122</td></tr>\n",
              "\t<tr><td>Agnostic</td><td>$100-150k         </td><td>109</td></tr>\n",
              "\t<tr><td>Agnostic</td><td><span style=white-space:pre-wrap>&gt;$150k            </span></td><td> 84</td></tr>\n",
              "\t<tr><td>Agnostic</td><td>Don't know/refused</td><td> 96</td></tr>\n",
              "\t<tr><td>Atheist </td><td><span style=white-space:pre-wrap>&lt;$10k             </span></td><td> 12</td></tr>\n",
              "\t<tr><td>Atheist </td><td>$10-20k           </td><td> 27</td></tr>\n",
              "\t<tr><td>Atheist </td><td>$20-30k           </td><td> 37</td></tr>\n",
              "\t<tr><td>Atheist </td><td>$30-40k           </td><td> 52</td></tr>\n",
              "\t<tr><td>Atheist </td><td>$40-50k           </td><td> 35</td></tr>\n",
              "\t<tr><td>Atheist </td><td>$50-75k           </td><td> 70</td></tr>\n",
              "\t<tr><td>Atheist </td><td>$75-100k          </td><td> 73</td></tr>\n",
              "\t<tr><td>Atheist </td><td>$100-150k         </td><td> 59</td></tr>\n",
              "\t<tr><td>Atheist </td><td><span style=white-space:pre-wrap>&gt;$150k            </span></td><td> 74</td></tr>\n",
              "\t<tr><td>Atheist </td><td>Don't know/refused</td><td> 76</td></tr>\n",
              "\t<tr><td>Buddhist</td><td><span style=white-space:pre-wrap>&lt;$10k             </span></td><td> 27</td></tr>\n",
              "\t<tr><td>Buddhist</td><td>$10-20k           </td><td> 21</td></tr>\n",
              "\t<tr><td>Buddhist</td><td>$20-30k           </td><td> 30</td></tr>\n",
              "\t<tr><td>Buddhist</td><td>$30-40k           </td><td> 34</td></tr>\n",
              "\t<tr><td>Buddhist</td><td>$40-50k           </td><td> 33</td></tr>\n",
              "\t<tr><td>Buddhist</td><td>$50-75k           </td><td> 58</td></tr>\n",
              "\t<tr><td>Buddhist</td><td>$75-100k          </td><td> 62</td></tr>\n",
              "\t<tr><td>Buddhist</td><td>$100-150k         </td><td> 39</td></tr>\n",
              "\t<tr><td>Buddhist</td><td><span style=white-space:pre-wrap>&gt;$150k            </span></td><td> 53</td></tr>\n",
              "\t<tr><td>Buddhist</td><td>Don't know/refused</td><td> 54</td></tr>\n",
              "\t<tr><td>⋮</td><td>⋮</td><td>⋮</td></tr>\n",
              "\t<tr><td><span style=white-space:pre-wrap>Other Faiths         </span></td><td><span style=white-space:pre-wrap>&lt;$10k             </span></td><td> 20</td></tr>\n",
              "\t<tr><td>Other Faiths         </td><td>$10-20k           </td><td> 33</td></tr>\n",
              "\t<tr><td>Other Faiths         </td><td>$20-30k           </td><td> 40</td></tr>\n",
              "\t<tr><td>Other Faiths         </td><td>$30-40k           </td><td> 49</td></tr>\n",
              "\t<tr><td>Other Faiths         </td><td>$40-50k           </td><td> 49</td></tr>\n",
              "\t<tr><td>Other Faiths         </td><td>$50-75k           </td><td> 63</td></tr>\n",
              "\t<tr><td>Other Faiths         </td><td>$75-100k          </td><td> 46</td></tr>\n",
              "\t<tr><td>Other Faiths         </td><td>$100-150k         </td><td> 40</td></tr>\n",
              "\t<tr><td><span style=white-space:pre-wrap>Other Faiths         </span></td><td><span style=white-space:pre-wrap>&gt;$150k            </span></td><td> 41</td></tr>\n",
              "\t<tr><td>Other Faiths         </td><td>Don't know/refused</td><td> 71</td></tr>\n",
              "\t<tr><td>Other World Religions</td><td><span style=white-space:pre-wrap>&lt;$10k             </span></td><td><span style=white-space:pre-wrap>  5</span></td></tr>\n",
              "\t<tr><td>Other World Religions</td><td>$10-20k           </td><td>  2</td></tr>\n",
              "\t<tr><td>Other World Religions</td><td>$20-30k           </td><td>  3</td></tr>\n",
              "\t<tr><td>Other World Religions</td><td>$30-40k           </td><td>  2</td></tr>\n",
              "\t<tr><td>Other World Religions</td><td>$40-50k           </td><td>  2</td></tr>\n",
              "\t<tr><td>Other World Religions</td><td>$50-75k           </td><td>  7</td></tr>\n",
              "\t<tr><td>Other World Religions</td><td>$75-100k          </td><td>  3</td></tr>\n",
              "\t<tr><td>Other World Religions</td><td>$100-150k         </td><td>  4</td></tr>\n",
              "\t<tr><td>Other World Religions</td><td><span style=white-space:pre-wrap>&gt;$150k            </span></td><td><span style=white-space:pre-wrap>  4</span></td></tr>\n",
              "\t<tr><td>Other World Religions</td><td>Don't know/refused</td><td>  8</td></tr>\n",
              "\t<tr><td><span style=white-space:pre-wrap>Unaffiliated         </span></td><td><span style=white-space:pre-wrap>&lt;$10k             </span></td><td>217</td></tr>\n",
              "\t<tr><td>Unaffiliated         </td><td>$10-20k           </td><td>299</td></tr>\n",
              "\t<tr><td>Unaffiliated         </td><td>$20-30k           </td><td>374</td></tr>\n",
              "\t<tr><td>Unaffiliated         </td><td>$30-40k           </td><td>341</td></tr>\n",
              "\t<tr><td>Unaffiliated         </td><td>$40-50k           </td><td>341</td></tr>\n",
              "\t<tr><td>Unaffiliated         </td><td>$50-75k           </td><td>528</td></tr>\n",
              "\t<tr><td>Unaffiliated         </td><td>$75-100k          </td><td>407</td></tr>\n",
              "\t<tr><td>Unaffiliated         </td><td>$100-150k         </td><td>321</td></tr>\n",
              "\t<tr><td><span style=white-space:pre-wrap>Unaffiliated         </span></td><td><span style=white-space:pre-wrap>&gt;$150k            </span></td><td>258</td></tr>\n",
              "\t<tr><td>Unaffiliated         </td><td>Don't know/refused</td><td>597</td></tr>\n",
              "</tbody>\n",
              "</table>\n"
            ],
            "text/markdown": "\nA tibble: 180 × 3\n\n| religion &lt;chr&gt; | income &lt;chr&gt; | freq &lt;dbl&gt; |\n|---|---|---|\n| Agnostic | &lt;$10k              |  27 |\n| Agnostic | $10-20k            |  34 |\n| Agnostic | $20-30k            |  60 |\n| Agnostic | $30-40k            |  81 |\n| Agnostic | $40-50k            |  76 |\n| Agnostic | $50-75k            | 137 |\n| Agnostic | $75-100k           | 122 |\n| Agnostic | $100-150k          | 109 |\n| Agnostic | &gt;$150k             |  84 |\n| Agnostic | Don't know/refused |  96 |\n| Atheist  | &lt;$10k              |  12 |\n| Atheist  | $10-20k            |  27 |\n| Atheist  | $20-30k            |  37 |\n| Atheist  | $30-40k            |  52 |\n| Atheist  | $40-50k            |  35 |\n| Atheist  | $50-75k            |  70 |\n| Atheist  | $75-100k           |  73 |\n| Atheist  | $100-150k          |  59 |\n| Atheist  | &gt;$150k             |  74 |\n| Atheist  | Don't know/refused |  76 |\n| Buddhist | &lt;$10k              |  27 |\n| Buddhist | $10-20k            |  21 |\n| Buddhist | $20-30k            |  30 |\n| Buddhist | $30-40k            |  34 |\n| Buddhist | $40-50k            |  33 |\n| Buddhist | $50-75k            |  58 |\n| Buddhist | $75-100k           |  62 |\n| Buddhist | $100-150k          |  39 |\n| Buddhist | &gt;$150k             |  53 |\n| Buddhist | Don't know/refused |  54 |\n| ⋮ | ⋮ | ⋮ |\n| Other Faiths          | &lt;$10k              |  20 |\n| Other Faiths          | $10-20k            |  33 |\n| Other Faiths          | $20-30k            |  40 |\n| Other Faiths          | $30-40k            |  49 |\n| Other Faiths          | $40-50k            |  49 |\n| Other Faiths          | $50-75k            |  63 |\n| Other Faiths          | $75-100k           |  46 |\n| Other Faiths          | $100-150k          |  40 |\n| Other Faiths          | &gt;$150k             |  41 |\n| Other Faiths          | Don't know/refused |  71 |\n| Other World Religions | &lt;$10k              |   5 |\n| Other World Religions | $10-20k            |   2 |\n| Other World Religions | $20-30k            |   3 |\n| Other World Religions | $30-40k            |   2 |\n| Other World Religions | $40-50k            |   2 |\n| Other World Religions | $50-75k            |   7 |\n| Other World Religions | $75-100k           |   3 |\n| Other World Religions | $100-150k          |   4 |\n| Other World Religions | &gt;$150k             |   4 |\n| Other World Religions | Don't know/refused |   8 |\n| Unaffiliated          | &lt;$10k              | 217 |\n| Unaffiliated          | $10-20k            | 299 |\n| Unaffiliated          | $20-30k            | 374 |\n| Unaffiliated          | $30-40k            | 341 |\n| Unaffiliated          | $40-50k            | 341 |\n| Unaffiliated          | $50-75k            | 528 |\n| Unaffiliated          | $75-100k           | 407 |\n| Unaffiliated          | $100-150k          | 321 |\n| Unaffiliated          | &gt;$150k             | 258 |\n| Unaffiliated          | Don't know/refused | 597 |\n\n",
            "text/latex": "A tibble: 180 × 3\n\\begin{tabular}{lll}\n religion & income & freq\\\\\n <chr> & <chr> & <dbl>\\\\\n\\hline\n\t Agnostic & <\\$10k              &  27\\\\\n\t Agnostic & \\$10-20k            &  34\\\\\n\t Agnostic & \\$20-30k            &  60\\\\\n\t Agnostic & \\$30-40k            &  81\\\\\n\t Agnostic & \\$40-50k            &  76\\\\\n\t Agnostic & \\$50-75k            & 137\\\\\n\t Agnostic & \\$75-100k           & 122\\\\\n\t Agnostic & \\$100-150k          & 109\\\\\n\t Agnostic & >\\$150k             &  84\\\\\n\t Agnostic & Don't know/refused &  96\\\\\n\t Atheist  & <\\$10k              &  12\\\\\n\t Atheist  & \\$10-20k            &  27\\\\\n\t Atheist  & \\$20-30k            &  37\\\\\n\t Atheist  & \\$30-40k            &  52\\\\\n\t Atheist  & \\$40-50k            &  35\\\\\n\t Atheist  & \\$50-75k            &  70\\\\\n\t Atheist  & \\$75-100k           &  73\\\\\n\t Atheist  & \\$100-150k          &  59\\\\\n\t Atheist  & >\\$150k             &  74\\\\\n\t Atheist  & Don't know/refused &  76\\\\\n\t Buddhist & <\\$10k              &  27\\\\\n\t Buddhist & \\$10-20k            &  21\\\\\n\t Buddhist & \\$20-30k            &  30\\\\\n\t Buddhist & \\$30-40k            &  34\\\\\n\t Buddhist & \\$40-50k            &  33\\\\\n\t Buddhist & \\$50-75k            &  58\\\\\n\t Buddhist & \\$75-100k           &  62\\\\\n\t Buddhist & \\$100-150k          &  39\\\\\n\t Buddhist & >\\$150k             &  53\\\\\n\t Buddhist & Don't know/refused &  54\\\\\n\t ⋮ & ⋮ & ⋮\\\\\n\t Other Faiths          & <\\$10k              &  20\\\\\n\t Other Faiths          & \\$10-20k            &  33\\\\\n\t Other Faiths          & \\$20-30k            &  40\\\\\n\t Other Faiths          & \\$30-40k            &  49\\\\\n\t Other Faiths          & \\$40-50k            &  49\\\\\n\t Other Faiths          & \\$50-75k            &  63\\\\\n\t Other Faiths          & \\$75-100k           &  46\\\\\n\t Other Faiths          & \\$100-150k          &  40\\\\\n\t Other Faiths          & >\\$150k             &  41\\\\\n\t Other Faiths          & Don't know/refused &  71\\\\\n\t Other World Religions & <\\$10k              &   5\\\\\n\t Other World Religions & \\$10-20k            &   2\\\\\n\t Other World Religions & \\$20-30k            &   3\\\\\n\t Other World Religions & \\$30-40k            &   2\\\\\n\t Other World Religions & \\$40-50k            &   2\\\\\n\t Other World Religions & \\$50-75k            &   7\\\\\n\t Other World Religions & \\$75-100k           &   3\\\\\n\t Other World Religions & \\$100-150k          &   4\\\\\n\t Other World Religions & >\\$150k             &   4\\\\\n\t Other World Religions & Don't know/refused &   8\\\\\n\t Unaffiliated          & <\\$10k              & 217\\\\\n\t Unaffiliated          & \\$10-20k            & 299\\\\\n\t Unaffiliated          & \\$20-30k            & 374\\\\\n\t Unaffiliated          & \\$30-40k            & 341\\\\\n\t Unaffiliated          & \\$40-50k            & 341\\\\\n\t Unaffiliated          & \\$50-75k            & 528\\\\\n\t Unaffiliated          & \\$75-100k           & 407\\\\\n\t Unaffiliated          & \\$100-150k          & 321\\\\\n\t Unaffiliated          & >\\$150k             & 258\\\\\n\t Unaffiliated          & Don't know/refused & 597\\\\\n\\end{tabular}\n",
            "text/plain": [
              "    religion              income             freq\n",
              "1   Agnostic              <$10k               27 \n",
              "2   Agnostic              $10-20k             34 \n",
              "3   Agnostic              $20-30k             60 \n",
              "4   Agnostic              $30-40k             81 \n",
              "5   Agnostic              $40-50k             76 \n",
              "6   Agnostic              $50-75k            137 \n",
              "7   Agnostic              $75-100k           122 \n",
              "8   Agnostic              $100-150k          109 \n",
              "9   Agnostic              >$150k              84 \n",
              "10  Agnostic              Don't know/refused  96 \n",
              "11  Atheist               <$10k               12 \n",
              "12  Atheist               $10-20k             27 \n",
              "13  Atheist               $20-30k             37 \n",
              "14  Atheist               $30-40k             52 \n",
              "15  Atheist               $40-50k             35 \n",
              "16  Atheist               $50-75k             70 \n",
              "17  Atheist               $75-100k            73 \n",
              "18  Atheist               $100-150k           59 \n",
              "19  Atheist               >$150k              74 \n",
              "20  Atheist               Don't know/refused  76 \n",
              "21  Buddhist              <$10k               27 \n",
              "22  Buddhist              $10-20k             21 \n",
              "23  Buddhist              $20-30k             30 \n",
              "24  Buddhist              $30-40k             34 \n",
              "25  Buddhist              $40-50k             33 \n",
              "26  Buddhist              $50-75k             58 \n",
              "27  Buddhist              $75-100k            62 \n",
              "28  Buddhist              $100-150k           39 \n",
              "29  Buddhist              >$150k              53 \n",
              "30  Buddhist              Don't know/refused  54 \n",
              "⋮   ⋮                     ⋮                  ⋮   \n",
              "151 Other Faiths          <$10k               20 \n",
              "152 Other Faiths          $10-20k             33 \n",
              "153 Other Faiths          $20-30k             40 \n",
              "154 Other Faiths          $30-40k             49 \n",
              "155 Other Faiths          $40-50k             49 \n",
              "156 Other Faiths          $50-75k             63 \n",
              "157 Other Faiths          $75-100k            46 \n",
              "158 Other Faiths          $100-150k           40 \n",
              "159 Other Faiths          >$150k              41 \n",
              "160 Other Faiths          Don't know/refused  71 \n",
              "161 Other World Religions <$10k                5 \n",
              "162 Other World Religions $10-20k              2 \n",
              "163 Other World Religions $20-30k              3 \n",
              "164 Other World Religions $30-40k              2 \n",
              "165 Other World Religions $40-50k              2 \n",
              "166 Other World Religions $50-75k              7 \n",
              "167 Other World Religions $75-100k             3 \n",
              "168 Other World Religions $100-150k            4 \n",
              "169 Other World Religions >$150k               4 \n",
              "170 Other World Religions Don't know/refused   8 \n",
              "171 Unaffiliated          <$10k              217 \n",
              "172 Unaffiliated          $10-20k            299 \n",
              "173 Unaffiliated          $20-30k            374 \n",
              "174 Unaffiliated          $30-40k            341 \n",
              "175 Unaffiliated          $40-50k            341 \n",
              "176 Unaffiliated          $50-75k            528 \n",
              "177 Unaffiliated          $75-100k           407 \n",
              "178 Unaffiliated          $100-150k          321 \n",
              "179 Unaffiliated          >$150k             258 \n",
              "180 Unaffiliated          Don't know/refused 597 "
            ]
          },
          "metadata": {}
        }
      ]
    },
    {
      "cell_type": "code",
      "source": [
        "weather <- read_csv(\"http://594442.youcanlearnit.net//mexicanweather.csv\")"
      ],
      "metadata": {
        "colab": {
          "base_uri": "https://localhost:8080/"
        },
        "id": "7jvBriBdZDLI",
        "outputId": "cba97ff4-d3a4-4567-dd07-ed9050061466"
      },
      "execution_count": 6,
      "outputs": [
        {
          "output_type": "stream",
          "name": "stderr",
          "text": [
            "\u001b[1mRows: \u001b[22m\u001b[34m33712\u001b[39m \u001b[1mColumns: \u001b[22m\u001b[34m4\u001b[39m\n",
            "\u001b[36m──\u001b[39m \u001b[1mColumn specification\u001b[22m \u001b[36m────────────────────────────────────────────────────────\u001b[39m\n",
            "\u001b[1mDelimiter:\u001b[22m \",\"\n",
            "\u001b[31mchr\u001b[39m  (2): station, element\n",
            "\u001b[32mdbl\u001b[39m  (1): value\n",
            "\u001b[34mdate\u001b[39m (1): date\n",
            "\n",
            "\u001b[36mℹ\u001b[39m Use `spec()` to retrieve the full column specification for this data.\n",
            "\u001b[36mℹ\u001b[39m Specify the column types or set `show_col_types = FALSE` to quiet this message.\n"
          ]
        }
      ]
    },
    {
      "cell_type": "code",
      "source": [
        "head(weather,5)"
      ],
      "metadata": {
        "colab": {
          "base_uri": "https://localhost:8080/",
          "height": 255
        },
        "id": "a6jcEVQWZDOd",
        "outputId": "8f3e36b5-7ef8-4682-c74b-f027fbb93e33"
      },
      "execution_count": 7,
      "outputs": [
        {
          "output_type": "display_data",
          "data": {
            "text/html": [
              "<table class=\"dataframe\">\n",
              "<caption>A tibble: 5 × 4</caption>\n",
              "<thead>\n",
              "\t<tr><th scope=col>station</th><th scope=col>element</th><th scope=col>value</th><th scope=col>date</th></tr>\n",
              "\t<tr><th scope=col>&lt;chr&gt;</th><th scope=col>&lt;chr&gt;</th><th scope=col>&lt;dbl&gt;</th><th scope=col>&lt;date&gt;</th></tr>\n",
              "</thead>\n",
              "<tbody>\n",
              "\t<tr><td>MX000017004</td><td>TMAX</td><td>310</td><td>1955-04-01</td></tr>\n",
              "\t<tr><td>MX000017004</td><td>TMIN</td><td>150</td><td>1955-04-01</td></tr>\n",
              "\t<tr><td>MX000017004</td><td>TMAX</td><td>310</td><td>1955-05-01</td></tr>\n",
              "\t<tr><td>MX000017004</td><td>TMIN</td><td>200</td><td>1955-05-01</td></tr>\n",
              "\t<tr><td>MX000017004</td><td>TMAX</td><td>300</td><td>1955-06-01</td></tr>\n",
              "</tbody>\n",
              "</table>\n"
            ],
            "text/markdown": "\nA tibble: 5 × 4\n\n| station &lt;chr&gt; | element &lt;chr&gt; | value &lt;dbl&gt; | date &lt;date&gt; |\n|---|---|---|---|\n| MX000017004 | TMAX | 310 | 1955-04-01 |\n| MX000017004 | TMIN | 150 | 1955-04-01 |\n| MX000017004 | TMAX | 310 | 1955-05-01 |\n| MX000017004 | TMIN | 200 | 1955-05-01 |\n| MX000017004 | TMAX | 300 | 1955-06-01 |\n\n",
            "text/latex": "A tibble: 5 × 4\n\\begin{tabular}{llll}\n station & element & value & date\\\\\n <chr> & <chr> & <dbl> & <date>\\\\\n\\hline\n\t MX000017004 & TMAX & 310 & 1955-04-01\\\\\n\t MX000017004 & TMIN & 150 & 1955-04-01\\\\\n\t MX000017004 & TMAX & 310 & 1955-05-01\\\\\n\t MX000017004 & TMIN & 200 & 1955-05-01\\\\\n\t MX000017004 & TMAX & 300 & 1955-06-01\\\\\n\\end{tabular}\n",
            "text/plain": [
              "  station     element value date      \n",
              "1 MX000017004 TMAX    310   1955-04-01\n",
              "2 MX000017004 TMIN    150   1955-04-01\n",
              "3 MX000017004 TMAX    310   1955-05-01\n",
              "4 MX000017004 TMIN    200   1955-05-01\n",
              "5 MX000017004 TMAX    300   1955-06-01"
            ]
          },
          "metadata": {}
        }
      ]
    },
    {
      "cell_type": "code",
      "source": [
        "weather.wide<-pivot_wider(weather,names_from = element,values_from = value)"
      ],
      "metadata": {
        "id": "9-yAb9-GZDR2"
      },
      "execution_count": 8,
      "outputs": []
    },
    {
      "cell_type": "code",
      "source": [
        "weather.wide"
      ],
      "metadata": {
        "colab": {
          "base_uri": "https://localhost:8080/",
          "height": 1000
        },
        "id": "ueNcL2PGa7c3",
        "outputId": "8afee0d8-5cd4-4781-bc86-15734bece0d5"
      },
      "execution_count": 9,
      "outputs": [
        {
          "output_type": "display_data",
          "data": {
            "text/html": [
              "<table class=\"dataframe\">\n",
              "<caption>A tibble: 16871 × 4</caption>\n",
              "<thead>\n",
              "\t<tr><th scope=col>station</th><th scope=col>date</th><th scope=col>TMAX</th><th scope=col>TMIN</th></tr>\n",
              "\t<tr><th scope=col>&lt;chr&gt;</th><th scope=col>&lt;date&gt;</th><th scope=col>&lt;dbl&gt;</th><th scope=col>&lt;dbl&gt;</th></tr>\n",
              "</thead>\n",
              "<tbody>\n",
              "\t<tr><td>MX000017004</td><td>1955-04-01</td><td>310</td><td>150</td></tr>\n",
              "\t<tr><td>MX000017004</td><td>1955-05-01</td><td>310</td><td>200</td></tr>\n",
              "\t<tr><td>MX000017004</td><td>1955-06-01</td><td>300</td><td>160</td></tr>\n",
              "\t<tr><td>MX000017004</td><td>1955-07-01</td><td>270</td><td>150</td></tr>\n",
              "\t<tr><td>MX000017004</td><td>1955-08-01</td><td>230</td><td>140</td></tr>\n",
              "\t<tr><td>MX000017004</td><td>1955-09-01</td><td>230</td><td>150</td></tr>\n",
              "\t<tr><td>MX000017004</td><td>1955-10-01</td><td>240</td><td>150</td></tr>\n",
              "\t<tr><td>MX000017004</td><td>1955-11-01</td><td>270</td><td>130</td></tr>\n",
              "\t<tr><td>MX000017004</td><td>1955-12-01</td><td>240</td><td>130</td></tr>\n",
              "\t<tr><td>MX000017004</td><td>1956-01-01</td><td>240</td><td> 90</td></tr>\n",
              "\t<tr><td>MX000017004</td><td>1956-02-01</td><td>260</td><td>120</td></tr>\n",
              "\t<tr><td>MX000017004</td><td>1956-03-01</td><td>290</td><td>130</td></tr>\n",
              "\t<tr><td>MX000017004</td><td>1956-04-01</td><td>320</td><td>160</td></tr>\n",
              "\t<tr><td>MX000017004</td><td>1956-05-01</td><td>280</td><td>140</td></tr>\n",
              "\t<tr><td>MX000017004</td><td>1956-06-01</td><td>230</td><td>140</td></tr>\n",
              "\t<tr><td>MX000017004</td><td>1956-07-01</td><td>250</td><td>140</td></tr>\n",
              "\t<tr><td>MX000017004</td><td>1956-08-01</td><td>250</td><td>140</td></tr>\n",
              "\t<tr><td>MX000017004</td><td>1956-09-01</td><td>270</td><td>150</td></tr>\n",
              "\t<tr><td>MX000017004</td><td>1956-10-01</td><td>260</td><td>160</td></tr>\n",
              "\t<tr><td>MX000017004</td><td>1956-12-01</td><td>240</td><td>120</td></tr>\n",
              "\t<tr><td>MX000017004</td><td>1957-01-01</td><td>260</td><td>120</td></tr>\n",
              "\t<tr><td>MX000017004</td><td>1957-02-01</td><td>270</td><td>140</td></tr>\n",
              "\t<tr><td>MX000017004</td><td>1957-03-01</td><td>280</td><td>130</td></tr>\n",
              "\t<tr><td>MX000017004</td><td>1957-04-01</td><td>300</td><td>160</td></tr>\n",
              "\t<tr><td>MX000017004</td><td>1957-05-01</td><td>310</td><td>170</td></tr>\n",
              "\t<tr><td>MX000017004</td><td>1957-06-01</td><td>290</td><td>180</td></tr>\n",
              "\t<tr><td>MX000017004</td><td>1957-07-01</td><td>260</td><td>160</td></tr>\n",
              "\t<tr><td>MX000017004</td><td>1957-08-01</td><td>280</td><td>160</td></tr>\n",
              "\t<tr><td>MX000017004</td><td>1957-10-01</td><td>240</td><td>130</td></tr>\n",
              "\t<tr><td>MX000017004</td><td>1957-11-01</td><td>270</td><td>150</td></tr>\n",
              "\t<tr><td>⋮</td><td>⋮</td><td>⋮</td><td>⋮</td></tr>\n",
              "\t<tr><td>MX000017004</td><td>2008-03-30</td><td>354</td><td>175</td></tr>\n",
              "\t<tr><td>MX000017004</td><td>2008-04-30</td><td> NA</td><td> NA</td></tr>\n",
              "\t<tr><td>MX000017004</td><td>2008-06-30</td><td> NA</td><td> NA</td></tr>\n",
              "\t<tr><td>MX000017004</td><td>2008-07-30</td><td> NA</td><td> NA</td></tr>\n",
              "\t<tr><td>MX000017004</td><td>2008-08-30</td><td> NA</td><td> NA</td></tr>\n",
              "\t<tr><td>MX000017004</td><td>2008-09-30</td><td> NA</td><td> NA</td></tr>\n",
              "\t<tr><td>MX000017004</td><td>2008-10-30</td><td> NA</td><td> NA</td></tr>\n",
              "\t<tr><td>MX000017004</td><td>2009-01-30</td><td> NA</td><td> NA</td></tr>\n",
              "\t<tr><td>MX000017004</td><td>2009-03-30</td><td> NA</td><td> NA</td></tr>\n",
              "\t<tr><td>MX000017004</td><td>2009-04-30</td><td> NA</td><td> NA</td></tr>\n",
              "\t<tr><td>MX000017004</td><td>2009-05-30</td><td>332</td><td>141</td></tr>\n",
              "\t<tr><td>MX000017004</td><td>2009-07-30</td><td> NA</td><td> NA</td></tr>\n",
              "\t<tr><td>MX000017004</td><td>2009-08-30</td><td> NA</td><td> NA</td></tr>\n",
              "\t<tr><td>MX000017004</td><td>2009-09-30</td><td> NA</td><td> NA</td></tr>\n",
              "\t<tr><td>MX000017004</td><td>2009-10-30</td><td> NA</td><td> NA</td></tr>\n",
              "\t<tr><td>MX000017004</td><td>2009-11-30</td><td> NA</td><td> NA</td></tr>\n",
              "\t<tr><td>MX000017004</td><td>2009-12-30</td><td> NA</td><td> NA</td></tr>\n",
              "\t<tr><td>MX000017004</td><td>2010-01-30</td><td>278</td><td>145</td></tr>\n",
              "\t<tr><td>MX000017004</td><td>2010-03-30</td><td> NA</td><td> NA</td></tr>\n",
              "\t<tr><td>MX000017004</td><td>2010-04-30</td><td> NA</td><td> NA</td></tr>\n",
              "\t<tr><td>MX000017004</td><td>2010-05-30</td><td> NA</td><td> NA</td></tr>\n",
              "\t<tr><td>MX000017004</td><td>2010-06-30</td><td> NA</td><td> NA</td></tr>\n",
              "\t<tr><td>MX000017004</td><td>2010-07-30</td><td> NA</td><td> NA</td></tr>\n",
              "\t<tr><td>MX000017004</td><td>2010-08-30</td><td> NA</td><td> NA</td></tr>\n",
              "\t<tr><td>MX000017004</td><td>2010-10-30</td><td> NA</td><td> NA</td></tr>\n",
              "\t<tr><td>MX000017004</td><td>2010-11-30</td><td> NA</td><td> NA</td></tr>\n",
              "\t<tr><td>MX000017004</td><td>2010-12-30</td><td> NA</td><td> NA</td></tr>\n",
              "\t<tr><td>MX000017004</td><td>2011-01-30</td><td> NA</td><td> NA</td></tr>\n",
              "\t<tr><td>MX000017004</td><td>2011-03-30</td><td> NA</td><td> NA</td></tr>\n",
              "\t<tr><td>MX000017004</td><td>2011-04-30</td><td> NA</td><td> NA</td></tr>\n",
              "</tbody>\n",
              "</table>\n"
            ],
            "text/markdown": "\nA tibble: 16871 × 4\n\n| station &lt;chr&gt; | date &lt;date&gt; | TMAX &lt;dbl&gt; | TMIN &lt;dbl&gt; |\n|---|---|---|---|\n| MX000017004 | 1955-04-01 | 310 | 150 |\n| MX000017004 | 1955-05-01 | 310 | 200 |\n| MX000017004 | 1955-06-01 | 300 | 160 |\n| MX000017004 | 1955-07-01 | 270 | 150 |\n| MX000017004 | 1955-08-01 | 230 | 140 |\n| MX000017004 | 1955-09-01 | 230 | 150 |\n| MX000017004 | 1955-10-01 | 240 | 150 |\n| MX000017004 | 1955-11-01 | 270 | 130 |\n| MX000017004 | 1955-12-01 | 240 | 130 |\n| MX000017004 | 1956-01-01 | 240 |  90 |\n| MX000017004 | 1956-02-01 | 260 | 120 |\n| MX000017004 | 1956-03-01 | 290 | 130 |\n| MX000017004 | 1956-04-01 | 320 | 160 |\n| MX000017004 | 1956-05-01 | 280 | 140 |\n| MX000017004 | 1956-06-01 | 230 | 140 |\n| MX000017004 | 1956-07-01 | 250 | 140 |\n| MX000017004 | 1956-08-01 | 250 | 140 |\n| MX000017004 | 1956-09-01 | 270 | 150 |\n| MX000017004 | 1956-10-01 | 260 | 160 |\n| MX000017004 | 1956-12-01 | 240 | 120 |\n| MX000017004 | 1957-01-01 | 260 | 120 |\n| MX000017004 | 1957-02-01 | 270 | 140 |\n| MX000017004 | 1957-03-01 | 280 | 130 |\n| MX000017004 | 1957-04-01 | 300 | 160 |\n| MX000017004 | 1957-05-01 | 310 | 170 |\n| MX000017004 | 1957-06-01 | 290 | 180 |\n| MX000017004 | 1957-07-01 | 260 | 160 |\n| MX000017004 | 1957-08-01 | 280 | 160 |\n| MX000017004 | 1957-10-01 | 240 | 130 |\n| MX000017004 | 1957-11-01 | 270 | 150 |\n| ⋮ | ⋮ | ⋮ | ⋮ |\n| MX000017004 | 2008-03-30 | 354 | 175 |\n| MX000017004 | 2008-04-30 |  NA |  NA |\n| MX000017004 | 2008-06-30 |  NA |  NA |\n| MX000017004 | 2008-07-30 |  NA |  NA |\n| MX000017004 | 2008-08-30 |  NA |  NA |\n| MX000017004 | 2008-09-30 |  NA |  NA |\n| MX000017004 | 2008-10-30 |  NA |  NA |\n| MX000017004 | 2009-01-30 |  NA |  NA |\n| MX000017004 | 2009-03-30 |  NA |  NA |\n| MX000017004 | 2009-04-30 |  NA |  NA |\n| MX000017004 | 2009-05-30 | 332 | 141 |\n| MX000017004 | 2009-07-30 |  NA |  NA |\n| MX000017004 | 2009-08-30 |  NA |  NA |\n| MX000017004 | 2009-09-30 |  NA |  NA |\n| MX000017004 | 2009-10-30 |  NA |  NA |\n| MX000017004 | 2009-11-30 |  NA |  NA |\n| MX000017004 | 2009-12-30 |  NA |  NA |\n| MX000017004 | 2010-01-30 | 278 | 145 |\n| MX000017004 | 2010-03-30 |  NA |  NA |\n| MX000017004 | 2010-04-30 |  NA |  NA |\n| MX000017004 | 2010-05-30 |  NA |  NA |\n| MX000017004 | 2010-06-30 |  NA |  NA |\n| MX000017004 | 2010-07-30 |  NA |  NA |\n| MX000017004 | 2010-08-30 |  NA |  NA |\n| MX000017004 | 2010-10-30 |  NA |  NA |\n| MX000017004 | 2010-11-30 |  NA |  NA |\n| MX000017004 | 2010-12-30 |  NA |  NA |\n| MX000017004 | 2011-01-30 |  NA |  NA |\n| MX000017004 | 2011-03-30 |  NA |  NA |\n| MX000017004 | 2011-04-30 |  NA |  NA |\n\n",
            "text/latex": "A tibble: 16871 × 4\n\\begin{tabular}{llll}\n station & date & TMAX & TMIN\\\\\n <chr> & <date> & <dbl> & <dbl>\\\\\n\\hline\n\t MX000017004 & 1955-04-01 & 310 & 150\\\\\n\t MX000017004 & 1955-05-01 & 310 & 200\\\\\n\t MX000017004 & 1955-06-01 & 300 & 160\\\\\n\t MX000017004 & 1955-07-01 & 270 & 150\\\\\n\t MX000017004 & 1955-08-01 & 230 & 140\\\\\n\t MX000017004 & 1955-09-01 & 230 & 150\\\\\n\t MX000017004 & 1955-10-01 & 240 & 150\\\\\n\t MX000017004 & 1955-11-01 & 270 & 130\\\\\n\t MX000017004 & 1955-12-01 & 240 & 130\\\\\n\t MX000017004 & 1956-01-01 & 240 &  90\\\\\n\t MX000017004 & 1956-02-01 & 260 & 120\\\\\n\t MX000017004 & 1956-03-01 & 290 & 130\\\\\n\t MX000017004 & 1956-04-01 & 320 & 160\\\\\n\t MX000017004 & 1956-05-01 & 280 & 140\\\\\n\t MX000017004 & 1956-06-01 & 230 & 140\\\\\n\t MX000017004 & 1956-07-01 & 250 & 140\\\\\n\t MX000017004 & 1956-08-01 & 250 & 140\\\\\n\t MX000017004 & 1956-09-01 & 270 & 150\\\\\n\t MX000017004 & 1956-10-01 & 260 & 160\\\\\n\t MX000017004 & 1956-12-01 & 240 & 120\\\\\n\t MX000017004 & 1957-01-01 & 260 & 120\\\\\n\t MX000017004 & 1957-02-01 & 270 & 140\\\\\n\t MX000017004 & 1957-03-01 & 280 & 130\\\\\n\t MX000017004 & 1957-04-01 & 300 & 160\\\\\n\t MX000017004 & 1957-05-01 & 310 & 170\\\\\n\t MX000017004 & 1957-06-01 & 290 & 180\\\\\n\t MX000017004 & 1957-07-01 & 260 & 160\\\\\n\t MX000017004 & 1957-08-01 & 280 & 160\\\\\n\t MX000017004 & 1957-10-01 & 240 & 130\\\\\n\t MX000017004 & 1957-11-01 & 270 & 150\\\\\n\t ⋮ & ⋮ & ⋮ & ⋮\\\\\n\t MX000017004 & 2008-03-30 & 354 & 175\\\\\n\t MX000017004 & 2008-04-30 &  NA &  NA\\\\\n\t MX000017004 & 2008-06-30 &  NA &  NA\\\\\n\t MX000017004 & 2008-07-30 &  NA &  NA\\\\\n\t MX000017004 & 2008-08-30 &  NA &  NA\\\\\n\t MX000017004 & 2008-09-30 &  NA &  NA\\\\\n\t MX000017004 & 2008-10-30 &  NA &  NA\\\\\n\t MX000017004 & 2009-01-30 &  NA &  NA\\\\\n\t MX000017004 & 2009-03-30 &  NA &  NA\\\\\n\t MX000017004 & 2009-04-30 &  NA &  NA\\\\\n\t MX000017004 & 2009-05-30 & 332 & 141\\\\\n\t MX000017004 & 2009-07-30 &  NA &  NA\\\\\n\t MX000017004 & 2009-08-30 &  NA &  NA\\\\\n\t MX000017004 & 2009-09-30 &  NA &  NA\\\\\n\t MX000017004 & 2009-10-30 &  NA &  NA\\\\\n\t MX000017004 & 2009-11-30 &  NA &  NA\\\\\n\t MX000017004 & 2009-12-30 &  NA &  NA\\\\\n\t MX000017004 & 2010-01-30 & 278 & 145\\\\\n\t MX000017004 & 2010-03-30 &  NA &  NA\\\\\n\t MX000017004 & 2010-04-30 &  NA &  NA\\\\\n\t MX000017004 & 2010-05-30 &  NA &  NA\\\\\n\t MX000017004 & 2010-06-30 &  NA &  NA\\\\\n\t MX000017004 & 2010-07-30 &  NA &  NA\\\\\n\t MX000017004 & 2010-08-30 &  NA &  NA\\\\\n\t MX000017004 & 2010-10-30 &  NA &  NA\\\\\n\t MX000017004 & 2010-11-30 &  NA &  NA\\\\\n\t MX000017004 & 2010-12-30 &  NA &  NA\\\\\n\t MX000017004 & 2011-01-30 &  NA &  NA\\\\\n\t MX000017004 & 2011-03-30 &  NA &  NA\\\\\n\t MX000017004 & 2011-04-30 &  NA &  NA\\\\\n\\end{tabular}\n",
            "text/plain": [
              "      station     date       TMAX TMIN\n",
              "1     MX000017004 1955-04-01 310  150 \n",
              "2     MX000017004 1955-05-01 310  200 \n",
              "3     MX000017004 1955-06-01 300  160 \n",
              "4     MX000017004 1955-07-01 270  150 \n",
              "5     MX000017004 1955-08-01 230  140 \n",
              "6     MX000017004 1955-09-01 230  150 \n",
              "7     MX000017004 1955-10-01 240  150 \n",
              "8     MX000017004 1955-11-01 270  130 \n",
              "9     MX000017004 1955-12-01 240  130 \n",
              "10    MX000017004 1956-01-01 240   90 \n",
              "11    MX000017004 1956-02-01 260  120 \n",
              "12    MX000017004 1956-03-01 290  130 \n",
              "13    MX000017004 1956-04-01 320  160 \n",
              "14    MX000017004 1956-05-01 280  140 \n",
              "15    MX000017004 1956-06-01 230  140 \n",
              "16    MX000017004 1956-07-01 250  140 \n",
              "17    MX000017004 1956-08-01 250  140 \n",
              "18    MX000017004 1956-09-01 270  150 \n",
              "19    MX000017004 1956-10-01 260  160 \n",
              "20    MX000017004 1956-12-01 240  120 \n",
              "21    MX000017004 1957-01-01 260  120 \n",
              "22    MX000017004 1957-02-01 270  140 \n",
              "23    MX000017004 1957-03-01 280  130 \n",
              "24    MX000017004 1957-04-01 300  160 \n",
              "25    MX000017004 1957-05-01 310  170 \n",
              "26    MX000017004 1957-06-01 290  180 \n",
              "27    MX000017004 1957-07-01 260  160 \n",
              "28    MX000017004 1957-08-01 280  160 \n",
              "29    MX000017004 1957-10-01 240  130 \n",
              "30    MX000017004 1957-11-01 270  150 \n",
              "⋮     ⋮           ⋮          ⋮    ⋮   \n",
              "16842 MX000017004 2008-03-30 354  175 \n",
              "16843 MX000017004 2008-04-30  NA   NA \n",
              "16844 MX000017004 2008-06-30  NA   NA \n",
              "16845 MX000017004 2008-07-30  NA   NA \n",
              "16846 MX000017004 2008-08-30  NA   NA \n",
              "16847 MX000017004 2008-09-30  NA   NA \n",
              "16848 MX000017004 2008-10-30  NA   NA \n",
              "16849 MX000017004 2009-01-30  NA   NA \n",
              "16850 MX000017004 2009-03-30  NA   NA \n",
              "16851 MX000017004 2009-04-30  NA   NA \n",
              "16852 MX000017004 2009-05-30 332  141 \n",
              "16853 MX000017004 2009-07-30  NA   NA \n",
              "16854 MX000017004 2009-08-30  NA   NA \n",
              "16855 MX000017004 2009-09-30  NA   NA \n",
              "16856 MX000017004 2009-10-30  NA   NA \n",
              "16857 MX000017004 2009-11-30  NA   NA \n",
              "16858 MX000017004 2009-12-30  NA   NA \n",
              "16859 MX000017004 2010-01-30 278  145 \n",
              "16860 MX000017004 2010-03-30  NA   NA \n",
              "16861 MX000017004 2010-04-30  NA   NA \n",
              "16862 MX000017004 2010-05-30  NA   NA \n",
              "16863 MX000017004 2010-06-30  NA   NA \n",
              "16864 MX000017004 2010-07-30  NA   NA \n",
              "16865 MX000017004 2010-08-30  NA   NA \n",
              "16866 MX000017004 2010-10-30  NA   NA \n",
              "16867 MX000017004 2010-11-30  NA   NA \n",
              "16868 MX000017004 2010-12-30  NA   NA \n",
              "16869 MX000017004 2011-01-30  NA   NA \n",
              "16870 MX000017004 2011-03-30  NA   NA \n",
              "16871 MX000017004 2011-04-30  NA   NA "
            ]
          },
          "metadata": {}
        }
      ]
    },
    {
      "cell_type": "code",
      "source": [
        "foulshots<-c(18,22,15,13,5)"
      ],
      "metadata": {
        "id": "7PUprFv8a7Ze"
      },
      "execution_count": 10,
      "outputs": []
    },
    {
      "cell_type": "code",
      "source": [
        "sum(foulshots)"
      ],
      "metadata": {
        "colab": {
          "base_uri": "https://localhost:8080/",
          "height": 34
        },
        "id": "Kutyd-tea7Wq",
        "outputId": "75860a0e-7634-4403-f3b2-ea3c33ae3d44"
      },
      "execution_count": 11,
      "outputs": [
        {
          "output_type": "display_data",
          "data": {
            "text/html": [
              "73"
            ],
            "text/markdown": "73",
            "text/latex": "73",
            "text/plain": [
              "[1] 73"
            ]
          },
          "metadata": {}
        }
      ]
    },
    {
      "cell_type": "code",
      "source": [
        "foulshot_strings <- c(\"18\", \"22\", \"15\", \"13\", \"5\")\n",
        "sum(foulshot_strings)"
      ],
      "metadata": {
        "colab": {
          "base_uri": "https://localhost:8080/",
          "height": 72
        },
        "id": "PzCGO0Maa7Ta",
        "outputId": "15a0d5f4-7f08-4e5c-8cc4-e5ca5826078c"
      },
      "execution_count": 12,
      "outputs": [
        {
          "output_type": "error",
          "ename": "ERROR",
          "evalue": "Error in sum(foulshot_strings): invalid 'type' (character) of argument\n",
          "traceback": [
            "Error in sum(foulshot_strings): invalid 'type' (character) of argument\nTraceback:\n"
          ]
        }
      ]
    },
    {
      "cell_type": "code",
      "source": [
        "class(foulshot_strings)"
      ],
      "metadata": {
        "colab": {
          "base_uri": "https://localhost:8080/",
          "height": 34
        },
        "id": "UIyfXq_9a7Qd",
        "outputId": "7c8db96b-85b7-44b8-b9a9-3eca120c4eb8"
      },
      "execution_count": 13,
      "outputs": [
        {
          "output_type": "display_data",
          "data": {
            "text/html": [
              "'character'"
            ],
            "text/markdown": "'character'",
            "text/latex": "'character'",
            "text/plain": [
              "[1] \"character\""
            ]
          },
          "metadata": {}
        }
      ]
    },
    {
      "cell_type": "code",
      "source": [
        "foulshot_convert<-as.numeric(foulshot_strings)\n",
        "class(foulshot_convert)\n",
        "sum(foulshot_convert)"
      ],
      "metadata": {
        "colab": {
          "base_uri": "https://localhost:8080/",
          "height": 52
        },
        "id": "cCvzulY7gPnO",
        "outputId": "c761e003-cbf9-4469-f17f-cb927648c415"
      },
      "execution_count": 14,
      "outputs": [
        {
          "output_type": "display_data",
          "data": {
            "text/html": [
              "'numeric'"
            ],
            "text/markdown": "'numeric'",
            "text/latex": "'numeric'",
            "text/plain": [
              "[1] \"numeric\""
            ]
          },
          "metadata": {}
        },
        {
          "output_type": "display_data",
          "data": {
            "text/html": [
              "73"
            ],
            "text/markdown": "73",
            "text/latex": "73",
            "text/plain": [
              "[1] 73"
            ]
          },
          "metadata": {}
        }
      ]
    },
    {
      "cell_type": "code",
      "source": [
        "is.numeric(foulshots)\n",
        "is.character(foulshots)\n",
        "\n",
        "is.numeric(foulshot_strings)\n",
        "is.character(foulshot_strings)"
      ],
      "metadata": {
        "colab": {
          "base_uri": "https://localhost:8080/",
          "height": 86
        },
        "id": "F7ra-HkHgPj_",
        "outputId": "e4263504-3813-455d-855d-ea6311388b4f"
      },
      "execution_count": 15,
      "outputs": [
        {
          "output_type": "display_data",
          "data": {
            "text/html": [
              "TRUE"
            ],
            "text/markdown": "TRUE",
            "text/latex": "TRUE",
            "text/plain": [
              "[1] TRUE"
            ]
          },
          "metadata": {}
        },
        {
          "output_type": "display_data",
          "data": {
            "text/html": [
              "FALSE"
            ],
            "text/markdown": "FALSE",
            "text/latex": "FALSE",
            "text/plain": [
              "[1] FALSE"
            ]
          },
          "metadata": {}
        },
        {
          "output_type": "display_data",
          "data": {
            "text/html": [
              "FALSE"
            ],
            "text/markdown": "FALSE",
            "text/latex": "FALSE",
            "text/plain": [
              "[1] FALSE"
            ]
          },
          "metadata": {}
        },
        {
          "output_type": "display_data",
          "data": {
            "text/html": [
              "TRUE"
            ],
            "text/markdown": "TRUE",
            "text/latex": "TRUE",
            "text/plain": [
              "[1] TRUE"
            ]
          },
          "metadata": {}
        }
      ]
    },
    {
      "cell_type": "code",
      "source": [
        "# Let's look at a tibble containing the names of players and their team numbers\n",
        "\n",
        "names <- c(\"Mike\", \"Rae\", \"Dennis\", \"Sally\", \"Ian\", \"Sue\")\n",
        "teams <- c(1,1,1,2,2,2)\n",
        "assignments <- tibble(names, teams)\n",
        "assignments"
      ],
      "metadata": {
        "colab": {
          "base_uri": "https://localhost:8080/",
          "height": 286
        },
        "id": "iqDoYUrlgPgu",
        "outputId": "cfb432d2-aa8d-495e-ad07-292570f5031f"
      },
      "execution_count": 16,
      "outputs": [
        {
          "output_type": "display_data",
          "data": {
            "text/html": [
              "<table class=\"dataframe\">\n",
              "<caption>A tibble: 6 × 2</caption>\n",
              "<thead>\n",
              "\t<tr><th scope=col>names</th><th scope=col>teams</th></tr>\n",
              "\t<tr><th scope=col>&lt;chr&gt;</th><th scope=col>&lt;dbl&gt;</th></tr>\n",
              "</thead>\n",
              "<tbody>\n",
              "\t<tr><td>Mike  </td><td>1</td></tr>\n",
              "\t<tr><td>Rae   </td><td>1</td></tr>\n",
              "\t<tr><td>Dennis</td><td>1</td></tr>\n",
              "\t<tr><td>Sally </td><td>2</td></tr>\n",
              "\t<tr><td>Ian   </td><td>2</td></tr>\n",
              "\t<tr><td>Sue   </td><td>2</td></tr>\n",
              "</tbody>\n",
              "</table>\n"
            ],
            "text/markdown": "\nA tibble: 6 × 2\n\n| names &lt;chr&gt; | teams &lt;dbl&gt; |\n|---|---|\n| Mike   | 1 |\n| Rae    | 1 |\n| Dennis | 1 |\n| Sally  | 2 |\n| Ian    | 2 |\n| Sue    | 2 |\n\n",
            "text/latex": "A tibble: 6 × 2\n\\begin{tabular}{ll}\n names & teams\\\\\n <chr> & <dbl>\\\\\n\\hline\n\t Mike   & 1\\\\\n\t Rae    & 1\\\\\n\t Dennis & 1\\\\\n\t Sally  & 2\\\\\n\t Ian    & 2\\\\\n\t Sue    & 2\\\\\n\\end{tabular}\n",
            "text/plain": [
              "  names  teams\n",
              "1 Mike   1    \n",
              "2 Rae    1    \n",
              "3 Dennis 1    \n",
              "4 Sally  2    \n",
              "5 Ian    2    \n",
              "6 Sue    2    "
            ]
          },
          "metadata": {}
        }
      ]
    },
    {
      "cell_type": "code",
      "source": [
        "assignments$teams<-as.factor(assignments$teams)\n",
        "assignments"
      ],
      "metadata": {
        "colab": {
          "base_uri": "https://localhost:8080/",
          "height": 286
        },
        "id": "GOjqm6qFgPdy",
        "outputId": "9376b99d-546d-4961-b3d6-6c7a635e989d"
      },
      "execution_count": 17,
      "outputs": [
        {
          "output_type": "display_data",
          "data": {
            "text/html": [
              "<table class=\"dataframe\">\n",
              "<caption>A tibble: 6 × 2</caption>\n",
              "<thead>\n",
              "\t<tr><th scope=col>names</th><th scope=col>teams</th></tr>\n",
              "\t<tr><th scope=col>&lt;chr&gt;</th><th scope=col>&lt;fct&gt;</th></tr>\n",
              "</thead>\n",
              "<tbody>\n",
              "\t<tr><td>Mike  </td><td>1</td></tr>\n",
              "\t<tr><td>Rae   </td><td>1</td></tr>\n",
              "\t<tr><td>Dennis</td><td>1</td></tr>\n",
              "\t<tr><td>Sally </td><td>2</td></tr>\n",
              "\t<tr><td>Ian   </td><td>2</td></tr>\n",
              "\t<tr><td>Sue   </td><td>2</td></tr>\n",
              "</tbody>\n",
              "</table>\n"
            ],
            "text/markdown": "\nA tibble: 6 × 2\n\n| names &lt;chr&gt; | teams &lt;fct&gt; |\n|---|---|\n| Mike   | 1 |\n| Rae    | 1 |\n| Dennis | 1 |\n| Sally  | 2 |\n| Ian    | 2 |\n| Sue    | 2 |\n\n",
            "text/latex": "A tibble: 6 × 2\n\\begin{tabular}{ll}\n names & teams\\\\\n <chr> & <fct>\\\\\n\\hline\n\t Mike   & 1\\\\\n\t Rae    & 1\\\\\n\t Dennis & 1\\\\\n\t Sally  & 2\\\\\n\t Ian    & 2\\\\\n\t Sue    & 2\\\\\n\\end{tabular}\n",
            "text/plain": [
              "  names  teams\n",
              "1 Mike   1    \n",
              "2 Rae    1    \n",
              "3 Dennis 1    \n",
              "4 Sally  2    \n",
              "5 Ian    2    \n",
              "6 Sue    2    "
            ]
          },
          "metadata": {}
        }
      ]
    },
    {
      "cell_type": "code",
      "source": [
        "\n",
        "# And there is an is.factor function to test them\n",
        "\n",
        "is.factor(assignments$names)\n",
        "is.factor(assignments$teams)"
      ],
      "metadata": {
        "colab": {
          "base_uri": "https://localhost:8080/",
          "height": 52
        },
        "id": "UY2lJqgzgPau",
        "outputId": "c15faeda-0d67-452c-a5f9-d42448e44fd4"
      },
      "execution_count": 18,
      "outputs": [
        {
          "output_type": "display_data",
          "data": {
            "text/html": [
              "FALSE"
            ],
            "text/markdown": "FALSE",
            "text/latex": "FALSE",
            "text/plain": [
              "[1] FALSE"
            ]
          },
          "metadata": {}
        },
        {
          "output_type": "display_data",
          "data": {
            "text/html": [
              "TRUE"
            ],
            "text/markdown": "TRUE",
            "text/latex": "TRUE",
            "text/plain": [
              "[1] TRUE"
            ]
          },
          "metadata": {}
        }
      ]
    },
    {
      "cell_type": "code",
      "source": [
        "install.packages(\"lubridate\")\n",
        "library(lubridate)"
      ],
      "metadata": {
        "colab": {
          "base_uri": "https://localhost:8080/"
        },
        "id": "yJc-ZeDjhuvJ",
        "outputId": "fa6c49f8-476d-431d-da81-0e2675cca2b2"
      },
      "execution_count": 19,
      "outputs": [
        {
          "output_type": "stream",
          "name": "stderr",
          "text": [
            "Installing package into ‘/usr/local/lib/R/site-library’\n",
            "(as ‘lib’ is unspecified)\n",
            "\n"
          ]
        }
      ]
    },
    {
      "cell_type": "code",
      "source": [
        "weather <- read_csv(\"http://594442.youcanlearnit.net//mexicanweather.csv\")\n"
      ],
      "metadata": {
        "colab": {
          "base_uri": "https://localhost:8080/"
        },
        "id": "8m7T9Kguhur7",
        "outputId": "0240c7a0-9069-487a-a187-8684ed3ffbad"
      },
      "execution_count": 20,
      "outputs": [
        {
          "output_type": "stream",
          "name": "stderr",
          "text": [
            "\u001b[1mRows: \u001b[22m\u001b[34m33712\u001b[39m \u001b[1mColumns: \u001b[22m\u001b[34m4\u001b[39m\n",
            "\u001b[36m──\u001b[39m \u001b[1mColumn specification\u001b[22m \u001b[36m────────────────────────────────────────────────────────\u001b[39m\n",
            "\u001b[1mDelimiter:\u001b[22m \",\"\n",
            "\u001b[31mchr\u001b[39m  (2): station, element\n",
            "\u001b[32mdbl\u001b[39m  (1): value\n",
            "\u001b[34mdate\u001b[39m (1): date\n",
            "\n",
            "\u001b[36mℹ\u001b[39m Use `spec()` to retrieve the full column specification for this data.\n",
            "\u001b[36mℹ\u001b[39m Specify the column types or set `show_col_types = FALSE` to quiet this message.\n"
          ]
        }
      ]
    },
    {
      "cell_type": "code",
      "source": [
        "head(weather,5)"
      ],
      "metadata": {
        "colab": {
          "base_uri": "https://localhost:8080/",
          "height": 255
        },
        "id": "DilyTldqhupe",
        "outputId": "fcc12bc5-7d03-4147-d574-dd9f544372da"
      },
      "execution_count": 21,
      "outputs": [
        {
          "output_type": "display_data",
          "data": {
            "text/html": [
              "<table class=\"dataframe\">\n",
              "<caption>A tibble: 5 × 4</caption>\n",
              "<thead>\n",
              "\t<tr><th scope=col>station</th><th scope=col>element</th><th scope=col>value</th><th scope=col>date</th></tr>\n",
              "\t<tr><th scope=col>&lt;chr&gt;</th><th scope=col>&lt;chr&gt;</th><th scope=col>&lt;dbl&gt;</th><th scope=col>&lt;date&gt;</th></tr>\n",
              "</thead>\n",
              "<tbody>\n",
              "\t<tr><td>MX000017004</td><td>TMAX</td><td>310</td><td>1955-04-01</td></tr>\n",
              "\t<tr><td>MX000017004</td><td>TMIN</td><td>150</td><td>1955-04-01</td></tr>\n",
              "\t<tr><td>MX000017004</td><td>TMAX</td><td>310</td><td>1955-05-01</td></tr>\n",
              "\t<tr><td>MX000017004</td><td>TMIN</td><td>200</td><td>1955-05-01</td></tr>\n",
              "\t<tr><td>MX000017004</td><td>TMAX</td><td>300</td><td>1955-06-01</td></tr>\n",
              "</tbody>\n",
              "</table>\n"
            ],
            "text/markdown": "\nA tibble: 5 × 4\n\n| station &lt;chr&gt; | element &lt;chr&gt; | value &lt;dbl&gt; | date &lt;date&gt; |\n|---|---|---|---|\n| MX000017004 | TMAX | 310 | 1955-04-01 |\n| MX000017004 | TMIN | 150 | 1955-04-01 |\n| MX000017004 | TMAX | 310 | 1955-05-01 |\n| MX000017004 | TMIN | 200 | 1955-05-01 |\n| MX000017004 | TMAX | 300 | 1955-06-01 |\n\n",
            "text/latex": "A tibble: 5 × 4\n\\begin{tabular}{llll}\n station & element & value & date\\\\\n <chr> & <chr> & <dbl> & <date>\\\\\n\\hline\n\t MX000017004 & TMAX & 310 & 1955-04-01\\\\\n\t MX000017004 & TMIN & 150 & 1955-04-01\\\\\n\t MX000017004 & TMAX & 310 & 1955-05-01\\\\\n\t MX000017004 & TMIN & 200 & 1955-05-01\\\\\n\t MX000017004 & TMAX & 300 & 1955-06-01\\\\\n\\end{tabular}\n",
            "text/plain": [
              "  station     element value date      \n",
              "1 MX000017004 TMAX    310   1955-04-01\n",
              "2 MX000017004 TMIN    150   1955-04-01\n",
              "3 MX000017004 TMAX    310   1955-05-01\n",
              "4 MX000017004 TMIN    200   1955-05-01\n",
              "5 MX000017004 TMAX    300   1955-06-01"
            ]
          },
          "metadata": {}
        }
      ]
    },
    {
      "cell_type": "code",
      "source": [
        "weather<-weather%>%mutate(year=year(date),month=month(date),day=day(date))\n",
        "head(weather,5)"
      ],
      "metadata": {
        "colab": {
          "base_uri": "https://localhost:8080/",
          "height": 255
        },
        "id": "DQHhJSWJhums",
        "outputId": "c08c91e4-e3f3-4e6b-8a62-56fb5615f99d"
      },
      "execution_count": 22,
      "outputs": [
        {
          "output_type": "display_data",
          "data": {
            "text/html": [
              "<table class=\"dataframe\">\n",
              "<caption>A tibble: 5 × 7</caption>\n",
              "<thead>\n",
              "\t<tr><th scope=col>station</th><th scope=col>element</th><th scope=col>value</th><th scope=col>date</th><th scope=col>year</th><th scope=col>month</th><th scope=col>day</th></tr>\n",
              "\t<tr><th scope=col>&lt;chr&gt;</th><th scope=col>&lt;chr&gt;</th><th scope=col>&lt;dbl&gt;</th><th scope=col>&lt;date&gt;</th><th scope=col>&lt;dbl&gt;</th><th scope=col>&lt;dbl&gt;</th><th scope=col>&lt;int&gt;</th></tr>\n",
              "</thead>\n",
              "<tbody>\n",
              "\t<tr><td>MX000017004</td><td>TMAX</td><td>310</td><td>1955-04-01</td><td>1955</td><td>4</td><td>1</td></tr>\n",
              "\t<tr><td>MX000017004</td><td>TMIN</td><td>150</td><td>1955-04-01</td><td>1955</td><td>4</td><td>1</td></tr>\n",
              "\t<tr><td>MX000017004</td><td>TMAX</td><td>310</td><td>1955-05-01</td><td>1955</td><td>5</td><td>1</td></tr>\n",
              "\t<tr><td>MX000017004</td><td>TMIN</td><td>200</td><td>1955-05-01</td><td>1955</td><td>5</td><td>1</td></tr>\n",
              "\t<tr><td>MX000017004</td><td>TMAX</td><td>300</td><td>1955-06-01</td><td>1955</td><td>6</td><td>1</td></tr>\n",
              "</tbody>\n",
              "</table>\n"
            ],
            "text/markdown": "\nA tibble: 5 × 7\n\n| station &lt;chr&gt; | element &lt;chr&gt; | value &lt;dbl&gt; | date &lt;date&gt; | year &lt;dbl&gt; | month &lt;dbl&gt; | day &lt;int&gt; |\n|---|---|---|---|---|---|---|\n| MX000017004 | TMAX | 310 | 1955-04-01 | 1955 | 4 | 1 |\n| MX000017004 | TMIN | 150 | 1955-04-01 | 1955 | 4 | 1 |\n| MX000017004 | TMAX | 310 | 1955-05-01 | 1955 | 5 | 1 |\n| MX000017004 | TMIN | 200 | 1955-05-01 | 1955 | 5 | 1 |\n| MX000017004 | TMAX | 300 | 1955-06-01 | 1955 | 6 | 1 |\n\n",
            "text/latex": "A tibble: 5 × 7\n\\begin{tabular}{lllllll}\n station & element & value & date & year & month & day\\\\\n <chr> & <chr> & <dbl> & <date> & <dbl> & <dbl> & <int>\\\\\n\\hline\n\t MX000017004 & TMAX & 310 & 1955-04-01 & 1955 & 4 & 1\\\\\n\t MX000017004 & TMIN & 150 & 1955-04-01 & 1955 & 4 & 1\\\\\n\t MX000017004 & TMAX & 310 & 1955-05-01 & 1955 & 5 & 1\\\\\n\t MX000017004 & TMIN & 200 & 1955-05-01 & 1955 & 5 & 1\\\\\n\t MX000017004 & TMAX & 300 & 1955-06-01 & 1955 & 6 & 1\\\\\n\\end{tabular}\n",
            "text/plain": [
              "  station     element value date       year month day\n",
              "1 MX000017004 TMAX    310   1955-04-01 1955 4     1  \n",
              "2 MX000017004 TMIN    150   1955-04-01 1955 4     1  \n",
              "3 MX000017004 TMAX    310   1955-05-01 1955 5     1  \n",
              "4 MX000017004 TMIN    200   1955-05-01 1955 5     1  \n",
              "5 MX000017004 TMAX    300   1955-06-01 1955 6     1  "
            ]
          },
          "metadata": {}
        }
      ]
    },
    {
      "cell_type": "code",
      "source": [
        "# We can also extract some derived values such as the weekday\n",
        "wday(\"2018-04-01\")"
      ],
      "metadata": {
        "colab": {
          "base_uri": "https://localhost:8080/",
          "height": 34
        },
        "id": "xLp7o_rohugl",
        "outputId": "dfc9423c-883e-4b04-f450-c3054874f929"
      },
      "execution_count": 23,
      "outputs": [
        {
          "output_type": "display_data",
          "data": {
            "text/html": [
              "1"
            ],
            "text/markdown": "1",
            "text/latex": "1",
            "text/plain": [
              "[1] 1"
            ]
          },
          "metadata": {}
        }
      ]
    },
    {
      "cell_type": "code",
      "source": [
        "# or day of the year\n",
        "yday(\"2018-04-01\")\n",
        "\n",
        "# We can also use lubridate to create date values out of different strings\n",
        "\n",
        "mdy(\"04/01/2018\")\n",
        "mdy(\"04/01/18\")\n",
        "dmy(\"04/01/18\")\n",
        "ymd(\"2018-04-01\")"
      ],
      "metadata": {
        "colab": {
          "base_uri": "https://localhost:8080/",
          "height": 104
        },
        "id": "hN9Nke-pgPXt",
        "outputId": "28758a3b-917c-4c9c-b5a0-2a0f996876e0"
      },
      "execution_count": 24,
      "outputs": [
        {
          "output_type": "display_data",
          "data": {
            "text/html": [
              "91"
            ],
            "text/markdown": "91",
            "text/latex": "91",
            "text/plain": [
              "[1] 91"
            ]
          },
          "metadata": {}
        },
        {
          "output_type": "display_data",
          "data": {
            "text/html": [
              "<time datetime=\"2018-04-01\">2018-04-01</time>"
            ],
            "text/markdown": "2018-04-01",
            "text/latex": "2018-04-01",
            "text/plain": [
              "[1] \"2018-04-01\""
            ]
          },
          "metadata": {}
        },
        {
          "output_type": "display_data",
          "data": {
            "text/html": [
              "<time datetime=\"2018-04-01\">2018-04-01</time>"
            ],
            "text/markdown": "2018-04-01",
            "text/latex": "2018-04-01",
            "text/plain": [
              "[1] \"2018-04-01\""
            ]
          },
          "metadata": {}
        },
        {
          "output_type": "display_data",
          "data": {
            "text/html": [
              "<time datetime=\"2018-01-04\">2018-01-04</time>"
            ],
            "text/markdown": "2018-01-04",
            "text/latex": "2018-01-04",
            "text/plain": [
              "[1] \"2018-01-04\""
            ]
          },
          "metadata": {}
        },
        {
          "output_type": "display_data",
          "data": {
            "text/html": [
              "<time datetime=\"2018-04-01\">2018-04-01</time>"
            ],
            "text/markdown": "2018-04-01",
            "text/latex": "2018-04-01",
            "text/plain": [
              "[1] \"2018-04-01\""
            ]
          },
          "metadata": {}
        }
      ]
    },
    {
      "cell_type": "code",
      "source": [
        "# And we can include times\n",
        "\n",
        "ymd_hms(\"2018-04-01 08:00:00\")\n",
        "\n",
        "# Let's force that to eastern time\n",
        "\n",
        "ymd_hms(\"2018-04-01 08:00:00\", tz='EST')"
      ],
      "metadata": {
        "colab": {
          "base_uri": "https://localhost:8080/",
          "height": 52
        },
        "id": "57TfPCvJiRDP",
        "outputId": "d54ed017-d497-4d34-9577-87b2afe071e2"
      },
      "execution_count": 25,
      "outputs": [
        {
          "output_type": "display_data",
          "data": {
            "text/plain": [
              "[1] \"2018-04-01 08:00:00 UTC\""
            ]
          },
          "metadata": {}
        },
        {
          "output_type": "display_data",
          "data": {
            "text/plain": [
              "[1] \"2018-04-01 08:00:00 EST\""
            ]
          },
          "metadata": {}
        }
      ]
    },
    {
      "cell_type": "code",
      "source": [
        "# Read in the Medicare payments dataset\n",
        "names <- c(\"DRG\", \"ProviderID\", \"Name\", \"Address\", \"City\", \"State\", \"ZIP\", \"Region\", \"Discharges\", \"AverageCharges\", \"AverageTotalPayments\",\n",
        "           \"AverageMedicarePayments\")"
      ],
      "metadata": {
        "id": "7rA4a2_JiQ_z"
      },
      "execution_count": 26,
      "outputs": []
    },
    {
      "cell_type": "code",
      "source": [
        "types = 'ccccccccinnn'"
      ],
      "metadata": {
        "id": "scixY8XYiQ8y"
      },
      "execution_count": 27,
      "outputs": []
    },
    {
      "cell_type": "code",
      "source": [
        "df<-read_tsv(\"http://594442.youcanlearnit.net/inpatient.tsv\",col_names = names,skip = 1,col_types = types)"
      ],
      "metadata": {
        "id": "4ayIGXtMiQ5e"
      },
      "execution_count": 28,
      "outputs": []
    },
    {
      "cell_type": "code",
      "source": [
        "head(df,5)"
      ],
      "metadata": {
        "colab": {
          "base_uri": "https://localhost:8080/",
          "height": 341
        },
        "id": "n0ltoNIyiQ2N",
        "outputId": "8006f2ed-107c-4050-d923-27fceb64754e"
      },
      "execution_count": 29,
      "outputs": [
        {
          "output_type": "display_data",
          "data": {
            "text/html": [
              "<table class=\"dataframe\">\n",
              "<caption>A tibble: 5 × 12</caption>\n",
              "<thead>\n",
              "\t<tr><th scope=col>DRG</th><th scope=col>ProviderID</th><th scope=col>Name</th><th scope=col>Address</th><th scope=col>City</th><th scope=col>State</th><th scope=col>ZIP</th><th scope=col>Region</th><th scope=col>Discharges</th><th scope=col>AverageCharges</th><th scope=col>AverageTotalPayments</th><th scope=col>AverageMedicarePayments</th></tr>\n",
              "\t<tr><th scope=col>&lt;chr&gt;</th><th scope=col>&lt;chr&gt;</th><th scope=col>&lt;chr&gt;</th><th scope=col>&lt;chr&gt;</th><th scope=col>&lt;chr&gt;</th><th scope=col>&lt;chr&gt;</th><th scope=col>&lt;chr&gt;</th><th scope=col>&lt;chr&gt;</th><th scope=col>&lt;int&gt;</th><th scope=col>&lt;dbl&gt;</th><th scope=col>&lt;dbl&gt;</th><th scope=col>&lt;dbl&gt;</th></tr>\n",
              "</thead>\n",
              "<tbody>\n",
              "\t<tr><td>039 - EXTRACRANIAL PROCEDURES W/O CC/MCC</td><td>10001</td><td>SOUTHEAST ALABAMA MEDICAL CENTER</td><td>1108 ROSS CLARK CIRCLE    </td><td>DOTHAN    </td><td>AL</td><td>36301</td><td>AL - Dothan    </td><td>91</td><td>32963.07</td><td>5777.24</td><td>4763.73</td></tr>\n",
              "\t<tr><td>039 - EXTRACRANIAL PROCEDURES W/O CC/MCC</td><td>10005</td><td>MARSHALL MEDICAL CENTER SOUTH   </td><td>2505 U S HIGHWAY 431 NORTH</td><td>BOAZ      </td><td>AL</td><td>35957</td><td>AL - Birmingham</td><td>14</td><td>15131.85</td><td>5787.57</td><td>4976.71</td></tr>\n",
              "\t<tr><td>039 - EXTRACRANIAL PROCEDURES W/O CC/MCC</td><td>10006</td><td>ELIZA COFFEE MEMORIAL HOSPITAL  </td><td>205 MARENGO STREET        </td><td>FLORENCE  </td><td>AL</td><td>35631</td><td>AL - Birmingham</td><td>24</td><td>37560.37</td><td>5434.95</td><td>4453.79</td></tr>\n",
              "\t<tr><td>039 - EXTRACRANIAL PROCEDURES W/O CC/MCC</td><td>10011</td><td>ST VINCENT'S EAST               </td><td>50 MEDICAL PARK EAST DRIVE</td><td>BIRMINGHAM</td><td>AL</td><td>35235</td><td>AL - Birmingham</td><td>25</td><td>13998.28</td><td>5417.56</td><td>4129.16</td></tr>\n",
              "\t<tr><td>039 - EXTRACRANIAL PROCEDURES W/O CC/MCC</td><td>10016</td><td>SHELBY BAPTIST MEDICAL CENTER   </td><td>1000 FIRST STREET NORTH   </td><td>ALABASTER </td><td>AL</td><td>35007</td><td>AL - Birmingham</td><td>18</td><td>31633.27</td><td>5658.33</td><td>4851.44</td></tr>\n",
              "</tbody>\n",
              "</table>\n"
            ],
            "text/markdown": "\nA tibble: 5 × 12\n\n| DRG &lt;chr&gt; | ProviderID &lt;chr&gt; | Name &lt;chr&gt; | Address &lt;chr&gt; | City &lt;chr&gt; | State &lt;chr&gt; | ZIP &lt;chr&gt; | Region &lt;chr&gt; | Discharges &lt;int&gt; | AverageCharges &lt;dbl&gt; | AverageTotalPayments &lt;dbl&gt; | AverageMedicarePayments &lt;dbl&gt; |\n|---|---|---|---|---|---|---|---|---|---|---|---|\n| 039 - EXTRACRANIAL PROCEDURES W/O CC/MCC | 10001 | SOUTHEAST ALABAMA MEDICAL CENTER | 1108 ROSS CLARK CIRCLE     | DOTHAN     | AL | 36301 | AL - Dothan     | 91 | 32963.07 | 5777.24 | 4763.73 |\n| 039 - EXTRACRANIAL PROCEDURES W/O CC/MCC | 10005 | MARSHALL MEDICAL CENTER SOUTH    | 2505 U S HIGHWAY 431 NORTH | BOAZ       | AL | 35957 | AL - Birmingham | 14 | 15131.85 | 5787.57 | 4976.71 |\n| 039 - EXTRACRANIAL PROCEDURES W/O CC/MCC | 10006 | ELIZA COFFEE MEMORIAL HOSPITAL   | 205 MARENGO STREET         | FLORENCE   | AL | 35631 | AL - Birmingham | 24 | 37560.37 | 5434.95 | 4453.79 |\n| 039 - EXTRACRANIAL PROCEDURES W/O CC/MCC | 10011 | ST VINCENT'S EAST                | 50 MEDICAL PARK EAST DRIVE | BIRMINGHAM | AL | 35235 | AL - Birmingham | 25 | 13998.28 | 5417.56 | 4129.16 |\n| 039 - EXTRACRANIAL PROCEDURES W/O CC/MCC | 10016 | SHELBY BAPTIST MEDICAL CENTER    | 1000 FIRST STREET NORTH    | ALABASTER  | AL | 35007 | AL - Birmingham | 18 | 31633.27 | 5658.33 | 4851.44 |\n\n",
            "text/latex": "A tibble: 5 × 12\n\\begin{tabular}{llllllllllll}\n DRG & ProviderID & Name & Address & City & State & ZIP & Region & Discharges & AverageCharges & AverageTotalPayments & AverageMedicarePayments\\\\\n <chr> & <chr> & <chr> & <chr> & <chr> & <chr> & <chr> & <chr> & <int> & <dbl> & <dbl> & <dbl>\\\\\n\\hline\n\t 039 - EXTRACRANIAL PROCEDURES W/O CC/MCC & 10001 & SOUTHEAST ALABAMA MEDICAL CENTER & 1108 ROSS CLARK CIRCLE     & DOTHAN     & AL & 36301 & AL - Dothan     & 91 & 32963.07 & 5777.24 & 4763.73\\\\\n\t 039 - EXTRACRANIAL PROCEDURES W/O CC/MCC & 10005 & MARSHALL MEDICAL CENTER SOUTH    & 2505 U S HIGHWAY 431 NORTH & BOAZ       & AL & 35957 & AL - Birmingham & 14 & 15131.85 & 5787.57 & 4976.71\\\\\n\t 039 - EXTRACRANIAL PROCEDURES W/O CC/MCC & 10006 & ELIZA COFFEE MEMORIAL HOSPITAL   & 205 MARENGO STREET         & FLORENCE   & AL & 35631 & AL - Birmingham & 24 & 37560.37 & 5434.95 & 4453.79\\\\\n\t 039 - EXTRACRANIAL PROCEDURES W/O CC/MCC & 10011 & ST VINCENT'S EAST                & 50 MEDICAL PARK EAST DRIVE & BIRMINGHAM & AL & 35235 & AL - Birmingham & 25 & 13998.28 & 5417.56 & 4129.16\\\\\n\t 039 - EXTRACRANIAL PROCEDURES W/O CC/MCC & 10016 & SHELBY BAPTIST MEDICAL CENTER    & 1000 FIRST STREET NORTH    & ALABASTER  & AL & 35007 & AL - Birmingham & 18 & 31633.27 & 5658.33 & 4851.44\\\\\n\\end{tabular}\n",
            "text/plain": [
              "  DRG                                      ProviderID\n",
              "1 039 - EXTRACRANIAL PROCEDURES W/O CC/MCC 10001     \n",
              "2 039 - EXTRACRANIAL PROCEDURES W/O CC/MCC 10005     \n",
              "3 039 - EXTRACRANIAL PROCEDURES W/O CC/MCC 10006     \n",
              "4 039 - EXTRACRANIAL PROCEDURES W/O CC/MCC 10011     \n",
              "5 039 - EXTRACRANIAL PROCEDURES W/O CC/MCC 10016     \n",
              "  Name                             Address                    City       State\n",
              "1 SOUTHEAST ALABAMA MEDICAL CENTER 1108 ROSS CLARK CIRCLE     DOTHAN     AL   \n",
              "2 MARSHALL MEDICAL CENTER SOUTH    2505 U S HIGHWAY 431 NORTH BOAZ       AL   \n",
              "3 ELIZA COFFEE MEMORIAL HOSPITAL   205 MARENGO STREET         FLORENCE   AL   \n",
              "4 ST VINCENT'S EAST                50 MEDICAL PARK EAST DRIVE BIRMINGHAM AL   \n",
              "5 SHELBY BAPTIST MEDICAL CENTER    1000 FIRST STREET NORTH    ALABASTER  AL   \n",
              "  ZIP   Region          Discharges AverageCharges AverageTotalPayments\n",
              "1 36301 AL - Dothan     91         32963.07       5777.24             \n",
              "2 35957 AL - Birmingham 14         15131.85       5787.57             \n",
              "3 35631 AL - Birmingham 24         37560.37       5434.95             \n",
              "4 35235 AL - Birmingham 25         13998.28       5417.56             \n",
              "5 35007 AL - Birmingham 18         31633.27       5658.33             \n",
              "  AverageMedicarePayments\n",
              "1 4763.73                \n",
              "2 4976.71                \n",
              "3 4453.79                \n",
              "4 4129.16                \n",
              "5 4851.44                "
            ]
          },
          "metadata": {}
        }
      ]
    },
    {
      "cell_type": "code",
      "source": [
        "options(repr.plot.width = 20, repr.plot.height = 6)\n",
        "ggplot(data=df)+geom_histogram(mapping = aes(x=AverageCharges),bins=30)"
      ],
      "metadata": {
        "colab": {
          "base_uri": "https://localhost:8080/",
          "height": 377
        },
        "id": "L7FpStu6mkVi",
        "outputId": "243f567e-7299-466c-aa5c-b1b267cc0b6a"
      },
      "execution_count": 36,
      "outputs": [
        {
          "output_type": "display_data",
          "data": {
            "text/plain": [
              "plot without title"
            ],
            "image/png": "[encoded data removed]"
          },
          "metadata": {
            "image/png": {
              "width": 1200,
              "height": 360
            }
          }
        }
      ]
    },
    {
      "cell_type": "code",
      "source": [
        "ggplot(data=df) +geom_histogram(mapping=aes(x=AverageCharges)) +coord_cartesian(ylim=c(0,25))"
      ],
      "metadata": {
        "colab": {
          "base_uri": "https://localhost:8080/",
          "height": 394
        },
        "id": "tEnG2YokmkSE",
        "outputId": "76544c51-1a1e-4f2d-9379-168e0f0c46f9"
      },
      "execution_count": 37,
      "outputs": [
        {
          "output_type": "stream",
          "name": "stderr",
          "text": [
            "\u001b[1m\u001b[22m`stat_bin()` using `bins = 30`. Pick better value with `binwidth`.\n"
          ]
        },
        {
          "output_type": "display_data",
          "data": {
            "text/plain": [
              "plot without title"
            ],
            "image/png": "[encoded data removed]"
          },
          "metadata": {
            "image/png": {
              "width": 1200,
              "height": 360
            }
          }
        }
      ]
    },
    {
      "cell_type": "code",
      "source": [
        "ggplot(data=df)+geom_boxplot(mapping = aes(State,AverageCharges))"
      ],
      "metadata": {
        "colab": {
          "base_uri": "https://localhost:8080/",
          "height": 377
        },
        "id": "v_HZ1n-HmkPH",
        "outputId": "8aa98dc1-8b9b-441b-b714-4055e2c596b3"
      },
      "execution_count": 38,
      "outputs": [
        {
          "output_type": "display_data",
          "data": {
            "text/plain": [
              "plot without title"
            ],
            "image/png": "[encoded data removed]"
          },
          "metadata": {
            "image/png": {
              "width": 1200,
              "height": 360
            }
          }
        }
      ]
    },
    {
      "cell_type": "code",
      "source": [
        "# Plenty to investigate here, but let's dig in to those over $500,000\n",
        "highCharges <- filter(df, AverageCharges>500000)"
      ],
      "metadata": {
        "id": "jPmtLaS4mkMU"
      },
      "execution_count": 40,
      "outputs": []
    },
    {
      "cell_type": "code",
      "source": [
        "unique(highCharges$DRG)"
      ],
      "metadata": {
        "colab": {
          "base_uri": "https://localhost:8080/",
          "height": 52
        },
        "id": "Y9VOqOY7mkJT",
        "outputId": "d0c9fbe2-a5c3-4dbc-e9f3-cb9572b74851"
      },
      "execution_count": 41,
      "outputs": [
        {
          "output_type": "display_data",
          "data": {
            "text/html": [
              "<style>\n",
              ".list-inline {list-style: none; margin:0; padding: 0}\n",
              ".list-inline>li {display: inline-block}\n",
              ".list-inline>li:not(:last-child)::after {content: \"\\00b7\"; padding: 0 .5ex}\n",
              "</style>\n",
              "<ol class=list-inline><li>'207 - RESPIRATORY SYSTEM DIAGNOSIS W VENTILATOR SUPPORT 96+ HOURS'</li><li>'329 - MAJOR SMALL &amp; LARGE BOWEL PROCEDURES W MCC'</li><li>'853 - INFECTIOUS &amp; PARASITIC DISEASES W O.R. PROCEDURE W MCC'</li><li>'870 - SEPTICEMIA OR SEVERE SEPSIS W MV 96+ HOURS'</li></ol>\n"
            ],
            "text/markdown": "1. '207 - RESPIRATORY SYSTEM DIAGNOSIS W VENTILATOR SUPPORT 96+ HOURS'\n2. '329 - MAJOR SMALL &amp; LARGE BOWEL PROCEDURES W MCC'\n3. '853 - INFECTIOUS &amp; PARASITIC DISEASES W O.R. PROCEDURE W MCC'\n4. '870 - SEPTICEMIA OR SEVERE SEPSIS W MV 96+ HOURS'\n\n\n",
            "text/latex": "\\begin{enumerate*}\n\\item '207 - RESPIRATORY SYSTEM DIAGNOSIS W VENTILATOR SUPPORT 96+ HOURS'\n\\item '329 - MAJOR SMALL \\& LARGE BOWEL PROCEDURES W MCC'\n\\item '853 - INFECTIOUS \\& PARASITIC DISEASES W O.R. PROCEDURE W MCC'\n\\item '870 - SEPTICEMIA OR SEVERE SEPSIS W MV 96+ HOURS'\n\\end{enumerate*}\n",
            "text/plain": [
              "[1] \"207 - RESPIRATORY SYSTEM DIAGNOSIS W VENTILATOR SUPPORT 96+ HOURS\"\n",
              "[2] \"329 - MAJOR SMALL & LARGE BOWEL PROCEDURES W MCC\"                 \n",
              "[3] \"853 - INFECTIOUS & PARASITIC DISEASES W O.R. PROCEDURE W MCC\"     \n",
              "[4] \"870 - SEPTICEMIA OR SEVERE SEPSIS W MV 96+ HOURS\"                 "
            ]
          },
          "metadata": {}
        }
      ]
    },
    {
      "cell_type": "code",
      "source": [
        "ggplot(data=highCharges)+geom_point(mapping=aes(DRG,AverageCharges))+theme(axis.text.x=element_text(angle=90,vjust = 1,\n",
        "                hjust=1))"
      ],
      "metadata": {
        "colab": {
          "base_uri": "https://localhost:8080/",
          "height": 377
        },
        "id": "veGzvgB-mkGV",
        "outputId": "4358585f-d921-4ed3-8b0c-b19c3c01a598"
      },
      "execution_count": 42,
      "outputs": [
        {
          "output_type": "display_data",
          "data": {
            "text/plain": [
              "plot without title"
            ],
            "image/png": "[encoded data removed]"
          },
          "metadata": {
            "image/png": {
              "width": 1200,
              "height": 360
            }
          }
        }
      ]
    },
    {
      "cell_type": "markdown",
      "source": [
        "# Missing Values"
      ],
      "metadata": {
        "id": "5iToQGcGqjd9"
      }
    },
    {
      "cell_type": "code",
      "source": [
        "names <- c(\"ID\", \"DBAName\", \"AKAName\", \"License\", \"FacilityType\", \"Risk\", \"Address\",\"City\", \"State\", \"ZIP\", \"InspectionDate\", \"InspectionType\", \"Results\",\n",
        "           \"Violations\", \"Latitude\",\"Longitude\",\"Location\")"
      ],
      "metadata": {
        "id": "RRaV8XB6mkDO"
      },
      "execution_count": 43,
      "outputs": []
    },
    {
      "cell_type": "code",
      "source": [
        "df <- read_csv('http://594442.youcanlearnit.net/inspections.csv',col_names=names, skip=1)"
      ],
      "metadata": {
        "colab": {
          "base_uri": "https://localhost:8080/"
        },
        "id": "ESO_dnQWqjGA",
        "outputId": "2a1f4e27-9a8a-4ec9-d1ad-225875b7f638"
      },
      "execution_count": 44,
      "outputs": [
        {
          "output_type": "stream",
          "name": "stderr",
          "text": [
            "\u001b[1mRows: \u001b[22m\u001b[34m145606\u001b[39m \u001b[1mColumns: \u001b[22m\u001b[34m17\u001b[39m\n",
            "\u001b[36m──\u001b[39m \u001b[1mColumn specification\u001b[22m \u001b[36m────────────────────────────────────────────────────────\u001b[39m\n",
            "\u001b[1mDelimiter:\u001b[22m \",\"\n",
            "\u001b[31mchr\u001b[39m (12): DBAName, AKAName, FacilityType, Risk, Address, City, State, Inspec...\n",
            "\u001b[32mdbl\u001b[39m  (5): ID, License, ZIP, Latitude, Longitude\n",
            "\n",
            "\u001b[36mℹ\u001b[39m Use `spec()` to retrieve the full column specification for this data.\n",
            "\u001b[36mℹ\u001b[39m Specify the column types or set `show_col_types = FALSE` to quiet this message.\n"
          ]
        }
      ]
    },
    {
      "cell_type": "code",
      "source": [
        "head(df,5)"
      ],
      "metadata": {
        "colab": {
          "base_uri": "https://localhost:8080/",
          "height": 1000
        },
        "id": "fE-RW7RHqjCb",
        "outputId": "8f837237-64f4-408e-c12b-f71eb5a9ce25"
      },
      "execution_count": 45,
      "outputs": [
        {
          "output_type": "display_data",
          "data": {
            "text/html": [
              "<table class=\"dataframe\">\n",
              "<caption>A tibble: 5 × 17</caption>\n",
              "<thead>\n",
              "\t<tr><th scope=col>ID</th><th scope=col>DBAName</th><th scope=col>AKAName</th><th scope=col>License</th><th scope=col>FacilityType</th><th scope=col>Risk</th><th scope=col>Address</th><th scope=col>City</th><th scope=col>State</th><th scope=col>ZIP</th><th scope=col>InspectionDate</th><th scope=col>InspectionType</th><th scope=col>Results</th><th scope=col>Violations</th><th scope=col>Latitude</th><th scope=col>Longitude</th><th scope=col>Location</th></tr>\n",
              "\t<tr><th scope=col>&lt;dbl&gt;</th><th scope=col>&lt;chr&gt;</th><th scope=col>&lt;chr&gt;</th><th scope=col>&lt;dbl&gt;</th><th scope=col>&lt;chr&gt;</th><th scope=col>&lt;chr&gt;</th><th scope=col>&lt;chr&gt;</th><th scope=col>&lt;chr&gt;</th><th scope=col>&lt;chr&gt;</th><th scope=col>&lt;dbl&gt;</th><th scope=col>&lt;chr&gt;</th><th scope=col>&lt;chr&gt;</th><th scope=col>&lt;chr&gt;</th><th scope=col>&lt;chr&gt;</th><th scope=col>&lt;dbl&gt;</th><th scope=col>&lt;dbl&gt;</th><th scope=col>&lt;chr&gt;</th></tr>\n",
              "</thead>\n",
              "<tbody>\n",
              "\t<tr><td>1995829</td><td>SUBWAY                   </td><td>SUBWAY               </td><td>1679112</td><td>Restaurant</td><td>Risk 1 (High)</td><td>8711 S ASHLAND AVE</td><td>CHICAGO</td><td>IL</td><td>60620</td><td>03/17/2017</td><td>Canvass Re-Inspection</td><td>Pass</td><td>19. OUTSIDE GARBAGE WASTE GREASE AND STORAGE AREA; CLEAN, RODENT PROOF, ALL CONTAINERS COVERED - Comments: OUTSIDE GARBAGE AREA BETTER MAINTAINED. | 21. * CERTIFIED FOOD MANAGER ON SITE WHEN POTENTIALLY HAZARDOUS FOODS ARE  PREPARED AND SERVED - Comments: CERTIFIED MANAGER ON PREMISES. | 45. FOOD HANDLER REQUIREMENTS MET - Comments: ALL EMPLOYEES THAT FALL UNDER THE CATEGORY OF FOOD HANDLER THAT ARE NOT CERTIFIED FOOD SERVICE MANAGERS MUST MEET THE IDPH FOOD HANDLER REQUIREMENTS. | 41. PREMISES MAINTAINED FREE OF LITTER, UNNECESSARY ARTICLES, CLEANING  EQUIPMENT PROPERLY STORED - Comments: ABATED. | 35. WALLS, CEILINGS, ATTACHED EQUIPMENT CONSTRUCTED PER CODE: GOOD REPAIR, SURFACES CLEAN AND DUST-LESS CLEANING METHODS - Comments: CLEAN STAINS AND FOOD SPLATTERS FROM WALLS THROUGGHOUT WHERE PRESENT.\n",
              " | 33. FOOD AND NON-FOOD CONTACT EQUIPMENT UTENSILS CLEAN, FREE OF ABRASIVE DETERGENTS - Comments: : CLEAN THE CABINET INTERIOR UNDERNEATH THE SELF-SERVICE POP DISPENSING STATION(POP RESIDUE ON THE SHELF). | 32. FOOD AND NON-FOOD CONTACT SURFACES PROPERLY DESIGNED, CONSTRUCTED AND MAINTAINED - Comments:  CLEAN FOOD DEBRIS FROM FLOOR INSIDE WALK-IN COOLER. PAINT EXTERIOR OF DOOR LEADING INTO THE REAR DISH WASHING AREA.                                                                                                                                                                                                                                                      </td><td>41.73541</td><td>-87.66291</td><td>(41.735408702583165, -87.66290968424336)</td></tr>\n",
              "\t<tr><td>1995817</td><td>VENEZUELAN BOWL GRILL LLC</td><td>VENEZUELAN BOWL GRILL</td><td>2424110</td><td>Restaurant</td><td>Risk 1 (High)</td><td>2436 N LINCOLN AVE</td><td>CHICAGO</td><td>IL</td><td>60614</td><td>03/17/2017</td><td>Canvass Re-Inspection</td><td>Pass</td><td>14. PREVIOUS SERIOUS VIOLATION CORRECTED, 7-42-090 - Comments: ALL VIOLATIONS HAVE BEEN CORRECTED. FLOORS, WALLS, KITCHEN HOOD AND FILTERS, BACK FLOW HAS BEEN INSTALLED ON ICE MACHINE, AND ITEMS HAVE BEEN REMOVED OR ELEVATED OFF FLOORS IN BASEMENT. | 22. DISH MACHINES: PROVIDED WITH ACCURATE THERMOMETERS, CHEMICAL TEST KITS AND SUITABLE GAUGE COCK - Comments: QUATERNARY SANITIZING TEST STRIPS HAVE BEEN PROVIDED. | 32. FOOD AND NON-FOOD CONTACT SURFACES PROPERLY DESIGNED, CONSTRUCTED AND MAINTAINED - Comments: VIOLATION CORRECTED. | 33. FOOD AND NON-FOOD CONTACT EQUIPMENT UTENSILS CLEAN, FREE OF ABRASIVE DETERGENTS - Comments: VIOLATION CORRECTED. | 34. FLOORS: CONSTRUCTED PER CODE, CLEANED, GOOD REPAIR, COVING INSTALLED, DUST-LESS CLEANING METHODS USED - Comments: VIOLATION CORRECTED. | 36. LIGHTING: REQUIRED MINIMUM FOOT-CANDLES OF LIGHT PROVIDED, FIXTURES SHIELDED - Comments: VIOLATION CORRECTED. | 38. VENTILATION: ROOMS AND EQUIPMENT VENTED AS REQUIRED: PLUMBING: INSTALLED AND MAINTAINED - Comments: VIOLATION CORRECTED. | 45. FOOD HANDLER REQUIREMENTS MET - Comments: VIOLATION CORRECTED. | 35. WALLS, CEILINGS, ATTACHED EQUIPMENT CONSTRUCTED PER CODE: GOOD REPAIR, SURFACES CLEAN AND DUST-LESS CLEANING METHODS - Comments: WASHROOM WALLS SEALED, HOWEVER, WALLS IN SOUTH-EAST WASHROOM (CLOSEST TO KITCHEN) STILL HAVE SOME ROUGH AREAS PRESENT. SURFACE MUST BE COMPLETELY SMOOTH AND EASILY CLEANABLE, AND MAINTAIN.                                               </td><td>41.92619</td><td>-87.65002</td><td>(41.926190902860434, -87.65001746088006)</td></tr>\n",
              "\t<tr><td>1995822</td><td>SEVEN TEN                </td><td>SEVEN TEN            </td><td>1172093</td><td>Restaurant</td><td>Risk 1 (High)</td><td>1055 E 55TH ST    </td><td>CHICAGO</td><td>IL</td><td>60615</td><td>03/17/2017</td><td>Canvass Re-Inspection</td><td>Pass</td><td>18. NO EVIDENCE OF RODENT OR INSECT OUTER OPENINGS PROTECTED/RODENT PROOFED, A WRITTEN LOG SHALL BE MAINTAINED AVAILABLE TO THE INSPECTORS - Comments: PREMISES SERVICED BY TOM VEL PEST CONTROL ON 3-16-17 AND MICE DROPPINGS REMOVED IN STORAGE AREAS. | 30. FOOD IN ORIGINAL CONTAINER, PROPERLY LABELED: CUSTOMER ADVISORY POSTED AS NEEDED - Comments: BULK CONTAINERS LABELED IN PREP AND STORAGE AREAS. | 33. FOOD AND NON-FOOD CONTACT EQUIPMENT UTENSILS CLEAN, FREE OF ABRASIVE DETERGENTS - Comments: SHELVES CLEANED IN STORAGE AND BAR AREAS. | 34. FLOORS: CONSTRUCTED PER CODE, CLEANED, GOOD REPAIR, COVING INSTALLED, DUST-LESS CLEANING METHODS USED - Comments: GROUT ALL LOOSE FLOOR TILES IN BAR AREA. | 35. WALLS, CEILINGS, ATTACHED EQUIPMENT CONSTRUCTED PER CODE: GOOD REPAIR, SURFACES CLEAN AND DUST-LESS CLEANING METHODS - Comments: REPLACE MISSING BASEBOARDS ALONG WALLS UNDER DISH MACHINE. REPLACE DAMAGED BASEBOARDS AND SEAL OPENINGS ALONG BASEBOARDS NEAR UTILITY SINK. REPLACE DAMAGED WALL TILES ALONG LOWER SOUTH WALL IN MEN WASHROOM. SEAL OPENING UNDER WASHBOWLS IN WOMEN WASHROOM. \n",
              " | 41. PREMISES MAINTAINED FREE OF LITTER, UNNECESSARY ARTICLES, CLEANING  EQUIPMENT PROPERLY STORED - Comments: ELEVATE ALL STOCK OFF FLOOR IN LIQUOR STORAGE AREA. STORE STOCK OFF FLOOR AND AWAY FROM WALLS FOR EASY CLEANING AND PEST CONTROL. ORGANIZE WALK-IN COOLER. \n",
              " | 43. FOOD (ICE) DISPENSING UTENSILS, WASH CLOTHS PROPERLY STORED - Comments: ICE SCOOP PROPERLY STORED IN ICE BIN.</td><td>41.79492</td><td>-87.59985</td><td>(41.79492106897254, -87.59985203106729) </td></tr>\n",
              "\t<tr><td>1995814</td><td>CHISME EXPRESS INC.      </td><td>CHISME EXPRESS INC.  </td><td>1334960</td><td>Restaurant</td><td>Risk 1 (High)</td><td>5955 S PULASKI RD </td><td>CHICAGO</td><td>IL</td><td>60629</td><td>03/17/2017</td><td>Canvass              </td><td>Pass</td><td>32. FOOD AND NON-FOOD CONTACT SURFACES PROPERLY DESIGNED, CONSTRUCTED AND MAINTAINED - Comments: OBSERVED RUSTY STORAGE SHELVES OIN THE WALK-IN COOLER, INSTRUCTED TO REMOVE RUST. | 33. FOOD AND NON-FOOD CONTACT EQUIPMENT UTENSILS CLEAN, FREE OF ABRASIVE DETERGENTS - Comments: OBSERVED THE FRONT CUTTING BOARD NOT CLEAN, INSTRUCTED TO CLEAN AND SANITIZE. | 34. FLOORS: CONSTRUCTED PER CODE, CLEANED, GOOD REPAIR, COVING INSTALLED, DUST-LESS CLEANING METHODS USED - Comments: OBSERVED THE FLOOR IN THE WALK IN COOLER/UNDER STORAGE SHELVES NOT CLEAN, INSTRUCTED TO CLEAN. | 35. WALLS, CEILINGS, ATTACHED EQUIPMENT CONSTRUCTED PER CODE: GOOD REPAIR, SURFACES CLEAN AND DUST-LESS CLEANING METHODS - Comments: OBSERVED THE WALLS INSIDE THE WALK-IN COOLER, AND OUTSIDE THE WALK-IN COOLER NOT CLEAN, INSTRUCTED TO CLEAN.                                                                                                                                                                                                                                                                                                                                                                                                                                                                                                                                                                                                                                                                                         </td><td>41.78429</td><td>-87.72277</td><td>(41.784288983210146, -87.72277078477818)</td></tr>\n",
              "\t<tr><td>1995811</td><td>THE NILE RESTAURANT      </td><td>THE NILE RESTAURANT  </td><td>2334190</td><td>Restaurant</td><td>Risk 1 (High)</td><td>1162 E 55TH ST    </td><td>CHICAGO</td><td>IL</td><td>60615</td><td>03/17/2017</td><td>Canvass Re-Inspection</td><td>Pass</td><td>18. NO EVIDENCE OF RODENT OR INSECT OUTER OPENINGS PROTECTED/RODENT PROOFED, A WRITTEN LOG SHALL BE MAINTAINED AVAILABLE TO THE INSPECTORS - Comments: DOORS REPAIRED. | 32. FOOD AND NON-FOOD CONTACT SURFACES PROPERLY DESIGNED, CONSTRUCTED AND MAINTAINED - Comments:  REPLACE DAMAGED GASKET ON REACH-IN COOLER IN REAR PREP AREA. \n",
              " | 33. FOOD AND NON-FOOD CONTACT EQUIPMENT UTENSILS CLEAN, FREE OF ABRASIVE DETERGENTS - Comments: CLEAN INTERIOR AND EXTERIOR OF COOLERS, FREEZERS, COOKING EQUIPMENT, PREP TABLES. \n",
              " | 41. PREMISES MAINTAINED FREE OF LITTER, UNNECESSARY ARTICLES, CLEANING  EQUIPMENT PROPERLY STORED - Comments: ELEVATE ALL STOCK OFF FLOOR IN STORAGE AREAS. ORGANIZE REAR STORAGE AREA AND REACH-IN COOLERS. \n",
              " | 34. FLOORS: CONSTRUCTED PER CODE, CLEANED, GOOD REPAIR, COVING INSTALLED, DUST-LESS CLEANING METHODS USED - Comments: CLEAN AND MAINTAIN FLOOR DRAIN UNDER 3-COMPARTMENT SINK.                                                                                                                                                                                                                                                                                                                                                                                                                                                                                                                                                                                                  </td><td>41.79517</td><td>-87.59710</td><td>(41.79517060450029, -87.59710020185207) </td></tr>\n",
              "</tbody>\n",
              "</table>\n"
            ],
            "text/markdown": "\nA tibble: 5 × 17\n\n| ID &lt;dbl&gt; | DBAName &lt;chr&gt; | AKAName &lt;chr&gt; | License &lt;dbl&gt; | FacilityType &lt;chr&gt; | Risk &lt;chr&gt; | Address &lt;chr&gt; | City &lt;chr&gt; | State &lt;chr&gt; | ZIP &lt;dbl&gt; | InspectionDate &lt;chr&gt; | InspectionType &lt;chr&gt; | Results &lt;chr&gt; | Violations &lt;chr&gt; | Latitude &lt;dbl&gt; | Longitude &lt;dbl&gt; | Location &lt;chr&gt; |\n|---|---|---|---|---|---|---|---|---|---|---|---|---|---|---|---|---|\n| 1995829 | SUBWAY                    | SUBWAY                | 1679112 | Restaurant | Risk 1 (High) | 8711 S ASHLAND AVE | CHICAGO | IL | 60620 | 03/17/2017 | Canvass Re-Inspection | Pass | 19. OUTSIDE GARBAGE WASTE GREASE AND STORAGE AREA; CLEAN, RODENT PROOF, ALL CONTAINERS COVERED - Comments: OUTSIDE GARBAGE AREA BETTER MAINTAINED. | 21. * CERTIFIED FOOD MANAGER ON SITE WHEN POTENTIALLY HAZARDOUS FOODS ARE  PREPARED AND SERVED - Comments: CERTIFIED MANAGER ON PREMISES. | 45. FOOD HANDLER REQUIREMENTS MET - Comments: ALL EMPLOYEES THAT FALL UNDER THE CATEGORY OF FOOD HANDLER THAT ARE NOT CERTIFIED FOOD SERVICE MANAGERS MUST MEET THE IDPH FOOD HANDLER REQUIREMENTS. | 41. PREMISES MAINTAINED FREE OF LITTER, UNNECESSARY ARTICLES, CLEANING  EQUIPMENT PROPERLY STORED - Comments: ABATED. | 35. WALLS, CEILINGS, ATTACHED EQUIPMENT CONSTRUCTED PER CODE: GOOD REPAIR, SURFACES CLEAN AND DUST-LESS CLEANING METHODS - Comments: CLEAN STAINS AND FOOD SPLATTERS FROM WALLS THROUGGHOUT WHERE PRESENT.\n | 33. FOOD AND NON-FOOD CONTACT EQUIPMENT UTENSILS CLEAN, FREE OF ABRASIVE DETERGENTS - Comments: : CLEAN THE CABINET INTERIOR UNDERNEATH THE SELF-SERVICE POP DISPENSING STATION(POP RESIDUE ON THE SHELF). | 32. FOOD AND NON-FOOD CONTACT SURFACES PROPERLY DESIGNED, CONSTRUCTED AND MAINTAINED - Comments:  CLEAN FOOD DEBRIS FROM FLOOR INSIDE WALK-IN COOLER. PAINT EXTERIOR OF DOOR LEADING INTO THE REAR DISH WASHING AREA.                                                                                                                                                                                                                                                       | 41.73541 | -87.66291 | (41.735408702583165, -87.66290968424336) |\n| 1995817 | VENEZUELAN BOWL GRILL LLC | VENEZUELAN BOWL GRILL | 2424110 | Restaurant | Risk 1 (High) | 2436 N LINCOLN AVE | CHICAGO | IL | 60614 | 03/17/2017 | Canvass Re-Inspection | Pass | 14. PREVIOUS SERIOUS VIOLATION CORRECTED, 7-42-090 - Comments: ALL VIOLATIONS HAVE BEEN CORRECTED. FLOORS, WALLS, KITCHEN HOOD AND FILTERS, BACK FLOW HAS BEEN INSTALLED ON ICE MACHINE, AND ITEMS HAVE BEEN REMOVED OR ELEVATED OFF FLOORS IN BASEMENT. | 22. DISH MACHINES: PROVIDED WITH ACCURATE THERMOMETERS, CHEMICAL TEST KITS AND SUITABLE GAUGE COCK - Comments: QUATERNARY SANITIZING TEST STRIPS HAVE BEEN PROVIDED. | 32. FOOD AND NON-FOOD CONTACT SURFACES PROPERLY DESIGNED, CONSTRUCTED AND MAINTAINED - Comments: VIOLATION CORRECTED. | 33. FOOD AND NON-FOOD CONTACT EQUIPMENT UTENSILS CLEAN, FREE OF ABRASIVE DETERGENTS - Comments: VIOLATION CORRECTED. | 34. FLOORS: CONSTRUCTED PER CODE, CLEANED, GOOD REPAIR, COVING INSTALLED, DUST-LESS CLEANING METHODS USED - Comments: VIOLATION CORRECTED. | 36. LIGHTING: REQUIRED MINIMUM FOOT-CANDLES OF LIGHT PROVIDED, FIXTURES SHIELDED - Comments: VIOLATION CORRECTED. | 38. VENTILATION: ROOMS AND EQUIPMENT VENTED AS REQUIRED: PLUMBING: INSTALLED AND MAINTAINED - Comments: VIOLATION CORRECTED. | 45. FOOD HANDLER REQUIREMENTS MET - Comments: VIOLATION CORRECTED. | 35. WALLS, CEILINGS, ATTACHED EQUIPMENT CONSTRUCTED PER CODE: GOOD REPAIR, SURFACES CLEAN AND DUST-LESS CLEANING METHODS - Comments: WASHROOM WALLS SEALED, HOWEVER, WALLS IN SOUTH-EAST WASHROOM (CLOSEST TO KITCHEN) STILL HAVE SOME ROUGH AREAS PRESENT. SURFACE MUST BE COMPLETELY SMOOTH AND EASILY CLEANABLE, AND MAINTAIN.                                                | 41.92619 | -87.65002 | (41.926190902860434, -87.65001746088006) |\n| 1995822 | SEVEN TEN                 | SEVEN TEN             | 1172093 | Restaurant | Risk 1 (High) | 1055 E 55TH ST     | CHICAGO | IL | 60615 | 03/17/2017 | Canvass Re-Inspection | Pass | 18. NO EVIDENCE OF RODENT OR INSECT OUTER OPENINGS PROTECTED/RODENT PROOFED, A WRITTEN LOG SHALL BE MAINTAINED AVAILABLE TO THE INSPECTORS - Comments: PREMISES SERVICED BY TOM VEL PEST CONTROL ON 3-16-17 AND MICE DROPPINGS REMOVED IN STORAGE AREAS. | 30. FOOD IN ORIGINAL CONTAINER, PROPERLY LABELED: CUSTOMER ADVISORY POSTED AS NEEDED - Comments: BULK CONTAINERS LABELED IN PREP AND STORAGE AREAS. | 33. FOOD AND NON-FOOD CONTACT EQUIPMENT UTENSILS CLEAN, FREE OF ABRASIVE DETERGENTS - Comments: SHELVES CLEANED IN STORAGE AND BAR AREAS. | 34. FLOORS: CONSTRUCTED PER CODE, CLEANED, GOOD REPAIR, COVING INSTALLED, DUST-LESS CLEANING METHODS USED - Comments: GROUT ALL LOOSE FLOOR TILES IN BAR AREA. | 35. WALLS, CEILINGS, ATTACHED EQUIPMENT CONSTRUCTED PER CODE: GOOD REPAIR, SURFACES CLEAN AND DUST-LESS CLEANING METHODS - Comments: REPLACE MISSING BASEBOARDS ALONG WALLS UNDER DISH MACHINE. REPLACE DAMAGED BASEBOARDS AND SEAL OPENINGS ALONG BASEBOARDS NEAR UTILITY SINK. REPLACE DAMAGED WALL TILES ALONG LOWER SOUTH WALL IN MEN WASHROOM. SEAL OPENING UNDER WASHBOWLS IN WOMEN WASHROOM. \n | 41. PREMISES MAINTAINED FREE OF LITTER, UNNECESSARY ARTICLES, CLEANING  EQUIPMENT PROPERLY STORED - Comments: ELEVATE ALL STOCK OFF FLOOR IN LIQUOR STORAGE AREA. STORE STOCK OFF FLOOR AND AWAY FROM WALLS FOR EASY CLEANING AND PEST CONTROL. ORGANIZE WALK-IN COOLER. \n | 43. FOOD (ICE) DISPENSING UTENSILS, WASH CLOTHS PROPERLY STORED - Comments: ICE SCOOP PROPERLY STORED IN ICE BIN. | 41.79492 | -87.59985 | (41.79492106897254, -87.59985203106729)  |\n| 1995814 | CHISME EXPRESS INC.       | CHISME EXPRESS INC.   | 1334960 | Restaurant | Risk 1 (High) | 5955 S PULASKI RD  | CHICAGO | IL | 60629 | 03/17/2017 | Canvass               | Pass | 32. FOOD AND NON-FOOD CONTACT SURFACES PROPERLY DESIGNED, CONSTRUCTED AND MAINTAINED - Comments: OBSERVED RUSTY STORAGE SHELVES OIN THE WALK-IN COOLER, INSTRUCTED TO REMOVE RUST. | 33. FOOD AND NON-FOOD CONTACT EQUIPMENT UTENSILS CLEAN, FREE OF ABRASIVE DETERGENTS - Comments: OBSERVED THE FRONT CUTTING BOARD NOT CLEAN, INSTRUCTED TO CLEAN AND SANITIZE. | 34. FLOORS: CONSTRUCTED PER CODE, CLEANED, GOOD REPAIR, COVING INSTALLED, DUST-LESS CLEANING METHODS USED - Comments: OBSERVED THE FLOOR IN THE WALK IN COOLER/UNDER STORAGE SHELVES NOT CLEAN, INSTRUCTED TO CLEAN. | 35. WALLS, CEILINGS, ATTACHED EQUIPMENT CONSTRUCTED PER CODE: GOOD REPAIR, SURFACES CLEAN AND DUST-LESS CLEANING METHODS - Comments: OBSERVED THE WALLS INSIDE THE WALK-IN COOLER, AND OUTSIDE THE WALK-IN COOLER NOT CLEAN, INSTRUCTED TO CLEAN.                                                                                                                                                                                                                                                                                                                                                                                                                                                                                                                                                                                                                                                                                          | 41.78429 | -87.72277 | (41.784288983210146, -87.72277078477818) |\n| 1995811 | THE NILE RESTAURANT       | THE NILE RESTAURANT   | 2334190 | Restaurant | Risk 1 (High) | 1162 E 55TH ST     | CHICAGO | IL | 60615 | 03/17/2017 | Canvass Re-Inspection | Pass | 18. NO EVIDENCE OF RODENT OR INSECT OUTER OPENINGS PROTECTED/RODENT PROOFED, A WRITTEN LOG SHALL BE MAINTAINED AVAILABLE TO THE INSPECTORS - Comments: DOORS REPAIRED. | 32. FOOD AND NON-FOOD CONTACT SURFACES PROPERLY DESIGNED, CONSTRUCTED AND MAINTAINED - Comments:  REPLACE DAMAGED GASKET ON REACH-IN COOLER IN REAR PREP AREA. \n | 33. FOOD AND NON-FOOD CONTACT EQUIPMENT UTENSILS CLEAN, FREE OF ABRASIVE DETERGENTS - Comments: CLEAN INTERIOR AND EXTERIOR OF COOLERS, FREEZERS, COOKING EQUIPMENT, PREP TABLES. \n | 41. PREMISES MAINTAINED FREE OF LITTER, UNNECESSARY ARTICLES, CLEANING  EQUIPMENT PROPERLY STORED - Comments: ELEVATE ALL STOCK OFF FLOOR IN STORAGE AREAS. ORGANIZE REAR STORAGE AREA AND REACH-IN COOLERS. \n | 34. FLOORS: CONSTRUCTED PER CODE, CLEANED, GOOD REPAIR, COVING INSTALLED, DUST-LESS CLEANING METHODS USED - Comments: CLEAN AND MAINTAIN FLOOR DRAIN UNDER 3-COMPARTMENT SINK.                                                                                                                                                                                                                                                                                                                                                                                                                                                                                                                                                                                                   | 41.79517 | -87.59710 | (41.79517060450029, -87.59710020185207)  |\n\n",
            "text/latex": "A tibble: 5 × 17\n\\begin{tabular}{lllllllllllllllll}\n ID & DBAName & AKAName & License & FacilityType & Risk & Address & City & State & ZIP & InspectionDate & InspectionType & Results & Violations & Latitude & Longitude & Location\\\\\n <dbl> & <chr> & <chr> & <dbl> & <chr> & <chr> & <chr> & <chr> & <chr> & <dbl> & <chr> & <chr> & <chr> & <chr> & <dbl> & <dbl> & <chr>\\\\\n\\hline\n\t 1995829 & SUBWAY                    & SUBWAY                & 1679112 & Restaurant & Risk 1 (High) & 8711 S ASHLAND AVE & CHICAGO & IL & 60620 & 03/17/2017 & Canvass Re-Inspection & Pass & 19. OUTSIDE GARBAGE WASTE GREASE AND STORAGE AREA; CLEAN, RODENT PROOF, ALL CONTAINERS COVERED - Comments: OUTSIDE GARBAGE AREA BETTER MAINTAINED. \\textbar{} 21. * CERTIFIED FOOD MANAGER ON SITE WHEN POTENTIALLY HAZARDOUS FOODS ARE  PREPARED AND SERVED - Comments: CERTIFIED MANAGER ON PREMISES. \\textbar{} 45. FOOD HANDLER REQUIREMENTS MET - Comments: ALL EMPLOYEES THAT FALL UNDER THE CATEGORY OF FOOD HANDLER THAT ARE NOT CERTIFIED FOOD SERVICE MANAGERS MUST MEET THE IDPH FOOD HANDLER REQUIREMENTS. \\textbar{} 41. PREMISES MAINTAINED FREE OF LITTER, UNNECESSARY ARTICLES, CLEANING  EQUIPMENT PROPERLY STORED - Comments: ABATED. \\textbar{} 35. WALLS, CEILINGS, ATTACHED EQUIPMENT CONSTRUCTED PER CODE: GOOD REPAIR, SURFACES CLEAN AND DUST-LESS CLEANING METHODS - Comments: CLEAN STAINS AND FOOD SPLATTERS FROM WALLS THROUGGHOUT WHERE PRESENT.\n \\textbar{} 33. FOOD AND NON-FOOD CONTACT EQUIPMENT UTENSILS CLEAN, FREE OF ABRASIVE DETERGENTS - Comments: : CLEAN THE CABINET INTERIOR UNDERNEATH THE SELF-SERVICE POP DISPENSING STATION(POP RESIDUE ON THE SHELF). \\textbar{} 32. FOOD AND NON-FOOD CONTACT SURFACES PROPERLY DESIGNED, CONSTRUCTED AND MAINTAINED - Comments:  CLEAN FOOD DEBRIS FROM FLOOR INSIDE WALK-IN COOLER. PAINT EXTERIOR OF DOOR LEADING INTO THE REAR DISH WASHING AREA.                                                                                                                                                                                                                                                       & 41.73541 & -87.66291 & (41.735408702583165, -87.66290968424336)\\\\\n\t 1995817 & VENEZUELAN BOWL GRILL LLC & VENEZUELAN BOWL GRILL & 2424110 & Restaurant & Risk 1 (High) & 2436 N LINCOLN AVE & CHICAGO & IL & 60614 & 03/17/2017 & Canvass Re-Inspection & Pass & 14. PREVIOUS SERIOUS VIOLATION CORRECTED, 7-42-090 - Comments: ALL VIOLATIONS HAVE BEEN CORRECTED. FLOORS, WALLS, KITCHEN HOOD AND FILTERS, BACK FLOW HAS BEEN INSTALLED ON ICE MACHINE, AND ITEMS HAVE BEEN REMOVED OR ELEVATED OFF FLOORS IN BASEMENT. \\textbar{} 22. DISH MACHINES: PROVIDED WITH ACCURATE THERMOMETERS, CHEMICAL TEST KITS AND SUITABLE GAUGE COCK - Comments: QUATERNARY SANITIZING TEST STRIPS HAVE BEEN PROVIDED. \\textbar{} 32. FOOD AND NON-FOOD CONTACT SURFACES PROPERLY DESIGNED, CONSTRUCTED AND MAINTAINED - Comments: VIOLATION CORRECTED. \\textbar{} 33. FOOD AND NON-FOOD CONTACT EQUIPMENT UTENSILS CLEAN, FREE OF ABRASIVE DETERGENTS - Comments: VIOLATION CORRECTED. \\textbar{} 34. FLOORS: CONSTRUCTED PER CODE, CLEANED, GOOD REPAIR, COVING INSTALLED, DUST-LESS CLEANING METHODS USED - Comments: VIOLATION CORRECTED. \\textbar{} 36. LIGHTING: REQUIRED MINIMUM FOOT-CANDLES OF LIGHT PROVIDED, FIXTURES SHIELDED - Comments: VIOLATION CORRECTED. \\textbar{} 38. VENTILATION: ROOMS AND EQUIPMENT VENTED AS REQUIRED: PLUMBING: INSTALLED AND MAINTAINED - Comments: VIOLATION CORRECTED. \\textbar{} 45. FOOD HANDLER REQUIREMENTS MET - Comments: VIOLATION CORRECTED. \\textbar{} 35. WALLS, CEILINGS, ATTACHED EQUIPMENT CONSTRUCTED PER CODE: GOOD REPAIR, SURFACES CLEAN AND DUST-LESS CLEANING METHODS - Comments: WASHROOM WALLS SEALED, HOWEVER, WALLS IN SOUTH-EAST WASHROOM (CLOSEST TO KITCHEN) STILL HAVE SOME ROUGH AREAS PRESENT. SURFACE MUST BE COMPLETELY SMOOTH AND EASILY CLEANABLE, AND MAINTAIN.                                                & 41.92619 & -87.65002 & (41.926190902860434, -87.65001746088006)\\\\\n\t 1995822 & SEVEN TEN                 & SEVEN TEN             & 1172093 & Restaurant & Risk 1 (High) & 1055 E 55TH ST     & CHICAGO & IL & 60615 & 03/17/2017 & Canvass Re-Inspection & Pass & 18. NO EVIDENCE OF RODENT OR INSECT OUTER OPENINGS PROTECTED/RODENT PROOFED, A WRITTEN LOG SHALL BE MAINTAINED AVAILABLE TO THE INSPECTORS - Comments: PREMISES SERVICED BY TOM VEL PEST CONTROL ON 3-16-17 AND MICE DROPPINGS REMOVED IN STORAGE AREAS. \\textbar{} 30. FOOD IN ORIGINAL CONTAINER, PROPERLY LABELED: CUSTOMER ADVISORY POSTED AS NEEDED - Comments: BULK CONTAINERS LABELED IN PREP AND STORAGE AREAS. \\textbar{} 33. FOOD AND NON-FOOD CONTACT EQUIPMENT UTENSILS CLEAN, FREE OF ABRASIVE DETERGENTS - Comments: SHELVES CLEANED IN STORAGE AND BAR AREAS. \\textbar{} 34. FLOORS: CONSTRUCTED PER CODE, CLEANED, GOOD REPAIR, COVING INSTALLED, DUST-LESS CLEANING METHODS USED - Comments: GROUT ALL LOOSE FLOOR TILES IN BAR AREA. \\textbar{} 35. WALLS, CEILINGS, ATTACHED EQUIPMENT CONSTRUCTED PER CODE: GOOD REPAIR, SURFACES CLEAN AND DUST-LESS CLEANING METHODS - Comments: REPLACE MISSING BASEBOARDS ALONG WALLS UNDER DISH MACHINE. REPLACE DAMAGED BASEBOARDS AND SEAL OPENINGS ALONG BASEBOARDS NEAR UTILITY SINK. REPLACE DAMAGED WALL TILES ALONG LOWER SOUTH WALL IN MEN WASHROOM. SEAL OPENING UNDER WASHBOWLS IN WOMEN WASHROOM. \n \\textbar{} 41. PREMISES MAINTAINED FREE OF LITTER, UNNECESSARY ARTICLES, CLEANING  EQUIPMENT PROPERLY STORED - Comments: ELEVATE ALL STOCK OFF FLOOR IN LIQUOR STORAGE AREA. STORE STOCK OFF FLOOR AND AWAY FROM WALLS FOR EASY CLEANING AND PEST CONTROL. ORGANIZE WALK-IN COOLER. \n \\textbar{} 43. FOOD (ICE) DISPENSING UTENSILS, WASH CLOTHS PROPERLY STORED - Comments: ICE SCOOP PROPERLY STORED IN ICE BIN. & 41.79492 & -87.59985 & (41.79492106897254, -87.59985203106729) \\\\\n\t 1995814 & CHISME EXPRESS INC.       & CHISME EXPRESS INC.   & 1334960 & Restaurant & Risk 1 (High) & 5955 S PULASKI RD  & CHICAGO & IL & 60629 & 03/17/2017 & Canvass               & Pass & 32. FOOD AND NON-FOOD CONTACT SURFACES PROPERLY DESIGNED, CONSTRUCTED AND MAINTAINED - Comments: OBSERVED RUSTY STORAGE SHELVES OIN THE WALK-IN COOLER, INSTRUCTED TO REMOVE RUST. \\textbar{} 33. FOOD AND NON-FOOD CONTACT EQUIPMENT UTENSILS CLEAN, FREE OF ABRASIVE DETERGENTS - Comments: OBSERVED THE FRONT CUTTING BOARD NOT CLEAN, INSTRUCTED TO CLEAN AND SANITIZE. \\textbar{} 34. FLOORS: CONSTRUCTED PER CODE, CLEANED, GOOD REPAIR, COVING INSTALLED, DUST-LESS CLEANING METHODS USED - Comments: OBSERVED THE FLOOR IN THE WALK IN COOLER/UNDER STORAGE SHELVES NOT CLEAN, INSTRUCTED TO CLEAN. \\textbar{} 35. WALLS, CEILINGS, ATTACHED EQUIPMENT CONSTRUCTED PER CODE: GOOD REPAIR, SURFACES CLEAN AND DUST-LESS CLEANING METHODS - Comments: OBSERVED THE WALLS INSIDE THE WALK-IN COOLER, AND OUTSIDE THE WALK-IN COOLER NOT CLEAN, INSTRUCTED TO CLEAN.                                                                                                                                                                                                                                                                                                                                                                                                                                                                                                                                                                                                                                                                                          & 41.78429 & -87.72277 & (41.784288983210146, -87.72277078477818)\\\\\n\t 1995811 & THE NILE RESTAURANT       & THE NILE RESTAURANT   & 2334190 & Restaurant & Risk 1 (High) & 1162 E 55TH ST     & CHICAGO & IL & 60615 & 03/17/2017 & Canvass Re-Inspection & Pass & 18. NO EVIDENCE OF RODENT OR INSECT OUTER OPENINGS PROTECTED/RODENT PROOFED, A WRITTEN LOG SHALL BE MAINTAINED AVAILABLE TO THE INSPECTORS - Comments: DOORS REPAIRED. \\textbar{} 32. FOOD AND NON-FOOD CONTACT SURFACES PROPERLY DESIGNED, CONSTRUCTED AND MAINTAINED - Comments:  REPLACE DAMAGED GASKET ON REACH-IN COOLER IN REAR PREP AREA. \n \\textbar{} 33. FOOD AND NON-FOOD CONTACT EQUIPMENT UTENSILS CLEAN, FREE OF ABRASIVE DETERGENTS - Comments: CLEAN INTERIOR AND EXTERIOR OF COOLERS, FREEZERS, COOKING EQUIPMENT, PREP TABLES. \n \\textbar{} 41. PREMISES MAINTAINED FREE OF LITTER, UNNECESSARY ARTICLES, CLEANING  EQUIPMENT PROPERLY STORED - Comments: ELEVATE ALL STOCK OFF FLOOR IN STORAGE AREAS. ORGANIZE REAR STORAGE AREA AND REACH-IN COOLERS. \n \\textbar{} 34. FLOORS: CONSTRUCTED PER CODE, CLEANED, GOOD REPAIR, COVING INSTALLED, DUST-LESS CLEANING METHODS USED - Comments: CLEAN AND MAINTAIN FLOOR DRAIN UNDER 3-COMPARTMENT SINK.                                                                                                                                                                                                                                                                                                                                                                                                                                                                                                                                                                                                   & 41.79517 & -87.59710 & (41.79517060450029, -87.59710020185207) \\\\\n\\end{tabular}\n",
            "text/plain": [
              "  ID      DBAName                   AKAName               License FacilityType\n",
              "1 1995829 SUBWAY                    SUBWAY                1679112 Restaurant  \n",
              "2 1995817 VENEZUELAN BOWL GRILL LLC VENEZUELAN BOWL GRILL 2424110 Restaurant  \n",
              "3 1995822 SEVEN TEN                 SEVEN TEN             1172093 Restaurant  \n",
              "4 1995814 CHISME EXPRESS INC.       CHISME EXPRESS INC.   1334960 Restaurant  \n",
              "5 1995811 THE NILE RESTAURANT       THE NILE RESTAURANT   2334190 Restaurant  \n",
              "  Risk          Address            City    State ZIP   InspectionDate\n",
              "1 Risk 1 (High) 8711 S ASHLAND AVE CHICAGO IL    60620 03/17/2017    \n",
              "2 Risk 1 (High) 2436 N LINCOLN AVE CHICAGO IL    60614 03/17/2017    \n",
              "3 Risk 1 (High) 1055 E 55TH ST     CHICAGO IL    60615 03/17/2017    \n",
              "4 Risk 1 (High) 5955 S PULASKI RD  CHICAGO IL    60629 03/17/2017    \n",
              "5 Risk 1 (High) 1162 E 55TH ST     CHICAGO IL    60615 03/17/2017    \n",
              "  InspectionType        Results\n",
              "1 Canvass Re-Inspection Pass   \n",
              "2 Canvass Re-Inspection Pass   \n",
              "3 Canvass Re-Inspection Pass   \n",
              "4 Canvass               Pass   \n",
              "5 Canvass Re-Inspection Pass   \n",
              "  Violations                                                                                                                                                                                                                                                                                                                                                                                                                                                                                                                                                                                                                                                                                                                                                                                                                                                                                                                                                                                                                                                                                                                                                                                                                                                                                                                                                                                                                                                                                                                            \n",
              "1 19. OUTSIDE GARBAGE WASTE GREASE AND STORAGE AREA; CLEAN, RODENT PROOF, ALL CONTAINERS COVERED - Comments: OUTSIDE GARBAGE AREA BETTER MAINTAINED. | 21. * CERTIFIED FOOD MANAGER ON SITE WHEN POTENTIALLY HAZARDOUS FOODS ARE  PREPARED AND SERVED - Comments: CERTIFIED MANAGER ON PREMISES. | 45. FOOD HANDLER REQUIREMENTS MET - Comments: ALL EMPLOYEES THAT FALL UNDER THE CATEGORY OF FOOD HANDLER THAT ARE NOT CERTIFIED FOOD SERVICE MANAGERS MUST MEET THE IDPH FOOD HANDLER REQUIREMENTS. | 41. PREMISES MAINTAINED FREE OF LITTER, UNNECESSARY ARTICLES, CLEANING  EQUIPMENT PROPERLY STORED - Comments: ABATED. | 35. WALLS, CEILINGS, ATTACHED EQUIPMENT CONSTRUCTED PER CODE: GOOD REPAIR, SURFACES CLEAN AND DUST-LESS CLEANING METHODS - Comments: CLEAN STAINS AND FOOD SPLATTERS FROM WALLS THROUGGHOUT WHERE PRESENT.\\n | 33. FOOD AND NON-FOOD CONTACT EQUIPMENT UTENSILS CLEAN, FREE OF ABRASIVE DETERGENTS - Comments: : CLEAN THE CABINET INTERIOR UNDERNEATH THE SELF-SERVICE POP DISPENSING STATION(POP RESIDUE ON THE SHELF). | 32. FOOD AND NON-FOOD CONTACT SURFACES PROPERLY DESIGNED, CONSTRUCTED AND MAINTAINED - Comments:  CLEAN FOOD DEBRIS FROM FLOOR INSIDE WALK-IN COOLER. PAINT EXTERIOR OF DOOR LEADING INTO THE REAR DISH WASHING AREA.                                                                                                                                                                                                                                                      \n",
              "2 14. PREVIOUS SERIOUS VIOLATION CORRECTED, 7-42-090 - Comments: ALL VIOLATIONS HAVE BEEN CORRECTED. FLOORS, WALLS, KITCHEN HOOD AND FILTERS, BACK FLOW HAS BEEN INSTALLED ON ICE MACHINE, AND ITEMS HAVE BEEN REMOVED OR ELEVATED OFF FLOORS IN BASEMENT. | 22. DISH MACHINES: PROVIDED WITH ACCURATE THERMOMETERS, CHEMICAL TEST KITS AND SUITABLE GAUGE COCK - Comments: QUATERNARY SANITIZING TEST STRIPS HAVE BEEN PROVIDED. | 32. FOOD AND NON-FOOD CONTACT SURFACES PROPERLY DESIGNED, CONSTRUCTED AND MAINTAINED - Comments: VIOLATION CORRECTED. | 33. FOOD AND NON-FOOD CONTACT EQUIPMENT UTENSILS CLEAN, FREE OF ABRASIVE DETERGENTS - Comments: VIOLATION CORRECTED. | 34. FLOORS: CONSTRUCTED PER CODE, CLEANED, GOOD REPAIR, COVING INSTALLED, DUST-LESS CLEANING METHODS USED - Comments: VIOLATION CORRECTED. | 36. LIGHTING: REQUIRED MINIMUM FOOT-CANDLES OF LIGHT PROVIDED, FIXTURES SHIELDED - Comments: VIOLATION CORRECTED. | 38. VENTILATION: ROOMS AND EQUIPMENT VENTED AS REQUIRED: PLUMBING: INSTALLED AND MAINTAINED - Comments: VIOLATION CORRECTED. | 45. FOOD HANDLER REQUIREMENTS MET - Comments: VIOLATION CORRECTED. | 35. WALLS, CEILINGS, ATTACHED EQUIPMENT CONSTRUCTED PER CODE: GOOD REPAIR, SURFACES CLEAN AND DUST-LESS CLEANING METHODS - Comments: WASHROOM WALLS SEALED, HOWEVER, WALLS IN SOUTH-EAST WASHROOM (CLOSEST TO KITCHEN) STILL HAVE SOME ROUGH AREAS PRESENT. SURFACE MUST BE COMPLETELY SMOOTH AND EASILY CLEANABLE, AND MAINTAIN.                                               \n",
              "3 18. NO EVIDENCE OF RODENT OR INSECT OUTER OPENINGS PROTECTED/RODENT PROOFED, A WRITTEN LOG SHALL BE MAINTAINED AVAILABLE TO THE INSPECTORS - Comments: PREMISES SERVICED BY TOM VEL PEST CONTROL ON 3-16-17 AND MICE DROPPINGS REMOVED IN STORAGE AREAS. | 30. FOOD IN ORIGINAL CONTAINER, PROPERLY LABELED: CUSTOMER ADVISORY POSTED AS NEEDED - Comments: BULK CONTAINERS LABELED IN PREP AND STORAGE AREAS. | 33. FOOD AND NON-FOOD CONTACT EQUIPMENT UTENSILS CLEAN, FREE OF ABRASIVE DETERGENTS - Comments: SHELVES CLEANED IN STORAGE AND BAR AREAS. | 34. FLOORS: CONSTRUCTED PER CODE, CLEANED, GOOD REPAIR, COVING INSTALLED, DUST-LESS CLEANING METHODS USED - Comments: GROUT ALL LOOSE FLOOR TILES IN BAR AREA. | 35. WALLS, CEILINGS, ATTACHED EQUIPMENT CONSTRUCTED PER CODE: GOOD REPAIR, SURFACES CLEAN AND DUST-LESS CLEANING METHODS - Comments: REPLACE MISSING BASEBOARDS ALONG WALLS UNDER DISH MACHINE. REPLACE DAMAGED BASEBOARDS AND SEAL OPENINGS ALONG BASEBOARDS NEAR UTILITY SINK. REPLACE DAMAGED WALL TILES ALONG LOWER SOUTH WALL IN MEN WASHROOM. SEAL OPENING UNDER WASHBOWLS IN WOMEN WASHROOM. \\n | 41. PREMISES MAINTAINED FREE OF LITTER, UNNECESSARY ARTICLES, CLEANING  EQUIPMENT PROPERLY STORED - Comments: ELEVATE ALL STOCK OFF FLOOR IN LIQUOR STORAGE AREA. STORE STOCK OFF FLOOR AND AWAY FROM WALLS FOR EASY CLEANING AND PEST CONTROL. ORGANIZE WALK-IN COOLER. \\n | 43. FOOD (ICE) DISPENSING UTENSILS, WASH CLOTHS PROPERLY STORED - Comments: ICE SCOOP PROPERLY STORED IN ICE BIN.\n",
              "4 32. FOOD AND NON-FOOD CONTACT SURFACES PROPERLY DESIGNED, CONSTRUCTED AND MAINTAINED - Comments: OBSERVED RUSTY STORAGE SHELVES OIN THE WALK-IN COOLER, INSTRUCTED TO REMOVE RUST. | 33. FOOD AND NON-FOOD CONTACT EQUIPMENT UTENSILS CLEAN, FREE OF ABRASIVE DETERGENTS - Comments: OBSERVED THE FRONT CUTTING BOARD NOT CLEAN, INSTRUCTED TO CLEAN AND SANITIZE. | 34. FLOORS: CONSTRUCTED PER CODE, CLEANED, GOOD REPAIR, COVING INSTALLED, DUST-LESS CLEANING METHODS USED - Comments: OBSERVED THE FLOOR IN THE WALK IN COOLER/UNDER STORAGE SHELVES NOT CLEAN, INSTRUCTED TO CLEAN. | 35. WALLS, CEILINGS, ATTACHED EQUIPMENT CONSTRUCTED PER CODE: GOOD REPAIR, SURFACES CLEAN AND DUST-LESS CLEANING METHODS - Comments: OBSERVED THE WALLS INSIDE THE WALK-IN COOLER, AND OUTSIDE THE WALK-IN COOLER NOT CLEAN, INSTRUCTED TO CLEAN.                                                                                                                                                                                                                                                                                                                                                                                                                                                                                                                                                                                                                                                                                         \n",
              "5 18. NO EVIDENCE OF RODENT OR INSECT OUTER OPENINGS PROTECTED/RODENT PROOFED, A WRITTEN LOG SHALL BE MAINTAINED AVAILABLE TO THE INSPECTORS - Comments: DOORS REPAIRED. | 32. FOOD AND NON-FOOD CONTACT SURFACES PROPERLY DESIGNED, CONSTRUCTED AND MAINTAINED - Comments:  REPLACE DAMAGED GASKET ON REACH-IN COOLER IN REAR PREP AREA. \\n | 33. FOOD AND NON-FOOD CONTACT EQUIPMENT UTENSILS CLEAN, FREE OF ABRASIVE DETERGENTS - Comments: CLEAN INTERIOR AND EXTERIOR OF COOLERS, FREEZERS, COOKING EQUIPMENT, PREP TABLES. \\n | 41. PREMISES MAINTAINED FREE OF LITTER, UNNECESSARY ARTICLES, CLEANING  EQUIPMENT PROPERLY STORED - Comments: ELEVATE ALL STOCK OFF FLOOR IN STORAGE AREAS. ORGANIZE REAR STORAGE AREA AND REACH-IN COOLERS. \\n | 34. FLOORS: CONSTRUCTED PER CODE, CLEANED, GOOD REPAIR, COVING INSTALLED, DUST-LESS CLEANING METHODS USED - Comments: CLEAN AND MAINTAIN FLOOR DRAIN UNDER 3-COMPARTMENT SINK.                                                                                                                                                                                                                                                                                                                                                                                                                                                                                                                                                                                                  \n",
              "  Latitude Longitude Location                                \n",
              "1 41.73541 -87.66291 (41.735408702583165, -87.66290968424336)\n",
              "2 41.92619 -87.65002 (41.926190902860434, -87.65001746088006)\n",
              "3 41.79492 -87.59985 (41.79492106897254, -87.59985203106729) \n",
              "4 41.78429 -87.72277 (41.784288983210146, -87.72277078477818)\n",
              "5 41.79517 -87.59710 (41.79517060450029, -87.59710020185207) "
            ]
          },
          "metadata": {}
        }
      ]
    },
    {
      "cell_type": "code",
      "source": [
        "summary(df)"
      ],
      "metadata": {
        "colab": {
          "base_uri": "https://localhost:8080/",
          "height": 711
        },
        "id": "KDoirLNHqi_l",
        "outputId": "a3c11cd7-f188-4acf-d78a-d8a6ffea33f2"
      },
      "execution_count": 46,
      "outputs": [
        {
          "output_type": "display_data",
          "data": {
            "text/plain": [
              "       ID            DBAName            AKAName             License       \n",
              " Min.   :  44247   Length:145606      Length:145606      Min.   :      0  \n",
              " 1st Qu.: 634510   Class :character   Class :character   1st Qu.:1120535  \n",
              " Median :1335522   Mode  :character   Mode  :character   Median :1904431  \n",
              " Mean   :1193936                                         Mean   :1501224  \n",
              " 3rd Qu.:1537693                                         3rd Qu.:2141324  \n",
              " Max.   :2014211                                         Max.   :9999999  \n",
              "                                                         NA's   :14       \n",
              " FacilityType           Risk             Address              City          \n",
              " Length:145606      Length:145606      Length:145606      Length:145606     \n",
              " Class :character   Class :character   Class :character   Class :character  \n",
              " Mode  :character   Mode  :character   Mode  :character   Mode  :character  \n",
              "                                                                            \n",
              "                                                                            \n",
              "                                                                            \n",
              "                                                                            \n",
              "    State                ZIP        InspectionDate     InspectionType    \n",
              " Length:145606      Min.   :60007   Length:145606      Length:145606     \n",
              " Class :character   1st Qu.:60614   Class :character   Class :character  \n",
              " Mode  :character   Median :60625   Mode  :character   Mode  :character  \n",
              "                    Mean   :60629                                        \n",
              "                    3rd Qu.:60643                                        \n",
              "                    Max.   :60827                                        \n",
              "                    NA's   :97                                           \n",
              "   Results           Violations           Latitude       Longitude     \n",
              " Length:145606      Length:145606      Min.   :41.64   Min.   :-87.91  \n",
              " Class :character   Class :character   1st Qu.:41.83   1st Qu.:-87.71  \n",
              " Mode  :character   Mode  :character   Median :41.89   Median :-87.67  \n",
              "                                       Mean   :41.88   Mean   :-87.68  \n",
              "                                       3rd Qu.:41.94   3rd Qu.:-87.63  \n",
              "                                       Max.   :42.02   Max.   :-87.53  \n",
              "                                       NA's   :513     NA's   :513     \n",
              "   Location        \n",
              " Length:145606     \n",
              " Class :character  \n",
              " Mode  :character  \n",
              "                   \n",
              "                   \n",
              "                   \n",
              "                   "
            ]
          },
          "metadata": {}
        }
      ]
    },
    {
      "cell_type": "code",
      "source": [
        "unlicensed<-df%>%filter(!is.na(License))"
      ],
      "metadata": {
        "id": "1pBU2Sa7qi8X"
      },
      "execution_count": 47,
      "outputs": []
    },
    {
      "cell_type": "code",
      "source": [
        "licensed<-df%>%filter(!is.na(License))"
      ],
      "metadata": {
        "id": "2xL7SsMbqi5N"
      },
      "execution_count": 48,
      "outputs": []
    },
    {
      "cell_type": "code",
      "source": [
        "badmath <- c(1,2,3,4/0,0/0,NA)\n",
        "badmath\n",
        "is.na(badmath)\n",
        "is.nan(badmath)\n",
        "is.infinite(badmath)\n",
        "is.finite(badmath)\n"
      ],
      "metadata": {
        "colab": {
          "base_uri": "https://localhost:8080/",
          "height": 104
        },
        "id": "_oumUhsJqi2V",
        "outputId": "f59fa9a0-a79b-4d2e-ad44-64fdf1faef94"
      },
      "execution_count": 49,
      "outputs": [
        {
          "output_type": "display_data",
          "data": {
            "text/html": [
              "<style>\n",
              ".list-inline {list-style: none; margin:0; padding: 0}\n",
              ".list-inline>li {display: inline-block}\n",
              ".list-inline>li:not(:last-child)::after {content: \"\\00b7\"; padding: 0 .5ex}\n",
              "</style>\n",
              "<ol class=list-inline><li>1</li><li>2</li><li>3</li><li>Inf</li><li>NaN</li><li>&lt;NA&gt;</li></ol>\n"
            ],
            "text/markdown": "1. 1\n2. 2\n3. 3\n4. Inf\n5. NaN\n6. &lt;NA&gt;\n\n\n",
            "text/latex": "\\begin{enumerate*}\n\\item 1\n\\item 2\n\\item 3\n\\item Inf\n\\item NaN\n\\item <NA>\n\\end{enumerate*}\n",
            "text/plain": [
              "[1]   1   2   3 Inf NaN  NA"
            ]
          },
          "metadata": {}
        },
        {
          "output_type": "display_data",
          "data": {
            "text/html": [
              "<style>\n",
              ".list-inline {list-style: none; margin:0; padding: 0}\n",
              ".list-inline>li {display: inline-block}\n",
              ".list-inline>li:not(:last-child)::after {content: \"\\00b7\"; padding: 0 .5ex}\n",
              "</style>\n",
              "<ol class=list-inline><li>FALSE</li><li>FALSE</li><li>FALSE</li><li>FALSE</li><li>TRUE</li><li>TRUE</li></ol>\n"
            ],
            "text/markdown": "1. FALSE\n2. FALSE\n3. FALSE\n4. FALSE\n5. TRUE\n6. TRUE\n\n\n",
            "text/latex": "\\begin{enumerate*}\n\\item FALSE\n\\item FALSE\n\\item FALSE\n\\item FALSE\n\\item TRUE\n\\item TRUE\n\\end{enumerate*}\n",
            "text/plain": [
              "[1] FALSE FALSE FALSE FALSE  TRUE  TRUE"
            ]
          },
          "metadata": {}
        },
        {
          "output_type": "display_data",
          "data": {
            "text/html": [
              "<style>\n",
              ".list-inline {list-style: none; margin:0; padding: 0}\n",
              ".list-inline>li {display: inline-block}\n",
              ".list-inline>li:not(:last-child)::after {content: \"\\00b7\"; padding: 0 .5ex}\n",
              "</style>\n",
              "<ol class=list-inline><li>FALSE</li><li>FALSE</li><li>FALSE</li><li>FALSE</li><li>TRUE</li><li>FALSE</li></ol>\n"
            ],
            "text/markdown": "1. FALSE\n2. FALSE\n3. FALSE\n4. FALSE\n5. TRUE\n6. FALSE\n\n\n",
            "text/latex": "\\begin{enumerate*}\n\\item FALSE\n\\item FALSE\n\\item FALSE\n\\item FALSE\n\\item TRUE\n\\item FALSE\n\\end{enumerate*}\n",
            "text/plain": [
              "[1] FALSE FALSE FALSE FALSE  TRUE FALSE"
            ]
          },
          "metadata": {}
        },
        {
          "output_type": "display_data",
          "data": {
            "text/html": [
              "<style>\n",
              ".list-inline {list-style: none; margin:0; padding: 0}\n",
              ".list-inline>li {display: inline-block}\n",
              ".list-inline>li:not(:last-child)::after {content: \"\\00b7\"; padding: 0 .5ex}\n",
              "</style>\n",
              "<ol class=list-inline><li>FALSE</li><li>FALSE</li><li>FALSE</li><li>TRUE</li><li>FALSE</li><li>FALSE</li></ol>\n"
            ],
            "text/markdown": "1. FALSE\n2. FALSE\n3. FALSE\n4. TRUE\n5. FALSE\n6. FALSE\n\n\n",
            "text/latex": "\\begin{enumerate*}\n\\item FALSE\n\\item FALSE\n\\item FALSE\n\\item TRUE\n\\item FALSE\n\\item FALSE\n\\end{enumerate*}\n",
            "text/plain": [
              "[1] FALSE FALSE FALSE  TRUE FALSE FALSE"
            ]
          },
          "metadata": {}
        },
        {
          "output_type": "display_data",
          "data": {
            "text/html": [
              "<style>\n",
              ".list-inline {list-style: none; margin:0; padding: 0}\n",
              ".list-inline>li {display: inline-block}\n",
              ".list-inline>li:not(:last-child)::after {content: \"\\00b7\"; padding: 0 .5ex}\n",
              "</style>\n",
              "<ol class=list-inline><li>TRUE</li><li>TRUE</li><li>TRUE</li><li>FALSE</li><li>FALSE</li><li>FALSE</li></ol>\n"
            ],
            "text/markdown": "1. TRUE\n2. TRUE\n3. TRUE\n4. FALSE\n5. FALSE\n6. FALSE\n\n\n",
            "text/latex": "\\begin{enumerate*}\n\\item TRUE\n\\item TRUE\n\\item TRUE\n\\item FALSE\n\\item FALSE\n\\item FALSE\n\\end{enumerate*}\n",
            "text/plain": [
              "[1]  TRUE  TRUE  TRUE FALSE FALSE FALSE"
            ]
          },
          "metadata": {}
        }
      ]
    },
    {
      "cell_type": "markdown",
      "source": [
        "# Seperate"
      ],
      "metadata": {
        "id": "tRN1Gk79s8s7"
      }
    },
    {
      "cell_type": "code",
      "source": [
        "names <- c(\"DRG\", \"ProviderID\", \"Name\", \"Address\", \"City\", \"State\", \"ZIP\", \"Region\", \"Discharges\", \"AverageCharges\", \"AverageTotalPayments\",\n",
        "           \"AverageMedicarePayments\")"
      ],
      "metadata": {
        "id": "GliKHTckqizC"
      },
      "execution_count": 50,
      "outputs": []
    },
    {
      "cell_type": "code",
      "source": [
        "types = 'ccccccccinnn'"
      ],
      "metadata": {
        "id": "Jrfh8lp_s8PN"
      },
      "execution_count": 51,
      "outputs": []
    },
    {
      "cell_type": "code",
      "source": [
        "df <- read_tsv('http://594442.youcanlearnit.net/inpatient.tsv', col_names = names, skip=1, col_types = types)"
      ],
      "metadata": {
        "id": "cNwMPKQ8s8MF"
      },
      "execution_count": 52,
      "outputs": []
    },
    {
      "cell_type": "code",
      "source": [
        "head(df,5)"
      ],
      "metadata": {
        "colab": {
          "base_uri": "https://localhost:8080/",
          "height": 341
        },
        "id": "Gx-qkeNUs8JU",
        "outputId": "4b9e4bec-cecf-42b3-eeac-77bf15c8a13b"
      },
      "execution_count": 53,
      "outputs": [
        {
          "output_type": "display_data",
          "data": {
            "text/html": [
              "<table class=\"dataframe\">\n",
              "<caption>A tibble: 5 × 12</caption>\n",
              "<thead>\n",
              "\t<tr><th scope=col>DRG</th><th scope=col>ProviderID</th><th scope=col>Name</th><th scope=col>Address</th><th scope=col>City</th><th scope=col>State</th><th scope=col>ZIP</th><th scope=col>Region</th><th scope=col>Discharges</th><th scope=col>AverageCharges</th><th scope=col>AverageTotalPayments</th><th scope=col>AverageMedicarePayments</th></tr>\n",
              "\t<tr><th scope=col>&lt;chr&gt;</th><th scope=col>&lt;chr&gt;</th><th scope=col>&lt;chr&gt;</th><th scope=col>&lt;chr&gt;</th><th scope=col>&lt;chr&gt;</th><th scope=col>&lt;chr&gt;</th><th scope=col>&lt;chr&gt;</th><th scope=col>&lt;chr&gt;</th><th scope=col>&lt;int&gt;</th><th scope=col>&lt;dbl&gt;</th><th scope=col>&lt;dbl&gt;</th><th scope=col>&lt;dbl&gt;</th></tr>\n",
              "</thead>\n",
              "<tbody>\n",
              "\t<tr><td>039 - EXTRACRANIAL PROCEDURES W/O CC/MCC</td><td>10001</td><td>SOUTHEAST ALABAMA MEDICAL CENTER</td><td>1108 ROSS CLARK CIRCLE    </td><td>DOTHAN    </td><td>AL</td><td>36301</td><td>AL - Dothan    </td><td>91</td><td>32963.07</td><td>5777.24</td><td>4763.73</td></tr>\n",
              "\t<tr><td>039 - EXTRACRANIAL PROCEDURES W/O CC/MCC</td><td>10005</td><td>MARSHALL MEDICAL CENTER SOUTH   </td><td>2505 U S HIGHWAY 431 NORTH</td><td>BOAZ      </td><td>AL</td><td>35957</td><td>AL - Birmingham</td><td>14</td><td>15131.85</td><td>5787.57</td><td>4976.71</td></tr>\n",
              "\t<tr><td>039 - EXTRACRANIAL PROCEDURES W/O CC/MCC</td><td>10006</td><td>ELIZA COFFEE MEMORIAL HOSPITAL  </td><td>205 MARENGO STREET        </td><td>FLORENCE  </td><td>AL</td><td>35631</td><td>AL - Birmingham</td><td>24</td><td>37560.37</td><td>5434.95</td><td>4453.79</td></tr>\n",
              "\t<tr><td>039 - EXTRACRANIAL PROCEDURES W/O CC/MCC</td><td>10011</td><td>ST VINCENT'S EAST               </td><td>50 MEDICAL PARK EAST DRIVE</td><td>BIRMINGHAM</td><td>AL</td><td>35235</td><td>AL - Birmingham</td><td>25</td><td>13998.28</td><td>5417.56</td><td>4129.16</td></tr>\n",
              "\t<tr><td>039 - EXTRACRANIAL PROCEDURES W/O CC/MCC</td><td>10016</td><td>SHELBY BAPTIST MEDICAL CENTER   </td><td>1000 FIRST STREET NORTH   </td><td>ALABASTER </td><td>AL</td><td>35007</td><td>AL - Birmingham</td><td>18</td><td>31633.27</td><td>5658.33</td><td>4851.44</td></tr>\n",
              "</tbody>\n",
              "</table>\n"
            ],
            "text/markdown": "\nA tibble: 5 × 12\n\n| DRG &lt;chr&gt; | ProviderID &lt;chr&gt; | Name &lt;chr&gt; | Address &lt;chr&gt; | City &lt;chr&gt; | State &lt;chr&gt; | ZIP &lt;chr&gt; | Region &lt;chr&gt; | Discharges &lt;int&gt; | AverageCharges &lt;dbl&gt; | AverageTotalPayments &lt;dbl&gt; | AverageMedicarePayments &lt;dbl&gt; |\n|---|---|---|---|---|---|---|---|---|---|---|---|\n| 039 - EXTRACRANIAL PROCEDURES W/O CC/MCC | 10001 | SOUTHEAST ALABAMA MEDICAL CENTER | 1108 ROSS CLARK CIRCLE     | DOTHAN     | AL | 36301 | AL - Dothan     | 91 | 32963.07 | 5777.24 | 4763.73 |\n| 039 - EXTRACRANIAL PROCEDURES W/O CC/MCC | 10005 | MARSHALL MEDICAL CENTER SOUTH    | 2505 U S HIGHWAY 431 NORTH | BOAZ       | AL | 35957 | AL - Birmingham | 14 | 15131.85 | 5787.57 | 4976.71 |\n| 039 - EXTRACRANIAL PROCEDURES W/O CC/MCC | 10006 | ELIZA COFFEE MEMORIAL HOSPITAL   | 205 MARENGO STREET         | FLORENCE   | AL | 35631 | AL - Birmingham | 24 | 37560.37 | 5434.95 | 4453.79 |\n| 039 - EXTRACRANIAL PROCEDURES W/O CC/MCC | 10011 | ST VINCENT'S EAST                | 50 MEDICAL PARK EAST DRIVE | BIRMINGHAM | AL | 35235 | AL - Birmingham | 25 | 13998.28 | 5417.56 | 4129.16 |\n| 039 - EXTRACRANIAL PROCEDURES W/O CC/MCC | 10016 | SHELBY BAPTIST MEDICAL CENTER    | 1000 FIRST STREET NORTH    | ALABASTER  | AL | 35007 | AL - Birmingham | 18 | 31633.27 | 5658.33 | 4851.44 |\n\n",
            "text/latex": "A tibble: 5 × 12\n\\begin{tabular}{llllllllllll}\n DRG & ProviderID & Name & Address & City & State & ZIP & Region & Discharges & AverageCharges & AverageTotalPayments & AverageMedicarePayments\\\\\n <chr> & <chr> & <chr> & <chr> & <chr> & <chr> & <chr> & <chr> & <int> & <dbl> & <dbl> & <dbl>\\\\\n\\hline\n\t 039 - EXTRACRANIAL PROCEDURES W/O CC/MCC & 10001 & SOUTHEAST ALABAMA MEDICAL CENTER & 1108 ROSS CLARK CIRCLE     & DOTHAN     & AL & 36301 & AL - Dothan     & 91 & 32963.07 & 5777.24 & 4763.73\\\\\n\t 039 - EXTRACRANIAL PROCEDURES W/O CC/MCC & 10005 & MARSHALL MEDICAL CENTER SOUTH    & 2505 U S HIGHWAY 431 NORTH & BOAZ       & AL & 35957 & AL - Birmingham & 14 & 15131.85 & 5787.57 & 4976.71\\\\\n\t 039 - EXTRACRANIAL PROCEDURES W/O CC/MCC & 10006 & ELIZA COFFEE MEMORIAL HOSPITAL   & 205 MARENGO STREET         & FLORENCE   & AL & 35631 & AL - Birmingham & 24 & 37560.37 & 5434.95 & 4453.79\\\\\n\t 039 - EXTRACRANIAL PROCEDURES W/O CC/MCC & 10011 & ST VINCENT'S EAST                & 50 MEDICAL PARK EAST DRIVE & BIRMINGHAM & AL & 35235 & AL - Birmingham & 25 & 13998.28 & 5417.56 & 4129.16\\\\\n\t 039 - EXTRACRANIAL PROCEDURES W/O CC/MCC & 10016 & SHELBY BAPTIST MEDICAL CENTER    & 1000 FIRST STREET NORTH    & ALABASTER  & AL & 35007 & AL - Birmingham & 18 & 31633.27 & 5658.33 & 4851.44\\\\\n\\end{tabular}\n",
            "text/plain": [
              "  DRG                                      ProviderID\n",
              "1 039 - EXTRACRANIAL PROCEDURES W/O CC/MCC 10001     \n",
              "2 039 - EXTRACRANIAL PROCEDURES W/O CC/MCC 10005     \n",
              "3 039 - EXTRACRANIAL PROCEDURES W/O CC/MCC 10006     \n",
              "4 039 - EXTRACRANIAL PROCEDURES W/O CC/MCC 10011     \n",
              "5 039 - EXTRACRANIAL PROCEDURES W/O CC/MCC 10016     \n",
              "  Name                             Address                    City       State\n",
              "1 SOUTHEAST ALABAMA MEDICAL CENTER 1108 ROSS CLARK CIRCLE     DOTHAN     AL   \n",
              "2 MARSHALL MEDICAL CENTER SOUTH    2505 U S HIGHWAY 431 NORTH BOAZ       AL   \n",
              "3 ELIZA COFFEE MEMORIAL HOSPITAL   205 MARENGO STREET         FLORENCE   AL   \n",
              "4 ST VINCENT'S EAST                50 MEDICAL PARK EAST DRIVE BIRMINGHAM AL   \n",
              "5 SHELBY BAPTIST MEDICAL CENTER    1000 FIRST STREET NORTH    ALABASTER  AL   \n",
              "  ZIP   Region          Discharges AverageCharges AverageTotalPayments\n",
              "1 36301 AL - Dothan     91         32963.07       5777.24             \n",
              "2 35957 AL - Birmingham 14         15131.85       5787.57             \n",
              "3 35631 AL - Birmingham 24         37560.37       5434.95             \n",
              "4 35235 AL - Birmingham 25         13998.28       5417.56             \n",
              "5 35007 AL - Birmingham 18         31633.27       5658.33             \n",
              "  AverageMedicarePayments\n",
              "1 4763.73                \n",
              "2 4976.71                \n",
              "3 4453.79                \n",
              "4 4129.16                \n",
              "5 4851.44                "
            ]
          },
          "metadata": {}
        }
      ]
    },
    {
      "cell_type": "code",
      "source": [
        "unique(df$DRG)"
      ],
      "metadata": {
        "colab": {
          "base_uri": "https://localhost:8080/",
          "height": 468
        },
        "id": "1vC8kCqss8Gh",
        "outputId": "5c53486d-83a2-4b8d-cb76-ce80b9e8d0d9"
      },
      "execution_count": 54,
      "outputs": [
        {
          "output_type": "display_data",
          "data": {
            "text/html": [
              "<style>\n",
              ".list-inline {list-style: none; margin:0; padding: 0}\n",
              ".list-inline>li {display: inline-block}\n",
              ".list-inline>li:not(:last-child)::after {content: \"\\00b7\"; padding: 0 .5ex}\n",
              "</style>\n",
              "<ol class=list-inline><li>'039 - EXTRACRANIAL PROCEDURES W/O CC/MCC'</li><li>'057 - DEGENERATIVE NERVOUS SYSTEM DISORDERS W/O MCC'</li><li>'069 - TRANSIENT ISCHEMIA'</li><li>'064 - INTRACRANIAL HEMORRHAGE OR CEREBRAL INFARCTION W MCC'</li><li>'065 - INTRACRANIAL HEMORRHAGE OR CEREBRAL INFARCTION W CC'</li><li>'066 - INTRACRANIAL HEMORRHAGE OR CEREBRAL INFARCTION W/O CC/MCC'</li><li>'074 - CRANIAL &amp; PERIPHERAL NERVE DISORDERS W/O MCC'</li><li>'101 - SEIZURES W/O MCC'</li><li>'149 - DYSEQUILIBRIUM'</li><li>'176 - PULMONARY EMBOLISM W/O MCC'</li><li>'177 - RESPIRATORY INFECTIONS &amp; INFLAMMATIONS W MCC'</li><li>'189 - PULMONARY EDEMA &amp; RESPIRATORY FAILURE'</li><li>'178 - RESPIRATORY INFECTIONS &amp; INFLAMMATIONS W CC'</li><li>'190 - CHRONIC OBSTRUCTIVE PULMONARY DISEASE W MCC'</li><li>'191 - CHRONIC OBSTRUCTIVE PULMONARY DISEASE W CC'</li><li>'193 - SIMPLE PNEUMONIA &amp; PLEURISY W MCC'</li><li>'194 - SIMPLE PNEUMONIA &amp; PLEURISY W CC'</li><li>'192 - CHRONIC OBSTRUCTIVE PULMONARY DISEASE W/O CC/MCC'</li><li>'195 - SIMPLE PNEUMONIA &amp; PLEURISY W/O CC/MCC'</li><li>'202 - BRONCHITIS &amp; ASTHMA W CC/MCC'</li><li>'203 - BRONCHITIS &amp; ASTHMA W/O CC/MCC'</li><li>'207 - RESPIRATORY SYSTEM DIAGNOSIS W VENTILATOR SUPPORT 96+ HOURS'</li><li>'238 - MAJOR CARDIOVASC PROCEDURES W/O MCC'</li><li>'252 - OTHER VASCULAR PROCEDURES W MCC'</li><li>'253 - OTHER VASCULAR PROCEDURES W CC'</li><li>'208 - RESPIRATORY SYSTEM DIAGNOSIS W VENTILATOR SUPPORT &lt;96 HOURS'</li><li>'254 - OTHER VASCULAR PROCEDURES W/O CC/MCC'</li><li>'291 - HEART FAILURE &amp; SHOCK W MCC'</li><li>'243 - PERMANENT CARDIAC PACEMAKER IMPLANT W CC'</li><li>'244 - PERMANENT CARDIAC PACEMAKER IMPLANT W/O CC/MCC'</li><li>'246 - PERC CARDIOVASC PROC W DRUG-ELUTING STENT W MCC OR 4+ VESSELS/STENTS'</li><li>'247 - PERC CARDIOVASC PROC W DRUG-ELUTING STENT W/O MCC'</li><li>'249 - PERC CARDIOVASC PROC W NON-DRUG-ELUTING STENT W/O MCC'</li><li>'251 - PERC CARDIOVASC PROC W/O CORONARY ARTERY STENT W/O MCC'</li><li>'280 - ACUTE MYOCARDIAL INFARCTION, DISCHARGED ALIVE W MCC'</li><li>'292 - HEART FAILURE &amp; SHOCK W CC'</li><li>'281 - ACUTE MYOCARDIAL INFARCTION, DISCHARGED ALIVE W CC'</li><li>'282 - ACUTE MYOCARDIAL INFARCTION, DISCHARGED ALIVE W/O CC/MCC'</li><li>'286 - CIRCULATORY DISORDERS EXCEPT AMI, W CARD CATH W MCC'</li><li>'287 - CIRCULATORY DISORDERS EXCEPT AMI, W CARD CATH W/O MCC'</li><li>'293 - HEART FAILURE &amp; SHOCK W/O CC/MCC'</li><li>'300 - PERIPHERAL VASCULAR DISORDERS W CC'</li><li>'301 - PERIPHERAL VASCULAR DISORDERS W/O CC/MCC'</li><li>'303 - ATHEROSCLEROSIS W/O MCC'</li><li>'305 - HYPERTENSION W/O MCC'</li><li>'308 - CARDIAC ARRHYTHMIA &amp; CONDUCTION DISORDERS W MCC'</li><li>'312 - SYNCOPE &amp; COLLAPSE'</li><li>'309 - CARDIAC ARRHYTHMIA &amp; CONDUCTION DISORDERS W CC'</li><li>'310 - CARDIAC ARRHYTHMIA &amp; CONDUCTION DISORDERS W/O CC/MCC'</li><li>'313 - CHEST PAIN'</li><li>'314 - OTHER CIRCULATORY SYSTEM DIAGNOSES W MCC'</li><li>'315 - OTHER CIRCULATORY SYSTEM DIAGNOSES W CC'</li><li>'330 - MAJOR SMALL &amp; LARGE BOWEL PROCEDURES W CC'</li><li>'377 - G.I. HEMORRHAGE W MCC'</li><li>'329 - MAJOR SMALL &amp; LARGE BOWEL PROCEDURES W MCC'</li><li>'372 - MAJOR GASTROINTESTINAL DISORDERS &amp; PERITONEAL INFECTIONS W CC'</li><li>'378 - G.I. HEMORRHAGE W CC'</li><li>'379 - G.I. HEMORRHAGE W/O CC/MCC'</li><li>'389 - G.I. OBSTRUCTION W CC'</li><li>'390 - G.I. OBSTRUCTION W/O CC/MCC'</li><li>'391 - ESOPHAGITIS, GASTROENT &amp; MISC DIGEST DISORDERS W MCC'</li><li>'394 - OTHER DIGESTIVE SYSTEM DIAGNOSES W CC'</li><li>'439 - DISORDERS OF PANCREAS EXCEPT MALIGNANCY W CC'</li><li>'392 - ESOPHAGITIS, GASTROENT &amp; MISC DIGEST DISORDERS W/O MCC'</li><li>'460 - SPINAL FUSION EXCEPT CERVICAL W/O MCC'</li><li>'473 - CERVICAL SPINAL FUSION W/O CC/MCC'</li><li>'418 - LAPAROSCOPIC CHOLECYSTECTOMY W/O C.D.E. W CC'</li><li>'419 - LAPAROSCOPIC CHOLECYSTECTOMY W/O C.D.E. W/O CC/MCC'</li><li>'469 - MAJOR JOINT REPLACEMENT OR REATTACHMENT OF LOWER EXTREMITY W MCC'</li><li>'470 - MAJOR JOINT REPLACEMENT OR REATTACHMENT OF LOWER EXTREMITY W/O MCC'</li><li>'480 - HIP &amp; FEMUR PROCEDURES EXCEPT MAJOR JOINT W MCC'</li><li>'481 - HIP &amp; FEMUR PROCEDURES EXCEPT MAJOR JOINT W CC'</li><li>'536 - FRACTURES OF HIP &amp; PELVIS W/O MCC'</li><li>'482 - HIP &amp; FEMUR PROCEDURES EXCEPT MAJOR JOINT W/O CC/MCC'</li><li>'552 - MEDICAL BACK PROBLEMS W/O MCC'</li><li>'491 - BACK &amp; NECK PROC EXC SPINAL FUSION W/O CC/MCC'</li><li>'563 - FX, SPRN, STRN &amp; DISL EXCEPT FEMUR, HIP, PELVIS &amp; THIGH W/O MCC'</li><li>'602 - CELLULITIS W MCC'</li><li>'603 - CELLULITIS W/O MCC'</li><li>'638 - DIABETES W CC'</li><li>'640 - MISC DISORDERS OF NUTRITION,METABOLISM,FLUIDS/ELECTROLYTES W MCC'</li><li>'682 - RENAL FAILURE W MCC'</li><li>'641 - MISC DISORDERS OF NUTRITION,METABOLISM,FLUIDS/ELECTROLYTES W/O MCC'</li><li>'683 - RENAL FAILURE W CC'</li><li>'684 - RENAL FAILURE W/O CC/MCC'</li><li>'689 - KIDNEY &amp; URINARY TRACT INFECTIONS W MCC'</li><li>'690 - KIDNEY &amp; URINARY TRACT INFECTIONS W/O MCC'</li><li>'811 - RED BLOOD CELL DISORDERS W MCC'</li><li>'698 - OTHER KIDNEY &amp; URINARY TRACT DIAGNOSES W MCC'</li><li>'699 - OTHER KIDNEY &amp; URINARY TRACT DIAGNOSES W CC'</li><li>'812 - RED BLOOD CELL DISORDERS W/O MCC'</li><li>'853 - INFECTIOUS &amp; PARASITIC DISEASES W O.R. PROCEDURE W MCC'</li><li>'885 - PSYCHOSES'</li><li>'870 - SEPTICEMIA OR SEVERE SEPSIS W MV 96+ HOURS'</li><li>'871 - SEPTICEMIA OR SEVERE SEPSIS W/O MV 96+ HOURS W MCC'</li><li>'872 - SEPTICEMIA OR SEVERE SEPSIS W/O MV 96+ HOURS W/O MCC'</li><li>'897 - ALCOHOL/DRUG ABUSE OR DEPENDENCE W/O REHABILITATION THERAPY W/O MCC'</li><li>'948 - SIGNS &amp; SYMPTOMS W/O MCC'</li><li>'917 - POISONING &amp; TOXIC EFFECTS OF DRUGS W MCC'</li><li>'918 - POISONING &amp; TOXIC EFFECTS OF DRUGS W/O MCC'</li></ol>\n"
            ],
            "text/markdown": "1. '039 - EXTRACRANIAL PROCEDURES W/O CC/MCC'\n2. '057 - DEGENERATIVE NERVOUS SYSTEM DISORDERS W/O MCC'\n3. '069 - TRANSIENT ISCHEMIA'\n4. '064 - INTRACRANIAL HEMORRHAGE OR CEREBRAL INFARCTION W MCC'\n5. '065 - INTRACRANIAL HEMORRHAGE OR CEREBRAL INFARCTION W CC'\n6. '066 - INTRACRANIAL HEMORRHAGE OR CEREBRAL INFARCTION W/O CC/MCC'\n7. '074 - CRANIAL &amp; PERIPHERAL NERVE DISORDERS W/O MCC'\n8. '101 - SEIZURES W/O MCC'\n9. '149 - DYSEQUILIBRIUM'\n10. '176 - PULMONARY EMBOLISM W/O MCC'\n11. '177 - RESPIRATORY INFECTIONS &amp; INFLAMMATIONS W MCC'\n12. '189 - PULMONARY EDEMA &amp; RESPIRATORY FAILURE'\n13. '178 - RESPIRATORY INFECTIONS &amp; INFLAMMATIONS W CC'\n14. '190 - CHRONIC OBSTRUCTIVE PULMONARY DISEASE W MCC'\n15. '191 - CHRONIC OBSTRUCTIVE PULMONARY DISEASE W CC'\n16. '193 - SIMPLE PNEUMONIA &amp; PLEURISY W MCC'\n17. '194 - SIMPLE PNEUMONIA &amp; PLEURISY W CC'\n18. '192 - CHRONIC OBSTRUCTIVE PULMONARY DISEASE W/O CC/MCC'\n19. '195 - SIMPLE PNEUMONIA &amp; PLEURISY W/O CC/MCC'\n20. '202 - BRONCHITIS &amp; ASTHMA W CC/MCC'\n21. '203 - BRONCHITIS &amp; ASTHMA W/O CC/MCC'\n22. '207 - RESPIRATORY SYSTEM DIAGNOSIS W VENTILATOR SUPPORT 96+ HOURS'\n23. '238 - MAJOR CARDIOVASC PROCEDURES W/O MCC'\n24. '252 - OTHER VASCULAR PROCEDURES W MCC'\n25. '253 - OTHER VASCULAR PROCEDURES W CC'\n26. '208 - RESPIRATORY SYSTEM DIAGNOSIS W VENTILATOR SUPPORT &lt;96 HOURS'\n27. '254 - OTHER VASCULAR PROCEDURES W/O CC/MCC'\n28. '291 - HEART FAILURE &amp; SHOCK W MCC'\n29. '243 - PERMANENT CARDIAC PACEMAKER IMPLANT W CC'\n30. '244 - PERMANENT CARDIAC PACEMAKER IMPLANT W/O CC/MCC'\n31. '246 - PERC CARDIOVASC PROC W DRUG-ELUTING STENT W MCC OR 4+ VESSELS/STENTS'\n32. '247 - PERC CARDIOVASC PROC W DRUG-ELUTING STENT W/O MCC'\n33. '249 - PERC CARDIOVASC PROC W NON-DRUG-ELUTING STENT W/O MCC'\n34. '251 - PERC CARDIOVASC PROC W/O CORONARY ARTERY STENT W/O MCC'\n35. '280 - ACUTE MYOCARDIAL INFARCTION, DISCHARGED ALIVE W MCC'\n36. '292 - HEART FAILURE &amp; SHOCK W CC'\n37. '281 - ACUTE MYOCARDIAL INFARCTION, DISCHARGED ALIVE W CC'\n38. '282 - ACUTE MYOCARDIAL INFARCTION, DISCHARGED ALIVE W/O CC/MCC'\n39. '286 - CIRCULATORY DISORDERS EXCEPT AMI, W CARD CATH W MCC'\n40. '287 - CIRCULATORY DISORDERS EXCEPT AMI, W CARD CATH W/O MCC'\n41. '293 - HEART FAILURE &amp; SHOCK W/O CC/MCC'\n42. '300 - PERIPHERAL VASCULAR DISORDERS W CC'\n43. '301 - PERIPHERAL VASCULAR DISORDERS W/O CC/MCC'\n44. '303 - ATHEROSCLEROSIS W/O MCC'\n45. '305 - HYPERTENSION W/O MCC'\n46. '308 - CARDIAC ARRHYTHMIA &amp; CONDUCTION DISORDERS W MCC'\n47. '312 - SYNCOPE &amp; COLLAPSE'\n48. '309 - CARDIAC ARRHYTHMIA &amp; CONDUCTION DISORDERS W CC'\n49. '310 - CARDIAC ARRHYTHMIA &amp; CONDUCTION DISORDERS W/O CC/MCC'\n50. '313 - CHEST PAIN'\n51. '314 - OTHER CIRCULATORY SYSTEM DIAGNOSES W MCC'\n52. '315 - OTHER CIRCULATORY SYSTEM DIAGNOSES W CC'\n53. '330 - MAJOR SMALL &amp; LARGE BOWEL PROCEDURES W CC'\n54. '377 - G.I. HEMORRHAGE W MCC'\n55. '329 - MAJOR SMALL &amp; LARGE BOWEL PROCEDURES W MCC'\n56. '372 - MAJOR GASTROINTESTINAL DISORDERS &amp; PERITONEAL INFECTIONS W CC'\n57. '378 - G.I. HEMORRHAGE W CC'\n58. '379 - G.I. HEMORRHAGE W/O CC/MCC'\n59. '389 - G.I. OBSTRUCTION W CC'\n60. '390 - G.I. OBSTRUCTION W/O CC/MCC'\n61. '391 - ESOPHAGITIS, GASTROENT &amp; MISC DIGEST DISORDERS W MCC'\n62. '394 - OTHER DIGESTIVE SYSTEM DIAGNOSES W CC'\n63. '439 - DISORDERS OF PANCREAS EXCEPT MALIGNANCY W CC'\n64. '392 - ESOPHAGITIS, GASTROENT &amp; MISC DIGEST DISORDERS W/O MCC'\n65. '460 - SPINAL FUSION EXCEPT CERVICAL W/O MCC'\n66. '473 - CERVICAL SPINAL FUSION W/O CC/MCC'\n67. '418 - LAPAROSCOPIC CHOLECYSTECTOMY W/O C.D.E. W CC'\n68. '419 - LAPAROSCOPIC CHOLECYSTECTOMY W/O C.D.E. W/O CC/MCC'\n69. '469 - MAJOR JOINT REPLACEMENT OR REATTACHMENT OF LOWER EXTREMITY W MCC'\n70. '470 - MAJOR JOINT REPLACEMENT OR REATTACHMENT OF LOWER EXTREMITY W/O MCC'\n71. '480 - HIP &amp; FEMUR PROCEDURES EXCEPT MAJOR JOINT W MCC'\n72. '481 - HIP &amp; FEMUR PROCEDURES EXCEPT MAJOR JOINT W CC'\n73. '536 - FRACTURES OF HIP &amp; PELVIS W/O MCC'\n74. '482 - HIP &amp; FEMUR PROCEDURES EXCEPT MAJOR JOINT W/O CC/MCC'\n75. '552 - MEDICAL BACK PROBLEMS W/O MCC'\n76. '491 - BACK &amp; NECK PROC EXC SPINAL FUSION W/O CC/MCC'\n77. '563 - FX, SPRN, STRN &amp; DISL EXCEPT FEMUR, HIP, PELVIS &amp; THIGH W/O MCC'\n78. '602 - CELLULITIS W MCC'\n79. '603 - CELLULITIS W/O MCC'\n80. '638 - DIABETES W CC'\n81. '640 - MISC DISORDERS OF NUTRITION,METABOLISM,FLUIDS/ELECTROLYTES W MCC'\n82. '682 - RENAL FAILURE W MCC'\n83. '641 - MISC DISORDERS OF NUTRITION,METABOLISM,FLUIDS/ELECTROLYTES W/O MCC'\n84. '683 - RENAL FAILURE W CC'\n85. '684 - RENAL FAILURE W/O CC/MCC'\n86. '689 - KIDNEY &amp; URINARY TRACT INFECTIONS W MCC'\n87. '690 - KIDNEY &amp; URINARY TRACT INFECTIONS W/O MCC'\n88. '811 - RED BLOOD CELL DISORDERS W MCC'\n89. '698 - OTHER KIDNEY &amp; URINARY TRACT DIAGNOSES W MCC'\n90. '699 - OTHER KIDNEY &amp; URINARY TRACT DIAGNOSES W CC'\n91. '812 - RED BLOOD CELL DISORDERS W/O MCC'\n92. '853 - INFECTIOUS &amp; PARASITIC DISEASES W O.R. PROCEDURE W MCC'\n93. '885 - PSYCHOSES'\n94. '870 - SEPTICEMIA OR SEVERE SEPSIS W MV 96+ HOURS'\n95. '871 - SEPTICEMIA OR SEVERE SEPSIS W/O MV 96+ HOURS W MCC'\n96. '872 - SEPTICEMIA OR SEVERE SEPSIS W/O MV 96+ HOURS W/O MCC'\n97. '897 - ALCOHOL/DRUG ABUSE OR DEPENDENCE W/O REHABILITATION THERAPY W/O MCC'\n98. '948 - SIGNS &amp; SYMPTOMS W/O MCC'\n99. '917 - POISONING &amp; TOXIC EFFECTS OF DRUGS W MCC'\n100. '918 - POISONING &amp; TOXIC EFFECTS OF DRUGS W/O MCC'\n\n\n",
            "text/latex": "\\begin{enumerate*}\n\\item '039 - EXTRACRANIAL PROCEDURES W/O CC/MCC'\n\\item '057 - DEGENERATIVE NERVOUS SYSTEM DISORDERS W/O MCC'\n\\item '069 - TRANSIENT ISCHEMIA'\n\\item '064 - INTRACRANIAL HEMORRHAGE OR CEREBRAL INFARCTION W MCC'\n\\item '065 - INTRACRANIAL HEMORRHAGE OR CEREBRAL INFARCTION W CC'\n\\item '066 - INTRACRANIAL HEMORRHAGE OR CEREBRAL INFARCTION W/O CC/MCC'\n\\item '074 - CRANIAL \\& PERIPHERAL NERVE DISORDERS W/O MCC'\n\\item '101 - SEIZURES W/O MCC'\n\\item '149 - DYSEQUILIBRIUM'\n\\item '176 - PULMONARY EMBOLISM W/O MCC'\n\\item '177 - RESPIRATORY INFECTIONS \\& INFLAMMATIONS W MCC'\n\\item '189 - PULMONARY EDEMA \\& RESPIRATORY FAILURE'\n\\item '178 - RESPIRATORY INFECTIONS \\& INFLAMMATIONS W CC'\n\\item '190 - CHRONIC OBSTRUCTIVE PULMONARY DISEASE W MCC'\n\\item '191 - CHRONIC OBSTRUCTIVE PULMONARY DISEASE W CC'\n\\item '193 - SIMPLE PNEUMONIA \\& PLEURISY W MCC'\n\\item '194 - SIMPLE PNEUMONIA \\& PLEURISY W CC'\n\\item '192 - CHRONIC OBSTRUCTIVE PULMONARY DISEASE W/O CC/MCC'\n\\item '195 - SIMPLE PNEUMONIA \\& PLEURISY W/O CC/MCC'\n\\item '202 - BRONCHITIS \\& ASTHMA W CC/MCC'\n\\item '203 - BRONCHITIS \\& ASTHMA W/O CC/MCC'\n\\item '207 - RESPIRATORY SYSTEM DIAGNOSIS W VENTILATOR SUPPORT 96+ HOURS'\n\\item '238 - MAJOR CARDIOVASC PROCEDURES W/O MCC'\n\\item '252 - OTHER VASCULAR PROCEDURES W MCC'\n\\item '253 - OTHER VASCULAR PROCEDURES W CC'\n\\item '208 - RESPIRATORY SYSTEM DIAGNOSIS W VENTILATOR SUPPORT <96 HOURS'\n\\item '254 - OTHER VASCULAR PROCEDURES W/O CC/MCC'\n\\item '291 - HEART FAILURE \\& SHOCK W MCC'\n\\item '243 - PERMANENT CARDIAC PACEMAKER IMPLANT W CC'\n\\item '244 - PERMANENT CARDIAC PACEMAKER IMPLANT W/O CC/MCC'\n\\item '246 - PERC CARDIOVASC PROC W DRUG-ELUTING STENT W MCC OR 4+ VESSELS/STENTS'\n\\item '247 - PERC CARDIOVASC PROC W DRUG-ELUTING STENT W/O MCC'\n\\item '249 - PERC CARDIOVASC PROC W NON-DRUG-ELUTING STENT W/O MCC'\n\\item '251 - PERC CARDIOVASC PROC W/O CORONARY ARTERY STENT W/O MCC'\n\\item '280 - ACUTE MYOCARDIAL INFARCTION, DISCHARGED ALIVE W MCC'\n\\item '292 - HEART FAILURE \\& SHOCK W CC'\n\\item '281 - ACUTE MYOCARDIAL INFARCTION, DISCHARGED ALIVE W CC'\n\\item '282 - ACUTE MYOCARDIAL INFARCTION, DISCHARGED ALIVE W/O CC/MCC'\n\\item '286 - CIRCULATORY DISORDERS EXCEPT AMI, W CARD CATH W MCC'\n\\item '287 - CIRCULATORY DISORDERS EXCEPT AMI, W CARD CATH W/O MCC'\n\\item '293 - HEART FAILURE \\& SHOCK W/O CC/MCC'\n\\item '300 - PERIPHERAL VASCULAR DISORDERS W CC'\n\\item '301 - PERIPHERAL VASCULAR DISORDERS W/O CC/MCC'\n\\item '303 - ATHEROSCLEROSIS W/O MCC'\n\\item '305 - HYPERTENSION W/O MCC'\n\\item '308 - CARDIAC ARRHYTHMIA \\& CONDUCTION DISORDERS W MCC'\n\\item '312 - SYNCOPE \\& COLLAPSE'\n\\item '309 - CARDIAC ARRHYTHMIA \\& CONDUCTION DISORDERS W CC'\n\\item '310 - CARDIAC ARRHYTHMIA \\& CONDUCTION DISORDERS W/O CC/MCC'\n\\item '313 - CHEST PAIN'\n\\item '314 - OTHER CIRCULATORY SYSTEM DIAGNOSES W MCC'\n\\item '315 - OTHER CIRCULATORY SYSTEM DIAGNOSES W CC'\n\\item '330 - MAJOR SMALL \\& LARGE BOWEL PROCEDURES W CC'\n\\item '377 - G.I. HEMORRHAGE W MCC'\n\\item '329 - MAJOR SMALL \\& LARGE BOWEL PROCEDURES W MCC'\n\\item '372 - MAJOR GASTROINTESTINAL DISORDERS \\& PERITONEAL INFECTIONS W CC'\n\\item '378 - G.I. HEMORRHAGE W CC'\n\\item '379 - G.I. HEMORRHAGE W/O CC/MCC'\n\\item '389 - G.I. OBSTRUCTION W CC'\n\\item '390 - G.I. OBSTRUCTION W/O CC/MCC'\n\\item '391 - ESOPHAGITIS, GASTROENT \\& MISC DIGEST DISORDERS W MCC'\n\\item '394 - OTHER DIGESTIVE SYSTEM DIAGNOSES W CC'\n\\item '439 - DISORDERS OF PANCREAS EXCEPT MALIGNANCY W CC'\n\\item '392 - ESOPHAGITIS, GASTROENT \\& MISC DIGEST DISORDERS W/O MCC'\n\\item '460 - SPINAL FUSION EXCEPT CERVICAL W/O MCC'\n\\item '473 - CERVICAL SPINAL FUSION W/O CC/MCC'\n\\item '418 - LAPAROSCOPIC CHOLECYSTECTOMY W/O C.D.E. W CC'\n\\item '419 - LAPAROSCOPIC CHOLECYSTECTOMY W/O C.D.E. W/O CC/MCC'\n\\item '469 - MAJOR JOINT REPLACEMENT OR REATTACHMENT OF LOWER EXTREMITY W MCC'\n\\item '470 - MAJOR JOINT REPLACEMENT OR REATTACHMENT OF LOWER EXTREMITY W/O MCC'\n\\item '480 - HIP \\& FEMUR PROCEDURES EXCEPT MAJOR JOINT W MCC'\n\\item '481 - HIP \\& FEMUR PROCEDURES EXCEPT MAJOR JOINT W CC'\n\\item '536 - FRACTURES OF HIP \\& PELVIS W/O MCC'\n\\item '482 - HIP \\& FEMUR PROCEDURES EXCEPT MAJOR JOINT W/O CC/MCC'\n\\item '552 - MEDICAL BACK PROBLEMS W/O MCC'\n\\item '491 - BACK \\& NECK PROC EXC SPINAL FUSION W/O CC/MCC'\n\\item '563 - FX, SPRN, STRN \\& DISL EXCEPT FEMUR, HIP, PELVIS \\& THIGH W/O MCC'\n\\item '602 - CELLULITIS W MCC'\n\\item '603 - CELLULITIS W/O MCC'\n\\item '638 - DIABETES W CC'\n\\item '640 - MISC DISORDERS OF NUTRITION,METABOLISM,FLUIDS/ELECTROLYTES W MCC'\n\\item '682 - RENAL FAILURE W MCC'\n\\item '641 - MISC DISORDERS OF NUTRITION,METABOLISM,FLUIDS/ELECTROLYTES W/O MCC'\n\\item '683 - RENAL FAILURE W CC'\n\\item '684 - RENAL FAILURE W/O CC/MCC'\n\\item '689 - KIDNEY \\& URINARY TRACT INFECTIONS W MCC'\n\\item '690 - KIDNEY \\& URINARY TRACT INFECTIONS W/O MCC'\n\\item '811 - RED BLOOD CELL DISORDERS W MCC'\n\\item '698 - OTHER KIDNEY \\& URINARY TRACT DIAGNOSES W MCC'\n\\item '699 - OTHER KIDNEY \\& URINARY TRACT DIAGNOSES W CC'\n\\item '812 - RED BLOOD CELL DISORDERS W/O MCC'\n\\item '853 - INFECTIOUS \\& PARASITIC DISEASES W O.R. PROCEDURE W MCC'\n\\item '885 - PSYCHOSES'\n\\item '870 - SEPTICEMIA OR SEVERE SEPSIS W MV 96+ HOURS'\n\\item '871 - SEPTICEMIA OR SEVERE SEPSIS W/O MV 96+ HOURS W MCC'\n\\item '872 - SEPTICEMIA OR SEVERE SEPSIS W/O MV 96+ HOURS W/O MCC'\n\\item '897 - ALCOHOL/DRUG ABUSE OR DEPENDENCE W/O REHABILITATION THERAPY W/O MCC'\n\\item '948 - SIGNS \\& SYMPTOMS W/O MCC'\n\\item '917 - POISONING \\& TOXIC EFFECTS OF DRUGS W MCC'\n\\item '918 - POISONING \\& TOXIC EFFECTS OF DRUGS W/O MCC'\n\\end{enumerate*}\n",
            "text/plain": [
              "  [1] \"039 - EXTRACRANIAL PROCEDURES W/O CC/MCC\"                                  \n",
              "  [2] \"057 - DEGENERATIVE NERVOUS SYSTEM DISORDERS W/O MCC\"                       \n",
              "  [3] \"069 - TRANSIENT ISCHEMIA\"                                                  \n",
              "  [4] \"064 - INTRACRANIAL HEMORRHAGE OR CEREBRAL INFARCTION W MCC\"                \n",
              "  [5] \"065 - INTRACRANIAL HEMORRHAGE OR CEREBRAL INFARCTION W CC\"                 \n",
              "  [6] \"066 - INTRACRANIAL HEMORRHAGE OR CEREBRAL INFARCTION W/O CC/MCC\"           \n",
              "  [7] \"074 - CRANIAL & PERIPHERAL NERVE DISORDERS W/O MCC\"                        \n",
              "  [8] \"101 - SEIZURES W/O MCC\"                                                    \n",
              "  [9] \"149 - DYSEQUILIBRIUM\"                                                      \n",
              " [10] \"176 - PULMONARY EMBOLISM W/O MCC\"                                          \n",
              " [11] \"177 - RESPIRATORY INFECTIONS & INFLAMMATIONS W MCC\"                        \n",
              " [12] \"189 - PULMONARY EDEMA & RESPIRATORY FAILURE\"                               \n",
              " [13] \"178 - RESPIRATORY INFECTIONS & INFLAMMATIONS W CC\"                         \n",
              " [14] \"190 - CHRONIC OBSTRUCTIVE PULMONARY DISEASE W MCC\"                         \n",
              " [15] \"191 - CHRONIC OBSTRUCTIVE PULMONARY DISEASE W CC\"                          \n",
              " [16] \"193 - SIMPLE PNEUMONIA & PLEURISY W MCC\"                                   \n",
              " [17] \"194 - SIMPLE PNEUMONIA & PLEURISY W CC\"                                    \n",
              " [18] \"192 - CHRONIC OBSTRUCTIVE PULMONARY DISEASE W/O CC/MCC\"                    \n",
              " [19] \"195 - SIMPLE PNEUMONIA & PLEURISY W/O CC/MCC\"                              \n",
              " [20] \"202 - BRONCHITIS & ASTHMA W CC/MCC\"                                        \n",
              " [21] \"203 - BRONCHITIS & ASTHMA W/O CC/MCC\"                                      \n",
              " [22] \"207 - RESPIRATORY SYSTEM DIAGNOSIS W VENTILATOR SUPPORT 96+ HOURS\"         \n",
              " [23] \"238 - MAJOR CARDIOVASC PROCEDURES W/O MCC\"                                 \n",
              " [24] \"252 - OTHER VASCULAR PROCEDURES W MCC\"                                     \n",
              " [25] \"253 - OTHER VASCULAR PROCEDURES W CC\"                                      \n",
              " [26] \"208 - RESPIRATORY SYSTEM DIAGNOSIS W VENTILATOR SUPPORT <96 HOURS\"         \n",
              " [27] \"254 - OTHER VASCULAR PROCEDURES W/O CC/MCC\"                                \n",
              " [28] \"291 - HEART FAILURE & SHOCK W MCC\"                                         \n",
              " [29] \"243 - PERMANENT CARDIAC PACEMAKER IMPLANT W CC\"                            \n",
              " [30] \"244 - PERMANENT CARDIAC PACEMAKER IMPLANT W/O CC/MCC\"                      \n",
              " [31] \"246 - PERC CARDIOVASC PROC W DRUG-ELUTING STENT W MCC OR 4+ VESSELS/STENTS\"\n",
              " [32] \"247 - PERC CARDIOVASC PROC W DRUG-ELUTING STENT W/O MCC\"                   \n",
              " [33] \"249 - PERC CARDIOVASC PROC W NON-DRUG-ELUTING STENT W/O MCC\"               \n",
              " [34] \"251 - PERC CARDIOVASC PROC W/O CORONARY ARTERY STENT W/O MCC\"              \n",
              " [35] \"280 - ACUTE MYOCARDIAL INFARCTION, DISCHARGED ALIVE W MCC\"                 \n",
              " [36] \"292 - HEART FAILURE & SHOCK W CC\"                                          \n",
              " [37] \"281 - ACUTE MYOCARDIAL INFARCTION, DISCHARGED ALIVE W CC\"                  \n",
              " [38] \"282 - ACUTE MYOCARDIAL INFARCTION, DISCHARGED ALIVE W/O CC/MCC\"            \n",
              " [39] \"286 - CIRCULATORY DISORDERS EXCEPT AMI, W CARD CATH W MCC\"                 \n",
              " [40] \"287 - CIRCULATORY DISORDERS EXCEPT AMI, W CARD CATH W/O MCC\"               \n",
              " [41] \"293 - HEART FAILURE & SHOCK W/O CC/MCC\"                                    \n",
              " [42] \"300 - PERIPHERAL VASCULAR DISORDERS W CC\"                                  \n",
              " [43] \"301 - PERIPHERAL VASCULAR DISORDERS W/O CC/MCC\"                            \n",
              " [44] \"303 - ATHEROSCLEROSIS W/O MCC\"                                             \n",
              " [45] \"305 - HYPERTENSION W/O MCC\"                                                \n",
              " [46] \"308 - CARDIAC ARRHYTHMIA & CONDUCTION DISORDERS W MCC\"                     \n",
              " [47] \"312 - SYNCOPE & COLLAPSE\"                                                  \n",
              " [48] \"309 - CARDIAC ARRHYTHMIA & CONDUCTION DISORDERS W CC\"                      \n",
              " [49] \"310 - CARDIAC ARRHYTHMIA & CONDUCTION DISORDERS W/O CC/MCC\"                \n",
              " [50] \"313 - CHEST PAIN\"                                                          \n",
              " [51] \"314 - OTHER CIRCULATORY SYSTEM DIAGNOSES W MCC\"                            \n",
              " [52] \"315 - OTHER CIRCULATORY SYSTEM DIAGNOSES W CC\"                             \n",
              " [53] \"330 - MAJOR SMALL & LARGE BOWEL PROCEDURES W CC\"                           \n",
              " [54] \"377 - G.I. HEMORRHAGE W MCC\"                                               \n",
              " [55] \"329 - MAJOR SMALL & LARGE BOWEL PROCEDURES W MCC\"                          \n",
              " [56] \"372 - MAJOR GASTROINTESTINAL DISORDERS & PERITONEAL INFECTIONS W CC\"       \n",
              " [57] \"378 - G.I. HEMORRHAGE W CC\"                                                \n",
              " [58] \"379 - G.I. HEMORRHAGE W/O CC/MCC\"                                          \n",
              " [59] \"389 - G.I. OBSTRUCTION W CC\"                                               \n",
              " [60] \"390 - G.I. OBSTRUCTION W/O CC/MCC\"                                         \n",
              " [61] \"391 - ESOPHAGITIS, GASTROENT & MISC DIGEST DISORDERS W MCC\"                \n",
              " [62] \"394 - OTHER DIGESTIVE SYSTEM DIAGNOSES W CC\"                               \n",
              " [63] \"439 - DISORDERS OF PANCREAS EXCEPT MALIGNANCY W CC\"                        \n",
              " [64] \"392 - ESOPHAGITIS, GASTROENT & MISC DIGEST DISORDERS W/O MCC\"              \n",
              " [65] \"460 - SPINAL FUSION EXCEPT CERVICAL W/O MCC\"                               \n",
              " [66] \"473 - CERVICAL SPINAL FUSION W/O CC/MCC\"                                   \n",
              " [67] \"418 - LAPAROSCOPIC CHOLECYSTECTOMY W/O C.D.E. W CC\"                        \n",
              " [68] \"419 - LAPAROSCOPIC CHOLECYSTECTOMY W/O C.D.E. W/O CC/MCC\"                  \n",
              " [69] \"469 - MAJOR JOINT REPLACEMENT OR REATTACHMENT OF LOWER EXTREMITY W MCC\"    \n",
              " [70] \"470 - MAJOR JOINT REPLACEMENT OR REATTACHMENT OF LOWER EXTREMITY W/O MCC\"  \n",
              " [71] \"480 - HIP & FEMUR PROCEDURES EXCEPT MAJOR JOINT W MCC\"                     \n",
              " [72] \"481 - HIP & FEMUR PROCEDURES EXCEPT MAJOR JOINT W CC\"                      \n",
              " [73] \"536 - FRACTURES OF HIP & PELVIS W/O MCC\"                                   \n",
              " [74] \"482 - HIP & FEMUR PROCEDURES EXCEPT MAJOR JOINT W/O CC/MCC\"                \n",
              " [75] \"552 - MEDICAL BACK PROBLEMS W/O MCC\"                                       \n",
              " [76] \"491 - BACK & NECK PROC EXC SPINAL FUSION W/O CC/MCC\"                       \n",
              " [77] \"563 - FX, SPRN, STRN & DISL EXCEPT FEMUR, HIP, PELVIS & THIGH W/O MCC\"     \n",
              " [78] \"602 - CELLULITIS W MCC\"                                                    \n",
              " [79] \"603 - CELLULITIS W/O MCC\"                                                  \n",
              " [80] \"638 - DIABETES W CC\"                                                       \n",
              " [81] \"640 - MISC DISORDERS OF NUTRITION,METABOLISM,FLUIDS/ELECTROLYTES W MCC\"    \n",
              " [82] \"682 - RENAL FAILURE W MCC\"                                                 \n",
              " [83] \"641 - MISC DISORDERS OF NUTRITION,METABOLISM,FLUIDS/ELECTROLYTES W/O MCC\"  \n",
              " [84] \"683 - RENAL FAILURE W CC\"                                                  \n",
              " [85] \"684 - RENAL FAILURE W/O CC/MCC\"                                            \n",
              " [86] \"689 - KIDNEY & URINARY TRACT INFECTIONS W MCC\"                             \n",
              " [87] \"690 - KIDNEY & URINARY TRACT INFECTIONS W/O MCC\"                           \n",
              " [88] \"811 - RED BLOOD CELL DISORDERS W MCC\"                                      \n",
              " [89] \"698 - OTHER KIDNEY & URINARY TRACT DIAGNOSES W MCC\"                        \n",
              " [90] \"699 - OTHER KIDNEY & URINARY TRACT DIAGNOSES W CC\"                         \n",
              " [91] \"812 - RED BLOOD CELL DISORDERS W/O MCC\"                                    \n",
              " [92] \"853 - INFECTIOUS & PARASITIC DISEASES W O.R. PROCEDURE W MCC\"              \n",
              " [93] \"885 - PSYCHOSES\"                                                           \n",
              " [94] \"870 - SEPTICEMIA OR SEVERE SEPSIS W MV 96+ HOURS\"                          \n",
              " [95] \"871 - SEPTICEMIA OR SEVERE SEPSIS W/O MV 96+ HOURS W MCC\"                  \n",
              " [96] \"872 - SEPTICEMIA OR SEVERE SEPSIS W/O MV 96+ HOURS W/O MCC\"                \n",
              " [97] \"897 - ALCOHOL/DRUG ABUSE OR DEPENDENCE W/O REHABILITATION THERAPY W/O MCC\" \n",
              " [98] \"948 - SIGNS & SYMPTOMS W/O MCC\"                                            \n",
              " [99] \"917 - POISONING & TOXIC EFFECTS OF DRUGS W MCC\"                            \n",
              "[100] \"918 - POISONING & TOXIC EFFECTS OF DRUGS W/O MCC\"                          "
            ]
          },
          "metadata": {}
        }
      ]
    },
    {
      "cell_type": "code",
      "source": [
        "df_seperate<-separate(df,DRG,c(\"DRGcode\",\"DRGdescription\"),\"-\")"
      ],
      "metadata": {
        "colab": {
          "base_uri": "https://localhost:8080/"
        },
        "id": "nE3JMy7cs8Dh",
        "outputId": "b644fcca-4c03-4968-d8c0-4f046d4c324d"
      },
      "execution_count": 56,
      "outputs": [
        {
          "output_type": "stream",
          "name": "stderr",
          "text": [
            "Warning message:\n",
            "“\u001b[1m\u001b[22mExpected 2 pieces. Additional pieces discarded in 3280 rows [45894, 45895,\n",
            "45896, 45897, 45898, 45899, 45900, 45901, 45902, 45903, 45904, 45905, 45906,\n",
            "45907, 45908, 45909, 45910, 45911, 45912, 45913, ...].”\n"
          ]
        }
      ]
    },
    {
      "cell_type": "code",
      "source": [
        "head(df_seperate,5)"
      ],
      "metadata": {
        "colab": {
          "base_uri": "https://localhost:8080/",
          "height": 428
        },
        "id": "8nfL1vTytt4y",
        "outputId": "57b6c700-1a3a-42a4-8fd4-0b1c0d4debcb"
      },
      "execution_count": 58,
      "outputs": [
        {
          "output_type": "display_data",
          "data": {
            "text/html": [
              "<table class=\"dataframe\">\n",
              "<caption>A tibble: 5 × 13</caption>\n",
              "<thead>\n",
              "\t<tr><th scope=col>DRGcode</th><th scope=col>DRGdescription</th><th scope=col>ProviderID</th><th scope=col>Name</th><th scope=col>Address</th><th scope=col>City</th><th scope=col>State</th><th scope=col>ZIP</th><th scope=col>Region</th><th scope=col>Discharges</th><th scope=col>AverageCharges</th><th scope=col>AverageTotalPayments</th><th scope=col>AverageMedicarePayments</th></tr>\n",
              "\t<tr><th scope=col>&lt;chr&gt;</th><th scope=col>&lt;chr&gt;</th><th scope=col>&lt;chr&gt;</th><th scope=col>&lt;chr&gt;</th><th scope=col>&lt;chr&gt;</th><th scope=col>&lt;chr&gt;</th><th scope=col>&lt;chr&gt;</th><th scope=col>&lt;chr&gt;</th><th scope=col>&lt;chr&gt;</th><th scope=col>&lt;int&gt;</th><th scope=col>&lt;dbl&gt;</th><th scope=col>&lt;dbl&gt;</th><th scope=col>&lt;dbl&gt;</th></tr>\n",
              "</thead>\n",
              "<tbody>\n",
              "\t<tr><td>039 </td><td> EXTRACRANIAL PROCEDURES W/O CC/MCC</td><td>10001</td><td>SOUTHEAST ALABAMA MEDICAL CENTER</td><td>1108 ROSS CLARK CIRCLE    </td><td>DOTHAN    </td><td>AL</td><td>36301</td><td>AL - Dothan    </td><td>91</td><td>32963.07</td><td>5777.24</td><td>4763.73</td></tr>\n",
              "\t<tr><td>039 </td><td> EXTRACRANIAL PROCEDURES W/O CC/MCC</td><td>10005</td><td>MARSHALL MEDICAL CENTER SOUTH   </td><td>2505 U S HIGHWAY 431 NORTH</td><td>BOAZ      </td><td>AL</td><td>35957</td><td>AL - Birmingham</td><td>14</td><td>15131.85</td><td>5787.57</td><td>4976.71</td></tr>\n",
              "\t<tr><td>039 </td><td> EXTRACRANIAL PROCEDURES W/O CC/MCC</td><td>10006</td><td>ELIZA COFFEE MEMORIAL HOSPITAL  </td><td>205 MARENGO STREET        </td><td>FLORENCE  </td><td>AL</td><td>35631</td><td>AL - Birmingham</td><td>24</td><td>37560.37</td><td>5434.95</td><td>4453.79</td></tr>\n",
              "\t<tr><td>039 </td><td> EXTRACRANIAL PROCEDURES W/O CC/MCC</td><td>10011</td><td>ST VINCENT'S EAST               </td><td>50 MEDICAL PARK EAST DRIVE</td><td>BIRMINGHAM</td><td>AL</td><td>35235</td><td>AL - Birmingham</td><td>25</td><td>13998.28</td><td>5417.56</td><td>4129.16</td></tr>\n",
              "\t<tr><td>039 </td><td> EXTRACRANIAL PROCEDURES W/O CC/MCC</td><td>10016</td><td>SHELBY BAPTIST MEDICAL CENTER   </td><td>1000 FIRST STREET NORTH   </td><td>ALABASTER </td><td>AL</td><td>35007</td><td>AL - Birmingham</td><td>18</td><td>31633.27</td><td>5658.33</td><td>4851.44</td></tr>\n",
              "</tbody>\n",
              "</table>\n"
            ],
            "text/markdown": "\nA tibble: 5 × 13\n\n| DRGcode &lt;chr&gt; | DRGdescription &lt;chr&gt; | ProviderID &lt;chr&gt; | Name &lt;chr&gt; | Address &lt;chr&gt; | City &lt;chr&gt; | State &lt;chr&gt; | ZIP &lt;chr&gt; | Region &lt;chr&gt; | Discharges &lt;int&gt; | AverageCharges &lt;dbl&gt; | AverageTotalPayments &lt;dbl&gt; | AverageMedicarePayments &lt;dbl&gt; |\n|---|---|---|---|---|---|---|---|---|---|---|---|---|\n| 039  |  EXTRACRANIAL PROCEDURES W/O CC/MCC | 10001 | SOUTHEAST ALABAMA MEDICAL CENTER | 1108 ROSS CLARK CIRCLE     | DOTHAN     | AL | 36301 | AL - Dothan     | 91 | 32963.07 | 5777.24 | 4763.73 |\n| 039  |  EXTRACRANIAL PROCEDURES W/O CC/MCC | 10005 | MARSHALL MEDICAL CENTER SOUTH    | 2505 U S HIGHWAY 431 NORTH | BOAZ       | AL | 35957 | AL - Birmingham | 14 | 15131.85 | 5787.57 | 4976.71 |\n| 039  |  EXTRACRANIAL PROCEDURES W/O CC/MCC | 10006 | ELIZA COFFEE MEMORIAL HOSPITAL   | 205 MARENGO STREET         | FLORENCE   | AL | 35631 | AL - Birmingham | 24 | 37560.37 | 5434.95 | 4453.79 |\n| 039  |  EXTRACRANIAL PROCEDURES W/O CC/MCC | 10011 | ST VINCENT'S EAST                | 50 MEDICAL PARK EAST DRIVE | BIRMINGHAM | AL | 35235 | AL - Birmingham | 25 | 13998.28 | 5417.56 | 4129.16 |\n| 039  |  EXTRACRANIAL PROCEDURES W/O CC/MCC | 10016 | SHELBY BAPTIST MEDICAL CENTER    | 1000 FIRST STREET NORTH    | ALABASTER  | AL | 35007 | AL - Birmingham | 18 | 31633.27 | 5658.33 | 4851.44 |\n\n",
            "text/latex": "A tibble: 5 × 13\n\\begin{tabular}{lllllllllllll}\n DRGcode & DRGdescription & ProviderID & Name & Address & City & State & ZIP & Region & Discharges & AverageCharges & AverageTotalPayments & AverageMedicarePayments\\\\\n <chr> & <chr> & <chr> & <chr> & <chr> & <chr> & <chr> & <chr> & <chr> & <int> & <dbl> & <dbl> & <dbl>\\\\\n\\hline\n\t 039  &  EXTRACRANIAL PROCEDURES W/O CC/MCC & 10001 & SOUTHEAST ALABAMA MEDICAL CENTER & 1108 ROSS CLARK CIRCLE     & DOTHAN     & AL & 36301 & AL - Dothan     & 91 & 32963.07 & 5777.24 & 4763.73\\\\\n\t 039  &  EXTRACRANIAL PROCEDURES W/O CC/MCC & 10005 & MARSHALL MEDICAL CENTER SOUTH    & 2505 U S HIGHWAY 431 NORTH & BOAZ       & AL & 35957 & AL - Birmingham & 14 & 15131.85 & 5787.57 & 4976.71\\\\\n\t 039  &  EXTRACRANIAL PROCEDURES W/O CC/MCC & 10006 & ELIZA COFFEE MEMORIAL HOSPITAL   & 205 MARENGO STREET         & FLORENCE   & AL & 35631 & AL - Birmingham & 24 & 37560.37 & 5434.95 & 4453.79\\\\\n\t 039  &  EXTRACRANIAL PROCEDURES W/O CC/MCC & 10011 & ST VINCENT'S EAST                & 50 MEDICAL PARK EAST DRIVE & BIRMINGHAM & AL & 35235 & AL - Birmingham & 25 & 13998.28 & 5417.56 & 4129.16\\\\\n\t 039  &  EXTRACRANIAL PROCEDURES W/O CC/MCC & 10016 & SHELBY BAPTIST MEDICAL CENTER    & 1000 FIRST STREET NORTH    & ALABASTER  & AL & 35007 & AL - Birmingham & 18 & 31633.27 & 5658.33 & 4851.44\\\\\n\\end{tabular}\n",
            "text/plain": [
              "  DRGcode DRGdescription                      ProviderID\n",
              "1 039      EXTRACRANIAL PROCEDURES W/O CC/MCC 10001     \n",
              "2 039      EXTRACRANIAL PROCEDURES W/O CC/MCC 10005     \n",
              "3 039      EXTRACRANIAL PROCEDURES W/O CC/MCC 10006     \n",
              "4 039      EXTRACRANIAL PROCEDURES W/O CC/MCC 10011     \n",
              "5 039      EXTRACRANIAL PROCEDURES W/O CC/MCC 10016     \n",
              "  Name                             Address                    City       State\n",
              "1 SOUTHEAST ALABAMA MEDICAL CENTER 1108 ROSS CLARK CIRCLE     DOTHAN     AL   \n",
              "2 MARSHALL MEDICAL CENTER SOUTH    2505 U S HIGHWAY 431 NORTH BOAZ       AL   \n",
              "3 ELIZA COFFEE MEMORIAL HOSPITAL   205 MARENGO STREET         FLORENCE   AL   \n",
              "4 ST VINCENT'S EAST                50 MEDICAL PARK EAST DRIVE BIRMINGHAM AL   \n",
              "5 SHELBY BAPTIST MEDICAL CENTER    1000 FIRST STREET NORTH    ALABASTER  AL   \n",
              "  ZIP   Region          Discharges AverageCharges AverageTotalPayments\n",
              "1 36301 AL - Dothan     91         32963.07       5777.24             \n",
              "2 35957 AL - Birmingham 14         15131.85       5787.57             \n",
              "3 35631 AL - Birmingham 24         37560.37       5434.95             \n",
              "4 35235 AL - Birmingham 25         13998.28       5417.56             \n",
              "5 35007 AL - Birmingham 18         31633.27       5658.33             \n",
              "  AverageMedicarePayments\n",
              "1 4763.73                \n",
              "2 4976.71                \n",
              "3 4453.79                \n",
              "4 4129.16                \n",
              "5 4851.44                "
            ]
          },
          "metadata": {}
        }
      ]
    },
    {
      "cell_type": "code",
      "source": [
        "df$DRG[45894]"
      ],
      "metadata": {
        "colab": {
          "base_uri": "https://localhost:8080/",
          "height": 34
        },
        "id": "SVAOsxdDtKfs",
        "outputId": "141292cc-e2bb-45fb-fdc5-811e983cfd0d"
      },
      "execution_count": 57,
      "outputs": [
        {
          "output_type": "display_data",
          "data": {
            "text/html": [
              "'246 - PERC CARDIOVASC PROC W DRUG-ELUTING STENT W MCC OR 4+ VESSELS/STENTS'"
            ],
            "text/markdown": "'246 - PERC CARDIOVASC PROC W DRUG-ELUTING STENT W MCC OR 4+ VESSELS/STENTS'",
            "text/latex": "'246 - PERC CARDIOVASC PROC W DRUG-ELUTING STENT W MCC OR 4+ VESSELS/STENTS'",
            "text/plain": [
              "[1] \"246 - PERC CARDIOVASC PROC W DRUG-ELUTING STENT W MCC OR 4+ VESSELS/STENTS\""
            ]
          },
          "metadata": {}
        }
      ]
    },
    {
      "cell_type": "code",
      "source": [
        "# Let's separate with character position instead\n",
        "inpatient_separate <- separate(df,DRG,c('DRGcode','DRGdescription'),4)"
      ],
      "metadata": {
        "id": "GL4IW-XLtKcM"
      },
      "execution_count": 59,
      "outputs": []
    },
    {
      "cell_type": "code",
      "source": [
        "head(inpatient_separate,5)"
      ],
      "metadata": {
        "colab": {
          "base_uri": "https://localhost:8080/",
          "height": 428
        },
        "id": "juR5KfN0tKZU",
        "outputId": "e02d6e78-ad06-4fe5-9fb7-adb6f2fb0a1c"
      },
      "execution_count": 60,
      "outputs": [
        {
          "output_type": "display_data",
          "data": {
            "text/html": [
              "<table class=\"dataframe\">\n",
              "<caption>A tibble: 5 × 13</caption>\n",
              "<thead>\n",
              "\t<tr><th scope=col>DRGcode</th><th scope=col>DRGdescription</th><th scope=col>ProviderID</th><th scope=col>Name</th><th scope=col>Address</th><th scope=col>City</th><th scope=col>State</th><th scope=col>ZIP</th><th scope=col>Region</th><th scope=col>Discharges</th><th scope=col>AverageCharges</th><th scope=col>AverageTotalPayments</th><th scope=col>AverageMedicarePayments</th></tr>\n",
              "\t<tr><th scope=col>&lt;chr&gt;</th><th scope=col>&lt;chr&gt;</th><th scope=col>&lt;chr&gt;</th><th scope=col>&lt;chr&gt;</th><th scope=col>&lt;chr&gt;</th><th scope=col>&lt;chr&gt;</th><th scope=col>&lt;chr&gt;</th><th scope=col>&lt;chr&gt;</th><th scope=col>&lt;chr&gt;</th><th scope=col>&lt;int&gt;</th><th scope=col>&lt;dbl&gt;</th><th scope=col>&lt;dbl&gt;</th><th scope=col>&lt;dbl&gt;</th></tr>\n",
              "</thead>\n",
              "<tbody>\n",
              "\t<tr><td>039 </td><td>- EXTRACRANIAL PROCEDURES W/O CC/MCC</td><td>10001</td><td>SOUTHEAST ALABAMA MEDICAL CENTER</td><td>1108 ROSS CLARK CIRCLE    </td><td>DOTHAN    </td><td>AL</td><td>36301</td><td>AL - Dothan    </td><td>91</td><td>32963.07</td><td>5777.24</td><td>4763.73</td></tr>\n",
              "\t<tr><td>039 </td><td>- EXTRACRANIAL PROCEDURES W/O CC/MCC</td><td>10005</td><td>MARSHALL MEDICAL CENTER SOUTH   </td><td>2505 U S HIGHWAY 431 NORTH</td><td>BOAZ      </td><td>AL</td><td>35957</td><td>AL - Birmingham</td><td>14</td><td>15131.85</td><td>5787.57</td><td>4976.71</td></tr>\n",
              "\t<tr><td>039 </td><td>- EXTRACRANIAL PROCEDURES W/O CC/MCC</td><td>10006</td><td>ELIZA COFFEE MEMORIAL HOSPITAL  </td><td>205 MARENGO STREET        </td><td>FLORENCE  </td><td>AL</td><td>35631</td><td>AL - Birmingham</td><td>24</td><td>37560.37</td><td>5434.95</td><td>4453.79</td></tr>\n",
              "\t<tr><td>039 </td><td>- EXTRACRANIAL PROCEDURES W/O CC/MCC</td><td>10011</td><td>ST VINCENT'S EAST               </td><td>50 MEDICAL PARK EAST DRIVE</td><td>BIRMINGHAM</td><td>AL</td><td>35235</td><td>AL - Birmingham</td><td>25</td><td>13998.28</td><td>5417.56</td><td>4129.16</td></tr>\n",
              "\t<tr><td>039 </td><td>- EXTRACRANIAL PROCEDURES W/O CC/MCC</td><td>10016</td><td>SHELBY BAPTIST MEDICAL CENTER   </td><td>1000 FIRST STREET NORTH   </td><td>ALABASTER </td><td>AL</td><td>35007</td><td>AL - Birmingham</td><td>18</td><td>31633.27</td><td>5658.33</td><td>4851.44</td></tr>\n",
              "</tbody>\n",
              "</table>\n"
            ],
            "text/markdown": "\nA tibble: 5 × 13\n\n| DRGcode &lt;chr&gt; | DRGdescription &lt;chr&gt; | ProviderID &lt;chr&gt; | Name &lt;chr&gt; | Address &lt;chr&gt; | City &lt;chr&gt; | State &lt;chr&gt; | ZIP &lt;chr&gt; | Region &lt;chr&gt; | Discharges &lt;int&gt; | AverageCharges &lt;dbl&gt; | AverageTotalPayments &lt;dbl&gt; | AverageMedicarePayments &lt;dbl&gt; |\n|---|---|---|---|---|---|---|---|---|---|---|---|---|\n| 039  | - EXTRACRANIAL PROCEDURES W/O CC/MCC | 10001 | SOUTHEAST ALABAMA MEDICAL CENTER | 1108 ROSS CLARK CIRCLE     | DOTHAN     | AL | 36301 | AL - Dothan     | 91 | 32963.07 | 5777.24 | 4763.73 |\n| 039  | - EXTRACRANIAL PROCEDURES W/O CC/MCC | 10005 | MARSHALL MEDICAL CENTER SOUTH    | 2505 U S HIGHWAY 431 NORTH | BOAZ       | AL | 35957 | AL - Birmingham | 14 | 15131.85 | 5787.57 | 4976.71 |\n| 039  | - EXTRACRANIAL PROCEDURES W/O CC/MCC | 10006 | ELIZA COFFEE MEMORIAL HOSPITAL   | 205 MARENGO STREET         | FLORENCE   | AL | 35631 | AL - Birmingham | 24 | 37560.37 | 5434.95 | 4453.79 |\n| 039  | - EXTRACRANIAL PROCEDURES W/O CC/MCC | 10011 | ST VINCENT'S EAST                | 50 MEDICAL PARK EAST DRIVE | BIRMINGHAM | AL | 35235 | AL - Birmingham | 25 | 13998.28 | 5417.56 | 4129.16 |\n| 039  | - EXTRACRANIAL PROCEDURES W/O CC/MCC | 10016 | SHELBY BAPTIST MEDICAL CENTER    | 1000 FIRST STREET NORTH    | ALABASTER  | AL | 35007 | AL - Birmingham | 18 | 31633.27 | 5658.33 | 4851.44 |\n\n",
            "text/latex": "A tibble: 5 × 13\n\\begin{tabular}{lllllllllllll}\n DRGcode & DRGdescription & ProviderID & Name & Address & City & State & ZIP & Region & Discharges & AverageCharges & AverageTotalPayments & AverageMedicarePayments\\\\\n <chr> & <chr> & <chr> & <chr> & <chr> & <chr> & <chr> & <chr> & <chr> & <int> & <dbl> & <dbl> & <dbl>\\\\\n\\hline\n\t 039  & - EXTRACRANIAL PROCEDURES W/O CC/MCC & 10001 & SOUTHEAST ALABAMA MEDICAL CENTER & 1108 ROSS CLARK CIRCLE     & DOTHAN     & AL & 36301 & AL - Dothan     & 91 & 32963.07 & 5777.24 & 4763.73\\\\\n\t 039  & - EXTRACRANIAL PROCEDURES W/O CC/MCC & 10005 & MARSHALL MEDICAL CENTER SOUTH    & 2505 U S HIGHWAY 431 NORTH & BOAZ       & AL & 35957 & AL - Birmingham & 14 & 15131.85 & 5787.57 & 4976.71\\\\\n\t 039  & - EXTRACRANIAL PROCEDURES W/O CC/MCC & 10006 & ELIZA COFFEE MEMORIAL HOSPITAL   & 205 MARENGO STREET         & FLORENCE   & AL & 35631 & AL - Birmingham & 24 & 37560.37 & 5434.95 & 4453.79\\\\\n\t 039  & - EXTRACRANIAL PROCEDURES W/O CC/MCC & 10011 & ST VINCENT'S EAST                & 50 MEDICAL PARK EAST DRIVE & BIRMINGHAM & AL & 35235 & AL - Birmingham & 25 & 13998.28 & 5417.56 & 4129.16\\\\\n\t 039  & - EXTRACRANIAL PROCEDURES W/O CC/MCC & 10016 & SHELBY BAPTIST MEDICAL CENTER    & 1000 FIRST STREET NORTH    & ALABASTER  & AL & 35007 & AL - Birmingham & 18 & 31633.27 & 5658.33 & 4851.44\\\\\n\\end{tabular}\n",
            "text/plain": [
              "  DRGcode DRGdescription                       ProviderID\n",
              "1 039     - EXTRACRANIAL PROCEDURES W/O CC/MCC 10001     \n",
              "2 039     - EXTRACRANIAL PROCEDURES W/O CC/MCC 10005     \n",
              "3 039     - EXTRACRANIAL PROCEDURES W/O CC/MCC 10006     \n",
              "4 039     - EXTRACRANIAL PROCEDURES W/O CC/MCC 10011     \n",
              "5 039     - EXTRACRANIAL PROCEDURES W/O CC/MCC 10016     \n",
              "  Name                             Address                    City       State\n",
              "1 SOUTHEAST ALABAMA MEDICAL CENTER 1108 ROSS CLARK CIRCLE     DOTHAN     AL   \n",
              "2 MARSHALL MEDICAL CENTER SOUTH    2505 U S HIGHWAY 431 NORTH BOAZ       AL   \n",
              "3 ELIZA COFFEE MEMORIAL HOSPITAL   205 MARENGO STREET         FLORENCE   AL   \n",
              "4 ST VINCENT'S EAST                50 MEDICAL PARK EAST DRIVE BIRMINGHAM AL   \n",
              "5 SHELBY BAPTIST MEDICAL CENTER    1000 FIRST STREET NORTH    ALABASTER  AL   \n",
              "  ZIP   Region          Discharges AverageCharges AverageTotalPayments\n",
              "1 36301 AL - Dothan     91         32963.07       5777.24             \n",
              "2 35957 AL - Birmingham 14         15131.85       5787.57             \n",
              "3 35631 AL - Birmingham 24         37560.37       5434.95             \n",
              "4 35235 AL - Birmingham 25         13998.28       5417.56             \n",
              "5 35007 AL - Birmingham 18         31633.27       5658.33             \n",
              "  AverageMedicarePayments\n",
              "1 4763.73                \n",
              "2 4976.71                \n",
              "3 4453.79                \n",
              "4 4129.16                \n",
              "5 4851.44                "
            ]
          },
          "metadata": {}
        }
      ]
    },
    {
      "cell_type": "code",
      "source": [
        "# And take a look at the data now\n",
        "glimpse(inpatient_separate)"
      ],
      "metadata": {
        "colab": {
          "base_uri": "https://localhost:8080/"
        },
        "id": "AEa8Xz85tKWL",
        "outputId": "1b52e1be-a929-45e3-9ce8-c10933706ea0"
      },
      "execution_count": 61,
      "outputs": [
        {
          "output_type": "stream",
          "name": "stdout",
          "text": [
            "Rows: 163,065\n",
            "Columns: 13\n",
            "$ DRGcode                 \u001b[3m\u001b[90m<chr>\u001b[39m\u001b[23m \"039 \"\u001b[90m, \u001b[39m\"039 \"\u001b[90m, \u001b[39m\"039 \"\u001b[90m, \u001b[39m\"039 \"\u001b[90m, \u001b[39m\"039 \"\u001b[90m, \u001b[39m\"039 \"…\n",
            "$ DRGdescription          \u001b[3m\u001b[90m<chr>\u001b[39m\u001b[23m \"- EXTRACRANIAL PROCEDURES W/O CC/MCC\"\u001b[90m, \u001b[39m\"- EXT…\n",
            "$ ProviderID              \u001b[3m\u001b[90m<chr>\u001b[39m\u001b[23m \"10001\"\u001b[90m, \u001b[39m\"10005\"\u001b[90m, \u001b[39m\"10006\"\u001b[90m, \u001b[39m\"10011\"\u001b[90m, \u001b[39m\"10016\"\u001b[90m, \u001b[39m\"…\n",
            "$ Name                    \u001b[3m\u001b[90m<chr>\u001b[39m\u001b[23m \"SOUTHEAST ALABAMA MEDICAL CENTER\"\u001b[90m, \u001b[39m\"MARSHALL …\n",
            "$ Address                 \u001b[3m\u001b[90m<chr>\u001b[39m\u001b[23m \"1108 ROSS CLARK CIRCLE\"\u001b[90m, \u001b[39m\"2505 U S HIGHWAY 43…\n",
            "$ City                    \u001b[3m\u001b[90m<chr>\u001b[39m\u001b[23m \"DOTHAN\"\u001b[90m, \u001b[39m\"BOAZ\"\u001b[90m, \u001b[39m\"FLORENCE\"\u001b[90m, \u001b[39m\"BIRMINGHAM\"\u001b[90m, \u001b[39m\"A…\n",
            "$ State                   \u001b[3m\u001b[90m<chr>\u001b[39m\u001b[23m \"AL\"\u001b[90m, \u001b[39m\"AL\"\u001b[90m, \u001b[39m\"AL\"\u001b[90m, \u001b[39m\"AL\"\u001b[90m, \u001b[39m\"AL\"\u001b[90m, \u001b[39m\"AL\"\u001b[90m, \u001b[39m\"AL\"\u001b[90m, \u001b[39m\"AL\"…\n",
            "$ ZIP                     \u001b[3m\u001b[90m<chr>\u001b[39m\u001b[23m \"36301\"\u001b[90m, \u001b[39m\"35957\"\u001b[90m, \u001b[39m\"35631\"\u001b[90m, \u001b[39m\"35235\"\u001b[90m, \u001b[39m\"35007\"\u001b[90m, \u001b[39m\"…\n",
            "$ Region                  \u001b[3m\u001b[90m<chr>\u001b[39m\u001b[23m \"AL - Dothan\"\u001b[90m, \u001b[39m\"AL - Birmingham\"\u001b[90m, \u001b[39m\"AL - Birmin…\n",
            "$ Discharges              \u001b[3m\u001b[90m<int>\u001b[39m\u001b[23m 91\u001b[90m, \u001b[39m14\u001b[90m, \u001b[39m24\u001b[90m, \u001b[39m25\u001b[90m, \u001b[39m18\u001b[90m, \u001b[39m67\u001b[90m, \u001b[39m51\u001b[90m, \u001b[39m32\u001b[90m, \u001b[39m135\u001b[90m, \u001b[39m34\u001b[90m, \u001b[39m14\u001b[90m, \u001b[39m4…\n",
            "$ AverageCharges          \u001b[3m\u001b[90m<dbl>\u001b[39m\u001b[23m 32963.07\u001b[90m, \u001b[39m15131.85\u001b[90m, \u001b[39m37560.37\u001b[90m, \u001b[39m13998.28\u001b[90m, \u001b[39m31633.…\n",
            "$ AverageTotalPayments    \u001b[3m\u001b[90m<dbl>\u001b[39m\u001b[23m 5777.24\u001b[90m, \u001b[39m5787.57\u001b[90m, \u001b[39m5434.95\u001b[90m, \u001b[39m5417.56\u001b[90m, \u001b[39m5658.33\u001b[90m, \u001b[39m6…\n",
            "$ AverageMedicarePayments \u001b[3m\u001b[90m<dbl>\u001b[39m\u001b[23m 4763.73\u001b[90m, \u001b[39m4976.71\u001b[90m, \u001b[39m4453.79\u001b[90m, \u001b[39m4129.16\u001b[90m, \u001b[39m4851.44\u001b[90m, \u001b[39m5…\n"
          ]
        }
      ]
    },
    {
      "cell_type": "code",
      "source": [
        "names <- c(\"ID\", \"DBAName\", \"AKAName\", \"License\", \"FacilityType\", \"Risk\", \"Address\",\n",
        "           \"City\", \"State\", \"ZIP\", \"InspectionDate\", \"InspectionType\", \"Results\",\n",
        "           \"Violations\", \"Latitude\",\"Longitude\",\"Location\")"
      ],
      "metadata": {
        "id": "ECl9FSMBtKTB"
      },
      "execution_count": 62,
      "outputs": []
    },
    {
      "cell_type": "code",
      "source": [
        "inspections <- read_csv('http://594442.youcanlearnit.net/inspections.csv',\n",
        "                        col_names=names, skip=1)"
      ],
      "metadata": {
        "colab": {
          "base_uri": "https://localhost:8080/"
        },
        "id": "DWukNy3etKQK",
        "outputId": "d6031287-4fc5-4b0e-be70-8cdb8e3ea3b1"
      },
      "execution_count": 63,
      "outputs": [
        {
          "output_type": "stream",
          "name": "stderr",
          "text": [
            "\u001b[1mRows: \u001b[22m\u001b[34m145606\u001b[39m \u001b[1mColumns: \u001b[22m\u001b[34m17\u001b[39m\n",
            "\u001b[36m──\u001b[39m \u001b[1mColumn specification\u001b[22m \u001b[36m────────────────────────────────────────────────────────\u001b[39m\n",
            "\u001b[1mDelimiter:\u001b[22m \",\"\n",
            "\u001b[31mchr\u001b[39m (12): DBAName, AKAName, FacilityType, Risk, Address, City, State, Inspec...\n",
            "\u001b[32mdbl\u001b[39m  (5): ID, License, ZIP, Latitude, Longitude\n",
            "\n",
            "\u001b[36mℹ\u001b[39m Use `spec()` to retrieve the full column specification for this data.\n",
            "\u001b[36mℹ\u001b[39m Specify the column types or set `show_col_types = FALSE` to quiet this message.\n"
          ]
        }
      ]
    },
    {
      "cell_type": "code",
      "source": [
        "head(inspections,5)"
      ],
      "metadata": {
        "colab": {
          "base_uri": "https://localhost:8080/",
          "height": 1000
        },
        "id": "Ubop2gVftKNI",
        "outputId": "85d45f6c-1457-4fbb-e972-acc9092e1d4b"
      },
      "execution_count": 64,
      "outputs": [
        {
          "output_type": "display_data",
          "data": {
            "text/html": [
              "<table class=\"dataframe\">\n",
              "<caption>A tibble: 5 × 17</caption>\n",
              "<thead>\n",
              "\t<tr><th scope=col>ID</th><th scope=col>DBAName</th><th scope=col>AKAName</th><th scope=col>License</th><th scope=col>FacilityType</th><th scope=col>Risk</th><th scope=col>Address</th><th scope=col>City</th><th scope=col>State</th><th scope=col>ZIP</th><th scope=col>InspectionDate</th><th scope=col>InspectionType</th><th scope=col>Results</th><th scope=col>Violations</th><th scope=col>Latitude</th><th scope=col>Longitude</th><th scope=col>Location</th></tr>\n",
              "\t<tr><th scope=col>&lt;dbl&gt;</th><th scope=col>&lt;chr&gt;</th><th scope=col>&lt;chr&gt;</th><th scope=col>&lt;dbl&gt;</th><th scope=col>&lt;chr&gt;</th><th scope=col>&lt;chr&gt;</th><th scope=col>&lt;chr&gt;</th><th scope=col>&lt;chr&gt;</th><th scope=col>&lt;chr&gt;</th><th scope=col>&lt;dbl&gt;</th><th scope=col>&lt;chr&gt;</th><th scope=col>&lt;chr&gt;</th><th scope=col>&lt;chr&gt;</th><th scope=col>&lt;chr&gt;</th><th scope=col>&lt;dbl&gt;</th><th scope=col>&lt;dbl&gt;</th><th scope=col>&lt;chr&gt;</th></tr>\n",
              "</thead>\n",
              "<tbody>\n",
              "\t<tr><td>1995829</td><td>SUBWAY                   </td><td>SUBWAY               </td><td>1679112</td><td>Restaurant</td><td>Risk 1 (High)</td><td>8711 S ASHLAND AVE</td><td>CHICAGO</td><td>IL</td><td>60620</td><td>03/17/2017</td><td>Canvass Re-Inspection</td><td>Pass</td><td>19. OUTSIDE GARBAGE WASTE GREASE AND STORAGE AREA; CLEAN, RODENT PROOF, ALL CONTAINERS COVERED - Comments: OUTSIDE GARBAGE AREA BETTER MAINTAINED. | 21. * CERTIFIED FOOD MANAGER ON SITE WHEN POTENTIALLY HAZARDOUS FOODS ARE  PREPARED AND SERVED - Comments: CERTIFIED MANAGER ON PREMISES. | 45. FOOD HANDLER REQUIREMENTS MET - Comments: ALL EMPLOYEES THAT FALL UNDER THE CATEGORY OF FOOD HANDLER THAT ARE NOT CERTIFIED FOOD SERVICE MANAGERS MUST MEET THE IDPH FOOD HANDLER REQUIREMENTS. | 41. PREMISES MAINTAINED FREE OF LITTER, UNNECESSARY ARTICLES, CLEANING  EQUIPMENT PROPERLY STORED - Comments: ABATED. | 35. WALLS, CEILINGS, ATTACHED EQUIPMENT CONSTRUCTED PER CODE: GOOD REPAIR, SURFACES CLEAN AND DUST-LESS CLEANING METHODS - Comments: CLEAN STAINS AND FOOD SPLATTERS FROM WALLS THROUGGHOUT WHERE PRESENT.\n",
              " | 33. FOOD AND NON-FOOD CONTACT EQUIPMENT UTENSILS CLEAN, FREE OF ABRASIVE DETERGENTS - Comments: : CLEAN THE CABINET INTERIOR UNDERNEATH THE SELF-SERVICE POP DISPENSING STATION(POP RESIDUE ON THE SHELF). | 32. FOOD AND NON-FOOD CONTACT SURFACES PROPERLY DESIGNED, CONSTRUCTED AND MAINTAINED - Comments:  CLEAN FOOD DEBRIS FROM FLOOR INSIDE WALK-IN COOLER. PAINT EXTERIOR OF DOOR LEADING INTO THE REAR DISH WASHING AREA.                                                                                                                                                                                                                                                      </td><td>41.73541</td><td>-87.66291</td><td>(41.735408702583165, -87.66290968424336)</td></tr>\n",
              "\t<tr><td>1995817</td><td>VENEZUELAN BOWL GRILL LLC</td><td>VENEZUELAN BOWL GRILL</td><td>2424110</td><td>Restaurant</td><td>Risk 1 (High)</td><td>2436 N LINCOLN AVE</td><td>CHICAGO</td><td>IL</td><td>60614</td><td>03/17/2017</td><td>Canvass Re-Inspection</td><td>Pass</td><td>14. PREVIOUS SERIOUS VIOLATION CORRECTED, 7-42-090 - Comments: ALL VIOLATIONS HAVE BEEN CORRECTED. FLOORS, WALLS, KITCHEN HOOD AND FILTERS, BACK FLOW HAS BEEN INSTALLED ON ICE MACHINE, AND ITEMS HAVE BEEN REMOVED OR ELEVATED OFF FLOORS IN BASEMENT. | 22. DISH MACHINES: PROVIDED WITH ACCURATE THERMOMETERS, CHEMICAL TEST KITS AND SUITABLE GAUGE COCK - Comments: QUATERNARY SANITIZING TEST STRIPS HAVE BEEN PROVIDED. | 32. FOOD AND NON-FOOD CONTACT SURFACES PROPERLY DESIGNED, CONSTRUCTED AND MAINTAINED - Comments: VIOLATION CORRECTED. | 33. FOOD AND NON-FOOD CONTACT EQUIPMENT UTENSILS CLEAN, FREE OF ABRASIVE DETERGENTS - Comments: VIOLATION CORRECTED. | 34. FLOORS: CONSTRUCTED PER CODE, CLEANED, GOOD REPAIR, COVING INSTALLED, DUST-LESS CLEANING METHODS USED - Comments: VIOLATION CORRECTED. | 36. LIGHTING: REQUIRED MINIMUM FOOT-CANDLES OF LIGHT PROVIDED, FIXTURES SHIELDED - Comments: VIOLATION CORRECTED. | 38. VENTILATION: ROOMS AND EQUIPMENT VENTED AS REQUIRED: PLUMBING: INSTALLED AND MAINTAINED - Comments: VIOLATION CORRECTED. | 45. FOOD HANDLER REQUIREMENTS MET - Comments: VIOLATION CORRECTED. | 35. WALLS, CEILINGS, ATTACHED EQUIPMENT CONSTRUCTED PER CODE: GOOD REPAIR, SURFACES CLEAN AND DUST-LESS CLEANING METHODS - Comments: WASHROOM WALLS SEALED, HOWEVER, WALLS IN SOUTH-EAST WASHROOM (CLOSEST TO KITCHEN) STILL HAVE SOME ROUGH AREAS PRESENT. SURFACE MUST BE COMPLETELY SMOOTH AND EASILY CLEANABLE, AND MAINTAIN.                                               </td><td>41.92619</td><td>-87.65002</td><td>(41.926190902860434, -87.65001746088006)</td></tr>\n",
              "\t<tr><td>1995822</td><td>SEVEN TEN                </td><td>SEVEN TEN            </td><td>1172093</td><td>Restaurant</td><td>Risk 1 (High)</td><td>1055 E 55TH ST    </td><td>CHICAGO</td><td>IL</td><td>60615</td><td>03/17/2017</td><td>Canvass Re-Inspection</td><td>Pass</td><td>18. NO EVIDENCE OF RODENT OR INSECT OUTER OPENINGS PROTECTED/RODENT PROOFED, A WRITTEN LOG SHALL BE MAINTAINED AVAILABLE TO THE INSPECTORS - Comments: PREMISES SERVICED BY TOM VEL PEST CONTROL ON 3-16-17 AND MICE DROPPINGS REMOVED IN STORAGE AREAS. | 30. FOOD IN ORIGINAL CONTAINER, PROPERLY LABELED: CUSTOMER ADVISORY POSTED AS NEEDED - Comments: BULK CONTAINERS LABELED IN PREP AND STORAGE AREAS. | 33. FOOD AND NON-FOOD CONTACT EQUIPMENT UTENSILS CLEAN, FREE OF ABRASIVE DETERGENTS - Comments: SHELVES CLEANED IN STORAGE AND BAR AREAS. | 34. FLOORS: CONSTRUCTED PER CODE, CLEANED, GOOD REPAIR, COVING INSTALLED, DUST-LESS CLEANING METHODS USED - Comments: GROUT ALL LOOSE FLOOR TILES IN BAR AREA. | 35. WALLS, CEILINGS, ATTACHED EQUIPMENT CONSTRUCTED PER CODE: GOOD REPAIR, SURFACES CLEAN AND DUST-LESS CLEANING METHODS - Comments: REPLACE MISSING BASEBOARDS ALONG WALLS UNDER DISH MACHINE. REPLACE DAMAGED BASEBOARDS AND SEAL OPENINGS ALONG BASEBOARDS NEAR UTILITY SINK. REPLACE DAMAGED WALL TILES ALONG LOWER SOUTH WALL IN MEN WASHROOM. SEAL OPENING UNDER WASHBOWLS IN WOMEN WASHROOM. \n",
              " | 41. PREMISES MAINTAINED FREE OF LITTER, UNNECESSARY ARTICLES, CLEANING  EQUIPMENT PROPERLY STORED - Comments: ELEVATE ALL STOCK OFF FLOOR IN LIQUOR STORAGE AREA. STORE STOCK OFF FLOOR AND AWAY FROM WALLS FOR EASY CLEANING AND PEST CONTROL. ORGANIZE WALK-IN COOLER. \n",
              " | 43. FOOD (ICE) DISPENSING UTENSILS, WASH CLOTHS PROPERLY STORED - Comments: ICE SCOOP PROPERLY STORED IN ICE BIN.</td><td>41.79492</td><td>-87.59985</td><td>(41.79492106897254, -87.59985203106729) </td></tr>\n",
              "\t<tr><td>1995814</td><td>CHISME EXPRESS INC.      </td><td>CHISME EXPRESS INC.  </td><td>1334960</td><td>Restaurant</td><td>Risk 1 (High)</td><td>5955 S PULASKI RD </td><td>CHICAGO</td><td>IL</td><td>60629</td><td>03/17/2017</td><td>Canvass              </td><td>Pass</td><td>32. FOOD AND NON-FOOD CONTACT SURFACES PROPERLY DESIGNED, CONSTRUCTED AND MAINTAINED - Comments: OBSERVED RUSTY STORAGE SHELVES OIN THE WALK-IN COOLER, INSTRUCTED TO REMOVE RUST. | 33. FOOD AND NON-FOOD CONTACT EQUIPMENT UTENSILS CLEAN, FREE OF ABRASIVE DETERGENTS - Comments: OBSERVED THE FRONT CUTTING BOARD NOT CLEAN, INSTRUCTED TO CLEAN AND SANITIZE. | 34. FLOORS: CONSTRUCTED PER CODE, CLEANED, GOOD REPAIR, COVING INSTALLED, DUST-LESS CLEANING METHODS USED - Comments: OBSERVED THE FLOOR IN THE WALK IN COOLER/UNDER STORAGE SHELVES NOT CLEAN, INSTRUCTED TO CLEAN. | 35. WALLS, CEILINGS, ATTACHED EQUIPMENT CONSTRUCTED PER CODE: GOOD REPAIR, SURFACES CLEAN AND DUST-LESS CLEANING METHODS - Comments: OBSERVED THE WALLS INSIDE THE WALK-IN COOLER, AND OUTSIDE THE WALK-IN COOLER NOT CLEAN, INSTRUCTED TO CLEAN.                                                                                                                                                                                                                                                                                                                                                                                                                                                                                                                                                                                                                                                                                         </td><td>41.78429</td><td>-87.72277</td><td>(41.784288983210146, -87.72277078477818)</td></tr>\n",
              "\t<tr><td>1995811</td><td>THE NILE RESTAURANT      </td><td>THE NILE RESTAURANT  </td><td>2334190</td><td>Restaurant</td><td>Risk 1 (High)</td><td>1162 E 55TH ST    </td><td>CHICAGO</td><td>IL</td><td>60615</td><td>03/17/2017</td><td>Canvass Re-Inspection</td><td>Pass</td><td>18. NO EVIDENCE OF RODENT OR INSECT OUTER OPENINGS PROTECTED/RODENT PROOFED, A WRITTEN LOG SHALL BE MAINTAINED AVAILABLE TO THE INSPECTORS - Comments: DOORS REPAIRED. | 32. FOOD AND NON-FOOD CONTACT SURFACES PROPERLY DESIGNED, CONSTRUCTED AND MAINTAINED - Comments:  REPLACE DAMAGED GASKET ON REACH-IN COOLER IN REAR PREP AREA. \n",
              " | 33. FOOD AND NON-FOOD CONTACT EQUIPMENT UTENSILS CLEAN, FREE OF ABRASIVE DETERGENTS - Comments: CLEAN INTERIOR AND EXTERIOR OF COOLERS, FREEZERS, COOKING EQUIPMENT, PREP TABLES. \n",
              " | 41. PREMISES MAINTAINED FREE OF LITTER, UNNECESSARY ARTICLES, CLEANING  EQUIPMENT PROPERLY STORED - Comments: ELEVATE ALL STOCK OFF FLOOR IN STORAGE AREAS. ORGANIZE REAR STORAGE AREA AND REACH-IN COOLERS. \n",
              " | 34. FLOORS: CONSTRUCTED PER CODE, CLEANED, GOOD REPAIR, COVING INSTALLED, DUST-LESS CLEANING METHODS USED - Comments: CLEAN AND MAINTAIN FLOOR DRAIN UNDER 3-COMPARTMENT SINK.                                                                                                                                                                                                                                                                                                                                                                                                                                                                                                                                                                                                  </td><td>41.79517</td><td>-87.59710</td><td>(41.79517060450029, -87.59710020185207) </td></tr>\n",
              "</tbody>\n",
              "</table>\n"
            ],
            "text/markdown": "\nA tibble: 5 × 17\n\n| ID &lt;dbl&gt; | DBAName &lt;chr&gt; | AKAName &lt;chr&gt; | License &lt;dbl&gt; | FacilityType &lt;chr&gt; | Risk &lt;chr&gt; | Address &lt;chr&gt; | City &lt;chr&gt; | State &lt;chr&gt; | ZIP &lt;dbl&gt; | InspectionDate &lt;chr&gt; | InspectionType &lt;chr&gt; | Results &lt;chr&gt; | Violations &lt;chr&gt; | Latitude &lt;dbl&gt; | Longitude &lt;dbl&gt; | Location &lt;chr&gt; |\n|---|---|---|---|---|---|---|---|---|---|---|---|---|---|---|---|---|\n| 1995829 | SUBWAY                    | SUBWAY                | 1679112 | Restaurant | Risk 1 (High) | 8711 S ASHLAND AVE | CHICAGO | IL | 60620 | 03/17/2017 | Canvass Re-Inspection | Pass | 19. OUTSIDE GARBAGE WASTE GREASE AND STORAGE AREA; CLEAN, RODENT PROOF, ALL CONTAINERS COVERED - Comments: OUTSIDE GARBAGE AREA BETTER MAINTAINED. | 21. * CERTIFIED FOOD MANAGER ON SITE WHEN POTENTIALLY HAZARDOUS FOODS ARE  PREPARED AND SERVED - Comments: CERTIFIED MANAGER ON PREMISES. | 45. FOOD HANDLER REQUIREMENTS MET - Comments: ALL EMPLOYEES THAT FALL UNDER THE CATEGORY OF FOOD HANDLER THAT ARE NOT CERTIFIED FOOD SERVICE MANAGERS MUST MEET THE IDPH FOOD HANDLER REQUIREMENTS. | 41. PREMISES MAINTAINED FREE OF LITTER, UNNECESSARY ARTICLES, CLEANING  EQUIPMENT PROPERLY STORED - Comments: ABATED. | 35. WALLS, CEILINGS, ATTACHED EQUIPMENT CONSTRUCTED PER CODE: GOOD REPAIR, SURFACES CLEAN AND DUST-LESS CLEANING METHODS - Comments: CLEAN STAINS AND FOOD SPLATTERS FROM WALLS THROUGGHOUT WHERE PRESENT.\n | 33. FOOD AND NON-FOOD CONTACT EQUIPMENT UTENSILS CLEAN, FREE OF ABRASIVE DETERGENTS - Comments: : CLEAN THE CABINET INTERIOR UNDERNEATH THE SELF-SERVICE POP DISPENSING STATION(POP RESIDUE ON THE SHELF). | 32. FOOD AND NON-FOOD CONTACT SURFACES PROPERLY DESIGNED, CONSTRUCTED AND MAINTAINED - Comments:  CLEAN FOOD DEBRIS FROM FLOOR INSIDE WALK-IN COOLER. PAINT EXTERIOR OF DOOR LEADING INTO THE REAR DISH WASHING AREA.                                                                                                                                                                                                                                                       | 41.73541 | -87.66291 | (41.735408702583165, -87.66290968424336) |\n| 1995817 | VENEZUELAN BOWL GRILL LLC | VENEZUELAN BOWL GRILL | 2424110 | Restaurant | Risk 1 (High) | 2436 N LINCOLN AVE | CHICAGO | IL | 60614 | 03/17/2017 | Canvass Re-Inspection | Pass | 14. PREVIOUS SERIOUS VIOLATION CORRECTED, 7-42-090 - Comments: ALL VIOLATIONS HAVE BEEN CORRECTED. FLOORS, WALLS, KITCHEN HOOD AND FILTERS, BACK FLOW HAS BEEN INSTALLED ON ICE MACHINE, AND ITEMS HAVE BEEN REMOVED OR ELEVATED OFF FLOORS IN BASEMENT. | 22. DISH MACHINES: PROVIDED WITH ACCURATE THERMOMETERS, CHEMICAL TEST KITS AND SUITABLE GAUGE COCK - Comments: QUATERNARY SANITIZING TEST STRIPS HAVE BEEN PROVIDED. | 32. FOOD AND NON-FOOD CONTACT SURFACES PROPERLY DESIGNED, CONSTRUCTED AND MAINTAINED - Comments: VIOLATION CORRECTED. | 33. FOOD AND NON-FOOD CONTACT EQUIPMENT UTENSILS CLEAN, FREE OF ABRASIVE DETERGENTS - Comments: VIOLATION CORRECTED. | 34. FLOORS: CONSTRUCTED PER CODE, CLEANED, GOOD REPAIR, COVING INSTALLED, DUST-LESS CLEANING METHODS USED - Comments: VIOLATION CORRECTED. | 36. LIGHTING: REQUIRED MINIMUM FOOT-CANDLES OF LIGHT PROVIDED, FIXTURES SHIELDED - Comments: VIOLATION CORRECTED. | 38. VENTILATION: ROOMS AND EQUIPMENT VENTED AS REQUIRED: PLUMBING: INSTALLED AND MAINTAINED - Comments: VIOLATION CORRECTED. | 45. FOOD HANDLER REQUIREMENTS MET - Comments: VIOLATION CORRECTED. | 35. WALLS, CEILINGS, ATTACHED EQUIPMENT CONSTRUCTED PER CODE: GOOD REPAIR, SURFACES CLEAN AND DUST-LESS CLEANING METHODS - Comments: WASHROOM WALLS SEALED, HOWEVER, WALLS IN SOUTH-EAST WASHROOM (CLOSEST TO KITCHEN) STILL HAVE SOME ROUGH AREAS PRESENT. SURFACE MUST BE COMPLETELY SMOOTH AND EASILY CLEANABLE, AND MAINTAIN.                                                | 41.92619 | -87.65002 | (41.926190902860434, -87.65001746088006) |\n| 1995822 | SEVEN TEN                 | SEVEN TEN             | 1172093 | Restaurant | Risk 1 (High) | 1055 E 55TH ST     | CHICAGO | IL | 60615 | 03/17/2017 | Canvass Re-Inspection | Pass | 18. NO EVIDENCE OF RODENT OR INSECT OUTER OPENINGS PROTECTED/RODENT PROOFED, A WRITTEN LOG SHALL BE MAINTAINED AVAILABLE TO THE INSPECTORS - Comments: PREMISES SERVICED BY TOM VEL PEST CONTROL ON 3-16-17 AND MICE DROPPINGS REMOVED IN STORAGE AREAS. | 30. FOOD IN ORIGINAL CONTAINER, PROPERLY LABELED: CUSTOMER ADVISORY POSTED AS NEEDED - Comments: BULK CONTAINERS LABELED IN PREP AND STORAGE AREAS. | 33. FOOD AND NON-FOOD CONTACT EQUIPMENT UTENSILS CLEAN, FREE OF ABRASIVE DETERGENTS - Comments: SHELVES CLEANED IN STORAGE AND BAR AREAS. | 34. FLOORS: CONSTRUCTED PER CODE, CLEANED, GOOD REPAIR, COVING INSTALLED, DUST-LESS CLEANING METHODS USED - Comments: GROUT ALL LOOSE FLOOR TILES IN BAR AREA. | 35. WALLS, CEILINGS, ATTACHED EQUIPMENT CONSTRUCTED PER CODE: GOOD REPAIR, SURFACES CLEAN AND DUST-LESS CLEANING METHODS - Comments: REPLACE MISSING BASEBOARDS ALONG WALLS UNDER DISH MACHINE. REPLACE DAMAGED BASEBOARDS AND SEAL OPENINGS ALONG BASEBOARDS NEAR UTILITY SINK. REPLACE DAMAGED WALL TILES ALONG LOWER SOUTH WALL IN MEN WASHROOM. SEAL OPENING UNDER WASHBOWLS IN WOMEN WASHROOM. \n | 41. PREMISES MAINTAINED FREE OF LITTER, UNNECESSARY ARTICLES, CLEANING  EQUIPMENT PROPERLY STORED - Comments: ELEVATE ALL STOCK OFF FLOOR IN LIQUOR STORAGE AREA. STORE STOCK OFF FLOOR AND AWAY FROM WALLS FOR EASY CLEANING AND PEST CONTROL. ORGANIZE WALK-IN COOLER. \n | 43. FOOD (ICE) DISPENSING UTENSILS, WASH CLOTHS PROPERLY STORED - Comments: ICE SCOOP PROPERLY STORED IN ICE BIN. | 41.79492 | -87.59985 | (41.79492106897254, -87.59985203106729)  |\n| 1995814 | CHISME EXPRESS INC.       | CHISME EXPRESS INC.   | 1334960 | Restaurant | Risk 1 (High) | 5955 S PULASKI RD  | CHICAGO | IL | 60629 | 03/17/2017 | Canvass               | Pass | 32. FOOD AND NON-FOOD CONTACT SURFACES PROPERLY DESIGNED, CONSTRUCTED AND MAINTAINED - Comments: OBSERVED RUSTY STORAGE SHELVES OIN THE WALK-IN COOLER, INSTRUCTED TO REMOVE RUST. | 33. FOOD AND NON-FOOD CONTACT EQUIPMENT UTENSILS CLEAN, FREE OF ABRASIVE DETERGENTS - Comments: OBSERVED THE FRONT CUTTING BOARD NOT CLEAN, INSTRUCTED TO CLEAN AND SANITIZE. | 34. FLOORS: CONSTRUCTED PER CODE, CLEANED, GOOD REPAIR, COVING INSTALLED, DUST-LESS CLEANING METHODS USED - Comments: OBSERVED THE FLOOR IN THE WALK IN COOLER/UNDER STORAGE SHELVES NOT CLEAN, INSTRUCTED TO CLEAN. | 35. WALLS, CEILINGS, ATTACHED EQUIPMENT CONSTRUCTED PER CODE: GOOD REPAIR, SURFACES CLEAN AND DUST-LESS CLEANING METHODS - Comments: OBSERVED THE WALLS INSIDE THE WALK-IN COOLER, AND OUTSIDE THE WALK-IN COOLER NOT CLEAN, INSTRUCTED TO CLEAN.                                                                                                                                                                                                                                                                                                                                                                                                                                                                                                                                                                                                                                                                                          | 41.78429 | -87.72277 | (41.784288983210146, -87.72277078477818) |\n| 1995811 | THE NILE RESTAURANT       | THE NILE RESTAURANT   | 2334190 | Restaurant | Risk 1 (High) | 1162 E 55TH ST     | CHICAGO | IL | 60615 | 03/17/2017 | Canvass Re-Inspection | Pass | 18. NO EVIDENCE OF RODENT OR INSECT OUTER OPENINGS PROTECTED/RODENT PROOFED, A WRITTEN LOG SHALL BE MAINTAINED AVAILABLE TO THE INSPECTORS - Comments: DOORS REPAIRED. | 32. FOOD AND NON-FOOD CONTACT SURFACES PROPERLY DESIGNED, CONSTRUCTED AND MAINTAINED - Comments:  REPLACE DAMAGED GASKET ON REACH-IN COOLER IN REAR PREP AREA. \n | 33. FOOD AND NON-FOOD CONTACT EQUIPMENT UTENSILS CLEAN, FREE OF ABRASIVE DETERGENTS - Comments: CLEAN INTERIOR AND EXTERIOR OF COOLERS, FREEZERS, COOKING EQUIPMENT, PREP TABLES. \n | 41. PREMISES MAINTAINED FREE OF LITTER, UNNECESSARY ARTICLES, CLEANING  EQUIPMENT PROPERLY STORED - Comments: ELEVATE ALL STOCK OFF FLOOR IN STORAGE AREAS. ORGANIZE REAR STORAGE AREA AND REACH-IN COOLERS. \n | 34. FLOORS: CONSTRUCTED PER CODE, CLEANED, GOOD REPAIR, COVING INSTALLED, DUST-LESS CLEANING METHODS USED - Comments: CLEAN AND MAINTAIN FLOOR DRAIN UNDER 3-COMPARTMENT SINK.                                                                                                                                                                                                                                                                                                                                                                                                                                                                                                                                                                                                   | 41.79517 | -87.59710 | (41.79517060450029, -87.59710020185207)  |\n\n",
            "text/latex": "A tibble: 5 × 17\n\\begin{tabular}{lllllllllllllllll}\n ID & DBAName & AKAName & License & FacilityType & Risk & Address & City & State & ZIP & InspectionDate & InspectionType & Results & Violations & Latitude & Longitude & Location\\\\\n <dbl> & <chr> & <chr> & <dbl> & <chr> & <chr> & <chr> & <chr> & <chr> & <dbl> & <chr> & <chr> & <chr> & <chr> & <dbl> & <dbl> & <chr>\\\\\n\\hline\n\t 1995829 & SUBWAY                    & SUBWAY                & 1679112 & Restaurant & Risk 1 (High) & 8711 S ASHLAND AVE & CHICAGO & IL & 60620 & 03/17/2017 & Canvass Re-Inspection & Pass & 19. OUTSIDE GARBAGE WASTE GREASE AND STORAGE AREA; CLEAN, RODENT PROOF, ALL CONTAINERS COVERED - Comments: OUTSIDE GARBAGE AREA BETTER MAINTAINED. \\textbar{} 21. * CERTIFIED FOOD MANAGER ON SITE WHEN POTENTIALLY HAZARDOUS FOODS ARE  PREPARED AND SERVED - Comments: CERTIFIED MANAGER ON PREMISES. \\textbar{} 45. FOOD HANDLER REQUIREMENTS MET - Comments: ALL EMPLOYEES THAT FALL UNDER THE CATEGORY OF FOOD HANDLER THAT ARE NOT CERTIFIED FOOD SERVICE MANAGERS MUST MEET THE IDPH FOOD HANDLER REQUIREMENTS. \\textbar{} 41. PREMISES MAINTAINED FREE OF LITTER, UNNECESSARY ARTICLES, CLEANING  EQUIPMENT PROPERLY STORED - Comments: ABATED. \\textbar{} 35. WALLS, CEILINGS, ATTACHED EQUIPMENT CONSTRUCTED PER CODE: GOOD REPAIR, SURFACES CLEAN AND DUST-LESS CLEANING METHODS - Comments: CLEAN STAINS AND FOOD SPLATTERS FROM WALLS THROUGGHOUT WHERE PRESENT.\n \\textbar{} 33. FOOD AND NON-FOOD CONTACT EQUIPMENT UTENSILS CLEAN, FREE OF ABRASIVE DETERGENTS - Comments: : CLEAN THE CABINET INTERIOR UNDERNEATH THE SELF-SERVICE POP DISPENSING STATION(POP RESIDUE ON THE SHELF). \\textbar{} 32. FOOD AND NON-FOOD CONTACT SURFACES PROPERLY DESIGNED, CONSTRUCTED AND MAINTAINED - Comments:  CLEAN FOOD DEBRIS FROM FLOOR INSIDE WALK-IN COOLER. PAINT EXTERIOR OF DOOR LEADING INTO THE REAR DISH WASHING AREA.                                                                                                                                                                                                                                                       & 41.73541 & -87.66291 & (41.735408702583165, -87.66290968424336)\\\\\n\t 1995817 & VENEZUELAN BOWL GRILL LLC & VENEZUELAN BOWL GRILL & 2424110 & Restaurant & Risk 1 (High) & 2436 N LINCOLN AVE & CHICAGO & IL & 60614 & 03/17/2017 & Canvass Re-Inspection & Pass & 14. PREVIOUS SERIOUS VIOLATION CORRECTED, 7-42-090 - Comments: ALL VIOLATIONS HAVE BEEN CORRECTED. FLOORS, WALLS, KITCHEN HOOD AND FILTERS, BACK FLOW HAS BEEN INSTALLED ON ICE MACHINE, AND ITEMS HAVE BEEN REMOVED OR ELEVATED OFF FLOORS IN BASEMENT. \\textbar{} 22. DISH MACHINES: PROVIDED WITH ACCURATE THERMOMETERS, CHEMICAL TEST KITS AND SUITABLE GAUGE COCK - Comments: QUATERNARY SANITIZING TEST STRIPS HAVE BEEN PROVIDED. \\textbar{} 32. FOOD AND NON-FOOD CONTACT SURFACES PROPERLY DESIGNED, CONSTRUCTED AND MAINTAINED - Comments: VIOLATION CORRECTED. \\textbar{} 33. FOOD AND NON-FOOD CONTACT EQUIPMENT UTENSILS CLEAN, FREE OF ABRASIVE DETERGENTS - Comments: VIOLATION CORRECTED. \\textbar{} 34. FLOORS: CONSTRUCTED PER CODE, CLEANED, GOOD REPAIR, COVING INSTALLED, DUST-LESS CLEANING METHODS USED - Comments: VIOLATION CORRECTED. \\textbar{} 36. LIGHTING: REQUIRED MINIMUM FOOT-CANDLES OF LIGHT PROVIDED, FIXTURES SHIELDED - Comments: VIOLATION CORRECTED. \\textbar{} 38. VENTILATION: ROOMS AND EQUIPMENT VENTED AS REQUIRED: PLUMBING: INSTALLED AND MAINTAINED - Comments: VIOLATION CORRECTED. \\textbar{} 45. FOOD HANDLER REQUIREMENTS MET - Comments: VIOLATION CORRECTED. \\textbar{} 35. WALLS, CEILINGS, ATTACHED EQUIPMENT CONSTRUCTED PER CODE: GOOD REPAIR, SURFACES CLEAN AND DUST-LESS CLEANING METHODS - Comments: WASHROOM WALLS SEALED, HOWEVER, WALLS IN SOUTH-EAST WASHROOM (CLOSEST TO KITCHEN) STILL HAVE SOME ROUGH AREAS PRESENT. SURFACE MUST BE COMPLETELY SMOOTH AND EASILY CLEANABLE, AND MAINTAIN.                                                & 41.92619 & -87.65002 & (41.926190902860434, -87.65001746088006)\\\\\n\t 1995822 & SEVEN TEN                 & SEVEN TEN             & 1172093 & Restaurant & Risk 1 (High) & 1055 E 55TH ST     & CHICAGO & IL & 60615 & 03/17/2017 & Canvass Re-Inspection & Pass & 18. NO EVIDENCE OF RODENT OR INSECT OUTER OPENINGS PROTECTED/RODENT PROOFED, A WRITTEN LOG SHALL BE MAINTAINED AVAILABLE TO THE INSPECTORS - Comments: PREMISES SERVICED BY TOM VEL PEST CONTROL ON 3-16-17 AND MICE DROPPINGS REMOVED IN STORAGE AREAS. \\textbar{} 30. FOOD IN ORIGINAL CONTAINER, PROPERLY LABELED: CUSTOMER ADVISORY POSTED AS NEEDED - Comments: BULK CONTAINERS LABELED IN PREP AND STORAGE AREAS. \\textbar{} 33. FOOD AND NON-FOOD CONTACT EQUIPMENT UTENSILS CLEAN, FREE OF ABRASIVE DETERGENTS - Comments: SHELVES CLEANED IN STORAGE AND BAR AREAS. \\textbar{} 34. FLOORS: CONSTRUCTED PER CODE, CLEANED, GOOD REPAIR, COVING INSTALLED, DUST-LESS CLEANING METHODS USED - Comments: GROUT ALL LOOSE FLOOR TILES IN BAR AREA. \\textbar{} 35. WALLS, CEILINGS, ATTACHED EQUIPMENT CONSTRUCTED PER CODE: GOOD REPAIR, SURFACES CLEAN AND DUST-LESS CLEANING METHODS - Comments: REPLACE MISSING BASEBOARDS ALONG WALLS UNDER DISH MACHINE. REPLACE DAMAGED BASEBOARDS AND SEAL OPENINGS ALONG BASEBOARDS NEAR UTILITY SINK. REPLACE DAMAGED WALL TILES ALONG LOWER SOUTH WALL IN MEN WASHROOM. SEAL OPENING UNDER WASHBOWLS IN WOMEN WASHROOM. \n \\textbar{} 41. PREMISES MAINTAINED FREE OF LITTER, UNNECESSARY ARTICLES, CLEANING  EQUIPMENT PROPERLY STORED - Comments: ELEVATE ALL STOCK OFF FLOOR IN LIQUOR STORAGE AREA. STORE STOCK OFF FLOOR AND AWAY FROM WALLS FOR EASY CLEANING AND PEST CONTROL. ORGANIZE WALK-IN COOLER. \n \\textbar{} 43. FOOD (ICE) DISPENSING UTENSILS, WASH CLOTHS PROPERLY STORED - Comments: ICE SCOOP PROPERLY STORED IN ICE BIN. & 41.79492 & -87.59985 & (41.79492106897254, -87.59985203106729) \\\\\n\t 1995814 & CHISME EXPRESS INC.       & CHISME EXPRESS INC.   & 1334960 & Restaurant & Risk 1 (High) & 5955 S PULASKI RD  & CHICAGO & IL & 60629 & 03/17/2017 & Canvass               & Pass & 32. FOOD AND NON-FOOD CONTACT SURFACES PROPERLY DESIGNED, CONSTRUCTED AND MAINTAINED - Comments: OBSERVED RUSTY STORAGE SHELVES OIN THE WALK-IN COOLER, INSTRUCTED TO REMOVE RUST. \\textbar{} 33. FOOD AND NON-FOOD CONTACT EQUIPMENT UTENSILS CLEAN, FREE OF ABRASIVE DETERGENTS - Comments: OBSERVED THE FRONT CUTTING BOARD NOT CLEAN, INSTRUCTED TO CLEAN AND SANITIZE. \\textbar{} 34. FLOORS: CONSTRUCTED PER CODE, CLEANED, GOOD REPAIR, COVING INSTALLED, DUST-LESS CLEANING METHODS USED - Comments: OBSERVED THE FLOOR IN THE WALK IN COOLER/UNDER STORAGE SHELVES NOT CLEAN, INSTRUCTED TO CLEAN. \\textbar{} 35. WALLS, CEILINGS, ATTACHED EQUIPMENT CONSTRUCTED PER CODE: GOOD REPAIR, SURFACES CLEAN AND DUST-LESS CLEANING METHODS - Comments: OBSERVED THE WALLS INSIDE THE WALK-IN COOLER, AND OUTSIDE THE WALK-IN COOLER NOT CLEAN, INSTRUCTED TO CLEAN.                                                                                                                                                                                                                                                                                                                                                                                                                                                                                                                                                                                                                                                                                          & 41.78429 & -87.72277 & (41.784288983210146, -87.72277078477818)\\\\\n\t 1995811 & THE NILE RESTAURANT       & THE NILE RESTAURANT   & 2334190 & Restaurant & Risk 1 (High) & 1162 E 55TH ST     & CHICAGO & IL & 60615 & 03/17/2017 & Canvass Re-Inspection & Pass & 18. NO EVIDENCE OF RODENT OR INSECT OUTER OPENINGS PROTECTED/RODENT PROOFED, A WRITTEN LOG SHALL BE MAINTAINED AVAILABLE TO THE INSPECTORS - Comments: DOORS REPAIRED. \\textbar{} 32. FOOD AND NON-FOOD CONTACT SURFACES PROPERLY DESIGNED, CONSTRUCTED AND MAINTAINED - Comments:  REPLACE DAMAGED GASKET ON REACH-IN COOLER IN REAR PREP AREA. \n \\textbar{} 33. FOOD AND NON-FOOD CONTACT EQUIPMENT UTENSILS CLEAN, FREE OF ABRASIVE DETERGENTS - Comments: CLEAN INTERIOR AND EXTERIOR OF COOLERS, FREEZERS, COOKING EQUIPMENT, PREP TABLES. \n \\textbar{} 41. PREMISES MAINTAINED FREE OF LITTER, UNNECESSARY ARTICLES, CLEANING  EQUIPMENT PROPERLY STORED - Comments: ELEVATE ALL STOCK OFF FLOOR IN STORAGE AREAS. ORGANIZE REAR STORAGE AREA AND REACH-IN COOLERS. \n \\textbar{} 34. FLOORS: CONSTRUCTED PER CODE, CLEANED, GOOD REPAIR, COVING INSTALLED, DUST-LESS CLEANING METHODS USED - Comments: CLEAN AND MAINTAIN FLOOR DRAIN UNDER 3-COMPARTMENT SINK.                                                                                                                                                                                                                                                                                                                                                                                                                                                                                                                                                                                                   & 41.79517 & -87.59710 & (41.79517060450029, -87.59710020185207) \\\\\n\\end{tabular}\n",
            "text/plain": [
              "  ID      DBAName                   AKAName               License FacilityType\n",
              "1 1995829 SUBWAY                    SUBWAY                1679112 Restaurant  \n",
              "2 1995817 VENEZUELAN BOWL GRILL LLC VENEZUELAN BOWL GRILL 2424110 Restaurant  \n",
              "3 1995822 SEVEN TEN                 SEVEN TEN             1172093 Restaurant  \n",
              "4 1995814 CHISME EXPRESS INC.       CHISME EXPRESS INC.   1334960 Restaurant  \n",
              "5 1995811 THE NILE RESTAURANT       THE NILE RESTAURANT   2334190 Restaurant  \n",
              "  Risk          Address            City    State ZIP   InspectionDate\n",
              "1 Risk 1 (High) 8711 S ASHLAND AVE CHICAGO IL    60620 03/17/2017    \n",
              "2 Risk 1 (High) 2436 N LINCOLN AVE CHICAGO IL    60614 03/17/2017    \n",
              "3 Risk 1 (High) 1055 E 55TH ST     CHICAGO IL    60615 03/17/2017    \n",
              "4 Risk 1 (High) 5955 S PULASKI RD  CHICAGO IL    60629 03/17/2017    \n",
              "5 Risk 1 (High) 1162 E 55TH ST     CHICAGO IL    60615 03/17/2017    \n",
              "  InspectionType        Results\n",
              "1 Canvass Re-Inspection Pass   \n",
              "2 Canvass Re-Inspection Pass   \n",
              "3 Canvass Re-Inspection Pass   \n",
              "4 Canvass               Pass   \n",
              "5 Canvass Re-Inspection Pass   \n",
              "  Violations                                                                                                                                                                                                                                                                                                                                                                                                                                                                                                                                                                                                                                                                                                                                                                                                                                                                                                                                                                                                                                                                                                                                                                                                                                                                                                                                                                                                                                                                                                                            \n",
              "1 19. OUTSIDE GARBAGE WASTE GREASE AND STORAGE AREA; CLEAN, RODENT PROOF, ALL CONTAINERS COVERED - Comments: OUTSIDE GARBAGE AREA BETTER MAINTAINED. | 21. * CERTIFIED FOOD MANAGER ON SITE WHEN POTENTIALLY HAZARDOUS FOODS ARE  PREPARED AND SERVED - Comments: CERTIFIED MANAGER ON PREMISES. | 45. FOOD HANDLER REQUIREMENTS MET - Comments: ALL EMPLOYEES THAT FALL UNDER THE CATEGORY OF FOOD HANDLER THAT ARE NOT CERTIFIED FOOD SERVICE MANAGERS MUST MEET THE IDPH FOOD HANDLER REQUIREMENTS. | 41. PREMISES MAINTAINED FREE OF LITTER, UNNECESSARY ARTICLES, CLEANING  EQUIPMENT PROPERLY STORED - Comments: ABATED. | 35. WALLS, CEILINGS, ATTACHED EQUIPMENT CONSTRUCTED PER CODE: GOOD REPAIR, SURFACES CLEAN AND DUST-LESS CLEANING METHODS - Comments: CLEAN STAINS AND FOOD SPLATTERS FROM WALLS THROUGGHOUT WHERE PRESENT.\\n | 33. FOOD AND NON-FOOD CONTACT EQUIPMENT UTENSILS CLEAN, FREE OF ABRASIVE DETERGENTS - Comments: : CLEAN THE CABINET INTERIOR UNDERNEATH THE SELF-SERVICE POP DISPENSING STATION(POP RESIDUE ON THE SHELF). | 32. FOOD AND NON-FOOD CONTACT SURFACES PROPERLY DESIGNED, CONSTRUCTED AND MAINTAINED - Comments:  CLEAN FOOD DEBRIS FROM FLOOR INSIDE WALK-IN COOLER. PAINT EXTERIOR OF DOOR LEADING INTO THE REAR DISH WASHING AREA.                                                                                                                                                                                                                                                      \n",
              "2 14. PREVIOUS SERIOUS VIOLATION CORRECTED, 7-42-090 - Comments: ALL VIOLATIONS HAVE BEEN CORRECTED. FLOORS, WALLS, KITCHEN HOOD AND FILTERS, BACK FLOW HAS BEEN INSTALLED ON ICE MACHINE, AND ITEMS HAVE BEEN REMOVED OR ELEVATED OFF FLOORS IN BASEMENT. | 22. DISH MACHINES: PROVIDED WITH ACCURATE THERMOMETERS, CHEMICAL TEST KITS AND SUITABLE GAUGE COCK - Comments: QUATERNARY SANITIZING TEST STRIPS HAVE BEEN PROVIDED. | 32. FOOD AND NON-FOOD CONTACT SURFACES PROPERLY DESIGNED, CONSTRUCTED AND MAINTAINED - Comments: VIOLATION CORRECTED. | 33. FOOD AND NON-FOOD CONTACT EQUIPMENT UTENSILS CLEAN, FREE OF ABRASIVE DETERGENTS - Comments: VIOLATION CORRECTED. | 34. FLOORS: CONSTRUCTED PER CODE, CLEANED, GOOD REPAIR, COVING INSTALLED, DUST-LESS CLEANING METHODS USED - Comments: VIOLATION CORRECTED. | 36. LIGHTING: REQUIRED MINIMUM FOOT-CANDLES OF LIGHT PROVIDED, FIXTURES SHIELDED - Comments: VIOLATION CORRECTED. | 38. VENTILATION: ROOMS AND EQUIPMENT VENTED AS REQUIRED: PLUMBING: INSTALLED AND MAINTAINED - Comments: VIOLATION CORRECTED. | 45. FOOD HANDLER REQUIREMENTS MET - Comments: VIOLATION CORRECTED. | 35. WALLS, CEILINGS, ATTACHED EQUIPMENT CONSTRUCTED PER CODE: GOOD REPAIR, SURFACES CLEAN AND DUST-LESS CLEANING METHODS - Comments: WASHROOM WALLS SEALED, HOWEVER, WALLS IN SOUTH-EAST WASHROOM (CLOSEST TO KITCHEN) STILL HAVE SOME ROUGH AREAS PRESENT. SURFACE MUST BE COMPLETELY SMOOTH AND EASILY CLEANABLE, AND MAINTAIN.                                               \n",
              "3 18. NO EVIDENCE OF RODENT OR INSECT OUTER OPENINGS PROTECTED/RODENT PROOFED, A WRITTEN LOG SHALL BE MAINTAINED AVAILABLE TO THE INSPECTORS - Comments: PREMISES SERVICED BY TOM VEL PEST CONTROL ON 3-16-17 AND MICE DROPPINGS REMOVED IN STORAGE AREAS. | 30. FOOD IN ORIGINAL CONTAINER, PROPERLY LABELED: CUSTOMER ADVISORY POSTED AS NEEDED - Comments: BULK CONTAINERS LABELED IN PREP AND STORAGE AREAS. | 33. FOOD AND NON-FOOD CONTACT EQUIPMENT UTENSILS CLEAN, FREE OF ABRASIVE DETERGENTS - Comments: SHELVES CLEANED IN STORAGE AND BAR AREAS. | 34. FLOORS: CONSTRUCTED PER CODE, CLEANED, GOOD REPAIR, COVING INSTALLED, DUST-LESS CLEANING METHODS USED - Comments: GROUT ALL LOOSE FLOOR TILES IN BAR AREA. | 35. WALLS, CEILINGS, ATTACHED EQUIPMENT CONSTRUCTED PER CODE: GOOD REPAIR, SURFACES CLEAN AND DUST-LESS CLEANING METHODS - Comments: REPLACE MISSING BASEBOARDS ALONG WALLS UNDER DISH MACHINE. REPLACE DAMAGED BASEBOARDS AND SEAL OPENINGS ALONG BASEBOARDS NEAR UTILITY SINK. REPLACE DAMAGED WALL TILES ALONG LOWER SOUTH WALL IN MEN WASHROOM. SEAL OPENING UNDER WASHBOWLS IN WOMEN WASHROOM. \\n | 41. PREMISES MAINTAINED FREE OF LITTER, UNNECESSARY ARTICLES, CLEANING  EQUIPMENT PROPERLY STORED - Comments: ELEVATE ALL STOCK OFF FLOOR IN LIQUOR STORAGE AREA. STORE STOCK OFF FLOOR AND AWAY FROM WALLS FOR EASY CLEANING AND PEST CONTROL. ORGANIZE WALK-IN COOLER. \\n | 43. FOOD (ICE) DISPENSING UTENSILS, WASH CLOTHS PROPERLY STORED - Comments: ICE SCOOP PROPERLY STORED IN ICE BIN.\n",
              "4 32. FOOD AND NON-FOOD CONTACT SURFACES PROPERLY DESIGNED, CONSTRUCTED AND MAINTAINED - Comments: OBSERVED RUSTY STORAGE SHELVES OIN THE WALK-IN COOLER, INSTRUCTED TO REMOVE RUST. | 33. FOOD AND NON-FOOD CONTACT EQUIPMENT UTENSILS CLEAN, FREE OF ABRASIVE DETERGENTS - Comments: OBSERVED THE FRONT CUTTING BOARD NOT CLEAN, INSTRUCTED TO CLEAN AND SANITIZE. | 34. FLOORS: CONSTRUCTED PER CODE, CLEANED, GOOD REPAIR, COVING INSTALLED, DUST-LESS CLEANING METHODS USED - Comments: OBSERVED THE FLOOR IN THE WALK IN COOLER/UNDER STORAGE SHELVES NOT CLEAN, INSTRUCTED TO CLEAN. | 35. WALLS, CEILINGS, ATTACHED EQUIPMENT CONSTRUCTED PER CODE: GOOD REPAIR, SURFACES CLEAN AND DUST-LESS CLEANING METHODS - Comments: OBSERVED THE WALLS INSIDE THE WALK-IN COOLER, AND OUTSIDE THE WALK-IN COOLER NOT CLEAN, INSTRUCTED TO CLEAN.                                                                                                                                                                                                                                                                                                                                                                                                                                                                                                                                                                                                                                                                                         \n",
              "5 18. NO EVIDENCE OF RODENT OR INSECT OUTER OPENINGS PROTECTED/RODENT PROOFED, A WRITTEN LOG SHALL BE MAINTAINED AVAILABLE TO THE INSPECTORS - Comments: DOORS REPAIRED. | 32. FOOD AND NON-FOOD CONTACT SURFACES PROPERLY DESIGNED, CONSTRUCTED AND MAINTAINED - Comments:  REPLACE DAMAGED GASKET ON REACH-IN COOLER IN REAR PREP AREA. \\n | 33. FOOD AND NON-FOOD CONTACT EQUIPMENT UTENSILS CLEAN, FREE OF ABRASIVE DETERGENTS - Comments: CLEAN INTERIOR AND EXTERIOR OF COOLERS, FREEZERS, COOKING EQUIPMENT, PREP TABLES. \\n | 41. PREMISES MAINTAINED FREE OF LITTER, UNNECESSARY ARTICLES, CLEANING  EQUIPMENT PROPERLY STORED - Comments: ELEVATE ALL STOCK OFF FLOOR IN STORAGE AREAS. ORGANIZE REAR STORAGE AREA AND REACH-IN COOLERS. \\n | 34. FLOORS: CONSTRUCTED PER CODE, CLEANED, GOOD REPAIR, COVING INSTALLED, DUST-LESS CLEANING METHODS USED - Comments: CLEAN AND MAINTAIN FLOOR DRAIN UNDER 3-COMPARTMENT SINK.                                                                                                                                                                                                                                                                                                                                                                                                                                                                                                                                                                                                  \n",
              "  Latitude Longitude Location                                \n",
              "1 41.73541 -87.66291 (41.735408702583165, -87.66290968424336)\n",
              "2 41.92619 -87.65002 (41.926190902860434, -87.65001746088006)\n",
              "3 41.79492 -87.59985 (41.79492106897254, -87.59985203106729) \n",
              "4 41.78429 -87.72277 (41.784288983210146, -87.72277078477818)\n",
              "5 41.79517 -87.59710 (41.79517060450029, -87.59710020185207) "
            ]
          },
          "metadata": {}
        }
      ]
    },
    {
      "cell_type": "code",
      "source": [
        "glimpse(inspections)"
      ],
      "metadata": {
        "colab": {
          "base_uri": "https://localhost:8080/"
        },
        "id": "voY9f4_BtKKT",
        "outputId": "21a8e6e1-4f65-4cdb-8234-039db9548213"
      },
      "execution_count": 65,
      "outputs": [
        {
          "output_type": "stream",
          "name": "stdout",
          "text": [
            "Rows: 145,606\n",
            "Columns: 17\n",
            "$ ID             \u001b[3m\u001b[90m<dbl>\u001b[39m\u001b[23m 1995829\u001b[90m, \u001b[39m1995817\u001b[90m, \u001b[39m1995822\u001b[90m, \u001b[39m1995814\u001b[90m, \u001b[39m1995811\u001b[90m, \u001b[39m1995752\u001b[90m, \u001b[39m1…\n",
            "$ DBAName        \u001b[3m\u001b[90m<chr>\u001b[39m\u001b[23m \"SUBWAY\"\u001b[90m, \u001b[39m\"VENEZUELAN BOWL GRILL LLC\"\u001b[90m, \u001b[39m\"SEVEN TEN\"\u001b[90m, \u001b[39m\"CH…\n",
            "$ AKAName        \u001b[3m\u001b[90m<chr>\u001b[39m\u001b[23m \"SUBWAY\"\u001b[90m, \u001b[39m\"VENEZUELAN BOWL GRILL\"\u001b[90m, \u001b[39m\"SEVEN TEN\"\u001b[90m, \u001b[39m\"CHISME…\n",
            "$ License        \u001b[3m\u001b[90m<dbl>\u001b[39m\u001b[23m 1679112\u001b[90m, \u001b[39m2424110\u001b[90m, \u001b[39m1172093\u001b[90m, \u001b[39m1334960\u001b[90m, \u001b[39m2334190\u001b[90m, \u001b[39m2517730\u001b[90m, \u001b[39m2…\n",
            "$ FacilityType   \u001b[3m\u001b[90m<chr>\u001b[39m\u001b[23m \"Restaurant\"\u001b[90m, \u001b[39m\"Restaurant\"\u001b[90m, \u001b[39m\"Restaurant\"\u001b[90m, \u001b[39m\"Restaurant\"\u001b[90m,\u001b[39m…\n",
            "$ Risk           \u001b[3m\u001b[90m<chr>\u001b[39m\u001b[23m \"Risk 1 (High)\"\u001b[90m, \u001b[39m\"Risk 1 (High)\"\u001b[90m, \u001b[39m\"Risk 1 (High)\"\u001b[90m, \u001b[39m\"Ris…\n",
            "$ Address        \u001b[3m\u001b[90m<chr>\u001b[39m\u001b[23m \"8711 S ASHLAND AVE\"\u001b[90m, \u001b[39m\"2436 N LINCOLN AVE\"\u001b[90m, \u001b[39m\"1055 E 55T…\n",
            "$ City           \u001b[3m\u001b[90m<chr>\u001b[39m\u001b[23m \"CHICAGO\"\u001b[90m, \u001b[39m\"CHICAGO\"\u001b[90m, \u001b[39m\"CHICAGO\"\u001b[90m, \u001b[39m\"CHICAGO\"\u001b[90m, \u001b[39m\"CHICAGO\"\u001b[90m, \u001b[39m…\n",
            "$ State          \u001b[3m\u001b[90m<chr>\u001b[39m\u001b[23m \"IL\"\u001b[90m, \u001b[39m\"IL\"\u001b[90m, \u001b[39m\"IL\"\u001b[90m, \u001b[39m\"IL\"\u001b[90m, \u001b[39m\"IL\"\u001b[90m, \u001b[39m\"IL\"\u001b[90m, \u001b[39m\"IL\"\u001b[90m, \u001b[39m\"IL\"\u001b[90m, \u001b[39m\"IL\"\u001b[90m, \u001b[39m\"…\n",
            "$ ZIP            \u001b[3m\u001b[90m<dbl>\u001b[39m\u001b[23m 60620\u001b[90m, \u001b[39m60614\u001b[90m, \u001b[39m60615\u001b[90m, \u001b[39m60629\u001b[90m, \u001b[39m60615\u001b[90m, \u001b[39m60621\u001b[90m, \u001b[39m60630\u001b[90m, \u001b[39m60614\u001b[90m,\u001b[39m…\n",
            "$ InspectionDate \u001b[3m\u001b[90m<chr>\u001b[39m\u001b[23m \"03/17/2017\"\u001b[90m, \u001b[39m\"03/17/2017\"\u001b[90m, \u001b[39m\"03/17/2017\"\u001b[90m, \u001b[39m\"03/17/2017\"\u001b[90m,\u001b[39m…\n",
            "$ InspectionType \u001b[3m\u001b[90m<chr>\u001b[39m\u001b[23m \"Canvass Re-Inspection\"\u001b[90m, \u001b[39m\"Canvass Re-Inspection\"\u001b[90m, \u001b[39m\"Canv…\n",
            "$ Results        \u001b[3m\u001b[90m<chr>\u001b[39m\u001b[23m \"Pass\"\u001b[90m, \u001b[39m\"Pass\"\u001b[90m, \u001b[39m\"Pass\"\u001b[90m, \u001b[39m\"Pass\"\u001b[90m, \u001b[39m\"Pass\"\u001b[90m, \u001b[39m\"Pass\"\u001b[90m, \u001b[39m\"Out of…\n",
            "$ Violations     \u001b[3m\u001b[90m<chr>\u001b[39m\u001b[23m \"19. OUTSIDE GARBAGE WASTE GREASE AND STORAGE AREA; CLE…\n",
            "$ Latitude       \u001b[3m\u001b[90m<dbl>\u001b[39m\u001b[23m 41.73541\u001b[90m, \u001b[39m41.92619\u001b[90m, \u001b[39m41.79492\u001b[90m, \u001b[39m41.78429\u001b[90m, \u001b[39m41.79517\u001b[90m, \u001b[39m41.77…\n",
            "$ Longitude      \u001b[3m\u001b[90m<dbl>\u001b[39m\u001b[23m -87.66291\u001b[90m, \u001b[39m-87.65002\u001b[90m, \u001b[39m-87.59985\u001b[90m, \u001b[39m-87.72277\u001b[90m, \u001b[39m-87.59710\u001b[90m, \u001b[39m…\n",
            "$ Location       \u001b[3m\u001b[90m<chr>\u001b[39m\u001b[23m \"(41.735408702583165, -87.66290968424336)\"\u001b[90m, \u001b[39m\"(41.926190…\n"
          ]
        }
      ]
    },
    {
      "cell_type": "code",
      "source": [
        "region<-unite(inspections,Region,City,State,sep=\" ,\")"
      ],
      "metadata": {
        "id": "UPJbaC4hy2QH"
      },
      "execution_count": 66,
      "outputs": []
    },
    {
      "cell_type": "code",
      "source": [
        "glimpse(region)"
      ],
      "metadata": {
        "colab": {
          "base_uri": "https://localhost:8080/"
        },
        "id": "mv51BK-_y2MM",
        "outputId": "b2f13ebf-79ba-490a-837e-fa3cb0429768"
      },
      "execution_count": 67,
      "outputs": [
        {
          "output_type": "stream",
          "name": "stdout",
          "text": [
            "Rows: 145,606\n",
            "Columns: 16\n",
            "$ ID             \u001b[3m\u001b[90m<dbl>\u001b[39m\u001b[23m 1995829\u001b[90m, \u001b[39m1995817\u001b[90m, \u001b[39m1995822\u001b[90m, \u001b[39m1995814\u001b[90m, \u001b[39m1995811\u001b[90m, \u001b[39m1995752\u001b[90m, \u001b[39m1…\n",
            "$ DBAName        \u001b[3m\u001b[90m<chr>\u001b[39m\u001b[23m \"SUBWAY\"\u001b[90m, \u001b[39m\"VENEZUELAN BOWL GRILL LLC\"\u001b[90m, \u001b[39m\"SEVEN TEN\"\u001b[90m, \u001b[39m\"CH…\n",
            "$ AKAName        \u001b[3m\u001b[90m<chr>\u001b[39m\u001b[23m \"SUBWAY\"\u001b[90m, \u001b[39m\"VENEZUELAN BOWL GRILL\"\u001b[90m, \u001b[39m\"SEVEN TEN\"\u001b[90m, \u001b[39m\"CHISME…\n",
            "$ License        \u001b[3m\u001b[90m<dbl>\u001b[39m\u001b[23m 1679112\u001b[90m, \u001b[39m2424110\u001b[90m, \u001b[39m1172093\u001b[90m, \u001b[39m1334960\u001b[90m, \u001b[39m2334190\u001b[90m, \u001b[39m2517730\u001b[90m, \u001b[39m2…\n",
            "$ FacilityType   \u001b[3m\u001b[90m<chr>\u001b[39m\u001b[23m \"Restaurant\"\u001b[90m, \u001b[39m\"Restaurant\"\u001b[90m, \u001b[39m\"Restaurant\"\u001b[90m, \u001b[39m\"Restaurant\"\u001b[90m,\u001b[39m…\n",
            "$ Risk           \u001b[3m\u001b[90m<chr>\u001b[39m\u001b[23m \"Risk 1 (High)\"\u001b[90m, \u001b[39m\"Risk 1 (High)\"\u001b[90m, \u001b[39m\"Risk 1 (High)\"\u001b[90m, \u001b[39m\"Ris…\n",
            "$ Address        \u001b[3m\u001b[90m<chr>\u001b[39m\u001b[23m \"8711 S ASHLAND AVE\"\u001b[90m, \u001b[39m\"2436 N LINCOLN AVE\"\u001b[90m, \u001b[39m\"1055 E 55T…\n",
            "$ Region         \u001b[3m\u001b[90m<chr>\u001b[39m\u001b[23m \"CHICAGO ,IL\"\u001b[90m, \u001b[39m\"CHICAGO ,IL\"\u001b[90m, \u001b[39m\"CHICAGO ,IL\"\u001b[90m, \u001b[39m\"CHICAGO ,…\n",
            "$ ZIP            \u001b[3m\u001b[90m<dbl>\u001b[39m\u001b[23m 60620\u001b[90m, \u001b[39m60614\u001b[90m, \u001b[39m60615\u001b[90m, \u001b[39m60629\u001b[90m, \u001b[39m60615\u001b[90m, \u001b[39m60621\u001b[90m, \u001b[39m60630\u001b[90m, \u001b[39m60614\u001b[90m,\u001b[39m…\n",
            "$ InspectionDate \u001b[3m\u001b[90m<chr>\u001b[39m\u001b[23m \"03/17/2017\"\u001b[90m, \u001b[39m\"03/17/2017\"\u001b[90m, \u001b[39m\"03/17/2017\"\u001b[90m, \u001b[39m\"03/17/2017\"\u001b[90m,\u001b[39m…\n",
            "$ InspectionType \u001b[3m\u001b[90m<chr>\u001b[39m\u001b[23m \"Canvass Re-Inspection\"\u001b[90m, \u001b[39m\"Canvass Re-Inspection\"\u001b[90m, \u001b[39m\"Canv…\n",
            "$ Results        \u001b[3m\u001b[90m<chr>\u001b[39m\u001b[23m \"Pass\"\u001b[90m, \u001b[39m\"Pass\"\u001b[90m, \u001b[39m\"Pass\"\u001b[90m, \u001b[39m\"Pass\"\u001b[90m, \u001b[39m\"Pass\"\u001b[90m, \u001b[39m\"Pass\"\u001b[90m, \u001b[39m\"Out of…\n",
            "$ Violations     \u001b[3m\u001b[90m<chr>\u001b[39m\u001b[23m \"19. OUTSIDE GARBAGE WASTE GREASE AND STORAGE AREA; CLE…\n",
            "$ Latitude       \u001b[3m\u001b[90m<dbl>\u001b[39m\u001b[23m 41.73541\u001b[90m, \u001b[39m41.92619\u001b[90m, \u001b[39m41.79492\u001b[90m, \u001b[39m41.78429\u001b[90m, \u001b[39m41.79517\u001b[90m, \u001b[39m41.77…\n",
            "$ Longitude      \u001b[3m\u001b[90m<dbl>\u001b[39m\u001b[23m -87.66291\u001b[90m, \u001b[39m-87.65002\u001b[90m, \u001b[39m-87.59985\u001b[90m, \u001b[39m-87.72277\u001b[90m, \u001b[39m-87.59710\u001b[90m, \u001b[39m…\n",
            "$ Location       \u001b[3m\u001b[90m<chr>\u001b[39m\u001b[23m \"(41.735408702583165, -87.66290968424336)\"\u001b[90m, \u001b[39m\"(41.926190…\n"
          ]
        }
      ]
    },
    {
      "cell_type": "code",
      "source": [
        "regional_inspec<-unite(inspections,Region,City,State,sep=\", \",remove=FALSE)"
      ],
      "metadata": {
        "id": "Rclitl97y2JL"
      },
      "execution_count": 68,
      "outputs": []
    },
    {
      "cell_type": "code",
      "source": [
        "glimpse(regional_inspec)"
      ],
      "metadata": {
        "colab": {
          "base_uri": "https://localhost:8080/"
        },
        "id": "p8A0cu3Oy2GP",
        "outputId": "f231299c-7cb1-449e-88e5-f739d4b2c99b"
      },
      "execution_count": 69,
      "outputs": [
        {
          "output_type": "stream",
          "name": "stdout",
          "text": [
            "Rows: 145,606\n",
            "Columns: 18\n",
            "$ ID             \u001b[3m\u001b[90m<dbl>\u001b[39m\u001b[23m 1995829\u001b[90m, \u001b[39m1995817\u001b[90m, \u001b[39m1995822\u001b[90m, \u001b[39m1995814\u001b[90m, \u001b[39m1995811\u001b[90m, \u001b[39m1995752\u001b[90m, \u001b[39m1…\n",
            "$ DBAName        \u001b[3m\u001b[90m<chr>\u001b[39m\u001b[23m \"SUBWAY\"\u001b[90m, \u001b[39m\"VENEZUELAN BOWL GRILL LLC\"\u001b[90m, \u001b[39m\"SEVEN TEN\"\u001b[90m, \u001b[39m\"CH…\n",
            "$ AKAName        \u001b[3m\u001b[90m<chr>\u001b[39m\u001b[23m \"SUBWAY\"\u001b[90m, \u001b[39m\"VENEZUELAN BOWL GRILL\"\u001b[90m, \u001b[39m\"SEVEN TEN\"\u001b[90m, \u001b[39m\"CHISME…\n",
            "$ License        \u001b[3m\u001b[90m<dbl>\u001b[39m\u001b[23m 1679112\u001b[90m, \u001b[39m2424110\u001b[90m, \u001b[39m1172093\u001b[90m, \u001b[39m1334960\u001b[90m, \u001b[39m2334190\u001b[90m, \u001b[39m2517730\u001b[90m, \u001b[39m2…\n",
            "$ FacilityType   \u001b[3m\u001b[90m<chr>\u001b[39m\u001b[23m \"Restaurant\"\u001b[90m, \u001b[39m\"Restaurant\"\u001b[90m, \u001b[39m\"Restaurant\"\u001b[90m, \u001b[39m\"Restaurant\"\u001b[90m,\u001b[39m…\n",
            "$ Risk           \u001b[3m\u001b[90m<chr>\u001b[39m\u001b[23m \"Risk 1 (High)\"\u001b[90m, \u001b[39m\"Risk 1 (High)\"\u001b[90m, \u001b[39m\"Risk 1 (High)\"\u001b[90m, \u001b[39m\"Ris…\n",
            "$ Address        \u001b[3m\u001b[90m<chr>\u001b[39m\u001b[23m \"8711 S ASHLAND AVE\"\u001b[90m, \u001b[39m\"2436 N LINCOLN AVE\"\u001b[90m, \u001b[39m\"1055 E 55T…\n",
            "$ Region         \u001b[3m\u001b[90m<chr>\u001b[39m\u001b[23m \"CHICAGO, IL\"\u001b[90m, \u001b[39m\"CHICAGO, IL\"\u001b[90m, \u001b[39m\"CHICAGO, IL\"\u001b[90m, \u001b[39m\"CHICAGO, …\n",
            "$ City           \u001b[3m\u001b[90m<chr>\u001b[39m\u001b[23m \"CHICAGO\"\u001b[90m, \u001b[39m\"CHICAGO\"\u001b[90m, \u001b[39m\"CHICAGO\"\u001b[90m, \u001b[39m\"CHICAGO\"\u001b[90m, \u001b[39m\"CHICAGO\"\u001b[90m, \u001b[39m…\n",
            "$ State          \u001b[3m\u001b[90m<chr>\u001b[39m\u001b[23m \"IL\"\u001b[90m, \u001b[39m\"IL\"\u001b[90m, \u001b[39m\"IL\"\u001b[90m, \u001b[39m\"IL\"\u001b[90m, \u001b[39m\"IL\"\u001b[90m, \u001b[39m\"IL\"\u001b[90m, \u001b[39m\"IL\"\u001b[90m, \u001b[39m\"IL\"\u001b[90m, \u001b[39m\"IL\"\u001b[90m, \u001b[39m\"…\n",
            "$ ZIP            \u001b[3m\u001b[90m<dbl>\u001b[39m\u001b[23m 60620\u001b[90m, \u001b[39m60614\u001b[90m, \u001b[39m60615\u001b[90m, \u001b[39m60629\u001b[90m, \u001b[39m60615\u001b[90m, \u001b[39m60621\u001b[90m, \u001b[39m60630\u001b[90m, \u001b[39m60614\u001b[90m,\u001b[39m…\n",
            "$ InspectionDate \u001b[3m\u001b[90m<chr>\u001b[39m\u001b[23m \"03/17/2017\"\u001b[90m, \u001b[39m\"03/17/2017\"\u001b[90m, \u001b[39m\"03/17/2017\"\u001b[90m, \u001b[39m\"03/17/2017\"\u001b[90m,\u001b[39m…\n",
            "$ InspectionType \u001b[3m\u001b[90m<chr>\u001b[39m\u001b[23m \"Canvass Re-Inspection\"\u001b[90m, \u001b[39m\"Canvass Re-Inspection\"\u001b[90m, \u001b[39m\"Canv…\n",
            "$ Results        \u001b[3m\u001b[90m<chr>\u001b[39m\u001b[23m \"Pass\"\u001b[90m, \u001b[39m\"Pass\"\u001b[90m, \u001b[39m\"Pass\"\u001b[90m, \u001b[39m\"Pass\"\u001b[90m, \u001b[39m\"Pass\"\u001b[90m, \u001b[39m\"Pass\"\u001b[90m, \u001b[39m\"Out of…\n",
            "$ Violations     \u001b[3m\u001b[90m<chr>\u001b[39m\u001b[23m \"19. OUTSIDE GARBAGE WASTE GREASE AND STORAGE AREA; CLE…\n",
            "$ Latitude       \u001b[3m\u001b[90m<dbl>\u001b[39m\u001b[23m 41.73541\u001b[90m, \u001b[39m41.92619\u001b[90m, \u001b[39m41.79492\u001b[90m, \u001b[39m41.78429\u001b[90m, \u001b[39m41.79517\u001b[90m, \u001b[39m41.77…\n",
            "$ Longitude      \u001b[3m\u001b[90m<dbl>\u001b[39m\u001b[23m -87.66291\u001b[90m, \u001b[39m-87.65002\u001b[90m, \u001b[39m-87.59985\u001b[90m, \u001b[39m-87.72277\u001b[90m, \u001b[39m-87.59710\u001b[90m, \u001b[39m…\n",
            "$ Location       \u001b[3m\u001b[90m<chr>\u001b[39m\u001b[23m \"(41.735408702583165, -87.66290968424336)\"\u001b[90m, \u001b[39m\"(41.926190…\n"
          ]
        }
      ]
    },
    {
      "cell_type": "code",
      "source": [
        "unique(regional_inspec$Region)"
      ],
      "metadata": {
        "colab": {
          "base_uri": "https://localhost:8080/",
          "height": 104
        },
        "id": "JiX2N9dIy2DM",
        "outputId": "d1ccc3a1-1d5b-460a-a5c5-494dcc8a8678"
      },
      "execution_count": 70,
      "outputs": [
        {
          "output_type": "display_data",
          "data": {
            "text/html": [
              "<style>\n",
              ".list-inline {list-style: none; margin:0; padding: 0}\n",
              ".list-inline>li {display: inline-block}\n",
              ".list-inline>li:not(:last-child)::after {content: \"\\00b7\"; padding: 0 .5ex}\n",
              "</style>\n",
              "<ol class=list-inline><li>'CHICAGO, IL'</li><li>'NA, IL'</li><li>'ELK GROVE VILLAGE, IL'</li><li>'SCHAUMBURG, IL'</li><li>'Chicago, IL'</li><li>'CALUMET CITY, IL'</li><li>'SKOKIE, IL'</li><li>'chicago, IL'</li><li>'EVANSTON, IL'</li><li>'CCHICAGO, IL'</li><li>'NILES NILES, IL'</li><li>'CHicago, IL'</li><li>'ELMHURST, IL'</li><li>'NA, NA'</li><li>'SCHILLER PARK, IL'</li><li>'OAK PARK, IL'</li><li>'BRIDEVIEW, IL'</li><li>'CHESTNUT STREET, IL'</li><li>'BEDFORD PARK, IL'</li><li>'BANNOCKBURNDEERFIELD, IL'</li><li>'CHCICAGO, IL'</li><li>'BLOOMINGDALE, IL'</li><li>'CICERO, IL'</li><li>'Norridge, IL'</li><li>'CHICAGO, NA'</li><li>'CHARLES A HAYES, IL'</li><li>'CHICAGOCHICAGO, IL'</li><li>'MAYWOOD, IL'</li><li>'CHCHICAGO, IL'</li><li>'CHICAGOI, IL'</li><li>'SUMMIT, IL'</li><li>'OOLYMPIA FIELDS, IL'</li><li>'WESTMONT, IL'</li><li>'CHICAGO HEIGHTS, IL'</li><li>'JUSTICE, IL'</li><li>'TINLEY PARK, IL'</li><li>'LOMBARD, IL'</li><li>'EAST HAZEL CREST, IL'</li><li>'COUNTRY CLUB HILLS, IL'</li><li>'STREAMWOOD, IL'</li><li>'BOLINGBROOK, IL'</li><li>'INACTIVE, IL'</li><li>'BERWYN, IL'</li><li>'BURNHAM, IL'</li><li>'DES PLAINES, IL'</li><li>'LAKE ZURICH, IL'</li><li>'OLYMPIA FIELDS, IL'</li><li>'alsip, IL'</li><li>'OAK LAWN, IL'</li><li>'BLUE ISLAND, IL'</li><li>'GLENCOE, IL'</li><li>'FRANKFORT, IL'</li><li>'NAPERVILLE, IL'</li><li>'BROADVIEW, IL'</li><li>'WORTH, IL'</li><li>'Maywood, IL'</li><li>'ALSIP, IL'</li><li>'EVERGREEN PARK, IL'</li></ol>\n"
            ],
            "text/markdown": "1. 'CHICAGO, IL'\n2. 'NA, IL'\n3. 'ELK GROVE VILLAGE, IL'\n4. 'SCHAUMBURG, IL'\n5. 'Chicago, IL'\n6. 'CALUMET CITY, IL'\n7. 'SKOKIE, IL'\n8. 'chicago, IL'\n9. 'EVANSTON, IL'\n10. 'CCHICAGO, IL'\n11. 'NILES NILES, IL'\n12. 'CHicago, IL'\n13. 'ELMHURST, IL'\n14. 'NA, NA'\n15. 'SCHILLER PARK, IL'\n16. 'OAK PARK, IL'\n17. 'BRIDEVIEW, IL'\n18. 'CHESTNUT STREET, IL'\n19. 'BEDFORD PARK, IL'\n20. 'BANNOCKBURNDEERFIELD, IL'\n21. 'CHCICAGO, IL'\n22. 'BLOOMINGDALE, IL'\n23. 'CICERO, IL'\n24. 'Norridge, IL'\n25. 'CHICAGO, NA'\n26. 'CHARLES A HAYES, IL'\n27. 'CHICAGOCHICAGO, IL'\n28. 'MAYWOOD, IL'\n29. 'CHCHICAGO, IL'\n30. 'CHICAGOI, IL'\n31. 'SUMMIT, IL'\n32. 'OOLYMPIA FIELDS, IL'\n33. 'WESTMONT, IL'\n34. 'CHICAGO HEIGHTS, IL'\n35. 'JUSTICE, IL'\n36. 'TINLEY PARK, IL'\n37. 'LOMBARD, IL'\n38. 'EAST HAZEL CREST, IL'\n39. 'COUNTRY CLUB HILLS, IL'\n40. 'STREAMWOOD, IL'\n41. 'BOLINGBROOK, IL'\n42. 'INACTIVE, IL'\n43. 'BERWYN, IL'\n44. 'BURNHAM, IL'\n45. 'DES PLAINES, IL'\n46. 'LAKE ZURICH, IL'\n47. 'OLYMPIA FIELDS, IL'\n48. 'alsip, IL'\n49. 'OAK LAWN, IL'\n50. 'BLUE ISLAND, IL'\n51. 'GLENCOE, IL'\n52. 'FRANKFORT, IL'\n53. 'NAPERVILLE, IL'\n54. 'BROADVIEW, IL'\n55. 'WORTH, IL'\n56. 'Maywood, IL'\n57. 'ALSIP, IL'\n58. 'EVERGREEN PARK, IL'\n\n\n",
            "text/latex": "\\begin{enumerate*}\n\\item 'CHICAGO, IL'\n\\item 'NA, IL'\n\\item 'ELK GROVE VILLAGE, IL'\n\\item 'SCHAUMBURG, IL'\n\\item 'Chicago, IL'\n\\item 'CALUMET CITY, IL'\n\\item 'SKOKIE, IL'\n\\item 'chicago, IL'\n\\item 'EVANSTON, IL'\n\\item 'CCHICAGO, IL'\n\\item 'NILES NILES, IL'\n\\item 'CHicago, IL'\n\\item 'ELMHURST, IL'\n\\item 'NA, NA'\n\\item 'SCHILLER PARK, IL'\n\\item 'OAK PARK, IL'\n\\item 'BRIDEVIEW, IL'\n\\item 'CHESTNUT STREET, IL'\n\\item 'BEDFORD PARK, IL'\n\\item 'BANNOCKBURNDEERFIELD, IL'\n\\item 'CHCICAGO, IL'\n\\item 'BLOOMINGDALE, IL'\n\\item 'CICERO, IL'\n\\item 'Norridge, IL'\n\\item 'CHICAGO, NA'\n\\item 'CHARLES A HAYES, IL'\n\\item 'CHICAGOCHICAGO, IL'\n\\item 'MAYWOOD, IL'\n\\item 'CHCHICAGO, IL'\n\\item 'CHICAGOI, IL'\n\\item 'SUMMIT, IL'\n\\item 'OOLYMPIA FIELDS, IL'\n\\item 'WESTMONT, IL'\n\\item 'CHICAGO HEIGHTS, IL'\n\\item 'JUSTICE, IL'\n\\item 'TINLEY PARK, IL'\n\\item 'LOMBARD, IL'\n\\item 'EAST HAZEL CREST, IL'\n\\item 'COUNTRY CLUB HILLS, IL'\n\\item 'STREAMWOOD, IL'\n\\item 'BOLINGBROOK, IL'\n\\item 'INACTIVE, IL'\n\\item 'BERWYN, IL'\n\\item 'BURNHAM, IL'\n\\item 'DES PLAINES, IL'\n\\item 'LAKE ZURICH, IL'\n\\item 'OLYMPIA FIELDS, IL'\n\\item 'alsip, IL'\n\\item 'OAK LAWN, IL'\n\\item 'BLUE ISLAND, IL'\n\\item 'GLENCOE, IL'\n\\item 'FRANKFORT, IL'\n\\item 'NAPERVILLE, IL'\n\\item 'BROADVIEW, IL'\n\\item 'WORTH, IL'\n\\item 'Maywood, IL'\n\\item 'ALSIP, IL'\n\\item 'EVERGREEN PARK, IL'\n\\end{enumerate*}\n",
            "text/plain": [
              " [1] \"CHICAGO, IL\"              \"NA, IL\"                  \n",
              " [3] \"ELK GROVE VILLAGE, IL\"    \"SCHAUMBURG, IL\"          \n",
              " [5] \"Chicago, IL\"              \"CALUMET CITY, IL\"        \n",
              " [7] \"SKOKIE, IL\"               \"chicago, IL\"             \n",
              " [9] \"EVANSTON, IL\"             \"CCHICAGO, IL\"            \n",
              "[11] \"NILES NILES, IL\"          \"CHicago, IL\"             \n",
              "[13] \"ELMHURST, IL\"             \"NA, NA\"                  \n",
              "[15] \"SCHILLER PARK, IL\"        \"OAK PARK, IL\"            \n",
              "[17] \"BRIDEVIEW, IL\"            \"CHESTNUT STREET, IL\"     \n",
              "[19] \"BEDFORD PARK, IL\"         \"BANNOCKBURNDEERFIELD, IL\"\n",
              "[21] \"CHCICAGO, IL\"             \"BLOOMINGDALE, IL\"        \n",
              "[23] \"CICERO, IL\"               \"Norridge, IL\"            \n",
              "[25] \"CHICAGO, NA\"              \"CHARLES A HAYES, IL\"     \n",
              "[27] \"CHICAGOCHICAGO, IL\"       \"MAYWOOD, IL\"             \n",
              "[29] \"CHCHICAGO, IL\"            \"CHICAGOI, IL\"            \n",
              "[31] \"SUMMIT, IL\"               \"OOLYMPIA FIELDS, IL\"     \n",
              "[33] \"WESTMONT, IL\"             \"CHICAGO HEIGHTS, IL\"     \n",
              "[35] \"JUSTICE, IL\"              \"TINLEY PARK, IL\"         \n",
              "[37] \"LOMBARD, IL\"              \"EAST HAZEL CREST, IL\"    \n",
              "[39] \"COUNTRY CLUB HILLS, IL\"   \"STREAMWOOD, IL\"          \n",
              "[41] \"BOLINGBROOK, IL\"          \"INACTIVE, IL\"            \n",
              "[43] \"BERWYN, IL\"               \"BURNHAM, IL\"             \n",
              "[45] \"DES PLAINES, IL\"          \"LAKE ZURICH, IL\"         \n",
              "[47] \"OLYMPIA FIELDS, IL\"       \"alsip, IL\"               \n",
              "[49] \"OAK LAWN, IL\"             \"BLUE ISLAND, IL\"         \n",
              "[51] \"GLENCOE, IL\"              \"FRANKFORT, IL\"           \n",
              "[53] \"NAPERVILLE, IL\"           \"BROADVIEW, IL\"           \n",
              "[55] \"WORTH, IL\"                \"Maywood, IL\"             \n",
              "[57] \"ALSIP, IL\"                \"EVERGREEN PARK, IL\"      "
            ]
          },
          "metadata": {}
        }
      ]
    },
    {
      "cell_type": "code",
      "source": [
        "\n",
        "names <- c(\"ID\", \"DBAName\", \"AKAName\", \"License\", \"FacilityType\", \"Risk\", \"Address\",\n",
        "           \"City\", \"State\", \"ZIP\", \"InspectionDate\", \"InspectionType\", \"Results\",\n",
        "           \"Violations\", \"Latitude\",\"Longitude\",\"Location\")"
      ],
      "metadata": {
        "id": "vQ0OSrEsz3n0"
      },
      "execution_count": 71,
      "outputs": []
    },
    {
      "cell_type": "code",
      "source": [
        "df <- read_csv('http://594442.youcanlearnit.net/inspections.csv',\n",
        "                        col_names=names, skip=1)"
      ],
      "metadata": {
        "colab": {
          "base_uri": "https://localhost:8080/"
        },
        "id": "BmzHIFJoz3kf",
        "outputId": "0d70d783-ac3f-4feb-9d55-49b1d366dcd9"
      },
      "execution_count": 72,
      "outputs": [
        {
          "output_type": "stream",
          "name": "stderr",
          "text": [
            "\u001b[1mRows: \u001b[22m\u001b[34m145606\u001b[39m \u001b[1mColumns: \u001b[22m\u001b[34m17\u001b[39m\n",
            "\u001b[36m──\u001b[39m \u001b[1mColumn specification\u001b[22m \u001b[36m────────────────────────────────────────────────────────\u001b[39m\n",
            "\u001b[1mDelimiter:\u001b[22m \",\"\n",
            "\u001b[31mchr\u001b[39m (12): DBAName, AKAName, FacilityType, Risk, Address, City, State, Inspec...\n",
            "\u001b[32mdbl\u001b[39m  (5): ID, License, ZIP, Latitude, Longitude\n",
            "\n",
            "\u001b[36mℹ\u001b[39m Use `spec()` to retrieve the full column specification for this data.\n",
            "\u001b[36mℹ\u001b[39m Specify the column types or set `show_col_types = FALSE` to quiet this message.\n"
          ]
        }
      ]
    },
    {
      "cell_type": "code",
      "source": [
        "region<-unite(df,Region,City,State,sep=\", \",remove=FALSE)"
      ],
      "metadata": {
        "id": "VnZOtDePz3hc"
      },
      "execution_count": 73,
      "outputs": []
    },
    {
      "cell_type": "code",
      "source": [
        "unique(region$Region)"
      ],
      "metadata": {
        "colab": {
          "base_uri": "https://localhost:8080/",
          "height": 104
        },
        "id": "sxzi2cQj1wHX",
        "outputId": "d470a2c2-dd2e-4f57-9cde-c3dcbecb1fd3"
      },
      "execution_count": 74,
      "outputs": [
        {
          "output_type": "display_data",
          "data": {
            "text/html": [
              "<style>\n",
              ".list-inline {list-style: none; margin:0; padding: 0}\n",
              ".list-inline>li {display: inline-block}\n",
              ".list-inline>li:not(:last-child)::after {content: \"\\00b7\"; padding: 0 .5ex}\n",
              "</style>\n",
              "<ol class=list-inline><li>'CHICAGO, IL'</li><li>'NA, IL'</li><li>'ELK GROVE VILLAGE, IL'</li><li>'SCHAUMBURG, IL'</li><li>'Chicago, IL'</li><li>'CALUMET CITY, IL'</li><li>'SKOKIE, IL'</li><li>'chicago, IL'</li><li>'EVANSTON, IL'</li><li>'CCHICAGO, IL'</li><li>'NILES NILES, IL'</li><li>'CHicago, IL'</li><li>'ELMHURST, IL'</li><li>'NA, NA'</li><li>'SCHILLER PARK, IL'</li><li>'OAK PARK, IL'</li><li>'BRIDEVIEW, IL'</li><li>'CHESTNUT STREET, IL'</li><li>'BEDFORD PARK, IL'</li><li>'BANNOCKBURNDEERFIELD, IL'</li><li>'CHCICAGO, IL'</li><li>'BLOOMINGDALE, IL'</li><li>'CICERO, IL'</li><li>'Norridge, IL'</li><li>'CHICAGO, NA'</li><li>'CHARLES A HAYES, IL'</li><li>'CHICAGOCHICAGO, IL'</li><li>'MAYWOOD, IL'</li><li>'CHCHICAGO, IL'</li><li>'CHICAGOI, IL'</li><li>'SUMMIT, IL'</li><li>'OOLYMPIA FIELDS, IL'</li><li>'WESTMONT, IL'</li><li>'CHICAGO HEIGHTS, IL'</li><li>'JUSTICE, IL'</li><li>'TINLEY PARK, IL'</li><li>'LOMBARD, IL'</li><li>'EAST HAZEL CREST, IL'</li><li>'COUNTRY CLUB HILLS, IL'</li><li>'STREAMWOOD, IL'</li><li>'BOLINGBROOK, IL'</li><li>'INACTIVE, IL'</li><li>'BERWYN, IL'</li><li>'BURNHAM, IL'</li><li>'DES PLAINES, IL'</li><li>'LAKE ZURICH, IL'</li><li>'OLYMPIA FIELDS, IL'</li><li>'alsip, IL'</li><li>'OAK LAWN, IL'</li><li>'BLUE ISLAND, IL'</li><li>'GLENCOE, IL'</li><li>'FRANKFORT, IL'</li><li>'NAPERVILLE, IL'</li><li>'BROADVIEW, IL'</li><li>'WORTH, IL'</li><li>'Maywood, IL'</li><li>'ALSIP, IL'</li><li>'EVERGREEN PARK, IL'</li></ol>\n"
            ],
            "text/markdown": "1. 'CHICAGO, IL'\n2. 'NA, IL'\n3. 'ELK GROVE VILLAGE, IL'\n4. 'SCHAUMBURG, IL'\n5. 'Chicago, IL'\n6. 'CALUMET CITY, IL'\n7. 'SKOKIE, IL'\n8. 'chicago, IL'\n9. 'EVANSTON, IL'\n10. 'CCHICAGO, IL'\n11. 'NILES NILES, IL'\n12. 'CHicago, IL'\n13. 'ELMHURST, IL'\n14. 'NA, NA'\n15. 'SCHILLER PARK, IL'\n16. 'OAK PARK, IL'\n17. 'BRIDEVIEW, IL'\n18. 'CHESTNUT STREET, IL'\n19. 'BEDFORD PARK, IL'\n20. 'BANNOCKBURNDEERFIELD, IL'\n21. 'CHCICAGO, IL'\n22. 'BLOOMINGDALE, IL'\n23. 'CICERO, IL'\n24. 'Norridge, IL'\n25. 'CHICAGO, NA'\n26. 'CHARLES A HAYES, IL'\n27. 'CHICAGOCHICAGO, IL'\n28. 'MAYWOOD, IL'\n29. 'CHCHICAGO, IL'\n30. 'CHICAGOI, IL'\n31. 'SUMMIT, IL'\n32. 'OOLYMPIA FIELDS, IL'\n33. 'WESTMONT, IL'\n34. 'CHICAGO HEIGHTS, IL'\n35. 'JUSTICE, IL'\n36. 'TINLEY PARK, IL'\n37. 'LOMBARD, IL'\n38. 'EAST HAZEL CREST, IL'\n39. 'COUNTRY CLUB HILLS, IL'\n40. 'STREAMWOOD, IL'\n41. 'BOLINGBROOK, IL'\n42. 'INACTIVE, IL'\n43. 'BERWYN, IL'\n44. 'BURNHAM, IL'\n45. 'DES PLAINES, IL'\n46. 'LAKE ZURICH, IL'\n47. 'OLYMPIA FIELDS, IL'\n48. 'alsip, IL'\n49. 'OAK LAWN, IL'\n50. 'BLUE ISLAND, IL'\n51. 'GLENCOE, IL'\n52. 'FRANKFORT, IL'\n53. 'NAPERVILLE, IL'\n54. 'BROADVIEW, IL'\n55. 'WORTH, IL'\n56. 'Maywood, IL'\n57. 'ALSIP, IL'\n58. 'EVERGREEN PARK, IL'\n\n\n",
            "text/latex": "\\begin{enumerate*}\n\\item 'CHICAGO, IL'\n\\item 'NA, IL'\n\\item 'ELK GROVE VILLAGE, IL'\n\\item 'SCHAUMBURG, IL'\n\\item 'Chicago, IL'\n\\item 'CALUMET CITY, IL'\n\\item 'SKOKIE, IL'\n\\item 'chicago, IL'\n\\item 'EVANSTON, IL'\n\\item 'CCHICAGO, IL'\n\\item 'NILES NILES, IL'\n\\item 'CHicago, IL'\n\\item 'ELMHURST, IL'\n\\item 'NA, NA'\n\\item 'SCHILLER PARK, IL'\n\\item 'OAK PARK, IL'\n\\item 'BRIDEVIEW, IL'\n\\item 'CHESTNUT STREET, IL'\n\\item 'BEDFORD PARK, IL'\n\\item 'BANNOCKBURNDEERFIELD, IL'\n\\item 'CHCICAGO, IL'\n\\item 'BLOOMINGDALE, IL'\n\\item 'CICERO, IL'\n\\item 'Norridge, IL'\n\\item 'CHICAGO, NA'\n\\item 'CHARLES A HAYES, IL'\n\\item 'CHICAGOCHICAGO, IL'\n\\item 'MAYWOOD, IL'\n\\item 'CHCHICAGO, IL'\n\\item 'CHICAGOI, IL'\n\\item 'SUMMIT, IL'\n\\item 'OOLYMPIA FIELDS, IL'\n\\item 'WESTMONT, IL'\n\\item 'CHICAGO HEIGHTS, IL'\n\\item 'JUSTICE, IL'\n\\item 'TINLEY PARK, IL'\n\\item 'LOMBARD, IL'\n\\item 'EAST HAZEL CREST, IL'\n\\item 'COUNTRY CLUB HILLS, IL'\n\\item 'STREAMWOOD, IL'\n\\item 'BOLINGBROOK, IL'\n\\item 'INACTIVE, IL'\n\\item 'BERWYN, IL'\n\\item 'BURNHAM, IL'\n\\item 'DES PLAINES, IL'\n\\item 'LAKE ZURICH, IL'\n\\item 'OLYMPIA FIELDS, IL'\n\\item 'alsip, IL'\n\\item 'OAK LAWN, IL'\n\\item 'BLUE ISLAND, IL'\n\\item 'GLENCOE, IL'\n\\item 'FRANKFORT, IL'\n\\item 'NAPERVILLE, IL'\n\\item 'BROADVIEW, IL'\n\\item 'WORTH, IL'\n\\item 'Maywood, IL'\n\\item 'ALSIP, IL'\n\\item 'EVERGREEN PARK, IL'\n\\end{enumerate*}\n",
            "text/plain": [
              " [1] \"CHICAGO, IL\"              \"NA, IL\"                  \n",
              " [3] \"ELK GROVE VILLAGE, IL\"    \"SCHAUMBURG, IL\"          \n",
              " [5] \"Chicago, IL\"              \"CALUMET CITY, IL\"        \n",
              " [7] \"SKOKIE, IL\"               \"chicago, IL\"             \n",
              " [9] \"EVANSTON, IL\"             \"CCHICAGO, IL\"            \n",
              "[11] \"NILES NILES, IL\"          \"CHicago, IL\"             \n",
              "[13] \"ELMHURST, IL\"             \"NA, NA\"                  \n",
              "[15] \"SCHILLER PARK, IL\"        \"OAK PARK, IL\"            \n",
              "[17] \"BRIDEVIEW, IL\"            \"CHESTNUT STREET, IL\"     \n",
              "[19] \"BEDFORD PARK, IL\"         \"BANNOCKBURNDEERFIELD, IL\"\n",
              "[21] \"CHCICAGO, IL\"             \"BLOOMINGDALE, IL\"        \n",
              "[23] \"CICERO, IL\"               \"Norridge, IL\"            \n",
              "[25] \"CHICAGO, NA\"              \"CHARLES A HAYES, IL\"     \n",
              "[27] \"CHICAGOCHICAGO, IL\"       \"MAYWOOD, IL\"             \n",
              "[29] \"CHCHICAGO, IL\"            \"CHICAGOI, IL\"            \n",
              "[31] \"SUMMIT, IL\"               \"OOLYMPIA FIELDS, IL\"     \n",
              "[33] \"WESTMONT, IL\"             \"CHICAGO HEIGHTS, IL\"     \n",
              "[35] \"JUSTICE, IL\"              \"TINLEY PARK, IL\"         \n",
              "[37] \"LOMBARD, IL\"              \"EAST HAZEL CREST, IL\"    \n",
              "[39] \"COUNTRY CLUB HILLS, IL\"   \"STREAMWOOD, IL\"          \n",
              "[41] \"BOLINGBROOK, IL\"          \"INACTIVE, IL\"            \n",
              "[43] \"BERWYN, IL\"               \"BURNHAM, IL\"             \n",
              "[45] \"DES PLAINES, IL\"          \"LAKE ZURICH, IL\"         \n",
              "[47] \"OLYMPIA FIELDS, IL\"       \"alsip, IL\"               \n",
              "[49] \"OAK LAWN, IL\"             \"BLUE ISLAND, IL\"         \n",
              "[51] \"GLENCOE, IL\"              \"FRANKFORT, IL\"           \n",
              "[53] \"NAPERVILLE, IL\"           \"BROADVIEW, IL\"           \n",
              "[55] \"WORTH, IL\"                \"Maywood, IL\"             \n",
              "[57] \"ALSIP, IL\"                \"EVERGREEN PARK, IL\"      "
            ]
          },
          "metadata": {}
        }
      ]
    },
    {
      "cell_type": "code",
      "source": [
        "install.packages(\"stringr\")\n",
        "library(stringr)"
      ],
      "metadata": {
        "colab": {
          "base_uri": "https://localhost:8080/"
        },
        "id": "e-51IlTz1wD7",
        "outputId": "2377ac03-b8e4-47ef-cdf4-f048387cb0af"
      },
      "execution_count": 75,
      "outputs": [
        {
          "output_type": "stream",
          "name": "stderr",
          "text": [
            "Installing package into ‘/usr/local/lib/R/site-library’\n",
            "(as ‘lib’ is unspecified)\n",
            "\n"
          ]
        }
      ]
    },
    {
      "cell_type": "code",
      "source": [
        "region<-region%>%mutate(Region=str_to_upper(Region))"
      ],
      "metadata": {
        "id": "jD_8uN2M1wA7"
      },
      "execution_count": 76,
      "outputs": []
    },
    {
      "cell_type": "code",
      "source": [
        "head(region,5)"
      ],
      "metadata": {
        "colab": {
          "base_uri": "https://localhost:8080/",
          "height": 1000
        },
        "id": "P7LObAoc1v9v",
        "outputId": "50ff70a4-eb48-4306-844f-01e6f3d15796"
      },
      "execution_count": 77,
      "outputs": [
        {
          "output_type": "display_data",
          "data": {
            "text/html": [
              "<table class=\"dataframe\">\n",
              "<caption>A tibble: 5 × 18</caption>\n",
              "<thead>\n",
              "\t<tr><th scope=col>ID</th><th scope=col>DBAName</th><th scope=col>AKAName</th><th scope=col>License</th><th scope=col>FacilityType</th><th scope=col>Risk</th><th scope=col>Address</th><th scope=col>Region</th><th scope=col>City</th><th scope=col>State</th><th scope=col>ZIP</th><th scope=col>InspectionDate</th><th scope=col>InspectionType</th><th scope=col>Results</th><th scope=col>Violations</th><th scope=col>Latitude</th><th scope=col>Longitude</th><th scope=col>Location</th></tr>\n",
              "\t<tr><th scope=col>&lt;dbl&gt;</th><th scope=col>&lt;chr&gt;</th><th scope=col>&lt;chr&gt;</th><th scope=col>&lt;dbl&gt;</th><th scope=col>&lt;chr&gt;</th><th scope=col>&lt;chr&gt;</th><th scope=col>&lt;chr&gt;</th><th scope=col>&lt;chr&gt;</th><th scope=col>&lt;chr&gt;</th><th scope=col>&lt;chr&gt;</th><th scope=col>&lt;dbl&gt;</th><th scope=col>&lt;chr&gt;</th><th scope=col>&lt;chr&gt;</th><th scope=col>&lt;chr&gt;</th><th scope=col>&lt;chr&gt;</th><th scope=col>&lt;dbl&gt;</th><th scope=col>&lt;dbl&gt;</th><th scope=col>&lt;chr&gt;</th></tr>\n",
              "</thead>\n",
              "<tbody>\n",
              "\t<tr><td>1995829</td><td>SUBWAY                   </td><td>SUBWAY               </td><td>1679112</td><td>Restaurant</td><td>Risk 1 (High)</td><td>8711 S ASHLAND AVE</td><td>CHICAGO, IL</td><td>CHICAGO</td><td>IL</td><td>60620</td><td>03/17/2017</td><td>Canvass Re-Inspection</td><td>Pass</td><td>19. OUTSIDE GARBAGE WASTE GREASE AND STORAGE AREA; CLEAN, RODENT PROOF, ALL CONTAINERS COVERED - Comments: OUTSIDE GARBAGE AREA BETTER MAINTAINED. | 21. * CERTIFIED FOOD MANAGER ON SITE WHEN POTENTIALLY HAZARDOUS FOODS ARE  PREPARED AND SERVED - Comments: CERTIFIED MANAGER ON PREMISES. | 45. FOOD HANDLER REQUIREMENTS MET - Comments: ALL EMPLOYEES THAT FALL UNDER THE CATEGORY OF FOOD HANDLER THAT ARE NOT CERTIFIED FOOD SERVICE MANAGERS MUST MEET THE IDPH FOOD HANDLER REQUIREMENTS. | 41. PREMISES MAINTAINED FREE OF LITTER, UNNECESSARY ARTICLES, CLEANING  EQUIPMENT PROPERLY STORED - Comments: ABATED. | 35. WALLS, CEILINGS, ATTACHED EQUIPMENT CONSTRUCTED PER CODE: GOOD REPAIR, SURFACES CLEAN AND DUST-LESS CLEANING METHODS - Comments: CLEAN STAINS AND FOOD SPLATTERS FROM WALLS THROUGGHOUT WHERE PRESENT.\n",
              " | 33. FOOD AND NON-FOOD CONTACT EQUIPMENT UTENSILS CLEAN, FREE OF ABRASIVE DETERGENTS - Comments: : CLEAN THE CABINET INTERIOR UNDERNEATH THE SELF-SERVICE POP DISPENSING STATION(POP RESIDUE ON THE SHELF). | 32. FOOD AND NON-FOOD CONTACT SURFACES PROPERLY DESIGNED, CONSTRUCTED AND MAINTAINED - Comments:  CLEAN FOOD DEBRIS FROM FLOOR INSIDE WALK-IN COOLER. PAINT EXTERIOR OF DOOR LEADING INTO THE REAR DISH WASHING AREA.                                                                                                                                                                                                                                                      </td><td>41.73541</td><td>-87.66291</td><td>(41.735408702583165, -87.66290968424336)</td></tr>\n",
              "\t<tr><td>1995817</td><td>VENEZUELAN BOWL GRILL LLC</td><td>VENEZUELAN BOWL GRILL</td><td>2424110</td><td>Restaurant</td><td>Risk 1 (High)</td><td>2436 N LINCOLN AVE</td><td>CHICAGO, IL</td><td>CHICAGO</td><td>IL</td><td>60614</td><td>03/17/2017</td><td>Canvass Re-Inspection</td><td>Pass</td><td>14. PREVIOUS SERIOUS VIOLATION CORRECTED, 7-42-090 - Comments: ALL VIOLATIONS HAVE BEEN CORRECTED. FLOORS, WALLS, KITCHEN HOOD AND FILTERS, BACK FLOW HAS BEEN INSTALLED ON ICE MACHINE, AND ITEMS HAVE BEEN REMOVED OR ELEVATED OFF FLOORS IN BASEMENT. | 22. DISH MACHINES: PROVIDED WITH ACCURATE THERMOMETERS, CHEMICAL TEST KITS AND SUITABLE GAUGE COCK - Comments: QUATERNARY SANITIZING TEST STRIPS HAVE BEEN PROVIDED. | 32. FOOD AND NON-FOOD CONTACT SURFACES PROPERLY DESIGNED, CONSTRUCTED AND MAINTAINED - Comments: VIOLATION CORRECTED. | 33. FOOD AND NON-FOOD CONTACT EQUIPMENT UTENSILS CLEAN, FREE OF ABRASIVE DETERGENTS - Comments: VIOLATION CORRECTED. | 34. FLOORS: CONSTRUCTED PER CODE, CLEANED, GOOD REPAIR, COVING INSTALLED, DUST-LESS CLEANING METHODS USED - Comments: VIOLATION CORRECTED. | 36. LIGHTING: REQUIRED MINIMUM FOOT-CANDLES OF LIGHT PROVIDED, FIXTURES SHIELDED - Comments: VIOLATION CORRECTED. | 38. VENTILATION: ROOMS AND EQUIPMENT VENTED AS REQUIRED: PLUMBING: INSTALLED AND MAINTAINED - Comments: VIOLATION CORRECTED. | 45. FOOD HANDLER REQUIREMENTS MET - Comments: VIOLATION CORRECTED. | 35. WALLS, CEILINGS, ATTACHED EQUIPMENT CONSTRUCTED PER CODE: GOOD REPAIR, SURFACES CLEAN AND DUST-LESS CLEANING METHODS - Comments: WASHROOM WALLS SEALED, HOWEVER, WALLS IN SOUTH-EAST WASHROOM (CLOSEST TO KITCHEN) STILL HAVE SOME ROUGH AREAS PRESENT. SURFACE MUST BE COMPLETELY SMOOTH AND EASILY CLEANABLE, AND MAINTAIN.                                               </td><td>41.92619</td><td>-87.65002</td><td>(41.926190902860434, -87.65001746088006)</td></tr>\n",
              "\t<tr><td>1995822</td><td>SEVEN TEN                </td><td>SEVEN TEN            </td><td>1172093</td><td>Restaurant</td><td>Risk 1 (High)</td><td>1055 E 55TH ST    </td><td>CHICAGO, IL</td><td>CHICAGO</td><td>IL</td><td>60615</td><td>03/17/2017</td><td>Canvass Re-Inspection</td><td>Pass</td><td>18. NO EVIDENCE OF RODENT OR INSECT OUTER OPENINGS PROTECTED/RODENT PROOFED, A WRITTEN LOG SHALL BE MAINTAINED AVAILABLE TO THE INSPECTORS - Comments: PREMISES SERVICED BY TOM VEL PEST CONTROL ON 3-16-17 AND MICE DROPPINGS REMOVED IN STORAGE AREAS. | 30. FOOD IN ORIGINAL CONTAINER, PROPERLY LABELED: CUSTOMER ADVISORY POSTED AS NEEDED - Comments: BULK CONTAINERS LABELED IN PREP AND STORAGE AREAS. | 33. FOOD AND NON-FOOD CONTACT EQUIPMENT UTENSILS CLEAN, FREE OF ABRASIVE DETERGENTS - Comments: SHELVES CLEANED IN STORAGE AND BAR AREAS. | 34. FLOORS: CONSTRUCTED PER CODE, CLEANED, GOOD REPAIR, COVING INSTALLED, DUST-LESS CLEANING METHODS USED - Comments: GROUT ALL LOOSE FLOOR TILES IN BAR AREA. | 35. WALLS, CEILINGS, ATTACHED EQUIPMENT CONSTRUCTED PER CODE: GOOD REPAIR, SURFACES CLEAN AND DUST-LESS CLEANING METHODS - Comments: REPLACE MISSING BASEBOARDS ALONG WALLS UNDER DISH MACHINE. REPLACE DAMAGED BASEBOARDS AND SEAL OPENINGS ALONG BASEBOARDS NEAR UTILITY SINK. REPLACE DAMAGED WALL TILES ALONG LOWER SOUTH WALL IN MEN WASHROOM. SEAL OPENING UNDER WASHBOWLS IN WOMEN WASHROOM. \n",
              " | 41. PREMISES MAINTAINED FREE OF LITTER, UNNECESSARY ARTICLES, CLEANING  EQUIPMENT PROPERLY STORED - Comments: ELEVATE ALL STOCK OFF FLOOR IN LIQUOR STORAGE AREA. STORE STOCK OFF FLOOR AND AWAY FROM WALLS FOR EASY CLEANING AND PEST CONTROL. ORGANIZE WALK-IN COOLER. \n",
              " | 43. FOOD (ICE) DISPENSING UTENSILS, WASH CLOTHS PROPERLY STORED - Comments: ICE SCOOP PROPERLY STORED IN ICE BIN.</td><td>41.79492</td><td>-87.59985</td><td>(41.79492106897254, -87.59985203106729) </td></tr>\n",
              "\t<tr><td>1995814</td><td>CHISME EXPRESS INC.      </td><td>CHISME EXPRESS INC.  </td><td>1334960</td><td>Restaurant</td><td>Risk 1 (High)</td><td>5955 S PULASKI RD </td><td>CHICAGO, IL</td><td>CHICAGO</td><td>IL</td><td>60629</td><td>03/17/2017</td><td>Canvass              </td><td>Pass</td><td>32. FOOD AND NON-FOOD CONTACT SURFACES PROPERLY DESIGNED, CONSTRUCTED AND MAINTAINED - Comments: OBSERVED RUSTY STORAGE SHELVES OIN THE WALK-IN COOLER, INSTRUCTED TO REMOVE RUST. | 33. FOOD AND NON-FOOD CONTACT EQUIPMENT UTENSILS CLEAN, FREE OF ABRASIVE DETERGENTS - Comments: OBSERVED THE FRONT CUTTING BOARD NOT CLEAN, INSTRUCTED TO CLEAN AND SANITIZE. | 34. FLOORS: CONSTRUCTED PER CODE, CLEANED, GOOD REPAIR, COVING INSTALLED, DUST-LESS CLEANING METHODS USED - Comments: OBSERVED THE FLOOR IN THE WALK IN COOLER/UNDER STORAGE SHELVES NOT CLEAN, INSTRUCTED TO CLEAN. | 35. WALLS, CEILINGS, ATTACHED EQUIPMENT CONSTRUCTED PER CODE: GOOD REPAIR, SURFACES CLEAN AND DUST-LESS CLEANING METHODS - Comments: OBSERVED THE WALLS INSIDE THE WALK-IN COOLER, AND OUTSIDE THE WALK-IN COOLER NOT CLEAN, INSTRUCTED TO CLEAN.                                                                                                                                                                                                                                                                                                                                                                                                                                                                                                                                                                                                                                                                                         </td><td>41.78429</td><td>-87.72277</td><td>(41.784288983210146, -87.72277078477818)</td></tr>\n",
              "\t<tr><td>1995811</td><td>THE NILE RESTAURANT      </td><td>THE NILE RESTAURANT  </td><td>2334190</td><td>Restaurant</td><td>Risk 1 (High)</td><td>1162 E 55TH ST    </td><td>CHICAGO, IL</td><td>CHICAGO</td><td>IL</td><td>60615</td><td>03/17/2017</td><td>Canvass Re-Inspection</td><td>Pass</td><td>18. NO EVIDENCE OF RODENT OR INSECT OUTER OPENINGS PROTECTED/RODENT PROOFED, A WRITTEN LOG SHALL BE MAINTAINED AVAILABLE TO THE INSPECTORS - Comments: DOORS REPAIRED. | 32. FOOD AND NON-FOOD CONTACT SURFACES PROPERLY DESIGNED, CONSTRUCTED AND MAINTAINED - Comments:  REPLACE DAMAGED GASKET ON REACH-IN COOLER IN REAR PREP AREA. \n",
              " | 33. FOOD AND NON-FOOD CONTACT EQUIPMENT UTENSILS CLEAN, FREE OF ABRASIVE DETERGENTS - Comments: CLEAN INTERIOR AND EXTERIOR OF COOLERS, FREEZERS, COOKING EQUIPMENT, PREP TABLES. \n",
              " | 41. PREMISES MAINTAINED FREE OF LITTER, UNNECESSARY ARTICLES, CLEANING  EQUIPMENT PROPERLY STORED - Comments: ELEVATE ALL STOCK OFF FLOOR IN STORAGE AREAS. ORGANIZE REAR STORAGE AREA AND REACH-IN COOLERS. \n",
              " | 34. FLOORS: CONSTRUCTED PER CODE, CLEANED, GOOD REPAIR, COVING INSTALLED, DUST-LESS CLEANING METHODS USED - Comments: CLEAN AND MAINTAIN FLOOR DRAIN UNDER 3-COMPARTMENT SINK.                                                                                                                                                                                                                                                                                                                                                                                                                                                                                                                                                                                                  </td><td>41.79517</td><td>-87.59710</td><td>(41.79517060450029, -87.59710020185207) </td></tr>\n",
              "</tbody>\n",
              "</table>\n"
            ],
            "text/markdown": "\nA tibble: 5 × 18\n\n| ID &lt;dbl&gt; | DBAName &lt;chr&gt; | AKAName &lt;chr&gt; | License &lt;dbl&gt; | FacilityType &lt;chr&gt; | Risk &lt;chr&gt; | Address &lt;chr&gt; | Region &lt;chr&gt; | City &lt;chr&gt; | State &lt;chr&gt; | ZIP &lt;dbl&gt; | InspectionDate &lt;chr&gt; | InspectionType &lt;chr&gt; | Results &lt;chr&gt; | Violations &lt;chr&gt; | Latitude &lt;dbl&gt; | Longitude &lt;dbl&gt; | Location &lt;chr&gt; |\n|---|---|---|---|---|---|---|---|---|---|---|---|---|---|---|---|---|---|\n| 1995829 | SUBWAY                    | SUBWAY                | 1679112 | Restaurant | Risk 1 (High) | 8711 S ASHLAND AVE | CHICAGO, IL | CHICAGO | IL | 60620 | 03/17/2017 | Canvass Re-Inspection | Pass | 19. OUTSIDE GARBAGE WASTE GREASE AND STORAGE AREA; CLEAN, RODENT PROOF, ALL CONTAINERS COVERED - Comments: OUTSIDE GARBAGE AREA BETTER MAINTAINED. | 21. * CERTIFIED FOOD MANAGER ON SITE WHEN POTENTIALLY HAZARDOUS FOODS ARE  PREPARED AND SERVED - Comments: CERTIFIED MANAGER ON PREMISES. | 45. FOOD HANDLER REQUIREMENTS MET - Comments: ALL EMPLOYEES THAT FALL UNDER THE CATEGORY OF FOOD HANDLER THAT ARE NOT CERTIFIED FOOD SERVICE MANAGERS MUST MEET THE IDPH FOOD HANDLER REQUIREMENTS. | 41. PREMISES MAINTAINED FREE OF LITTER, UNNECESSARY ARTICLES, CLEANING  EQUIPMENT PROPERLY STORED - Comments: ABATED. | 35. WALLS, CEILINGS, ATTACHED EQUIPMENT CONSTRUCTED PER CODE: GOOD REPAIR, SURFACES CLEAN AND DUST-LESS CLEANING METHODS - Comments: CLEAN STAINS AND FOOD SPLATTERS FROM WALLS THROUGGHOUT WHERE PRESENT.\n | 33. FOOD AND NON-FOOD CONTACT EQUIPMENT UTENSILS CLEAN, FREE OF ABRASIVE DETERGENTS - Comments: : CLEAN THE CABINET INTERIOR UNDERNEATH THE SELF-SERVICE POP DISPENSING STATION(POP RESIDUE ON THE SHELF). | 32. FOOD AND NON-FOOD CONTACT SURFACES PROPERLY DESIGNED, CONSTRUCTED AND MAINTAINED - Comments:  CLEAN FOOD DEBRIS FROM FLOOR INSIDE WALK-IN COOLER. PAINT EXTERIOR OF DOOR LEADING INTO THE REAR DISH WASHING AREA.                                                                                                                                                                                                                                                       | 41.73541 | -87.66291 | (41.735408702583165, -87.66290968424336) |\n| 1995817 | VENEZUELAN BOWL GRILL LLC | VENEZUELAN BOWL GRILL | 2424110 | Restaurant | Risk 1 (High) | 2436 N LINCOLN AVE | CHICAGO, IL | CHICAGO | IL | 60614 | 03/17/2017 | Canvass Re-Inspection | Pass | 14. PREVIOUS SERIOUS VIOLATION CORRECTED, 7-42-090 - Comments: ALL VIOLATIONS HAVE BEEN CORRECTED. FLOORS, WALLS, KITCHEN HOOD AND FILTERS, BACK FLOW HAS BEEN INSTALLED ON ICE MACHINE, AND ITEMS HAVE BEEN REMOVED OR ELEVATED OFF FLOORS IN BASEMENT. | 22. DISH MACHINES: PROVIDED WITH ACCURATE THERMOMETERS, CHEMICAL TEST KITS AND SUITABLE GAUGE COCK - Comments: QUATERNARY SANITIZING TEST STRIPS HAVE BEEN PROVIDED. | 32. FOOD AND NON-FOOD CONTACT SURFACES PROPERLY DESIGNED, CONSTRUCTED AND MAINTAINED - Comments: VIOLATION CORRECTED. | 33. FOOD AND NON-FOOD CONTACT EQUIPMENT UTENSILS CLEAN, FREE OF ABRASIVE DETERGENTS - Comments: VIOLATION CORRECTED. | 34. FLOORS: CONSTRUCTED PER CODE, CLEANED, GOOD REPAIR, COVING INSTALLED, DUST-LESS CLEANING METHODS USED - Comments: VIOLATION CORRECTED. | 36. LIGHTING: REQUIRED MINIMUM FOOT-CANDLES OF LIGHT PROVIDED, FIXTURES SHIELDED - Comments: VIOLATION CORRECTED. | 38. VENTILATION: ROOMS AND EQUIPMENT VENTED AS REQUIRED: PLUMBING: INSTALLED AND MAINTAINED - Comments: VIOLATION CORRECTED. | 45. FOOD HANDLER REQUIREMENTS MET - Comments: VIOLATION CORRECTED. | 35. WALLS, CEILINGS, ATTACHED EQUIPMENT CONSTRUCTED PER CODE: GOOD REPAIR, SURFACES CLEAN AND DUST-LESS CLEANING METHODS - Comments: WASHROOM WALLS SEALED, HOWEVER, WALLS IN SOUTH-EAST WASHROOM (CLOSEST TO KITCHEN) STILL HAVE SOME ROUGH AREAS PRESENT. SURFACE MUST BE COMPLETELY SMOOTH AND EASILY CLEANABLE, AND MAINTAIN.                                                | 41.92619 | -87.65002 | (41.926190902860434, -87.65001746088006) |\n| 1995822 | SEVEN TEN                 | SEVEN TEN             | 1172093 | Restaurant | Risk 1 (High) | 1055 E 55TH ST     | CHICAGO, IL | CHICAGO | IL | 60615 | 03/17/2017 | Canvass Re-Inspection | Pass | 18. NO EVIDENCE OF RODENT OR INSECT OUTER OPENINGS PROTECTED/RODENT PROOFED, A WRITTEN LOG SHALL BE MAINTAINED AVAILABLE TO THE INSPECTORS - Comments: PREMISES SERVICED BY TOM VEL PEST CONTROL ON 3-16-17 AND MICE DROPPINGS REMOVED IN STORAGE AREAS. | 30. FOOD IN ORIGINAL CONTAINER, PROPERLY LABELED: CUSTOMER ADVISORY POSTED AS NEEDED - Comments: BULK CONTAINERS LABELED IN PREP AND STORAGE AREAS. | 33. FOOD AND NON-FOOD CONTACT EQUIPMENT UTENSILS CLEAN, FREE OF ABRASIVE DETERGENTS - Comments: SHELVES CLEANED IN STORAGE AND BAR AREAS. | 34. FLOORS: CONSTRUCTED PER CODE, CLEANED, GOOD REPAIR, COVING INSTALLED, DUST-LESS CLEANING METHODS USED - Comments: GROUT ALL LOOSE FLOOR TILES IN BAR AREA. | 35. WALLS, CEILINGS, ATTACHED EQUIPMENT CONSTRUCTED PER CODE: GOOD REPAIR, SURFACES CLEAN AND DUST-LESS CLEANING METHODS - Comments: REPLACE MISSING BASEBOARDS ALONG WALLS UNDER DISH MACHINE. REPLACE DAMAGED BASEBOARDS AND SEAL OPENINGS ALONG BASEBOARDS NEAR UTILITY SINK. REPLACE DAMAGED WALL TILES ALONG LOWER SOUTH WALL IN MEN WASHROOM. SEAL OPENING UNDER WASHBOWLS IN WOMEN WASHROOM. \n | 41. PREMISES MAINTAINED FREE OF LITTER, UNNECESSARY ARTICLES, CLEANING  EQUIPMENT PROPERLY STORED - Comments: ELEVATE ALL STOCK OFF FLOOR IN LIQUOR STORAGE AREA. STORE STOCK OFF FLOOR AND AWAY FROM WALLS FOR EASY CLEANING AND PEST CONTROL. ORGANIZE WALK-IN COOLER. \n | 43. FOOD (ICE) DISPENSING UTENSILS, WASH CLOTHS PROPERLY STORED - Comments: ICE SCOOP PROPERLY STORED IN ICE BIN. | 41.79492 | -87.59985 | (41.79492106897254, -87.59985203106729)  |\n| 1995814 | CHISME EXPRESS INC.       | CHISME EXPRESS INC.   | 1334960 | Restaurant | Risk 1 (High) | 5955 S PULASKI RD  | CHICAGO, IL | CHICAGO | IL | 60629 | 03/17/2017 | Canvass               | Pass | 32. FOOD AND NON-FOOD CONTACT SURFACES PROPERLY DESIGNED, CONSTRUCTED AND MAINTAINED - Comments: OBSERVED RUSTY STORAGE SHELVES OIN THE WALK-IN COOLER, INSTRUCTED TO REMOVE RUST. | 33. FOOD AND NON-FOOD CONTACT EQUIPMENT UTENSILS CLEAN, FREE OF ABRASIVE DETERGENTS - Comments: OBSERVED THE FRONT CUTTING BOARD NOT CLEAN, INSTRUCTED TO CLEAN AND SANITIZE. | 34. FLOORS: CONSTRUCTED PER CODE, CLEANED, GOOD REPAIR, COVING INSTALLED, DUST-LESS CLEANING METHODS USED - Comments: OBSERVED THE FLOOR IN THE WALK IN COOLER/UNDER STORAGE SHELVES NOT CLEAN, INSTRUCTED TO CLEAN. | 35. WALLS, CEILINGS, ATTACHED EQUIPMENT CONSTRUCTED PER CODE: GOOD REPAIR, SURFACES CLEAN AND DUST-LESS CLEANING METHODS - Comments: OBSERVED THE WALLS INSIDE THE WALK-IN COOLER, AND OUTSIDE THE WALK-IN COOLER NOT CLEAN, INSTRUCTED TO CLEAN.                                                                                                                                                                                                                                                                                                                                                                                                                                                                                                                                                                                                                                                                                          | 41.78429 | -87.72277 | (41.784288983210146, -87.72277078477818) |\n| 1995811 | THE NILE RESTAURANT       | THE NILE RESTAURANT   | 2334190 | Restaurant | Risk 1 (High) | 1162 E 55TH ST     | CHICAGO, IL | CHICAGO | IL | 60615 | 03/17/2017 | Canvass Re-Inspection | Pass | 18. NO EVIDENCE OF RODENT OR INSECT OUTER OPENINGS PROTECTED/RODENT PROOFED, A WRITTEN LOG SHALL BE MAINTAINED AVAILABLE TO THE INSPECTORS - Comments: DOORS REPAIRED. | 32. FOOD AND NON-FOOD CONTACT SURFACES PROPERLY DESIGNED, CONSTRUCTED AND MAINTAINED - Comments:  REPLACE DAMAGED GASKET ON REACH-IN COOLER IN REAR PREP AREA. \n | 33. FOOD AND NON-FOOD CONTACT EQUIPMENT UTENSILS CLEAN, FREE OF ABRASIVE DETERGENTS - Comments: CLEAN INTERIOR AND EXTERIOR OF COOLERS, FREEZERS, COOKING EQUIPMENT, PREP TABLES. \n | 41. PREMISES MAINTAINED FREE OF LITTER, UNNECESSARY ARTICLES, CLEANING  EQUIPMENT PROPERLY STORED - Comments: ELEVATE ALL STOCK OFF FLOOR IN STORAGE AREAS. ORGANIZE REAR STORAGE AREA AND REACH-IN COOLERS. \n | 34. FLOORS: CONSTRUCTED PER CODE, CLEANED, GOOD REPAIR, COVING INSTALLED, DUST-LESS CLEANING METHODS USED - Comments: CLEAN AND MAINTAIN FLOOR DRAIN UNDER 3-COMPARTMENT SINK.                                                                                                                                                                                                                                                                                                                                                                                                                                                                                                                                                                                                   | 41.79517 | -87.59710 | (41.79517060450029, -87.59710020185207)  |\n\n",
            "text/latex": "A tibble: 5 × 18\n\\begin{tabular}{llllllllllllllllll}\n ID & DBAName & AKAName & License & FacilityType & Risk & Address & Region & City & State & ZIP & InspectionDate & InspectionType & Results & Violations & Latitude & Longitude & Location\\\\\n <dbl> & <chr> & <chr> & <dbl> & <chr> & <chr> & <chr> & <chr> & <chr> & <chr> & <dbl> & <chr> & <chr> & <chr> & <chr> & <dbl> & <dbl> & <chr>\\\\\n\\hline\n\t 1995829 & SUBWAY                    & SUBWAY                & 1679112 & Restaurant & Risk 1 (High) & 8711 S ASHLAND AVE & CHICAGO, IL & CHICAGO & IL & 60620 & 03/17/2017 & Canvass Re-Inspection & Pass & 19. OUTSIDE GARBAGE WASTE GREASE AND STORAGE AREA; CLEAN, RODENT PROOF, ALL CONTAINERS COVERED - Comments: OUTSIDE GARBAGE AREA BETTER MAINTAINED. \\textbar{} 21. * CERTIFIED FOOD MANAGER ON SITE WHEN POTENTIALLY HAZARDOUS FOODS ARE  PREPARED AND SERVED - Comments: CERTIFIED MANAGER ON PREMISES. \\textbar{} 45. FOOD HANDLER REQUIREMENTS MET - Comments: ALL EMPLOYEES THAT FALL UNDER THE CATEGORY OF FOOD HANDLER THAT ARE NOT CERTIFIED FOOD SERVICE MANAGERS MUST MEET THE IDPH FOOD HANDLER REQUIREMENTS. \\textbar{} 41. PREMISES MAINTAINED FREE OF LITTER, UNNECESSARY ARTICLES, CLEANING  EQUIPMENT PROPERLY STORED - Comments: ABATED. \\textbar{} 35. WALLS, CEILINGS, ATTACHED EQUIPMENT CONSTRUCTED PER CODE: GOOD REPAIR, SURFACES CLEAN AND DUST-LESS CLEANING METHODS - Comments: CLEAN STAINS AND FOOD SPLATTERS FROM WALLS THROUGGHOUT WHERE PRESENT.\n \\textbar{} 33. FOOD AND NON-FOOD CONTACT EQUIPMENT UTENSILS CLEAN, FREE OF ABRASIVE DETERGENTS - Comments: : CLEAN THE CABINET INTERIOR UNDERNEATH THE SELF-SERVICE POP DISPENSING STATION(POP RESIDUE ON THE SHELF). \\textbar{} 32. FOOD AND NON-FOOD CONTACT SURFACES PROPERLY DESIGNED, CONSTRUCTED AND MAINTAINED - Comments:  CLEAN FOOD DEBRIS FROM FLOOR INSIDE WALK-IN COOLER. PAINT EXTERIOR OF DOOR LEADING INTO THE REAR DISH WASHING AREA.                                                                                                                                                                                                                                                       & 41.73541 & -87.66291 & (41.735408702583165, -87.66290968424336)\\\\\n\t 1995817 & VENEZUELAN BOWL GRILL LLC & VENEZUELAN BOWL GRILL & 2424110 & Restaurant & Risk 1 (High) & 2436 N LINCOLN AVE & CHICAGO, IL & CHICAGO & IL & 60614 & 03/17/2017 & Canvass Re-Inspection & Pass & 14. PREVIOUS SERIOUS VIOLATION CORRECTED, 7-42-090 - Comments: ALL VIOLATIONS HAVE BEEN CORRECTED. FLOORS, WALLS, KITCHEN HOOD AND FILTERS, BACK FLOW HAS BEEN INSTALLED ON ICE MACHINE, AND ITEMS HAVE BEEN REMOVED OR ELEVATED OFF FLOORS IN BASEMENT. \\textbar{} 22. DISH MACHINES: PROVIDED WITH ACCURATE THERMOMETERS, CHEMICAL TEST KITS AND SUITABLE GAUGE COCK - Comments: QUATERNARY SANITIZING TEST STRIPS HAVE BEEN PROVIDED. \\textbar{} 32. FOOD AND NON-FOOD CONTACT SURFACES PROPERLY DESIGNED, CONSTRUCTED AND MAINTAINED - Comments: VIOLATION CORRECTED. \\textbar{} 33. FOOD AND NON-FOOD CONTACT EQUIPMENT UTENSILS CLEAN, FREE OF ABRASIVE DETERGENTS - Comments: VIOLATION CORRECTED. \\textbar{} 34. FLOORS: CONSTRUCTED PER CODE, CLEANED, GOOD REPAIR, COVING INSTALLED, DUST-LESS CLEANING METHODS USED - Comments: VIOLATION CORRECTED. \\textbar{} 36. LIGHTING: REQUIRED MINIMUM FOOT-CANDLES OF LIGHT PROVIDED, FIXTURES SHIELDED - Comments: VIOLATION CORRECTED. \\textbar{} 38. VENTILATION: ROOMS AND EQUIPMENT VENTED AS REQUIRED: PLUMBING: INSTALLED AND MAINTAINED - Comments: VIOLATION CORRECTED. \\textbar{} 45. FOOD HANDLER REQUIREMENTS MET - Comments: VIOLATION CORRECTED. \\textbar{} 35. WALLS, CEILINGS, ATTACHED EQUIPMENT CONSTRUCTED PER CODE: GOOD REPAIR, SURFACES CLEAN AND DUST-LESS CLEANING METHODS - Comments: WASHROOM WALLS SEALED, HOWEVER, WALLS IN SOUTH-EAST WASHROOM (CLOSEST TO KITCHEN) STILL HAVE SOME ROUGH AREAS PRESENT. SURFACE MUST BE COMPLETELY SMOOTH AND EASILY CLEANABLE, AND MAINTAIN.                                                & 41.92619 & -87.65002 & (41.926190902860434, -87.65001746088006)\\\\\n\t 1995822 & SEVEN TEN                 & SEVEN TEN             & 1172093 & Restaurant & Risk 1 (High) & 1055 E 55TH ST     & CHICAGO, IL & CHICAGO & IL & 60615 & 03/17/2017 & Canvass Re-Inspection & Pass & 18. NO EVIDENCE OF RODENT OR INSECT OUTER OPENINGS PROTECTED/RODENT PROOFED, A WRITTEN LOG SHALL BE MAINTAINED AVAILABLE TO THE INSPECTORS - Comments: PREMISES SERVICED BY TOM VEL PEST CONTROL ON 3-16-17 AND MICE DROPPINGS REMOVED IN STORAGE AREAS. \\textbar{} 30. FOOD IN ORIGINAL CONTAINER, PROPERLY LABELED: CUSTOMER ADVISORY POSTED AS NEEDED - Comments: BULK CONTAINERS LABELED IN PREP AND STORAGE AREAS. \\textbar{} 33. FOOD AND NON-FOOD CONTACT EQUIPMENT UTENSILS CLEAN, FREE OF ABRASIVE DETERGENTS - Comments: SHELVES CLEANED IN STORAGE AND BAR AREAS. \\textbar{} 34. FLOORS: CONSTRUCTED PER CODE, CLEANED, GOOD REPAIR, COVING INSTALLED, DUST-LESS CLEANING METHODS USED - Comments: GROUT ALL LOOSE FLOOR TILES IN BAR AREA. \\textbar{} 35. WALLS, CEILINGS, ATTACHED EQUIPMENT CONSTRUCTED PER CODE: GOOD REPAIR, SURFACES CLEAN AND DUST-LESS CLEANING METHODS - Comments: REPLACE MISSING BASEBOARDS ALONG WALLS UNDER DISH MACHINE. REPLACE DAMAGED BASEBOARDS AND SEAL OPENINGS ALONG BASEBOARDS NEAR UTILITY SINK. REPLACE DAMAGED WALL TILES ALONG LOWER SOUTH WALL IN MEN WASHROOM. SEAL OPENING UNDER WASHBOWLS IN WOMEN WASHROOM. \n \\textbar{} 41. PREMISES MAINTAINED FREE OF LITTER, UNNECESSARY ARTICLES, CLEANING  EQUIPMENT PROPERLY STORED - Comments: ELEVATE ALL STOCK OFF FLOOR IN LIQUOR STORAGE AREA. STORE STOCK OFF FLOOR AND AWAY FROM WALLS FOR EASY CLEANING AND PEST CONTROL. ORGANIZE WALK-IN COOLER. \n \\textbar{} 43. FOOD (ICE) DISPENSING UTENSILS, WASH CLOTHS PROPERLY STORED - Comments: ICE SCOOP PROPERLY STORED IN ICE BIN. & 41.79492 & -87.59985 & (41.79492106897254, -87.59985203106729) \\\\\n\t 1995814 & CHISME EXPRESS INC.       & CHISME EXPRESS INC.   & 1334960 & Restaurant & Risk 1 (High) & 5955 S PULASKI RD  & CHICAGO, IL & CHICAGO & IL & 60629 & 03/17/2017 & Canvass               & Pass & 32. FOOD AND NON-FOOD CONTACT SURFACES PROPERLY DESIGNED, CONSTRUCTED AND MAINTAINED - Comments: OBSERVED RUSTY STORAGE SHELVES OIN THE WALK-IN COOLER, INSTRUCTED TO REMOVE RUST. \\textbar{} 33. FOOD AND NON-FOOD CONTACT EQUIPMENT UTENSILS CLEAN, FREE OF ABRASIVE DETERGENTS - Comments: OBSERVED THE FRONT CUTTING BOARD NOT CLEAN, INSTRUCTED TO CLEAN AND SANITIZE. \\textbar{} 34. FLOORS: CONSTRUCTED PER CODE, CLEANED, GOOD REPAIR, COVING INSTALLED, DUST-LESS CLEANING METHODS USED - Comments: OBSERVED THE FLOOR IN THE WALK IN COOLER/UNDER STORAGE SHELVES NOT CLEAN, INSTRUCTED TO CLEAN. \\textbar{} 35. WALLS, CEILINGS, ATTACHED EQUIPMENT CONSTRUCTED PER CODE: GOOD REPAIR, SURFACES CLEAN AND DUST-LESS CLEANING METHODS - Comments: OBSERVED THE WALLS INSIDE THE WALK-IN COOLER, AND OUTSIDE THE WALK-IN COOLER NOT CLEAN, INSTRUCTED TO CLEAN.                                                                                                                                                                                                                                                                                                                                                                                                                                                                                                                                                                                                                                                                                          & 41.78429 & -87.72277 & (41.784288983210146, -87.72277078477818)\\\\\n\t 1995811 & THE NILE RESTAURANT       & THE NILE RESTAURANT   & 2334190 & Restaurant & Risk 1 (High) & 1162 E 55TH ST     & CHICAGO, IL & CHICAGO & IL & 60615 & 03/17/2017 & Canvass Re-Inspection & Pass & 18. NO EVIDENCE OF RODENT OR INSECT OUTER OPENINGS PROTECTED/RODENT PROOFED, A WRITTEN LOG SHALL BE MAINTAINED AVAILABLE TO THE INSPECTORS - Comments: DOORS REPAIRED. \\textbar{} 32. FOOD AND NON-FOOD CONTACT SURFACES PROPERLY DESIGNED, CONSTRUCTED AND MAINTAINED - Comments:  REPLACE DAMAGED GASKET ON REACH-IN COOLER IN REAR PREP AREA. \n \\textbar{} 33. FOOD AND NON-FOOD CONTACT EQUIPMENT UTENSILS CLEAN, FREE OF ABRASIVE DETERGENTS - Comments: CLEAN INTERIOR AND EXTERIOR OF COOLERS, FREEZERS, COOKING EQUIPMENT, PREP TABLES. \n \\textbar{} 41. PREMISES MAINTAINED FREE OF LITTER, UNNECESSARY ARTICLES, CLEANING  EQUIPMENT PROPERLY STORED - Comments: ELEVATE ALL STOCK OFF FLOOR IN STORAGE AREAS. ORGANIZE REAR STORAGE AREA AND REACH-IN COOLERS. \n \\textbar{} 34. FLOORS: CONSTRUCTED PER CODE, CLEANED, GOOD REPAIR, COVING INSTALLED, DUST-LESS CLEANING METHODS USED - Comments: CLEAN AND MAINTAIN FLOOR DRAIN UNDER 3-COMPARTMENT SINK.                                                                                                                                                                                                                                                                                                                                                                                                                                                                                                                                                                                                   & 41.79517 & -87.59710 & (41.79517060450029, -87.59710020185207) \\\\\n\\end{tabular}\n",
            "text/plain": [
              "  ID      DBAName                   AKAName               License FacilityType\n",
              "1 1995829 SUBWAY                    SUBWAY                1679112 Restaurant  \n",
              "2 1995817 VENEZUELAN BOWL GRILL LLC VENEZUELAN BOWL GRILL 2424110 Restaurant  \n",
              "3 1995822 SEVEN TEN                 SEVEN TEN             1172093 Restaurant  \n",
              "4 1995814 CHISME EXPRESS INC.       CHISME EXPRESS INC.   1334960 Restaurant  \n",
              "5 1995811 THE NILE RESTAURANT       THE NILE RESTAURANT   2334190 Restaurant  \n",
              "  Risk          Address            Region      City    State ZIP  \n",
              "1 Risk 1 (High) 8711 S ASHLAND AVE CHICAGO, IL CHICAGO IL    60620\n",
              "2 Risk 1 (High) 2436 N LINCOLN AVE CHICAGO, IL CHICAGO IL    60614\n",
              "3 Risk 1 (High) 1055 E 55TH ST     CHICAGO, IL CHICAGO IL    60615\n",
              "4 Risk 1 (High) 5955 S PULASKI RD  CHICAGO, IL CHICAGO IL    60629\n",
              "5 Risk 1 (High) 1162 E 55TH ST     CHICAGO, IL CHICAGO IL    60615\n",
              "  InspectionDate InspectionType        Results\n",
              "1 03/17/2017     Canvass Re-Inspection Pass   \n",
              "2 03/17/2017     Canvass Re-Inspection Pass   \n",
              "3 03/17/2017     Canvass Re-Inspection Pass   \n",
              "4 03/17/2017     Canvass               Pass   \n",
              "5 03/17/2017     Canvass Re-Inspection Pass   \n",
              "  Violations                                                                                                                                                                                                                                                                                                                                                                                                                                                                                                                                                                                                                                                                                                                                                                                                                                                                                                                                                                                                                                                                                                                                                                                                                                                                                                                                                                                                                                                                                                                            \n",
              "1 19. OUTSIDE GARBAGE WASTE GREASE AND STORAGE AREA; CLEAN, RODENT PROOF, ALL CONTAINERS COVERED - Comments: OUTSIDE GARBAGE AREA BETTER MAINTAINED. | 21. * CERTIFIED FOOD MANAGER ON SITE WHEN POTENTIALLY HAZARDOUS FOODS ARE  PREPARED AND SERVED - Comments: CERTIFIED MANAGER ON PREMISES. | 45. FOOD HANDLER REQUIREMENTS MET - Comments: ALL EMPLOYEES THAT FALL UNDER THE CATEGORY OF FOOD HANDLER THAT ARE NOT CERTIFIED FOOD SERVICE MANAGERS MUST MEET THE IDPH FOOD HANDLER REQUIREMENTS. | 41. PREMISES MAINTAINED FREE OF LITTER, UNNECESSARY ARTICLES, CLEANING  EQUIPMENT PROPERLY STORED - Comments: ABATED. | 35. WALLS, CEILINGS, ATTACHED EQUIPMENT CONSTRUCTED PER CODE: GOOD REPAIR, SURFACES CLEAN AND DUST-LESS CLEANING METHODS - Comments: CLEAN STAINS AND FOOD SPLATTERS FROM WALLS THROUGGHOUT WHERE PRESENT.\\n | 33. FOOD AND NON-FOOD CONTACT EQUIPMENT UTENSILS CLEAN, FREE OF ABRASIVE DETERGENTS - Comments: : CLEAN THE CABINET INTERIOR UNDERNEATH THE SELF-SERVICE POP DISPENSING STATION(POP RESIDUE ON THE SHELF). | 32. FOOD AND NON-FOOD CONTACT SURFACES PROPERLY DESIGNED, CONSTRUCTED AND MAINTAINED - Comments:  CLEAN FOOD DEBRIS FROM FLOOR INSIDE WALK-IN COOLER. PAINT EXTERIOR OF DOOR LEADING INTO THE REAR DISH WASHING AREA.                                                                                                                                                                                                                                                      \n",
              "2 14. PREVIOUS SERIOUS VIOLATION CORRECTED, 7-42-090 - Comments: ALL VIOLATIONS HAVE BEEN CORRECTED. FLOORS, WALLS, KITCHEN HOOD AND FILTERS, BACK FLOW HAS BEEN INSTALLED ON ICE MACHINE, AND ITEMS HAVE BEEN REMOVED OR ELEVATED OFF FLOORS IN BASEMENT. | 22. DISH MACHINES: PROVIDED WITH ACCURATE THERMOMETERS, CHEMICAL TEST KITS AND SUITABLE GAUGE COCK - Comments: QUATERNARY SANITIZING TEST STRIPS HAVE BEEN PROVIDED. | 32. FOOD AND NON-FOOD CONTACT SURFACES PROPERLY DESIGNED, CONSTRUCTED AND MAINTAINED - Comments: VIOLATION CORRECTED. | 33. FOOD AND NON-FOOD CONTACT EQUIPMENT UTENSILS CLEAN, FREE OF ABRASIVE DETERGENTS - Comments: VIOLATION CORRECTED. | 34. FLOORS: CONSTRUCTED PER CODE, CLEANED, GOOD REPAIR, COVING INSTALLED, DUST-LESS CLEANING METHODS USED - Comments: VIOLATION CORRECTED. | 36. LIGHTING: REQUIRED MINIMUM FOOT-CANDLES OF LIGHT PROVIDED, FIXTURES SHIELDED - Comments: VIOLATION CORRECTED. | 38. VENTILATION: ROOMS AND EQUIPMENT VENTED AS REQUIRED: PLUMBING: INSTALLED AND MAINTAINED - Comments: VIOLATION CORRECTED. | 45. FOOD HANDLER REQUIREMENTS MET - Comments: VIOLATION CORRECTED. | 35. WALLS, CEILINGS, ATTACHED EQUIPMENT CONSTRUCTED PER CODE: GOOD REPAIR, SURFACES CLEAN AND DUST-LESS CLEANING METHODS - Comments: WASHROOM WALLS SEALED, HOWEVER, WALLS IN SOUTH-EAST WASHROOM (CLOSEST TO KITCHEN) STILL HAVE SOME ROUGH AREAS PRESENT. SURFACE MUST BE COMPLETELY SMOOTH AND EASILY CLEANABLE, AND MAINTAIN.                                               \n",
              "3 18. NO EVIDENCE OF RODENT OR INSECT OUTER OPENINGS PROTECTED/RODENT PROOFED, A WRITTEN LOG SHALL BE MAINTAINED AVAILABLE TO THE INSPECTORS - Comments: PREMISES SERVICED BY TOM VEL PEST CONTROL ON 3-16-17 AND MICE DROPPINGS REMOVED IN STORAGE AREAS. | 30. FOOD IN ORIGINAL CONTAINER, PROPERLY LABELED: CUSTOMER ADVISORY POSTED AS NEEDED - Comments: BULK CONTAINERS LABELED IN PREP AND STORAGE AREAS. | 33. FOOD AND NON-FOOD CONTACT EQUIPMENT UTENSILS CLEAN, FREE OF ABRASIVE DETERGENTS - Comments: SHELVES CLEANED IN STORAGE AND BAR AREAS. | 34. FLOORS: CONSTRUCTED PER CODE, CLEANED, GOOD REPAIR, COVING INSTALLED, DUST-LESS CLEANING METHODS USED - Comments: GROUT ALL LOOSE FLOOR TILES IN BAR AREA. | 35. WALLS, CEILINGS, ATTACHED EQUIPMENT CONSTRUCTED PER CODE: GOOD REPAIR, SURFACES CLEAN AND DUST-LESS CLEANING METHODS - Comments: REPLACE MISSING BASEBOARDS ALONG WALLS UNDER DISH MACHINE. REPLACE DAMAGED BASEBOARDS AND SEAL OPENINGS ALONG BASEBOARDS NEAR UTILITY SINK. REPLACE DAMAGED WALL TILES ALONG LOWER SOUTH WALL IN MEN WASHROOM. SEAL OPENING UNDER WASHBOWLS IN WOMEN WASHROOM. \\n | 41. PREMISES MAINTAINED FREE OF LITTER, UNNECESSARY ARTICLES, CLEANING  EQUIPMENT PROPERLY STORED - Comments: ELEVATE ALL STOCK OFF FLOOR IN LIQUOR STORAGE AREA. STORE STOCK OFF FLOOR AND AWAY FROM WALLS FOR EASY CLEANING AND PEST CONTROL. ORGANIZE WALK-IN COOLER. \\n | 43. FOOD (ICE) DISPENSING UTENSILS, WASH CLOTHS PROPERLY STORED - Comments: ICE SCOOP PROPERLY STORED IN ICE BIN.\n",
              "4 32. FOOD AND NON-FOOD CONTACT SURFACES PROPERLY DESIGNED, CONSTRUCTED AND MAINTAINED - Comments: OBSERVED RUSTY STORAGE SHELVES OIN THE WALK-IN COOLER, INSTRUCTED TO REMOVE RUST. | 33. FOOD AND NON-FOOD CONTACT EQUIPMENT UTENSILS CLEAN, FREE OF ABRASIVE DETERGENTS - Comments: OBSERVED THE FRONT CUTTING BOARD NOT CLEAN, INSTRUCTED TO CLEAN AND SANITIZE. | 34. FLOORS: CONSTRUCTED PER CODE, CLEANED, GOOD REPAIR, COVING INSTALLED, DUST-LESS CLEANING METHODS USED - Comments: OBSERVED THE FLOOR IN THE WALK IN COOLER/UNDER STORAGE SHELVES NOT CLEAN, INSTRUCTED TO CLEAN. | 35. WALLS, CEILINGS, ATTACHED EQUIPMENT CONSTRUCTED PER CODE: GOOD REPAIR, SURFACES CLEAN AND DUST-LESS CLEANING METHODS - Comments: OBSERVED THE WALLS INSIDE THE WALK-IN COOLER, AND OUTSIDE THE WALK-IN COOLER NOT CLEAN, INSTRUCTED TO CLEAN.                                                                                                                                                                                                                                                                                                                                                                                                                                                                                                                                                                                                                                                                                         \n",
              "5 18. NO EVIDENCE OF RODENT OR INSECT OUTER OPENINGS PROTECTED/RODENT PROOFED, A WRITTEN LOG SHALL BE MAINTAINED AVAILABLE TO THE INSPECTORS - Comments: DOORS REPAIRED. | 32. FOOD AND NON-FOOD CONTACT SURFACES PROPERLY DESIGNED, CONSTRUCTED AND MAINTAINED - Comments:  REPLACE DAMAGED GASKET ON REACH-IN COOLER IN REAR PREP AREA. \\n | 33. FOOD AND NON-FOOD CONTACT EQUIPMENT UTENSILS CLEAN, FREE OF ABRASIVE DETERGENTS - Comments: CLEAN INTERIOR AND EXTERIOR OF COOLERS, FREEZERS, COOKING EQUIPMENT, PREP TABLES. \\n | 41. PREMISES MAINTAINED FREE OF LITTER, UNNECESSARY ARTICLES, CLEANING  EQUIPMENT PROPERLY STORED - Comments: ELEVATE ALL STOCK OFF FLOOR IN STORAGE AREAS. ORGANIZE REAR STORAGE AREA AND REACH-IN COOLERS. \\n | 34. FLOORS: CONSTRUCTED PER CODE, CLEANED, GOOD REPAIR, COVING INSTALLED, DUST-LESS CLEANING METHODS USED - Comments: CLEAN AND MAINTAIN FLOOR DRAIN UNDER 3-COMPARTMENT SINK.                                                                                                                                                                                                                                                                                                                                                                                                                                                                                                                                                                                                  \n",
              "  Latitude Longitude Location                                \n",
              "1 41.73541 -87.66291 (41.735408702583165, -87.66290968424336)\n",
              "2 41.92619 -87.65002 (41.926190902860434, -87.65001746088006)\n",
              "3 41.79492 -87.59985 (41.79492106897254, -87.59985203106729) \n",
              "4 41.78429 -87.72277 (41.784288983210146, -87.72277078477818)\n",
              "5 41.79517 -87.59710 (41.79517060450029, -87.59710020185207) "
            ]
          },
          "metadata": {}
        }
      ]
    },
    {
      "cell_type": "code",
      "source": [
        "unique(region$Region)"
      ],
      "metadata": {
        "colab": {
          "base_uri": "https://localhost:8080/",
          "height": 86
        },
        "id": "wKKvdrSF1v6k",
        "outputId": "1438f8c6-462f-48f2-def9-88a4b60c3e89"
      },
      "execution_count": 78,
      "outputs": [
        {
          "output_type": "display_data",
          "data": {
            "text/html": [
              "<style>\n",
              ".list-inline {list-style: none; margin:0; padding: 0}\n",
              ".list-inline>li {display: inline-block}\n",
              ".list-inline>li:not(:last-child)::after {content: \"\\00b7\"; padding: 0 .5ex}\n",
              "</style>\n",
              "<ol class=list-inline><li>'CHICAGO, IL'</li><li>'NA, IL'</li><li>'ELK GROVE VILLAGE, IL'</li><li>'SCHAUMBURG, IL'</li><li>'CALUMET CITY, IL'</li><li>'SKOKIE, IL'</li><li>'EVANSTON, IL'</li><li>'CCHICAGO, IL'</li><li>'NILES NILES, IL'</li><li>'ELMHURST, IL'</li><li>'NA, NA'</li><li>'SCHILLER PARK, IL'</li><li>'OAK PARK, IL'</li><li>'BRIDEVIEW, IL'</li><li>'CHESTNUT STREET, IL'</li><li>'BEDFORD PARK, IL'</li><li>'BANNOCKBURNDEERFIELD, IL'</li><li>'CHCICAGO, IL'</li><li>'BLOOMINGDALE, IL'</li><li>'CICERO, IL'</li><li>'NORRIDGE, IL'</li><li>'CHICAGO, NA'</li><li>'CHARLES A HAYES, IL'</li><li>'CHICAGOCHICAGO, IL'</li><li>'MAYWOOD, IL'</li><li>'CHCHICAGO, IL'</li><li>'CHICAGOI, IL'</li><li>'SUMMIT, IL'</li><li>'OOLYMPIA FIELDS, IL'</li><li>'WESTMONT, IL'</li><li>'CHICAGO HEIGHTS, IL'</li><li>'JUSTICE, IL'</li><li>'TINLEY PARK, IL'</li><li>'LOMBARD, IL'</li><li>'EAST HAZEL CREST, IL'</li><li>'COUNTRY CLUB HILLS, IL'</li><li>'STREAMWOOD, IL'</li><li>'BOLINGBROOK, IL'</li><li>'INACTIVE, IL'</li><li>'BERWYN, IL'</li><li>'BURNHAM, IL'</li><li>'DES PLAINES, IL'</li><li>'LAKE ZURICH, IL'</li><li>'OLYMPIA FIELDS, IL'</li><li>'ALSIP, IL'</li><li>'OAK LAWN, IL'</li><li>'BLUE ISLAND, IL'</li><li>'GLENCOE, IL'</li><li>'FRANKFORT, IL'</li><li>'NAPERVILLE, IL'</li><li>'BROADVIEW, IL'</li><li>'WORTH, IL'</li><li>'EVERGREEN PARK, IL'</li></ol>\n"
            ],
            "text/markdown": "1. 'CHICAGO, IL'\n2. 'NA, IL'\n3. 'ELK GROVE VILLAGE, IL'\n4. 'SCHAUMBURG, IL'\n5. 'CALUMET CITY, IL'\n6. 'SKOKIE, IL'\n7. 'EVANSTON, IL'\n8. 'CCHICAGO, IL'\n9. 'NILES NILES, IL'\n10. 'ELMHURST, IL'\n11. 'NA, NA'\n12. 'SCHILLER PARK, IL'\n13. 'OAK PARK, IL'\n14. 'BRIDEVIEW, IL'\n15. 'CHESTNUT STREET, IL'\n16. 'BEDFORD PARK, IL'\n17. 'BANNOCKBURNDEERFIELD, IL'\n18. 'CHCICAGO, IL'\n19. 'BLOOMINGDALE, IL'\n20. 'CICERO, IL'\n21. 'NORRIDGE, IL'\n22. 'CHICAGO, NA'\n23. 'CHARLES A HAYES, IL'\n24. 'CHICAGOCHICAGO, IL'\n25. 'MAYWOOD, IL'\n26. 'CHCHICAGO, IL'\n27. 'CHICAGOI, IL'\n28. 'SUMMIT, IL'\n29. 'OOLYMPIA FIELDS, IL'\n30. 'WESTMONT, IL'\n31. 'CHICAGO HEIGHTS, IL'\n32. 'JUSTICE, IL'\n33. 'TINLEY PARK, IL'\n34. 'LOMBARD, IL'\n35. 'EAST HAZEL CREST, IL'\n36. 'COUNTRY CLUB HILLS, IL'\n37. 'STREAMWOOD, IL'\n38. 'BOLINGBROOK, IL'\n39. 'INACTIVE, IL'\n40. 'BERWYN, IL'\n41. 'BURNHAM, IL'\n42. 'DES PLAINES, IL'\n43. 'LAKE ZURICH, IL'\n44. 'OLYMPIA FIELDS, IL'\n45. 'ALSIP, IL'\n46. 'OAK LAWN, IL'\n47. 'BLUE ISLAND, IL'\n48. 'GLENCOE, IL'\n49. 'FRANKFORT, IL'\n50. 'NAPERVILLE, IL'\n51. 'BROADVIEW, IL'\n52. 'WORTH, IL'\n53. 'EVERGREEN PARK, IL'\n\n\n",
            "text/latex": "\\begin{enumerate*}\n\\item 'CHICAGO, IL'\n\\item 'NA, IL'\n\\item 'ELK GROVE VILLAGE, IL'\n\\item 'SCHAUMBURG, IL'\n\\item 'CALUMET CITY, IL'\n\\item 'SKOKIE, IL'\n\\item 'EVANSTON, IL'\n\\item 'CCHICAGO, IL'\n\\item 'NILES NILES, IL'\n\\item 'ELMHURST, IL'\n\\item 'NA, NA'\n\\item 'SCHILLER PARK, IL'\n\\item 'OAK PARK, IL'\n\\item 'BRIDEVIEW, IL'\n\\item 'CHESTNUT STREET, IL'\n\\item 'BEDFORD PARK, IL'\n\\item 'BANNOCKBURNDEERFIELD, IL'\n\\item 'CHCICAGO, IL'\n\\item 'BLOOMINGDALE, IL'\n\\item 'CICERO, IL'\n\\item 'NORRIDGE, IL'\n\\item 'CHICAGO, NA'\n\\item 'CHARLES A HAYES, IL'\n\\item 'CHICAGOCHICAGO, IL'\n\\item 'MAYWOOD, IL'\n\\item 'CHCHICAGO, IL'\n\\item 'CHICAGOI, IL'\n\\item 'SUMMIT, IL'\n\\item 'OOLYMPIA FIELDS, IL'\n\\item 'WESTMONT, IL'\n\\item 'CHICAGO HEIGHTS, IL'\n\\item 'JUSTICE, IL'\n\\item 'TINLEY PARK, IL'\n\\item 'LOMBARD, IL'\n\\item 'EAST HAZEL CREST, IL'\n\\item 'COUNTRY CLUB HILLS, IL'\n\\item 'STREAMWOOD, IL'\n\\item 'BOLINGBROOK, IL'\n\\item 'INACTIVE, IL'\n\\item 'BERWYN, IL'\n\\item 'BURNHAM, IL'\n\\item 'DES PLAINES, IL'\n\\item 'LAKE ZURICH, IL'\n\\item 'OLYMPIA FIELDS, IL'\n\\item 'ALSIP, IL'\n\\item 'OAK LAWN, IL'\n\\item 'BLUE ISLAND, IL'\n\\item 'GLENCOE, IL'\n\\item 'FRANKFORT, IL'\n\\item 'NAPERVILLE, IL'\n\\item 'BROADVIEW, IL'\n\\item 'WORTH, IL'\n\\item 'EVERGREEN PARK, IL'\n\\end{enumerate*}\n",
            "text/plain": [
              " [1] \"CHICAGO, IL\"              \"NA, IL\"                  \n",
              " [3] \"ELK GROVE VILLAGE, IL\"    \"SCHAUMBURG, IL\"          \n",
              " [5] \"CALUMET CITY, IL\"         \"SKOKIE, IL\"              \n",
              " [7] \"EVANSTON, IL\"             \"CCHICAGO, IL\"            \n",
              " [9] \"NILES NILES, IL\"          \"ELMHURST, IL\"            \n",
              "[11] \"NA, NA\"                   \"SCHILLER PARK, IL\"       \n",
              "[13] \"OAK PARK, IL\"             \"BRIDEVIEW, IL\"           \n",
              "[15] \"CHESTNUT STREET, IL\"      \"BEDFORD PARK, IL\"        \n",
              "[17] \"BANNOCKBURNDEERFIELD, IL\" \"CHCICAGO, IL\"            \n",
              "[19] \"BLOOMINGDALE, IL\"         \"CICERO, IL\"              \n",
              "[21] \"NORRIDGE, IL\"             \"CHICAGO, NA\"             \n",
              "[23] \"CHARLES A HAYES, IL\"      \"CHICAGOCHICAGO, IL\"      \n",
              "[25] \"MAYWOOD, IL\"              \"CHCHICAGO, IL\"           \n",
              "[27] \"CHICAGOI, IL\"             \"SUMMIT, IL\"              \n",
              "[29] \"OOLYMPIA FIELDS, IL\"      \"WESTMONT, IL\"            \n",
              "[31] \"CHICAGO HEIGHTS, IL\"      \"JUSTICE, IL\"             \n",
              "[33] \"TINLEY PARK, IL\"          \"LOMBARD, IL\"             \n",
              "[35] \"EAST HAZEL CREST, IL\"     \"COUNTRY CLUB HILLS, IL\"  \n",
              "[37] \"STREAMWOOD, IL\"           \"BOLINGBROOK, IL\"         \n",
              "[39] \"INACTIVE, IL\"             \"BERWYN, IL\"              \n",
              "[41] \"BURNHAM, IL\"              \"DES PLAINES, IL\"         \n",
              "[43] \"LAKE ZURICH, IL\"          \"OLYMPIA FIELDS, IL\"      \n",
              "[45] \"ALSIP, IL\"                \"OAK LAWN, IL\"            \n",
              "[47] \"BLUE ISLAND, IL\"          \"GLENCOE, IL\"             \n",
              "[49] \"FRANKFORT, IL\"            \"NAPERVILLE, IL\"          \n",
              "[51] \"BROADVIEW, IL\"            \"WORTH, IL\"               \n",
              "[53] \"EVERGREEN PARK, IL\"      "
            ]
          },
          "metadata": {}
        }
      ]
    },
    {
      "cell_type": "code",
      "source": [
        "\n",
        "# Let's take care of a few misspellings of Chicago\n",
        "badchicagos <- c('CCHICAGO, IL', 'CHCICAGO, IL', 'CHICAGOCHICAGO, IL', 'CHCHICAGO, IL', 'CHICAGOI, IL')"
      ],
      "metadata": {
        "id": "UAzGCQTb1v39"
      },
      "execution_count": 79,
      "outputs": []
    },
    {
      "cell_type": "code",
      "source": [
        "regional_inspections <- region %>%mutate(Region=ifelse(Region %in% badchicagos, 'CHICAGO, IL', Region))"
      ],
      "metadata": {
        "id": "60VsA4ZW1v1Y"
      },
      "execution_count": 80,
      "outputs": []
    },
    {
      "cell_type": "code",
      "source": [
        "# And see what's left\n",
        "unique(regional_inspections$Region)"
      ],
      "metadata": {
        "colab": {
          "base_uri": "https://localhost:8080/",
          "height": 86
        },
        "id": "roIDIbMf1vyA",
        "outputId": "743e82b4-e266-4443-c748-39b1f26f572a"
      },
      "execution_count": 82,
      "outputs": [
        {
          "output_type": "display_data",
          "data": {
            "text/html": [
              "<style>\n",
              ".list-inline {list-style: none; margin:0; padding: 0}\n",
              ".list-inline>li {display: inline-block}\n",
              ".list-inline>li:not(:last-child)::after {content: \"\\00b7\"; padding: 0 .5ex}\n",
              "</style>\n",
              "<ol class=list-inline><li>'CHICAGO, IL'</li><li>'NA, IL'</li><li>'ELK GROVE VILLAGE, IL'</li><li>'SCHAUMBURG, IL'</li><li>'CALUMET CITY, IL'</li><li>'SKOKIE, IL'</li><li>'EVANSTON, IL'</li><li>'NILES NILES, IL'</li><li>'ELMHURST, IL'</li><li>'NA, NA'</li><li>'SCHILLER PARK, IL'</li><li>'OAK PARK, IL'</li><li>'BRIDEVIEW, IL'</li><li>'CHESTNUT STREET, IL'</li><li>'BEDFORD PARK, IL'</li><li>'BANNOCKBURNDEERFIELD, IL'</li><li>'BLOOMINGDALE, IL'</li><li>'CICERO, IL'</li><li>'NORRIDGE, IL'</li><li>'CHICAGO, NA'</li><li>'CHARLES A HAYES, IL'</li><li>'MAYWOOD, IL'</li><li>'SUMMIT, IL'</li><li>'OOLYMPIA FIELDS, IL'</li><li>'WESTMONT, IL'</li><li>'CHICAGO HEIGHTS, IL'</li><li>'JUSTICE, IL'</li><li>'TINLEY PARK, IL'</li><li>'LOMBARD, IL'</li><li>'EAST HAZEL CREST, IL'</li><li>'COUNTRY CLUB HILLS, IL'</li><li>'STREAMWOOD, IL'</li><li>'BOLINGBROOK, IL'</li><li>'INACTIVE, IL'</li><li>'BERWYN, IL'</li><li>'BURNHAM, IL'</li><li>'DES PLAINES, IL'</li><li>'LAKE ZURICH, IL'</li><li>'OLYMPIA FIELDS, IL'</li><li>'ALSIP, IL'</li><li>'OAK LAWN, IL'</li><li>'BLUE ISLAND, IL'</li><li>'GLENCOE, IL'</li><li>'FRANKFORT, IL'</li><li>'NAPERVILLE, IL'</li><li>'BROADVIEW, IL'</li><li>'WORTH, IL'</li><li>'EVERGREEN PARK, IL'</li></ol>\n"
            ],
            "text/markdown": "1. 'CHICAGO, IL'\n2. 'NA, IL'\n3. 'ELK GROVE VILLAGE, IL'\n4. 'SCHAUMBURG, IL'\n5. 'CALUMET CITY, IL'\n6. 'SKOKIE, IL'\n7. 'EVANSTON, IL'\n8. 'NILES NILES, IL'\n9. 'ELMHURST, IL'\n10. 'NA, NA'\n11. 'SCHILLER PARK, IL'\n12. 'OAK PARK, IL'\n13. 'BRIDEVIEW, IL'\n14. 'CHESTNUT STREET, IL'\n15. 'BEDFORD PARK, IL'\n16. 'BANNOCKBURNDEERFIELD, IL'\n17. 'BLOOMINGDALE, IL'\n18. 'CICERO, IL'\n19. 'NORRIDGE, IL'\n20. 'CHICAGO, NA'\n21. 'CHARLES A HAYES, IL'\n22. 'MAYWOOD, IL'\n23. 'SUMMIT, IL'\n24. 'OOLYMPIA FIELDS, IL'\n25. 'WESTMONT, IL'\n26. 'CHICAGO HEIGHTS, IL'\n27. 'JUSTICE, IL'\n28. 'TINLEY PARK, IL'\n29. 'LOMBARD, IL'\n30. 'EAST HAZEL CREST, IL'\n31. 'COUNTRY CLUB HILLS, IL'\n32. 'STREAMWOOD, IL'\n33. 'BOLINGBROOK, IL'\n34. 'INACTIVE, IL'\n35. 'BERWYN, IL'\n36. 'BURNHAM, IL'\n37. 'DES PLAINES, IL'\n38. 'LAKE ZURICH, IL'\n39. 'OLYMPIA FIELDS, IL'\n40. 'ALSIP, IL'\n41. 'OAK LAWN, IL'\n42. 'BLUE ISLAND, IL'\n43. 'GLENCOE, IL'\n44. 'FRANKFORT, IL'\n45. 'NAPERVILLE, IL'\n46. 'BROADVIEW, IL'\n47. 'WORTH, IL'\n48. 'EVERGREEN PARK, IL'\n\n\n",
            "text/latex": "\\begin{enumerate*}\n\\item 'CHICAGO, IL'\n\\item 'NA, IL'\n\\item 'ELK GROVE VILLAGE, IL'\n\\item 'SCHAUMBURG, IL'\n\\item 'CALUMET CITY, IL'\n\\item 'SKOKIE, IL'\n\\item 'EVANSTON, IL'\n\\item 'NILES NILES, IL'\n\\item 'ELMHURST, IL'\n\\item 'NA, NA'\n\\item 'SCHILLER PARK, IL'\n\\item 'OAK PARK, IL'\n\\item 'BRIDEVIEW, IL'\n\\item 'CHESTNUT STREET, IL'\n\\item 'BEDFORD PARK, IL'\n\\item 'BANNOCKBURNDEERFIELD, IL'\n\\item 'BLOOMINGDALE, IL'\n\\item 'CICERO, IL'\n\\item 'NORRIDGE, IL'\n\\item 'CHICAGO, NA'\n\\item 'CHARLES A HAYES, IL'\n\\item 'MAYWOOD, IL'\n\\item 'SUMMIT, IL'\n\\item 'OOLYMPIA FIELDS, IL'\n\\item 'WESTMONT, IL'\n\\item 'CHICAGO HEIGHTS, IL'\n\\item 'JUSTICE, IL'\n\\item 'TINLEY PARK, IL'\n\\item 'LOMBARD, IL'\n\\item 'EAST HAZEL CREST, IL'\n\\item 'COUNTRY CLUB HILLS, IL'\n\\item 'STREAMWOOD, IL'\n\\item 'BOLINGBROOK, IL'\n\\item 'INACTIVE, IL'\n\\item 'BERWYN, IL'\n\\item 'BURNHAM, IL'\n\\item 'DES PLAINES, IL'\n\\item 'LAKE ZURICH, IL'\n\\item 'OLYMPIA FIELDS, IL'\n\\item 'ALSIP, IL'\n\\item 'OAK LAWN, IL'\n\\item 'BLUE ISLAND, IL'\n\\item 'GLENCOE, IL'\n\\item 'FRANKFORT, IL'\n\\item 'NAPERVILLE, IL'\n\\item 'BROADVIEW, IL'\n\\item 'WORTH, IL'\n\\item 'EVERGREEN PARK, IL'\n\\end{enumerate*}\n",
            "text/plain": [
              " [1] \"CHICAGO, IL\"              \"NA, IL\"                  \n",
              " [3] \"ELK GROVE VILLAGE, IL\"    \"SCHAUMBURG, IL\"          \n",
              " [5] \"CALUMET CITY, IL\"         \"SKOKIE, IL\"              \n",
              " [7] \"EVANSTON, IL\"             \"NILES NILES, IL\"         \n",
              " [9] \"ELMHURST, IL\"             \"NA, NA\"                  \n",
              "[11] \"SCHILLER PARK, IL\"        \"OAK PARK, IL\"            \n",
              "[13] \"BRIDEVIEW, IL\"            \"CHESTNUT STREET, IL\"     \n",
              "[15] \"BEDFORD PARK, IL\"         \"BANNOCKBURNDEERFIELD, IL\"\n",
              "[17] \"BLOOMINGDALE, IL\"         \"CICERO, IL\"              \n",
              "[19] \"NORRIDGE, IL\"             \"CHICAGO, NA\"             \n",
              "[21] \"CHARLES A HAYES, IL\"      \"MAYWOOD, IL\"             \n",
              "[23] \"SUMMIT, IL\"               \"OOLYMPIA FIELDS, IL\"     \n",
              "[25] \"WESTMONT, IL\"             \"CHICAGO HEIGHTS, IL\"     \n",
              "[27] \"JUSTICE, IL\"              \"TINLEY PARK, IL\"         \n",
              "[29] \"LOMBARD, IL\"              \"EAST HAZEL CREST, IL\"    \n",
              "[31] \"COUNTRY CLUB HILLS, IL\"   \"STREAMWOOD, IL\"          \n",
              "[33] \"BOLINGBROOK, IL\"          \"INACTIVE, IL\"            \n",
              "[35] \"BERWYN, IL\"               \"BURNHAM, IL\"             \n",
              "[37] \"DES PLAINES, IL\"          \"LAKE ZURICH, IL\"         \n",
              "[39] \"OLYMPIA FIELDS, IL\"       \"ALSIP, IL\"               \n",
              "[41] \"OAK LAWN, IL\"             \"BLUE ISLAND, IL\"         \n",
              "[43] \"GLENCOE, IL\"              \"FRANKFORT, IL\"           \n",
              "[45] \"NAPERVILLE, IL\"           \"BROADVIEW, IL\"           \n",
              "[47] \"WORTH, IL\"                \"EVERGREEN PARK, IL\"      "
            ]
          },
          "metadata": {}
        }
      ]
    },
    {
      "cell_type": "code",
      "source": [
        "# There are some \"CHICAGO, NA\" values that we can clearly correct to \"CHICAGO, IL\"\n",
        "regional_inspections <- regional_inspections %>%mutate(Region=ifelse(Region=='CHICAGO, NA', 'CHICAGO, IL', Region))\n"
      ],
      "metadata": {
        "id": "OmN-6QZa1vuk"
      },
      "execution_count": 83,
      "outputs": []
    },
    {
      "cell_type": "code",
      "source": [
        "nachicagos <- c('NA, IL', 'NA, NA', 'INACTIVE, IL')"
      ],
      "metadata": {
        "id": "P4uevWZm26Z-"
      },
      "execution_count": 84,
      "outputs": []
    },
    {
      "cell_type": "code",
      "source": [
        "regional_inspections <- regional_inspections %>%mutate(Region=ifelse(Region %in% nachicagos, NA, Region))"
      ],
      "metadata": {
        "id": "XsNjSEWX26We"
      },
      "execution_count": 85,
      "outputs": []
    },
    {
      "cell_type": "code",
      "source": [
        "# How did we do?\n",
        "unique(regional_inspections$Region)"
      ],
      "metadata": {
        "colab": {
          "base_uri": "https://localhost:8080/",
          "height": 86
        },
        "id": "dSB_IRGO26TL",
        "outputId": "a990015f-0b85-4678-ad59-4f56106af84d"
      },
      "execution_count": 86,
      "outputs": [
        {
          "output_type": "display_data",
          "data": {
            "text/html": [
              "<style>\n",
              ".list-inline {list-style: none; margin:0; padding: 0}\n",
              ".list-inline>li {display: inline-block}\n",
              ".list-inline>li:not(:last-child)::after {content: \"\\00b7\"; padding: 0 .5ex}\n",
              "</style>\n",
              "<ol class=list-inline><li>'CHICAGO, IL'</li><li>NA</li><li>'ELK GROVE VILLAGE, IL'</li><li>'SCHAUMBURG, IL'</li><li>'CALUMET CITY, IL'</li><li>'SKOKIE, IL'</li><li>'EVANSTON, IL'</li><li>'NILES NILES, IL'</li><li>'ELMHURST, IL'</li><li>'SCHILLER PARK, IL'</li><li>'OAK PARK, IL'</li><li>'BRIDEVIEW, IL'</li><li>'CHESTNUT STREET, IL'</li><li>'BEDFORD PARK, IL'</li><li>'BANNOCKBURNDEERFIELD, IL'</li><li>'BLOOMINGDALE, IL'</li><li>'CICERO, IL'</li><li>'NORRIDGE, IL'</li><li>'CHARLES A HAYES, IL'</li><li>'MAYWOOD, IL'</li><li>'SUMMIT, IL'</li><li>'OOLYMPIA FIELDS, IL'</li><li>'WESTMONT, IL'</li><li>'CHICAGO HEIGHTS, IL'</li><li>'JUSTICE, IL'</li><li>'TINLEY PARK, IL'</li><li>'LOMBARD, IL'</li><li>'EAST HAZEL CREST, IL'</li><li>'COUNTRY CLUB HILLS, IL'</li><li>'STREAMWOOD, IL'</li><li>'BOLINGBROOK, IL'</li><li>'BERWYN, IL'</li><li>'BURNHAM, IL'</li><li>'DES PLAINES, IL'</li><li>'LAKE ZURICH, IL'</li><li>'OLYMPIA FIELDS, IL'</li><li>'ALSIP, IL'</li><li>'OAK LAWN, IL'</li><li>'BLUE ISLAND, IL'</li><li>'GLENCOE, IL'</li><li>'FRANKFORT, IL'</li><li>'NAPERVILLE, IL'</li><li>'BROADVIEW, IL'</li><li>'WORTH, IL'</li><li>'EVERGREEN PARK, IL'</li></ol>\n"
            ],
            "text/markdown": "1. 'CHICAGO, IL'\n2. NA\n3. 'ELK GROVE VILLAGE, IL'\n4. 'SCHAUMBURG, IL'\n5. 'CALUMET CITY, IL'\n6. 'SKOKIE, IL'\n7. 'EVANSTON, IL'\n8. 'NILES NILES, IL'\n9. 'ELMHURST, IL'\n10. 'SCHILLER PARK, IL'\n11. 'OAK PARK, IL'\n12. 'BRIDEVIEW, IL'\n13. 'CHESTNUT STREET, IL'\n14. 'BEDFORD PARK, IL'\n15. 'BANNOCKBURNDEERFIELD, IL'\n16. 'BLOOMINGDALE, IL'\n17. 'CICERO, IL'\n18. 'NORRIDGE, IL'\n19. 'CHARLES A HAYES, IL'\n20. 'MAYWOOD, IL'\n21. 'SUMMIT, IL'\n22. 'OOLYMPIA FIELDS, IL'\n23. 'WESTMONT, IL'\n24. 'CHICAGO HEIGHTS, IL'\n25. 'JUSTICE, IL'\n26. 'TINLEY PARK, IL'\n27. 'LOMBARD, IL'\n28. 'EAST HAZEL CREST, IL'\n29. 'COUNTRY CLUB HILLS, IL'\n30. 'STREAMWOOD, IL'\n31. 'BOLINGBROOK, IL'\n32. 'BERWYN, IL'\n33. 'BURNHAM, IL'\n34. 'DES PLAINES, IL'\n35. 'LAKE ZURICH, IL'\n36. 'OLYMPIA FIELDS, IL'\n37. 'ALSIP, IL'\n38. 'OAK LAWN, IL'\n39. 'BLUE ISLAND, IL'\n40. 'GLENCOE, IL'\n41. 'FRANKFORT, IL'\n42. 'NAPERVILLE, IL'\n43. 'BROADVIEW, IL'\n44. 'WORTH, IL'\n45. 'EVERGREEN PARK, IL'\n\n\n",
            "text/latex": "\\begin{enumerate*}\n\\item 'CHICAGO, IL'\n\\item NA\n\\item 'ELK GROVE VILLAGE, IL'\n\\item 'SCHAUMBURG, IL'\n\\item 'CALUMET CITY, IL'\n\\item 'SKOKIE, IL'\n\\item 'EVANSTON, IL'\n\\item 'NILES NILES, IL'\n\\item 'ELMHURST, IL'\n\\item 'SCHILLER PARK, IL'\n\\item 'OAK PARK, IL'\n\\item 'BRIDEVIEW, IL'\n\\item 'CHESTNUT STREET, IL'\n\\item 'BEDFORD PARK, IL'\n\\item 'BANNOCKBURNDEERFIELD, IL'\n\\item 'BLOOMINGDALE, IL'\n\\item 'CICERO, IL'\n\\item 'NORRIDGE, IL'\n\\item 'CHARLES A HAYES, IL'\n\\item 'MAYWOOD, IL'\n\\item 'SUMMIT, IL'\n\\item 'OOLYMPIA FIELDS, IL'\n\\item 'WESTMONT, IL'\n\\item 'CHICAGO HEIGHTS, IL'\n\\item 'JUSTICE, IL'\n\\item 'TINLEY PARK, IL'\n\\item 'LOMBARD, IL'\n\\item 'EAST HAZEL CREST, IL'\n\\item 'COUNTRY CLUB HILLS, IL'\n\\item 'STREAMWOOD, IL'\n\\item 'BOLINGBROOK, IL'\n\\item 'BERWYN, IL'\n\\item 'BURNHAM, IL'\n\\item 'DES PLAINES, IL'\n\\item 'LAKE ZURICH, IL'\n\\item 'OLYMPIA FIELDS, IL'\n\\item 'ALSIP, IL'\n\\item 'OAK LAWN, IL'\n\\item 'BLUE ISLAND, IL'\n\\item 'GLENCOE, IL'\n\\item 'FRANKFORT, IL'\n\\item 'NAPERVILLE, IL'\n\\item 'BROADVIEW, IL'\n\\item 'WORTH, IL'\n\\item 'EVERGREEN PARK, IL'\n\\end{enumerate*}\n",
            "text/plain": [
              " [1] \"CHICAGO, IL\"              NA                        \n",
              " [3] \"ELK GROVE VILLAGE, IL\"    \"SCHAUMBURG, IL\"          \n",
              " [5] \"CALUMET CITY, IL\"         \"SKOKIE, IL\"              \n",
              " [7] \"EVANSTON, IL\"             \"NILES NILES, IL\"         \n",
              " [9] \"ELMHURST, IL\"             \"SCHILLER PARK, IL\"       \n",
              "[11] \"OAK PARK, IL\"             \"BRIDEVIEW, IL\"           \n",
              "[13] \"CHESTNUT STREET, IL\"      \"BEDFORD PARK, IL\"        \n",
              "[15] \"BANNOCKBURNDEERFIELD, IL\" \"BLOOMINGDALE, IL\"        \n",
              "[17] \"CICERO, IL\"               \"NORRIDGE, IL\"            \n",
              "[19] \"CHARLES A HAYES, IL\"      \"MAYWOOD, IL\"             \n",
              "[21] \"SUMMIT, IL\"               \"OOLYMPIA FIELDS, IL\"     \n",
              "[23] \"WESTMONT, IL\"             \"CHICAGO HEIGHTS, IL\"     \n",
              "[25] \"JUSTICE, IL\"              \"TINLEY PARK, IL\"         \n",
              "[27] \"LOMBARD, IL\"              \"EAST HAZEL CREST, IL\"    \n",
              "[29] \"COUNTRY CLUB HILLS, IL\"   \"STREAMWOOD, IL\"          \n",
              "[31] \"BOLINGBROOK, IL\"          \"BERWYN, IL\"              \n",
              "[33] \"BURNHAM, IL\"              \"DES PLAINES, IL\"         \n",
              "[35] \"LAKE ZURICH, IL\"          \"OLYMPIA FIELDS, IL\"      \n",
              "[37] \"ALSIP, IL\"                \"OAK LAWN, IL\"            \n",
              "[39] \"BLUE ISLAND, IL\"          \"GLENCOE, IL\"             \n",
              "[41] \"FRANKFORT, IL\"            \"NAPERVILLE, IL\"          \n",
              "[43] \"BROADVIEW, IL\"            \"WORTH, IL\"               \n",
              "[45] \"EVERGREEN PARK, IL\"      "
            ]
          },
          "metadata": {}
        }
      ]
    },
    {
      "cell_type": "markdown",
      "source": [
        "# Coal Complete"
      ],
      "metadata": {
        "id": "l91QlJhI7Il3"
      }
    },
    {
      "cell_type": "code",
      "source": [
        "coal<-read_csv(\"http://594442.youcanlearnit.net/coal.csv\")"
      ],
      "metadata": {
        "colab": {
          "base_uri": "https://localhost:8080/"
        },
        "id": "YpKBxz6r26P-",
        "outputId": "84d58564-2c04-45a5-b1cc-f256e96b8b18"
      },
      "execution_count": 87,
      "outputs": [
        {
          "output_type": "stream",
          "name": "stderr",
          "text": [
            "\u001b[1m\u001b[22mNew names:\n",
            "\u001b[36m•\u001b[39m `` -> `...2`\n",
            "\u001b[36m•\u001b[39m `` -> `...3`\n",
            "\u001b[36m•\u001b[39m `` -> `...4`\n",
            "\u001b[36m•\u001b[39m `` -> `...5`\n",
            "\u001b[36m•\u001b[39m `` -> `...6`\n",
            "\u001b[36m•\u001b[39m `` -> `...7`\n",
            "\u001b[36m•\u001b[39m `` -> `...8`\n",
            "\u001b[36m•\u001b[39m `` -> `...9`\n",
            "\u001b[36m•\u001b[39m `` -> `...10`\n",
            "\u001b[36m•\u001b[39m `` -> `...11`\n",
            "\u001b[36m•\u001b[39m `` -> `...12`\n",
            "\u001b[36m•\u001b[39m `` -> `...13`\n",
            "\u001b[36m•\u001b[39m `` -> `...14`\n",
            "\u001b[36m•\u001b[39m `` -> `...15`\n",
            "\u001b[36m•\u001b[39m `` -> `...16`\n",
            "\u001b[36m•\u001b[39m `` -> `...17`\n",
            "\u001b[36m•\u001b[39m `` -> `...18`\n",
            "\u001b[36m•\u001b[39m `` -> `...19`\n",
            "\u001b[36m•\u001b[39m `` -> `...20`\n",
            "\u001b[36m•\u001b[39m `` -> `...21`\n",
            "\u001b[36m•\u001b[39m `` -> `...22`\n",
            "\u001b[36m•\u001b[39m `` -> `...23`\n",
            "\u001b[36m•\u001b[39m `` -> `...24`\n",
            "\u001b[36m•\u001b[39m `` -> `...25`\n",
            "\u001b[36m•\u001b[39m `` -> `...26`\n",
            "\u001b[36m•\u001b[39m `` -> `...27`\n",
            "\u001b[36m•\u001b[39m `` -> `...28`\n",
            "\u001b[36m•\u001b[39m `` -> `...29`\n",
            "\u001b[36m•\u001b[39m `` -> `...30`\n",
            "\u001b[36m•\u001b[39m `` -> `...31`\n",
            "\u001b[1mRows: \u001b[22m\u001b[34m234\u001b[39m \u001b[1mColumns: \u001b[22m\u001b[34m31\u001b[39m\n",
            "\u001b[36m──\u001b[39m \u001b[1mColumn specification\u001b[22m \u001b[36m────────────────────────────────────────────────────────\u001b[39m\n",
            "\u001b[1mDelimiter:\u001b[22m \",\"\n",
            "\u001b[31mchr\u001b[39m (31): Table: Total Coal Consumption (Quadrillion Btu), ...2, ...3, ...4,...\n",
            "\n",
            "\u001b[36mℹ\u001b[39m Use `spec()` to retrieve the full column specification for this data.\n",
            "\u001b[36mℹ\u001b[39m Specify the column types or set `show_col_types = FALSE` to quiet this message.\n"
          ]
        }
      ]
    },
    {
      "cell_type": "code",
      "source": [
        "head(coal,5)"
      ],
      "metadata": {
        "colab": {
          "base_uri": "https://localhost:8080/",
          "height": 289
        },
        "id": "ev1ILfkF3OLg",
        "outputId": "760d6ce9-e717-4905-d41e-ef4bd2551794"
      },
      "execution_count": 88,
      "outputs": [
        {
          "output_type": "display_data",
          "data": {
            "text/html": [
              "<table class=\"dataframe\">\n",
              "<caption>A tibble: 5 × 31</caption>\n",
              "<thead>\n",
              "\t<tr><th scope=col>Table: Total Coal Consumption (Quadrillion Btu)</th><th scope=col>...2</th><th scope=col>...3</th><th scope=col>...4</th><th scope=col>...5</th><th scope=col>...6</th><th scope=col>...7</th><th scope=col>...8</th><th scope=col>...9</th><th scope=col>...10</th><th scope=col>⋯</th><th scope=col>...22</th><th scope=col>...23</th><th scope=col>...24</th><th scope=col>...25</th><th scope=col>...26</th><th scope=col>...27</th><th scope=col>...28</th><th scope=col>...29</th><th scope=col>...30</th><th scope=col>...31</th></tr>\n",
              "\t<tr><th scope=col>&lt;chr&gt;</th><th scope=col>&lt;chr&gt;</th><th scope=col>&lt;chr&gt;</th><th scope=col>&lt;chr&gt;</th><th scope=col>&lt;chr&gt;</th><th scope=col>&lt;chr&gt;</th><th scope=col>&lt;chr&gt;</th><th scope=col>&lt;chr&gt;</th><th scope=col>&lt;chr&gt;</th><th scope=col>&lt;chr&gt;</th><th scope=col>⋯</th><th scope=col>&lt;chr&gt;</th><th scope=col>&lt;chr&gt;</th><th scope=col>&lt;chr&gt;</th><th scope=col>&lt;chr&gt;</th><th scope=col>&lt;chr&gt;</th><th scope=col>&lt;chr&gt;</th><th scope=col>&lt;chr&gt;</th><th scope=col>&lt;chr&gt;</th><th scope=col>&lt;chr&gt;</th><th scope=col>&lt;chr&gt;</th></tr>\n",
              "</thead>\n",
              "<tbody>\n",
              "\t<tr><td>NA           </td><td>NA      </td><td>NA      </td><td>NA      </td><td>NA      </td><td>NA     </td><td>NA      </td><td>NA      </td><td>NA      </td><td>NA      </td><td>⋯</td><td>NA      </td><td>NA      </td><td>NA      </td><td>NA      </td><td>NA      </td><td>NA     </td><td>NA      </td><td>NA      </td><td>NA      </td><td>NA      </td></tr>\n",
              "\t<tr><td>NA           </td><td>1980    </td><td>1981    </td><td>1982    </td><td>1983    </td><td>1984   </td><td>1985    </td><td>1986    </td><td>1987    </td><td>1988    </td><td>⋯</td><td>2000    </td><td>2001    </td><td>2002    </td><td>2003    </td><td>2004    </td><td>2005   </td><td>2006    </td><td>2007    </td><td>2008    </td><td>2009    </td></tr>\n",
              "\t<tr><td>North America</td><td>16.45179</td><td>16.98772</td><td>16.47546</td><td>17.12407</td><td>18.4267</td><td>18.81819</td><td>18.52559</td><td>19.43781</td><td>20.40363</td><td>⋯</td><td>24.55583</td><td>23.62705</td><td>23.69876</td><td>24.17788</td><td>24.36024</td><td>24.6876</td><td>24.32174</td><td>24.54746</td><td>24.11993</td><td>21.14803</td></tr>\n",
              "\t<tr><td>Bermuda      </td><td>0       </td><td>0       </td><td>0       </td><td>0       </td><td>0      </td><td>0       </td><td>0       </td><td>0       </td><td>0       </td><td>⋯</td><td>0       </td><td>0       </td><td>0       </td><td>0       </td><td>0       </td><td>0      </td><td>0       </td><td>0       </td><td>0       </td><td>0       </td></tr>\n",
              "\t<tr><td>Canada       </td><td>0.96156 </td><td>0.99047 </td><td>1.05584 </td><td>1.11653 </td><td>1.23682</td><td>1.20679 </td><td>1.12583 </td><td>1.25072 </td><td>1.35809 </td><td>⋯</td><td>1.61651 </td><td>1.35444 </td><td>1.36876 </td><td>1.38766 </td><td>1.43684 </td><td>1.44948</td><td>1.42135 </td><td>1.38369 </td><td>1.37388 </td><td>1.14314 </td></tr>\n",
              "</tbody>\n",
              "</table>\n"
            ],
            "text/markdown": "\nA tibble: 5 × 31\n\n| Table: Total Coal Consumption (Quadrillion Btu) &lt;chr&gt; | ...2 &lt;chr&gt; | ...3 &lt;chr&gt; | ...4 &lt;chr&gt; | ...5 &lt;chr&gt; | ...6 &lt;chr&gt; | ...7 &lt;chr&gt; | ...8 &lt;chr&gt; | ...9 &lt;chr&gt; | ...10 &lt;chr&gt; | ⋯ ⋯ | ...22 &lt;chr&gt; | ...23 &lt;chr&gt; | ...24 &lt;chr&gt; | ...25 &lt;chr&gt; | ...26 &lt;chr&gt; | ...27 &lt;chr&gt; | ...28 &lt;chr&gt; | ...29 &lt;chr&gt; | ...30 &lt;chr&gt; | ...31 &lt;chr&gt; |\n|---|---|---|---|---|---|---|---|---|---|---|---|---|---|---|---|---|---|---|---|---|\n| NA            | NA       | NA       | NA       | NA       | NA      | NA       | NA       | NA       | NA       | ⋯ | NA       | NA       | NA       | NA       | NA       | NA      | NA       | NA       | NA       | NA       |\n| NA            | 1980     | 1981     | 1982     | 1983     | 1984    | 1985     | 1986     | 1987     | 1988     | ⋯ | 2000     | 2001     | 2002     | 2003     | 2004     | 2005    | 2006     | 2007     | 2008     | 2009     |\n| North America | 16.45179 | 16.98772 | 16.47546 | 17.12407 | 18.4267 | 18.81819 | 18.52559 | 19.43781 | 20.40363 | ⋯ | 24.55583 | 23.62705 | 23.69876 | 24.17788 | 24.36024 | 24.6876 | 24.32174 | 24.54746 | 24.11993 | 21.14803 |\n| Bermuda       | 0        | 0        | 0        | 0        | 0       | 0        | 0        | 0        | 0        | ⋯ | 0        | 0        | 0        | 0        | 0        | 0       | 0        | 0        | 0        | 0        |\n| Canada        | 0.96156  | 0.99047  | 1.05584  | 1.11653  | 1.23682 | 1.20679  | 1.12583  | 1.25072  | 1.35809  | ⋯ | 1.61651  | 1.35444  | 1.36876  | 1.38766  | 1.43684  | 1.44948 | 1.42135  | 1.38369  | 1.37388  | 1.14314  |\n\n",
            "text/latex": "A tibble: 5 × 31\n\\begin{tabular}{lllllllllllllllllllll}\n Table: Total Coal Consumption (Quadrillion Btu) & ...2 & ...3 & ...4 & ...5 & ...6 & ...7 & ...8 & ...9 & ...10 & ⋯ & ...22 & ...23 & ...24 & ...25 & ...26 & ...27 & ...28 & ...29 & ...30 & ...31\\\\\n <chr> & <chr> & <chr> & <chr> & <chr> & <chr> & <chr> & <chr> & <chr> & <chr> & ⋯ & <chr> & <chr> & <chr> & <chr> & <chr> & <chr> & <chr> & <chr> & <chr> & <chr>\\\\\n\\hline\n\t NA            & NA       & NA       & NA       & NA       & NA      & NA       & NA       & NA       & NA       & ⋯ & NA       & NA       & NA       & NA       & NA       & NA      & NA       & NA       & NA       & NA      \\\\\n\t NA            & 1980     & 1981     & 1982     & 1983     & 1984    & 1985     & 1986     & 1987     & 1988     & ⋯ & 2000     & 2001     & 2002     & 2003     & 2004     & 2005    & 2006     & 2007     & 2008     & 2009    \\\\\n\t North America & 16.45179 & 16.98772 & 16.47546 & 17.12407 & 18.4267 & 18.81819 & 18.52559 & 19.43781 & 20.40363 & ⋯ & 24.55583 & 23.62705 & 23.69876 & 24.17788 & 24.36024 & 24.6876 & 24.32174 & 24.54746 & 24.11993 & 21.14803\\\\\n\t Bermuda       & 0        & 0        & 0        & 0        & 0       & 0        & 0        & 0        & 0        & ⋯ & 0        & 0        & 0        & 0        & 0        & 0       & 0        & 0        & 0        & 0       \\\\\n\t Canada        & 0.96156  & 0.99047  & 1.05584  & 1.11653  & 1.23682 & 1.20679  & 1.12583  & 1.25072  & 1.35809  & ⋯ & 1.61651  & 1.35444  & 1.36876  & 1.38766  & 1.43684  & 1.44948 & 1.42135  & 1.38369  & 1.37388  & 1.14314 \\\\\n\\end{tabular}\n",
            "text/plain": [
              "  Table: Total Coal Consumption (Quadrillion Btu) ...2     ...3     ...4    \n",
              "1 NA                                              NA       NA       NA      \n",
              "2 NA                                              1980     1981     1982    \n",
              "3 North America                                   16.45179 16.98772 16.47546\n",
              "4 Bermuda                                         0        0        0       \n",
              "5 Canada                                          0.96156  0.99047  1.05584 \n",
              "  ...5     ...6    ...7     ...8     ...9     ...10    ⋯ ...22    ...23   \n",
              "1 NA       NA      NA       NA       NA       NA       ⋯ NA       NA      \n",
              "2 1983     1984    1985     1986     1987     1988     ⋯ 2000     2001    \n",
              "3 17.12407 18.4267 18.81819 18.52559 19.43781 20.40363 ⋯ 24.55583 23.62705\n",
              "4 0        0       0        0        0        0        ⋯ 0        0       \n",
              "5 1.11653  1.23682 1.20679  1.12583  1.25072  1.35809  ⋯ 1.61651  1.35444 \n",
              "  ...24    ...25    ...26    ...27   ...28    ...29    ...30    ...31   \n",
              "1 NA       NA       NA       NA      NA       NA       NA       NA      \n",
              "2 2002     2003     2004     2005    2006     2007     2008     2009    \n",
              "3 23.69876 24.17788 24.36024 24.6876 24.32174 24.54746 24.11993 21.14803\n",
              "4 0        0        0        0       0        0        0        0       \n",
              "5 1.36876  1.38766  1.43684  1.44948 1.42135  1.38369  1.37388  1.14314 "
            ]
          },
          "metadata": {}
        }
      ]
    },
    {
      "cell_type": "code",
      "source": [
        "glimpse(coal)"
      ],
      "metadata": {
        "colab": {
          "base_uri": "https://localhost:8080/"
        },
        "id": "DQS459JL3OIG",
        "outputId": "7292fb53-5efd-4c41-8a5b-a00846833f50"
      },
      "execution_count": 90,
      "outputs": [
        {
          "output_type": "stream",
          "name": "stdout",
          "text": [
            "Rows: 234\n",
            "Columns: 31\n",
            "$ `Table: Total Coal Consumption (Quadrillion Btu)` \u001b[3m\u001b[90m<chr>\u001b[39m\u001b[23m \u001b[31mNA\u001b[39m\u001b[90m, \u001b[39m\u001b[31mNA\u001b[39m\u001b[90m, \u001b[39m\"North Ameri…\n",
            "$ ...2                                              \u001b[3m\u001b[90m<chr>\u001b[39m\u001b[23m \u001b[31mNA\u001b[39m\u001b[90m, \u001b[39m\"1980\"\u001b[90m, \u001b[39m\"16.4517…\n",
            "$ ...3                                              \u001b[3m\u001b[90m<chr>\u001b[39m\u001b[23m \u001b[31mNA\u001b[39m\u001b[90m, \u001b[39m\"1981\"\u001b[90m, \u001b[39m\"16.9877…\n",
            "$ ...4                                              \u001b[3m\u001b[90m<chr>\u001b[39m\u001b[23m \u001b[31mNA\u001b[39m\u001b[90m, \u001b[39m\"1982\"\u001b[90m, \u001b[39m\"16.4754…\n",
            "$ ...5                                              \u001b[3m\u001b[90m<chr>\u001b[39m\u001b[23m \u001b[31mNA\u001b[39m\u001b[90m, \u001b[39m\"1983\"\u001b[90m, \u001b[39m\"17.1240…\n",
            "$ ...6                                              \u001b[3m\u001b[90m<chr>\u001b[39m\u001b[23m \u001b[31mNA\u001b[39m\u001b[90m, \u001b[39m\"1984\"\u001b[90m, \u001b[39m\"18.4267…\n",
            "$ ...7                                              \u001b[3m\u001b[90m<chr>\u001b[39m\u001b[23m \u001b[31mNA\u001b[39m\u001b[90m, \u001b[39m\"1985\"\u001b[90m, \u001b[39m\"18.8181…\n",
            "$ ...8                                              \u001b[3m\u001b[90m<chr>\u001b[39m\u001b[23m \u001b[31mNA\u001b[39m\u001b[90m, \u001b[39m\"1986\"\u001b[90m, \u001b[39m\"18.5255…\n",
            "$ ...9                                              \u001b[3m\u001b[90m<chr>\u001b[39m\u001b[23m \u001b[31mNA\u001b[39m\u001b[90m, \u001b[39m\"1987\"\u001b[90m, \u001b[39m\"19.4378…\n",
            "$ ...10                                             \u001b[3m\u001b[90m<chr>\u001b[39m\u001b[23m \u001b[31mNA\u001b[39m\u001b[90m, \u001b[39m\"1988\"\u001b[90m, \u001b[39m\"20.4036…\n",
            "$ ...11                                             \u001b[3m\u001b[90m<chr>\u001b[39m\u001b[23m \u001b[31mNA\u001b[39m\u001b[90m, \u001b[39m\"1989\"\u001b[90m, \u001b[39m\"20.6257…\n",
            "$ ...12                                             \u001b[3m\u001b[90m<chr>\u001b[39m\u001b[23m \u001b[31mNA\u001b[39m\u001b[90m, \u001b[39m\"1990\"\u001b[90m, \u001b[39m\"20.5602…\n",
            "$ ...13                                             \u001b[3m\u001b[90m<chr>\u001b[39m\u001b[23m \u001b[31mNA\u001b[39m\u001b[90m, \u001b[39m\"1991\"\u001b[90m, \u001b[39m\"20.4251…\n",
            "$ ...14                                             \u001b[3m\u001b[90m<chr>\u001b[39m\u001b[23m \u001b[31mNA\u001b[39m\u001b[90m, \u001b[39m\"1992\"\u001b[90m, \u001b[39m\"20.6467…\n",
            "$ ...15                                             \u001b[3m\u001b[90m<chr>\u001b[39m\u001b[23m \u001b[31mNA\u001b[39m\u001b[90m, \u001b[39m\"1993\"\u001b[90m, \u001b[39m\"21.2821…\n",
            "$ ...16                                             \u001b[3m\u001b[90m<chr>\u001b[39m\u001b[23m \u001b[31mNA\u001b[39m\u001b[90m, \u001b[39m\"1994\"\u001b[90m, \u001b[39m\"21.3963…\n",
            "$ ...17                                             \u001b[3m\u001b[90m<chr>\u001b[39m\u001b[23m \u001b[31mNA\u001b[39m\u001b[90m, \u001b[39m\"1995\"\u001b[90m, \u001b[39m\"21.6422…\n",
            "$ ...18                                             \u001b[3m\u001b[90m<chr>\u001b[39m\u001b[23m \u001b[31mNA\u001b[39m\u001b[90m, \u001b[39m\"1996\"\u001b[90m, \u001b[39m\"22.5757…\n",
            "$ ...19                                             \u001b[3m\u001b[90m<chr>\u001b[39m\u001b[23m \u001b[31mNA\u001b[39m\u001b[90m, \u001b[39m\"1997\"\u001b[90m, \u001b[39m\"23.2049…\n",
            "$ ...20                                             \u001b[3m\u001b[90m<chr>\u001b[39m\u001b[23m \u001b[31mNA\u001b[39m\u001b[90m, \u001b[39m\"1998\"\u001b[90m, \u001b[39m\"23.5002…\n",
            "$ ...21                                             \u001b[3m\u001b[90m<chr>\u001b[39m\u001b[23m \u001b[31mNA\u001b[39m\u001b[90m, \u001b[39m\"1999\"\u001b[90m, \u001b[39m\"23.4747…\n",
            "$ ...22                                             \u001b[3m\u001b[90m<chr>\u001b[39m\u001b[23m \u001b[31mNA\u001b[39m\u001b[90m, \u001b[39m\"2000\"\u001b[90m, \u001b[39m\"24.5558…\n",
            "$ ...23                                             \u001b[3m\u001b[90m<chr>\u001b[39m\u001b[23m \u001b[31mNA\u001b[39m\u001b[90m, \u001b[39m\"2001\"\u001b[90m, \u001b[39m\"23.6270…\n",
            "$ ...24                                             \u001b[3m\u001b[90m<chr>\u001b[39m\u001b[23m \u001b[31mNA\u001b[39m\u001b[90m, \u001b[39m\"2002\"\u001b[90m, \u001b[39m\"23.6987…\n",
            "$ ...25                                             \u001b[3m\u001b[90m<chr>\u001b[39m\u001b[23m \u001b[31mNA\u001b[39m\u001b[90m, \u001b[39m\"2003\"\u001b[90m, \u001b[39m\"24.1778…\n",
            "$ ...26                                             \u001b[3m\u001b[90m<chr>\u001b[39m\u001b[23m \u001b[31mNA\u001b[39m\u001b[90m, \u001b[39m\"2004\"\u001b[90m, \u001b[39m\"24.3602…\n",
            "$ ...27                                             \u001b[3m\u001b[90m<chr>\u001b[39m\u001b[23m \u001b[31mNA\u001b[39m\u001b[90m, \u001b[39m\"2005\"\u001b[90m, \u001b[39m\"24.6876…\n",
            "$ ...28                                             \u001b[3m\u001b[90m<chr>\u001b[39m\u001b[23m \u001b[31mNA\u001b[39m\u001b[90m, \u001b[39m\"2006\"\u001b[90m, \u001b[39m\"24.3217…\n",
            "$ ...29                                             \u001b[3m\u001b[90m<chr>\u001b[39m\u001b[23m \u001b[31mNA\u001b[39m\u001b[90m, \u001b[39m\"2007\"\u001b[90m, \u001b[39m\"24.5474…\n",
            "$ ...30                                             \u001b[3m\u001b[90m<chr>\u001b[39m\u001b[23m \u001b[31mNA\u001b[39m\u001b[90m, \u001b[39m\"2008\"\u001b[90m, \u001b[39m\"24.1199…\n",
            "$ ...31                                             \u001b[3m\u001b[90m<chr>\u001b[39m\u001b[23m \u001b[31mNA\u001b[39m\u001b[90m, \u001b[39m\"2009\"\u001b[90m, \u001b[39m\"21.1480…\n"
          ]
        }
      ]
    },
    {
      "cell_type": "code",
      "source": [
        "coal <- read_csv(\"http://594442.youcanlearnit.net/coal.csv\", skip=2)\n",
        "glimpse (coal)"
      ],
      "metadata": {
        "colab": {
          "base_uri": "https://localhost:8080/"
        },
        "id": "A211cDk93OE8",
        "outputId": "c020dfe5-ef2b-4ffc-bce7-8ebaf4b1c284"
      },
      "execution_count": 91,
      "outputs": [
        {
          "output_type": "stream",
          "name": "stderr",
          "text": [
            "\u001b[1m\u001b[22mNew names:\n",
            "\u001b[36m•\u001b[39m `` -> `...1`\n",
            "\u001b[1mRows: \u001b[22m\u001b[34m232\u001b[39m \u001b[1mColumns: \u001b[22m\u001b[34m31\u001b[39m\n",
            "\u001b[36m──\u001b[39m \u001b[1mColumn specification\u001b[22m \u001b[36m────────────────────────────────────────────────────────\u001b[39m\n",
            "\u001b[1mDelimiter:\u001b[22m \",\"\n",
            "\u001b[31mchr\u001b[39m (31): ...1, 1980, 1981, 1982, 1983, 1984, 1985, 1986, 1987, 1988, 1989, ...\n",
            "\n",
            "\u001b[36mℹ\u001b[39m Use `spec()` to retrieve the full column specification for this data.\n",
            "\u001b[36mℹ\u001b[39m Specify the column types or set `show_col_types = FALSE` to quiet this message.\n"
          ]
        },
        {
          "output_type": "stream",
          "name": "stdout",
          "text": [
            "Rows: 232\n",
            "Columns: 31\n",
            "$ ...1   \u001b[3m\u001b[90m<chr>\u001b[39m\u001b[23m \"North America\"\u001b[90m, \u001b[39m\"Bermuda\"\u001b[90m, \u001b[39m\"Canada\"\u001b[90m, \u001b[39m\"Greenland\"\u001b[90m, \u001b[39m\"Mexico\"\u001b[90m, \u001b[39m\"S…\n",
            "$ `1980` \u001b[3m\u001b[90m<chr>\u001b[39m\u001b[23m \"16.45179\"\u001b[90m, \u001b[39m\"0\"\u001b[90m, \u001b[39m\"0.96156\"\u001b[90m, \u001b[39m\"0.00005\"\u001b[90m, \u001b[39m\"0.10239\"\u001b[90m, \u001b[39m\"0\"\u001b[90m, \u001b[39m\"15.3877…\n",
            "$ `1981` \u001b[3m\u001b[90m<chr>\u001b[39m\u001b[23m \"16.98772\"\u001b[90m, \u001b[39m\"0\"\u001b[90m, \u001b[39m\"0.99047\"\u001b[90m, \u001b[39m\"0.00005\"\u001b[90m, \u001b[39m\"0.10562\"\u001b[90m, \u001b[39m\"0\"\u001b[90m, \u001b[39m\"15.8915…\n",
            "$ `1982` \u001b[3m\u001b[90m<chr>\u001b[39m\u001b[23m \"16.47546\"\u001b[90m, \u001b[39m\"0\"\u001b[90m, \u001b[39m\"1.05584\"\u001b[90m, \u001b[39m\"0.00003\"\u001b[90m, \u001b[39m\"0.11967\"\u001b[90m, \u001b[39m\"0\"\u001b[90m, \u001b[39m\"15.2999…\n",
            "$ `1983` \u001b[3m\u001b[90m<chr>\u001b[39m\u001b[23m \"17.12407\"\u001b[90m, \u001b[39m\"0\"\u001b[90m, \u001b[39m\"1.11653\"\u001b[90m, \u001b[39m\"0.00003\"\u001b[90m, \u001b[39m\"0.12869\"\u001b[90m, \u001b[39m\"0\"\u001b[90m, \u001b[39m\"15.8788…\n",
            "$ `1984` \u001b[3m\u001b[90m<chr>\u001b[39m\u001b[23m \"18.4267\"\u001b[90m, \u001b[39m\"0\"\u001b[90m, \u001b[39m\"1.23682\"\u001b[90m, \u001b[39m\"0.00003\"\u001b[90m, \u001b[39m\"0.13071\"\u001b[90m, \u001b[39m\"0\"\u001b[90m, \u001b[39m\"17.05914…\n",
            "$ `1985` \u001b[3m\u001b[90m<chr>\u001b[39m\u001b[23m \"18.81819\"\u001b[90m, \u001b[39m\"0\"\u001b[90m, \u001b[39m\"1.20679\"\u001b[90m, \u001b[39m\"0\"\u001b[90m, \u001b[39m\"0.14646\"\u001b[90m, \u001b[39m\"0\"\u001b[90m, \u001b[39m\"17.46494\"\u001b[90m, \u001b[39m\"0…\n",
            "$ `1986` \u001b[3m\u001b[90m<chr>\u001b[39m\u001b[23m \"18.52559\"\u001b[90m, \u001b[39m\"0\"\u001b[90m, \u001b[39m\"1.12583\"\u001b[90m, \u001b[39m\"0\"\u001b[90m, \u001b[39m\"0.15609\"\u001b[90m, \u001b[39m\"0\"\u001b[90m, \u001b[39m\"17.24367\"\u001b[90m, \u001b[39m\"0…\n",
            "$ `1987` \u001b[3m\u001b[90m<chr>\u001b[39m\u001b[23m \"19.43781\"\u001b[90m, \u001b[39m\"0\"\u001b[90m, \u001b[39m\"1.25072\"\u001b[90m, \u001b[39m\"0\"\u001b[90m, \u001b[39m\"0.17001\"\u001b[90m, \u001b[39m\"0\"\u001b[90m, \u001b[39m\"18.01708\"\u001b[90m, \u001b[39m\"0…\n",
            "$ `1988` \u001b[3m\u001b[90m<chr>\u001b[39m\u001b[23m \"20.40363\"\u001b[90m, \u001b[39m\"0\"\u001b[90m, \u001b[39m\"1.35809\"\u001b[90m, \u001b[39m\"0\"\u001b[90m, \u001b[39m\"0.15967\"\u001b[90m, \u001b[39m\"0\"\u001b[90m, \u001b[39m\"18.88587\"\u001b[90m, \u001b[39m\"0…\n",
            "$ `1989` \u001b[3m\u001b[90m<chr>\u001b[39m\u001b[23m \"20.62571\"\u001b[90m, \u001b[39m\"0\"\u001b[90m, \u001b[39m\"1.35196\"\u001b[90m, \u001b[39m\"0\"\u001b[90m, \u001b[39m\"0.17359\"\u001b[90m, \u001b[39m\"0\"\u001b[90m, \u001b[39m\"19.10017\"\u001b[90m, \u001b[39m\"0…\n",
            "$ `1990` \u001b[3m\u001b[90m<chr>\u001b[39m\u001b[23m \"20.5602\"\u001b[90m, \u001b[39m\"0\"\u001b[90m, \u001b[39m\"1.21338\"\u001b[90m, \u001b[39m\"0\"\u001b[90m, \u001b[39m\"0.1694\"\u001b[90m, \u001b[39m\"0\"\u001b[90m, \u001b[39m\"19.17742\"\u001b[90m, \u001b[39m\"0.5…\n",
            "$ `1991` \u001b[3m\u001b[90m<chr>\u001b[39m\u001b[23m \"20.4251\"\u001b[90m, \u001b[39m\"0\"\u001b[90m, \u001b[39m\"1.26457\"\u001b[90m, \u001b[39m\"0\"\u001b[90m, \u001b[39m\"0.15916\"\u001b[90m, \u001b[39m\"0\"\u001b[90m, \u001b[39m\"19.00137\"\u001b[90m, \u001b[39m\"0.…\n",
            "$ `1992` \u001b[3m\u001b[90m<chr>\u001b[39m\u001b[23m \"20.64672\"\u001b[90m, \u001b[39m\"0\"\u001b[90m, \u001b[39m\"1.32379\"\u001b[90m, \u001b[39m\"0\"\u001b[90m, \u001b[39m\"0.16584\"\u001b[90m, \u001b[39m\"0\"\u001b[90m, \u001b[39m\"19.15709\"\u001b[90m, \u001b[39m\"0…\n",
            "$ `1993` \u001b[3m\u001b[90m<chr>\u001b[39m\u001b[23m \"21.28219\"\u001b[90m, \u001b[39m\"0\"\u001b[90m, \u001b[39m\"1.22875\"\u001b[90m, \u001b[39m\"0\"\u001b[90m, \u001b[39m\"0.19118\"\u001b[90m, \u001b[39m\"0\"\u001b[90m, \u001b[39m\"19.86225\"\u001b[90m, \u001b[39m\"0…\n",
            "$ `1994` \u001b[3m\u001b[90m<chr>\u001b[39m\u001b[23m \"21.39631\"\u001b[90m, \u001b[39m\"0\"\u001b[90m, \u001b[39m\"1.24492\"\u001b[90m, \u001b[39m\"0\"\u001b[90m, \u001b[39m\"0.1836\"\u001b[90m, \u001b[39m\"0\"\u001b[90m, \u001b[39m\"19.96779\"\u001b[90m, \u001b[39m\"0.…\n",
            "$ `1995` \u001b[3m\u001b[90m<chr>\u001b[39m\u001b[23m \"21.64225\"\u001b[90m, \u001b[39m\"0\"\u001b[90m, \u001b[39m\"1.28479\"\u001b[90m, \u001b[39m\"0\"\u001b[90m, \u001b[39m\"0.20768\"\u001b[90m, \u001b[39m\"0\"\u001b[90m, \u001b[39m\"20.14978\"\u001b[90m, \u001b[39m\"0…\n",
            "$ `1996` \u001b[3m\u001b[90m<chr>\u001b[39m\u001b[23m \"22.57572\"\u001b[90m, \u001b[39m\"0\"\u001b[90m, \u001b[39m\"1.30032\"\u001b[90m, \u001b[39m\"0\"\u001b[90m, \u001b[39m\"0.25067\"\u001b[90m, \u001b[39m\"0\"\u001b[90m, \u001b[39m\"21.02473\"\u001b[90m, \u001b[39m\"0…\n",
            "$ `1997` \u001b[3m\u001b[90m<chr>\u001b[39m\u001b[23m \"23.20491\"\u001b[90m, \u001b[39m\"0\"\u001b[90m, \u001b[39m\"1.44933\"\u001b[90m, \u001b[39m\"0\"\u001b[90m, \u001b[39m\"0.26373\"\u001b[90m, \u001b[39m\"0\"\u001b[90m, \u001b[39m\"21.49186\"\u001b[90m, \u001b[39m\"0…\n",
            "$ `1998` \u001b[3m\u001b[90m<chr>\u001b[39m\u001b[23m \"23.5002\"\u001b[90m, \u001b[39m\"0\"\u001b[90m, \u001b[39m\"1.50985\"\u001b[90m, \u001b[39m\"0\"\u001b[90m, \u001b[39m\"0.26753\"\u001b[90m, \u001b[39m\"0\"\u001b[90m, \u001b[39m\"21.72283\"\u001b[90m, \u001b[39m\"0.…\n",
            "$ `1999` \u001b[3m\u001b[90m<chr>\u001b[39m\u001b[23m \"23.4747\"\u001b[90m, \u001b[39m\"0\"\u001b[90m, \u001b[39m\"1.505\"\u001b[90m, \u001b[39m\"0\"\u001b[90m, \u001b[39m\"0.28947\"\u001b[90m, \u001b[39m\"0\"\u001b[90m, \u001b[39m\"21.68023\"\u001b[90m, \u001b[39m\"0.77…\n",
            "$ `2000` \u001b[3m\u001b[90m<chr>\u001b[39m\u001b[23m \"24.55583\"\u001b[90m, \u001b[39m\"0\"\u001b[90m, \u001b[39m\"1.61651\"\u001b[90m, \u001b[39m\"0\"\u001b[90m, \u001b[39m\"0.29444\"\u001b[90m, \u001b[39m\"0\"\u001b[90m, \u001b[39m\"22.64488\"\u001b[90m, \u001b[39m\"0…\n",
            "$ `2001` \u001b[3m\u001b[90m<chr>\u001b[39m\u001b[23m \"23.62705\"\u001b[90m, \u001b[39m\"0\"\u001b[90m, \u001b[39m\"1.35444\"\u001b[90m, \u001b[39m\"0\"\u001b[90m, \u001b[39m\"0.32908\"\u001b[90m, \u001b[39m\"0\"\u001b[90m, \u001b[39m\"21.94353\"\u001b[90m, \u001b[39m\"0…\n",
            "$ `2002` \u001b[3m\u001b[90m<chr>\u001b[39m\u001b[23m \"23.69876\"\u001b[90m, \u001b[39m\"0\"\u001b[90m, \u001b[39m\"1.36876\"\u001b[90m, \u001b[39m\"0\"\u001b[90m, \u001b[39m\"0.36525\"\u001b[90m, \u001b[39m\"0\"\u001b[90m, \u001b[39m\"21.96475\"\u001b[90m, \u001b[39m\"0…\n",
            "$ `2003` \u001b[3m\u001b[90m<chr>\u001b[39m\u001b[23m \"24.17788\"\u001b[90m, \u001b[39m\"0\"\u001b[90m, \u001b[39m\"1.38766\"\u001b[90m, \u001b[39m\"0\"\u001b[90m, \u001b[39m\"0.41878\"\u001b[90m, \u001b[39m\"0\"\u001b[90m, \u001b[39m\"22.37144\"\u001b[90m, \u001b[39m\"0…\n",
            "$ `2004` \u001b[3m\u001b[90m<chr>\u001b[39m\u001b[23m \"24.36024\"\u001b[90m, \u001b[39m\"0\"\u001b[90m, \u001b[39m\"1.43684\"\u001b[90m, \u001b[39m\"0\"\u001b[90m, \u001b[39m\"0.31944\"\u001b[90m, \u001b[39m\"0\"\u001b[90m, \u001b[39m\"22.60396\"\u001b[90m, \u001b[39m\"0…\n",
            "$ `2005` \u001b[3m\u001b[90m<chr>\u001b[39m\u001b[23m \"24.6876\"\u001b[90m, \u001b[39m\"0\"\u001b[90m, \u001b[39m\"1.44948\"\u001b[90m, \u001b[39m\"0\"\u001b[90m, \u001b[39m\"0.39739\"\u001b[90m, \u001b[39m\"0\"\u001b[90m, \u001b[39m\"22.84073\"\u001b[90m, \u001b[39m\"0.…\n",
            "$ `2006` \u001b[3m\u001b[90m<chr>\u001b[39m\u001b[23m \"24.32174\"\u001b[90m, \u001b[39m\"0\"\u001b[90m, \u001b[39m\"1.42135\"\u001b[90m, \u001b[39m\"0\"\u001b[90m, \u001b[39m\"0.39244\"\u001b[90m, \u001b[39m\"0\"\u001b[90m, \u001b[39m\"22.50795\"\u001b[90m, \u001b[39m\"0…\n",
            "$ `2007` \u001b[3m\u001b[90m<chr>\u001b[39m\u001b[23m \"24.54746\"\u001b[90m, \u001b[39m\"0\"\u001b[90m, \u001b[39m\"1.38369\"\u001b[90m, \u001b[39m\"0\"\u001b[90m, \u001b[39m\"0.38911\"\u001b[90m, \u001b[39m\"0\"\u001b[90m, \u001b[39m\"22.77466\"\u001b[90m, \u001b[39m\"0…\n",
            "$ `2008` \u001b[3m\u001b[90m<chr>\u001b[39m\u001b[23m \"24.11993\"\u001b[90m, \u001b[39m\"0\"\u001b[90m, \u001b[39m\"1.37388\"\u001b[90m, \u001b[39m\"0\"\u001b[90m, \u001b[39m\"0.32008\"\u001b[90m, \u001b[39m\"0\"\u001b[90m, \u001b[39m\"22.42597\"\u001b[90m, \u001b[39m\"1…\n",
            "$ `2009` \u001b[3m\u001b[90m<chr>\u001b[39m\u001b[23m \"21.14803\"\u001b[90m, \u001b[39m\"0\"\u001b[90m, \u001b[39m\"1.14314\"\u001b[90m, \u001b[39m\"0\"\u001b[90m, \u001b[39m\"0.3365\"\u001b[90m, \u001b[39m\"0\"\u001b[90m, \u001b[39m\"19.66839\"\u001b[90m, \u001b[39m\"0.…\n"
          ]
        }
      ]
    },
    {
      "cell_type": "code",
      "source": [
        "# Rename the first column as region\n",
        "colnames(coal)[1] <- \"region\"\n",
        "summary(coal)"
      ],
      "metadata": {
        "colab": {
          "base_uri": "https://localhost:8080/",
          "height": 572
        },
        "id": "ZmS0pBOb3OCH",
        "outputId": "687263a9-96ed-4903-f6de-6edee532f0fa"
      },
      "execution_count": 92,
      "outputs": [
        {
          "output_type": "display_data",
          "data": {
            "text/plain": [
              "    region              1980               1981               1982          \n",
              " Length:232         Length:232         Length:232         Length:232        \n",
              " Class :character   Class :character   Class :character   Class :character  \n",
              " Mode  :character   Mode  :character   Mode  :character   Mode  :character  \n",
              "     1983               1984               1985               1986          \n",
              " Length:232         Length:232         Length:232         Length:232        \n",
              " Class :character   Class :character   Class :character   Class :character  \n",
              " Mode  :character   Mode  :character   Mode  :character   Mode  :character  \n",
              "     1987               1988               1989               1990          \n",
              " Length:232         Length:232         Length:232         Length:232        \n",
              " Class :character   Class :character   Class :character   Class :character  \n",
              " Mode  :character   Mode  :character   Mode  :character   Mode  :character  \n",
              "     1991               1992               1993               1994          \n",
              " Length:232         Length:232         Length:232         Length:232        \n",
              " Class :character   Class :character   Class :character   Class :character  \n",
              " Mode  :character   Mode  :character   Mode  :character   Mode  :character  \n",
              "     1995               1996               1997               1998          \n",
              " Length:232         Length:232         Length:232         Length:232        \n",
              " Class :character   Class :character   Class :character   Class :character  \n",
              " Mode  :character   Mode  :character   Mode  :character   Mode  :character  \n",
              "     1999               2000               2001               2002          \n",
              " Length:232         Length:232         Length:232         Length:232        \n",
              " Class :character   Class :character   Class :character   Class :character  \n",
              " Mode  :character   Mode  :character   Mode  :character   Mode  :character  \n",
              "     2003               2004               2005               2006          \n",
              " Length:232         Length:232         Length:232         Length:232        \n",
              " Class :character   Class :character   Class :character   Class :character  \n",
              " Mode  :character   Mode  :character   Mode  :character   Mode  :character  \n",
              "     2007               2008               2009          \n",
              " Length:232         Length:232         Length:232        \n",
              " Class :character   Class :character   Class :character  \n",
              " Mode  :character   Mode  :character   Mode  :character  "
            ]
          },
          "metadata": {}
        }
      ]
    },
    {
      "cell_type": "code",
      "source": [
        "# Read in the coal dataset\n",
        "coal <- read_csv(\"http://594442.youcanlearnit.net/coal.csv\")\n",
        "glimpse(coal)\n"
      ],
      "metadata": {
        "colab": {
          "base_uri": "https://localhost:8080/"
        },
        "id": "X9lWz5DS3N_Z",
        "outputId": "fcd75643-a703-4493-edd3-4f38d3b1f2c4"
      },
      "execution_count": 93,
      "outputs": [
        {
          "output_type": "stream",
          "name": "stderr",
          "text": [
            "\u001b[1m\u001b[22mNew names:\n",
            "\u001b[36m•\u001b[39m `` -> `...2`\n",
            "\u001b[36m•\u001b[39m `` -> `...3`\n",
            "\u001b[36m•\u001b[39m `` -> `...4`\n",
            "\u001b[36m•\u001b[39m `` -> `...5`\n",
            "\u001b[36m•\u001b[39m `` -> `...6`\n",
            "\u001b[36m•\u001b[39m `` -> `...7`\n",
            "\u001b[36m•\u001b[39m `` -> `...8`\n",
            "\u001b[36m•\u001b[39m `` -> `...9`\n",
            "\u001b[36m•\u001b[39m `` -> `...10`\n",
            "\u001b[36m•\u001b[39m `` -> `...11`\n",
            "\u001b[36m•\u001b[39m `` -> `...12`\n",
            "\u001b[36m•\u001b[39m `` -> `...13`\n",
            "\u001b[36m•\u001b[39m `` -> `...14`\n",
            "\u001b[36m•\u001b[39m `` -> `...15`\n",
            "\u001b[36m•\u001b[39m `` -> `...16`\n",
            "\u001b[36m•\u001b[39m `` -> `...17`\n",
            "\u001b[36m•\u001b[39m `` -> `...18`\n",
            "\u001b[36m•\u001b[39m `` -> `...19`\n",
            "\u001b[36m•\u001b[39m `` -> `...20`\n",
            "\u001b[36m•\u001b[39m `` -> `...21`\n",
            "\u001b[36m•\u001b[39m `` -> `...22`\n",
            "\u001b[36m•\u001b[39m `` -> `...23`\n",
            "\u001b[36m•\u001b[39m `` -> `...24`\n",
            "\u001b[36m•\u001b[39m `` -> `...25`\n",
            "\u001b[36m•\u001b[39m `` -> `...26`\n",
            "\u001b[36m•\u001b[39m `` -> `...27`\n",
            "\u001b[36m•\u001b[39m `` -> `...28`\n",
            "\u001b[36m•\u001b[39m `` -> `...29`\n",
            "\u001b[36m•\u001b[39m `` -> `...30`\n",
            "\u001b[36m•\u001b[39m `` -> `...31`\n",
            "\u001b[1mRows: \u001b[22m\u001b[34m234\u001b[39m \u001b[1mColumns: \u001b[22m\u001b[34m31\u001b[39m\n",
            "\u001b[36m──\u001b[39m \u001b[1mColumn specification\u001b[22m \u001b[36m────────────────────────────────────────────────────────\u001b[39m\n",
            "\u001b[1mDelimiter:\u001b[22m \",\"\n",
            "\u001b[31mchr\u001b[39m (31): Table: Total Coal Consumption (Quadrillion Btu), ...2, ...3, ...4,...\n",
            "\n",
            "\u001b[36mℹ\u001b[39m Use `spec()` to retrieve the full column specification for this data.\n",
            "\u001b[36mℹ\u001b[39m Specify the column types or set `show_col_types = FALSE` to quiet this message.\n"
          ]
        },
        {
          "output_type": "stream",
          "name": "stdout",
          "text": [
            "Rows: 234\n",
            "Columns: 31\n",
            "$ `Table: Total Coal Consumption (Quadrillion Btu)` \u001b[3m\u001b[90m<chr>\u001b[39m\u001b[23m \u001b[31mNA\u001b[39m\u001b[90m, \u001b[39m\u001b[31mNA\u001b[39m\u001b[90m, \u001b[39m\"North Ameri…\n",
            "$ ...2                                              \u001b[3m\u001b[90m<chr>\u001b[39m\u001b[23m \u001b[31mNA\u001b[39m\u001b[90m, \u001b[39m\"1980\"\u001b[90m, \u001b[39m\"16.4517…\n",
            "$ ...3                                              \u001b[3m\u001b[90m<chr>\u001b[39m\u001b[23m \u001b[31mNA\u001b[39m\u001b[90m, \u001b[39m\"1981\"\u001b[90m, \u001b[39m\"16.9877…\n",
            "$ ...4                                              \u001b[3m\u001b[90m<chr>\u001b[39m\u001b[23m \u001b[31mNA\u001b[39m\u001b[90m, \u001b[39m\"1982\"\u001b[90m, \u001b[39m\"16.4754…\n",
            "$ ...5                                              \u001b[3m\u001b[90m<chr>\u001b[39m\u001b[23m \u001b[31mNA\u001b[39m\u001b[90m, \u001b[39m\"1983\"\u001b[90m, \u001b[39m\"17.1240…\n",
            "$ ...6                                              \u001b[3m\u001b[90m<chr>\u001b[39m\u001b[23m \u001b[31mNA\u001b[39m\u001b[90m, \u001b[39m\"1984\"\u001b[90m, \u001b[39m\"18.4267…\n",
            "$ ...7                                              \u001b[3m\u001b[90m<chr>\u001b[39m\u001b[23m \u001b[31mNA\u001b[39m\u001b[90m, \u001b[39m\"1985\"\u001b[90m, \u001b[39m\"18.8181…\n",
            "$ ...8                                              \u001b[3m\u001b[90m<chr>\u001b[39m\u001b[23m \u001b[31mNA\u001b[39m\u001b[90m, \u001b[39m\"1986\"\u001b[90m, \u001b[39m\"18.5255…\n",
            "$ ...9                                              \u001b[3m\u001b[90m<chr>\u001b[39m\u001b[23m \u001b[31mNA\u001b[39m\u001b[90m, \u001b[39m\"1987\"\u001b[90m, \u001b[39m\"19.4378…\n",
            "$ ...10                                             \u001b[3m\u001b[90m<chr>\u001b[39m\u001b[23m \u001b[31mNA\u001b[39m\u001b[90m, \u001b[39m\"1988\"\u001b[90m, \u001b[39m\"20.4036…\n",
            "$ ...11                                             \u001b[3m\u001b[90m<chr>\u001b[39m\u001b[23m \u001b[31mNA\u001b[39m\u001b[90m, \u001b[39m\"1989\"\u001b[90m, \u001b[39m\"20.6257…\n",
            "$ ...12                                             \u001b[3m\u001b[90m<chr>\u001b[39m\u001b[23m \u001b[31mNA\u001b[39m\u001b[90m, \u001b[39m\"1990\"\u001b[90m, \u001b[39m\"20.5602…\n",
            "$ ...13                                             \u001b[3m\u001b[90m<chr>\u001b[39m\u001b[23m \u001b[31mNA\u001b[39m\u001b[90m, \u001b[39m\"1991\"\u001b[90m, \u001b[39m\"20.4251…\n",
            "$ ...14                                             \u001b[3m\u001b[90m<chr>\u001b[39m\u001b[23m \u001b[31mNA\u001b[39m\u001b[90m, \u001b[39m\"1992\"\u001b[90m, \u001b[39m\"20.6467…\n",
            "$ ...15                                             \u001b[3m\u001b[90m<chr>\u001b[39m\u001b[23m \u001b[31mNA\u001b[39m\u001b[90m, \u001b[39m\"1993\"\u001b[90m, \u001b[39m\"21.2821…\n",
            "$ ...16                                             \u001b[3m\u001b[90m<chr>\u001b[39m\u001b[23m \u001b[31mNA\u001b[39m\u001b[90m, \u001b[39m\"1994\"\u001b[90m, \u001b[39m\"21.3963…\n",
            "$ ...17                                             \u001b[3m\u001b[90m<chr>\u001b[39m\u001b[23m \u001b[31mNA\u001b[39m\u001b[90m, \u001b[39m\"1995\"\u001b[90m, \u001b[39m\"21.6422…\n",
            "$ ...18                                             \u001b[3m\u001b[90m<chr>\u001b[39m\u001b[23m \u001b[31mNA\u001b[39m\u001b[90m, \u001b[39m\"1996\"\u001b[90m, \u001b[39m\"22.5757…\n",
            "$ ...19                                             \u001b[3m\u001b[90m<chr>\u001b[39m\u001b[23m \u001b[31mNA\u001b[39m\u001b[90m, \u001b[39m\"1997\"\u001b[90m, \u001b[39m\"23.2049…\n",
            "$ ...20                                             \u001b[3m\u001b[90m<chr>\u001b[39m\u001b[23m \u001b[31mNA\u001b[39m\u001b[90m, \u001b[39m\"1998\"\u001b[90m, \u001b[39m\"23.5002…\n",
            "$ ...21                                             \u001b[3m\u001b[90m<chr>\u001b[39m\u001b[23m \u001b[31mNA\u001b[39m\u001b[90m, \u001b[39m\"1999\"\u001b[90m, \u001b[39m\"23.4747…\n",
            "$ ...22                                             \u001b[3m\u001b[90m<chr>\u001b[39m\u001b[23m \u001b[31mNA\u001b[39m\u001b[90m, \u001b[39m\"2000\"\u001b[90m, \u001b[39m\"24.5558…\n",
            "$ ...23                                             \u001b[3m\u001b[90m<chr>\u001b[39m\u001b[23m \u001b[31mNA\u001b[39m\u001b[90m, \u001b[39m\"2001\"\u001b[90m, \u001b[39m\"23.6270…\n",
            "$ ...24                                             \u001b[3m\u001b[90m<chr>\u001b[39m\u001b[23m \u001b[31mNA\u001b[39m\u001b[90m, \u001b[39m\"2002\"\u001b[90m, \u001b[39m\"23.6987…\n",
            "$ ...25                                             \u001b[3m\u001b[90m<chr>\u001b[39m\u001b[23m \u001b[31mNA\u001b[39m\u001b[90m, \u001b[39m\"2003\"\u001b[90m, \u001b[39m\"24.1778…\n",
            "$ ...26                                             \u001b[3m\u001b[90m<chr>\u001b[39m\u001b[23m \u001b[31mNA\u001b[39m\u001b[90m, \u001b[39m\"2004\"\u001b[90m, \u001b[39m\"24.3602…\n",
            "$ ...27                                             \u001b[3m\u001b[90m<chr>\u001b[39m\u001b[23m \u001b[31mNA\u001b[39m\u001b[90m, \u001b[39m\"2005\"\u001b[90m, \u001b[39m\"24.6876…\n",
            "$ ...28                                             \u001b[3m\u001b[90m<chr>\u001b[39m\u001b[23m \u001b[31mNA\u001b[39m\u001b[90m, \u001b[39m\"2006\"\u001b[90m, \u001b[39m\"24.3217…\n",
            "$ ...29                                             \u001b[3m\u001b[90m<chr>\u001b[39m\u001b[23m \u001b[31mNA\u001b[39m\u001b[90m, \u001b[39m\"2007\"\u001b[90m, \u001b[39m\"24.5474…\n",
            "$ ...30                                             \u001b[3m\u001b[90m<chr>\u001b[39m\u001b[23m \u001b[31mNA\u001b[39m\u001b[90m, \u001b[39m\"2008\"\u001b[90m, \u001b[39m\"24.1199…\n",
            "$ ...31                                             \u001b[3m\u001b[90m<chr>\u001b[39m\u001b[23m \u001b[31mNA\u001b[39m\u001b[90m, \u001b[39m\"2009\"\u001b[90m, \u001b[39m\"21.1480…\n"
          ]
        }
      ]
    },
    {
      "cell_type": "code",
      "source": [
        "coal <- read_csv(\"http://594442.youcanlearnit.net/coal.csv\", skip=2)\n",
        "glimpse (coal)"
      ],
      "metadata": {
        "colab": {
          "base_uri": "https://localhost:8080/"
        },
        "id": "-Zuk9ch03N8m",
        "outputId": "0ba7063d-ec0e-4689-f547-0c1012bb33d1"
      },
      "execution_count": 94,
      "outputs": [
        {
          "output_type": "stream",
          "name": "stderr",
          "text": [
            "\u001b[1m\u001b[22mNew names:\n",
            "\u001b[36m•\u001b[39m `` -> `...1`\n",
            "\u001b[1mRows: \u001b[22m\u001b[34m232\u001b[39m \u001b[1mColumns: \u001b[22m\u001b[34m31\u001b[39m\n",
            "\u001b[36m──\u001b[39m \u001b[1mColumn specification\u001b[22m \u001b[36m────────────────────────────────────────────────────────\u001b[39m\n",
            "\u001b[1mDelimiter:\u001b[22m \",\"\n",
            "\u001b[31mchr\u001b[39m (31): ...1, 1980, 1981, 1982, 1983, 1984, 1985, 1986, 1987, 1988, 1989, ...\n",
            "\n",
            "\u001b[36mℹ\u001b[39m Use `spec()` to retrieve the full column specification for this data.\n",
            "\u001b[36mℹ\u001b[39m Specify the column types or set `show_col_types = FALSE` to quiet this message.\n"
          ]
        },
        {
          "output_type": "stream",
          "name": "stdout",
          "text": [
            "Rows: 232\n",
            "Columns: 31\n",
            "$ ...1   \u001b[3m\u001b[90m<chr>\u001b[39m\u001b[23m \"North America\"\u001b[90m, \u001b[39m\"Bermuda\"\u001b[90m, \u001b[39m\"Canada\"\u001b[90m, \u001b[39m\"Greenland\"\u001b[90m, \u001b[39m\"Mexico\"\u001b[90m, \u001b[39m\"S…\n",
            "$ `1980` \u001b[3m\u001b[90m<chr>\u001b[39m\u001b[23m \"16.45179\"\u001b[90m, \u001b[39m\"0\"\u001b[90m, \u001b[39m\"0.96156\"\u001b[90m, \u001b[39m\"0.00005\"\u001b[90m, \u001b[39m\"0.10239\"\u001b[90m, \u001b[39m\"0\"\u001b[90m, \u001b[39m\"15.3877…\n",
            "$ `1981` \u001b[3m\u001b[90m<chr>\u001b[39m\u001b[23m \"16.98772\"\u001b[90m, \u001b[39m\"0\"\u001b[90m, \u001b[39m\"0.99047\"\u001b[90m, \u001b[39m\"0.00005\"\u001b[90m, \u001b[39m\"0.10562\"\u001b[90m, \u001b[39m\"0\"\u001b[90m, \u001b[39m\"15.8915…\n",
            "$ `1982` \u001b[3m\u001b[90m<chr>\u001b[39m\u001b[23m \"16.47546\"\u001b[90m, \u001b[39m\"0\"\u001b[90m, \u001b[39m\"1.05584\"\u001b[90m, \u001b[39m\"0.00003\"\u001b[90m, \u001b[39m\"0.11967\"\u001b[90m, \u001b[39m\"0\"\u001b[90m, \u001b[39m\"15.2999…\n",
            "$ `1983` \u001b[3m\u001b[90m<chr>\u001b[39m\u001b[23m \"17.12407\"\u001b[90m, \u001b[39m\"0\"\u001b[90m, \u001b[39m\"1.11653\"\u001b[90m, \u001b[39m\"0.00003\"\u001b[90m, \u001b[39m\"0.12869\"\u001b[90m, \u001b[39m\"0\"\u001b[90m, \u001b[39m\"15.8788…\n",
            "$ `1984` \u001b[3m\u001b[90m<chr>\u001b[39m\u001b[23m \"18.4267\"\u001b[90m, \u001b[39m\"0\"\u001b[90m, \u001b[39m\"1.23682\"\u001b[90m, \u001b[39m\"0.00003\"\u001b[90m, \u001b[39m\"0.13071\"\u001b[90m, \u001b[39m\"0\"\u001b[90m, \u001b[39m\"17.05914…\n",
            "$ `1985` \u001b[3m\u001b[90m<chr>\u001b[39m\u001b[23m \"18.81819\"\u001b[90m, \u001b[39m\"0\"\u001b[90m, \u001b[39m\"1.20679\"\u001b[90m, \u001b[39m\"0\"\u001b[90m, \u001b[39m\"0.14646\"\u001b[90m, \u001b[39m\"0\"\u001b[90m, \u001b[39m\"17.46494\"\u001b[90m, \u001b[39m\"0…\n",
            "$ `1986` \u001b[3m\u001b[90m<chr>\u001b[39m\u001b[23m \"18.52559\"\u001b[90m, \u001b[39m\"0\"\u001b[90m, \u001b[39m\"1.12583\"\u001b[90m, \u001b[39m\"0\"\u001b[90m, \u001b[39m\"0.15609\"\u001b[90m, \u001b[39m\"0\"\u001b[90m, \u001b[39m\"17.24367\"\u001b[90m, \u001b[39m\"0…\n",
            "$ `1987` \u001b[3m\u001b[90m<chr>\u001b[39m\u001b[23m \"19.43781\"\u001b[90m, \u001b[39m\"0\"\u001b[90m, \u001b[39m\"1.25072\"\u001b[90m, \u001b[39m\"0\"\u001b[90m, \u001b[39m\"0.17001\"\u001b[90m, \u001b[39m\"0\"\u001b[90m, \u001b[39m\"18.01708\"\u001b[90m, \u001b[39m\"0…\n",
            "$ `1988` \u001b[3m\u001b[90m<chr>\u001b[39m\u001b[23m \"20.40363\"\u001b[90m, \u001b[39m\"0\"\u001b[90m, \u001b[39m\"1.35809\"\u001b[90m, \u001b[39m\"0\"\u001b[90m, \u001b[39m\"0.15967\"\u001b[90m, \u001b[39m\"0\"\u001b[90m, \u001b[39m\"18.88587\"\u001b[90m, \u001b[39m\"0…\n",
            "$ `1989` \u001b[3m\u001b[90m<chr>\u001b[39m\u001b[23m \"20.62571\"\u001b[90m, \u001b[39m\"0\"\u001b[90m, \u001b[39m\"1.35196\"\u001b[90m, \u001b[39m\"0\"\u001b[90m, \u001b[39m\"0.17359\"\u001b[90m, \u001b[39m\"0\"\u001b[90m, \u001b[39m\"19.10017\"\u001b[90m, \u001b[39m\"0…\n",
            "$ `1990` \u001b[3m\u001b[90m<chr>\u001b[39m\u001b[23m \"20.5602\"\u001b[90m, \u001b[39m\"0\"\u001b[90m, \u001b[39m\"1.21338\"\u001b[90m, \u001b[39m\"0\"\u001b[90m, \u001b[39m\"0.1694\"\u001b[90m, \u001b[39m\"0\"\u001b[90m, \u001b[39m\"19.17742\"\u001b[90m, \u001b[39m\"0.5…\n",
            "$ `1991` \u001b[3m\u001b[90m<chr>\u001b[39m\u001b[23m \"20.4251\"\u001b[90m, \u001b[39m\"0\"\u001b[90m, \u001b[39m\"1.26457\"\u001b[90m, \u001b[39m\"0\"\u001b[90m, \u001b[39m\"0.15916\"\u001b[90m, \u001b[39m\"0\"\u001b[90m, \u001b[39m\"19.00137\"\u001b[90m, \u001b[39m\"0.…\n",
            "$ `1992` \u001b[3m\u001b[90m<chr>\u001b[39m\u001b[23m \"20.64672\"\u001b[90m, \u001b[39m\"0\"\u001b[90m, \u001b[39m\"1.32379\"\u001b[90m, \u001b[39m\"0\"\u001b[90m, \u001b[39m\"0.16584\"\u001b[90m, \u001b[39m\"0\"\u001b[90m, \u001b[39m\"19.15709\"\u001b[90m, \u001b[39m\"0…\n",
            "$ `1993` \u001b[3m\u001b[90m<chr>\u001b[39m\u001b[23m \"21.28219\"\u001b[90m, \u001b[39m\"0\"\u001b[90m, \u001b[39m\"1.22875\"\u001b[90m, \u001b[39m\"0\"\u001b[90m, \u001b[39m\"0.19118\"\u001b[90m, \u001b[39m\"0\"\u001b[90m, \u001b[39m\"19.86225\"\u001b[90m, \u001b[39m\"0…\n",
            "$ `1994` \u001b[3m\u001b[90m<chr>\u001b[39m\u001b[23m \"21.39631\"\u001b[90m, \u001b[39m\"0\"\u001b[90m, \u001b[39m\"1.24492\"\u001b[90m, \u001b[39m\"0\"\u001b[90m, \u001b[39m\"0.1836\"\u001b[90m, \u001b[39m\"0\"\u001b[90m, \u001b[39m\"19.96779\"\u001b[90m, \u001b[39m\"0.…\n",
            "$ `1995` \u001b[3m\u001b[90m<chr>\u001b[39m\u001b[23m \"21.64225\"\u001b[90m, \u001b[39m\"0\"\u001b[90m, \u001b[39m\"1.28479\"\u001b[90m, \u001b[39m\"0\"\u001b[90m, \u001b[39m\"0.20768\"\u001b[90m, \u001b[39m\"0\"\u001b[90m, \u001b[39m\"20.14978\"\u001b[90m, \u001b[39m\"0…\n",
            "$ `1996` \u001b[3m\u001b[90m<chr>\u001b[39m\u001b[23m \"22.57572\"\u001b[90m, \u001b[39m\"0\"\u001b[90m, \u001b[39m\"1.30032\"\u001b[90m, \u001b[39m\"0\"\u001b[90m, \u001b[39m\"0.25067\"\u001b[90m, \u001b[39m\"0\"\u001b[90m, \u001b[39m\"21.02473\"\u001b[90m, \u001b[39m\"0…\n",
            "$ `1997` \u001b[3m\u001b[90m<chr>\u001b[39m\u001b[23m \"23.20491\"\u001b[90m, \u001b[39m\"0\"\u001b[90m, \u001b[39m\"1.44933\"\u001b[90m, \u001b[39m\"0\"\u001b[90m, \u001b[39m\"0.26373\"\u001b[90m, \u001b[39m\"0\"\u001b[90m, \u001b[39m\"21.49186\"\u001b[90m, \u001b[39m\"0…\n",
            "$ `1998` \u001b[3m\u001b[90m<chr>\u001b[39m\u001b[23m \"23.5002\"\u001b[90m, \u001b[39m\"0\"\u001b[90m, \u001b[39m\"1.50985\"\u001b[90m, \u001b[39m\"0\"\u001b[90m, \u001b[39m\"0.26753\"\u001b[90m, \u001b[39m\"0\"\u001b[90m, \u001b[39m\"21.72283\"\u001b[90m, \u001b[39m\"0.…\n",
            "$ `1999` \u001b[3m\u001b[90m<chr>\u001b[39m\u001b[23m \"23.4747\"\u001b[90m, \u001b[39m\"0\"\u001b[90m, \u001b[39m\"1.505\"\u001b[90m, \u001b[39m\"0\"\u001b[90m, \u001b[39m\"0.28947\"\u001b[90m, \u001b[39m\"0\"\u001b[90m, \u001b[39m\"21.68023\"\u001b[90m, \u001b[39m\"0.77…\n",
            "$ `2000` \u001b[3m\u001b[90m<chr>\u001b[39m\u001b[23m \"24.55583\"\u001b[90m, \u001b[39m\"0\"\u001b[90m, \u001b[39m\"1.61651\"\u001b[90m, \u001b[39m\"0\"\u001b[90m, \u001b[39m\"0.29444\"\u001b[90m, \u001b[39m\"0\"\u001b[90m, \u001b[39m\"22.64488\"\u001b[90m, \u001b[39m\"0…\n",
            "$ `2001` \u001b[3m\u001b[90m<chr>\u001b[39m\u001b[23m \"23.62705\"\u001b[90m, \u001b[39m\"0\"\u001b[90m, \u001b[39m\"1.35444\"\u001b[90m, \u001b[39m\"0\"\u001b[90m, \u001b[39m\"0.32908\"\u001b[90m, \u001b[39m\"0\"\u001b[90m, \u001b[39m\"21.94353\"\u001b[90m, \u001b[39m\"0…\n",
            "$ `2002` \u001b[3m\u001b[90m<chr>\u001b[39m\u001b[23m \"23.69876\"\u001b[90m, \u001b[39m\"0\"\u001b[90m, \u001b[39m\"1.36876\"\u001b[90m, \u001b[39m\"0\"\u001b[90m, \u001b[39m\"0.36525\"\u001b[90m, \u001b[39m\"0\"\u001b[90m, \u001b[39m\"21.96475\"\u001b[90m, \u001b[39m\"0…\n",
            "$ `2003` \u001b[3m\u001b[90m<chr>\u001b[39m\u001b[23m \"24.17788\"\u001b[90m, \u001b[39m\"0\"\u001b[90m, \u001b[39m\"1.38766\"\u001b[90m, \u001b[39m\"0\"\u001b[90m, \u001b[39m\"0.41878\"\u001b[90m, \u001b[39m\"0\"\u001b[90m, \u001b[39m\"22.37144\"\u001b[90m, \u001b[39m\"0…\n",
            "$ `2004` \u001b[3m\u001b[90m<chr>\u001b[39m\u001b[23m \"24.36024\"\u001b[90m, \u001b[39m\"0\"\u001b[90m, \u001b[39m\"1.43684\"\u001b[90m, \u001b[39m\"0\"\u001b[90m, \u001b[39m\"0.31944\"\u001b[90m, \u001b[39m\"0\"\u001b[90m, \u001b[39m\"22.60396\"\u001b[90m, \u001b[39m\"0…\n",
            "$ `2005` \u001b[3m\u001b[90m<chr>\u001b[39m\u001b[23m \"24.6876\"\u001b[90m, \u001b[39m\"0\"\u001b[90m, \u001b[39m\"1.44948\"\u001b[90m, \u001b[39m\"0\"\u001b[90m, \u001b[39m\"0.39739\"\u001b[90m, \u001b[39m\"0\"\u001b[90m, \u001b[39m\"22.84073\"\u001b[90m, \u001b[39m\"0.…\n",
            "$ `2006` \u001b[3m\u001b[90m<chr>\u001b[39m\u001b[23m \"24.32174\"\u001b[90m, \u001b[39m\"0\"\u001b[90m, \u001b[39m\"1.42135\"\u001b[90m, \u001b[39m\"0\"\u001b[90m, \u001b[39m\"0.39244\"\u001b[90m, \u001b[39m\"0\"\u001b[90m, \u001b[39m\"22.50795\"\u001b[90m, \u001b[39m\"0…\n",
            "$ `2007` \u001b[3m\u001b[90m<chr>\u001b[39m\u001b[23m \"24.54746\"\u001b[90m, \u001b[39m\"0\"\u001b[90m, \u001b[39m\"1.38369\"\u001b[90m, \u001b[39m\"0\"\u001b[90m, \u001b[39m\"0.38911\"\u001b[90m, \u001b[39m\"0\"\u001b[90m, \u001b[39m\"22.77466\"\u001b[90m, \u001b[39m\"0…\n",
            "$ `2008` \u001b[3m\u001b[90m<chr>\u001b[39m\u001b[23m \"24.11993\"\u001b[90m, \u001b[39m\"0\"\u001b[90m, \u001b[39m\"1.37388\"\u001b[90m, \u001b[39m\"0\"\u001b[90m, \u001b[39m\"0.32008\"\u001b[90m, \u001b[39m\"0\"\u001b[90m, \u001b[39m\"22.42597\"\u001b[90m, \u001b[39m\"1…\n",
            "$ `2009` \u001b[3m\u001b[90m<chr>\u001b[39m\u001b[23m \"21.14803\"\u001b[90m, \u001b[39m\"0\"\u001b[90m, \u001b[39m\"1.14314\"\u001b[90m, \u001b[39m\"0\"\u001b[90m, \u001b[39m\"0.3365\"\u001b[90m, \u001b[39m\"0\"\u001b[90m, \u001b[39m\"19.66839\"\u001b[90m, \u001b[39m\"0.…\n"
          ]
        }
      ]
    },
    {
      "cell_type": "code",
      "source": [
        "colnames(coal)[1]<-\"region\"\n",
        "summary(coal)"
      ],
      "metadata": {
        "colab": {
          "base_uri": "https://localhost:8080/",
          "height": 572
        },
        "id": "5OT29k4q3N6D",
        "outputId": "1b935753-bbe7-4f1b-ff0c-6c9b0c83c323"
      },
      "execution_count": 95,
      "outputs": [
        {
          "output_type": "display_data",
          "data": {
            "text/plain": [
              "    region              1980               1981               1982          \n",
              " Length:232         Length:232         Length:232         Length:232        \n",
              " Class :character   Class :character   Class :character   Class :character  \n",
              " Mode  :character   Mode  :character   Mode  :character   Mode  :character  \n",
              "     1983               1984               1985               1986          \n",
              " Length:232         Length:232         Length:232         Length:232        \n",
              " Class :character   Class :character   Class :character   Class :character  \n",
              " Mode  :character   Mode  :character   Mode  :character   Mode  :character  \n",
              "     1987               1988               1989               1990          \n",
              " Length:232         Length:232         Length:232         Length:232        \n",
              " Class :character   Class :character   Class :character   Class :character  \n",
              " Mode  :character   Mode  :character   Mode  :character   Mode  :character  \n",
              "     1991               1992               1993               1994          \n",
              " Length:232         Length:232         Length:232         Length:232        \n",
              " Class :character   Class :character   Class :character   Class :character  \n",
              " Mode  :character   Mode  :character   Mode  :character   Mode  :character  \n",
              "     1995               1996               1997               1998          \n",
              " Length:232         Length:232         Length:232         Length:232        \n",
              " Class :character   Class :character   Class :character   Class :character  \n",
              " Mode  :character   Mode  :character   Mode  :character   Mode  :character  \n",
              "     1999               2000               2001               2002          \n",
              " Length:232         Length:232         Length:232         Length:232        \n",
              " Class :character   Class :character   Class :character   Class :character  \n",
              " Mode  :character   Mode  :character   Mode  :character   Mode  :character  \n",
              "     2003               2004               2005               2006          \n",
              " Length:232         Length:232         Length:232         Length:232        \n",
              " Class :character   Class :character   Class :character   Class :character  \n",
              " Mode  :character   Mode  :character   Mode  :character   Mode  :character  \n",
              "     2007               2008               2009          \n",
              " Length:232         Length:232         Length:232        \n",
              " Class :character   Class :character   Class :character  \n",
              " Mode  :character   Mode  :character   Mode  :character  "
            ]
          },
          "metadata": {}
        }
      ]
    },
    {
      "cell_type": "code",
      "source": [
        "# Convert from a wide dataset to a long dataset using pivot_longer\n",
        "coal_long <- pivot_longer(coal, !region, names_to='year', values_to='coal_consumption')\n",
        "glimpse(coal_long)"
      ],
      "metadata": {
        "colab": {
          "base_uri": "https://localhost:8080/"
        },
        "id": "1QfJhV0w3N2-",
        "outputId": "005b477c-bb37-44e6-a5b6-c73b9baccf11"
      },
      "execution_count": 96,
      "outputs": [
        {
          "output_type": "stream",
          "name": "stdout",
          "text": [
            "Rows: 6,960\n",
            "Columns: 3\n",
            "$ region           \u001b[3m\u001b[90m<chr>\u001b[39m\u001b[23m \"North America\"\u001b[90m, \u001b[39m\"North America\"\u001b[90m, \u001b[39m\"North America\"\u001b[90m, \u001b[39m\"N…\n",
            "$ year             \u001b[3m\u001b[90m<chr>\u001b[39m\u001b[23m \"1980\"\u001b[90m, \u001b[39m\"1981\"\u001b[90m, \u001b[39m\"1982\"\u001b[90m, \u001b[39m\"1983\"\u001b[90m, \u001b[39m\"1984\"\u001b[90m, \u001b[39m\"1985\"\u001b[90m, \u001b[39m\"1986…\n",
            "$ coal_consumption \u001b[3m\u001b[90m<chr>\u001b[39m\u001b[23m \"16.45179\"\u001b[90m, \u001b[39m\"16.98772\"\u001b[90m, \u001b[39m\"16.47546\"\u001b[90m, \u001b[39m\"17.12407\"\u001b[90m, \u001b[39m\"18.4…\n"
          ]
        }
      ]
    },
    {
      "cell_type": "code",
      "source": [
        "# Convert years to integers\n",
        "coal_long <- coal_long %>%mutate(year=as.integer(year))\n",
        "\n",
        "summary(coal_long)"
      ],
      "metadata": {
        "colab": {
          "base_uri": "https://localhost:8080/",
          "height": 139
        },
        "id": "nSar31GU3Nzf",
        "outputId": "90910aee-e540-453a-f35b-f0394882bb23"
      },
      "execution_count": 97,
      "outputs": [
        {
          "output_type": "display_data",
          "data": {
            "text/plain": [
              "    region               year      coal_consumption  \n",
              " Length:6960        Min.   :1980   Length:6960       \n",
              " Class :character   1st Qu.:1987   Class :character  \n",
              " Mode  :character   Median :1994   Mode  :character  \n",
              "                    Mean   :1994                     \n",
              "                    3rd Qu.:2002                     \n",
              "                    Max.   :2009                     "
            ]
          },
          "metadata": {}
        }
      ]
    },
    {
      "cell_type": "code",
      "source": [
        "# Convert coal consumption to numeric\n",
        "coal_long <- coal_long %>%mutate(coal_consumption=as.numeric(coal_consumption))\n",
        "\n",
        "summary(coal_long)\n"
      ],
      "metadata": {
        "colab": {
          "base_uri": "https://localhost:8080/",
          "height": 243
        },
        "id": "jjzQ6PpO8iA5",
        "outputId": "9c3d4ae8-fee3-43b3-f636-e19994b80307"
      },
      "execution_count": 98,
      "outputs": [
        {
          "output_type": "stream",
          "name": "stderr",
          "text": [
            "Warning message:\n",
            "“\u001b[1m\u001b[22mThere was 1 warning in `mutate()`.\n",
            "\u001b[1m\u001b[22m\u001b[36mℹ\u001b[39m In argument: `coal_consumption = as.numeric(coal_consumption)`.\n",
            "Caused by warning:\n",
            "\u001b[33m!\u001b[39m NAs introduced by coercion”\n"
          ]
        },
        {
          "output_type": "display_data",
          "data": {
            "text/plain": [
              "    region               year      coal_consumption   \n",
              " Length:6960        Min.   :1980   Min.   : -0.00025  \n",
              " Class :character   1st Qu.:1987   1st Qu.:  0.00000  \n",
              " Mode  :character   Median :1994   Median :  0.00016  \n",
              "                    Mean   :1994   Mean   :  1.32555  \n",
              "                    3rd Qu.:2002   3rd Qu.:  0.07728  \n",
              "                    Max.   :2009   Max.   :138.82977  \n",
              "                                   NA's   :517        "
            ]
          },
          "metadata": {}
        }
      ]
    },
    {
      "cell_type": "code",
      "source": [
        "coal <- read_csv(\"http://594442.youcanlearnit.net/coal.csv\")\n",
        "glimpse(coal)"
      ],
      "metadata": {
        "colab": {
          "base_uri": "https://localhost:8080/"
        },
        "id": "58jmpGF38h9O",
        "outputId": "a30f1d4e-5003-4513-86bf-cdf3089e0996"
      },
      "execution_count": 99,
      "outputs": [
        {
          "output_type": "stream",
          "name": "stderr",
          "text": [
            "\u001b[1m\u001b[22mNew names:\n",
            "\u001b[36m•\u001b[39m `` -> `...2`\n",
            "\u001b[36m•\u001b[39m `` -> `...3`\n",
            "\u001b[36m•\u001b[39m `` -> `...4`\n",
            "\u001b[36m•\u001b[39m `` -> `...5`\n",
            "\u001b[36m•\u001b[39m `` -> `...6`\n",
            "\u001b[36m•\u001b[39m `` -> `...7`\n",
            "\u001b[36m•\u001b[39m `` -> `...8`\n",
            "\u001b[36m•\u001b[39m `` -> `...9`\n",
            "\u001b[36m•\u001b[39m `` -> `...10`\n",
            "\u001b[36m•\u001b[39m `` -> `...11`\n",
            "\u001b[36m•\u001b[39m `` -> `...12`\n",
            "\u001b[36m•\u001b[39m `` -> `...13`\n",
            "\u001b[36m•\u001b[39m `` -> `...14`\n",
            "\u001b[36m•\u001b[39m `` -> `...15`\n",
            "\u001b[36m•\u001b[39m `` -> `...16`\n",
            "\u001b[36m•\u001b[39m `` -> `...17`\n",
            "\u001b[36m•\u001b[39m `` -> `...18`\n",
            "\u001b[36m•\u001b[39m `` -> `...19`\n",
            "\u001b[36m•\u001b[39m `` -> `...20`\n",
            "\u001b[36m•\u001b[39m `` -> `...21`\n",
            "\u001b[36m•\u001b[39m `` -> `...22`\n",
            "\u001b[36m•\u001b[39m `` -> `...23`\n",
            "\u001b[36m•\u001b[39m `` -> `...24`\n",
            "\u001b[36m•\u001b[39m `` -> `...25`\n",
            "\u001b[36m•\u001b[39m `` -> `...26`\n",
            "\u001b[36m•\u001b[39m `` -> `...27`\n",
            "\u001b[36m•\u001b[39m `` -> `...28`\n",
            "\u001b[36m•\u001b[39m `` -> `...29`\n",
            "\u001b[36m•\u001b[39m `` -> `...30`\n",
            "\u001b[36m•\u001b[39m `` -> `...31`\n",
            "\u001b[1mRows: \u001b[22m\u001b[34m234\u001b[39m \u001b[1mColumns: \u001b[22m\u001b[34m31\u001b[39m\n",
            "\u001b[36m──\u001b[39m \u001b[1mColumn specification\u001b[22m \u001b[36m────────────────────────────────────────────────────────\u001b[39m\n",
            "\u001b[1mDelimiter:\u001b[22m \",\"\n",
            "\u001b[31mchr\u001b[39m (31): Table: Total Coal Consumption (Quadrillion Btu), ...2, ...3, ...4,...\n",
            "\n",
            "\u001b[36mℹ\u001b[39m Use `spec()` to retrieve the full column specification for this data.\n",
            "\u001b[36mℹ\u001b[39m Specify the column types or set `show_col_types = FALSE` to quiet this message.\n"
          ]
        },
        {
          "output_type": "stream",
          "name": "stdout",
          "text": [
            "Rows: 234\n",
            "Columns: 31\n",
            "$ `Table: Total Coal Consumption (Quadrillion Btu)` \u001b[3m\u001b[90m<chr>\u001b[39m\u001b[23m \u001b[31mNA\u001b[39m\u001b[90m, \u001b[39m\u001b[31mNA\u001b[39m\u001b[90m, \u001b[39m\"North Ameri…\n",
            "$ ...2                                              \u001b[3m\u001b[90m<chr>\u001b[39m\u001b[23m \u001b[31mNA\u001b[39m\u001b[90m, \u001b[39m\"1980\"\u001b[90m, \u001b[39m\"16.4517…\n",
            "$ ...3                                              \u001b[3m\u001b[90m<chr>\u001b[39m\u001b[23m \u001b[31mNA\u001b[39m\u001b[90m, \u001b[39m\"1981\"\u001b[90m, \u001b[39m\"16.9877…\n",
            "$ ...4                                              \u001b[3m\u001b[90m<chr>\u001b[39m\u001b[23m \u001b[31mNA\u001b[39m\u001b[90m, \u001b[39m\"1982\"\u001b[90m, \u001b[39m\"16.4754…\n",
            "$ ...5                                              \u001b[3m\u001b[90m<chr>\u001b[39m\u001b[23m \u001b[31mNA\u001b[39m\u001b[90m, \u001b[39m\"1983\"\u001b[90m, \u001b[39m\"17.1240…\n",
            "$ ...6                                              \u001b[3m\u001b[90m<chr>\u001b[39m\u001b[23m \u001b[31mNA\u001b[39m\u001b[90m, \u001b[39m\"1984\"\u001b[90m, \u001b[39m\"18.4267…\n",
            "$ ...7                                              \u001b[3m\u001b[90m<chr>\u001b[39m\u001b[23m \u001b[31mNA\u001b[39m\u001b[90m, \u001b[39m\"1985\"\u001b[90m, \u001b[39m\"18.8181…\n",
            "$ ...8                                              \u001b[3m\u001b[90m<chr>\u001b[39m\u001b[23m \u001b[31mNA\u001b[39m\u001b[90m, \u001b[39m\"1986\"\u001b[90m, \u001b[39m\"18.5255…\n",
            "$ ...9                                              \u001b[3m\u001b[90m<chr>\u001b[39m\u001b[23m \u001b[31mNA\u001b[39m\u001b[90m, \u001b[39m\"1987\"\u001b[90m, \u001b[39m\"19.4378…\n",
            "$ ...10                                             \u001b[3m\u001b[90m<chr>\u001b[39m\u001b[23m \u001b[31mNA\u001b[39m\u001b[90m, \u001b[39m\"1988\"\u001b[90m, \u001b[39m\"20.4036…\n",
            "$ ...11                                             \u001b[3m\u001b[90m<chr>\u001b[39m\u001b[23m \u001b[31mNA\u001b[39m\u001b[90m, \u001b[39m\"1989\"\u001b[90m, \u001b[39m\"20.6257…\n",
            "$ ...12                                             \u001b[3m\u001b[90m<chr>\u001b[39m\u001b[23m \u001b[31mNA\u001b[39m\u001b[90m, \u001b[39m\"1990\"\u001b[90m, \u001b[39m\"20.5602…\n",
            "$ ...13                                             \u001b[3m\u001b[90m<chr>\u001b[39m\u001b[23m \u001b[31mNA\u001b[39m\u001b[90m, \u001b[39m\"1991\"\u001b[90m, \u001b[39m\"20.4251…\n",
            "$ ...14                                             \u001b[3m\u001b[90m<chr>\u001b[39m\u001b[23m \u001b[31mNA\u001b[39m\u001b[90m, \u001b[39m\"1992\"\u001b[90m, \u001b[39m\"20.6467…\n",
            "$ ...15                                             \u001b[3m\u001b[90m<chr>\u001b[39m\u001b[23m \u001b[31mNA\u001b[39m\u001b[90m, \u001b[39m\"1993\"\u001b[90m, \u001b[39m\"21.2821…\n",
            "$ ...16                                             \u001b[3m\u001b[90m<chr>\u001b[39m\u001b[23m \u001b[31mNA\u001b[39m\u001b[90m, \u001b[39m\"1994\"\u001b[90m, \u001b[39m\"21.3963…\n",
            "$ ...17                                             \u001b[3m\u001b[90m<chr>\u001b[39m\u001b[23m \u001b[31mNA\u001b[39m\u001b[90m, \u001b[39m\"1995\"\u001b[90m, \u001b[39m\"21.6422…\n",
            "$ ...18                                             \u001b[3m\u001b[90m<chr>\u001b[39m\u001b[23m \u001b[31mNA\u001b[39m\u001b[90m, \u001b[39m\"1996\"\u001b[90m, \u001b[39m\"22.5757…\n",
            "$ ...19                                             \u001b[3m\u001b[90m<chr>\u001b[39m\u001b[23m \u001b[31mNA\u001b[39m\u001b[90m, \u001b[39m\"1997\"\u001b[90m, \u001b[39m\"23.2049…\n",
            "$ ...20                                             \u001b[3m\u001b[90m<chr>\u001b[39m\u001b[23m \u001b[31mNA\u001b[39m\u001b[90m, \u001b[39m\"1998\"\u001b[90m, \u001b[39m\"23.5002…\n",
            "$ ...21                                             \u001b[3m\u001b[90m<chr>\u001b[39m\u001b[23m \u001b[31mNA\u001b[39m\u001b[90m, \u001b[39m\"1999\"\u001b[90m, \u001b[39m\"23.4747…\n",
            "$ ...22                                             \u001b[3m\u001b[90m<chr>\u001b[39m\u001b[23m \u001b[31mNA\u001b[39m\u001b[90m, \u001b[39m\"2000\"\u001b[90m, \u001b[39m\"24.5558…\n",
            "$ ...23                                             \u001b[3m\u001b[90m<chr>\u001b[39m\u001b[23m \u001b[31mNA\u001b[39m\u001b[90m, \u001b[39m\"2001\"\u001b[90m, \u001b[39m\"23.6270…\n",
            "$ ...24                                             \u001b[3m\u001b[90m<chr>\u001b[39m\u001b[23m \u001b[31mNA\u001b[39m\u001b[90m, \u001b[39m\"2002\"\u001b[90m, \u001b[39m\"23.6987…\n",
            "$ ...25                                             \u001b[3m\u001b[90m<chr>\u001b[39m\u001b[23m \u001b[31mNA\u001b[39m\u001b[90m, \u001b[39m\"2003\"\u001b[90m, \u001b[39m\"24.1778…\n",
            "$ ...26                                             \u001b[3m\u001b[90m<chr>\u001b[39m\u001b[23m \u001b[31mNA\u001b[39m\u001b[90m, \u001b[39m\"2004\"\u001b[90m, \u001b[39m\"24.3602…\n",
            "$ ...27                                             \u001b[3m\u001b[90m<chr>\u001b[39m\u001b[23m \u001b[31mNA\u001b[39m\u001b[90m, \u001b[39m\"2005\"\u001b[90m, \u001b[39m\"24.6876…\n",
            "$ ...28                                             \u001b[3m\u001b[90m<chr>\u001b[39m\u001b[23m \u001b[31mNA\u001b[39m\u001b[90m, \u001b[39m\"2006\"\u001b[90m, \u001b[39m\"24.3217…\n",
            "$ ...29                                             \u001b[3m\u001b[90m<chr>\u001b[39m\u001b[23m \u001b[31mNA\u001b[39m\u001b[90m, \u001b[39m\"2007\"\u001b[90m, \u001b[39m\"24.5474…\n",
            "$ ...30                                             \u001b[3m\u001b[90m<chr>\u001b[39m\u001b[23m \u001b[31mNA\u001b[39m\u001b[90m, \u001b[39m\"2008\"\u001b[90m, \u001b[39m\"24.1199…\n",
            "$ ...31                                             \u001b[3m\u001b[90m<chr>\u001b[39m\u001b[23m \u001b[31mNA\u001b[39m\u001b[90m, \u001b[39m\"2009\"\u001b[90m, \u001b[39m\"21.1480…\n"
          ]
        }
      ]
    },
    {
      "cell_type": "code",
      "source": [
        "coal <- read_csv(\"http://594442.youcanlearnit.net/coal.csv\", skip=2)\n",
        "glimpse (coal)"
      ],
      "metadata": {
        "colab": {
          "base_uri": "https://localhost:8080/"
        },
        "id": "3DSwyjn28h6C",
        "outputId": "43eae30a-fbe9-456a-d54b-b052e89b8cf7"
      },
      "execution_count": 100,
      "outputs": [
        {
          "output_type": "stream",
          "name": "stderr",
          "text": [
            "\u001b[1m\u001b[22mNew names:\n",
            "\u001b[36m•\u001b[39m `` -> `...1`\n",
            "\u001b[1mRows: \u001b[22m\u001b[34m232\u001b[39m \u001b[1mColumns: \u001b[22m\u001b[34m31\u001b[39m\n",
            "\u001b[36m──\u001b[39m \u001b[1mColumn specification\u001b[22m \u001b[36m────────────────────────────────────────────────────────\u001b[39m\n",
            "\u001b[1mDelimiter:\u001b[22m \",\"\n",
            "\u001b[31mchr\u001b[39m (31): ...1, 1980, 1981, 1982, 1983, 1984, 1985, 1986, 1987, 1988, 1989, ...\n",
            "\n",
            "\u001b[36mℹ\u001b[39m Use `spec()` to retrieve the full column specification for this data.\n",
            "\u001b[36mℹ\u001b[39m Specify the column types or set `show_col_types = FALSE` to quiet this message.\n"
          ]
        },
        {
          "output_type": "stream",
          "name": "stdout",
          "text": [
            "Rows: 232\n",
            "Columns: 31\n",
            "$ ...1   \u001b[3m\u001b[90m<chr>\u001b[39m\u001b[23m \"North America\"\u001b[90m, \u001b[39m\"Bermuda\"\u001b[90m, \u001b[39m\"Canada\"\u001b[90m, \u001b[39m\"Greenland\"\u001b[90m, \u001b[39m\"Mexico\"\u001b[90m, \u001b[39m\"S…\n",
            "$ `1980` \u001b[3m\u001b[90m<chr>\u001b[39m\u001b[23m \"16.45179\"\u001b[90m, \u001b[39m\"0\"\u001b[90m, \u001b[39m\"0.96156\"\u001b[90m, \u001b[39m\"0.00005\"\u001b[90m, \u001b[39m\"0.10239\"\u001b[90m, \u001b[39m\"0\"\u001b[90m, \u001b[39m\"15.3877…\n",
            "$ `1981` \u001b[3m\u001b[90m<chr>\u001b[39m\u001b[23m \"16.98772\"\u001b[90m, \u001b[39m\"0\"\u001b[90m, \u001b[39m\"0.99047\"\u001b[90m, \u001b[39m\"0.00005\"\u001b[90m, \u001b[39m\"0.10562\"\u001b[90m, \u001b[39m\"0\"\u001b[90m, \u001b[39m\"15.8915…\n",
            "$ `1982` \u001b[3m\u001b[90m<chr>\u001b[39m\u001b[23m \"16.47546\"\u001b[90m, \u001b[39m\"0\"\u001b[90m, \u001b[39m\"1.05584\"\u001b[90m, \u001b[39m\"0.00003\"\u001b[90m, \u001b[39m\"0.11967\"\u001b[90m, \u001b[39m\"0\"\u001b[90m, \u001b[39m\"15.2999…\n",
            "$ `1983` \u001b[3m\u001b[90m<chr>\u001b[39m\u001b[23m \"17.12407\"\u001b[90m, \u001b[39m\"0\"\u001b[90m, \u001b[39m\"1.11653\"\u001b[90m, \u001b[39m\"0.00003\"\u001b[90m, \u001b[39m\"0.12869\"\u001b[90m, \u001b[39m\"0\"\u001b[90m, \u001b[39m\"15.8788…\n",
            "$ `1984` \u001b[3m\u001b[90m<chr>\u001b[39m\u001b[23m \"18.4267\"\u001b[90m, \u001b[39m\"0\"\u001b[90m, \u001b[39m\"1.23682\"\u001b[90m, \u001b[39m\"0.00003\"\u001b[90m, \u001b[39m\"0.13071\"\u001b[90m, \u001b[39m\"0\"\u001b[90m, \u001b[39m\"17.05914…\n",
            "$ `1985` \u001b[3m\u001b[90m<chr>\u001b[39m\u001b[23m \"18.81819\"\u001b[90m, \u001b[39m\"0\"\u001b[90m, \u001b[39m\"1.20679\"\u001b[90m, \u001b[39m\"0\"\u001b[90m, \u001b[39m\"0.14646\"\u001b[90m, \u001b[39m\"0\"\u001b[90m, \u001b[39m\"17.46494\"\u001b[90m, \u001b[39m\"0…\n",
            "$ `1986` \u001b[3m\u001b[90m<chr>\u001b[39m\u001b[23m \"18.52559\"\u001b[90m, \u001b[39m\"0\"\u001b[90m, \u001b[39m\"1.12583\"\u001b[90m, \u001b[39m\"0\"\u001b[90m, \u001b[39m\"0.15609\"\u001b[90m, \u001b[39m\"0\"\u001b[90m, \u001b[39m\"17.24367\"\u001b[90m, \u001b[39m\"0…\n",
            "$ `1987` \u001b[3m\u001b[90m<chr>\u001b[39m\u001b[23m \"19.43781\"\u001b[90m, \u001b[39m\"0\"\u001b[90m, \u001b[39m\"1.25072\"\u001b[90m, \u001b[39m\"0\"\u001b[90m, \u001b[39m\"0.17001\"\u001b[90m, \u001b[39m\"0\"\u001b[90m, \u001b[39m\"18.01708\"\u001b[90m, \u001b[39m\"0…\n",
            "$ `1988` \u001b[3m\u001b[90m<chr>\u001b[39m\u001b[23m \"20.40363\"\u001b[90m, \u001b[39m\"0\"\u001b[90m, \u001b[39m\"1.35809\"\u001b[90m, \u001b[39m\"0\"\u001b[90m, \u001b[39m\"0.15967\"\u001b[90m, \u001b[39m\"0\"\u001b[90m, \u001b[39m\"18.88587\"\u001b[90m, \u001b[39m\"0…\n",
            "$ `1989` \u001b[3m\u001b[90m<chr>\u001b[39m\u001b[23m \"20.62571\"\u001b[90m, \u001b[39m\"0\"\u001b[90m, \u001b[39m\"1.35196\"\u001b[90m, \u001b[39m\"0\"\u001b[90m, \u001b[39m\"0.17359\"\u001b[90m, \u001b[39m\"0\"\u001b[90m, \u001b[39m\"19.10017\"\u001b[90m, \u001b[39m\"0…\n",
            "$ `1990` \u001b[3m\u001b[90m<chr>\u001b[39m\u001b[23m \"20.5602\"\u001b[90m, \u001b[39m\"0\"\u001b[90m, \u001b[39m\"1.21338\"\u001b[90m, \u001b[39m\"0\"\u001b[90m, \u001b[39m\"0.1694\"\u001b[90m, \u001b[39m\"0\"\u001b[90m, \u001b[39m\"19.17742\"\u001b[90m, \u001b[39m\"0.5…\n",
            "$ `1991` \u001b[3m\u001b[90m<chr>\u001b[39m\u001b[23m \"20.4251\"\u001b[90m, \u001b[39m\"0\"\u001b[90m, \u001b[39m\"1.26457\"\u001b[90m, \u001b[39m\"0\"\u001b[90m, \u001b[39m\"0.15916\"\u001b[90m, \u001b[39m\"0\"\u001b[90m, \u001b[39m\"19.00137\"\u001b[90m, \u001b[39m\"0.…\n",
            "$ `1992` \u001b[3m\u001b[90m<chr>\u001b[39m\u001b[23m \"20.64672\"\u001b[90m, \u001b[39m\"0\"\u001b[90m, \u001b[39m\"1.32379\"\u001b[90m, \u001b[39m\"0\"\u001b[90m, \u001b[39m\"0.16584\"\u001b[90m, \u001b[39m\"0\"\u001b[90m, \u001b[39m\"19.15709\"\u001b[90m, \u001b[39m\"0…\n",
            "$ `1993` \u001b[3m\u001b[90m<chr>\u001b[39m\u001b[23m \"21.28219\"\u001b[90m, \u001b[39m\"0\"\u001b[90m, \u001b[39m\"1.22875\"\u001b[90m, \u001b[39m\"0\"\u001b[90m, \u001b[39m\"0.19118\"\u001b[90m, \u001b[39m\"0\"\u001b[90m, \u001b[39m\"19.86225\"\u001b[90m, \u001b[39m\"0…\n",
            "$ `1994` \u001b[3m\u001b[90m<chr>\u001b[39m\u001b[23m \"21.39631\"\u001b[90m, \u001b[39m\"0\"\u001b[90m, \u001b[39m\"1.24492\"\u001b[90m, \u001b[39m\"0\"\u001b[90m, \u001b[39m\"0.1836\"\u001b[90m, \u001b[39m\"0\"\u001b[90m, \u001b[39m\"19.96779\"\u001b[90m, \u001b[39m\"0.…\n",
            "$ `1995` \u001b[3m\u001b[90m<chr>\u001b[39m\u001b[23m \"21.64225\"\u001b[90m, \u001b[39m\"0\"\u001b[90m, \u001b[39m\"1.28479\"\u001b[90m, \u001b[39m\"0\"\u001b[90m, \u001b[39m\"0.20768\"\u001b[90m, \u001b[39m\"0\"\u001b[90m, \u001b[39m\"20.14978\"\u001b[90m, \u001b[39m\"0…\n",
            "$ `1996` \u001b[3m\u001b[90m<chr>\u001b[39m\u001b[23m \"22.57572\"\u001b[90m, \u001b[39m\"0\"\u001b[90m, \u001b[39m\"1.30032\"\u001b[90m, \u001b[39m\"0\"\u001b[90m, \u001b[39m\"0.25067\"\u001b[90m, \u001b[39m\"0\"\u001b[90m, \u001b[39m\"21.02473\"\u001b[90m, \u001b[39m\"0…\n",
            "$ `1997` \u001b[3m\u001b[90m<chr>\u001b[39m\u001b[23m \"23.20491\"\u001b[90m, \u001b[39m\"0\"\u001b[90m, \u001b[39m\"1.44933\"\u001b[90m, \u001b[39m\"0\"\u001b[90m, \u001b[39m\"0.26373\"\u001b[90m, \u001b[39m\"0\"\u001b[90m, \u001b[39m\"21.49186\"\u001b[90m, \u001b[39m\"0…\n",
            "$ `1998` \u001b[3m\u001b[90m<chr>\u001b[39m\u001b[23m \"23.5002\"\u001b[90m, \u001b[39m\"0\"\u001b[90m, \u001b[39m\"1.50985\"\u001b[90m, \u001b[39m\"0\"\u001b[90m, \u001b[39m\"0.26753\"\u001b[90m, \u001b[39m\"0\"\u001b[90m, \u001b[39m\"21.72283\"\u001b[90m, \u001b[39m\"0.…\n",
            "$ `1999` \u001b[3m\u001b[90m<chr>\u001b[39m\u001b[23m \"23.4747\"\u001b[90m, \u001b[39m\"0\"\u001b[90m, \u001b[39m\"1.505\"\u001b[90m, \u001b[39m\"0\"\u001b[90m, \u001b[39m\"0.28947\"\u001b[90m, \u001b[39m\"0\"\u001b[90m, \u001b[39m\"21.68023\"\u001b[90m, \u001b[39m\"0.77…\n",
            "$ `2000` \u001b[3m\u001b[90m<chr>\u001b[39m\u001b[23m \"24.55583\"\u001b[90m, \u001b[39m\"0\"\u001b[90m, \u001b[39m\"1.61651\"\u001b[90m, \u001b[39m\"0\"\u001b[90m, \u001b[39m\"0.29444\"\u001b[90m, \u001b[39m\"0\"\u001b[90m, \u001b[39m\"22.64488\"\u001b[90m, \u001b[39m\"0…\n",
            "$ `2001` \u001b[3m\u001b[90m<chr>\u001b[39m\u001b[23m \"23.62705\"\u001b[90m, \u001b[39m\"0\"\u001b[90m, \u001b[39m\"1.35444\"\u001b[90m, \u001b[39m\"0\"\u001b[90m, \u001b[39m\"0.32908\"\u001b[90m, \u001b[39m\"0\"\u001b[90m, \u001b[39m\"21.94353\"\u001b[90m, \u001b[39m\"0…\n",
            "$ `2002` \u001b[3m\u001b[90m<chr>\u001b[39m\u001b[23m \"23.69876\"\u001b[90m, \u001b[39m\"0\"\u001b[90m, \u001b[39m\"1.36876\"\u001b[90m, \u001b[39m\"0\"\u001b[90m, \u001b[39m\"0.36525\"\u001b[90m, \u001b[39m\"0\"\u001b[90m, \u001b[39m\"21.96475\"\u001b[90m, \u001b[39m\"0…\n",
            "$ `2003` \u001b[3m\u001b[90m<chr>\u001b[39m\u001b[23m \"24.17788\"\u001b[90m, \u001b[39m\"0\"\u001b[90m, \u001b[39m\"1.38766\"\u001b[90m, \u001b[39m\"0\"\u001b[90m, \u001b[39m\"0.41878\"\u001b[90m, \u001b[39m\"0\"\u001b[90m, \u001b[39m\"22.37144\"\u001b[90m, \u001b[39m\"0…\n",
            "$ `2004` \u001b[3m\u001b[90m<chr>\u001b[39m\u001b[23m \"24.36024\"\u001b[90m, \u001b[39m\"0\"\u001b[90m, \u001b[39m\"1.43684\"\u001b[90m, \u001b[39m\"0\"\u001b[90m, \u001b[39m\"0.31944\"\u001b[90m, \u001b[39m\"0\"\u001b[90m, \u001b[39m\"22.60396\"\u001b[90m, \u001b[39m\"0…\n",
            "$ `2005` \u001b[3m\u001b[90m<chr>\u001b[39m\u001b[23m \"24.6876\"\u001b[90m, \u001b[39m\"0\"\u001b[90m, \u001b[39m\"1.44948\"\u001b[90m, \u001b[39m\"0\"\u001b[90m, \u001b[39m\"0.39739\"\u001b[90m, \u001b[39m\"0\"\u001b[90m, \u001b[39m\"22.84073\"\u001b[90m, \u001b[39m\"0.…\n",
            "$ `2006` \u001b[3m\u001b[90m<chr>\u001b[39m\u001b[23m \"24.32174\"\u001b[90m, \u001b[39m\"0\"\u001b[90m, \u001b[39m\"1.42135\"\u001b[90m, \u001b[39m\"0\"\u001b[90m, \u001b[39m\"0.39244\"\u001b[90m, \u001b[39m\"0\"\u001b[90m, \u001b[39m\"22.50795\"\u001b[90m, \u001b[39m\"0…\n",
            "$ `2007` \u001b[3m\u001b[90m<chr>\u001b[39m\u001b[23m \"24.54746\"\u001b[90m, \u001b[39m\"0\"\u001b[90m, \u001b[39m\"1.38369\"\u001b[90m, \u001b[39m\"0\"\u001b[90m, \u001b[39m\"0.38911\"\u001b[90m, \u001b[39m\"0\"\u001b[90m, \u001b[39m\"22.77466\"\u001b[90m, \u001b[39m\"0…\n",
            "$ `2008` \u001b[3m\u001b[90m<chr>\u001b[39m\u001b[23m \"24.11993\"\u001b[90m, \u001b[39m\"0\"\u001b[90m, \u001b[39m\"1.37388\"\u001b[90m, \u001b[39m\"0\"\u001b[90m, \u001b[39m\"0.32008\"\u001b[90m, \u001b[39m\"0\"\u001b[90m, \u001b[39m\"22.42597\"\u001b[90m, \u001b[39m\"1…\n",
            "$ `2009` \u001b[3m\u001b[90m<chr>\u001b[39m\u001b[23m \"21.14803\"\u001b[90m, \u001b[39m\"0\"\u001b[90m, \u001b[39m\"1.14314\"\u001b[90m, \u001b[39m\"0\"\u001b[90m, \u001b[39m\"0.3365\"\u001b[90m, \u001b[39m\"0\"\u001b[90m, \u001b[39m\"19.66839\"\u001b[90m, \u001b[39m\"0.…\n"
          ]
        }
      ]
    },
    {
      "cell_type": "code",
      "source": [
        "# Rename the first column as region\n",
        "colnames(coal)[1] <- \"region\"\n",
        "summary(coal)"
      ],
      "metadata": {
        "colab": {
          "base_uri": "https://localhost:8080/",
          "height": 572
        },
        "id": "q9DcEwxF8h37",
        "outputId": "ba2c0bc8-53a7-4d40-f1e5-dddec53fbd5c"
      },
      "execution_count": 101,
      "outputs": [
        {
          "output_type": "display_data",
          "data": {
            "text/plain": [
              "    region              1980               1981               1982          \n",
              " Length:232         Length:232         Length:232         Length:232        \n",
              " Class :character   Class :character   Class :character   Class :character  \n",
              " Mode  :character   Mode  :character   Mode  :character   Mode  :character  \n",
              "     1983               1984               1985               1986          \n",
              " Length:232         Length:232         Length:232         Length:232        \n",
              " Class :character   Class :character   Class :character   Class :character  \n",
              " Mode  :character   Mode  :character   Mode  :character   Mode  :character  \n",
              "     1987               1988               1989               1990          \n",
              " Length:232         Length:232         Length:232         Length:232        \n",
              " Class :character   Class :character   Class :character   Class :character  \n",
              " Mode  :character   Mode  :character   Mode  :character   Mode  :character  \n",
              "     1991               1992               1993               1994          \n",
              " Length:232         Length:232         Length:232         Length:232        \n",
              " Class :character   Class :character   Class :character   Class :character  \n",
              " Mode  :character   Mode  :character   Mode  :character   Mode  :character  \n",
              "     1995               1996               1997               1998          \n",
              " Length:232         Length:232         Length:232         Length:232        \n",
              " Class :character   Class :character   Class :character   Class :character  \n",
              " Mode  :character   Mode  :character   Mode  :character   Mode  :character  \n",
              "     1999               2000               2001               2002          \n",
              " Length:232         Length:232         Length:232         Length:232        \n",
              " Class :character   Class :character   Class :character   Class :character  \n",
              " Mode  :character   Mode  :character   Mode  :character   Mode  :character  \n",
              "     2003               2004               2005               2006          \n",
              " Length:232         Length:232         Length:232         Length:232        \n",
              " Class :character   Class :character   Class :character   Class :character  \n",
              " Mode  :character   Mode  :character   Mode  :character   Mode  :character  \n",
              "     2007               2008               2009          \n",
              " Length:232         Length:232         Length:232        \n",
              " Class :character   Class :character   Class :character  \n",
              " Mode  :character   Mode  :character   Mode  :character  "
            ]
          },
          "metadata": {}
        }
      ]
    },
    {
      "cell_type": "code",
      "source": [
        "# Convert from a wide dataset to a long dataset using pivot_longer\n",
        "coal_long <- pivot_longer(coal, !region, names_to='year', values_to='coal_consumption')\n",
        "glimpse(coal_long)"
      ],
      "metadata": {
        "colab": {
          "base_uri": "https://localhost:8080/"
        },
        "id": "Xa_R-r9S8h0K",
        "outputId": "92f5e1d3-744e-45fa-f3fe-da13eb1c4e07"
      },
      "execution_count": 102,
      "outputs": [
        {
          "output_type": "stream",
          "name": "stdout",
          "text": [
            "Rows: 6,960\n",
            "Columns: 3\n",
            "$ region           \u001b[3m\u001b[90m<chr>\u001b[39m\u001b[23m \"North America\"\u001b[90m, \u001b[39m\"North America\"\u001b[90m, \u001b[39m\"North America\"\u001b[90m, \u001b[39m\"N…\n",
            "$ year             \u001b[3m\u001b[90m<chr>\u001b[39m\u001b[23m \"1980\"\u001b[90m, \u001b[39m\"1981\"\u001b[90m, \u001b[39m\"1982\"\u001b[90m, \u001b[39m\"1983\"\u001b[90m, \u001b[39m\"1984\"\u001b[90m, \u001b[39m\"1985\"\u001b[90m, \u001b[39m\"1986…\n",
            "$ coal_consumption \u001b[3m\u001b[90m<chr>\u001b[39m\u001b[23m \"16.45179\"\u001b[90m, \u001b[39m\"16.98772\"\u001b[90m, \u001b[39m\"16.47546\"\u001b[90m, \u001b[39m\"17.12407\"\u001b[90m, \u001b[39m\"18.4…\n"
          ]
        }
      ]
    },
    {
      "cell_type": "code",
      "source": [
        "# Convert years to integers\n",
        "coal_long <- coal_long %>%mutate(year=as.integer(year))\n",
        "\n",
        "summary(coal_long)"
      ],
      "metadata": {
        "colab": {
          "base_uri": "https://localhost:8080/",
          "height": 139
        },
        "id": "DbWvoH3SE2ZZ",
        "outputId": "4c561b9b-bb3c-4e7f-ceb1-7c5c093e64e9"
      },
      "execution_count": 103,
      "outputs": [
        {
          "output_type": "display_data",
          "data": {
            "text/plain": [
              "    region               year      coal_consumption  \n",
              " Length:6960        Min.   :1980   Length:6960       \n",
              " Class :character   1st Qu.:1987   Class :character  \n",
              " Mode  :character   Median :1994   Mode  :character  \n",
              "                    Mean   :1994                     \n",
              "                    3rd Qu.:2002                     \n",
              "                    Max.   :2009                     "
            ]
          },
          "metadata": {}
        }
      ]
    },
    {
      "cell_type": "code",
      "source": [
        "# Convert coal consumption to numeric\n",
        "coal_long <- coal_long %>%mutate(coal_consumption=as.numeric(coal_consumption))\n",
        "\n",
        "summary(coal_long)"
      ],
      "metadata": {
        "colab": {
          "base_uri": "https://localhost:8080/",
          "height": 243
        },
        "id": "MVlZqMLeE2V-",
        "outputId": "3a0d09cb-fe79-421f-ccf3-c49162f9844a"
      },
      "execution_count": 104,
      "outputs": [
        {
          "output_type": "stream",
          "name": "stderr",
          "text": [
            "Warning message:\n",
            "“\u001b[1m\u001b[22mThere was 1 warning in `mutate()`.\n",
            "\u001b[1m\u001b[22m\u001b[36mℹ\u001b[39m In argument: `coal_consumption = as.numeric(coal_consumption)`.\n",
            "Caused by warning:\n",
            "\u001b[33m!\u001b[39m NAs introduced by coercion”\n"
          ]
        },
        {
          "output_type": "display_data",
          "data": {
            "text/plain": [
              "    region               year      coal_consumption   \n",
              " Length:6960        Min.   :1980   Min.   : -0.00025  \n",
              " Class :character   1st Qu.:1987   1st Qu.:  0.00000  \n",
              " Mode  :character   Median :1994   Median :  0.00016  \n",
              "                    Mean   :1994   Mean   :  1.32555  \n",
              "                    3rd Qu.:2002   3rd Qu.:  0.07728  \n",
              "                    Max.   :2009   Max.   :138.82977  \n",
              "                                   NA's   :517        "
            ]
          },
          "metadata": {}
        }
      ]
    },
    {
      "cell_type": "code",
      "source": [
        "# Look at region values - they contain both continents and countries\n",
        "unique(coal_long$region)"
      ],
      "metadata": {
        "colab": {
          "base_uri": "https://localhost:8080/",
          "height": 243
        },
        "id": "YXp1Or9cE2TE",
        "outputId": "32c04362-6bf1-4318-bf7b-3ca580ddf1c3"
      },
      "execution_count": 105,
      "outputs": [
        {
          "output_type": "display_data",
          "data": {
            "text/html": [
              "<style>\n",
              ".list-inline {list-style: none; margin:0; padding: 0}\n",
              ".list-inline>li {display: inline-block}\n",
              ".list-inline>li:not(:last-child)::after {content: \"\\00b7\"; padding: 0 .5ex}\n",
              "</style>\n",
              "<ol class=list-inline><li>'North America'</li><li>'Bermuda'</li><li>'Canada'</li><li>'Greenland'</li><li>'Mexico'</li><li>'Saint Pierre and Miquelon'</li><li>'United States'</li><li>'Central &amp; South America'</li><li>'Antarctica'</li><li>'Antigua and Barbuda'</li><li>'Argentina'</li><li>'Aruba'</li><li>'Bahamas, The'</li><li>'Barbados'</li><li>'Belize'</li><li>'Bolivia'</li><li>'Brazil'</li><li>'Cayman Islands'</li><li>'Chile'</li><li>'Colombia'</li><li>'Costa Rica'</li><li>'Cuba'</li><li>'Dominica'</li><li>'Dominican Republic'</li><li>'Ecuador'</li><li>'El Salvador'</li><li>'Falkland Islands (Islas Malvinas)'</li><li>'French Guiana'</li><li>'Grenada'</li><li>'Guadeloupe'</li><li>'Guatemala'</li><li>'Guyana'</li><li>'Haiti'</li><li>'Honduras'</li><li>'Jamaica'</li><li>'Martinique'</li><li>'Montserrat'</li><li>'Netherlands Antilles'</li><li>'Nicaragua'</li><li>'Panama'</li><li>'Paraguay'</li><li>'Peru'</li><li>'Puerto Rico'</li><li>'Saint Kitts and Nevis'</li><li>'Saint Lucia'</li><li>'Saint Vincent/Grenadines'</li><li>'Suriname'</li><li>'Trinidad and Tobago'</li><li>'Turks and Caicos Islands'</li><li>'Uruguay'</li><li>'Venezuela'</li><li><span style=white-space:pre-wrap>'Virgin Islands,  U.S.'</span></li><li>'Virgin Islands, British'</li><li>'Europe'</li><li>'Albania'</li><li>'Austria'</li><li>'Belgium'</li><li>'Bosnia and Herzegovina'</li><li>'Bulgaria'</li><li>'Croatia'</li><li>'Cyprus'</li><li>'Czech Republic'</li><li>'Denmark'</li><li>'Faroe Islands'</li><li>'Finland'</li><li>'Former Czechoslovakia'</li><li>'Former Serbia and Montenegro'</li><li>'Former Yugoslavia'</li><li>'France'</li><li>'Germany'</li><li>'Germany, East'</li><li>'Germany, West'</li><li>'Gibraltar'</li><li>'Greece'</li><li>'Hungary'</li><li>'Iceland'</li><li>'Ireland'</li><li>'Italy'</li><li>'Luxembourg'</li><li>'Macedonia'</li><li>'Malta'</li><li>'Montenegro'</li><li>'Netherlands'</li><li>'Norway'</li><li>'Poland'</li><li>'Portugal'</li><li>'Romania'</li><li>'Serbia'</li><li>'Slovakia'</li><li>'Slovenia'</li><li>'Spain'</li><li>'Sweden'</li><li>'Switzerland'</li><li>'Turkey'</li><li>'United Kingdom'</li><li>'Eurasia'</li><li>'Armenia'</li><li>'Azerbaijan'</li><li>'Belarus'</li><li>'Estonia'</li><li>'Former U.S.S.R.'</li><li>'Georgia'</li><li>'Kazakhstan'</li><li>'Kyrgyzstan'</li><li>'Latvia'</li><li>'Lithuania'</li><li>'Moldova'</li><li>'Russia'</li><li>'Tajikistan'</li><li>'Turkmenistan'</li><li>'Ukraine'</li><li>'Uzbekistan'</li><li>'Middle East'</li><li>'Bahrain'</li><li>'Iran'</li><li>'Iraq'</li><li>'Israel'</li><li>'Jordan'</li><li>'Kuwait'</li><li>'Lebanon'</li><li>'Oman'</li><li>'Palestine'</li><li>'Qatar'</li><li>'Saudi Arabia'</li><li>'Syria'</li><li>'United Arab Emirates'</li><li>'Yemen'</li><li>'Africa'</li><li>'Algeria'</li><li>'Angola'</li><li>'Benin'</li><li>'Botswana'</li><li>'Burkina Faso'</li><li>'Burundi'</li><li>'Cameroon'</li><li>'Cape Verde'</li><li>'Central African Republic'</li><li>'Chad'</li><li>'Comoros'</li><li>'Congo (Brazzaville)'</li><li>'Congo (Kinshasa)'</li><li>'Cote dIvoire (IvoryCoast)'</li><li>'Djibouti'</li><li>'Egypt'</li><li>'Equatorial Guinea'</li><li>'Eritrea'</li><li>'Ethiopia'</li><li>'Gabon'</li><li>'Gambia, The'</li><li>'Ghana'</li><li>'Guinea'</li><li>'Guinea-Bissau'</li><li>'Kenya'</li><li>'Lesotho'</li><li>'Liberia'</li><li>'Libya'</li><li>'Madagascar'</li><li>'Malawi'</li><li>'Mali'</li><li>'Mauritania'</li><li>'Mauritius'</li><li>'Morocco'</li><li>'Mozambique'</li><li>'Namibia'</li><li>'Niger'</li><li>'Nigeria'</li><li>'Reunion'</li><li>'Rwanda'</li><li>'Saint Helena'</li><li>'Sao Tome and Principe'</li><li>'Senegal'</li><li>'Seychelles'</li><li>'Sierra Leone'</li><li>'Somalia'</li><li>'South Africa'</li><li>'Sudan'</li><li>'Swaziland'</li><li>'Tanzania'</li><li>'Togo'</li><li>'Tunisia'</li><li>'Uganda'</li><li>'Western Sahara'</li><li>'Zambia'</li><li>'Zimbabwe'</li><li>'Asia &amp; Oceania'</li><li>'Afghanistan'</li><li>'American Samoa'</li><li>'Australia'</li><li>'Bangladesh'</li><li>'Bhutan'</li><li>'Brunei'</li><li>'Burma (Myanmar)'</li><li>'Cambodia'</li><li>'China'</li><li>'Cook Islands'</li><li>'Fiji'</li><li>'French Polynesia'</li><li>'Guam'</li><li>'Hawaiian Trade Zone'</li><li>'Hong Kong'</li><li>'India'</li><li>'Indonesia'</li><li>'Japan'</li><li>'Kiribati'</li><li>'Korea, North'</li><li>'Korea, South'</li><li>'Laos'</li><li>'Macau'</li><li>'Malaysia'</li><li>'Maldives'</li><li>'Mongolia'</li><li>'Nauru'</li><li>'Nepal'</li><li>'New Caledonia'</li><li>'New Zealand'</li><li>'Niue'</li><li>'Pakistan'</li><li>'Papua New Guinea'</li><li>'Philippines'</li><li>'Samoa'</li><li>'Singapore'</li><li>'Solomon Islands'</li><li>'Sri Lanka'</li><li>'Taiwan'</li><li>'Thailand'</li><li>'Timor-Leste (East Timor)'</li><li>'Tonga'</li><li>'U.S. Pacific Islands'</li><li>'Vanuatu'</li><li>'Vietnam'</li><li>'Wake Island'</li><li>'World'</li></ol>\n"
            ],
            "text/markdown": "1. 'North America'\n2. 'Bermuda'\n3. 'Canada'\n4. 'Greenland'\n5. 'Mexico'\n6. 'Saint Pierre and Miquelon'\n7. 'United States'\n8. 'Central &amp; South America'\n9. 'Antarctica'\n10. 'Antigua and Barbuda'\n11. 'Argentina'\n12. 'Aruba'\n13. 'Bahamas, The'\n14. 'Barbados'\n15. 'Belize'\n16. 'Bolivia'\n17. 'Brazil'\n18. 'Cayman Islands'\n19. 'Chile'\n20. 'Colombia'\n21. 'Costa Rica'\n22. 'Cuba'\n23. 'Dominica'\n24. 'Dominican Republic'\n25. 'Ecuador'\n26. 'El Salvador'\n27. 'Falkland Islands (Islas Malvinas)'\n28. 'French Guiana'\n29. 'Grenada'\n30. 'Guadeloupe'\n31. 'Guatemala'\n32. 'Guyana'\n33. 'Haiti'\n34. 'Honduras'\n35. 'Jamaica'\n36. 'Martinique'\n37. 'Montserrat'\n38. 'Netherlands Antilles'\n39. 'Nicaragua'\n40. 'Panama'\n41. 'Paraguay'\n42. 'Peru'\n43. 'Puerto Rico'\n44. 'Saint Kitts and Nevis'\n45. 'Saint Lucia'\n46. 'Saint Vincent/Grenadines'\n47. 'Suriname'\n48. 'Trinidad and Tobago'\n49. 'Turks and Caicos Islands'\n50. 'Uruguay'\n51. 'Venezuela'\n52. <span style=white-space:pre-wrap>'Virgin Islands,  U.S.'</span>\n53. 'Virgin Islands, British'\n54. 'Europe'\n55. 'Albania'\n56. 'Austria'\n57. 'Belgium'\n58. 'Bosnia and Herzegovina'\n59. 'Bulgaria'\n60. 'Croatia'\n61. 'Cyprus'\n62. 'Czech Republic'\n63. 'Denmark'\n64. 'Faroe Islands'\n65. 'Finland'\n66. 'Former Czechoslovakia'\n67. 'Former Serbia and Montenegro'\n68. 'Former Yugoslavia'\n69. 'France'\n70. 'Germany'\n71. 'Germany, East'\n72. 'Germany, West'\n73. 'Gibraltar'\n74. 'Greece'\n75. 'Hungary'\n76. 'Iceland'\n77. 'Ireland'\n78. 'Italy'\n79. 'Luxembourg'\n80. 'Macedonia'\n81. 'Malta'\n82. 'Montenegro'\n83. 'Netherlands'\n84. 'Norway'\n85. 'Poland'\n86. 'Portugal'\n87. 'Romania'\n88. 'Serbia'\n89. 'Slovakia'\n90. 'Slovenia'\n91. 'Spain'\n92. 'Sweden'\n93. 'Switzerland'\n94. 'Turkey'\n95. 'United Kingdom'\n96. 'Eurasia'\n97. 'Armenia'\n98. 'Azerbaijan'\n99. 'Belarus'\n100. 'Estonia'\n101. 'Former U.S.S.R.'\n102. 'Georgia'\n103. 'Kazakhstan'\n104. 'Kyrgyzstan'\n105. 'Latvia'\n106. 'Lithuania'\n107. 'Moldova'\n108. 'Russia'\n109. 'Tajikistan'\n110. 'Turkmenistan'\n111. 'Ukraine'\n112. 'Uzbekistan'\n113. 'Middle East'\n114. 'Bahrain'\n115. 'Iran'\n116. 'Iraq'\n117. 'Israel'\n118. 'Jordan'\n119. 'Kuwait'\n120. 'Lebanon'\n121. 'Oman'\n122. 'Palestine'\n123. 'Qatar'\n124. 'Saudi Arabia'\n125. 'Syria'\n126. 'United Arab Emirates'\n127. 'Yemen'\n128. 'Africa'\n129. 'Algeria'\n130. 'Angola'\n131. 'Benin'\n132. 'Botswana'\n133. 'Burkina Faso'\n134. 'Burundi'\n135. 'Cameroon'\n136. 'Cape Verde'\n137. 'Central African Republic'\n138. 'Chad'\n139. 'Comoros'\n140. 'Congo (Brazzaville)'\n141. 'Congo (Kinshasa)'\n142. 'Cote dIvoire (IvoryCoast)'\n143. 'Djibouti'\n144. 'Egypt'\n145. 'Equatorial Guinea'\n146. 'Eritrea'\n147. 'Ethiopia'\n148. 'Gabon'\n149. 'Gambia, The'\n150. 'Ghana'\n151. 'Guinea'\n152. 'Guinea-Bissau'\n153. 'Kenya'\n154. 'Lesotho'\n155. 'Liberia'\n156. 'Libya'\n157. 'Madagascar'\n158. 'Malawi'\n159. 'Mali'\n160. 'Mauritania'\n161. 'Mauritius'\n162. 'Morocco'\n163. 'Mozambique'\n164. 'Namibia'\n165. 'Niger'\n166. 'Nigeria'\n167. 'Reunion'\n168. 'Rwanda'\n169. 'Saint Helena'\n170. 'Sao Tome and Principe'\n171. 'Senegal'\n172. 'Seychelles'\n173. 'Sierra Leone'\n174. 'Somalia'\n175. 'South Africa'\n176. 'Sudan'\n177. 'Swaziland'\n178. 'Tanzania'\n179. 'Togo'\n180. 'Tunisia'\n181. 'Uganda'\n182. 'Western Sahara'\n183. 'Zambia'\n184. 'Zimbabwe'\n185. 'Asia &amp; Oceania'\n186. 'Afghanistan'\n187. 'American Samoa'\n188. 'Australia'\n189. 'Bangladesh'\n190. 'Bhutan'\n191. 'Brunei'\n192. 'Burma (Myanmar)'\n193. 'Cambodia'\n194. 'China'\n195. 'Cook Islands'\n196. 'Fiji'\n197. 'French Polynesia'\n198. 'Guam'\n199. 'Hawaiian Trade Zone'\n200. 'Hong Kong'\n201. 'India'\n202. 'Indonesia'\n203. 'Japan'\n204. 'Kiribati'\n205. 'Korea, North'\n206. 'Korea, South'\n207. 'Laos'\n208. 'Macau'\n209. 'Malaysia'\n210. 'Maldives'\n211. 'Mongolia'\n212. 'Nauru'\n213. 'Nepal'\n214. 'New Caledonia'\n215. 'New Zealand'\n216. 'Niue'\n217. 'Pakistan'\n218. 'Papua New Guinea'\n219. 'Philippines'\n220. 'Samoa'\n221. 'Singapore'\n222. 'Solomon Islands'\n223. 'Sri Lanka'\n224. 'Taiwan'\n225. 'Thailand'\n226. 'Timor-Leste (East Timor)'\n227. 'Tonga'\n228. 'U.S. Pacific Islands'\n229. 'Vanuatu'\n230. 'Vietnam'\n231. 'Wake Island'\n232. 'World'\n\n\n",
            "text/latex": "\\begin{enumerate*}\n\\item 'North America'\n\\item 'Bermuda'\n\\item 'Canada'\n\\item 'Greenland'\n\\item 'Mexico'\n\\item 'Saint Pierre and Miquelon'\n\\item 'United States'\n\\item 'Central \\& South America'\n\\item 'Antarctica'\n\\item 'Antigua and Barbuda'\n\\item 'Argentina'\n\\item 'Aruba'\n\\item 'Bahamas, The'\n\\item 'Barbados'\n\\item 'Belize'\n\\item 'Bolivia'\n\\item 'Brazil'\n\\item 'Cayman Islands'\n\\item 'Chile'\n\\item 'Colombia'\n\\item 'Costa Rica'\n\\item 'Cuba'\n\\item 'Dominica'\n\\item 'Dominican Republic'\n\\item 'Ecuador'\n\\item 'El Salvador'\n\\item 'Falkland Islands (Islas Malvinas)'\n\\item 'French Guiana'\n\\item 'Grenada'\n\\item 'Guadeloupe'\n\\item 'Guatemala'\n\\item 'Guyana'\n\\item 'Haiti'\n\\item 'Honduras'\n\\item 'Jamaica'\n\\item 'Martinique'\n\\item 'Montserrat'\n\\item 'Netherlands Antilles'\n\\item 'Nicaragua'\n\\item 'Panama'\n\\item 'Paraguay'\n\\item 'Peru'\n\\item 'Puerto Rico'\n\\item 'Saint Kitts and Nevis'\n\\item 'Saint Lucia'\n\\item 'Saint Vincent/Grenadines'\n\\item 'Suriname'\n\\item 'Trinidad and Tobago'\n\\item 'Turks and Caicos Islands'\n\\item 'Uruguay'\n\\item 'Venezuela'\n\\item 'Virgin Islands,  U.S.'\n\\item 'Virgin Islands, British'\n\\item 'Europe'\n\\item 'Albania'\n\\item 'Austria'\n\\item 'Belgium'\n\\item 'Bosnia and Herzegovina'\n\\item 'Bulgaria'\n\\item 'Croatia'\n\\item 'Cyprus'\n\\item 'Czech Republic'\n\\item 'Denmark'\n\\item 'Faroe Islands'\n\\item 'Finland'\n\\item 'Former Czechoslovakia'\n\\item 'Former Serbia and Montenegro'\n\\item 'Former Yugoslavia'\n\\item 'France'\n\\item 'Germany'\n\\item 'Germany, East'\n\\item 'Germany, West'\n\\item 'Gibraltar'\n\\item 'Greece'\n\\item 'Hungary'\n\\item 'Iceland'\n\\item 'Ireland'\n\\item 'Italy'\n\\item 'Luxembourg'\n\\item 'Macedonia'\n\\item 'Malta'\n\\item 'Montenegro'\n\\item 'Netherlands'\n\\item 'Norway'\n\\item 'Poland'\n\\item 'Portugal'\n\\item 'Romania'\n\\item 'Serbia'\n\\item 'Slovakia'\n\\item 'Slovenia'\n\\item 'Spain'\n\\item 'Sweden'\n\\item 'Switzerland'\n\\item 'Turkey'\n\\item 'United Kingdom'\n\\item 'Eurasia'\n\\item 'Armenia'\n\\item 'Azerbaijan'\n\\item 'Belarus'\n\\item 'Estonia'\n\\item 'Former U.S.S.R.'\n\\item 'Georgia'\n\\item 'Kazakhstan'\n\\item 'Kyrgyzstan'\n\\item 'Latvia'\n\\item 'Lithuania'\n\\item 'Moldova'\n\\item 'Russia'\n\\item 'Tajikistan'\n\\item 'Turkmenistan'\n\\item 'Ukraine'\n\\item 'Uzbekistan'\n\\item 'Middle East'\n\\item 'Bahrain'\n\\item 'Iran'\n\\item 'Iraq'\n\\item 'Israel'\n\\item 'Jordan'\n\\item 'Kuwait'\n\\item 'Lebanon'\n\\item 'Oman'\n\\item 'Palestine'\n\\item 'Qatar'\n\\item 'Saudi Arabia'\n\\item 'Syria'\n\\item 'United Arab Emirates'\n\\item 'Yemen'\n\\item 'Africa'\n\\item 'Algeria'\n\\item 'Angola'\n\\item 'Benin'\n\\item 'Botswana'\n\\item 'Burkina Faso'\n\\item 'Burundi'\n\\item 'Cameroon'\n\\item 'Cape Verde'\n\\item 'Central African Republic'\n\\item 'Chad'\n\\item 'Comoros'\n\\item 'Congo (Brazzaville)'\n\\item 'Congo (Kinshasa)'\n\\item 'Cote dIvoire (IvoryCoast)'\n\\item 'Djibouti'\n\\item 'Egypt'\n\\item 'Equatorial Guinea'\n\\item 'Eritrea'\n\\item 'Ethiopia'\n\\item 'Gabon'\n\\item 'Gambia, The'\n\\item 'Ghana'\n\\item 'Guinea'\n\\item 'Guinea-Bissau'\n\\item 'Kenya'\n\\item 'Lesotho'\n\\item 'Liberia'\n\\item 'Libya'\n\\item 'Madagascar'\n\\item 'Malawi'\n\\item 'Mali'\n\\item 'Mauritania'\n\\item 'Mauritius'\n\\item 'Morocco'\n\\item 'Mozambique'\n\\item 'Namibia'\n\\item 'Niger'\n\\item 'Nigeria'\n\\item 'Reunion'\n\\item 'Rwanda'\n\\item 'Saint Helena'\n\\item 'Sao Tome and Principe'\n\\item 'Senegal'\n\\item 'Seychelles'\n\\item 'Sierra Leone'\n\\item 'Somalia'\n\\item 'South Africa'\n\\item 'Sudan'\n\\item 'Swaziland'\n\\item 'Tanzania'\n\\item 'Togo'\n\\item 'Tunisia'\n\\item 'Uganda'\n\\item 'Western Sahara'\n\\item 'Zambia'\n\\item 'Zimbabwe'\n\\item 'Asia \\& Oceania'\n\\item 'Afghanistan'\n\\item 'American Samoa'\n\\item 'Australia'\n\\item 'Bangladesh'\n\\item 'Bhutan'\n\\item 'Brunei'\n\\item 'Burma (Myanmar)'\n\\item 'Cambodia'\n\\item 'China'\n\\item 'Cook Islands'\n\\item 'Fiji'\n\\item 'French Polynesia'\n\\item 'Guam'\n\\item 'Hawaiian Trade Zone'\n\\item 'Hong Kong'\n\\item 'India'\n\\item 'Indonesia'\n\\item 'Japan'\n\\item 'Kiribati'\n\\item 'Korea, North'\n\\item 'Korea, South'\n\\item 'Laos'\n\\item 'Macau'\n\\item 'Malaysia'\n\\item 'Maldives'\n\\item 'Mongolia'\n\\item 'Nauru'\n\\item 'Nepal'\n\\item 'New Caledonia'\n\\item 'New Zealand'\n\\item 'Niue'\n\\item 'Pakistan'\n\\item 'Papua New Guinea'\n\\item 'Philippines'\n\\item 'Samoa'\n\\item 'Singapore'\n\\item 'Solomon Islands'\n\\item 'Sri Lanka'\n\\item 'Taiwan'\n\\item 'Thailand'\n\\item 'Timor-Leste (East Timor)'\n\\item 'Tonga'\n\\item 'U.S. Pacific Islands'\n\\item 'Vanuatu'\n\\item 'Vietnam'\n\\item 'Wake Island'\n\\item 'World'\n\\end{enumerate*}\n",
            "text/plain": [
              "  [1] \"North America\"                     \"Bermuda\"                          \n",
              "  [3] \"Canada\"                            \"Greenland\"                        \n",
              "  [5] \"Mexico\"                            \"Saint Pierre and Miquelon\"        \n",
              "  [7] \"United States\"                     \"Central & South America\"          \n",
              "  [9] \"Antarctica\"                        \"Antigua and Barbuda\"              \n",
              " [11] \"Argentina\"                         \"Aruba\"                            \n",
              " [13] \"Bahamas, The\"                      \"Barbados\"                         \n",
              " [15] \"Belize\"                            \"Bolivia\"                          \n",
              " [17] \"Brazil\"                            \"Cayman Islands\"                   \n",
              " [19] \"Chile\"                             \"Colombia\"                         \n",
              " [21] \"Costa Rica\"                        \"Cuba\"                             \n",
              " [23] \"Dominica\"                          \"Dominican Republic\"               \n",
              " [25] \"Ecuador\"                           \"El Salvador\"                      \n",
              " [27] \"Falkland Islands (Islas Malvinas)\" \"French Guiana\"                    \n",
              " [29] \"Grenada\"                           \"Guadeloupe\"                       \n",
              " [31] \"Guatemala\"                         \"Guyana\"                           \n",
              " [33] \"Haiti\"                             \"Honduras\"                         \n",
              " [35] \"Jamaica\"                           \"Martinique\"                       \n",
              " [37] \"Montserrat\"                        \"Netherlands Antilles\"             \n",
              " [39] \"Nicaragua\"                         \"Panama\"                           \n",
              " [41] \"Paraguay\"                          \"Peru\"                             \n",
              " [43] \"Puerto Rico\"                       \"Saint Kitts and Nevis\"            \n",
              " [45] \"Saint Lucia\"                       \"Saint Vincent/Grenadines\"         \n",
              " [47] \"Suriname\"                          \"Trinidad and Tobago\"              \n",
              " [49] \"Turks and Caicos Islands\"          \"Uruguay\"                          \n",
              " [51] \"Venezuela\"                         \"Virgin Islands,  U.S.\"            \n",
              " [53] \"Virgin Islands, British\"           \"Europe\"                           \n",
              " [55] \"Albania\"                           \"Austria\"                          \n",
              " [57] \"Belgium\"                           \"Bosnia and Herzegovina\"           \n",
              " [59] \"Bulgaria\"                          \"Croatia\"                          \n",
              " [61] \"Cyprus\"                            \"Czech Republic\"                   \n",
              " [63] \"Denmark\"                           \"Faroe Islands\"                    \n",
              " [65] \"Finland\"                           \"Former Czechoslovakia\"            \n",
              " [67] \"Former Serbia and Montenegro\"      \"Former Yugoslavia\"                \n",
              " [69] \"France\"                            \"Germany\"                          \n",
              " [71] \"Germany, East\"                     \"Germany, West\"                    \n",
              " [73] \"Gibraltar\"                         \"Greece\"                           \n",
              " [75] \"Hungary\"                           \"Iceland\"                          \n",
              " [77] \"Ireland\"                           \"Italy\"                            \n",
              " [79] \"Luxembourg\"                        \"Macedonia\"                        \n",
              " [81] \"Malta\"                             \"Montenegro\"                       \n",
              " [83] \"Netherlands\"                       \"Norway\"                           \n",
              " [85] \"Poland\"                            \"Portugal\"                         \n",
              " [87] \"Romania\"                           \"Serbia\"                           \n",
              " [89] \"Slovakia\"                          \"Slovenia\"                         \n",
              " [91] \"Spain\"                             \"Sweden\"                           \n",
              " [93] \"Switzerland\"                       \"Turkey\"                           \n",
              " [95] \"United Kingdom\"                    \"Eurasia\"                          \n",
              " [97] \"Armenia\"                           \"Azerbaijan\"                       \n",
              " [99] \"Belarus\"                           \"Estonia\"                          \n",
              "[101] \"Former U.S.S.R.\"                   \"Georgia\"                          \n",
              "[103] \"Kazakhstan\"                        \"Kyrgyzstan\"                       \n",
              "[105] \"Latvia\"                            \"Lithuania\"                        \n",
              "[107] \"Moldova\"                           \"Russia\"                           \n",
              "[109] \"Tajikistan\"                        \"Turkmenistan\"                     \n",
              "[111] \"Ukraine\"                           \"Uzbekistan\"                       \n",
              "[113] \"Middle East\"                       \"Bahrain\"                          \n",
              "[115] \"Iran\"                              \"Iraq\"                             \n",
              "[117] \"Israel\"                            \"Jordan\"                           \n",
              "[119] \"Kuwait\"                            \"Lebanon\"                          \n",
              "[121] \"Oman\"                              \"Palestine\"                        \n",
              "[123] \"Qatar\"                             \"Saudi Arabia\"                     \n",
              "[125] \"Syria\"                             \"United Arab Emirates\"             \n",
              "[127] \"Yemen\"                             \"Africa\"                           \n",
              "[129] \"Algeria\"                           \"Angola\"                           \n",
              "[131] \"Benin\"                             \"Botswana\"                         \n",
              "[133] \"Burkina Faso\"                      \"Burundi\"                          \n",
              "[135] \"Cameroon\"                          \"Cape Verde\"                       \n",
              "[137] \"Central African Republic\"          \"Chad\"                             \n",
              "[139] \"Comoros\"                           \"Congo (Brazzaville)\"              \n",
              "[141] \"Congo (Kinshasa)\"                  \"Cote dIvoire (IvoryCoast)\"        \n",
              "[143] \"Djibouti\"                          \"Egypt\"                            \n",
              "[145] \"Equatorial Guinea\"                 \"Eritrea\"                          \n",
              "[147] \"Ethiopia\"                          \"Gabon\"                            \n",
              "[149] \"Gambia, The\"                       \"Ghana\"                            \n",
              "[151] \"Guinea\"                            \"Guinea-Bissau\"                    \n",
              "[153] \"Kenya\"                             \"Lesotho\"                          \n",
              "[155] \"Liberia\"                           \"Libya\"                            \n",
              "[157] \"Madagascar\"                        \"Malawi\"                           \n",
              "[159] \"Mali\"                              \"Mauritania\"                       \n",
              "[161] \"Mauritius\"                         \"Morocco\"                          \n",
              "[163] \"Mozambique\"                        \"Namibia\"                          \n",
              "[165] \"Niger\"                             \"Nigeria\"                          \n",
              "[167] \"Reunion\"                           \"Rwanda\"                           \n",
              "[169] \"Saint Helena\"                      \"Sao Tome and Principe\"            \n",
              "[171] \"Senegal\"                           \"Seychelles\"                       \n",
              "[173] \"Sierra Leone\"                      \"Somalia\"                          \n",
              "[175] \"South Africa\"                      \"Sudan\"                            \n",
              "[177] \"Swaziland\"                         \"Tanzania\"                         \n",
              "[179] \"Togo\"                              \"Tunisia\"                          \n",
              "[181] \"Uganda\"                            \"Western Sahara\"                   \n",
              "[183] \"Zambia\"                            \"Zimbabwe\"                         \n",
              "[185] \"Asia & Oceania\"                    \"Afghanistan\"                      \n",
              "[187] \"American Samoa\"                    \"Australia\"                        \n",
              "[189] \"Bangladesh\"                        \"Bhutan\"                           \n",
              "[191] \"Brunei\"                            \"Burma (Myanmar)\"                  \n",
              "[193] \"Cambodia\"                          \"China\"                            \n",
              "[195] \"Cook Islands\"                      \"Fiji\"                             \n",
              "[197] \"French Polynesia\"                  \"Guam\"                             \n",
              "[199] \"Hawaiian Trade Zone\"               \"Hong Kong\"                        \n",
              "[201] \"India\"                             \"Indonesia\"                        \n",
              "[203] \"Japan\"                             \"Kiribati\"                         \n",
              "[205] \"Korea, North\"                      \"Korea, South\"                     \n",
              "[207] \"Laos\"                              \"Macau\"                            \n",
              "[209] \"Malaysia\"                          \"Maldives\"                         \n",
              "[211] \"Mongolia\"                          \"Nauru\"                            \n",
              "[213] \"Nepal\"                             \"New Caledonia\"                    \n",
              "[215] \"New Zealand\"                       \"Niue\"                             \n",
              "[217] \"Pakistan\"                          \"Papua New Guinea\"                 \n",
              "[219] \"Philippines\"                       \"Samoa\"                            \n",
              "[221] \"Singapore\"                         \"Solomon Islands\"                  \n",
              "[223] \"Sri Lanka\"                         \"Taiwan\"                           \n",
              "[225] \"Thailand\"                          \"Timor-Leste (East Timor)\"         \n",
              "[227] \"Tonga\"                             \"U.S. Pacific Islands\"             \n",
              "[229] \"Vanuatu\"                           \"Vietnam\"                          \n",
              "[231] \"Wake Island\"                       \"World\"                            "
            ]
          },
          "metadata": {}
        }
      ]
    },
    {
      "cell_type": "code",
      "source": [
        "# Create a vector of \"noncountry\" values that appear in the region variable\n",
        "noncountries <- c(\"North America\", \"Central & South America\", \"Antarctica\", \"Europe\", \"Eurasia\",\n",
        "                  \"Middle East\", \"Africa\", \"Asia & Oceania\", \"World\")"
      ],
      "metadata": {
        "id": "6KRx6sBpE2P_"
      },
      "execution_count": 106,
      "outputs": []
    },
    {
      "cell_type": "code",
      "source": [
        "\n",
        "# create a tibble of regional values\n",
        "coal_region <- coal_long %>% filter(region %in% noncountries)"
      ],
      "metadata": {
        "id": "4KCtDO5Q8hxF"
      },
      "execution_count": 107,
      "outputs": []
    },
    {
      "cell_type": "code",
      "source": [
        "# create a tibble of country values\n",
        "coal_country <- coal_long %>% filter(!(region %in% noncountries))\n"
      ],
      "metadata": {
        "id": "BatGHYV18huK"
      },
      "execution_count": 108,
      "outputs": []
    },
    {
      "cell_type": "code",
      "source": [
        "# check them out\n",
        "unique(coal_region$region)\n",
        "unique(coal_country$region)\n"
      ],
      "metadata": {
        "colab": {
          "base_uri": "https://localhost:8080/",
          "height": 243
        },
        "id": "Gf0HUS64FHJU",
        "outputId": "35798847-a757-42d5-fffe-7f9977a0039d"
      },
      "execution_count": 110,
      "outputs": [
        {
          "output_type": "display_data",
          "data": {
            "text/html": [
              "<style>\n",
              ".list-inline {list-style: none; margin:0; padding: 0}\n",
              ".list-inline>li {display: inline-block}\n",
              ".list-inline>li:not(:last-child)::after {content: \"\\00b7\"; padding: 0 .5ex}\n",
              "</style>\n",
              "<ol class=list-inline><li>'North America'</li><li>'Central &amp; South America'</li><li>'Antarctica'</li><li>'Europe'</li><li>'Eurasia'</li><li>'Middle East'</li><li>'Africa'</li><li>'Asia &amp; Oceania'</li><li>'World'</li></ol>\n"
            ],
            "text/markdown": "1. 'North America'\n2. 'Central &amp; South America'\n3. 'Antarctica'\n4. 'Europe'\n5. 'Eurasia'\n6. 'Middle East'\n7. 'Africa'\n8. 'Asia &amp; Oceania'\n9. 'World'\n\n\n",
            "text/latex": "\\begin{enumerate*}\n\\item 'North America'\n\\item 'Central \\& South America'\n\\item 'Antarctica'\n\\item 'Europe'\n\\item 'Eurasia'\n\\item 'Middle East'\n\\item 'Africa'\n\\item 'Asia \\& Oceania'\n\\item 'World'\n\\end{enumerate*}\n",
            "text/plain": [
              "[1] \"North America\"           \"Central & South America\"\n",
              "[3] \"Antarctica\"              \"Europe\"                 \n",
              "[5] \"Eurasia\"                 \"Middle East\"            \n",
              "[7] \"Africa\"                  \"Asia & Oceania\"         \n",
              "[9] \"World\"                  "
            ]
          },
          "metadata": {}
        },
        {
          "output_type": "display_data",
          "data": {
            "text/html": [
              "<style>\n",
              ".list-inline {list-style: none; margin:0; padding: 0}\n",
              ".list-inline>li {display: inline-block}\n",
              ".list-inline>li:not(:last-child)::after {content: \"\\00b7\"; padding: 0 .5ex}\n",
              "</style>\n",
              "<ol class=list-inline><li>'Bermuda'</li><li>'Canada'</li><li>'Greenland'</li><li>'Mexico'</li><li>'Saint Pierre and Miquelon'</li><li>'United States'</li><li>'Antigua and Barbuda'</li><li>'Argentina'</li><li>'Aruba'</li><li>'Bahamas, The'</li><li>'Barbados'</li><li>'Belize'</li><li>'Bolivia'</li><li>'Brazil'</li><li>'Cayman Islands'</li><li>'Chile'</li><li>'Colombia'</li><li>'Costa Rica'</li><li>'Cuba'</li><li>'Dominica'</li><li>'Dominican Republic'</li><li>'Ecuador'</li><li>'El Salvador'</li><li>'Falkland Islands (Islas Malvinas)'</li><li>'French Guiana'</li><li>'Grenada'</li><li>'Guadeloupe'</li><li>'Guatemala'</li><li>'Guyana'</li><li>'Haiti'</li><li>'Honduras'</li><li>'Jamaica'</li><li>'Martinique'</li><li>'Montserrat'</li><li>'Netherlands Antilles'</li><li>'Nicaragua'</li><li>'Panama'</li><li>'Paraguay'</li><li>'Peru'</li><li>'Puerto Rico'</li><li>'Saint Kitts and Nevis'</li><li>'Saint Lucia'</li><li>'Saint Vincent/Grenadines'</li><li>'Suriname'</li><li>'Trinidad and Tobago'</li><li>'Turks and Caicos Islands'</li><li>'Uruguay'</li><li>'Venezuela'</li><li><span style=white-space:pre-wrap>'Virgin Islands,  U.S.'</span></li><li>'Virgin Islands, British'</li><li>'Albania'</li><li>'Austria'</li><li>'Belgium'</li><li>'Bosnia and Herzegovina'</li><li>'Bulgaria'</li><li>'Croatia'</li><li>'Cyprus'</li><li>'Czech Republic'</li><li>'Denmark'</li><li>'Faroe Islands'</li><li>'Finland'</li><li>'Former Czechoslovakia'</li><li>'Former Serbia and Montenegro'</li><li>'Former Yugoslavia'</li><li>'France'</li><li>'Germany'</li><li>'Germany, East'</li><li>'Germany, West'</li><li>'Gibraltar'</li><li>'Greece'</li><li>'Hungary'</li><li>'Iceland'</li><li>'Ireland'</li><li>'Italy'</li><li>'Luxembourg'</li><li>'Macedonia'</li><li>'Malta'</li><li>'Montenegro'</li><li>'Netherlands'</li><li>'Norway'</li><li>'Poland'</li><li>'Portugal'</li><li>'Romania'</li><li>'Serbia'</li><li>'Slovakia'</li><li>'Slovenia'</li><li>'Spain'</li><li>'Sweden'</li><li>'Switzerland'</li><li>'Turkey'</li><li>'United Kingdom'</li><li>'Armenia'</li><li>'Azerbaijan'</li><li>'Belarus'</li><li>'Estonia'</li><li>'Former U.S.S.R.'</li><li>'Georgia'</li><li>'Kazakhstan'</li><li>'Kyrgyzstan'</li><li>'Latvia'</li><li>'Lithuania'</li><li>'Moldova'</li><li>'Russia'</li><li>'Tajikistan'</li><li>'Turkmenistan'</li><li>'Ukraine'</li><li>'Uzbekistan'</li><li>'Bahrain'</li><li>'Iran'</li><li>'Iraq'</li><li>'Israel'</li><li>'Jordan'</li><li>'Kuwait'</li><li>'Lebanon'</li><li>'Oman'</li><li>'Palestine'</li><li>'Qatar'</li><li>'Saudi Arabia'</li><li>'Syria'</li><li>'United Arab Emirates'</li><li>'Yemen'</li><li>'Algeria'</li><li>'Angola'</li><li>'Benin'</li><li>'Botswana'</li><li>'Burkina Faso'</li><li>'Burundi'</li><li>'Cameroon'</li><li>'Cape Verde'</li><li>'Central African Republic'</li><li>'Chad'</li><li>'Comoros'</li><li>'Congo (Brazzaville)'</li><li>'Congo (Kinshasa)'</li><li>'Cote dIvoire (IvoryCoast)'</li><li>'Djibouti'</li><li>'Egypt'</li><li>'Equatorial Guinea'</li><li>'Eritrea'</li><li>'Ethiopia'</li><li>'Gabon'</li><li>'Gambia, The'</li><li>'Ghana'</li><li>'Guinea'</li><li>'Guinea-Bissau'</li><li>'Kenya'</li><li>'Lesotho'</li><li>'Liberia'</li><li>'Libya'</li><li>'Madagascar'</li><li>'Malawi'</li><li>'Mali'</li><li>'Mauritania'</li><li>'Mauritius'</li><li>'Morocco'</li><li>'Mozambique'</li><li>'Namibia'</li><li>'Niger'</li><li>'Nigeria'</li><li>'Reunion'</li><li>'Rwanda'</li><li>'Saint Helena'</li><li>'Sao Tome and Principe'</li><li>'Senegal'</li><li>'Seychelles'</li><li>'Sierra Leone'</li><li>'Somalia'</li><li>'South Africa'</li><li>'Sudan'</li><li>'Swaziland'</li><li>'Tanzania'</li><li>'Togo'</li><li>'Tunisia'</li><li>'Uganda'</li><li>'Western Sahara'</li><li>'Zambia'</li><li>'Zimbabwe'</li><li>'Afghanistan'</li><li>'American Samoa'</li><li>'Australia'</li><li>'Bangladesh'</li><li>'Bhutan'</li><li>'Brunei'</li><li>'Burma (Myanmar)'</li><li>'Cambodia'</li><li>'China'</li><li>'Cook Islands'</li><li>'Fiji'</li><li>'French Polynesia'</li><li>'Guam'</li><li>'Hawaiian Trade Zone'</li><li>'Hong Kong'</li><li>'India'</li><li>'Indonesia'</li><li>'Japan'</li><li>'Kiribati'</li><li>'Korea, North'</li><li>'Korea, South'</li><li>'Laos'</li><li>'Macau'</li><li>'Malaysia'</li><li>'Maldives'</li><li>'Mongolia'</li><li>'Nauru'</li><li>'Nepal'</li><li>'New Caledonia'</li><li>'New Zealand'</li><li>'Niue'</li><li>'Pakistan'</li><li>'Papua New Guinea'</li><li>'Philippines'</li><li>'Samoa'</li><li>'Singapore'</li><li>'Solomon Islands'</li><li>'Sri Lanka'</li><li>'Taiwan'</li><li>'Thailand'</li><li>'Timor-Leste (East Timor)'</li><li>'Tonga'</li><li>'U.S. Pacific Islands'</li><li>'Vanuatu'</li><li>'Vietnam'</li><li>'Wake Island'</li></ol>\n"
            ],
            "text/markdown": "1. 'Bermuda'\n2. 'Canada'\n3. 'Greenland'\n4. 'Mexico'\n5. 'Saint Pierre and Miquelon'\n6. 'United States'\n7. 'Antigua and Barbuda'\n8. 'Argentina'\n9. 'Aruba'\n10. 'Bahamas, The'\n11. 'Barbados'\n12. 'Belize'\n13. 'Bolivia'\n14. 'Brazil'\n15. 'Cayman Islands'\n16. 'Chile'\n17. 'Colombia'\n18. 'Costa Rica'\n19. 'Cuba'\n20. 'Dominica'\n21. 'Dominican Republic'\n22. 'Ecuador'\n23. 'El Salvador'\n24. 'Falkland Islands (Islas Malvinas)'\n25. 'French Guiana'\n26. 'Grenada'\n27. 'Guadeloupe'\n28. 'Guatemala'\n29. 'Guyana'\n30. 'Haiti'\n31. 'Honduras'\n32. 'Jamaica'\n33. 'Martinique'\n34. 'Montserrat'\n35. 'Netherlands Antilles'\n36. 'Nicaragua'\n37. 'Panama'\n38. 'Paraguay'\n39. 'Peru'\n40. 'Puerto Rico'\n41. 'Saint Kitts and Nevis'\n42. 'Saint Lucia'\n43. 'Saint Vincent/Grenadines'\n44. 'Suriname'\n45. 'Trinidad and Tobago'\n46. 'Turks and Caicos Islands'\n47. 'Uruguay'\n48. 'Venezuela'\n49. <span style=white-space:pre-wrap>'Virgin Islands,  U.S.'</span>\n50. 'Virgin Islands, British'\n51. 'Albania'\n52. 'Austria'\n53. 'Belgium'\n54. 'Bosnia and Herzegovina'\n55. 'Bulgaria'\n56. 'Croatia'\n57. 'Cyprus'\n58. 'Czech Republic'\n59. 'Denmark'\n60. 'Faroe Islands'\n61. 'Finland'\n62. 'Former Czechoslovakia'\n63. 'Former Serbia and Montenegro'\n64. 'Former Yugoslavia'\n65. 'France'\n66. 'Germany'\n67. 'Germany, East'\n68. 'Germany, West'\n69. 'Gibraltar'\n70. 'Greece'\n71. 'Hungary'\n72. 'Iceland'\n73. 'Ireland'\n74. 'Italy'\n75. 'Luxembourg'\n76. 'Macedonia'\n77. 'Malta'\n78. 'Montenegro'\n79. 'Netherlands'\n80. 'Norway'\n81. 'Poland'\n82. 'Portugal'\n83. 'Romania'\n84. 'Serbia'\n85. 'Slovakia'\n86. 'Slovenia'\n87. 'Spain'\n88. 'Sweden'\n89. 'Switzerland'\n90. 'Turkey'\n91. 'United Kingdom'\n92. 'Armenia'\n93. 'Azerbaijan'\n94. 'Belarus'\n95. 'Estonia'\n96. 'Former U.S.S.R.'\n97. 'Georgia'\n98. 'Kazakhstan'\n99. 'Kyrgyzstan'\n100. 'Latvia'\n101. 'Lithuania'\n102. 'Moldova'\n103. 'Russia'\n104. 'Tajikistan'\n105. 'Turkmenistan'\n106. 'Ukraine'\n107. 'Uzbekistan'\n108. 'Bahrain'\n109. 'Iran'\n110. 'Iraq'\n111. 'Israel'\n112. 'Jordan'\n113. 'Kuwait'\n114. 'Lebanon'\n115. 'Oman'\n116. 'Palestine'\n117. 'Qatar'\n118. 'Saudi Arabia'\n119. 'Syria'\n120. 'United Arab Emirates'\n121. 'Yemen'\n122. 'Algeria'\n123. 'Angola'\n124. 'Benin'\n125. 'Botswana'\n126. 'Burkina Faso'\n127. 'Burundi'\n128. 'Cameroon'\n129. 'Cape Verde'\n130. 'Central African Republic'\n131. 'Chad'\n132. 'Comoros'\n133. 'Congo (Brazzaville)'\n134. 'Congo (Kinshasa)'\n135. 'Cote dIvoire (IvoryCoast)'\n136. 'Djibouti'\n137. 'Egypt'\n138. 'Equatorial Guinea'\n139. 'Eritrea'\n140. 'Ethiopia'\n141. 'Gabon'\n142. 'Gambia, The'\n143. 'Ghana'\n144. 'Guinea'\n145. 'Guinea-Bissau'\n146. 'Kenya'\n147. 'Lesotho'\n148. 'Liberia'\n149. 'Libya'\n150. 'Madagascar'\n151. 'Malawi'\n152. 'Mali'\n153. 'Mauritania'\n154. 'Mauritius'\n155. 'Morocco'\n156. 'Mozambique'\n157. 'Namibia'\n158. 'Niger'\n159. 'Nigeria'\n160. 'Reunion'\n161. 'Rwanda'\n162. 'Saint Helena'\n163. 'Sao Tome and Principe'\n164. 'Senegal'\n165. 'Seychelles'\n166. 'Sierra Leone'\n167. 'Somalia'\n168. 'South Africa'\n169. 'Sudan'\n170. 'Swaziland'\n171. 'Tanzania'\n172. 'Togo'\n173. 'Tunisia'\n174. 'Uganda'\n175. 'Western Sahara'\n176. 'Zambia'\n177. 'Zimbabwe'\n178. 'Afghanistan'\n179. 'American Samoa'\n180. 'Australia'\n181. 'Bangladesh'\n182. 'Bhutan'\n183. 'Brunei'\n184. 'Burma (Myanmar)'\n185. 'Cambodia'\n186. 'China'\n187. 'Cook Islands'\n188. 'Fiji'\n189. 'French Polynesia'\n190. 'Guam'\n191. 'Hawaiian Trade Zone'\n192. 'Hong Kong'\n193. 'India'\n194. 'Indonesia'\n195. 'Japan'\n196. 'Kiribati'\n197. 'Korea, North'\n198. 'Korea, South'\n199. 'Laos'\n200. 'Macau'\n201. 'Malaysia'\n202. 'Maldives'\n203. 'Mongolia'\n204. 'Nauru'\n205. 'Nepal'\n206. 'New Caledonia'\n207. 'New Zealand'\n208. 'Niue'\n209. 'Pakistan'\n210. 'Papua New Guinea'\n211. 'Philippines'\n212. 'Samoa'\n213. 'Singapore'\n214. 'Solomon Islands'\n215. 'Sri Lanka'\n216. 'Taiwan'\n217. 'Thailand'\n218. 'Timor-Leste (East Timor)'\n219. 'Tonga'\n220. 'U.S. Pacific Islands'\n221. 'Vanuatu'\n222. 'Vietnam'\n223. 'Wake Island'\n\n\n",
            "text/latex": "\\begin{enumerate*}\n\\item 'Bermuda'\n\\item 'Canada'\n\\item 'Greenland'\n\\item 'Mexico'\n\\item 'Saint Pierre and Miquelon'\n\\item 'United States'\n\\item 'Antigua and Barbuda'\n\\item 'Argentina'\n\\item 'Aruba'\n\\item 'Bahamas, The'\n\\item 'Barbados'\n\\item 'Belize'\n\\item 'Bolivia'\n\\item 'Brazil'\n\\item 'Cayman Islands'\n\\item 'Chile'\n\\item 'Colombia'\n\\item 'Costa Rica'\n\\item 'Cuba'\n\\item 'Dominica'\n\\item 'Dominican Republic'\n\\item 'Ecuador'\n\\item 'El Salvador'\n\\item 'Falkland Islands (Islas Malvinas)'\n\\item 'French Guiana'\n\\item 'Grenada'\n\\item 'Guadeloupe'\n\\item 'Guatemala'\n\\item 'Guyana'\n\\item 'Haiti'\n\\item 'Honduras'\n\\item 'Jamaica'\n\\item 'Martinique'\n\\item 'Montserrat'\n\\item 'Netherlands Antilles'\n\\item 'Nicaragua'\n\\item 'Panama'\n\\item 'Paraguay'\n\\item 'Peru'\n\\item 'Puerto Rico'\n\\item 'Saint Kitts and Nevis'\n\\item 'Saint Lucia'\n\\item 'Saint Vincent/Grenadines'\n\\item 'Suriname'\n\\item 'Trinidad and Tobago'\n\\item 'Turks and Caicos Islands'\n\\item 'Uruguay'\n\\item 'Venezuela'\n\\item 'Virgin Islands,  U.S.'\n\\item 'Virgin Islands, British'\n\\item 'Albania'\n\\item 'Austria'\n\\item 'Belgium'\n\\item 'Bosnia and Herzegovina'\n\\item 'Bulgaria'\n\\item 'Croatia'\n\\item 'Cyprus'\n\\item 'Czech Republic'\n\\item 'Denmark'\n\\item 'Faroe Islands'\n\\item 'Finland'\n\\item 'Former Czechoslovakia'\n\\item 'Former Serbia and Montenegro'\n\\item 'Former Yugoslavia'\n\\item 'France'\n\\item 'Germany'\n\\item 'Germany, East'\n\\item 'Germany, West'\n\\item 'Gibraltar'\n\\item 'Greece'\n\\item 'Hungary'\n\\item 'Iceland'\n\\item 'Ireland'\n\\item 'Italy'\n\\item 'Luxembourg'\n\\item 'Macedonia'\n\\item 'Malta'\n\\item 'Montenegro'\n\\item 'Netherlands'\n\\item 'Norway'\n\\item 'Poland'\n\\item 'Portugal'\n\\item 'Romania'\n\\item 'Serbia'\n\\item 'Slovakia'\n\\item 'Slovenia'\n\\item 'Spain'\n\\item 'Sweden'\n\\item 'Switzerland'\n\\item 'Turkey'\n\\item 'United Kingdom'\n\\item 'Armenia'\n\\item 'Azerbaijan'\n\\item 'Belarus'\n\\item 'Estonia'\n\\item 'Former U.S.S.R.'\n\\item 'Georgia'\n\\item 'Kazakhstan'\n\\item 'Kyrgyzstan'\n\\item 'Latvia'\n\\item 'Lithuania'\n\\item 'Moldova'\n\\item 'Russia'\n\\item 'Tajikistan'\n\\item 'Turkmenistan'\n\\item 'Ukraine'\n\\item 'Uzbekistan'\n\\item 'Bahrain'\n\\item 'Iran'\n\\item 'Iraq'\n\\item 'Israel'\n\\item 'Jordan'\n\\item 'Kuwait'\n\\item 'Lebanon'\n\\item 'Oman'\n\\item 'Palestine'\n\\item 'Qatar'\n\\item 'Saudi Arabia'\n\\item 'Syria'\n\\item 'United Arab Emirates'\n\\item 'Yemen'\n\\item 'Algeria'\n\\item 'Angola'\n\\item 'Benin'\n\\item 'Botswana'\n\\item 'Burkina Faso'\n\\item 'Burundi'\n\\item 'Cameroon'\n\\item 'Cape Verde'\n\\item 'Central African Republic'\n\\item 'Chad'\n\\item 'Comoros'\n\\item 'Congo (Brazzaville)'\n\\item 'Congo (Kinshasa)'\n\\item 'Cote dIvoire (IvoryCoast)'\n\\item 'Djibouti'\n\\item 'Egypt'\n\\item 'Equatorial Guinea'\n\\item 'Eritrea'\n\\item 'Ethiopia'\n\\item 'Gabon'\n\\item 'Gambia, The'\n\\item 'Ghana'\n\\item 'Guinea'\n\\item 'Guinea-Bissau'\n\\item 'Kenya'\n\\item 'Lesotho'\n\\item 'Liberia'\n\\item 'Libya'\n\\item 'Madagascar'\n\\item 'Malawi'\n\\item 'Mali'\n\\item 'Mauritania'\n\\item 'Mauritius'\n\\item 'Morocco'\n\\item 'Mozambique'\n\\item 'Namibia'\n\\item 'Niger'\n\\item 'Nigeria'\n\\item 'Reunion'\n\\item 'Rwanda'\n\\item 'Saint Helena'\n\\item 'Sao Tome and Principe'\n\\item 'Senegal'\n\\item 'Seychelles'\n\\item 'Sierra Leone'\n\\item 'Somalia'\n\\item 'South Africa'\n\\item 'Sudan'\n\\item 'Swaziland'\n\\item 'Tanzania'\n\\item 'Togo'\n\\item 'Tunisia'\n\\item 'Uganda'\n\\item 'Western Sahara'\n\\item 'Zambia'\n\\item 'Zimbabwe'\n\\item 'Afghanistan'\n\\item 'American Samoa'\n\\item 'Australia'\n\\item 'Bangladesh'\n\\item 'Bhutan'\n\\item 'Brunei'\n\\item 'Burma (Myanmar)'\n\\item 'Cambodia'\n\\item 'China'\n\\item 'Cook Islands'\n\\item 'Fiji'\n\\item 'French Polynesia'\n\\item 'Guam'\n\\item 'Hawaiian Trade Zone'\n\\item 'Hong Kong'\n\\item 'India'\n\\item 'Indonesia'\n\\item 'Japan'\n\\item 'Kiribati'\n\\item 'Korea, North'\n\\item 'Korea, South'\n\\item 'Laos'\n\\item 'Macau'\n\\item 'Malaysia'\n\\item 'Maldives'\n\\item 'Mongolia'\n\\item 'Nauru'\n\\item 'Nepal'\n\\item 'New Caledonia'\n\\item 'New Zealand'\n\\item 'Niue'\n\\item 'Pakistan'\n\\item 'Papua New Guinea'\n\\item 'Philippines'\n\\item 'Samoa'\n\\item 'Singapore'\n\\item 'Solomon Islands'\n\\item 'Sri Lanka'\n\\item 'Taiwan'\n\\item 'Thailand'\n\\item 'Timor-Leste (East Timor)'\n\\item 'Tonga'\n\\item 'U.S. Pacific Islands'\n\\item 'Vanuatu'\n\\item 'Vietnam'\n\\item 'Wake Island'\n\\end{enumerate*}\n",
            "text/plain": [
              "  [1] \"Bermuda\"                           \"Canada\"                           \n",
              "  [3] \"Greenland\"                         \"Mexico\"                           \n",
              "  [5] \"Saint Pierre and Miquelon\"         \"United States\"                    \n",
              "  [7] \"Antigua and Barbuda\"               \"Argentina\"                        \n",
              "  [9] \"Aruba\"                             \"Bahamas, The\"                     \n",
              " [11] \"Barbados\"                          \"Belize\"                           \n",
              " [13] \"Bolivia\"                           \"Brazil\"                           \n",
              " [15] \"Cayman Islands\"                    \"Chile\"                            \n",
              " [17] \"Colombia\"                          \"Costa Rica\"                       \n",
              " [19] \"Cuba\"                              \"Dominica\"                         \n",
              " [21] \"Dominican Republic\"                \"Ecuador\"                          \n",
              " [23] \"El Salvador\"                       \"Falkland Islands (Islas Malvinas)\"\n",
              " [25] \"French Guiana\"                     \"Grenada\"                          \n",
              " [27] \"Guadeloupe\"                        \"Guatemala\"                        \n",
              " [29] \"Guyana\"                            \"Haiti\"                            \n",
              " [31] \"Honduras\"                          \"Jamaica\"                          \n",
              " [33] \"Martinique\"                        \"Montserrat\"                       \n",
              " [35] \"Netherlands Antilles\"              \"Nicaragua\"                        \n",
              " [37] \"Panama\"                            \"Paraguay\"                         \n",
              " [39] \"Peru\"                              \"Puerto Rico\"                      \n",
              " [41] \"Saint Kitts and Nevis\"             \"Saint Lucia\"                      \n",
              " [43] \"Saint Vincent/Grenadines\"          \"Suriname\"                         \n",
              " [45] \"Trinidad and Tobago\"               \"Turks and Caicos Islands\"         \n",
              " [47] \"Uruguay\"                           \"Venezuela\"                        \n",
              " [49] \"Virgin Islands,  U.S.\"             \"Virgin Islands, British\"          \n",
              " [51] \"Albania\"                           \"Austria\"                          \n",
              " [53] \"Belgium\"                           \"Bosnia and Herzegovina\"           \n",
              " [55] \"Bulgaria\"                          \"Croatia\"                          \n",
              " [57] \"Cyprus\"                            \"Czech Republic\"                   \n",
              " [59] \"Denmark\"                           \"Faroe Islands\"                    \n",
              " [61] \"Finland\"                           \"Former Czechoslovakia\"            \n",
              " [63] \"Former Serbia and Montenegro\"      \"Former Yugoslavia\"                \n",
              " [65] \"France\"                            \"Germany\"                          \n",
              " [67] \"Germany, East\"                     \"Germany, West\"                    \n",
              " [69] \"Gibraltar\"                         \"Greece\"                           \n",
              " [71] \"Hungary\"                           \"Iceland\"                          \n",
              " [73] \"Ireland\"                           \"Italy\"                            \n",
              " [75] \"Luxembourg\"                        \"Macedonia\"                        \n",
              " [77] \"Malta\"                             \"Montenegro\"                       \n",
              " [79] \"Netherlands\"                       \"Norway\"                           \n",
              " [81] \"Poland\"                            \"Portugal\"                         \n",
              " [83] \"Romania\"                           \"Serbia\"                           \n",
              " [85] \"Slovakia\"                          \"Slovenia\"                         \n",
              " [87] \"Spain\"                             \"Sweden\"                           \n",
              " [89] \"Switzerland\"                       \"Turkey\"                           \n",
              " [91] \"United Kingdom\"                    \"Armenia\"                          \n",
              " [93] \"Azerbaijan\"                        \"Belarus\"                          \n",
              " [95] \"Estonia\"                           \"Former U.S.S.R.\"                  \n",
              " [97] \"Georgia\"                           \"Kazakhstan\"                       \n",
              " [99] \"Kyrgyzstan\"                        \"Latvia\"                           \n",
              "[101] \"Lithuania\"                         \"Moldova\"                          \n",
              "[103] \"Russia\"                            \"Tajikistan\"                       \n",
              "[105] \"Turkmenistan\"                      \"Ukraine\"                          \n",
              "[107] \"Uzbekistan\"                        \"Bahrain\"                          \n",
              "[109] \"Iran\"                              \"Iraq\"                             \n",
              "[111] \"Israel\"                            \"Jordan\"                           \n",
              "[113] \"Kuwait\"                            \"Lebanon\"                          \n",
              "[115] \"Oman\"                              \"Palestine\"                        \n",
              "[117] \"Qatar\"                             \"Saudi Arabia\"                     \n",
              "[119] \"Syria\"                             \"United Arab Emirates\"             \n",
              "[121] \"Yemen\"                             \"Algeria\"                          \n",
              "[123] \"Angola\"                            \"Benin\"                            \n",
              "[125] \"Botswana\"                          \"Burkina Faso\"                     \n",
              "[127] \"Burundi\"                           \"Cameroon\"                         \n",
              "[129] \"Cape Verde\"                        \"Central African Republic\"         \n",
              "[131] \"Chad\"                              \"Comoros\"                          \n",
              "[133] \"Congo (Brazzaville)\"               \"Congo (Kinshasa)\"                 \n",
              "[135] \"Cote dIvoire (IvoryCoast)\"         \"Djibouti\"                         \n",
              "[137] \"Egypt\"                             \"Equatorial Guinea\"                \n",
              "[139] \"Eritrea\"                           \"Ethiopia\"                         \n",
              "[141] \"Gabon\"                             \"Gambia, The\"                      \n",
              "[143] \"Ghana\"                             \"Guinea\"                           \n",
              "[145] \"Guinea-Bissau\"                     \"Kenya\"                            \n",
              "[147] \"Lesotho\"                           \"Liberia\"                          \n",
              "[149] \"Libya\"                             \"Madagascar\"                       \n",
              "[151] \"Malawi\"                            \"Mali\"                             \n",
              "[153] \"Mauritania\"                        \"Mauritius\"                        \n",
              "[155] \"Morocco\"                           \"Mozambique\"                       \n",
              "[157] \"Namibia\"                           \"Niger\"                            \n",
              "[159] \"Nigeria\"                           \"Reunion\"                          \n",
              "[161] \"Rwanda\"                            \"Saint Helena\"                     \n",
              "[163] \"Sao Tome and Principe\"             \"Senegal\"                          \n",
              "[165] \"Seychelles\"                        \"Sierra Leone\"                     \n",
              "[167] \"Somalia\"                           \"South Africa\"                     \n",
              "[169] \"Sudan\"                             \"Swaziland\"                        \n",
              "[171] \"Tanzania\"                          \"Togo\"                             \n",
              "[173] \"Tunisia\"                           \"Uganda\"                           \n",
              "[175] \"Western Sahara\"                    \"Zambia\"                           \n",
              "[177] \"Zimbabwe\"                          \"Afghanistan\"                      \n",
              "[179] \"American Samoa\"                    \"Australia\"                        \n",
              "[181] \"Bangladesh\"                        \"Bhutan\"                           \n",
              "[183] \"Brunei\"                            \"Burma (Myanmar)\"                  \n",
              "[185] \"Cambodia\"                          \"China\"                            \n",
              "[187] \"Cook Islands\"                      \"Fiji\"                             \n",
              "[189] \"French Polynesia\"                  \"Guam\"                             \n",
              "[191] \"Hawaiian Trade Zone\"               \"Hong Kong\"                        \n",
              "[193] \"India\"                             \"Indonesia\"                        \n",
              "[195] \"Japan\"                             \"Kiribati\"                         \n",
              "[197] \"Korea, North\"                      \"Korea, South\"                     \n",
              "[199] \"Laos\"                              \"Macau\"                            \n",
              "[201] \"Malaysia\"                          \"Maldives\"                         \n",
              "[203] \"Mongolia\"                          \"Nauru\"                            \n",
              "[205] \"Nepal\"                             \"New Caledonia\"                    \n",
              "[207] \"New Zealand\"                       \"Niue\"                             \n",
              "[209] \"Pakistan\"                          \"Papua New Guinea\"                 \n",
              "[211] \"Philippines\"                       \"Samoa\"                            \n",
              "[213] \"Singapore\"                         \"Solomon Islands\"                  \n",
              "[215] \"Sri Lanka\"                         \"Taiwan\"                           \n",
              "[217] \"Thailand\"                          \"Timor-Leste (East Timor)\"         \n",
              "[219] \"Tonga\"                             \"U.S. Pacific Islands\"             \n",
              "[221] \"Vanuatu\"                           \"Vietnam\"                          \n",
              "[223] \"Wake Island\"                      "
            ]
          },
          "metadata": {}
        }
      ]
    },
    {
      "cell_type": "code",
      "source": [
        "coal <- read_csv(\"http://594442.youcanlearnit.net/coal.csv\")\n",
        "glimpse(coal)"
      ],
      "metadata": {
        "colab": {
          "base_uri": "https://localhost:8080/"
        },
        "id": "o1UhKrMmFHF1",
        "outputId": "9dd0117d-6260-41d5-9a81-076e385da1bf"
      },
      "execution_count": 111,
      "outputs": [
        {
          "output_type": "stream",
          "name": "stderr",
          "text": [
            "\u001b[1m\u001b[22mNew names:\n",
            "\u001b[36m•\u001b[39m `` -> `...2`\n",
            "\u001b[36m•\u001b[39m `` -> `...3`\n",
            "\u001b[36m•\u001b[39m `` -> `...4`\n",
            "\u001b[36m•\u001b[39m `` -> `...5`\n",
            "\u001b[36m•\u001b[39m `` -> `...6`\n",
            "\u001b[36m•\u001b[39m `` -> `...7`\n",
            "\u001b[36m•\u001b[39m `` -> `...8`\n",
            "\u001b[36m•\u001b[39m `` -> `...9`\n",
            "\u001b[36m•\u001b[39m `` -> `...10`\n",
            "\u001b[36m•\u001b[39m `` -> `...11`\n",
            "\u001b[36m•\u001b[39m `` -> `...12`\n",
            "\u001b[36m•\u001b[39m `` -> `...13`\n",
            "\u001b[36m•\u001b[39m `` -> `...14`\n",
            "\u001b[36m•\u001b[39m `` -> `...15`\n",
            "\u001b[36m•\u001b[39m `` -> `...16`\n",
            "\u001b[36m•\u001b[39m `` -> `...17`\n",
            "\u001b[36m•\u001b[39m `` -> `...18`\n",
            "\u001b[36m•\u001b[39m `` -> `...19`\n",
            "\u001b[36m•\u001b[39m `` -> `...20`\n",
            "\u001b[36m•\u001b[39m `` -> `...21`\n",
            "\u001b[36m•\u001b[39m `` -> `...22`\n",
            "\u001b[36m•\u001b[39m `` -> `...23`\n",
            "\u001b[36m•\u001b[39m `` -> `...24`\n",
            "\u001b[36m•\u001b[39m `` -> `...25`\n",
            "\u001b[36m•\u001b[39m `` -> `...26`\n",
            "\u001b[36m•\u001b[39m `` -> `...27`\n",
            "\u001b[36m•\u001b[39m `` -> `...28`\n",
            "\u001b[36m•\u001b[39m `` -> `...29`\n",
            "\u001b[36m•\u001b[39m `` -> `...30`\n",
            "\u001b[36m•\u001b[39m `` -> `...31`\n",
            "\u001b[1mRows: \u001b[22m\u001b[34m234\u001b[39m \u001b[1mColumns: \u001b[22m\u001b[34m31\u001b[39m\n",
            "\u001b[36m──\u001b[39m \u001b[1mColumn specification\u001b[22m \u001b[36m────────────────────────────────────────────────────────\u001b[39m\n",
            "\u001b[1mDelimiter:\u001b[22m \",\"\n",
            "\u001b[31mchr\u001b[39m (31): Table: Total Coal Consumption (Quadrillion Btu), ...2, ...3, ...4,...\n",
            "\n",
            "\u001b[36mℹ\u001b[39m Use `spec()` to retrieve the full column specification for this data.\n",
            "\u001b[36mℹ\u001b[39m Specify the column types or set `show_col_types = FALSE` to quiet this message.\n"
          ]
        },
        {
          "output_type": "stream",
          "name": "stdout",
          "text": [
            "Rows: 234\n",
            "Columns: 31\n",
            "$ `Table: Total Coal Consumption (Quadrillion Btu)` \u001b[3m\u001b[90m<chr>\u001b[39m\u001b[23m \u001b[31mNA\u001b[39m\u001b[90m, \u001b[39m\u001b[31mNA\u001b[39m\u001b[90m, \u001b[39m\"North Ameri…\n",
            "$ ...2                                              \u001b[3m\u001b[90m<chr>\u001b[39m\u001b[23m \u001b[31mNA\u001b[39m\u001b[90m, \u001b[39m\"1980\"\u001b[90m, \u001b[39m\"16.4517…\n",
            "$ ...3                                              \u001b[3m\u001b[90m<chr>\u001b[39m\u001b[23m \u001b[31mNA\u001b[39m\u001b[90m, \u001b[39m\"1981\"\u001b[90m, \u001b[39m\"16.9877…\n",
            "$ ...4                                              \u001b[3m\u001b[90m<chr>\u001b[39m\u001b[23m \u001b[31mNA\u001b[39m\u001b[90m, \u001b[39m\"1982\"\u001b[90m, \u001b[39m\"16.4754…\n",
            "$ ...5                                              \u001b[3m\u001b[90m<chr>\u001b[39m\u001b[23m \u001b[31mNA\u001b[39m\u001b[90m, \u001b[39m\"1983\"\u001b[90m, \u001b[39m\"17.1240…\n",
            "$ ...6                                              \u001b[3m\u001b[90m<chr>\u001b[39m\u001b[23m \u001b[31mNA\u001b[39m\u001b[90m, \u001b[39m\"1984\"\u001b[90m, \u001b[39m\"18.4267…\n",
            "$ ...7                                              \u001b[3m\u001b[90m<chr>\u001b[39m\u001b[23m \u001b[31mNA\u001b[39m\u001b[90m, \u001b[39m\"1985\"\u001b[90m, \u001b[39m\"18.8181…\n",
            "$ ...8                                              \u001b[3m\u001b[90m<chr>\u001b[39m\u001b[23m \u001b[31mNA\u001b[39m\u001b[90m, \u001b[39m\"1986\"\u001b[90m, \u001b[39m\"18.5255…\n",
            "$ ...9                                              \u001b[3m\u001b[90m<chr>\u001b[39m\u001b[23m \u001b[31mNA\u001b[39m\u001b[90m, \u001b[39m\"1987\"\u001b[90m, \u001b[39m\"19.4378…\n",
            "$ ...10                                             \u001b[3m\u001b[90m<chr>\u001b[39m\u001b[23m \u001b[31mNA\u001b[39m\u001b[90m, \u001b[39m\"1988\"\u001b[90m, \u001b[39m\"20.4036…\n",
            "$ ...11                                             \u001b[3m\u001b[90m<chr>\u001b[39m\u001b[23m \u001b[31mNA\u001b[39m\u001b[90m, \u001b[39m\"1989\"\u001b[90m, \u001b[39m\"20.6257…\n",
            "$ ...12                                             \u001b[3m\u001b[90m<chr>\u001b[39m\u001b[23m \u001b[31mNA\u001b[39m\u001b[90m, \u001b[39m\"1990\"\u001b[90m, \u001b[39m\"20.5602…\n",
            "$ ...13                                             \u001b[3m\u001b[90m<chr>\u001b[39m\u001b[23m \u001b[31mNA\u001b[39m\u001b[90m, \u001b[39m\"1991\"\u001b[90m, \u001b[39m\"20.4251…\n",
            "$ ...14                                             \u001b[3m\u001b[90m<chr>\u001b[39m\u001b[23m \u001b[31mNA\u001b[39m\u001b[90m, \u001b[39m\"1992\"\u001b[90m, \u001b[39m\"20.6467…\n",
            "$ ...15                                             \u001b[3m\u001b[90m<chr>\u001b[39m\u001b[23m \u001b[31mNA\u001b[39m\u001b[90m, \u001b[39m\"1993\"\u001b[90m, \u001b[39m\"21.2821…\n",
            "$ ...16                                             \u001b[3m\u001b[90m<chr>\u001b[39m\u001b[23m \u001b[31mNA\u001b[39m\u001b[90m, \u001b[39m\"1994\"\u001b[90m, \u001b[39m\"21.3963…\n",
            "$ ...17                                             \u001b[3m\u001b[90m<chr>\u001b[39m\u001b[23m \u001b[31mNA\u001b[39m\u001b[90m, \u001b[39m\"1995\"\u001b[90m, \u001b[39m\"21.6422…\n",
            "$ ...18                                             \u001b[3m\u001b[90m<chr>\u001b[39m\u001b[23m \u001b[31mNA\u001b[39m\u001b[90m, \u001b[39m\"1996\"\u001b[90m, \u001b[39m\"22.5757…\n",
            "$ ...19                                             \u001b[3m\u001b[90m<chr>\u001b[39m\u001b[23m \u001b[31mNA\u001b[39m\u001b[90m, \u001b[39m\"1997\"\u001b[90m, \u001b[39m\"23.2049…\n",
            "$ ...20                                             \u001b[3m\u001b[90m<chr>\u001b[39m\u001b[23m \u001b[31mNA\u001b[39m\u001b[90m, \u001b[39m\"1998\"\u001b[90m, \u001b[39m\"23.5002…\n",
            "$ ...21                                             \u001b[3m\u001b[90m<chr>\u001b[39m\u001b[23m \u001b[31mNA\u001b[39m\u001b[90m, \u001b[39m\"1999\"\u001b[90m, \u001b[39m\"23.4747…\n",
            "$ ...22                                             \u001b[3m\u001b[90m<chr>\u001b[39m\u001b[23m \u001b[31mNA\u001b[39m\u001b[90m, \u001b[39m\"2000\"\u001b[90m, \u001b[39m\"24.5558…\n",
            "$ ...23                                             \u001b[3m\u001b[90m<chr>\u001b[39m\u001b[23m \u001b[31mNA\u001b[39m\u001b[90m, \u001b[39m\"2001\"\u001b[90m, \u001b[39m\"23.6270…\n",
            "$ ...24                                             \u001b[3m\u001b[90m<chr>\u001b[39m\u001b[23m \u001b[31mNA\u001b[39m\u001b[90m, \u001b[39m\"2002\"\u001b[90m, \u001b[39m\"23.6987…\n",
            "$ ...25                                             \u001b[3m\u001b[90m<chr>\u001b[39m\u001b[23m \u001b[31mNA\u001b[39m\u001b[90m, \u001b[39m\"2003\"\u001b[90m, \u001b[39m\"24.1778…\n",
            "$ ...26                                             \u001b[3m\u001b[90m<chr>\u001b[39m\u001b[23m \u001b[31mNA\u001b[39m\u001b[90m, \u001b[39m\"2004\"\u001b[90m, \u001b[39m\"24.3602…\n",
            "$ ...27                                             \u001b[3m\u001b[90m<chr>\u001b[39m\u001b[23m \u001b[31mNA\u001b[39m\u001b[90m, \u001b[39m\"2005\"\u001b[90m, \u001b[39m\"24.6876…\n",
            "$ ...28                                             \u001b[3m\u001b[90m<chr>\u001b[39m\u001b[23m \u001b[31mNA\u001b[39m\u001b[90m, \u001b[39m\"2006\"\u001b[90m, \u001b[39m\"24.3217…\n",
            "$ ...29                                             \u001b[3m\u001b[90m<chr>\u001b[39m\u001b[23m \u001b[31mNA\u001b[39m\u001b[90m, \u001b[39m\"2007\"\u001b[90m, \u001b[39m\"24.5474…\n",
            "$ ...30                                             \u001b[3m\u001b[90m<chr>\u001b[39m\u001b[23m \u001b[31mNA\u001b[39m\u001b[90m, \u001b[39m\"2008\"\u001b[90m, \u001b[39m\"24.1199…\n",
            "$ ...31                                             \u001b[3m\u001b[90m<chr>\u001b[39m\u001b[23m \u001b[31mNA\u001b[39m\u001b[90m, \u001b[39m\"2009\"\u001b[90m, \u001b[39m\"21.1480…\n"
          ]
        }
      ]
    },
    {
      "cell_type": "code",
      "source": [
        "# Skip the first two lines\n",
        "coal <- read_csv(\"http://594442.youcanlearnit.net/coal.csv\", skip=2)\n",
        "glimpse (coal)"
      ],
      "metadata": {
        "colab": {
          "base_uri": "https://localhost:8080/"
        },
        "id": "dcFlNCDdFHC5",
        "outputId": "5f52cd37-c8d6-4536-cd86-adef45763de9"
      },
      "execution_count": 112,
      "outputs": [
        {
          "output_type": "stream",
          "name": "stderr",
          "text": [
            "\u001b[1m\u001b[22mNew names:\n",
            "\u001b[36m•\u001b[39m `` -> `...1`\n",
            "\u001b[1mRows: \u001b[22m\u001b[34m232\u001b[39m \u001b[1mColumns: \u001b[22m\u001b[34m31\u001b[39m\n",
            "\u001b[36m──\u001b[39m \u001b[1mColumn specification\u001b[22m \u001b[36m────────────────────────────────────────────────────────\u001b[39m\n",
            "\u001b[1mDelimiter:\u001b[22m \",\"\n",
            "\u001b[31mchr\u001b[39m (31): ...1, 1980, 1981, 1982, 1983, 1984, 1985, 1986, 1987, 1988, 1989, ...\n",
            "\n",
            "\u001b[36mℹ\u001b[39m Use `spec()` to retrieve the full column specification for this data.\n",
            "\u001b[36mℹ\u001b[39m Specify the column types or set `show_col_types = FALSE` to quiet this message.\n"
          ]
        },
        {
          "output_type": "stream",
          "name": "stdout",
          "text": [
            "Rows: 232\n",
            "Columns: 31\n",
            "$ ...1   \u001b[3m\u001b[90m<chr>\u001b[39m\u001b[23m \"North America\"\u001b[90m, \u001b[39m\"Bermuda\"\u001b[90m, \u001b[39m\"Canada\"\u001b[90m, \u001b[39m\"Greenland\"\u001b[90m, \u001b[39m\"Mexico\"\u001b[90m, \u001b[39m\"S…\n",
            "$ `1980` \u001b[3m\u001b[90m<chr>\u001b[39m\u001b[23m \"16.45179\"\u001b[90m, \u001b[39m\"0\"\u001b[90m, \u001b[39m\"0.96156\"\u001b[90m, \u001b[39m\"0.00005\"\u001b[90m, \u001b[39m\"0.10239\"\u001b[90m, \u001b[39m\"0\"\u001b[90m, \u001b[39m\"15.3877…\n",
            "$ `1981` \u001b[3m\u001b[90m<chr>\u001b[39m\u001b[23m \"16.98772\"\u001b[90m, \u001b[39m\"0\"\u001b[90m, \u001b[39m\"0.99047\"\u001b[90m, \u001b[39m\"0.00005\"\u001b[90m, \u001b[39m\"0.10562\"\u001b[90m, \u001b[39m\"0\"\u001b[90m, \u001b[39m\"15.8915…\n",
            "$ `1982` \u001b[3m\u001b[90m<chr>\u001b[39m\u001b[23m \"16.47546\"\u001b[90m, \u001b[39m\"0\"\u001b[90m, \u001b[39m\"1.05584\"\u001b[90m, \u001b[39m\"0.00003\"\u001b[90m, \u001b[39m\"0.11967\"\u001b[90m, \u001b[39m\"0\"\u001b[90m, \u001b[39m\"15.2999…\n",
            "$ `1983` \u001b[3m\u001b[90m<chr>\u001b[39m\u001b[23m \"17.12407\"\u001b[90m, \u001b[39m\"0\"\u001b[90m, \u001b[39m\"1.11653\"\u001b[90m, \u001b[39m\"0.00003\"\u001b[90m, \u001b[39m\"0.12869\"\u001b[90m, \u001b[39m\"0\"\u001b[90m, \u001b[39m\"15.8788…\n",
            "$ `1984` \u001b[3m\u001b[90m<chr>\u001b[39m\u001b[23m \"18.4267\"\u001b[90m, \u001b[39m\"0\"\u001b[90m, \u001b[39m\"1.23682\"\u001b[90m, \u001b[39m\"0.00003\"\u001b[90m, \u001b[39m\"0.13071\"\u001b[90m, \u001b[39m\"0\"\u001b[90m, \u001b[39m\"17.05914…\n",
            "$ `1985` \u001b[3m\u001b[90m<chr>\u001b[39m\u001b[23m \"18.81819\"\u001b[90m, \u001b[39m\"0\"\u001b[90m, \u001b[39m\"1.20679\"\u001b[90m, \u001b[39m\"0\"\u001b[90m, \u001b[39m\"0.14646\"\u001b[90m, \u001b[39m\"0\"\u001b[90m, \u001b[39m\"17.46494\"\u001b[90m, \u001b[39m\"0…\n",
            "$ `1986` \u001b[3m\u001b[90m<chr>\u001b[39m\u001b[23m \"18.52559\"\u001b[90m, \u001b[39m\"0\"\u001b[90m, \u001b[39m\"1.12583\"\u001b[90m, \u001b[39m\"0\"\u001b[90m, \u001b[39m\"0.15609\"\u001b[90m, \u001b[39m\"0\"\u001b[90m, \u001b[39m\"17.24367\"\u001b[90m, \u001b[39m\"0…\n",
            "$ `1987` \u001b[3m\u001b[90m<chr>\u001b[39m\u001b[23m \"19.43781\"\u001b[90m, \u001b[39m\"0\"\u001b[90m, \u001b[39m\"1.25072\"\u001b[90m, \u001b[39m\"0\"\u001b[90m, \u001b[39m\"0.17001\"\u001b[90m, \u001b[39m\"0\"\u001b[90m, \u001b[39m\"18.01708\"\u001b[90m, \u001b[39m\"0…\n",
            "$ `1988` \u001b[3m\u001b[90m<chr>\u001b[39m\u001b[23m \"20.40363\"\u001b[90m, \u001b[39m\"0\"\u001b[90m, \u001b[39m\"1.35809\"\u001b[90m, \u001b[39m\"0\"\u001b[90m, \u001b[39m\"0.15967\"\u001b[90m, \u001b[39m\"0\"\u001b[90m, \u001b[39m\"18.88587\"\u001b[90m, \u001b[39m\"0…\n",
            "$ `1989` \u001b[3m\u001b[90m<chr>\u001b[39m\u001b[23m \"20.62571\"\u001b[90m, \u001b[39m\"0\"\u001b[90m, \u001b[39m\"1.35196\"\u001b[90m, \u001b[39m\"0\"\u001b[90m, \u001b[39m\"0.17359\"\u001b[90m, \u001b[39m\"0\"\u001b[90m, \u001b[39m\"19.10017\"\u001b[90m, \u001b[39m\"0…\n",
            "$ `1990` \u001b[3m\u001b[90m<chr>\u001b[39m\u001b[23m \"20.5602\"\u001b[90m, \u001b[39m\"0\"\u001b[90m, \u001b[39m\"1.21338\"\u001b[90m, \u001b[39m\"0\"\u001b[90m, \u001b[39m\"0.1694\"\u001b[90m, \u001b[39m\"0\"\u001b[90m, \u001b[39m\"19.17742\"\u001b[90m, \u001b[39m\"0.5…\n",
            "$ `1991` \u001b[3m\u001b[90m<chr>\u001b[39m\u001b[23m \"20.4251\"\u001b[90m, \u001b[39m\"0\"\u001b[90m, \u001b[39m\"1.26457\"\u001b[90m, \u001b[39m\"0\"\u001b[90m, \u001b[39m\"0.15916\"\u001b[90m, \u001b[39m\"0\"\u001b[90m, \u001b[39m\"19.00137\"\u001b[90m, \u001b[39m\"0.…\n",
            "$ `1992` \u001b[3m\u001b[90m<chr>\u001b[39m\u001b[23m \"20.64672\"\u001b[90m, \u001b[39m\"0\"\u001b[90m, \u001b[39m\"1.32379\"\u001b[90m, \u001b[39m\"0\"\u001b[90m, \u001b[39m\"0.16584\"\u001b[90m, \u001b[39m\"0\"\u001b[90m, \u001b[39m\"19.15709\"\u001b[90m, \u001b[39m\"0…\n",
            "$ `1993` \u001b[3m\u001b[90m<chr>\u001b[39m\u001b[23m \"21.28219\"\u001b[90m, \u001b[39m\"0\"\u001b[90m, \u001b[39m\"1.22875\"\u001b[90m, \u001b[39m\"0\"\u001b[90m, \u001b[39m\"0.19118\"\u001b[90m, \u001b[39m\"0\"\u001b[90m, \u001b[39m\"19.86225\"\u001b[90m, \u001b[39m\"0…\n",
            "$ `1994` \u001b[3m\u001b[90m<chr>\u001b[39m\u001b[23m \"21.39631\"\u001b[90m, \u001b[39m\"0\"\u001b[90m, \u001b[39m\"1.24492\"\u001b[90m, \u001b[39m\"0\"\u001b[90m, \u001b[39m\"0.1836\"\u001b[90m, \u001b[39m\"0\"\u001b[90m, \u001b[39m\"19.96779\"\u001b[90m, \u001b[39m\"0.…\n",
            "$ `1995` \u001b[3m\u001b[90m<chr>\u001b[39m\u001b[23m \"21.64225\"\u001b[90m, \u001b[39m\"0\"\u001b[90m, \u001b[39m\"1.28479\"\u001b[90m, \u001b[39m\"0\"\u001b[90m, \u001b[39m\"0.20768\"\u001b[90m, \u001b[39m\"0\"\u001b[90m, \u001b[39m\"20.14978\"\u001b[90m, \u001b[39m\"0…\n",
            "$ `1996` \u001b[3m\u001b[90m<chr>\u001b[39m\u001b[23m \"22.57572\"\u001b[90m, \u001b[39m\"0\"\u001b[90m, \u001b[39m\"1.30032\"\u001b[90m, \u001b[39m\"0\"\u001b[90m, \u001b[39m\"0.25067\"\u001b[90m, \u001b[39m\"0\"\u001b[90m, \u001b[39m\"21.02473\"\u001b[90m, \u001b[39m\"0…\n",
            "$ `1997` \u001b[3m\u001b[90m<chr>\u001b[39m\u001b[23m \"23.20491\"\u001b[90m, \u001b[39m\"0\"\u001b[90m, \u001b[39m\"1.44933\"\u001b[90m, \u001b[39m\"0\"\u001b[90m, \u001b[39m\"0.26373\"\u001b[90m, \u001b[39m\"0\"\u001b[90m, \u001b[39m\"21.49186\"\u001b[90m, \u001b[39m\"0…\n",
            "$ `1998` \u001b[3m\u001b[90m<chr>\u001b[39m\u001b[23m \"23.5002\"\u001b[90m, \u001b[39m\"0\"\u001b[90m, \u001b[39m\"1.50985\"\u001b[90m, \u001b[39m\"0\"\u001b[90m, \u001b[39m\"0.26753\"\u001b[90m, \u001b[39m\"0\"\u001b[90m, \u001b[39m\"21.72283\"\u001b[90m, \u001b[39m\"0.…\n",
            "$ `1999` \u001b[3m\u001b[90m<chr>\u001b[39m\u001b[23m \"23.4747\"\u001b[90m, \u001b[39m\"0\"\u001b[90m, \u001b[39m\"1.505\"\u001b[90m, \u001b[39m\"0\"\u001b[90m, \u001b[39m\"0.28947\"\u001b[90m, \u001b[39m\"0\"\u001b[90m, \u001b[39m\"21.68023\"\u001b[90m, \u001b[39m\"0.77…\n",
            "$ `2000` \u001b[3m\u001b[90m<chr>\u001b[39m\u001b[23m \"24.55583\"\u001b[90m, \u001b[39m\"0\"\u001b[90m, \u001b[39m\"1.61651\"\u001b[90m, \u001b[39m\"0\"\u001b[90m, \u001b[39m\"0.29444\"\u001b[90m, \u001b[39m\"0\"\u001b[90m, \u001b[39m\"22.64488\"\u001b[90m, \u001b[39m\"0…\n",
            "$ `2001` \u001b[3m\u001b[90m<chr>\u001b[39m\u001b[23m \"23.62705\"\u001b[90m, \u001b[39m\"0\"\u001b[90m, \u001b[39m\"1.35444\"\u001b[90m, \u001b[39m\"0\"\u001b[90m, \u001b[39m\"0.32908\"\u001b[90m, \u001b[39m\"0\"\u001b[90m, \u001b[39m\"21.94353\"\u001b[90m, \u001b[39m\"0…\n",
            "$ `2002` \u001b[3m\u001b[90m<chr>\u001b[39m\u001b[23m \"23.69876\"\u001b[90m, \u001b[39m\"0\"\u001b[90m, \u001b[39m\"1.36876\"\u001b[90m, \u001b[39m\"0\"\u001b[90m, \u001b[39m\"0.36525\"\u001b[90m, \u001b[39m\"0\"\u001b[90m, \u001b[39m\"21.96475\"\u001b[90m, \u001b[39m\"0…\n",
            "$ `2003` \u001b[3m\u001b[90m<chr>\u001b[39m\u001b[23m \"24.17788\"\u001b[90m, \u001b[39m\"0\"\u001b[90m, \u001b[39m\"1.38766\"\u001b[90m, \u001b[39m\"0\"\u001b[90m, \u001b[39m\"0.41878\"\u001b[90m, \u001b[39m\"0\"\u001b[90m, \u001b[39m\"22.37144\"\u001b[90m, \u001b[39m\"0…\n",
            "$ `2004` \u001b[3m\u001b[90m<chr>\u001b[39m\u001b[23m \"24.36024\"\u001b[90m, \u001b[39m\"0\"\u001b[90m, \u001b[39m\"1.43684\"\u001b[90m, \u001b[39m\"0\"\u001b[90m, \u001b[39m\"0.31944\"\u001b[90m, \u001b[39m\"0\"\u001b[90m, \u001b[39m\"22.60396\"\u001b[90m, \u001b[39m\"0…\n",
            "$ `2005` \u001b[3m\u001b[90m<chr>\u001b[39m\u001b[23m \"24.6876\"\u001b[90m, \u001b[39m\"0\"\u001b[90m, \u001b[39m\"1.44948\"\u001b[90m, \u001b[39m\"0\"\u001b[90m, \u001b[39m\"0.39739\"\u001b[90m, \u001b[39m\"0\"\u001b[90m, \u001b[39m\"22.84073\"\u001b[90m, \u001b[39m\"0.…\n",
            "$ `2006` \u001b[3m\u001b[90m<chr>\u001b[39m\u001b[23m \"24.32174\"\u001b[90m, \u001b[39m\"0\"\u001b[90m, \u001b[39m\"1.42135\"\u001b[90m, \u001b[39m\"0\"\u001b[90m, \u001b[39m\"0.39244\"\u001b[90m, \u001b[39m\"0\"\u001b[90m, \u001b[39m\"22.50795\"\u001b[90m, \u001b[39m\"0…\n",
            "$ `2007` \u001b[3m\u001b[90m<chr>\u001b[39m\u001b[23m \"24.54746\"\u001b[90m, \u001b[39m\"0\"\u001b[90m, \u001b[39m\"1.38369\"\u001b[90m, \u001b[39m\"0\"\u001b[90m, \u001b[39m\"0.38911\"\u001b[90m, \u001b[39m\"0\"\u001b[90m, \u001b[39m\"22.77466\"\u001b[90m, \u001b[39m\"0…\n",
            "$ `2008` \u001b[3m\u001b[90m<chr>\u001b[39m\u001b[23m \"24.11993\"\u001b[90m, \u001b[39m\"0\"\u001b[90m, \u001b[39m\"1.37388\"\u001b[90m, \u001b[39m\"0\"\u001b[90m, \u001b[39m\"0.32008\"\u001b[90m, \u001b[39m\"0\"\u001b[90m, \u001b[39m\"22.42597\"\u001b[90m, \u001b[39m\"1…\n",
            "$ `2009` \u001b[3m\u001b[90m<chr>\u001b[39m\u001b[23m \"21.14803\"\u001b[90m, \u001b[39m\"0\"\u001b[90m, \u001b[39m\"1.14314\"\u001b[90m, \u001b[39m\"0\"\u001b[90m, \u001b[39m\"0.3365\"\u001b[90m, \u001b[39m\"0\"\u001b[90m, \u001b[39m\"19.66839\"\u001b[90m, \u001b[39m\"0.…\n"
          ]
        }
      ]
    },
    {
      "cell_type": "code",
      "source": [
        "# Rename the first column as region\n",
        "colnames(coal)[1] <- \"region\"\n",
        "summary(coal)\n"
      ],
      "metadata": {
        "colab": {
          "base_uri": "https://localhost:8080/",
          "height": 572
        },
        "id": "SDhGpXF1FG_r",
        "outputId": "4558624b-ed99-4c6c-c660-28e91a313d84"
      },
      "execution_count": 113,
      "outputs": [
        {
          "output_type": "display_data",
          "data": {
            "text/plain": [
              "    region              1980               1981               1982          \n",
              " Length:232         Length:232         Length:232         Length:232        \n",
              " Class :character   Class :character   Class :character   Class :character  \n",
              " Mode  :character   Mode  :character   Mode  :character   Mode  :character  \n",
              "     1983               1984               1985               1986          \n",
              " Length:232         Length:232         Length:232         Length:232        \n",
              " Class :character   Class :character   Class :character   Class :character  \n",
              " Mode  :character   Mode  :character   Mode  :character   Mode  :character  \n",
              "     1987               1988               1989               1990          \n",
              " Length:232         Length:232         Length:232         Length:232        \n",
              " Class :character   Class :character   Class :character   Class :character  \n",
              " Mode  :character   Mode  :character   Mode  :character   Mode  :character  \n",
              "     1991               1992               1993               1994          \n",
              " Length:232         Length:232         Length:232         Length:232        \n",
              " Class :character   Class :character   Class :character   Class :character  \n",
              " Mode  :character   Mode  :character   Mode  :character   Mode  :character  \n",
              "     1995               1996               1997               1998          \n",
              " Length:232         Length:232         Length:232         Length:232        \n",
              " Class :character   Class :character   Class :character   Class :character  \n",
              " Mode  :character   Mode  :character   Mode  :character   Mode  :character  \n",
              "     1999               2000               2001               2002          \n",
              " Length:232         Length:232         Length:232         Length:232        \n",
              " Class :character   Class :character   Class :character   Class :character  \n",
              " Mode  :character   Mode  :character   Mode  :character   Mode  :character  \n",
              "     2003               2004               2005               2006          \n",
              " Length:232         Length:232         Length:232         Length:232        \n",
              " Class :character   Class :character   Class :character   Class :character  \n",
              " Mode  :character   Mode  :character   Mode  :character   Mode  :character  \n",
              "     2007               2008               2009          \n",
              " Length:232         Length:232         Length:232        \n",
              " Class :character   Class :character   Class :character  \n",
              " Mode  :character   Mode  :character   Mode  :character  "
            ]
          },
          "metadata": {}
        }
      ]
    },
    {
      "cell_type": "code",
      "source": [
        "# Convert from a wide dataset to a long dataset using pivot_longer\n",
        "coal_long <- pivot_longer(coal, !region, names_to='year', values_to='coal_consumption')\n",
        "glimpse(coal_long)\n"
      ],
      "metadata": {
        "colab": {
          "base_uri": "https://localhost:8080/"
        },
        "id": "LHnP4_80FG8w",
        "outputId": "faa74089-24df-4f35-d8d1-7f889ce16ccd"
      },
      "execution_count": 114,
      "outputs": [
        {
          "output_type": "stream",
          "name": "stdout",
          "text": [
            "Rows: 6,960\n",
            "Columns: 3\n",
            "$ region           \u001b[3m\u001b[90m<chr>\u001b[39m\u001b[23m \"North America\"\u001b[90m, \u001b[39m\"North America\"\u001b[90m, \u001b[39m\"North America\"\u001b[90m, \u001b[39m\"N…\n",
            "$ year             \u001b[3m\u001b[90m<chr>\u001b[39m\u001b[23m \"1980\"\u001b[90m, \u001b[39m\"1981\"\u001b[90m, \u001b[39m\"1982\"\u001b[90m, \u001b[39m\"1983\"\u001b[90m, \u001b[39m\"1984\"\u001b[90m, \u001b[39m\"1985\"\u001b[90m, \u001b[39m\"1986…\n",
            "$ coal_consumption \u001b[3m\u001b[90m<chr>\u001b[39m\u001b[23m \"16.45179\"\u001b[90m, \u001b[39m\"16.98772\"\u001b[90m, \u001b[39m\"16.47546\"\u001b[90m, \u001b[39m\"17.12407\"\u001b[90m, \u001b[39m\"18.4…\n"
          ]
        }
      ]
    },
    {
      "cell_type": "code",
      "source": [
        "# Convert years to integers\n",
        "coal_long <- coal_long %>%mutate(year=as.integer(year))\n",
        "\n",
        "summary(coal_long)"
      ],
      "metadata": {
        "colab": {
          "base_uri": "https://localhost:8080/",
          "height": 139
        },
        "id": "FffljBfDGNfL",
        "outputId": "5ea95261-1c63-455d-e3f0-b9969896e67d"
      },
      "execution_count": 115,
      "outputs": [
        {
          "output_type": "display_data",
          "data": {
            "text/plain": [
              "    region               year      coal_consumption  \n",
              " Length:6960        Min.   :1980   Length:6960       \n",
              " Class :character   1st Qu.:1987   Class :character  \n",
              " Mode  :character   Median :1994   Mode  :character  \n",
              "                    Mean   :1994                     \n",
              "                    3rd Qu.:2002                     \n",
              "                    Max.   :2009                     "
            ]
          },
          "metadata": {}
        }
      ]
    },
    {
      "cell_type": "code",
      "source": [
        "# Convert coal consumption to numeric\n",
        "coal_long <- coal_long %>%mutate(coal_consumption=as.numeric(coal_consumption))\n",
        "\n",
        "summary(coal_long)"
      ],
      "metadata": {
        "colab": {
          "base_uri": "https://localhost:8080/",
          "height": 243
        },
        "id": "A_o9QWkQGNbv",
        "outputId": "e72c30ed-de24-4824-a1a7-6a22f5fb01fe"
      },
      "execution_count": 116,
      "outputs": [
        {
          "output_type": "stream",
          "name": "stderr",
          "text": [
            "Warning message:\n",
            "“\u001b[1m\u001b[22mThere was 1 warning in `mutate()`.\n",
            "\u001b[1m\u001b[22m\u001b[36mℹ\u001b[39m In argument: `coal_consumption = as.numeric(coal_consumption)`.\n",
            "Caused by warning:\n",
            "\u001b[33m!\u001b[39m NAs introduced by coercion”\n"
          ]
        },
        {
          "output_type": "display_data",
          "data": {
            "text/plain": [
              "    region               year      coal_consumption   \n",
              " Length:6960        Min.   :1980   Min.   : -0.00025  \n",
              " Class :character   1st Qu.:1987   1st Qu.:  0.00000  \n",
              " Mode  :character   Median :1994   Median :  0.00016  \n",
              "                    Mean   :1994   Mean   :  1.32555  \n",
              "                    3rd Qu.:2002   3rd Qu.:  0.07728  \n",
              "                    Max.   :2009   Max.   :138.82977  \n",
              "                                   NA's   :517        "
            ]
          },
          "metadata": {}
        }
      ]
    },
    {
      "cell_type": "code",
      "source": [
        "unique(coal_long$region)"
      ],
      "metadata": {
        "colab": {
          "base_uri": "https://localhost:8080/",
          "height": 243
        },
        "id": "H8taMHNHGNYh",
        "outputId": "f4331450-c054-4b5d-c82b-ed1d868c53ba"
      },
      "execution_count": 117,
      "outputs": [
        {
          "output_type": "display_data",
          "data": {
            "text/html": [
              "<style>\n",
              ".list-inline {list-style: none; margin:0; padding: 0}\n",
              ".list-inline>li {display: inline-block}\n",
              ".list-inline>li:not(:last-child)::after {content: \"\\00b7\"; padding: 0 .5ex}\n",
              "</style>\n",
              "<ol class=list-inline><li>'North America'</li><li>'Bermuda'</li><li>'Canada'</li><li>'Greenland'</li><li>'Mexico'</li><li>'Saint Pierre and Miquelon'</li><li>'United States'</li><li>'Central &amp; South America'</li><li>'Antarctica'</li><li>'Antigua and Barbuda'</li><li>'Argentina'</li><li>'Aruba'</li><li>'Bahamas, The'</li><li>'Barbados'</li><li>'Belize'</li><li>'Bolivia'</li><li>'Brazil'</li><li>'Cayman Islands'</li><li>'Chile'</li><li>'Colombia'</li><li>'Costa Rica'</li><li>'Cuba'</li><li>'Dominica'</li><li>'Dominican Republic'</li><li>'Ecuador'</li><li>'El Salvador'</li><li>'Falkland Islands (Islas Malvinas)'</li><li>'French Guiana'</li><li>'Grenada'</li><li>'Guadeloupe'</li><li>'Guatemala'</li><li>'Guyana'</li><li>'Haiti'</li><li>'Honduras'</li><li>'Jamaica'</li><li>'Martinique'</li><li>'Montserrat'</li><li>'Netherlands Antilles'</li><li>'Nicaragua'</li><li>'Panama'</li><li>'Paraguay'</li><li>'Peru'</li><li>'Puerto Rico'</li><li>'Saint Kitts and Nevis'</li><li>'Saint Lucia'</li><li>'Saint Vincent/Grenadines'</li><li>'Suriname'</li><li>'Trinidad and Tobago'</li><li>'Turks and Caicos Islands'</li><li>'Uruguay'</li><li>'Venezuela'</li><li><span style=white-space:pre-wrap>'Virgin Islands,  U.S.'</span></li><li>'Virgin Islands, British'</li><li>'Europe'</li><li>'Albania'</li><li>'Austria'</li><li>'Belgium'</li><li>'Bosnia and Herzegovina'</li><li>'Bulgaria'</li><li>'Croatia'</li><li>'Cyprus'</li><li>'Czech Republic'</li><li>'Denmark'</li><li>'Faroe Islands'</li><li>'Finland'</li><li>'Former Czechoslovakia'</li><li>'Former Serbia and Montenegro'</li><li>'Former Yugoslavia'</li><li>'France'</li><li>'Germany'</li><li>'Germany, East'</li><li>'Germany, West'</li><li>'Gibraltar'</li><li>'Greece'</li><li>'Hungary'</li><li>'Iceland'</li><li>'Ireland'</li><li>'Italy'</li><li>'Luxembourg'</li><li>'Macedonia'</li><li>'Malta'</li><li>'Montenegro'</li><li>'Netherlands'</li><li>'Norway'</li><li>'Poland'</li><li>'Portugal'</li><li>'Romania'</li><li>'Serbia'</li><li>'Slovakia'</li><li>'Slovenia'</li><li>'Spain'</li><li>'Sweden'</li><li>'Switzerland'</li><li>'Turkey'</li><li>'United Kingdom'</li><li>'Eurasia'</li><li>'Armenia'</li><li>'Azerbaijan'</li><li>'Belarus'</li><li>'Estonia'</li><li>'Former U.S.S.R.'</li><li>'Georgia'</li><li>'Kazakhstan'</li><li>'Kyrgyzstan'</li><li>'Latvia'</li><li>'Lithuania'</li><li>'Moldova'</li><li>'Russia'</li><li>'Tajikistan'</li><li>'Turkmenistan'</li><li>'Ukraine'</li><li>'Uzbekistan'</li><li>'Middle East'</li><li>'Bahrain'</li><li>'Iran'</li><li>'Iraq'</li><li>'Israel'</li><li>'Jordan'</li><li>'Kuwait'</li><li>'Lebanon'</li><li>'Oman'</li><li>'Palestine'</li><li>'Qatar'</li><li>'Saudi Arabia'</li><li>'Syria'</li><li>'United Arab Emirates'</li><li>'Yemen'</li><li>'Africa'</li><li>'Algeria'</li><li>'Angola'</li><li>'Benin'</li><li>'Botswana'</li><li>'Burkina Faso'</li><li>'Burundi'</li><li>'Cameroon'</li><li>'Cape Verde'</li><li>'Central African Republic'</li><li>'Chad'</li><li>'Comoros'</li><li>'Congo (Brazzaville)'</li><li>'Congo (Kinshasa)'</li><li>'Cote dIvoire (IvoryCoast)'</li><li>'Djibouti'</li><li>'Egypt'</li><li>'Equatorial Guinea'</li><li>'Eritrea'</li><li>'Ethiopia'</li><li>'Gabon'</li><li>'Gambia, The'</li><li>'Ghana'</li><li>'Guinea'</li><li>'Guinea-Bissau'</li><li>'Kenya'</li><li>'Lesotho'</li><li>'Liberia'</li><li>'Libya'</li><li>'Madagascar'</li><li>'Malawi'</li><li>'Mali'</li><li>'Mauritania'</li><li>'Mauritius'</li><li>'Morocco'</li><li>'Mozambique'</li><li>'Namibia'</li><li>'Niger'</li><li>'Nigeria'</li><li>'Reunion'</li><li>'Rwanda'</li><li>'Saint Helena'</li><li>'Sao Tome and Principe'</li><li>'Senegal'</li><li>'Seychelles'</li><li>'Sierra Leone'</li><li>'Somalia'</li><li>'South Africa'</li><li>'Sudan'</li><li>'Swaziland'</li><li>'Tanzania'</li><li>'Togo'</li><li>'Tunisia'</li><li>'Uganda'</li><li>'Western Sahara'</li><li>'Zambia'</li><li>'Zimbabwe'</li><li>'Asia &amp; Oceania'</li><li>'Afghanistan'</li><li>'American Samoa'</li><li>'Australia'</li><li>'Bangladesh'</li><li>'Bhutan'</li><li>'Brunei'</li><li>'Burma (Myanmar)'</li><li>'Cambodia'</li><li>'China'</li><li>'Cook Islands'</li><li>'Fiji'</li><li>'French Polynesia'</li><li>'Guam'</li><li>'Hawaiian Trade Zone'</li><li>'Hong Kong'</li><li>'India'</li><li>'Indonesia'</li><li>'Japan'</li><li>'Kiribati'</li><li>'Korea, North'</li><li>'Korea, South'</li><li>'Laos'</li><li>'Macau'</li><li>'Malaysia'</li><li>'Maldives'</li><li>'Mongolia'</li><li>'Nauru'</li><li>'Nepal'</li><li>'New Caledonia'</li><li>'New Zealand'</li><li>'Niue'</li><li>'Pakistan'</li><li>'Papua New Guinea'</li><li>'Philippines'</li><li>'Samoa'</li><li>'Singapore'</li><li>'Solomon Islands'</li><li>'Sri Lanka'</li><li>'Taiwan'</li><li>'Thailand'</li><li>'Timor-Leste (East Timor)'</li><li>'Tonga'</li><li>'U.S. Pacific Islands'</li><li>'Vanuatu'</li><li>'Vietnam'</li><li>'Wake Island'</li><li>'World'</li></ol>\n"
            ],
            "text/markdown": "1. 'North America'\n2. 'Bermuda'\n3. 'Canada'\n4. 'Greenland'\n5. 'Mexico'\n6. 'Saint Pierre and Miquelon'\n7. 'United States'\n8. 'Central &amp; South America'\n9. 'Antarctica'\n10. 'Antigua and Barbuda'\n11. 'Argentina'\n12. 'Aruba'\n13. 'Bahamas, The'\n14. 'Barbados'\n15. 'Belize'\n16. 'Bolivia'\n17. 'Brazil'\n18. 'Cayman Islands'\n19. 'Chile'\n20. 'Colombia'\n21. 'Costa Rica'\n22. 'Cuba'\n23. 'Dominica'\n24. 'Dominican Republic'\n25. 'Ecuador'\n26. 'El Salvador'\n27. 'Falkland Islands (Islas Malvinas)'\n28. 'French Guiana'\n29. 'Grenada'\n30. 'Guadeloupe'\n31. 'Guatemala'\n32. 'Guyana'\n33. 'Haiti'\n34. 'Honduras'\n35. 'Jamaica'\n36. 'Martinique'\n37. 'Montserrat'\n38. 'Netherlands Antilles'\n39. 'Nicaragua'\n40. 'Panama'\n41. 'Paraguay'\n42. 'Peru'\n43. 'Puerto Rico'\n44. 'Saint Kitts and Nevis'\n45. 'Saint Lucia'\n46. 'Saint Vincent/Grenadines'\n47. 'Suriname'\n48. 'Trinidad and Tobago'\n49. 'Turks and Caicos Islands'\n50. 'Uruguay'\n51. 'Venezuela'\n52. <span style=white-space:pre-wrap>'Virgin Islands,  U.S.'</span>\n53. 'Virgin Islands, British'\n54. 'Europe'\n55. 'Albania'\n56. 'Austria'\n57. 'Belgium'\n58. 'Bosnia and Herzegovina'\n59. 'Bulgaria'\n60. 'Croatia'\n61. 'Cyprus'\n62. 'Czech Republic'\n63. 'Denmark'\n64. 'Faroe Islands'\n65. 'Finland'\n66. 'Former Czechoslovakia'\n67. 'Former Serbia and Montenegro'\n68. 'Former Yugoslavia'\n69. 'France'\n70. 'Germany'\n71. 'Germany, East'\n72. 'Germany, West'\n73. 'Gibraltar'\n74. 'Greece'\n75. 'Hungary'\n76. 'Iceland'\n77. 'Ireland'\n78. 'Italy'\n79. 'Luxembourg'\n80. 'Macedonia'\n81. 'Malta'\n82. 'Montenegro'\n83. 'Netherlands'\n84. 'Norway'\n85. 'Poland'\n86. 'Portugal'\n87. 'Romania'\n88. 'Serbia'\n89. 'Slovakia'\n90. 'Slovenia'\n91. 'Spain'\n92. 'Sweden'\n93. 'Switzerland'\n94. 'Turkey'\n95. 'United Kingdom'\n96. 'Eurasia'\n97. 'Armenia'\n98. 'Azerbaijan'\n99. 'Belarus'\n100. 'Estonia'\n101. 'Former U.S.S.R.'\n102. 'Georgia'\n103. 'Kazakhstan'\n104. 'Kyrgyzstan'\n105. 'Latvia'\n106. 'Lithuania'\n107. 'Moldova'\n108. 'Russia'\n109. 'Tajikistan'\n110. 'Turkmenistan'\n111. 'Ukraine'\n112. 'Uzbekistan'\n113. 'Middle East'\n114. 'Bahrain'\n115. 'Iran'\n116. 'Iraq'\n117. 'Israel'\n118. 'Jordan'\n119. 'Kuwait'\n120. 'Lebanon'\n121. 'Oman'\n122. 'Palestine'\n123. 'Qatar'\n124. 'Saudi Arabia'\n125. 'Syria'\n126. 'United Arab Emirates'\n127. 'Yemen'\n128. 'Africa'\n129. 'Algeria'\n130. 'Angola'\n131. 'Benin'\n132. 'Botswana'\n133. 'Burkina Faso'\n134. 'Burundi'\n135. 'Cameroon'\n136. 'Cape Verde'\n137. 'Central African Republic'\n138. 'Chad'\n139. 'Comoros'\n140. 'Congo (Brazzaville)'\n141. 'Congo (Kinshasa)'\n142. 'Cote dIvoire (IvoryCoast)'\n143. 'Djibouti'\n144. 'Egypt'\n145. 'Equatorial Guinea'\n146. 'Eritrea'\n147. 'Ethiopia'\n148. 'Gabon'\n149. 'Gambia, The'\n150. 'Ghana'\n151. 'Guinea'\n152. 'Guinea-Bissau'\n153. 'Kenya'\n154. 'Lesotho'\n155. 'Liberia'\n156. 'Libya'\n157. 'Madagascar'\n158. 'Malawi'\n159. 'Mali'\n160. 'Mauritania'\n161. 'Mauritius'\n162. 'Morocco'\n163. 'Mozambique'\n164. 'Namibia'\n165. 'Niger'\n166. 'Nigeria'\n167. 'Reunion'\n168. 'Rwanda'\n169. 'Saint Helena'\n170. 'Sao Tome and Principe'\n171. 'Senegal'\n172. 'Seychelles'\n173. 'Sierra Leone'\n174. 'Somalia'\n175. 'South Africa'\n176. 'Sudan'\n177. 'Swaziland'\n178. 'Tanzania'\n179. 'Togo'\n180. 'Tunisia'\n181. 'Uganda'\n182. 'Western Sahara'\n183. 'Zambia'\n184. 'Zimbabwe'\n185. 'Asia &amp; Oceania'\n186. 'Afghanistan'\n187. 'American Samoa'\n188. 'Australia'\n189. 'Bangladesh'\n190. 'Bhutan'\n191. 'Brunei'\n192. 'Burma (Myanmar)'\n193. 'Cambodia'\n194. 'China'\n195. 'Cook Islands'\n196. 'Fiji'\n197. 'French Polynesia'\n198. 'Guam'\n199. 'Hawaiian Trade Zone'\n200. 'Hong Kong'\n201. 'India'\n202. 'Indonesia'\n203. 'Japan'\n204. 'Kiribati'\n205. 'Korea, North'\n206. 'Korea, South'\n207. 'Laos'\n208. 'Macau'\n209. 'Malaysia'\n210. 'Maldives'\n211. 'Mongolia'\n212. 'Nauru'\n213. 'Nepal'\n214. 'New Caledonia'\n215. 'New Zealand'\n216. 'Niue'\n217. 'Pakistan'\n218. 'Papua New Guinea'\n219. 'Philippines'\n220. 'Samoa'\n221. 'Singapore'\n222. 'Solomon Islands'\n223. 'Sri Lanka'\n224. 'Taiwan'\n225. 'Thailand'\n226. 'Timor-Leste (East Timor)'\n227. 'Tonga'\n228. 'U.S. Pacific Islands'\n229. 'Vanuatu'\n230. 'Vietnam'\n231. 'Wake Island'\n232. 'World'\n\n\n",
            "text/latex": "\\begin{enumerate*}\n\\item 'North America'\n\\item 'Bermuda'\n\\item 'Canada'\n\\item 'Greenland'\n\\item 'Mexico'\n\\item 'Saint Pierre and Miquelon'\n\\item 'United States'\n\\item 'Central \\& South America'\n\\item 'Antarctica'\n\\item 'Antigua and Barbuda'\n\\item 'Argentina'\n\\item 'Aruba'\n\\item 'Bahamas, The'\n\\item 'Barbados'\n\\item 'Belize'\n\\item 'Bolivia'\n\\item 'Brazil'\n\\item 'Cayman Islands'\n\\item 'Chile'\n\\item 'Colombia'\n\\item 'Costa Rica'\n\\item 'Cuba'\n\\item 'Dominica'\n\\item 'Dominican Republic'\n\\item 'Ecuador'\n\\item 'El Salvador'\n\\item 'Falkland Islands (Islas Malvinas)'\n\\item 'French Guiana'\n\\item 'Grenada'\n\\item 'Guadeloupe'\n\\item 'Guatemala'\n\\item 'Guyana'\n\\item 'Haiti'\n\\item 'Honduras'\n\\item 'Jamaica'\n\\item 'Martinique'\n\\item 'Montserrat'\n\\item 'Netherlands Antilles'\n\\item 'Nicaragua'\n\\item 'Panama'\n\\item 'Paraguay'\n\\item 'Peru'\n\\item 'Puerto Rico'\n\\item 'Saint Kitts and Nevis'\n\\item 'Saint Lucia'\n\\item 'Saint Vincent/Grenadines'\n\\item 'Suriname'\n\\item 'Trinidad and Tobago'\n\\item 'Turks and Caicos Islands'\n\\item 'Uruguay'\n\\item 'Venezuela'\n\\item 'Virgin Islands,  U.S.'\n\\item 'Virgin Islands, British'\n\\item 'Europe'\n\\item 'Albania'\n\\item 'Austria'\n\\item 'Belgium'\n\\item 'Bosnia and Herzegovina'\n\\item 'Bulgaria'\n\\item 'Croatia'\n\\item 'Cyprus'\n\\item 'Czech Republic'\n\\item 'Denmark'\n\\item 'Faroe Islands'\n\\item 'Finland'\n\\item 'Former Czechoslovakia'\n\\item 'Former Serbia and Montenegro'\n\\item 'Former Yugoslavia'\n\\item 'France'\n\\item 'Germany'\n\\item 'Germany, East'\n\\item 'Germany, West'\n\\item 'Gibraltar'\n\\item 'Greece'\n\\item 'Hungary'\n\\item 'Iceland'\n\\item 'Ireland'\n\\item 'Italy'\n\\item 'Luxembourg'\n\\item 'Macedonia'\n\\item 'Malta'\n\\item 'Montenegro'\n\\item 'Netherlands'\n\\item 'Norway'\n\\item 'Poland'\n\\item 'Portugal'\n\\item 'Romania'\n\\item 'Serbia'\n\\item 'Slovakia'\n\\item 'Slovenia'\n\\item 'Spain'\n\\item 'Sweden'\n\\item 'Switzerland'\n\\item 'Turkey'\n\\item 'United Kingdom'\n\\item 'Eurasia'\n\\item 'Armenia'\n\\item 'Azerbaijan'\n\\item 'Belarus'\n\\item 'Estonia'\n\\item 'Former U.S.S.R.'\n\\item 'Georgia'\n\\item 'Kazakhstan'\n\\item 'Kyrgyzstan'\n\\item 'Latvia'\n\\item 'Lithuania'\n\\item 'Moldova'\n\\item 'Russia'\n\\item 'Tajikistan'\n\\item 'Turkmenistan'\n\\item 'Ukraine'\n\\item 'Uzbekistan'\n\\item 'Middle East'\n\\item 'Bahrain'\n\\item 'Iran'\n\\item 'Iraq'\n\\item 'Israel'\n\\item 'Jordan'\n\\item 'Kuwait'\n\\item 'Lebanon'\n\\item 'Oman'\n\\item 'Palestine'\n\\item 'Qatar'\n\\item 'Saudi Arabia'\n\\item 'Syria'\n\\item 'United Arab Emirates'\n\\item 'Yemen'\n\\item 'Africa'\n\\item 'Algeria'\n\\item 'Angola'\n\\item 'Benin'\n\\item 'Botswana'\n\\item 'Burkina Faso'\n\\item 'Burundi'\n\\item 'Cameroon'\n\\item 'Cape Verde'\n\\item 'Central African Republic'\n\\item 'Chad'\n\\item 'Comoros'\n\\item 'Congo (Brazzaville)'\n\\item 'Congo (Kinshasa)'\n\\item 'Cote dIvoire (IvoryCoast)'\n\\item 'Djibouti'\n\\item 'Egypt'\n\\item 'Equatorial Guinea'\n\\item 'Eritrea'\n\\item 'Ethiopia'\n\\item 'Gabon'\n\\item 'Gambia, The'\n\\item 'Ghana'\n\\item 'Guinea'\n\\item 'Guinea-Bissau'\n\\item 'Kenya'\n\\item 'Lesotho'\n\\item 'Liberia'\n\\item 'Libya'\n\\item 'Madagascar'\n\\item 'Malawi'\n\\item 'Mali'\n\\item 'Mauritania'\n\\item 'Mauritius'\n\\item 'Morocco'\n\\item 'Mozambique'\n\\item 'Namibia'\n\\item 'Niger'\n\\item 'Nigeria'\n\\item 'Reunion'\n\\item 'Rwanda'\n\\item 'Saint Helena'\n\\item 'Sao Tome and Principe'\n\\item 'Senegal'\n\\item 'Seychelles'\n\\item 'Sierra Leone'\n\\item 'Somalia'\n\\item 'South Africa'\n\\item 'Sudan'\n\\item 'Swaziland'\n\\item 'Tanzania'\n\\item 'Togo'\n\\item 'Tunisia'\n\\item 'Uganda'\n\\item 'Western Sahara'\n\\item 'Zambia'\n\\item 'Zimbabwe'\n\\item 'Asia \\& Oceania'\n\\item 'Afghanistan'\n\\item 'American Samoa'\n\\item 'Australia'\n\\item 'Bangladesh'\n\\item 'Bhutan'\n\\item 'Brunei'\n\\item 'Burma (Myanmar)'\n\\item 'Cambodia'\n\\item 'China'\n\\item 'Cook Islands'\n\\item 'Fiji'\n\\item 'French Polynesia'\n\\item 'Guam'\n\\item 'Hawaiian Trade Zone'\n\\item 'Hong Kong'\n\\item 'India'\n\\item 'Indonesia'\n\\item 'Japan'\n\\item 'Kiribati'\n\\item 'Korea, North'\n\\item 'Korea, South'\n\\item 'Laos'\n\\item 'Macau'\n\\item 'Malaysia'\n\\item 'Maldives'\n\\item 'Mongolia'\n\\item 'Nauru'\n\\item 'Nepal'\n\\item 'New Caledonia'\n\\item 'New Zealand'\n\\item 'Niue'\n\\item 'Pakistan'\n\\item 'Papua New Guinea'\n\\item 'Philippines'\n\\item 'Samoa'\n\\item 'Singapore'\n\\item 'Solomon Islands'\n\\item 'Sri Lanka'\n\\item 'Taiwan'\n\\item 'Thailand'\n\\item 'Timor-Leste (East Timor)'\n\\item 'Tonga'\n\\item 'U.S. Pacific Islands'\n\\item 'Vanuatu'\n\\item 'Vietnam'\n\\item 'Wake Island'\n\\item 'World'\n\\end{enumerate*}\n",
            "text/plain": [
              "  [1] \"North America\"                     \"Bermuda\"                          \n",
              "  [3] \"Canada\"                            \"Greenland\"                        \n",
              "  [5] \"Mexico\"                            \"Saint Pierre and Miquelon\"        \n",
              "  [7] \"United States\"                     \"Central & South America\"          \n",
              "  [9] \"Antarctica\"                        \"Antigua and Barbuda\"              \n",
              " [11] \"Argentina\"                         \"Aruba\"                            \n",
              " [13] \"Bahamas, The\"                      \"Barbados\"                         \n",
              " [15] \"Belize\"                            \"Bolivia\"                          \n",
              " [17] \"Brazil\"                            \"Cayman Islands\"                   \n",
              " [19] \"Chile\"                             \"Colombia\"                         \n",
              " [21] \"Costa Rica\"                        \"Cuba\"                             \n",
              " [23] \"Dominica\"                          \"Dominican Republic\"               \n",
              " [25] \"Ecuador\"                           \"El Salvador\"                      \n",
              " [27] \"Falkland Islands (Islas Malvinas)\" \"French Guiana\"                    \n",
              " [29] \"Grenada\"                           \"Guadeloupe\"                       \n",
              " [31] \"Guatemala\"                         \"Guyana\"                           \n",
              " [33] \"Haiti\"                             \"Honduras\"                         \n",
              " [35] \"Jamaica\"                           \"Martinique\"                       \n",
              " [37] \"Montserrat\"                        \"Netherlands Antilles\"             \n",
              " [39] \"Nicaragua\"                         \"Panama\"                           \n",
              " [41] \"Paraguay\"                          \"Peru\"                             \n",
              " [43] \"Puerto Rico\"                       \"Saint Kitts and Nevis\"            \n",
              " [45] \"Saint Lucia\"                       \"Saint Vincent/Grenadines\"         \n",
              " [47] \"Suriname\"                          \"Trinidad and Tobago\"              \n",
              " [49] \"Turks and Caicos Islands\"          \"Uruguay\"                          \n",
              " [51] \"Venezuela\"                         \"Virgin Islands,  U.S.\"            \n",
              " [53] \"Virgin Islands, British\"           \"Europe\"                           \n",
              " [55] \"Albania\"                           \"Austria\"                          \n",
              " [57] \"Belgium\"                           \"Bosnia and Herzegovina\"           \n",
              " [59] \"Bulgaria\"                          \"Croatia\"                          \n",
              " [61] \"Cyprus\"                            \"Czech Republic\"                   \n",
              " [63] \"Denmark\"                           \"Faroe Islands\"                    \n",
              " [65] \"Finland\"                           \"Former Czechoslovakia\"            \n",
              " [67] \"Former Serbia and Montenegro\"      \"Former Yugoslavia\"                \n",
              " [69] \"France\"                            \"Germany\"                          \n",
              " [71] \"Germany, East\"                     \"Germany, West\"                    \n",
              " [73] \"Gibraltar\"                         \"Greece\"                           \n",
              " [75] \"Hungary\"                           \"Iceland\"                          \n",
              " [77] \"Ireland\"                           \"Italy\"                            \n",
              " [79] \"Luxembourg\"                        \"Macedonia\"                        \n",
              " [81] \"Malta\"                             \"Montenegro\"                       \n",
              " [83] \"Netherlands\"                       \"Norway\"                           \n",
              " [85] \"Poland\"                            \"Portugal\"                         \n",
              " [87] \"Romania\"                           \"Serbia\"                           \n",
              " [89] \"Slovakia\"                          \"Slovenia\"                         \n",
              " [91] \"Spain\"                             \"Sweden\"                           \n",
              " [93] \"Switzerland\"                       \"Turkey\"                           \n",
              " [95] \"United Kingdom\"                    \"Eurasia\"                          \n",
              " [97] \"Armenia\"                           \"Azerbaijan\"                       \n",
              " [99] \"Belarus\"                           \"Estonia\"                          \n",
              "[101] \"Former U.S.S.R.\"                   \"Georgia\"                          \n",
              "[103] \"Kazakhstan\"                        \"Kyrgyzstan\"                       \n",
              "[105] \"Latvia\"                            \"Lithuania\"                        \n",
              "[107] \"Moldova\"                           \"Russia\"                           \n",
              "[109] \"Tajikistan\"                        \"Turkmenistan\"                     \n",
              "[111] \"Ukraine\"                           \"Uzbekistan\"                       \n",
              "[113] \"Middle East\"                       \"Bahrain\"                          \n",
              "[115] \"Iran\"                              \"Iraq\"                             \n",
              "[117] \"Israel\"                            \"Jordan\"                           \n",
              "[119] \"Kuwait\"                            \"Lebanon\"                          \n",
              "[121] \"Oman\"                              \"Palestine\"                        \n",
              "[123] \"Qatar\"                             \"Saudi Arabia\"                     \n",
              "[125] \"Syria\"                             \"United Arab Emirates\"             \n",
              "[127] \"Yemen\"                             \"Africa\"                           \n",
              "[129] \"Algeria\"                           \"Angola\"                           \n",
              "[131] \"Benin\"                             \"Botswana\"                         \n",
              "[133] \"Burkina Faso\"                      \"Burundi\"                          \n",
              "[135] \"Cameroon\"                          \"Cape Verde\"                       \n",
              "[137] \"Central African Republic\"          \"Chad\"                             \n",
              "[139] \"Comoros\"                           \"Congo (Brazzaville)\"              \n",
              "[141] \"Congo (Kinshasa)\"                  \"Cote dIvoire (IvoryCoast)\"        \n",
              "[143] \"Djibouti\"                          \"Egypt\"                            \n",
              "[145] \"Equatorial Guinea\"                 \"Eritrea\"                          \n",
              "[147] \"Ethiopia\"                          \"Gabon\"                            \n",
              "[149] \"Gambia, The\"                       \"Ghana\"                            \n",
              "[151] \"Guinea\"                            \"Guinea-Bissau\"                    \n",
              "[153] \"Kenya\"                             \"Lesotho\"                          \n",
              "[155] \"Liberia\"                           \"Libya\"                            \n",
              "[157] \"Madagascar\"                        \"Malawi\"                           \n",
              "[159] \"Mali\"                              \"Mauritania\"                       \n",
              "[161] \"Mauritius\"                         \"Morocco\"                          \n",
              "[163] \"Mozambique\"                        \"Namibia\"                          \n",
              "[165] \"Niger\"                             \"Nigeria\"                          \n",
              "[167] \"Reunion\"                           \"Rwanda\"                           \n",
              "[169] \"Saint Helena\"                      \"Sao Tome and Principe\"            \n",
              "[171] \"Senegal\"                           \"Seychelles\"                       \n",
              "[173] \"Sierra Leone\"                      \"Somalia\"                          \n",
              "[175] \"South Africa\"                      \"Sudan\"                            \n",
              "[177] \"Swaziland\"                         \"Tanzania\"                         \n",
              "[179] \"Togo\"                              \"Tunisia\"                          \n",
              "[181] \"Uganda\"                            \"Western Sahara\"                   \n",
              "[183] \"Zambia\"                            \"Zimbabwe\"                         \n",
              "[185] \"Asia & Oceania\"                    \"Afghanistan\"                      \n",
              "[187] \"American Samoa\"                    \"Australia\"                        \n",
              "[189] \"Bangladesh\"                        \"Bhutan\"                           \n",
              "[191] \"Brunei\"                            \"Burma (Myanmar)\"                  \n",
              "[193] \"Cambodia\"                          \"China\"                            \n",
              "[195] \"Cook Islands\"                      \"Fiji\"                             \n",
              "[197] \"French Polynesia\"                  \"Guam\"                             \n",
              "[199] \"Hawaiian Trade Zone\"               \"Hong Kong\"                        \n",
              "[201] \"India\"                             \"Indonesia\"                        \n",
              "[203] \"Japan\"                             \"Kiribati\"                         \n",
              "[205] \"Korea, North\"                      \"Korea, South\"                     \n",
              "[207] \"Laos\"                              \"Macau\"                            \n",
              "[209] \"Malaysia\"                          \"Maldives\"                         \n",
              "[211] \"Mongolia\"                          \"Nauru\"                            \n",
              "[213] \"Nepal\"                             \"New Caledonia\"                    \n",
              "[215] \"New Zealand\"                       \"Niue\"                             \n",
              "[217] \"Pakistan\"                          \"Papua New Guinea\"                 \n",
              "[219] \"Philippines\"                       \"Samoa\"                            \n",
              "[221] \"Singapore\"                         \"Solomon Islands\"                  \n",
              "[223] \"Sri Lanka\"                         \"Taiwan\"                           \n",
              "[225] \"Thailand\"                          \"Timor-Leste (East Timor)\"         \n",
              "[227] \"Tonga\"                             \"U.S. Pacific Islands\"             \n",
              "[229] \"Vanuatu\"                           \"Vietnam\"                          \n",
              "[231] \"Wake Island\"                       \"World\"                            "
            ]
          },
          "metadata": {}
        }
      ]
    },
    {
      "cell_type": "code",
      "source": [
        "noncountries <- c(\"North America\", \"Central & South America\", \"Antarctica\", \"Europe\", \"Eurasia\",\n",
        "                  \"Middle East\", \"Africa\", \"Asia & Oceania\", \"World\")"
      ],
      "metadata": {
        "id": "RPnOoSEjGNVf"
      },
      "execution_count": 118,
      "outputs": []
    },
    {
      "cell_type": "code",
      "source": [
        "\n",
        "# create a tibble of regional values\n",
        "coal_region <- coal_long %>% filter(region %in% noncountries)"
      ],
      "metadata": {
        "id": "UB4jxWUNGNSZ"
      },
      "execution_count": 119,
      "outputs": []
    },
    {
      "cell_type": "code",
      "source": [
        "# create a tibble of country values\n",
        "coal_country <- coal_long %>% filter(!(region %in% noncountries))\n"
      ],
      "metadata": {
        "id": "DvJxoElCGNPk"
      },
      "execution_count": 120,
      "outputs": []
    },
    {
      "cell_type": "code",
      "source": [
        "# check them out\n",
        "unique(coal_region$region)\n",
        "unique(coal_country$region)"
      ],
      "metadata": {
        "colab": {
          "base_uri": "https://localhost:8080/",
          "height": 243
        },
        "id": "uCGQGl6cGNMh",
        "outputId": "fbc9a511-b51f-4aaf-b393-34f53cac42bd"
      },
      "execution_count": 121,
      "outputs": [
        {
          "output_type": "display_data",
          "data": {
            "text/html": [
              "<style>\n",
              ".list-inline {list-style: none; margin:0; padding: 0}\n",
              ".list-inline>li {display: inline-block}\n",
              ".list-inline>li:not(:last-child)::after {content: \"\\00b7\"; padding: 0 .5ex}\n",
              "</style>\n",
              "<ol class=list-inline><li>'North America'</li><li>'Central &amp; South America'</li><li>'Antarctica'</li><li>'Europe'</li><li>'Eurasia'</li><li>'Middle East'</li><li>'Africa'</li><li>'Asia &amp; Oceania'</li><li>'World'</li></ol>\n"
            ],
            "text/markdown": "1. 'North America'\n2. 'Central &amp; South America'\n3. 'Antarctica'\n4. 'Europe'\n5. 'Eurasia'\n6. 'Middle East'\n7. 'Africa'\n8. 'Asia &amp; Oceania'\n9. 'World'\n\n\n",
            "text/latex": "\\begin{enumerate*}\n\\item 'North America'\n\\item 'Central \\& South America'\n\\item 'Antarctica'\n\\item 'Europe'\n\\item 'Eurasia'\n\\item 'Middle East'\n\\item 'Africa'\n\\item 'Asia \\& Oceania'\n\\item 'World'\n\\end{enumerate*}\n",
            "text/plain": [
              "[1] \"North America\"           \"Central & South America\"\n",
              "[3] \"Antarctica\"              \"Europe\"                 \n",
              "[5] \"Eurasia\"                 \"Middle East\"            \n",
              "[7] \"Africa\"                  \"Asia & Oceania\"         \n",
              "[9] \"World\"                  "
            ]
          },
          "metadata": {}
        },
        {
          "output_type": "display_data",
          "data": {
            "text/html": [
              "<style>\n",
              ".list-inline {list-style: none; margin:0; padding: 0}\n",
              ".list-inline>li {display: inline-block}\n",
              ".list-inline>li:not(:last-child)::after {content: \"\\00b7\"; padding: 0 .5ex}\n",
              "</style>\n",
              "<ol class=list-inline><li>'Bermuda'</li><li>'Canada'</li><li>'Greenland'</li><li>'Mexico'</li><li>'Saint Pierre and Miquelon'</li><li>'United States'</li><li>'Antigua and Barbuda'</li><li>'Argentina'</li><li>'Aruba'</li><li>'Bahamas, The'</li><li>'Barbados'</li><li>'Belize'</li><li>'Bolivia'</li><li>'Brazil'</li><li>'Cayman Islands'</li><li>'Chile'</li><li>'Colombia'</li><li>'Costa Rica'</li><li>'Cuba'</li><li>'Dominica'</li><li>'Dominican Republic'</li><li>'Ecuador'</li><li>'El Salvador'</li><li>'Falkland Islands (Islas Malvinas)'</li><li>'French Guiana'</li><li>'Grenada'</li><li>'Guadeloupe'</li><li>'Guatemala'</li><li>'Guyana'</li><li>'Haiti'</li><li>'Honduras'</li><li>'Jamaica'</li><li>'Martinique'</li><li>'Montserrat'</li><li>'Netherlands Antilles'</li><li>'Nicaragua'</li><li>'Panama'</li><li>'Paraguay'</li><li>'Peru'</li><li>'Puerto Rico'</li><li>'Saint Kitts and Nevis'</li><li>'Saint Lucia'</li><li>'Saint Vincent/Grenadines'</li><li>'Suriname'</li><li>'Trinidad and Tobago'</li><li>'Turks and Caicos Islands'</li><li>'Uruguay'</li><li>'Venezuela'</li><li><span style=white-space:pre-wrap>'Virgin Islands,  U.S.'</span></li><li>'Virgin Islands, British'</li><li>'Albania'</li><li>'Austria'</li><li>'Belgium'</li><li>'Bosnia and Herzegovina'</li><li>'Bulgaria'</li><li>'Croatia'</li><li>'Cyprus'</li><li>'Czech Republic'</li><li>'Denmark'</li><li>'Faroe Islands'</li><li>'Finland'</li><li>'Former Czechoslovakia'</li><li>'Former Serbia and Montenegro'</li><li>'Former Yugoslavia'</li><li>'France'</li><li>'Germany'</li><li>'Germany, East'</li><li>'Germany, West'</li><li>'Gibraltar'</li><li>'Greece'</li><li>'Hungary'</li><li>'Iceland'</li><li>'Ireland'</li><li>'Italy'</li><li>'Luxembourg'</li><li>'Macedonia'</li><li>'Malta'</li><li>'Montenegro'</li><li>'Netherlands'</li><li>'Norway'</li><li>'Poland'</li><li>'Portugal'</li><li>'Romania'</li><li>'Serbia'</li><li>'Slovakia'</li><li>'Slovenia'</li><li>'Spain'</li><li>'Sweden'</li><li>'Switzerland'</li><li>'Turkey'</li><li>'United Kingdom'</li><li>'Armenia'</li><li>'Azerbaijan'</li><li>'Belarus'</li><li>'Estonia'</li><li>'Former U.S.S.R.'</li><li>'Georgia'</li><li>'Kazakhstan'</li><li>'Kyrgyzstan'</li><li>'Latvia'</li><li>'Lithuania'</li><li>'Moldova'</li><li>'Russia'</li><li>'Tajikistan'</li><li>'Turkmenistan'</li><li>'Ukraine'</li><li>'Uzbekistan'</li><li>'Bahrain'</li><li>'Iran'</li><li>'Iraq'</li><li>'Israel'</li><li>'Jordan'</li><li>'Kuwait'</li><li>'Lebanon'</li><li>'Oman'</li><li>'Palestine'</li><li>'Qatar'</li><li>'Saudi Arabia'</li><li>'Syria'</li><li>'United Arab Emirates'</li><li>'Yemen'</li><li>'Algeria'</li><li>'Angola'</li><li>'Benin'</li><li>'Botswana'</li><li>'Burkina Faso'</li><li>'Burundi'</li><li>'Cameroon'</li><li>'Cape Verde'</li><li>'Central African Republic'</li><li>'Chad'</li><li>'Comoros'</li><li>'Congo (Brazzaville)'</li><li>'Congo (Kinshasa)'</li><li>'Cote dIvoire (IvoryCoast)'</li><li>'Djibouti'</li><li>'Egypt'</li><li>'Equatorial Guinea'</li><li>'Eritrea'</li><li>'Ethiopia'</li><li>'Gabon'</li><li>'Gambia, The'</li><li>'Ghana'</li><li>'Guinea'</li><li>'Guinea-Bissau'</li><li>'Kenya'</li><li>'Lesotho'</li><li>'Liberia'</li><li>'Libya'</li><li>'Madagascar'</li><li>'Malawi'</li><li>'Mali'</li><li>'Mauritania'</li><li>'Mauritius'</li><li>'Morocco'</li><li>'Mozambique'</li><li>'Namibia'</li><li>'Niger'</li><li>'Nigeria'</li><li>'Reunion'</li><li>'Rwanda'</li><li>'Saint Helena'</li><li>'Sao Tome and Principe'</li><li>'Senegal'</li><li>'Seychelles'</li><li>'Sierra Leone'</li><li>'Somalia'</li><li>'South Africa'</li><li>'Sudan'</li><li>'Swaziland'</li><li>'Tanzania'</li><li>'Togo'</li><li>'Tunisia'</li><li>'Uganda'</li><li>'Western Sahara'</li><li>'Zambia'</li><li>'Zimbabwe'</li><li>'Afghanistan'</li><li>'American Samoa'</li><li>'Australia'</li><li>'Bangladesh'</li><li>'Bhutan'</li><li>'Brunei'</li><li>'Burma (Myanmar)'</li><li>'Cambodia'</li><li>'China'</li><li>'Cook Islands'</li><li>'Fiji'</li><li>'French Polynesia'</li><li>'Guam'</li><li>'Hawaiian Trade Zone'</li><li>'Hong Kong'</li><li>'India'</li><li>'Indonesia'</li><li>'Japan'</li><li>'Kiribati'</li><li>'Korea, North'</li><li>'Korea, South'</li><li>'Laos'</li><li>'Macau'</li><li>'Malaysia'</li><li>'Maldives'</li><li>'Mongolia'</li><li>'Nauru'</li><li>'Nepal'</li><li>'New Caledonia'</li><li>'New Zealand'</li><li>'Niue'</li><li>'Pakistan'</li><li>'Papua New Guinea'</li><li>'Philippines'</li><li>'Samoa'</li><li>'Singapore'</li><li>'Solomon Islands'</li><li>'Sri Lanka'</li><li>'Taiwan'</li><li>'Thailand'</li><li>'Timor-Leste (East Timor)'</li><li>'Tonga'</li><li>'U.S. Pacific Islands'</li><li>'Vanuatu'</li><li>'Vietnam'</li><li>'Wake Island'</li></ol>\n"
            ],
            "text/markdown": "1. 'Bermuda'\n2. 'Canada'\n3. 'Greenland'\n4. 'Mexico'\n5. 'Saint Pierre and Miquelon'\n6. 'United States'\n7. 'Antigua and Barbuda'\n8. 'Argentina'\n9. 'Aruba'\n10. 'Bahamas, The'\n11. 'Barbados'\n12. 'Belize'\n13. 'Bolivia'\n14. 'Brazil'\n15. 'Cayman Islands'\n16. 'Chile'\n17. 'Colombia'\n18. 'Costa Rica'\n19. 'Cuba'\n20. 'Dominica'\n21. 'Dominican Republic'\n22. 'Ecuador'\n23. 'El Salvador'\n24. 'Falkland Islands (Islas Malvinas)'\n25. 'French Guiana'\n26. 'Grenada'\n27. 'Guadeloupe'\n28. 'Guatemala'\n29. 'Guyana'\n30. 'Haiti'\n31. 'Honduras'\n32. 'Jamaica'\n33. 'Martinique'\n34. 'Montserrat'\n35. 'Netherlands Antilles'\n36. 'Nicaragua'\n37. 'Panama'\n38. 'Paraguay'\n39. 'Peru'\n40. 'Puerto Rico'\n41. 'Saint Kitts and Nevis'\n42. 'Saint Lucia'\n43. 'Saint Vincent/Grenadines'\n44. 'Suriname'\n45. 'Trinidad and Tobago'\n46. 'Turks and Caicos Islands'\n47. 'Uruguay'\n48. 'Venezuela'\n49. <span style=white-space:pre-wrap>'Virgin Islands,  U.S.'</span>\n50. 'Virgin Islands, British'\n51. 'Albania'\n52. 'Austria'\n53. 'Belgium'\n54. 'Bosnia and Herzegovina'\n55. 'Bulgaria'\n56. 'Croatia'\n57. 'Cyprus'\n58. 'Czech Republic'\n59. 'Denmark'\n60. 'Faroe Islands'\n61. 'Finland'\n62. 'Former Czechoslovakia'\n63. 'Former Serbia and Montenegro'\n64. 'Former Yugoslavia'\n65. 'France'\n66. 'Germany'\n67. 'Germany, East'\n68. 'Germany, West'\n69. 'Gibraltar'\n70. 'Greece'\n71. 'Hungary'\n72. 'Iceland'\n73. 'Ireland'\n74. 'Italy'\n75. 'Luxembourg'\n76. 'Macedonia'\n77. 'Malta'\n78. 'Montenegro'\n79. 'Netherlands'\n80. 'Norway'\n81. 'Poland'\n82. 'Portugal'\n83. 'Romania'\n84. 'Serbia'\n85. 'Slovakia'\n86. 'Slovenia'\n87. 'Spain'\n88. 'Sweden'\n89. 'Switzerland'\n90. 'Turkey'\n91. 'United Kingdom'\n92. 'Armenia'\n93. 'Azerbaijan'\n94. 'Belarus'\n95. 'Estonia'\n96. 'Former U.S.S.R.'\n97. 'Georgia'\n98. 'Kazakhstan'\n99. 'Kyrgyzstan'\n100. 'Latvia'\n101. 'Lithuania'\n102. 'Moldova'\n103. 'Russia'\n104. 'Tajikistan'\n105. 'Turkmenistan'\n106. 'Ukraine'\n107. 'Uzbekistan'\n108. 'Bahrain'\n109. 'Iran'\n110. 'Iraq'\n111. 'Israel'\n112. 'Jordan'\n113. 'Kuwait'\n114. 'Lebanon'\n115. 'Oman'\n116. 'Palestine'\n117. 'Qatar'\n118. 'Saudi Arabia'\n119. 'Syria'\n120. 'United Arab Emirates'\n121. 'Yemen'\n122. 'Algeria'\n123. 'Angola'\n124. 'Benin'\n125. 'Botswana'\n126. 'Burkina Faso'\n127. 'Burundi'\n128. 'Cameroon'\n129. 'Cape Verde'\n130. 'Central African Republic'\n131. 'Chad'\n132. 'Comoros'\n133. 'Congo (Brazzaville)'\n134. 'Congo (Kinshasa)'\n135. 'Cote dIvoire (IvoryCoast)'\n136. 'Djibouti'\n137. 'Egypt'\n138. 'Equatorial Guinea'\n139. 'Eritrea'\n140. 'Ethiopia'\n141. 'Gabon'\n142. 'Gambia, The'\n143. 'Ghana'\n144. 'Guinea'\n145. 'Guinea-Bissau'\n146. 'Kenya'\n147. 'Lesotho'\n148. 'Liberia'\n149. 'Libya'\n150. 'Madagascar'\n151. 'Malawi'\n152. 'Mali'\n153. 'Mauritania'\n154. 'Mauritius'\n155. 'Morocco'\n156. 'Mozambique'\n157. 'Namibia'\n158. 'Niger'\n159. 'Nigeria'\n160. 'Reunion'\n161. 'Rwanda'\n162. 'Saint Helena'\n163. 'Sao Tome and Principe'\n164. 'Senegal'\n165. 'Seychelles'\n166. 'Sierra Leone'\n167. 'Somalia'\n168. 'South Africa'\n169. 'Sudan'\n170. 'Swaziland'\n171. 'Tanzania'\n172. 'Togo'\n173. 'Tunisia'\n174. 'Uganda'\n175. 'Western Sahara'\n176. 'Zambia'\n177. 'Zimbabwe'\n178. 'Afghanistan'\n179. 'American Samoa'\n180. 'Australia'\n181. 'Bangladesh'\n182. 'Bhutan'\n183. 'Brunei'\n184. 'Burma (Myanmar)'\n185. 'Cambodia'\n186. 'China'\n187. 'Cook Islands'\n188. 'Fiji'\n189. 'French Polynesia'\n190. 'Guam'\n191. 'Hawaiian Trade Zone'\n192. 'Hong Kong'\n193. 'India'\n194. 'Indonesia'\n195. 'Japan'\n196. 'Kiribati'\n197. 'Korea, North'\n198. 'Korea, South'\n199. 'Laos'\n200. 'Macau'\n201. 'Malaysia'\n202. 'Maldives'\n203. 'Mongolia'\n204. 'Nauru'\n205. 'Nepal'\n206. 'New Caledonia'\n207. 'New Zealand'\n208. 'Niue'\n209. 'Pakistan'\n210. 'Papua New Guinea'\n211. 'Philippines'\n212. 'Samoa'\n213. 'Singapore'\n214. 'Solomon Islands'\n215. 'Sri Lanka'\n216. 'Taiwan'\n217. 'Thailand'\n218. 'Timor-Leste (East Timor)'\n219. 'Tonga'\n220. 'U.S. Pacific Islands'\n221. 'Vanuatu'\n222. 'Vietnam'\n223. 'Wake Island'\n\n\n",
            "text/latex": "\\begin{enumerate*}\n\\item 'Bermuda'\n\\item 'Canada'\n\\item 'Greenland'\n\\item 'Mexico'\n\\item 'Saint Pierre and Miquelon'\n\\item 'United States'\n\\item 'Antigua and Barbuda'\n\\item 'Argentina'\n\\item 'Aruba'\n\\item 'Bahamas, The'\n\\item 'Barbados'\n\\item 'Belize'\n\\item 'Bolivia'\n\\item 'Brazil'\n\\item 'Cayman Islands'\n\\item 'Chile'\n\\item 'Colombia'\n\\item 'Costa Rica'\n\\item 'Cuba'\n\\item 'Dominica'\n\\item 'Dominican Republic'\n\\item 'Ecuador'\n\\item 'El Salvador'\n\\item 'Falkland Islands (Islas Malvinas)'\n\\item 'French Guiana'\n\\item 'Grenada'\n\\item 'Guadeloupe'\n\\item 'Guatemala'\n\\item 'Guyana'\n\\item 'Haiti'\n\\item 'Honduras'\n\\item 'Jamaica'\n\\item 'Martinique'\n\\item 'Montserrat'\n\\item 'Netherlands Antilles'\n\\item 'Nicaragua'\n\\item 'Panama'\n\\item 'Paraguay'\n\\item 'Peru'\n\\item 'Puerto Rico'\n\\item 'Saint Kitts and Nevis'\n\\item 'Saint Lucia'\n\\item 'Saint Vincent/Grenadines'\n\\item 'Suriname'\n\\item 'Trinidad and Tobago'\n\\item 'Turks and Caicos Islands'\n\\item 'Uruguay'\n\\item 'Venezuela'\n\\item 'Virgin Islands,  U.S.'\n\\item 'Virgin Islands, British'\n\\item 'Albania'\n\\item 'Austria'\n\\item 'Belgium'\n\\item 'Bosnia and Herzegovina'\n\\item 'Bulgaria'\n\\item 'Croatia'\n\\item 'Cyprus'\n\\item 'Czech Republic'\n\\item 'Denmark'\n\\item 'Faroe Islands'\n\\item 'Finland'\n\\item 'Former Czechoslovakia'\n\\item 'Former Serbia and Montenegro'\n\\item 'Former Yugoslavia'\n\\item 'France'\n\\item 'Germany'\n\\item 'Germany, East'\n\\item 'Germany, West'\n\\item 'Gibraltar'\n\\item 'Greece'\n\\item 'Hungary'\n\\item 'Iceland'\n\\item 'Ireland'\n\\item 'Italy'\n\\item 'Luxembourg'\n\\item 'Macedonia'\n\\item 'Malta'\n\\item 'Montenegro'\n\\item 'Netherlands'\n\\item 'Norway'\n\\item 'Poland'\n\\item 'Portugal'\n\\item 'Romania'\n\\item 'Serbia'\n\\item 'Slovakia'\n\\item 'Slovenia'\n\\item 'Spain'\n\\item 'Sweden'\n\\item 'Switzerland'\n\\item 'Turkey'\n\\item 'United Kingdom'\n\\item 'Armenia'\n\\item 'Azerbaijan'\n\\item 'Belarus'\n\\item 'Estonia'\n\\item 'Former U.S.S.R.'\n\\item 'Georgia'\n\\item 'Kazakhstan'\n\\item 'Kyrgyzstan'\n\\item 'Latvia'\n\\item 'Lithuania'\n\\item 'Moldova'\n\\item 'Russia'\n\\item 'Tajikistan'\n\\item 'Turkmenistan'\n\\item 'Ukraine'\n\\item 'Uzbekistan'\n\\item 'Bahrain'\n\\item 'Iran'\n\\item 'Iraq'\n\\item 'Israel'\n\\item 'Jordan'\n\\item 'Kuwait'\n\\item 'Lebanon'\n\\item 'Oman'\n\\item 'Palestine'\n\\item 'Qatar'\n\\item 'Saudi Arabia'\n\\item 'Syria'\n\\item 'United Arab Emirates'\n\\item 'Yemen'\n\\item 'Algeria'\n\\item 'Angola'\n\\item 'Benin'\n\\item 'Botswana'\n\\item 'Burkina Faso'\n\\item 'Burundi'\n\\item 'Cameroon'\n\\item 'Cape Verde'\n\\item 'Central African Republic'\n\\item 'Chad'\n\\item 'Comoros'\n\\item 'Congo (Brazzaville)'\n\\item 'Congo (Kinshasa)'\n\\item 'Cote dIvoire (IvoryCoast)'\n\\item 'Djibouti'\n\\item 'Egypt'\n\\item 'Equatorial Guinea'\n\\item 'Eritrea'\n\\item 'Ethiopia'\n\\item 'Gabon'\n\\item 'Gambia, The'\n\\item 'Ghana'\n\\item 'Guinea'\n\\item 'Guinea-Bissau'\n\\item 'Kenya'\n\\item 'Lesotho'\n\\item 'Liberia'\n\\item 'Libya'\n\\item 'Madagascar'\n\\item 'Malawi'\n\\item 'Mali'\n\\item 'Mauritania'\n\\item 'Mauritius'\n\\item 'Morocco'\n\\item 'Mozambique'\n\\item 'Namibia'\n\\item 'Niger'\n\\item 'Nigeria'\n\\item 'Reunion'\n\\item 'Rwanda'\n\\item 'Saint Helena'\n\\item 'Sao Tome and Principe'\n\\item 'Senegal'\n\\item 'Seychelles'\n\\item 'Sierra Leone'\n\\item 'Somalia'\n\\item 'South Africa'\n\\item 'Sudan'\n\\item 'Swaziland'\n\\item 'Tanzania'\n\\item 'Togo'\n\\item 'Tunisia'\n\\item 'Uganda'\n\\item 'Western Sahara'\n\\item 'Zambia'\n\\item 'Zimbabwe'\n\\item 'Afghanistan'\n\\item 'American Samoa'\n\\item 'Australia'\n\\item 'Bangladesh'\n\\item 'Bhutan'\n\\item 'Brunei'\n\\item 'Burma (Myanmar)'\n\\item 'Cambodia'\n\\item 'China'\n\\item 'Cook Islands'\n\\item 'Fiji'\n\\item 'French Polynesia'\n\\item 'Guam'\n\\item 'Hawaiian Trade Zone'\n\\item 'Hong Kong'\n\\item 'India'\n\\item 'Indonesia'\n\\item 'Japan'\n\\item 'Kiribati'\n\\item 'Korea, North'\n\\item 'Korea, South'\n\\item 'Laos'\n\\item 'Macau'\n\\item 'Malaysia'\n\\item 'Maldives'\n\\item 'Mongolia'\n\\item 'Nauru'\n\\item 'Nepal'\n\\item 'New Caledonia'\n\\item 'New Zealand'\n\\item 'Niue'\n\\item 'Pakistan'\n\\item 'Papua New Guinea'\n\\item 'Philippines'\n\\item 'Samoa'\n\\item 'Singapore'\n\\item 'Solomon Islands'\n\\item 'Sri Lanka'\n\\item 'Taiwan'\n\\item 'Thailand'\n\\item 'Timor-Leste (East Timor)'\n\\item 'Tonga'\n\\item 'U.S. Pacific Islands'\n\\item 'Vanuatu'\n\\item 'Vietnam'\n\\item 'Wake Island'\n\\end{enumerate*}\n",
            "text/plain": [
              "  [1] \"Bermuda\"                           \"Canada\"                           \n",
              "  [3] \"Greenland\"                         \"Mexico\"                           \n",
              "  [5] \"Saint Pierre and Miquelon\"         \"United States\"                    \n",
              "  [7] \"Antigua and Barbuda\"               \"Argentina\"                        \n",
              "  [9] \"Aruba\"                             \"Bahamas, The\"                     \n",
              " [11] \"Barbados\"                          \"Belize\"                           \n",
              " [13] \"Bolivia\"                           \"Brazil\"                           \n",
              " [15] \"Cayman Islands\"                    \"Chile\"                            \n",
              " [17] \"Colombia\"                          \"Costa Rica\"                       \n",
              " [19] \"Cuba\"                              \"Dominica\"                         \n",
              " [21] \"Dominican Republic\"                \"Ecuador\"                          \n",
              " [23] \"El Salvador\"                       \"Falkland Islands (Islas Malvinas)\"\n",
              " [25] \"French Guiana\"                     \"Grenada\"                          \n",
              " [27] \"Guadeloupe\"                        \"Guatemala\"                        \n",
              " [29] \"Guyana\"                            \"Haiti\"                            \n",
              " [31] \"Honduras\"                          \"Jamaica\"                          \n",
              " [33] \"Martinique\"                        \"Montserrat\"                       \n",
              " [35] \"Netherlands Antilles\"              \"Nicaragua\"                        \n",
              " [37] \"Panama\"                            \"Paraguay\"                         \n",
              " [39] \"Peru\"                              \"Puerto Rico\"                      \n",
              " [41] \"Saint Kitts and Nevis\"             \"Saint Lucia\"                      \n",
              " [43] \"Saint Vincent/Grenadines\"          \"Suriname\"                         \n",
              " [45] \"Trinidad and Tobago\"               \"Turks and Caicos Islands\"         \n",
              " [47] \"Uruguay\"                           \"Venezuela\"                        \n",
              " [49] \"Virgin Islands,  U.S.\"             \"Virgin Islands, British\"          \n",
              " [51] \"Albania\"                           \"Austria\"                          \n",
              " [53] \"Belgium\"                           \"Bosnia and Herzegovina\"           \n",
              " [55] \"Bulgaria\"                          \"Croatia\"                          \n",
              " [57] \"Cyprus\"                            \"Czech Republic\"                   \n",
              " [59] \"Denmark\"                           \"Faroe Islands\"                    \n",
              " [61] \"Finland\"                           \"Former Czechoslovakia\"            \n",
              " [63] \"Former Serbia and Montenegro\"      \"Former Yugoslavia\"                \n",
              " [65] \"France\"                            \"Germany\"                          \n",
              " [67] \"Germany, East\"                     \"Germany, West\"                    \n",
              " [69] \"Gibraltar\"                         \"Greece\"                           \n",
              " [71] \"Hungary\"                           \"Iceland\"                          \n",
              " [73] \"Ireland\"                           \"Italy\"                            \n",
              " [75] \"Luxembourg\"                        \"Macedonia\"                        \n",
              " [77] \"Malta\"                             \"Montenegro\"                       \n",
              " [79] \"Netherlands\"                       \"Norway\"                           \n",
              " [81] \"Poland\"                            \"Portugal\"                         \n",
              " [83] \"Romania\"                           \"Serbia\"                           \n",
              " [85] \"Slovakia\"                          \"Slovenia\"                         \n",
              " [87] \"Spain\"                             \"Sweden\"                           \n",
              " [89] \"Switzerland\"                       \"Turkey\"                           \n",
              " [91] \"United Kingdom\"                    \"Armenia\"                          \n",
              " [93] \"Azerbaijan\"                        \"Belarus\"                          \n",
              " [95] \"Estonia\"                           \"Former U.S.S.R.\"                  \n",
              " [97] \"Georgia\"                           \"Kazakhstan\"                       \n",
              " [99] \"Kyrgyzstan\"                        \"Latvia\"                           \n",
              "[101] \"Lithuania\"                         \"Moldova\"                          \n",
              "[103] \"Russia\"                            \"Tajikistan\"                       \n",
              "[105] \"Turkmenistan\"                      \"Ukraine\"                          \n",
              "[107] \"Uzbekistan\"                        \"Bahrain\"                          \n",
              "[109] \"Iran\"                              \"Iraq\"                             \n",
              "[111] \"Israel\"                            \"Jordan\"                           \n",
              "[113] \"Kuwait\"                            \"Lebanon\"                          \n",
              "[115] \"Oman\"                              \"Palestine\"                        \n",
              "[117] \"Qatar\"                             \"Saudi Arabia\"                     \n",
              "[119] \"Syria\"                             \"United Arab Emirates\"             \n",
              "[121] \"Yemen\"                             \"Algeria\"                          \n",
              "[123] \"Angola\"                            \"Benin\"                            \n",
              "[125] \"Botswana\"                          \"Burkina Faso\"                     \n",
              "[127] \"Burundi\"                           \"Cameroon\"                         \n",
              "[129] \"Cape Verde\"                        \"Central African Republic\"         \n",
              "[131] \"Chad\"                              \"Comoros\"                          \n",
              "[133] \"Congo (Brazzaville)\"               \"Congo (Kinshasa)\"                 \n",
              "[135] \"Cote dIvoire (IvoryCoast)\"         \"Djibouti\"                         \n",
              "[137] \"Egypt\"                             \"Equatorial Guinea\"                \n",
              "[139] \"Eritrea\"                           \"Ethiopia\"                         \n",
              "[141] \"Gabon\"                             \"Gambia, The\"                      \n",
              "[143] \"Ghana\"                             \"Guinea\"                           \n",
              "[145] \"Guinea-Bissau\"                     \"Kenya\"                            \n",
              "[147] \"Lesotho\"                           \"Liberia\"                          \n",
              "[149] \"Libya\"                             \"Madagascar\"                       \n",
              "[151] \"Malawi\"                            \"Mali\"                             \n",
              "[153] \"Mauritania\"                        \"Mauritius\"                        \n",
              "[155] \"Morocco\"                           \"Mozambique\"                       \n",
              "[157] \"Namibia\"                           \"Niger\"                            \n",
              "[159] \"Nigeria\"                           \"Reunion\"                          \n",
              "[161] \"Rwanda\"                            \"Saint Helena\"                     \n",
              "[163] \"Sao Tome and Principe\"             \"Senegal\"                          \n",
              "[165] \"Seychelles\"                        \"Sierra Leone\"                     \n",
              "[167] \"Somalia\"                           \"South Africa\"                     \n",
              "[169] \"Sudan\"                             \"Swaziland\"                        \n",
              "[171] \"Tanzania\"                          \"Togo\"                             \n",
              "[173] \"Tunisia\"                           \"Uganda\"                           \n",
              "[175] \"Western Sahara\"                    \"Zambia\"                           \n",
              "[177] \"Zimbabwe\"                          \"Afghanistan\"                      \n",
              "[179] \"American Samoa\"                    \"Australia\"                        \n",
              "[181] \"Bangladesh\"                        \"Bhutan\"                           \n",
              "[183] \"Brunei\"                            \"Burma (Myanmar)\"                  \n",
              "[185] \"Cambodia\"                          \"China\"                            \n",
              "[187] \"Cook Islands\"                      \"Fiji\"                             \n",
              "[189] \"French Polynesia\"                  \"Guam\"                             \n",
              "[191] \"Hawaiian Trade Zone\"               \"Hong Kong\"                        \n",
              "[193] \"India\"                             \"Indonesia\"                        \n",
              "[195] \"Japan\"                             \"Kiribati\"                         \n",
              "[197] \"Korea, North\"                      \"Korea, South\"                     \n",
              "[199] \"Laos\"                              \"Macau\"                            \n",
              "[201] \"Malaysia\"                          \"Maldives\"                         \n",
              "[203] \"Mongolia\"                          \"Nauru\"                            \n",
              "[205] \"Nepal\"                             \"New Caledonia\"                    \n",
              "[207] \"New Zealand\"                       \"Niue\"                             \n",
              "[209] \"Pakistan\"                          \"Papua New Guinea\"                 \n",
              "[211] \"Philippines\"                       \"Samoa\"                            \n",
              "[213] \"Singapore\"                         \"Solomon Islands\"                  \n",
              "[215] \"Sri Lanka\"                         \"Taiwan\"                           \n",
              "[217] \"Thailand\"                          \"Timor-Leste (East Timor)\"         \n",
              "[219] \"Tonga\"                             \"U.S. Pacific Islands\"             \n",
              "[221] \"Vanuatu\"                           \"Vietnam\"                          \n",
              "[223] \"Wake Island\"                      "
            ]
          },
          "metadata": {}
        }
      ]
    },
    {
      "cell_type": "code",
      "source": [
        "# Start with a scatterplot\n",
        "ggplot(data=coal_region, mapping=aes(x=year, y=coal_consumption)) +\n",
        "  geom_point()"
      ],
      "metadata": {
        "colab": {
          "base_uri": "https://localhost:8080/",
          "height": 377
        },
        "id": "nKkRK1FjGNJh",
        "outputId": "812bc603-0104-427c-f829-0636408f8463"
      },
      "execution_count": 122,
      "outputs": [
        {
          "output_type": "display_data",
          "data": {
            "text/plain": [
              "plot without title"
            ],
            "image/png": "[encoded data removed]"
          },
          "metadata": {
            "image/png": {
              "width": 1200,
              "height": 360
            }
          }
        }
      ]
    },
    {
      "cell_type": "code",
      "source": [
        "# That looks like it should be a line graph\n",
        "ggplot(data=coal_region, mapping=aes(x=year, y=coal_consumption)) +\n",
        "  geom_line()"
      ],
      "metadata": {
        "colab": {
          "base_uri": "https://localhost:8080/",
          "height": 377
        },
        "id": "j-QTS2xNGNGJ",
        "outputId": "c1142d46-8d36-4967-c526-f0d889fa2fc9"
      },
      "execution_count": 123,
      "outputs": [
        {
          "output_type": "display_data",
          "data": {
            "text/plain": [
              "plot without title"
            ],
            "image/png": "[encoded data removed]"
          },
          "metadata": {
            "image/png": {
              "width": 1200,
              "height": 360
            }
          }
        }
      ]
    },
    {
      "cell_type": "code",
      "source": [
        "\n",
        "# Let's get a separate line for each region\n",
        "ggplot(data=coal_region, mapping=aes(x=year, y=coal_consumption)) +\n",
        "  geom_line(mapping=aes(color=region))"
      ],
      "metadata": {
        "colab": {
          "base_uri": "https://localhost:8080/",
          "height": 377
        },
        "id": "HqfKwEMiGNCh",
        "outputId": "5cb0ce1f-be6e-4b92-dd59-15ea133ad3ab"
      },
      "execution_count": 124,
      "outputs": [
        {
          "output_type": "display_data",
          "data": {
            "text/plain": [
              "plot without title"
            ],
            "image/png": "[encoded data removed]"
          },
          "metadata": {
            "image/png": {
              "width": 1200,
              "height": 360
            }
          }
        }
      ]
    },
    {
      "cell_type": "code",
      "source": [],
      "metadata": {
        "id": "4NFFdqt4Gr8h"
      },
      "execution_count": null,
      "outputs": []
    },
    {
      "cell_type": "code",
      "source": [],
      "metadata": {
        "id": "yQmh8tEIGr4_"
      },
      "execution_count": null,
      "outputs": []
    },
    {
      "cell_type": "code",
      "source": [],
      "metadata": {
        "id": "ocU87E24Gr17"
      },
      "execution_count": null,
      "outputs": []
    },
    {
      "cell_type": "code",
      "source": [],
      "metadata": {
        "id": "UQ06QegpGrzG"
      },
      "execution_count": null,
      "outputs": []
    },
    {
      "cell_type": "code",
      "source": [],
      "metadata": {
        "id": "lek5rPPlGrv2"
      },
      "execution_count": null,
      "outputs": []
    },
    {
      "cell_type": "code",
      "source": [],
      "metadata": {
        "id": "ji1qjslXGrtI"
      },
      "execution_count": null,
      "outputs": []
    },
    {
      "cell_type": "code",
      "source": [],
      "metadata": {
        "id": "am7vvpq0GrqL"
      },
      "execution_count": null,
      "outputs": []
    },
    {
      "cell_type": "code",
      "source": [],
      "metadata": {
        "id": "VffFrsWbGrnS"
      },
      "execution_count": null,
      "outputs": []
    },
    {
      "cell_type": "code",
      "source": [],
      "metadata": {
        "id": "dbgIKXu1GrkL"
      },
      "execution_count": null,
      "outputs": []
    }
  ]
}